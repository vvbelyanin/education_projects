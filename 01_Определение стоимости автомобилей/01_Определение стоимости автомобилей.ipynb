{
 "cells": [
  {
   "cell_type": "markdown",
   "metadata": {},
   "source": [
    "# Тема: Численные методы    \n",
    "# Проект: Определение стоимости автомобилей    "
   ]
  },
  {
   "cell_type": "markdown",
   "metadata": {},
   "source": [
    "Сервис по продаже автомобилей с пробегом «Не бит, не крашен» разрабатывает приложение для привлечения новых клиентов. В нём можно быстро узнать рыночную стоимость своего автомобиля. В вашем распоряжении исторические данные: технические характеристики, комплектации и цены автомобилей. Вам нужно построить модель для определения стоимости. \n",
    "\n",
    "Заказчику важны:\n",
    "\n",
    "- качество предсказания;\n",
    "- скорость предсказания;\n",
    "- время обучения."
   ]
  },
  {
   "cell_type": "markdown",
   "metadata": {},
   "source": [
    "**План выполнения проекта**\n",
    "\n",
    "Сохранена предложенная структура проекта    \n",
    "После каждого пункта следуют выводы и в заключение подводится общий итог\n",
    "\n",
    "- 1 Подготовка данных\n",
    "    - Импорт библиотек\n",
    "    - Открытие файла данных\n",
    "    - Анализ датасета\n",
    "- 2 Обучение моделей\n",
    "    - подбор моделей для регрессии\n",
    "    - выбор лучших моделей\n",
    "    - подбор основных гиперпараметров для этих моделей\n",
    "- 3 Анализ моделей\n",
    "    - анализ времени работы и метрик результатов работы моделей\n",
    "    - выбор лучшей модели и ее оценка на тестовой выборке\n",
    "    - подведение итогов"
   ]
  },
  {
   "cell_type": "markdown",
   "metadata": {},
   "source": [
    "## Подготовка данных"
   ]
  },
  {
   "cell_type": "code",
   "execution_count": 1,
   "metadata": {},
   "outputs": [],
   "source": [
    "# Импорт библиотек и задание параметров\n",
    "\n",
    "import os\n",
    "import pandas as pd\n",
    "import numpy as np\n",
    "import seaborn as sns\n",
    "import matplotlib.pyplot as plt\n",
    "import phik\n",
    "import time\n",
    "import itertools\n",
    "from datetime import date\n",
    "\n",
    "from sklearn import set_config\n",
    "from sklearn.compose import ColumnTransformer\n",
    "from sklearn.dummy import DummyRegressor\n",
    "from sklearn.ensemble import RandomForestRegressor, GradientBoostingRegressor\n",
    "from sklearn.ensemble import HistGradientBoostingRegressor\n",
    "from sklearn.feature_extraction import FeatureHasher\n",
    "from sklearn.impute import SimpleImputer\n",
    "from sklearn.linear_model import LinearRegression, Ridge, ElasticNet, Lasso\n",
    "from sklearn.metrics import mean_squared_error as mse\n",
    "from sklearn.model_selection import train_test_split, GridSearchCV\n",
    "from sklearn.preprocessing import FunctionTransformer\n",
    "from sklearn.preprocessing import StandardScaler, OneHotEncoder, QuantileTransformer\n",
    "from sklearn.preprocessing import MinMaxScaler, RobustScaler\n",
    "from sklearn.pipeline import Pipeline\n",
    "from sklearn.tree import DecisionTreeRegressor\n",
    "\n",
    "from category_encoders import TargetEncoder, CatBoostEncoder, BinaryEncoder\n",
    "from xgboost import XGBRegressor\n",
    "from catboost import CatBoostRegressor\n",
    "from lightgbm import LGBMRegressor\n",
    "\n",
    "set_config(transform_output=\"pandas\")\n",
    "plt.rcParams[\"figure.figsize\"] = (20, 5)\n",
    "pd.options.display.precision = 2\n",
    "RANDOM_STATE = 42"
   ]
  },
  {
   "cell_type": "code",
   "execution_count": 2,
   "metadata": {},
   "outputs": [],
   "source": [
    "# Загрузка данных и вывод статистик\n",
    "\n",
    "def load_df(file_name, sep=',', path='Yandex®', **params):\n",
    "    \n",
    "    pth1 = file_name\n",
    "    pth2 = path + file_name\n",
    "\n",
    "\n",
    "    if os.path.exists(pth1):\n",
    "        return pd.read_csv(pth1, **params)\n",
    "    elif os.path.exists(pth2):\n",
    "        return pd.read_csv(pth2, **params)\n",
    "    else:\n",
    "        print(f\"Cannot find file {file_name} in the local folders, loading from remote\")\n",
    "        return pd.read_csv(pth2, **params)\n",
    "    \n",
    "def display_statistics(data, freq_values=True):\n",
    "    \n",
    "    if freq_values:\n",
    "        freq_name = 'freq_values'\n",
    "        freq_num = 3\n",
    "    else:\n",
    "        freq_name = 'most_freq'\n",
    "        freq_num = 1\n",
    "    return pd.DataFrame(\n",
    "        {'type': [data[x].dtypes for x in data.columns],\n",
    "         'count' : [data[x].count() for x in data.columns],\n",
    "         'NaNs' : [data[x].isna().sum() for x in data.columns],\n",
    "         'zero_values': [data[x].eq(0).sum() for x in data.columns],\n",
    "         'unique_values': [data[x].nunique() for x in data.columns],\n",
    "         freq_name: [data[x].value_counts().head(freq_num).to_dict() for x in data.columns],\n",
    "         'min': [data[x].min() if data[x].dtype!=object else '---' for x in data.columns],\n",
    "         'mean': [data[x].mean() if data[x].dtype!=object else '---' for x in data.columns],\n",
    "         'max': [data[x].max() if data[x].dtype!=object else '---' for x in data.columns],\n",
    "         'std': [data[x].std() if data[x].dtype!=object else '---' for x in data.columns],\n",
    "         'lo_count': [lo_hi_count(data, x) for x in data.columns],\n",
    "         'hi_count': [lo_hi_count(data, x, low=False) for x in data.columns],\n",
    "        }, index = [x for x in data.columns])\n",
    "\n",
    "def lo_hi_count(data, col, low=True):\n",
    "    \n",
    "    if data[col].dtype not in [float, int, 'datetime64[ns]']:\n",
    "        return '---'\n",
    "    Q1 = np.nanquantile(data[col], 0.25)\n",
    "    Q3 = np.nanquantile(data[col], 0.75)\n",
    "    if low:\n",
    "        return data[data[col] <= Q1 - 1.5 * (Q3 - Q1)][col].count()\n",
    "    else:\n",
    "        return data[data[col] >= Q3 + 1.5 * (Q3 - Q1)][col].count()"
   ]
  },
  {
   "cell_type": "code",
   "execution_count": 3,
   "metadata": {},
   "outputs": [],
   "source": [
    "# Разбиение датасета на выборки\n",
    "\n",
    "def train_test_val_split(data, train_size=0.7, test_val_ratio=0.5, drop_target='price', silent=False, random_state=RANDOM_STATE):\n",
    "    \n",
    "    X_train, X_test, y_train, y_test = train_test_split(data.drop(drop_target, axis=1) , \n",
    "                                                        data[drop_target], \n",
    "                                                        train_size=train_size, \n",
    "                                                        shuffle=True, \n",
    "                                                        random_state=random_state)\n",
    "    X_test, X_valid, y_test, y_valid = train_test_split(X_test, y_test, \n",
    "                                                        train_size=test_val_ratio, \n",
    "                                                        shuffle=True, \n",
    "                                                        random_state=random_state)\n",
    "    if not silent:\n",
    "        print(f'Обучающий набор: X: {X_train.shape}, y: {y_train.shape}')\n",
    "        print(f'Валидационный набор: X: {X_valid.shape}, y: {y_valid.shape}')\n",
    "        print(f'Тестовый набор: X: {X_test.shape}, y: {y_test.shape}') \n",
    "    \n",
    "    return X_train, X_valid, X_test, y_train, y_valid, y_test\n",
    "\n",
    "\n",
    "# Измерение времени обучения и предсказания\n",
    "\n",
    "def fit_predict_mark_time(model_name, model, X_train, y_train, X_valid, y_valid, verbose=True, tune='[default]'):\n",
    "   \n",
    "    start = time.time()\n",
    "    model.fit(X_train, y_train)\n",
    "    fit_time = round(time.time() - start)\n",
    "\n",
    "    start = time.time()\n",
    "    y_pred = model.predict(X_train)\n",
    "    predict_train_time = round(time.time() - start) \n",
    "    rmse_train = mse(y_train, y_pred, squared=False).round(2)\n",
    "    \n",
    "    start = time.time()\n",
    "    y_pred = model.predict(X_valid)\n",
    "    predict_valid_time = round(time.time() - start) \n",
    "    rmse_valid = mse(y_valid, y_pred, squared=False).round(2)\n",
    "    \n",
    "    if tune != '[default]':\n",
    "        tune = [_ for _ in tune.values()]\n",
    "    if verbose:\n",
    "        print(f'{model_name}:{tune}'.ljust(35), \n",
    "              f'RMSE (train/valid): {rmse_train}/{rmse_valid},', \n",
    "              f'time (fit/train/valid, s): {fit_time}/{predict_train_time}/{predict_valid_time}')\n",
    "\n",
    "    return [rmse_train, rmse_valid, fit_time, predict_train_time, predict_valid_time, model.get_params()]"
   ]
  },
  {
   "cell_type": "code",
   "execution_count": 4,
   "metadata": {},
   "outputs": [],
   "source": [
    "# Кодирование числовых переменных\n",
    "\n",
    "def scale(scaler, subsets):\n",
    "    \n",
    "    X_train, X_valid, X_test, y_train, y_valid, y_test = subsets\n",
    "    features = list(X_train.columns)\n",
    "    print(f'{scaler}'.ljust(20), end=\":\")\n",
    "    \n",
    "    return (pd.DataFrame(scaler.fit_transform(X_train), columns=features), \n",
    "                pd.DataFrame(scaler.transform(X_valid), columns=features), \n",
    "                X_test, y_train, y_valid, y_test)"
   ]
  },
  {
   "cell_type": "code",
   "execution_count": 5,
   "metadata": {},
   "outputs": [],
   "source": [
    "# Кодирование категориальных переменных\n",
    "\n",
    "def encode(encoder, subsets):\n",
    "    encoder = encoder()\n",
    "    X_train, X_valid, X_test, y_train, y_valid, y_test = subsets\n",
    "    X_train = encoder.fit_transform(X_train, y_train)\n",
    "    X_valid = encoder.transform(X_valid)\n",
    "    \n",
    "    return X_train, X_valid, X_test, y_train, y_valid, y_test\n",
    "\n",
    "def one_hot_encoder(subsets):\n",
    "    encoder = OneHotEncoder(sparse_output=False, handle_unknown='ignore', drop='first')\n",
    "    target = ['model_name']\n",
    "    X_train, X_valid, X_test, y_train, y_valid, y_test = subsets\n",
    "    columns_to_drop = list(X_train.select_dtypes(include=object).columns)\n",
    "\n",
    "    X_array = encoder.fit_transform(X_train[target])\n",
    "    X_train = X_train.drop(columns_to_drop,axis=1).join(X_array)\n",
    "    X_array = encoder.transform(X_valid[target]) \n",
    "    X_valid = X_valid.drop(columns_to_drop,axis=1).join(X_array)\n",
    "    \n",
    "    return X_train, X_valid, X_test, y_train, y_valid, y_test\n",
    "\n",
    "def feature_hasher(subsets):\n",
    "    X_train, X_valid, X_test, y_train, y_valid, y_test = subsets\n",
    "    hasher = FeatureHasher(n_features=50, input_type='string')\n",
    "    columns_to_drop = list(X_train.select_dtypes(include=object).columns)\n",
    "    \n",
    "    X_hashed = hasher.fit_transform(X_train['model_name'].to_numpy().reshape(-1,1))\n",
    "    X_train = X_train.drop(columns_to_drop, axis=1)\n",
    "    X_hashed = pd.DataFrame(X_hashed.toarray(), index=X_train.index)\n",
    "    X_train = X_train.join(X_hashed)\n",
    "\n",
    "    X_hashed_valid = hasher.transform(X_valid['model_name'].to_numpy().reshape(-1,1))\n",
    "    X_valid = X_valid.drop(columns_to_drop, axis=1)\n",
    "    X_hashed_valid = pd.DataFrame(X_hashed_valid.toarray(), index=X_valid.index)\n",
    "    X_valid = X_valid.join(X_hashed_valid)\n",
    "\n",
    "    return X_train, X_valid, X_test, y_train, y_valid, y_test"
   ]
  },
  {
   "cell_type": "code",
   "execution_count": 6,
   "metadata": {},
   "outputs": [
    {
     "name": "stdout",
     "output_type": "stream",
     "text": [
      "Cannot find file autos.csv in the local folders, loading from remote\n",
      "<class 'pandas.core.frame.DataFrame'>\n",
      "RangeIndex: 354369 entries, 0 to 354368\n",
      "Data columns (total 16 columns):\n",
      " #   Column             Non-Null Count   Dtype         \n",
      "---  ------             --------------   -----         \n",
      " 0   DateCrawled        354369 non-null  datetime64[ns]\n",
      " 1   Price              354369 non-null  int64         \n",
      " 2   VehicleType        316879 non-null  object        \n",
      " 3   RegistrationYear   354369 non-null  int64         \n",
      " 4   Gearbox            334536 non-null  object        \n",
      " 5   Power              354369 non-null  int64         \n",
      " 6   Model              334664 non-null  object        \n",
      " 7   Kilometer          354369 non-null  int64         \n",
      " 8   RegistrationMonth  354369 non-null  int64         \n",
      " 9   FuelType           321474 non-null  object        \n",
      " 10  Brand              354369 non-null  object        \n",
      " 11  Repaired           283215 non-null  object        \n",
      " 12  DateCreated        354369 non-null  datetime64[ns]\n",
      " 13  NumberOfPictures   354369 non-null  int64         \n",
      " 14  PostalCode         354369 non-null  int64         \n",
      " 15  LastSeen           354369 non-null  datetime64[ns]\n",
      "dtypes: datetime64[ns](3), int64(7), object(6)\n",
      "memory usage: 43.3+ MB\n"
     ]
    },
    {
     "data": {
      "text/html": [
       "<div>\n",
       "<style scoped>\n",
       "    .dataframe tbody tr th:only-of-type {\n",
       "        vertical-align: middle;\n",
       "    }\n",
       "\n",
       "    .dataframe tbody tr th {\n",
       "        vertical-align: top;\n",
       "    }\n",
       "\n",
       "    .dataframe thead th {\n",
       "        text-align: right;\n",
       "    }\n",
       "</style>\n",
       "<table border=\"1\" class=\"dataframe\">\n",
       "  <thead>\n",
       "    <tr style=\"text-align: right;\">\n",
       "      <th></th>\n",
       "      <th>DateCrawled</th>\n",
       "      <th>Price</th>\n",
       "      <th>VehicleType</th>\n",
       "      <th>RegistrationYear</th>\n",
       "      <th>Gearbox</th>\n",
       "      <th>Power</th>\n",
       "      <th>Model</th>\n",
       "      <th>Kilometer</th>\n",
       "      <th>RegistrationMonth</th>\n",
       "      <th>FuelType</th>\n",
       "      <th>Brand</th>\n",
       "      <th>Repaired</th>\n",
       "      <th>DateCreated</th>\n",
       "      <th>NumberOfPictures</th>\n",
       "      <th>PostalCode</th>\n",
       "      <th>LastSeen</th>\n",
       "    </tr>\n",
       "  </thead>\n",
       "  <tbody>\n",
       "    <tr>\n",
       "      <th>0</th>\n",
       "      <td>2016-03-24 11:52:17</td>\n",
       "      <td>480</td>\n",
       "      <td>NaN</td>\n",
       "      <td>1993</td>\n",
       "      <td>manual</td>\n",
       "      <td>0</td>\n",
       "      <td>golf</td>\n",
       "      <td>150000</td>\n",
       "      <td>0</td>\n",
       "      <td>petrol</td>\n",
       "      <td>volkswagen</td>\n",
       "      <td>NaN</td>\n",
       "      <td>2016-03-24</td>\n",
       "      <td>0</td>\n",
       "      <td>70435</td>\n",
       "      <td>2016-04-07 03:16:57</td>\n",
       "    </tr>\n",
       "    <tr>\n",
       "      <th>1</th>\n",
       "      <td>2016-03-24 10:58:45</td>\n",
       "      <td>18300</td>\n",
       "      <td>coupe</td>\n",
       "      <td>2011</td>\n",
       "      <td>manual</td>\n",
       "      <td>190</td>\n",
       "      <td>NaN</td>\n",
       "      <td>125000</td>\n",
       "      <td>5</td>\n",
       "      <td>gasoline</td>\n",
       "      <td>audi</td>\n",
       "      <td>yes</td>\n",
       "      <td>2016-03-24</td>\n",
       "      <td>0</td>\n",
       "      <td>66954</td>\n",
       "      <td>2016-04-07 01:46:50</td>\n",
       "    </tr>\n",
       "    <tr>\n",
       "      <th>2</th>\n",
       "      <td>2016-03-14 12:52:21</td>\n",
       "      <td>9800</td>\n",
       "      <td>suv</td>\n",
       "      <td>2004</td>\n",
       "      <td>auto</td>\n",
       "      <td>163</td>\n",
       "      <td>grand</td>\n",
       "      <td>125000</td>\n",
       "      <td>8</td>\n",
       "      <td>gasoline</td>\n",
       "      <td>jeep</td>\n",
       "      <td>NaN</td>\n",
       "      <td>2016-03-14</td>\n",
       "      <td>0</td>\n",
       "      <td>90480</td>\n",
       "      <td>2016-04-05 12:47:46</td>\n",
       "    </tr>\n",
       "    <tr>\n",
       "      <th>3</th>\n",
       "      <td>2016-03-17 16:54:04</td>\n",
       "      <td>1500</td>\n",
       "      <td>small</td>\n",
       "      <td>2001</td>\n",
       "      <td>manual</td>\n",
       "      <td>75</td>\n",
       "      <td>golf</td>\n",
       "      <td>150000</td>\n",
       "      <td>6</td>\n",
       "      <td>petrol</td>\n",
       "      <td>volkswagen</td>\n",
       "      <td>no</td>\n",
       "      <td>2016-03-17</td>\n",
       "      <td>0</td>\n",
       "      <td>91074</td>\n",
       "      <td>2016-03-17 17:40:17</td>\n",
       "    </tr>\n",
       "    <tr>\n",
       "      <th>4</th>\n",
       "      <td>2016-03-31 17:25:20</td>\n",
       "      <td>3600</td>\n",
       "      <td>small</td>\n",
       "      <td>2008</td>\n",
       "      <td>manual</td>\n",
       "      <td>69</td>\n",
       "      <td>fabia</td>\n",
       "      <td>90000</td>\n",
       "      <td>7</td>\n",
       "      <td>gasoline</td>\n",
       "      <td>skoda</td>\n",
       "      <td>no</td>\n",
       "      <td>2016-03-31</td>\n",
       "      <td>0</td>\n",
       "      <td>60437</td>\n",
       "      <td>2016-04-06 10:17:21</td>\n",
       "    </tr>\n",
       "  </tbody>\n",
       "</table>\n",
       "</div>"
      ],
      "text/plain": [
       "          DateCrawled  Price VehicleType  RegistrationYear Gearbox  Power  \\\n",
       "0 2016-03-24 11:52:17    480         NaN              1993  manual      0   \n",
       "1 2016-03-24 10:58:45  18300       coupe              2011  manual    190   \n",
       "2 2016-03-14 12:52:21   9800         suv              2004    auto    163   \n",
       "3 2016-03-17 16:54:04   1500       small              2001  manual     75   \n",
       "4 2016-03-31 17:25:20   3600       small              2008  manual     69   \n",
       "\n",
       "   Model  Kilometer  RegistrationMonth  FuelType       Brand Repaired  \\\n",
       "0   golf     150000                  0    petrol  volkswagen      NaN   \n",
       "1    NaN     125000                  5  gasoline        audi      yes   \n",
       "2  grand     125000                  8  gasoline        jeep      NaN   \n",
       "3   golf     150000                  6    petrol  volkswagen       no   \n",
       "4  fabia      90000                  7  gasoline       skoda       no   \n",
       "\n",
       "  DateCreated  NumberOfPictures  PostalCode            LastSeen  \n",
       "0  2016-03-24                 0       70435 2016-04-07 03:16:57  \n",
       "1  2016-03-24                 0       66954 2016-04-07 01:46:50  \n",
       "2  2016-03-14                 0       90480 2016-04-05 12:47:46  \n",
       "3  2016-03-17                 0       91074 2016-03-17 17:40:17  \n",
       "4  2016-03-31                 0       60437 2016-04-06 10:17:21  "
      ]
     },
     "execution_count": 6,
     "metadata": {},
     "output_type": "execute_result"
    }
   ],
   "source": [
    "# Загрузка датасета и вывод информации\n",
    "\n",
    "df_raw = load_df('autos.csv', parse_dates=['DateCrawled', 'DateCreated', 'LastSeen'])\n",
    "df_raw.info()\n",
    "df_raw.head()"
   ]
  },
  {
   "cell_type": "code",
   "execution_count": 7,
   "metadata": {},
   "outputs": [
    {
     "data": {
      "text/html": [
       "<div>\n",
       "<style scoped>\n",
       "    .dataframe tbody tr th:only-of-type {\n",
       "        vertical-align: middle;\n",
       "    }\n",
       "\n",
       "    .dataframe tbody tr th {\n",
       "        vertical-align: top;\n",
       "    }\n",
       "\n",
       "    .dataframe thead th {\n",
       "        text-align: right;\n",
       "    }\n",
       "</style>\n",
       "<table border=\"1\" class=\"dataframe\">\n",
       "  <thead>\n",
       "    <tr style=\"text-align: right;\">\n",
       "      <th></th>\n",
       "      <th>type</th>\n",
       "      <th>count</th>\n",
       "      <th>NaNs</th>\n",
       "      <th>zero_values</th>\n",
       "      <th>unique_values</th>\n",
       "      <th>most_freq</th>\n",
       "      <th>min</th>\n",
       "      <th>mean</th>\n",
       "      <th>max</th>\n",
       "      <th>std</th>\n",
       "      <th>lo_count</th>\n",
       "      <th>hi_count</th>\n",
       "    </tr>\n",
       "  </thead>\n",
       "  <tbody>\n",
       "    <tr>\n",
       "      <th>DateCrawled</th>\n",
       "      <td>datetime64[ns]</td>\n",
       "      <td>354369</td>\n",
       "      <td>0</td>\n",
       "      <td>0</td>\n",
       "      <td>271174</td>\n",
       "      <td>{2016-03-24 14:49:47: 7}</td>\n",
       "      <td>2016-03-05 14:06:22</td>\n",
       "      <td>2016-03-21 12:58:10.450648320</td>\n",
       "      <td>2016-04-07 14:36:58</td>\n",
       "      <td>9 days 02:27:20.311635856</td>\n",
       "      <td>0</td>\n",
       "      <td>0</td>\n",
       "    </tr>\n",
       "    <tr>\n",
       "      <th>Price</th>\n",
       "      <td>int64</td>\n",
       "      <td>354369</td>\n",
       "      <td>0</td>\n",
       "      <td>10772</td>\n",
       "      <td>3731</td>\n",
       "      <td>{0: 10772}</td>\n",
       "      <td>0</td>\n",
       "      <td>4416.66</td>\n",
       "      <td>20000</td>\n",
       "      <td>4514.16</td>\n",
       "      <td>---</td>\n",
       "      <td>---</td>\n",
       "    </tr>\n",
       "    <tr>\n",
       "      <th>VehicleType</th>\n",
       "      <td>object</td>\n",
       "      <td>316879</td>\n",
       "      <td>37490</td>\n",
       "      <td>0</td>\n",
       "      <td>8</td>\n",
       "      <td>{'sedan': 91457}</td>\n",
       "      <td>---</td>\n",
       "      <td>---</td>\n",
       "      <td>---</td>\n",
       "      <td>---</td>\n",
       "      <td>---</td>\n",
       "      <td>---</td>\n",
       "    </tr>\n",
       "    <tr>\n",
       "      <th>RegistrationYear</th>\n",
       "      <td>int64</td>\n",
       "      <td>354369</td>\n",
       "      <td>0</td>\n",
       "      <td>0</td>\n",
       "      <td>151</td>\n",
       "      <td>{2000: 24490}</td>\n",
       "      <td>1000</td>\n",
       "      <td>2004.23</td>\n",
       "      <td>9999</td>\n",
       "      <td>90.23</td>\n",
       "      <td>---</td>\n",
       "      <td>---</td>\n",
       "    </tr>\n",
       "    <tr>\n",
       "      <th>Gearbox</th>\n",
       "      <td>object</td>\n",
       "      <td>334536</td>\n",
       "      <td>19833</td>\n",
       "      <td>0</td>\n",
       "      <td>2</td>\n",
       "      <td>{'manual': 268251}</td>\n",
       "      <td>---</td>\n",
       "      <td>---</td>\n",
       "      <td>---</td>\n",
       "      <td>---</td>\n",
       "      <td>---</td>\n",
       "      <td>---</td>\n",
       "    </tr>\n",
       "    <tr>\n",
       "      <th>Power</th>\n",
       "      <td>int64</td>\n",
       "      <td>354369</td>\n",
       "      <td>0</td>\n",
       "      <td>40225</td>\n",
       "      <td>712</td>\n",
       "      <td>{0: 40225}</td>\n",
       "      <td>0</td>\n",
       "      <td>110.09</td>\n",
       "      <td>20000</td>\n",
       "      <td>189.85</td>\n",
       "      <td>---</td>\n",
       "      <td>---</td>\n",
       "    </tr>\n",
       "    <tr>\n",
       "      <th>Model</th>\n",
       "      <td>object</td>\n",
       "      <td>334664</td>\n",
       "      <td>19705</td>\n",
       "      <td>0</td>\n",
       "      <td>250</td>\n",
       "      <td>{'golf': 29232}</td>\n",
       "      <td>---</td>\n",
       "      <td>---</td>\n",
       "      <td>---</td>\n",
       "      <td>---</td>\n",
       "      <td>---</td>\n",
       "      <td>---</td>\n",
       "    </tr>\n",
       "    <tr>\n",
       "      <th>Kilometer</th>\n",
       "      <td>int64</td>\n",
       "      <td>354369</td>\n",
       "      <td>0</td>\n",
       "      <td>0</td>\n",
       "      <td>13</td>\n",
       "      <td>{150000: 238209}</td>\n",
       "      <td>5000</td>\n",
       "      <td>128211.17</td>\n",
       "      <td>150000</td>\n",
       "      <td>37905.34</td>\n",
       "      <td>---</td>\n",
       "      <td>---</td>\n",
       "    </tr>\n",
       "    <tr>\n",
       "      <th>RegistrationMonth</th>\n",
       "      <td>int64</td>\n",
       "      <td>354369</td>\n",
       "      <td>0</td>\n",
       "      <td>37352</td>\n",
       "      <td>13</td>\n",
       "      <td>{0: 37352}</td>\n",
       "      <td>0</td>\n",
       "      <td>5.71</td>\n",
       "      <td>12</td>\n",
       "      <td>3.73</td>\n",
       "      <td>---</td>\n",
       "      <td>---</td>\n",
       "    </tr>\n",
       "    <tr>\n",
       "      <th>FuelType</th>\n",
       "      <td>object</td>\n",
       "      <td>321474</td>\n",
       "      <td>32895</td>\n",
       "      <td>0</td>\n",
       "      <td>7</td>\n",
       "      <td>{'petrol': 216352}</td>\n",
       "      <td>---</td>\n",
       "      <td>---</td>\n",
       "      <td>---</td>\n",
       "      <td>---</td>\n",
       "      <td>---</td>\n",
       "      <td>---</td>\n",
       "    </tr>\n",
       "    <tr>\n",
       "      <th>Brand</th>\n",
       "      <td>object</td>\n",
       "      <td>354369</td>\n",
       "      <td>0</td>\n",
       "      <td>0</td>\n",
       "      <td>40</td>\n",
       "      <td>{'volkswagen': 77013}</td>\n",
       "      <td>---</td>\n",
       "      <td>---</td>\n",
       "      <td>---</td>\n",
       "      <td>---</td>\n",
       "      <td>---</td>\n",
       "      <td>---</td>\n",
       "    </tr>\n",
       "    <tr>\n",
       "      <th>Repaired</th>\n",
       "      <td>object</td>\n",
       "      <td>283215</td>\n",
       "      <td>71154</td>\n",
       "      <td>0</td>\n",
       "      <td>2</td>\n",
       "      <td>{'no': 247161}</td>\n",
       "      <td>---</td>\n",
       "      <td>---</td>\n",
       "      <td>---</td>\n",
       "      <td>---</td>\n",
       "      <td>---</td>\n",
       "      <td>---</td>\n",
       "    </tr>\n",
       "    <tr>\n",
       "      <th>DateCreated</th>\n",
       "      <td>datetime64[ns]</td>\n",
       "      <td>354369</td>\n",
       "      <td>0</td>\n",
       "      <td>0</td>\n",
       "      <td>109</td>\n",
       "      <td>{2016-04-03 00:00:00: 13719}</td>\n",
       "      <td>2014-03-10 00:00:00</td>\n",
       "      <td>2016-03-20 19:12:07.753274112</td>\n",
       "      <td>2016-04-07 00:00:00</td>\n",
       "      <td>9 days 09:16:08.631042450</td>\n",
       "      <td>233</td>\n",
       "      <td>0</td>\n",
       "    </tr>\n",
       "    <tr>\n",
       "      <th>NumberOfPictures</th>\n",
       "      <td>int64</td>\n",
       "      <td>354369</td>\n",
       "      <td>0</td>\n",
       "      <td>354369</td>\n",
       "      <td>1</td>\n",
       "      <td>{0: 354369}</td>\n",
       "      <td>0</td>\n",
       "      <td>0.0</td>\n",
       "      <td>0</td>\n",
       "      <td>0.0</td>\n",
       "      <td>---</td>\n",
       "      <td>---</td>\n",
       "    </tr>\n",
       "    <tr>\n",
       "      <th>PostalCode</th>\n",
       "      <td>int64</td>\n",
       "      <td>354369</td>\n",
       "      <td>0</td>\n",
       "      <td>0</td>\n",
       "      <td>8143</td>\n",
       "      <td>{10115: 819}</td>\n",
       "      <td>1067</td>\n",
       "      <td>50508.69</td>\n",
       "      <td>99998</td>\n",
       "      <td>25783.1</td>\n",
       "      <td>---</td>\n",
       "      <td>---</td>\n",
       "    </tr>\n",
       "    <tr>\n",
       "      <th>LastSeen</th>\n",
       "      <td>datetime64[ns]</td>\n",
       "      <td>354369</td>\n",
       "      <td>0</td>\n",
       "      <td>0</td>\n",
       "      <td>179150</td>\n",
       "      <td>{2016-04-06 13:45:54: 17}</td>\n",
       "      <td>2016-03-05 14:15:08</td>\n",
       "      <td>2016-03-29 23:51:00.667456768</td>\n",
       "      <td>2016-04-07 14:58:51</td>\n",
       "      <td>9 days 04:22:12.724249269</td>\n",
       "      <td>0</td>\n",
       "      <td>0</td>\n",
       "    </tr>\n",
       "  </tbody>\n",
       "</table>\n",
       "</div>"
      ],
      "text/plain": [
       "                             type   count   NaNs  zero_values  unique_values  \\\n",
       "DateCrawled        datetime64[ns]  354369      0            0         271174   \n",
       "Price                       int64  354369      0        10772           3731   \n",
       "VehicleType                object  316879  37490            0              8   \n",
       "RegistrationYear            int64  354369      0            0            151   \n",
       "Gearbox                    object  334536  19833            0              2   \n",
       "Power                       int64  354369      0        40225            712   \n",
       "Model                      object  334664  19705            0            250   \n",
       "Kilometer                   int64  354369      0            0             13   \n",
       "RegistrationMonth           int64  354369      0        37352             13   \n",
       "FuelType                   object  321474  32895            0              7   \n",
       "Brand                      object  354369      0            0             40   \n",
       "Repaired                   object  283215  71154            0              2   \n",
       "DateCreated        datetime64[ns]  354369      0            0            109   \n",
       "NumberOfPictures            int64  354369      0       354369              1   \n",
       "PostalCode                  int64  354369      0            0           8143   \n",
       "LastSeen           datetime64[ns]  354369      0            0         179150   \n",
       "\n",
       "                                      most_freq                  min  \\\n",
       "DateCrawled            {2016-03-24 14:49:47: 7}  2016-03-05 14:06:22   \n",
       "Price                                {0: 10772}                    0   \n",
       "VehicleType                    {'sedan': 91457}                  ---   \n",
       "RegistrationYear                  {2000: 24490}                 1000   \n",
       "Gearbox                      {'manual': 268251}                  ---   \n",
       "Power                                {0: 40225}                    0   \n",
       "Model                           {'golf': 29232}                  ---   \n",
       "Kilometer                      {150000: 238209}                 5000   \n",
       "RegistrationMonth                    {0: 37352}                    0   \n",
       "FuelType                     {'petrol': 216352}                  ---   \n",
       "Brand                     {'volkswagen': 77013}                  ---   \n",
       "Repaired                         {'no': 247161}                  ---   \n",
       "DateCreated        {2016-04-03 00:00:00: 13719}  2014-03-10 00:00:00   \n",
       "NumberOfPictures                    {0: 354369}                    0   \n",
       "PostalCode                         {10115: 819}                 1067   \n",
       "LastSeen              {2016-04-06 13:45:54: 17}  2016-03-05 14:15:08   \n",
       "\n",
       "                                            mean                  max  \\\n",
       "DateCrawled        2016-03-21 12:58:10.450648320  2016-04-07 14:36:58   \n",
       "Price                                    4416.66                20000   \n",
       "VehicleType                                  ---                  ---   \n",
       "RegistrationYear                         2004.23                 9999   \n",
       "Gearbox                                      ---                  ---   \n",
       "Power                                     110.09                20000   \n",
       "Model                                        ---                  ---   \n",
       "Kilometer                              128211.17               150000   \n",
       "RegistrationMonth                           5.71                   12   \n",
       "FuelType                                     ---                  ---   \n",
       "Brand                                        ---                  ---   \n",
       "Repaired                                     ---                  ---   \n",
       "DateCreated        2016-03-20 19:12:07.753274112  2016-04-07 00:00:00   \n",
       "NumberOfPictures                             0.0                    0   \n",
       "PostalCode                              50508.69                99998   \n",
       "LastSeen           2016-03-29 23:51:00.667456768  2016-04-07 14:58:51   \n",
       "\n",
       "                                         std lo_count hi_count  \n",
       "DateCrawled        9 days 02:27:20.311635856        0        0  \n",
       "Price                                4514.16      ---      ---  \n",
       "VehicleType                              ---      ---      ---  \n",
       "RegistrationYear                       90.23      ---      ---  \n",
       "Gearbox                                  ---      ---      ---  \n",
       "Power                                 189.85      ---      ---  \n",
       "Model                                    ---      ---      ---  \n",
       "Kilometer                           37905.34      ---      ---  \n",
       "RegistrationMonth                       3.73      ---      ---  \n",
       "FuelType                                 ---      ---      ---  \n",
       "Brand                                    ---      ---      ---  \n",
       "Repaired                                 ---      ---      ---  \n",
       "DateCreated        9 days 09:16:08.631042450      233        0  \n",
       "NumberOfPictures                         0.0      ---      ---  \n",
       "PostalCode                           25783.1      ---      ---  \n",
       "LastSeen           9 days 04:22:12.724249269        0        0  "
      ]
     },
     "execution_count": 7,
     "metadata": {},
     "output_type": "execute_result"
    }
   ],
   "source": [
    "display_statistics(df_raw, freq_values=False)"
   ]
  },
  {
   "cell_type": "markdown",
   "metadata": {},
   "source": [
    "Переименовываем столбцы as snake_style.  \n",
    "'registration_year' и 'registration_month' - отражают срок службы авто, преобразуем их в возраст машины, дату исследования берем из максимума значений столбцов даты.  \n",
    "Из 'brand' и 'model' создаем один признак - 'model_name'.\n",
    "Убираем дубликаты и лишние столбцы: 'date_crawled', 'date_created', 'number_of_pictures', 'postal_code', 'last_seen'.  \n",
    "Фильтруем столбцы, отсеивая следующие аномальные значения:  \n",
    "  - power - менее 10 и более 500  \n",
    "  - price - менее 500\n",
    "  - возраст менее 0 и более 100  \n",
    "  \n",
    "Убираем в таргете NaNs"
   ]
  },
  {
   "cell_type": "code",
   "execution_count": 8,
   "metadata": {},
   "outputs": [],
   "source": [
    "def rename_columns(df):\n",
    "    df.rename(columns = lambda string: ''.join(['_'+x.lower() \n",
    "                                                if x.isupper() and i!=0 \n",
    "                                                else x.lower() for i, x in enumerate(string)]),\n",
    "              inplace=True)\n",
    "    return df"
   ]
  },
  {
   "cell_type": "code",
   "execution_count": 9,
   "metadata": {},
   "outputs": [],
   "source": [
    "# Оформляем функции для трансформера\n",
    "\n",
    "def create_model_name(df):\n",
    "    df['model_name'] = df['brand'] + np.where(df['model'].isna(), '', ' '+ df['model'])\n",
    "    return df\n",
    "\n",
    "def drop_excess_columns(df):\n",
    "    df.drop(['date_crawled', 'date_created', 'last_seen', 'number_of_pictures', 'postal_code',\n",
    "             'registration_month', 'brand', 'model'], \n",
    "            axis=1, inplace=True)\n",
    "    return df\n",
    "\n",
    "def drop_excess_rows(df):\n",
    "    df.drop_duplicates(inplace=True)\n",
    "    return df\n",
    "\n",
    "def filter_column(df, column, mask_function, value):\n",
    "    df[column] = df[column].mask(mask_function(df[column]), value)\n",
    "    return df\n",
    "\n",
    "def drop_target(df):\n",
    "    df.dropna(subset=['price'], inplace=True)\n",
    "    return df\n",
    "\n",
    "def fillna_by_mean(df):\n",
    "    df.fillna(df.groupby('model_name').transform('mean'), inplace=True)\n",
    "    return df\n",
    "\n",
    "filter_power = FunctionTransformer(\n",
    "    filter_column, \n",
    "    kw_args={'column':'power', 'mask_function':lambda x: x.lt(10) | x.gt(500), 'value':np.nan}\n",
    ")\n",
    "\n",
    "filter_price = FunctionTransformer(\n",
    "    filter_column,\n",
    "    kw_args={'column':'price', 'mask_function':lambda x: x.lt(500), 'value':np.nan}\n",
    ")\n",
    "\n",
    "filter_year = FunctionTransformer(\n",
    "    filter_column,\n",
    "    kw_args={'column':'registration_year', 'mask_function':lambda x: x.lt(1916) | x.gt(2016), 'value':np.nan}\n",
    ")"
   ]
  },
  {
   "cell_type": "code",
   "execution_count": 10,
   "metadata": {},
   "outputs": [
    {
     "data": {
      "image/png": "[encoded data removed]",
      "text/plain": [
       "<Figure size 2000x500 with 1 Axes>"
      ]
     },
     "metadata": {},
     "output_type": "display_data"
    }
   ],
   "source": [
    "plt.title('Гистограмма распределения цены автомобилей')\n",
    "plt.ylabel(\"Frequency\")\n",
    "plt.xlabel(\"price\")\n",
    "df_raw['Price'].hist(bins=200);"
   ]
  },
  {
   "cell_type": "markdown",
   "metadata": {},
   "source": [
    "В таргете 10772 нулевых значений, они не соответствуют распределению.  \n",
    "Нулевые значения в таргете - это пропуски, удаляем.  "
   ]
  },
  {
   "cell_type": "code",
   "execution_count": 11,
   "metadata": {},
   "outputs": [
    {
     "data": {
      "text/html": [
       "<div>\n",
       "<style scoped>\n",
       "    .dataframe tbody tr th:only-of-type {\n",
       "        vertical-align: middle;\n",
       "    }\n",
       "\n",
       "    .dataframe tbody tr th {\n",
       "        vertical-align: top;\n",
       "    }\n",
       "\n",
       "    .dataframe thead th {\n",
       "        text-align: right;\n",
       "    }\n",
       "</style>\n",
       "<table border=\"1\" class=\"dataframe\">\n",
       "  <thead>\n",
       "    <tr style=\"text-align: right;\">\n",
       "      <th></th>\n",
       "      <th>type</th>\n",
       "      <th>count</th>\n",
       "      <th>NaNs</th>\n",
       "      <th>zero_values</th>\n",
       "      <th>unique_values</th>\n",
       "      <th>freq_values</th>\n",
       "      <th>min</th>\n",
       "      <th>mean</th>\n",
       "      <th>max</th>\n",
       "      <th>std</th>\n",
       "      <th>lo_count</th>\n",
       "      <th>hi_count</th>\n",
       "    </tr>\n",
       "  </thead>\n",
       "  <tbody>\n",
       "    <tr>\n",
       "      <th>price</th>\n",
       "      <td>float64</td>\n",
       "      <td>277180</td>\n",
       "      <td>0</td>\n",
       "      <td>0</td>\n",
       "      <td>3467</td>\n",
       "      <td>{500.0: 4644, 1500.0: 4525, 1000.0: 3863}</td>\n",
       "      <td>500.0</td>\n",
       "      <td>4983.72</td>\n",
       "      <td>20000.0</td>\n",
       "      <td>4568.91</td>\n",
       "      <td>0</td>\n",
       "      <td>13436</td>\n",
       "    </tr>\n",
       "    <tr>\n",
       "      <th>vehicle_type</th>\n",
       "      <td>object</td>\n",
       "      <td>251745</td>\n",
       "      <td>25435</td>\n",
       "      <td>0</td>\n",
       "      <td>8</td>\n",
       "      <td>{'sedan': 72837, 'small': 57391, 'wagon': 52310}</td>\n",
       "      <td>---</td>\n",
       "      <td>---</td>\n",
       "      <td>---</td>\n",
       "      <td>---</td>\n",
       "      <td>---</td>\n",
       "      <td>---</td>\n",
       "    </tr>\n",
       "    <tr>\n",
       "      <th>registration_year</th>\n",
       "      <td>float64</td>\n",
       "      <td>265028</td>\n",
       "      <td>12152</td>\n",
       "      <td>0</td>\n",
       "      <td>91</td>\n",
       "      <td>{2005.0: 18438, 2006.0: 16955, 2000.0: 16899}</td>\n",
       "      <td>1923.0</td>\n",
       "      <td>2002.94</td>\n",
       "      <td>2016.0</td>\n",
       "      <td>6.91</td>\n",
       "      <td>6002</td>\n",
       "      <td>0</td>\n",
       "    </tr>\n",
       "    <tr>\n",
       "      <th>gearbox</th>\n",
       "      <td>object</td>\n",
       "      <td>265459</td>\n",
       "      <td>11721</td>\n",
       "      <td>0</td>\n",
       "      <td>2</td>\n",
       "      <td>{'manual': 208782, 'auto': 56677}</td>\n",
       "      <td>---</td>\n",
       "      <td>---</td>\n",
       "      <td>---</td>\n",
       "      <td>---</td>\n",
       "      <td>---</td>\n",
       "      <td>---</td>\n",
       "    </tr>\n",
       "    <tr>\n",
       "      <th>power</th>\n",
       "      <td>float64</td>\n",
       "      <td>250742</td>\n",
       "      <td>26438</td>\n",
       "      <td>0</td>\n",
       "      <td>401</td>\n",
       "      <td>{75.0: 16744, 150.0: 11993, 140.0: 10664}</td>\n",
       "      <td>10.0</td>\n",
       "      <td>123.51</td>\n",
       "      <td>500.0</td>\n",
       "      <td>53.66</td>\n",
       "      <td>0</td>\n",
       "      <td>6864</td>\n",
       "    </tr>\n",
       "    <tr>\n",
       "      <th>kilometer</th>\n",
       "      <td>int64</td>\n",
       "      <td>277180</td>\n",
       "      <td>0</td>\n",
       "      <td>0</td>\n",
       "      <td>13</td>\n",
       "      <td>{150000: 179374, 125000: 30671, 100000: 12527}</td>\n",
       "      <td>5000</td>\n",
       "      <td>126937.08</td>\n",
       "      <td>150000</td>\n",
       "      <td>37915.16</td>\n",
       "      <td>---</td>\n",
       "      <td>---</td>\n",
       "    </tr>\n",
       "    <tr>\n",
       "      <th>fuel_type</th>\n",
       "      <td>object</td>\n",
       "      <td>254891</td>\n",
       "      <td>22289</td>\n",
       "      <td>0</td>\n",
       "      <td>7</td>\n",
       "      <td>{'petrol': 166963, 'gasoline': 82388, 'lpg': 4...</td>\n",
       "      <td>---</td>\n",
       "      <td>---</td>\n",
       "      <td>---</td>\n",
       "      <td>---</td>\n",
       "      <td>---</td>\n",
       "      <td>---</td>\n",
       "    </tr>\n",
       "    <tr>\n",
       "      <th>repaired</th>\n",
       "      <td>object</td>\n",
       "      <td>227188</td>\n",
       "      <td>49992</td>\n",
       "      <td>0</td>\n",
       "      <td>2</td>\n",
       "      <td>{'no': 202689, 'yes': 24499}</td>\n",
       "      <td>---</td>\n",
       "      <td>---</td>\n",
       "      <td>---</td>\n",
       "      <td>---</td>\n",
       "      <td>---</td>\n",
       "      <td>---</td>\n",
       "    </tr>\n",
       "    <tr>\n",
       "      <th>model_name</th>\n",
       "      <td>object</td>\n",
       "      <td>277180</td>\n",
       "      <td>0</td>\n",
       "      <td>0</td>\n",
       "      <td>337</td>\n",
       "      <td>{'volkswagen golf': 21120, 'bmw 3er': 15539, '...</td>\n",
       "      <td>---</td>\n",
       "      <td>---</td>\n",
       "      <td>---</td>\n",
       "      <td>---</td>\n",
       "      <td>---</td>\n",
       "      <td>---</td>\n",
       "    </tr>\n",
       "  </tbody>\n",
       "</table>\n",
       "</div>"
      ],
      "text/plain": [
       "                      type   count   NaNs  zero_values  unique_values  \\\n",
       "price              float64  277180      0            0           3467   \n",
       "vehicle_type        object  251745  25435            0              8   \n",
       "registration_year  float64  265028  12152            0             91   \n",
       "gearbox             object  265459  11721            0              2   \n",
       "power              float64  250742  26438            0            401   \n",
       "kilometer            int64  277180      0            0             13   \n",
       "fuel_type           object  254891  22289            0              7   \n",
       "repaired            object  227188  49992            0              2   \n",
       "model_name          object  277180      0            0            337   \n",
       "\n",
       "                                                         freq_values     min  \\\n",
       "price                      {500.0: 4644, 1500.0: 4525, 1000.0: 3863}   500.0   \n",
       "vehicle_type        {'sedan': 72837, 'small': 57391, 'wagon': 52310}     ---   \n",
       "registration_year      {2005.0: 18438, 2006.0: 16955, 2000.0: 16899}  1923.0   \n",
       "gearbox                            {'manual': 208782, 'auto': 56677}     ---   \n",
       "power                      {75.0: 16744, 150.0: 11993, 140.0: 10664}    10.0   \n",
       "kilometer             {150000: 179374, 125000: 30671, 100000: 12527}    5000   \n",
       "fuel_type          {'petrol': 166963, 'gasoline': 82388, 'lpg': 4...     ---   \n",
       "repaired                                {'no': 202689, 'yes': 24499}     ---   \n",
       "model_name         {'volkswagen golf': 21120, 'bmw 3er': 15539, '...     ---   \n",
       "\n",
       "                        mean      max       std lo_count hi_count  \n",
       "price                4983.72  20000.0   4568.91        0    13436  \n",
       "vehicle_type             ---      ---       ---      ---      ---  \n",
       "registration_year    2002.94   2016.0      6.91     6002        0  \n",
       "gearbox                  ---      ---       ---      ---      ---  \n",
       "power                 123.51    500.0     53.66        0     6864  \n",
       "kilometer          126937.08   150000  37915.16      ---      ---  \n",
       "fuel_type                ---      ---       ---      ---      ---  \n",
       "repaired                 ---      ---       ---      ---      ---  \n",
       "model_name               ---      ---       ---      ---      ---  "
      ]
     },
     "execution_count": 11,
     "metadata": {},
     "output_type": "execute_result"
    }
   ],
   "source": [
    "# Преобразовываем датасет и выводим статистику\n",
    "\n",
    "df = df_raw.copy()\n",
    "\n",
    "preprocess_columns = Pipeline([\n",
    "    ('rename_columns', FunctionTransformer(rename_columns)),\n",
    "    ('create_model_name', FunctionTransformer(create_model_name)),\n",
    "    ('filter_power', filter_power),\n",
    "    ('filter_year', filter_year),\n",
    "    ('filter_price', filter_price),\n",
    "    ('drop_excess_columns', FunctionTransformer(drop_excess_columns)),\n",
    "    ('drop_duplicates', FunctionTransformer(drop_excess_rows)),\n",
    "    ('drop_target', FunctionTransformer(drop_target))\n",
    "])\n",
    "\n",
    "preprocess_columns.transform(df)\n",
    "display_statistics(df)"
   ]
  },
  {
   "cell_type": "code",
   "execution_count": 12,
   "metadata": {},
   "outputs": [
    {
     "data": {
      "text/plain": [
       "0"
      ]
     },
     "execution_count": 12,
     "metadata": {},
     "output_type": "execute_result"
    }
   ],
   "source": [
    "# Проверка после работы с признаками\n",
    "\n",
    "df.duplicated().sum()"
   ]
  },
  {
   "cell_type": "code",
   "execution_count": 13,
   "metadata": {},
   "outputs": [
    {
     "data": {
      "image/png": "[encoded data removed]",
      "text/plain": [
       "<Figure size 2000x500 with 2 Axes>"
      ]
     },
     "metadata": {},
     "output_type": "display_data"
    }
   ],
   "source": [
    "# Расчет зависимостей\n",
    "\n",
    "interval_cols = ['price', 'power']\n",
    "(\n",
    "    sns.heatmap(df.phik_matrix(interval_cols=interval_cols), cmap='coolwarm', center=0, annot=True)\n",
    "    .set_title('Корреляция переменных в датасете (Phi_K)')\n",
    ");"
   ]
  },
  {
   "cell_type": "markdown",
   "metadata": {},
   "source": [
    "Все признаки с малой кардинальностью закодированы, пропущенные значения обработаны, аномальные значения устранены.  "
   ]
  },
  {
   "cell_type": "markdown",
   "metadata": {},
   "source": [
    "Для кодирования основной категориальной переменной оценим разные способы кодирования.  \n",
    "Для категорий автомобилей применим кодирование по среднему значению таргета. Проверим это, расчитывая RMSE валидационной выборки, в качестве модели возьмем LGBMRegressor с настройками по умолчанию."
   ]
  },
  {
   "cell_type": "code",
   "execution_count": 14,
   "metadata": {},
   "outputs": [
    {
     "name": "stdout",
     "output_type": "stream",
     "text": [
      "Обучающий набор: X: (194026, 8), y: (194026,)\n",
      "Валидационный набор: X: (41577, 8), y: (41577,)\n",
      "Тестовый набор: X: (41577, 8), y: (41577,)\n"
     ]
    }
   ],
   "source": [
    "X_train, X_valid, X_test, y_train, y_valid, y_test = train_test_val_split(df, drop_target='price')"
   ]
  },
  {
   "cell_type": "code",
   "execution_count": 15,
   "metadata": {},
   "outputs": [],
   "source": [
    "def lgbmr_rmse(model_name, subsets):\n",
    "    X_train, X_valid, X_test, y_train, y_valid, y_test = subsets\n",
    "    model = LGBMRegressor(n_jobs=-1, verbosity=0)\n",
    "    fit_predict_mark_time(model_name, model, X_train, y_train, X_valid, y_valid)"
   ]
  },
  {
   "cell_type": "code",
   "execution_count": 16,
   "metadata": {},
   "outputs": [
    {
     "name": "stdout",
     "output_type": "stream",
     "text": [
      "TargetEncoder:[default]             RMSE (train/valid): 1754.25/1824.28, time (fit/train/valid, s): 0/0/0\n",
      "CatBoostEncoder:[default]           RMSE (train/valid): 1807.03/1867.33, time (fit/train/valid, s): 1/0/0\n",
      "BinaryEncoder:[default]             RMSE (train/valid): 1829.34/1884.51, time (fit/train/valid, s): 0/0/0\n",
      "[LightGBM] [Warning] Found whitespace in feature_names, replace with underlines\n",
      "OneHotEncoder:[default]             RMSE (train/valid): 1934.46/1984.0, time (fit/train/valid, s): 2/1/0\n",
      "FeatureHasher:[default]             RMSE (train/valid): 2017.09/2064.25, time (fit/train/valid, s): 0/0/0\n",
      "CPU times: total: 48 s\n",
      "Wall time: 9.41 s\n"
     ]
    }
   ],
   "source": [
    "%%time\n",
    "# Wall time: ~ 1min\n",
    "\n",
    "params = {'data':df, 'drop_target':'price', 'silent':True}\n",
    "lgbmr_rmse('TargetEncoder', encode(TargetEncoder, train_test_val_split(**params)))\n",
    "lgbmr_rmse('CatBoostEncoder', encode(CatBoostEncoder, train_test_val_split(**params)))\n",
    "lgbmr_rmse('BinaryEncoder', encode(BinaryEncoder, train_test_val_split(**params)))\n",
    "lgbmr_rmse('OneHotEncoder', one_hot_encoder(train_test_val_split(**params)))\n",
    "lgbmr_rmse('FeatureHasher', feature_hasher(train_test_val_split(**params)))"
   ]
  },
  {
   "cell_type": "markdown",
   "metadata": {},
   "source": [
    "В данном случае TargetEncoder показал себя лучше остальных."
   ]
  },
  {
   "cell_type": "code",
   "execution_count": 17,
   "metadata": {},
   "outputs": [
    {
     "name": "stdout",
     "output_type": "stream",
     "text": [
      "StandardScaler()    :TargetEncoder:[default]             RMSE (train/valid): 1756.26/1823.29, time (fit/train/valid, s): 0/0/0\n",
      "MinMaxScaler()      :TargetEncoder:[default]             RMSE (train/valid): 1754.25/1824.28, time (fit/train/valid, s): 0/0/0\n",
      "RobustScaler()      :TargetEncoder:[default]             RMSE (train/valid): 1755.59/1824.3, time (fit/train/valid, s): 0/0/0\n",
      "QuantileTransformer():TargetEncoder:[default]             RMSE (train/valid): 1754.64/1826.52, time (fit/train/valid, s): 0/0/0\n",
      "CPU times: total: 30.6 s\n",
      "Wall time: 3.32 s\n"
     ]
    }
   ],
   "source": [
    "%%time\n",
    "# Wall time: ~ 1min\n",
    "X_encoded = encode(TargetEncoder, train_test_val_split(**params))\n",
    "\n",
    "lgbmr_rmse('TargetEncoder', scale(StandardScaler(), X_encoded))\n",
    "lgbmr_rmse('TargetEncoder', scale(MinMaxScaler(), X_encoded))\n",
    "lgbmr_rmse('TargetEncoder', scale(RobustScaler(), X_encoded))\n",
    "lgbmr_rmse('TargetEncoder', scale(QuantileTransformer(), X_encoded))\n"
   ]
  },
  {
   "cell_type": "markdown",
   "metadata": {},
   "source": [
    "StandardScaler или другое масштабирование в нашем случае почти не влияет на точность."
   ]
  },
  {
   "cell_type": "markdown",
   "metadata": {},
   "source": [
    "**Выводы по п 1**\n",
    "- импорт библиотек и загрузка данных прошла успешно\n",
    "- удалены избыточные переменные, устранены пропуски и аномальные значения\n",
    "- категориальные переменные закодированы\n",
    "- подобран метод кодирования основной категориальной переменной model_name"
   ]
  },
  {
   "cell_type": "markdown",
   "metadata": {},
   "source": [
    "## Обучение моделей"
   ]
  },
  {
   "cell_type": "code",
   "execution_count": 18,
   "metadata": {},
   "outputs": [
    {
     "data": {
      "text/plain": [
       "vehicle_type    8\n",
       "gearbox         2\n",
       "fuel_type       7\n",
       "repaired        2\n",
       "dtype: int64"
      ]
     },
     "execution_count": 18,
     "metadata": {},
     "output_type": "execute_result"
    }
   ],
   "source": [
    "# Применяем OHE для категориальных переменных cat_columns c небольшим числом категорий до 10\n",
    "\n",
    "df[['vehicle_type', 'gearbox', 'fuel_type', 'repaired']].nunique()"
   ]
  },
  {
   "cell_type": "code",
   "execution_count": 19,
   "metadata": {},
   "outputs": [
    {
     "data": {
      "text/plain": [
       "price                    0\n",
       "vehicle_type         25435\n",
       "registration_year    12152\n",
       "gearbox              11721\n",
       "power                26438\n",
       "kilometer                0\n",
       "fuel_type            22289\n",
       "repaired             49992\n",
       "model_name               0\n",
       "dtype: int64"
      ]
     },
     "execution_count": 19,
     "metadata": {},
     "output_type": "execute_result"
    }
   ],
   "source": [
    "df.isna().sum()"
   ]
  },
  {
   "cell_type": "markdown",
   "metadata": {},
   "source": [
    "Используем TargetEncoder для высококардинальной model_name.  \n",
    "Пропуски в vehicle_type, gearbox, fuel_type, repaired кодируются OneHotEncoder и исключаются.\n",
    "Заполняем пропуски в оставшихся переменных power, vehicle_age средними значениями из категорий model_name.  \n",
    "Оставшиеся пропуски (их единицы) - SimpleImputer."
   ]
  },
  {
   "cell_type": "code",
   "execution_count": 20,
   "metadata": {},
   "outputs": [],
   "source": [
    "cat_columns = ['vehicle_type', 'gearbox', 'fuel_type', 'repaired']\n",
    "\n",
    "transformer = ColumnTransformer([\n",
    "    ('cat_ohe', OneHotEncoder(drop=[np.nan]*len(cat_columns), sparse_output=False, handle_unknown='ignore'), cat_columns),\n",
    "    ('cat_te', TargetEncoder(), ['model_name']),\n",
    "], remainder='passthrough', verbose_feature_names_out=False)\n",
    "\n",
    "process_columns = Pipeline([\n",
    "    ('transformer', transformer),\n",
    "    ('fillna_by_mean', FunctionTransformer(fillna_by_mean)),\n",
    "    ('SimpleImputer', SimpleImputer())\n",
    "])"
   ]
  },
  {
   "cell_type": "code",
   "execution_count": 21,
   "metadata": {},
   "outputs": [],
   "source": [
    "X_train = process_columns.fit_transform(X_train, y_train)\n",
    "X_valid = process_columns.transform(X_valid)\n",
    "X_test = process_columns.transform(X_test)"
   ]
  },
  {
   "cell_type": "markdown",
   "metadata": {},
   "source": [
    "Оценим несколько моделей кодом в стиле Lazy Predict, со всеми настройками по умолчанию."
   ]
  },
  {
   "cell_type": "code",
   "execution_count": 22,
   "metadata": {},
   "outputs": [],
   "source": [
    "models = [\n",
    "    ('DummyRegressor', DummyRegressor()),\n",
    "    ('LinearRegression', LinearRegression()),\n",
    "    ('Ridge', Ridge(random_state=RANDOM_STATE)),\n",
    "    ('ElasticNet', ElasticNet(random_state=RANDOM_STATE)),\n",
    "    ('Lasso', Lasso(random_state=RANDOM_STATE)),\n",
    "    ('DecisionTreeRegressor', DecisionTreeRegressor(random_state=RANDOM_STATE)),\n",
    "    ('RandomForestRegressor', RandomForestRegressor(random_state=RANDOM_STATE)),\n",
    "    ('GradientBoostingRegressor', GradientBoostingRegressor(random_state=RANDOM_STATE)),\n",
    "    ('XGBRegressor', XGBRegressor(random_state=RANDOM_STATE)),\n",
    "    ('HistGradientBoostingRegressor', HistGradientBoostingRegressor(random_state=RANDOM_STATE)),\n",
    "    ('CatBoostRegressor', CatBoostRegressor(silent=True, random_state=RANDOM_STATE)),\n",
    "    ('LGBMRegressor', LGBMRegressor(random_state=RANDOM_STATE, verbosity=0))\n",
    "]"
   ]
  },
  {
   "cell_type": "code",
   "execution_count": 23,
   "metadata": {},
   "outputs": [
    {
     "name": "stdout",
     "output_type": "stream",
     "text": [
      "DummyRegressor:[default]            RMSE (train/valid): 4558.55/4584.49, time (fit/train/valid, s): 0/0/0\n",
      "LinearRegression:[default]          RMSE (train/valid): 2821.36/2854.87, time (fit/train/valid, s): 0/0/0\n",
      "Ridge:[default]                     RMSE (train/valid): 2821.36/2854.86, time (fit/train/valid, s): 0/0/0\n",
      "ElasticNet:[default]                RMSE (train/valid): 2923.26/2954.37, time (fit/train/valid, s): 0/0/0\n",
      "Lasso:[default]                     RMSE (train/valid): 2821.92/2854.85, time (fit/train/valid, s): 0/0/0\n",
      "DecisionTreeRegressor:[default]     RMSE (train/valid): 818.43/2194.4, time (fit/train/valid, s): 1/0/0\n",
      "RandomForestRegressor:[default]     RMSE (train/valid): 973.78/1779.77, time (fit/train/valid, s): 49/5/1\n",
      "GradientBoostingRegressor:[default] RMSE (train/valid): 1970.4/2011.42, time (fit/train/valid, s): 11/0/0\n",
      "XGBRegressor:[default]              RMSE (train/valid): 1624.2/1775.69, time (fit/train/valid, s): 0/0/0\n",
      "HistGradientBoostingRegressor:[default] RMSE (train/valid): 1789.45/1856.07, time (fit/train/valid, s): 1/0/0\n",
      "CatBoostRegressor:[default]         RMSE (train/valid): 1641.56/1763.0, time (fit/train/valid, s): 5/0/0\n",
      "LGBMRegressor:[default]             RMSE (train/valid): 1769.93/1837.76, time (fit/train/valid, s): 1/0/0\n",
      "CPU times: total: 31 s\n",
      "Wall time: 1min 16s\n"
     ]
    },
    {
     "data": {
      "text/html": [
       "<div>\n",
       "<style scoped>\n",
       "    .dataframe tbody tr th:only-of-type {\n",
       "        vertical-align: middle;\n",
       "    }\n",
       "\n",
       "    .dataframe tbody tr th {\n",
       "        vertical-align: top;\n",
       "    }\n",
       "\n",
       "    .dataframe thead th {\n",
       "        text-align: right;\n",
       "    }\n",
       "</style>\n",
       "<table border=\"1\" class=\"dataframe\">\n",
       "  <thead>\n",
       "    <tr style=\"text-align: right;\">\n",
       "      <th></th>\n",
       "      <th>train RMSE</th>\n",
       "      <th>valid RMSE</th>\n",
       "      <th>fit time</th>\n",
       "      <th>predict train time</th>\n",
       "      <th>predict valid time</th>\n",
       "      <th>parameters</th>\n",
       "    </tr>\n",
       "  </thead>\n",
       "  <tbody>\n",
       "    <tr>\n",
       "      <th>CatBoostRegressor</th>\n",
       "      <td>1641.56</td>\n",
       "      <td>1763.00</td>\n",
       "      <td>5</td>\n",
       "      <td>0</td>\n",
       "      <td>0</td>\n",
       "      <td>{'loss_function': 'RMSE', 'silent': True, 'ran...</td>\n",
       "    </tr>\n",
       "    <tr>\n",
       "      <th>XGBRegressor</th>\n",
       "      <td>1624.20</td>\n",
       "      <td>1775.69</td>\n",
       "      <td>0</td>\n",
       "      <td>0</td>\n",
       "      <td>0</td>\n",
       "      <td>{'objective': 'reg:squarederror', 'base_score'...</td>\n",
       "    </tr>\n",
       "    <tr>\n",
       "      <th>RandomForestRegressor</th>\n",
       "      <td>973.78</td>\n",
       "      <td>1779.77</td>\n",
       "      <td>49</td>\n",
       "      <td>5</td>\n",
       "      <td>1</td>\n",
       "      <td>{'bootstrap': True, 'ccp_alpha': 0.0, 'criteri...</td>\n",
       "    </tr>\n",
       "    <tr>\n",
       "      <th>LGBMRegressor</th>\n",
       "      <td>1769.93</td>\n",
       "      <td>1837.76</td>\n",
       "      <td>1</td>\n",
       "      <td>0</td>\n",
       "      <td>0</td>\n",
       "      <td>{'boosting_type': 'gbdt', 'class_weight': None...</td>\n",
       "    </tr>\n",
       "    <tr>\n",
       "      <th>HistGradientBoostingRegressor</th>\n",
       "      <td>1789.45</td>\n",
       "      <td>1856.07</td>\n",
       "      <td>1</td>\n",
       "      <td>0</td>\n",
       "      <td>0</td>\n",
       "      <td>{'categorical_features': None, 'early_stopping...</td>\n",
       "    </tr>\n",
       "    <tr>\n",
       "      <th>GradientBoostingRegressor</th>\n",
       "      <td>1970.40</td>\n",
       "      <td>2011.42</td>\n",
       "      <td>11</td>\n",
       "      <td>0</td>\n",
       "      <td>0</td>\n",
       "      <td>{'alpha': 0.9, 'ccp_alpha': 0.0, 'criterion': ...</td>\n",
       "    </tr>\n",
       "    <tr>\n",
       "      <th>DecisionTreeRegressor</th>\n",
       "      <td>818.43</td>\n",
       "      <td>2194.40</td>\n",
       "      <td>1</td>\n",
       "      <td>0</td>\n",
       "      <td>0</td>\n",
       "      <td>{'ccp_alpha': 0.0, 'criterion': 'squared_error...</td>\n",
       "    </tr>\n",
       "    <tr>\n",
       "      <th>Lasso</th>\n",
       "      <td>2821.92</td>\n",
       "      <td>2854.85</td>\n",
       "      <td>0</td>\n",
       "      <td>0</td>\n",
       "      <td>0</td>\n",
       "      <td>{'alpha': 1.0, 'copy_X': True, 'fit_intercept'...</td>\n",
       "    </tr>\n",
       "    <tr>\n",
       "      <th>Ridge</th>\n",
       "      <td>2821.36</td>\n",
       "      <td>2854.86</td>\n",
       "      <td>0</td>\n",
       "      <td>0</td>\n",
       "      <td>0</td>\n",
       "      <td>{'alpha': 1.0, 'copy_X': True, 'fit_intercept'...</td>\n",
       "    </tr>\n",
       "    <tr>\n",
       "      <th>LinearRegression</th>\n",
       "      <td>2821.36</td>\n",
       "      <td>2854.87</td>\n",
       "      <td>0</td>\n",
       "      <td>0</td>\n",
       "      <td>0</td>\n",
       "      <td>{'copy_X': True, 'fit_intercept': True, 'n_job...</td>\n",
       "    </tr>\n",
       "    <tr>\n",
       "      <th>ElasticNet</th>\n",
       "      <td>2923.26</td>\n",
       "      <td>2954.37</td>\n",
       "      <td>0</td>\n",
       "      <td>0</td>\n",
       "      <td>0</td>\n",
       "      <td>{'alpha': 1.0, 'copy_X': True, 'fit_intercept'...</td>\n",
       "    </tr>\n",
       "    <tr>\n",
       "      <th>DummyRegressor</th>\n",
       "      <td>4558.55</td>\n",
       "      <td>4584.49</td>\n",
       "      <td>0</td>\n",
       "      <td>0</td>\n",
       "      <td>0</td>\n",
       "      <td>{'constant': None, 'quantile': None, 'strategy...</td>\n",
       "    </tr>\n",
       "  </tbody>\n",
       "</table>\n",
       "</div>"
      ],
      "text/plain": [
       "                               train RMSE  valid RMSE  fit time  \\\n",
       "CatBoostRegressor                 1641.56     1763.00         5   \n",
       "XGBRegressor                      1624.20     1775.69         0   \n",
       "RandomForestRegressor              973.78     1779.77        49   \n",
       "LGBMRegressor                     1769.93     1837.76         1   \n",
       "HistGradientBoostingRegressor     1789.45     1856.07         1   \n",
       "GradientBoostingRegressor         1970.40     2011.42        11   \n",
       "DecisionTreeRegressor              818.43     2194.40         1   \n",
       "Lasso                             2821.92     2854.85         0   \n",
       "Ridge                             2821.36     2854.86         0   \n",
       "LinearRegression                  2821.36     2854.87         0   \n",
       "ElasticNet                        2923.26     2954.37         0   \n",
       "DummyRegressor                    4558.55     4584.49         0   \n",
       "\n",
       "                               predict train time  predict valid time  \\\n",
       "CatBoostRegressor                               0                   0   \n",
       "XGBRegressor                                    0                   0   \n",
       "RandomForestRegressor                           5                   1   \n",
       "LGBMRegressor                                   0                   0   \n",
       "HistGradientBoostingRegressor                   0                   0   \n",
       "GradientBoostingRegressor                       0                   0   \n",
       "DecisionTreeRegressor                           0                   0   \n",
       "Lasso                                           0                   0   \n",
       "Ridge                                           0                   0   \n",
       "LinearRegression                                0                   0   \n",
       "ElasticNet                                      0                   0   \n",
       "DummyRegressor                                  0                   0   \n",
       "\n",
       "                                                                      parameters  \n",
       "CatBoostRegressor              {'loss_function': 'RMSE', 'silent': True, 'ran...  \n",
       "XGBRegressor                   {'objective': 'reg:squarederror', 'base_score'...  \n",
       "RandomForestRegressor          {'bootstrap': True, 'ccp_alpha': 0.0, 'criteri...  \n",
       "LGBMRegressor                  {'boosting_type': 'gbdt', 'class_weight': None...  \n",
       "HistGradientBoostingRegressor  {'categorical_features': None, 'early_stopping...  \n",
       "GradientBoostingRegressor      {'alpha': 0.9, 'ccp_alpha': 0.0, 'criterion': ...  \n",
       "DecisionTreeRegressor          {'ccp_alpha': 0.0, 'criterion': 'squared_error...  \n",
       "Lasso                          {'alpha': 1.0, 'copy_X': True, 'fit_intercept'...  \n",
       "Ridge                          {'alpha': 1.0, 'copy_X': True, 'fit_intercept'...  \n",
       "LinearRegression               {'copy_X': True, 'fit_intercept': True, 'n_job...  \n",
       "ElasticNet                     {'alpha': 1.0, 'copy_X': True, 'fit_intercept'...  \n",
       "DummyRegressor                 {'constant': None, 'quantile': None, 'strategy...  "
      ]
     },
     "execution_count": 23,
     "metadata": {},
     "output_type": "execute_result"
    }
   ],
   "source": [
    "%%time\n",
    "# Wall time: ~3 min\n",
    "\n",
    "df_res = pd.DataFrame(columns=['train RMSE', 'valid RMSE', 'fit time', \n",
    "                               'predict train time', 'predict valid time', 'parameters'])\n",
    "\n",
    "for model_name, model in models:\n",
    "    result = fit_predict_mark_time(model_name, model, X_train, y_train, X_valid, y_valid)\n",
    "    df_res.loc[model_name] = result\n",
    "\n",
    "df_res.sort_values(by='valid RMSE')"
   ]
  },
  {
   "cell_type": "markdown",
   "metadata": {},
   "source": [
    "Видим большую разницу по качеству по сравнению с baseline моделью DummyRegressor, а также с моделями линейной регрессии.  \n",
    "CatBoostRegressor пока показал лучший, хотя и не самый быстрый, результат.    \n",
    "Выберем для настройки гиперпараметров 3 модели: первые две и, следуя заданию, LGBMRegressor."
   ]
  },
  {
   "cell_type": "markdown",
   "metadata": {},
   "source": [
    "Для примера были взяты по паре значений из 2-3 важных гиперпараметров каждой модели, хотя у каждой модели их   \n",
    "несколько десятков в широких диапазонах.  \n",
    "Для реализации более обширного и точного подбора гиперпараметров будет необходимо работать с частью датасета,  \n",
    "например, df.sample(10000).  \n",
    "Но в данном ограниченном случае обрабатывается датасет целиком.  "
   ]
  },
  {
   "cell_type": "code",
   "execution_count": 24,
   "metadata": {},
   "outputs": [],
   "source": [
    "# Последовательная генерация всевозможных сочетаний параметров из словаря d\n",
    "\n",
    "def yield_next_param(d):\n",
    "    for params in itertools.product(*d.values()):\n",
    "        yield {k:v for (k,v) in zip(d.keys(), params)}"
   ]
  },
  {
   "cell_type": "code",
   "execution_count": 25,
   "metadata": {
    "scrolled": false
   },
   "outputs": [],
   "source": [
    "# Задание интервалов подбора гиперпараметров\n",
    "\n",
    "model_params = [\n",
    "\n",
    "    ['CatBoostRegressor()', \n",
    "     {'silent':True, 'random_state': RANDOM_STATE},\n",
    "     {'iterations': [100, 300],\n",
    "      'learning_rate': [0.01, 0.2],\n",
    "      'depth': [6, 10]}\n",
    "    ],\n",
    "    \n",
    "    ['XGBRegressor()', \n",
    "     {'random_state': RANDOM_STATE},\n",
    "     {'n_estimators': [50, 250],\n",
    "      'eta': [0.01, 0.2],\n",
    "      'max_depth': [3, 7]}\n",
    "    ],\n",
    "    \n",
    "    ['LGBMRegressor()', \n",
    "     {'random_state': RANDOM_STATE, 'verbosity': 0}, \n",
    "     {'n_estimators': [100, 200],\n",
    "      'learning_rate': [0.01, 0.2],\n",
    "      'num_leaves': [100, 200]}\n",
    "    ]\n",
    "]"
   ]
  },
  {
   "cell_type": "code",
   "execution_count": 26,
   "metadata": {},
   "outputs": [
    {
     "name": "stdout",
     "output_type": "stream",
     "text": [
      "==================== CatBoostRegressor() ====================\n",
      "CatBoostRegressor():[100, 0.01, 6]  RMSE (train/valid): 2839.19/2860.59, time (fit/train/valid, s): 1/0/0\n",
      "CatBoostRegressor():[100, 0.01, 10] RMSE (train/valid): 2662.81/2688.93, time (fit/train/valid, s): 2/0/0\n",
      "CatBoostRegressor():[100, 0.2, 6]   RMSE (train/valid): 1815.57/1873.84, time (fit/train/valid, s): 1/0/0\n",
      "CatBoostRegressor():[100, 0.2, 10]  RMSE (train/valid): 1688.05/1799.41, time (fit/train/valid, s): 2/0/0\n",
      "CatBoostRegressor():[300, 0.01, 6]  RMSE (train/valid): 2115.82/2146.89, time (fit/train/valid, s): 2/0/0\n",
      "CatBoostRegressor():[300, 0.01, 10] RMSE (train/valid): 1968.07/2012.58, time (fit/train/valid, s): 5/0/0\n",
      "CatBoostRegressor():[300, 0.2, 6]   RMSE (train/valid): 1691.82/1790.51, time (fit/train/valid, s): 2/0/0\n",
      "CatBoostRegressor():[300, 0.2, 10]  RMSE (train/valid): 1536.38/1733.3, time (fit/train/valid, s): 4/0/0\n",
      "==================== XGBRegressor() ====================\n",
      "XGBRegressor():[50, 0.01, 3]        RMSE (train/valid): 3599.7/3622.69, time (fit/train/valid, s): 0/0/0\n",
      "XGBRegressor():[50, 0.01, 7]        RMSE (train/valid): 3255.04/3285.72, time (fit/train/valid, s): 0/0/0\n",
      "XGBRegressor():[50, 0.2, 3]         RMSE (train/valid): 1983.89/2024.97, time (fit/train/valid, s): 0/0/0\n",
      "XGBRegressor():[50, 0.2, 7]         RMSE (train/valid): 1677.31/1803.62, time (fit/train/valid, s): 0/0/0\n",
      "XGBRegressor():[250, 0.01, 3]       RMSE (train/valid): 2335.68/2363.15, time (fit/train/valid, s): 0/0/0\n",
      "XGBRegressor():[250, 0.01, 7]       RMSE (train/valid): 1925.66/1992.05, time (fit/train/valid, s): 1/0/0\n",
      "XGBRegressor():[250, 0.2, 3]        RMSE (train/valid): 1815.58/1875.99, time (fit/train/valid, s): 0/0/0\n",
      "XGBRegressor():[250, 0.2, 7]        RMSE (train/valid): 1453.04/1728.63, time (fit/train/valid, s): 1/0/0\n",
      "==================== LGBMRegressor() ====================\n",
      "LGBMRegressor():[100, 0.01, 100]    RMSE (train/valid): 2546.97/2583.24, time (fit/train/valid, s): 1/0/0\n",
      "LGBMRegressor():[100, 0.01, 200]    RMSE (train/valid): 2478.51/2524.39, time (fit/train/valid, s): 1/0/0\n",
      "LGBMRegressor():[100, 0.2, 100]     RMSE (train/valid): 1549.61/1729.46, time (fit/train/valid, s): 0/0/0\n",
      "LGBMRegressor():[100, 0.2, 200]     RMSE (train/valid): 1452.03/1707.57, time (fit/train/valid, s): 1/0/0\n",
      "LGBMRegressor():[200, 0.01, 100]    RMSE (train/valid): 1995.61/2048.61, time (fit/train/valid, s): 1/0/0\n",
      "LGBMRegressor():[200, 0.01, 200]    RMSE (train/valid): 1918.56/1991.38, time (fit/train/valid, s): 1/0/0\n",
      "LGBMRegressor():[200, 0.2, 100]     RMSE (train/valid): 1454.88/1706.89, time (fit/train/valid, s): 1/0/0\n",
      "LGBMRegressor():[200, 0.2, 200]     RMSE (train/valid): 1344.44/1696.69, time (fit/train/valid, s): 1/0/0\n",
      "CPU times: total: 1min 22s\n",
      "Wall time: 30.6 s\n"
     ]
    },
    {
     "data": {
      "text/html": [
       "<div>\n",
       "<style scoped>\n",
       "    .dataframe tbody tr th:only-of-type {\n",
       "        vertical-align: middle;\n",
       "    }\n",
       "\n",
       "    .dataframe tbody tr th {\n",
       "        vertical-align: top;\n",
       "    }\n",
       "\n",
       "    .dataframe thead th {\n",
       "        text-align: right;\n",
       "    }\n",
       "</style>\n",
       "<table border=\"1\" class=\"dataframe\">\n",
       "  <thead>\n",
       "    <tr style=\"text-align: right;\">\n",
       "      <th></th>\n",
       "      <th>train RMSE</th>\n",
       "      <th>valid RMSE</th>\n",
       "      <th>fit time</th>\n",
       "      <th>predict train time</th>\n",
       "      <th>predict valid time</th>\n",
       "      <th>parameters</th>\n",
       "    </tr>\n",
       "  </thead>\n",
       "  <tbody>\n",
       "    <tr>\n",
       "      <th>LGBMRegressor()</th>\n",
       "      <td>1344.44</td>\n",
       "      <td>1696.69</td>\n",
       "      <td>1</td>\n",
       "      <td>0</td>\n",
       "      <td>0</td>\n",
       "      <td>{'boosting_type': 'gbdt', 'class_weight': None...</td>\n",
       "    </tr>\n",
       "    <tr>\n",
       "      <th>XGBRegressor()</th>\n",
       "      <td>1453.04</td>\n",
       "      <td>1728.63</td>\n",
       "      <td>1</td>\n",
       "      <td>0</td>\n",
       "      <td>0</td>\n",
       "      <td>{'objective': 'reg:squarederror', 'base_score'...</td>\n",
       "    </tr>\n",
       "    <tr>\n",
       "      <th>CatBoostRegressor()</th>\n",
       "      <td>1536.38</td>\n",
       "      <td>1733.30</td>\n",
       "      <td>4</td>\n",
       "      <td>0</td>\n",
       "      <td>0</td>\n",
       "      <td>{'loss_function': 'RMSE', 'silent': True, 'ran...</td>\n",
       "    </tr>\n",
       "    <tr>\n",
       "      <th>CatBoostRegressor</th>\n",
       "      <td>1641.56</td>\n",
       "      <td>1763.00</td>\n",
       "      <td>5</td>\n",
       "      <td>0</td>\n",
       "      <td>0</td>\n",
       "      <td>{'loss_function': 'RMSE', 'silent': True, 'ran...</td>\n",
       "    </tr>\n",
       "    <tr>\n",
       "      <th>XGBRegressor</th>\n",
       "      <td>1624.20</td>\n",
       "      <td>1775.69</td>\n",
       "      <td>0</td>\n",
       "      <td>0</td>\n",
       "      <td>0</td>\n",
       "      <td>{'objective': 'reg:squarederror', 'base_score'...</td>\n",
       "    </tr>\n",
       "    <tr>\n",
       "      <th>RandomForestRegressor</th>\n",
       "      <td>973.78</td>\n",
       "      <td>1779.77</td>\n",
       "      <td>49</td>\n",
       "      <td>5</td>\n",
       "      <td>1</td>\n",
       "      <td>{'bootstrap': True, 'ccp_alpha': 0.0, 'criteri...</td>\n",
       "    </tr>\n",
       "    <tr>\n",
       "      <th>LGBMRegressor</th>\n",
       "      <td>1769.93</td>\n",
       "      <td>1837.76</td>\n",
       "      <td>1</td>\n",
       "      <td>0</td>\n",
       "      <td>0</td>\n",
       "      <td>{'boosting_type': 'gbdt', 'class_weight': None...</td>\n",
       "    </tr>\n",
       "    <tr>\n",
       "      <th>HistGradientBoostingRegressor</th>\n",
       "      <td>1789.45</td>\n",
       "      <td>1856.07</td>\n",
       "      <td>1</td>\n",
       "      <td>0</td>\n",
       "      <td>0</td>\n",
       "      <td>{'categorical_features': None, 'early_stopping...</td>\n",
       "    </tr>\n",
       "    <tr>\n",
       "      <th>GradientBoostingRegressor</th>\n",
       "      <td>1970.40</td>\n",
       "      <td>2011.42</td>\n",
       "      <td>11</td>\n",
       "      <td>0</td>\n",
       "      <td>0</td>\n",
       "      <td>{'alpha': 0.9, 'ccp_alpha': 0.0, 'criterion': ...</td>\n",
       "    </tr>\n",
       "    <tr>\n",
       "      <th>DecisionTreeRegressor</th>\n",
       "      <td>818.43</td>\n",
       "      <td>2194.40</td>\n",
       "      <td>1</td>\n",
       "      <td>0</td>\n",
       "      <td>0</td>\n",
       "      <td>{'ccp_alpha': 0.0, 'criterion': 'squared_error...</td>\n",
       "    </tr>\n",
       "    <tr>\n",
       "      <th>Lasso</th>\n",
       "      <td>2821.92</td>\n",
       "      <td>2854.85</td>\n",
       "      <td>0</td>\n",
       "      <td>0</td>\n",
       "      <td>0</td>\n",
       "      <td>{'alpha': 1.0, 'copy_X': True, 'fit_intercept'...</td>\n",
       "    </tr>\n",
       "    <tr>\n",
       "      <th>Ridge</th>\n",
       "      <td>2821.36</td>\n",
       "      <td>2854.86</td>\n",
       "      <td>0</td>\n",
       "      <td>0</td>\n",
       "      <td>0</td>\n",
       "      <td>{'alpha': 1.0, 'copy_X': True, 'fit_intercept'...</td>\n",
       "    </tr>\n",
       "    <tr>\n",
       "      <th>LinearRegression</th>\n",
       "      <td>2821.36</td>\n",
       "      <td>2854.87</td>\n",
       "      <td>0</td>\n",
       "      <td>0</td>\n",
       "      <td>0</td>\n",
       "      <td>{'copy_X': True, 'fit_intercept': True, 'n_job...</td>\n",
       "    </tr>\n",
       "    <tr>\n",
       "      <th>ElasticNet</th>\n",
       "      <td>2923.26</td>\n",
       "      <td>2954.37</td>\n",
       "      <td>0</td>\n",
       "      <td>0</td>\n",
       "      <td>0</td>\n",
       "      <td>{'alpha': 1.0, 'copy_X': True, 'fit_intercept'...</td>\n",
       "    </tr>\n",
       "    <tr>\n",
       "      <th>DummyRegressor</th>\n",
       "      <td>4558.55</td>\n",
       "      <td>4584.49</td>\n",
       "      <td>0</td>\n",
       "      <td>0</td>\n",
       "      <td>0</td>\n",
       "      <td>{'constant': None, 'quantile': None, 'strategy...</td>\n",
       "    </tr>\n",
       "  </tbody>\n",
       "</table>\n",
       "</div>"
      ],
      "text/plain": [
       "                               train RMSE  valid RMSE  fit time  \\\n",
       "LGBMRegressor()                   1344.44     1696.69         1   \n",
       "XGBRegressor()                    1453.04     1728.63         1   \n",
       "CatBoostRegressor()               1536.38     1733.30         4   \n",
       "CatBoostRegressor                 1641.56     1763.00         5   \n",
       "XGBRegressor                      1624.20     1775.69         0   \n",
       "RandomForestRegressor              973.78     1779.77        49   \n",
       "LGBMRegressor                     1769.93     1837.76         1   \n",
       "HistGradientBoostingRegressor     1789.45     1856.07         1   \n",
       "GradientBoostingRegressor         1970.40     2011.42        11   \n",
       "DecisionTreeRegressor              818.43     2194.40         1   \n",
       "Lasso                             2821.92     2854.85         0   \n",
       "Ridge                             2821.36     2854.86         0   \n",
       "LinearRegression                  2821.36     2854.87         0   \n",
       "ElasticNet                        2923.26     2954.37         0   \n",
       "DummyRegressor                    4558.55     4584.49         0   \n",
       "\n",
       "                               predict train time  predict valid time  \\\n",
       "LGBMRegressor()                                 0                   0   \n",
       "XGBRegressor()                                  0                   0   \n",
       "CatBoostRegressor()                             0                   0   \n",
       "CatBoostRegressor                               0                   0   \n",
       "XGBRegressor                                    0                   0   \n",
       "RandomForestRegressor                           5                   1   \n",
       "LGBMRegressor                                   0                   0   \n",
       "HistGradientBoostingRegressor                   0                   0   \n",
       "GradientBoostingRegressor                       0                   0   \n",
       "DecisionTreeRegressor                           0                   0   \n",
       "Lasso                                           0                   0   \n",
       "Ridge                                           0                   0   \n",
       "LinearRegression                                0                   0   \n",
       "ElasticNet                                      0                   0   \n",
       "DummyRegressor                                  0                   0   \n",
       "\n",
       "                                                                      parameters  \n",
       "LGBMRegressor()                {'boosting_type': 'gbdt', 'class_weight': None...  \n",
       "XGBRegressor()                 {'objective': 'reg:squarederror', 'base_score'...  \n",
       "CatBoostRegressor()            {'loss_function': 'RMSE', 'silent': True, 'ran...  \n",
       "CatBoostRegressor              {'loss_function': 'RMSE', 'silent': True, 'ran...  \n",
       "XGBRegressor                   {'objective': 'reg:squarederror', 'base_score'...  \n",
       "RandomForestRegressor          {'bootstrap': True, 'ccp_alpha': 0.0, 'criteri...  \n",
       "LGBMRegressor                  {'boosting_type': 'gbdt', 'class_weight': None...  \n",
       "HistGradientBoostingRegressor  {'categorical_features': None, 'early_stopping...  \n",
       "GradientBoostingRegressor      {'alpha': 0.9, 'ccp_alpha': 0.0, 'criterion': ...  \n",
       "DecisionTreeRegressor          {'ccp_alpha': 0.0, 'criterion': 'squared_error...  \n",
       "Lasso                          {'alpha': 1.0, 'copy_X': True, 'fit_intercept'...  \n",
       "Ridge                          {'alpha': 1.0, 'copy_X': True, 'fit_intercept'...  \n",
       "LinearRegression               {'copy_X': True, 'fit_intercept': True, 'n_job...  \n",
       "ElasticNet                     {'alpha': 1.0, 'copy_X': True, 'fit_intercept'...  \n",
       "DummyRegressor                 {'constant': None, 'quantile': None, 'strategy...  "
      ]
     },
     "execution_count": 26,
     "metadata": {},
     "output_type": "execute_result"
    }
   ],
   "source": [
    "%%time\n",
    "for model_name, params, tune_params in model_params:\n",
    "    best_model = [0, 1e10, 0, 0, 0, '']\n",
    "    print('='*20, model_name, '='*20)\n",
    "    for tune_param in yield_next_param(tune_params):\n",
    "        model=eval(model_name)\n",
    "        model.set_params(**params)\n",
    "        model.set_params(**tune_param)\n",
    "        result = fit_predict_mark_time(model_name, model, X_train, y_train, X_valid, y_valid, tune=tune_param)\n",
    "        if best_model[1] > result[1]:\n",
    "            best_model = result\n",
    "    df_res.loc[model_name] = best_model\n",
    "    \n",
    "df_res.sort_values(by='valid RMSE')"
   ]
  },
  {
   "cell_type": "code",
   "execution_count": 27,
   "metadata": {},
   "outputs": [
    {
     "data": {
      "text/plain": [
       "{'boosting_type': 'gbdt',\n",
       " 'class_weight': None,\n",
       " 'colsample_bytree': 1.0,\n",
       " 'importance_type': 'split',\n",
       " 'learning_rate': 0.2,\n",
       " 'max_depth': -1,\n",
       " 'min_child_samples': 20,\n",
       " 'min_child_weight': 0.001,\n",
       " 'min_split_gain': 0.0,\n",
       " 'n_estimators': 200,\n",
       " 'n_jobs': None,\n",
       " 'num_leaves': 200,\n",
       " 'objective': None,\n",
       " 'random_state': 42,\n",
       " 'reg_alpha': 0.0,\n",
       " 'reg_lambda': 0.0,\n",
       " 'subsample': 1.0,\n",
       " 'subsample_for_bin': 200000,\n",
       " 'subsample_freq': 0,\n",
       " 'verbosity': 0}"
      ]
     },
     "execution_count": 27,
     "metadata": {},
     "output_type": "execute_result"
    }
   ],
   "source": [
    "# Найдены лучшие параметры\n",
    "\n",
    "df_res.loc['LGBMRegressor()'].parameters"
   ]
  },
  {
   "cell_type": "markdown",
   "metadata": {},
   "source": [
    "Протестируем CatBoostRegressor (default iterations=1000) и LGBMRegressor (default n_estimators=100) с использованием внутренних кодировщиков категориальных переменных с минимальной предобработкой."
   ]
  },
  {
   "cell_type": "code",
   "execution_count": 28,
   "metadata": {},
   "outputs": [
    {
     "name": "stdout",
     "output_type": "stream",
     "text": [
      "CatBoostRegressor (native):[default] RMSE (train/valid): 1431.46/1700.98, time (fit/train/valid, s): 96/1/0\n",
      "LGBMRegressor(native):[default]     RMSE (train/valid): 1391.19/1683.23, time (fit/train/valid, s): 1/0/0\n",
      "CPU times: total: 1min 6s\n",
      "Wall time: 1min 38s\n"
     ]
    }
   ],
   "source": [
    "%%time\n",
    "X_train_check, X_valid_check, _, y_train_check, y_valid_check, _ = train_test_val_split(df, drop_target='price', silent=True)\n",
    "X_train_check.fillna(\"NaN\", inplace=True)\n",
    "X_valid_check.fillna(\"NaN\", inplace=True)\n",
    "\n",
    "cbr = CatBoostRegressor(silent=True, random_state=RANDOM_STATE, \n",
    "                        learning_rate=0.2, depth=10, \n",
    "                        cat_features=['vehicle_type', 'gearbox', 'fuel_type', 'repaired', 'model_name'])\n",
    "\n",
    "fit_predict_mark_time('CatBoostRegressor (native)', cbr, X_train_check, y_train_check, X_valid_check, y_valid_check)\n",
    "\n",
    "X_train_check, X_valid_check, _, y_train_check, y_valid_check, _ = train_test_val_split(df, drop_target='price', silent=True)\n",
    "object_list = list(X_train_check.select_dtypes(include='object').columns)\n",
    "X_train_check[object_list] = X_train_check[object_list].astype('category')\n",
    "X_valid_check[object_list] = X_valid_check[object_list].astype('category')\n",
    "lgbmr = LGBMRegressor(random_state=RANDOM_STATE, verbosity=-1, learning_rate= 0.2, num_leaves= 200)\n",
    "\n",
    "_ = fit_predict_mark_time('LGBMRegressor(native)', lgbmr, X_train_check, y_train_check, X_valid_check, y_valid_check)"
   ]
  },
  {
   "cell_type": "markdown",
   "metadata": {},
   "source": [
    "Результат с внутренними кодировщиками лучше, причем LGBMRegressor работает гораздо быстрее."
   ]
  },
  {
   "cell_type": "markdown",
   "metadata": {},
   "source": [
    "**Выводы по п 2**\n",
    "- был предварительно протестирован с параметрами по умолчанию ряд регрессионных моделей, включая базовую модель\n",
    "- по значениям RMSE на валидационной выборке были выбраны три модели: \n",
    "    - RandomForestRegressor\n",
    "    - XGBRegressor\n",
    "    - LGBMRegressor\n",
    "- с помощью поиска по сетке были подобраны основные гиперпараметры для этих моделей"
   ]
  },
  {
   "cell_type": "markdown",
   "metadata": {},
   "source": [
    "## Анализ моделей"
   ]
  },
  {
   "cell_type": "markdown",
   "metadata": {},
   "source": [
    "Сравним время работы моделей с параметрами по умолчанию и с подобранными параметрами (скобки после названия модели):"
   ]
  },
  {
   "cell_type": "code",
   "execution_count": 29,
   "metadata": {},
   "outputs": [
    {
     "data": {
      "text/html": [
       "<div>\n",
       "<style scoped>\n",
       "    .dataframe tbody tr th:only-of-type {\n",
       "        vertical-align: middle;\n",
       "    }\n",
       "\n",
       "    .dataframe tbody tr th {\n",
       "        vertical-align: top;\n",
       "    }\n",
       "\n",
       "    .dataframe thead th {\n",
       "        text-align: right;\n",
       "    }\n",
       "</style>\n",
       "<table border=\"1\" class=\"dataframe\">\n",
       "  <thead>\n",
       "    <tr style=\"text-align: right;\">\n",
       "      <th></th>\n",
       "      <th>train RMSE</th>\n",
       "      <th>valid RMSE</th>\n",
       "      <th>fit time</th>\n",
       "      <th>predict train time</th>\n",
       "      <th>predict valid time</th>\n",
       "      <th>parameters</th>\n",
       "    </tr>\n",
       "  </thead>\n",
       "  <tbody>\n",
       "    <tr>\n",
       "      <th>LGBMRegressor()</th>\n",
       "      <td>1344.44</td>\n",
       "      <td>1696.69</td>\n",
       "      <td>1</td>\n",
       "      <td>0</td>\n",
       "      <td>0</td>\n",
       "      <td>{'boosting_type': 'gbdt', 'class_weight': None...</td>\n",
       "    </tr>\n",
       "    <tr>\n",
       "      <th>XGBRegressor()</th>\n",
       "      <td>1453.04</td>\n",
       "      <td>1728.63</td>\n",
       "      <td>1</td>\n",
       "      <td>0</td>\n",
       "      <td>0</td>\n",
       "      <td>{'objective': 'reg:squarederror', 'base_score'...</td>\n",
       "    </tr>\n",
       "    <tr>\n",
       "      <th>CatBoostRegressor()</th>\n",
       "      <td>1536.38</td>\n",
       "      <td>1733.30</td>\n",
       "      <td>4</td>\n",
       "      <td>0</td>\n",
       "      <td>0</td>\n",
       "      <td>{'loss_function': 'RMSE', 'silent': True, 'ran...</td>\n",
       "    </tr>\n",
       "    <tr>\n",
       "      <th>CatBoostRegressor</th>\n",
       "      <td>1641.56</td>\n",
       "      <td>1763.00</td>\n",
       "      <td>5</td>\n",
       "      <td>0</td>\n",
       "      <td>0</td>\n",
       "      <td>{'loss_function': 'RMSE', 'silent': True, 'ran...</td>\n",
       "    </tr>\n",
       "    <tr>\n",
       "      <th>XGBRegressor</th>\n",
       "      <td>1624.20</td>\n",
       "      <td>1775.69</td>\n",
       "      <td>0</td>\n",
       "      <td>0</td>\n",
       "      <td>0</td>\n",
       "      <td>{'objective': 'reg:squarederror', 'base_score'...</td>\n",
       "    </tr>\n",
       "    <tr>\n",
       "      <th>RandomForestRegressor</th>\n",
       "      <td>973.78</td>\n",
       "      <td>1779.77</td>\n",
       "      <td>49</td>\n",
       "      <td>5</td>\n",
       "      <td>1</td>\n",
       "      <td>{'bootstrap': True, 'ccp_alpha': 0.0, 'criteri...</td>\n",
       "    </tr>\n",
       "    <tr>\n",
       "      <th>LGBMRegressor</th>\n",
       "      <td>1769.93</td>\n",
       "      <td>1837.76</td>\n",
       "      <td>1</td>\n",
       "      <td>0</td>\n",
       "      <td>0</td>\n",
       "      <td>{'boosting_type': 'gbdt', 'class_weight': None...</td>\n",
       "    </tr>\n",
       "    <tr>\n",
       "      <th>HistGradientBoostingRegressor</th>\n",
       "      <td>1789.45</td>\n",
       "      <td>1856.07</td>\n",
       "      <td>1</td>\n",
       "      <td>0</td>\n",
       "      <td>0</td>\n",
       "      <td>{'categorical_features': None, 'early_stopping...</td>\n",
       "    </tr>\n",
       "    <tr>\n",
       "      <th>GradientBoostingRegressor</th>\n",
       "      <td>1970.40</td>\n",
       "      <td>2011.42</td>\n",
       "      <td>11</td>\n",
       "      <td>0</td>\n",
       "      <td>0</td>\n",
       "      <td>{'alpha': 0.9, 'ccp_alpha': 0.0, 'criterion': ...</td>\n",
       "    </tr>\n",
       "    <tr>\n",
       "      <th>DecisionTreeRegressor</th>\n",
       "      <td>818.43</td>\n",
       "      <td>2194.40</td>\n",
       "      <td>1</td>\n",
       "      <td>0</td>\n",
       "      <td>0</td>\n",
       "      <td>{'ccp_alpha': 0.0, 'criterion': 'squared_error...</td>\n",
       "    </tr>\n",
       "    <tr>\n",
       "      <th>Lasso</th>\n",
       "      <td>2821.92</td>\n",
       "      <td>2854.85</td>\n",
       "      <td>0</td>\n",
       "      <td>0</td>\n",
       "      <td>0</td>\n",
       "      <td>{'alpha': 1.0, 'copy_X': True, 'fit_intercept'...</td>\n",
       "    </tr>\n",
       "    <tr>\n",
       "      <th>Ridge</th>\n",
       "      <td>2821.36</td>\n",
       "      <td>2854.86</td>\n",
       "      <td>0</td>\n",
       "      <td>0</td>\n",
       "      <td>0</td>\n",
       "      <td>{'alpha': 1.0, 'copy_X': True, 'fit_intercept'...</td>\n",
       "    </tr>\n",
       "    <tr>\n",
       "      <th>LinearRegression</th>\n",
       "      <td>2821.36</td>\n",
       "      <td>2854.87</td>\n",
       "      <td>0</td>\n",
       "      <td>0</td>\n",
       "      <td>0</td>\n",
       "      <td>{'copy_X': True, 'fit_intercept': True, 'n_job...</td>\n",
       "    </tr>\n",
       "    <tr>\n",
       "      <th>ElasticNet</th>\n",
       "      <td>2923.26</td>\n",
       "      <td>2954.37</td>\n",
       "      <td>0</td>\n",
       "      <td>0</td>\n",
       "      <td>0</td>\n",
       "      <td>{'alpha': 1.0, 'copy_X': True, 'fit_intercept'...</td>\n",
       "    </tr>\n",
       "    <tr>\n",
       "      <th>DummyRegressor</th>\n",
       "      <td>4558.55</td>\n",
       "      <td>4584.49</td>\n",
       "      <td>0</td>\n",
       "      <td>0</td>\n",
       "      <td>0</td>\n",
       "      <td>{'constant': None, 'quantile': None, 'strategy...</td>\n",
       "    </tr>\n",
       "  </tbody>\n",
       "</table>\n",
       "</div>"
      ],
      "text/plain": [
       "                               train RMSE  valid RMSE  fit time  \\\n",
       "LGBMRegressor()                   1344.44     1696.69         1   \n",
       "XGBRegressor()                    1453.04     1728.63         1   \n",
       "CatBoostRegressor()               1536.38     1733.30         4   \n",
       "CatBoostRegressor                 1641.56     1763.00         5   \n",
       "XGBRegressor                      1624.20     1775.69         0   \n",
       "RandomForestRegressor              973.78     1779.77        49   \n",
       "LGBMRegressor                     1769.93     1837.76         1   \n",
       "HistGradientBoostingRegressor     1789.45     1856.07         1   \n",
       "GradientBoostingRegressor         1970.40     2011.42        11   \n",
       "DecisionTreeRegressor              818.43     2194.40         1   \n",
       "Lasso                             2821.92     2854.85         0   \n",
       "Ridge                             2821.36     2854.86         0   \n",
       "LinearRegression                  2821.36     2854.87         0   \n",
       "ElasticNet                        2923.26     2954.37         0   \n",
       "DummyRegressor                    4558.55     4584.49         0   \n",
       "\n",
       "                               predict train time  predict valid time  \\\n",
       "LGBMRegressor()                                 0                   0   \n",
       "XGBRegressor()                                  0                   0   \n",
       "CatBoostRegressor()                             0                   0   \n",
       "CatBoostRegressor                               0                   0   \n",
       "XGBRegressor                                    0                   0   \n",
       "RandomForestRegressor                           5                   1   \n",
       "LGBMRegressor                                   0                   0   \n",
       "HistGradientBoostingRegressor                   0                   0   \n",
       "GradientBoostingRegressor                       0                   0   \n",
       "DecisionTreeRegressor                           0                   0   \n",
       "Lasso                                           0                   0   \n",
       "Ridge                                           0                   0   \n",
       "LinearRegression                                0                   0   \n",
       "ElasticNet                                      0                   0   \n",
       "DummyRegressor                                  0                   0   \n",
       "\n",
       "                                                                      parameters  \n",
       "LGBMRegressor()                {'boosting_type': 'gbdt', 'class_weight': None...  \n",
       "XGBRegressor()                 {'objective': 'reg:squarederror', 'base_score'...  \n",
       "CatBoostRegressor()            {'loss_function': 'RMSE', 'silent': True, 'ran...  \n",
       "CatBoostRegressor              {'loss_function': 'RMSE', 'silent': True, 'ran...  \n",
       "XGBRegressor                   {'objective': 'reg:squarederror', 'base_score'...  \n",
       "RandomForestRegressor          {'bootstrap': True, 'ccp_alpha': 0.0, 'criteri...  \n",
       "LGBMRegressor                  {'boosting_type': 'gbdt', 'class_weight': None...  \n",
       "HistGradientBoostingRegressor  {'categorical_features': None, 'early_stopping...  \n",
       "GradientBoostingRegressor      {'alpha': 0.9, 'ccp_alpha': 0.0, 'criterion': ...  \n",
       "DecisionTreeRegressor          {'ccp_alpha': 0.0, 'criterion': 'squared_error...  \n",
       "Lasso                          {'alpha': 1.0, 'copy_X': True, 'fit_intercept'...  \n",
       "Ridge                          {'alpha': 1.0, 'copy_X': True, 'fit_intercept'...  \n",
       "LinearRegression               {'copy_X': True, 'fit_intercept': True, 'n_job...  \n",
       "ElasticNet                     {'alpha': 1.0, 'copy_X': True, 'fit_intercept'...  \n",
       "DummyRegressor                 {'constant': None, 'quantile': None, 'strategy...  "
      ]
     },
     "execution_count": 29,
     "metadata": {},
     "output_type": "execute_result"
    }
   ],
   "source": [
    "df_res.sort_values(by='valid RMSE')"
   ]
  },
  {
   "cell_type": "code",
   "execution_count": 30,
   "metadata": {},
   "outputs": [
    {
     "data": {
      "text/html": [
       "<div>\n",
       "<style scoped>\n",
       "    .dataframe tbody tr th:only-of-type {\n",
       "        vertical-align: middle;\n",
       "    }\n",
       "\n",
       "    .dataframe tbody tr th {\n",
       "        vertical-align: top;\n",
       "    }\n",
       "\n",
       "    .dataframe thead th {\n",
       "        text-align: right;\n",
       "    }\n",
       "</style>\n",
       "<table border=\"1\" class=\"dataframe\">\n",
       "  <thead>\n",
       "    <tr style=\"text-align: right;\">\n",
       "      <th></th>\n",
       "      <th>train RMSE</th>\n",
       "      <th>valid RMSE</th>\n",
       "      <th>fit time</th>\n",
       "      <th>predict train time</th>\n",
       "      <th>predict valid time</th>\n",
       "      <th>parameters</th>\n",
       "    </tr>\n",
       "  </thead>\n",
       "  <tbody>\n",
       "    <tr>\n",
       "      <th>LGBMRegressor()</th>\n",
       "      <td>1344.44</td>\n",
       "      <td>1696.69</td>\n",
       "      <td>1</td>\n",
       "      <td>0</td>\n",
       "      <td>0</td>\n",
       "      <td>{'boosting_type': 'gbdt', 'class_weight': None...</td>\n",
       "    </tr>\n",
       "    <tr>\n",
       "      <th>XGBRegressor()</th>\n",
       "      <td>1453.04</td>\n",
       "      <td>1728.63</td>\n",
       "      <td>1</td>\n",
       "      <td>0</td>\n",
       "      <td>0</td>\n",
       "      <td>{'objective': 'reg:squarederror', 'base_score'...</td>\n",
       "    </tr>\n",
       "    <tr>\n",
       "      <th>CatBoostRegressor()</th>\n",
       "      <td>1536.38</td>\n",
       "      <td>1733.30</td>\n",
       "      <td>4</td>\n",
       "      <td>0</td>\n",
       "      <td>0</td>\n",
       "      <td>{'loss_function': 'RMSE', 'silent': True, 'ran...</td>\n",
       "    </tr>\n",
       "    <tr>\n",
       "      <th>CatBoostRegressor</th>\n",
       "      <td>1641.56</td>\n",
       "      <td>1763.00</td>\n",
       "      <td>5</td>\n",
       "      <td>0</td>\n",
       "      <td>0</td>\n",
       "      <td>{'loss_function': 'RMSE', 'silent': True, 'ran...</td>\n",
       "    </tr>\n",
       "    <tr>\n",
       "      <th>XGBRegressor</th>\n",
       "      <td>1624.20</td>\n",
       "      <td>1775.69</td>\n",
       "      <td>0</td>\n",
       "      <td>0</td>\n",
       "      <td>0</td>\n",
       "      <td>{'objective': 'reg:squarederror', 'base_score'...</td>\n",
       "    </tr>\n",
       "    <tr>\n",
       "      <th>LGBMRegressor</th>\n",
       "      <td>1769.93</td>\n",
       "      <td>1837.76</td>\n",
       "      <td>1</td>\n",
       "      <td>0</td>\n",
       "      <td>0</td>\n",
       "      <td>{'boosting_type': 'gbdt', 'class_weight': None...</td>\n",
       "    </tr>\n",
       "  </tbody>\n",
       "</table>\n",
       "</div>"
      ],
      "text/plain": [
       "                     train RMSE  valid RMSE  fit time  predict train time  \\\n",
       "LGBMRegressor()         1344.44     1696.69         1                   0   \n",
       "XGBRegressor()          1453.04     1728.63         1                   0   \n",
       "CatBoostRegressor()     1536.38     1733.30         4                   0   \n",
       "CatBoostRegressor       1641.56     1763.00         5                   0   \n",
       "XGBRegressor            1624.20     1775.69         0                   0   \n",
       "LGBMRegressor           1769.93     1837.76         1                   0   \n",
       "\n",
       "                     predict valid time  \\\n",
       "LGBMRegressor()                       0   \n",
       "XGBRegressor()                        0   \n",
       "CatBoostRegressor()                   0   \n",
       "CatBoostRegressor                     0   \n",
       "XGBRegressor                          0   \n",
       "LGBMRegressor                         0   \n",
       "\n",
       "                                                            parameters  \n",
       "LGBMRegressor()      {'boosting_type': 'gbdt', 'class_weight': None...  \n",
       "XGBRegressor()       {'objective': 'reg:squarederror', 'base_score'...  \n",
       "CatBoostRegressor()  {'loss_function': 'RMSE', 'silent': True, 'ran...  \n",
       "CatBoostRegressor    {'loss_function': 'RMSE', 'silent': True, 'ran...  \n",
       "XGBRegressor         {'objective': 'reg:squarederror', 'base_score'...  \n",
       "LGBMRegressor        {'boosting_type': 'gbdt', 'class_weight': None...  "
      ]
     },
     "execution_count": 30,
     "metadata": {},
     "output_type": "execute_result"
    }
   ],
   "source": [
    "df_res.loc[['CatBoostRegressor','CatBoostRegressor()', \n",
    "            'XGBRegressor', 'XGBRegressor()', \n",
    "            'LGBMRegressor', 'LGBMRegressor()']].sort_values(by='valid RMSE')"
   ]
  },
  {
   "cell_type": "markdown",
   "metadata": {},
   "source": [
    "Модели с градиентным бустингом требуют больше времени для настройки, чем RandomForestRegressor.  \n",
    "Однако время предсказания у них ниже.  \n",
    "Если принять, что скорость настройки является менее значимым параметром, т.к. проводится один раз, то выбираем модель по критерию точности и скорости предсказания - LGBMRegressor.  \n",
    "Для заказчика это будет выглядеть так:  \n",
    "есть обновляемая база данных, один раз в день или чаще будет производиться настройка модели с заданной точностью, а при продаже автомобиля оценка стоимости будет занимать 5 s."
   ]
  },
  {
   "cell_type": "markdown",
   "metadata": {},
   "source": [
    "Окончательная настройка модели и проверка на тестовом наборе."
   ]
  },
  {
   "cell_type": "code",
   "execution_count": 31,
   "metadata": {},
   "outputs": [
    {
     "data": {
      "text/plain": [
       "{'boosting_type': 'gbdt',\n",
       " 'class_weight': None,\n",
       " 'colsample_bytree': 1.0,\n",
       " 'importance_type': 'split',\n",
       " 'learning_rate': 0.2,\n",
       " 'max_depth': -1,\n",
       " 'min_child_samples': 20,\n",
       " 'min_child_weight': 0.001,\n",
       " 'min_split_gain': 0.0,\n",
       " 'n_estimators': 200,\n",
       " 'n_jobs': None,\n",
       " 'num_leaves': 200,\n",
       " 'objective': None,\n",
       " 'random_state': 42,\n",
       " 'reg_alpha': 0.0,\n",
       " 'reg_lambda': 0.0,\n",
       " 'subsample': 1.0,\n",
       " 'subsample_for_bin': 200000,\n",
       " 'subsample_freq': 0,\n",
       " 'verbosity': 0}"
      ]
     },
     "execution_count": 31,
     "metadata": {},
     "output_type": "execute_result"
    }
   ],
   "source": [
    "best_params = df_res.loc['LGBMRegressor()'].parameters\n",
    "model = LGBMRegressor(**best_params)\n",
    "model.get_params()"
   ]
  },
  {
   "cell_type": "code",
   "execution_count": 32,
   "metadata": {},
   "outputs": [
    {
     "data": {
      "text/html": [
       "<div>\n",
       "<style scoped>\n",
       "    .dataframe tbody tr th:only-of-type {\n",
       "        vertical-align: middle;\n",
       "    }\n",
       "\n",
       "    .dataframe tbody tr th {\n",
       "        vertical-align: top;\n",
       "    }\n",
       "\n",
       "    .dataframe thead th {\n",
       "        text-align: right;\n",
       "    }\n",
       "</style>\n",
       "<table border=\"1\" class=\"dataframe\">\n",
       "  <thead>\n",
       "    <tr style=\"text-align: right;\">\n",
       "      <th></th>\n",
       "      <th>train RMSE</th>\n",
       "      <th>valid RMSE</th>\n",
       "      <th>fit time</th>\n",
       "      <th>predict train time</th>\n",
       "      <th>predict valid time</th>\n",
       "      <th>parameters</th>\n",
       "    </tr>\n",
       "  </thead>\n",
       "  <tbody>\n",
       "    <tr>\n",
       "      <th>DummyRegressor</th>\n",
       "      <td>4558.55</td>\n",
       "      <td>4584.49</td>\n",
       "      <td>0</td>\n",
       "      <td>0</td>\n",
       "      <td>0</td>\n",
       "      <td>{'constant': None, 'quantile': None, 'strategy...</td>\n",
       "    </tr>\n",
       "    <tr>\n",
       "      <th>LinearRegression</th>\n",
       "      <td>2821.36</td>\n",
       "      <td>2854.87</td>\n",
       "      <td>0</td>\n",
       "      <td>0</td>\n",
       "      <td>0</td>\n",
       "      <td>{'copy_X': True, 'fit_intercept': True, 'n_job...</td>\n",
       "    </tr>\n",
       "    <tr>\n",
       "      <th>Ridge</th>\n",
       "      <td>2821.36</td>\n",
       "      <td>2854.86</td>\n",
       "      <td>0</td>\n",
       "      <td>0</td>\n",
       "      <td>0</td>\n",
       "      <td>{'alpha': 1.0, 'copy_X': True, 'fit_intercept'...</td>\n",
       "    </tr>\n",
       "    <tr>\n",
       "      <th>ElasticNet</th>\n",
       "      <td>2923.26</td>\n",
       "      <td>2954.37</td>\n",
       "      <td>0</td>\n",
       "      <td>0</td>\n",
       "      <td>0</td>\n",
       "      <td>{'alpha': 1.0, 'copy_X': True, 'fit_intercept'...</td>\n",
       "    </tr>\n",
       "    <tr>\n",
       "      <th>Lasso</th>\n",
       "      <td>2821.92</td>\n",
       "      <td>2854.85</td>\n",
       "      <td>0</td>\n",
       "      <td>0</td>\n",
       "      <td>0</td>\n",
       "      <td>{'alpha': 1.0, 'copy_X': True, 'fit_intercept'...</td>\n",
       "    </tr>\n",
       "    <tr>\n",
       "      <th>DecisionTreeRegressor</th>\n",
       "      <td>818.43</td>\n",
       "      <td>2194.40</td>\n",
       "      <td>1</td>\n",
       "      <td>0</td>\n",
       "      <td>0</td>\n",
       "      <td>{'ccp_alpha': 0.0, 'criterion': 'squared_error...</td>\n",
       "    </tr>\n",
       "    <tr>\n",
       "      <th>RandomForestRegressor</th>\n",
       "      <td>973.78</td>\n",
       "      <td>1779.77</td>\n",
       "      <td>49</td>\n",
       "      <td>5</td>\n",
       "      <td>1</td>\n",
       "      <td>{'bootstrap': True, 'ccp_alpha': 0.0, 'criteri...</td>\n",
       "    </tr>\n",
       "    <tr>\n",
       "      <th>GradientBoostingRegressor</th>\n",
       "      <td>1970.40</td>\n",
       "      <td>2011.42</td>\n",
       "      <td>11</td>\n",
       "      <td>0</td>\n",
       "      <td>0</td>\n",
       "      <td>{'alpha': 0.9, 'ccp_alpha': 0.0, 'criterion': ...</td>\n",
       "    </tr>\n",
       "    <tr>\n",
       "      <th>XGBRegressor</th>\n",
       "      <td>1624.20</td>\n",
       "      <td>1775.69</td>\n",
       "      <td>0</td>\n",
       "      <td>0</td>\n",
       "      <td>0</td>\n",
       "      <td>{'objective': 'reg:squarederror', 'base_score'...</td>\n",
       "    </tr>\n",
       "    <tr>\n",
       "      <th>HistGradientBoostingRegressor</th>\n",
       "      <td>1789.45</td>\n",
       "      <td>1856.07</td>\n",
       "      <td>1</td>\n",
       "      <td>0</td>\n",
       "      <td>0</td>\n",
       "      <td>{'categorical_features': None, 'early_stopping...</td>\n",
       "    </tr>\n",
       "    <tr>\n",
       "      <th>CatBoostRegressor</th>\n",
       "      <td>1641.56</td>\n",
       "      <td>1763.00</td>\n",
       "      <td>5</td>\n",
       "      <td>0</td>\n",
       "      <td>0</td>\n",
       "      <td>{'loss_function': 'RMSE', 'silent': True, 'ran...</td>\n",
       "    </tr>\n",
       "    <tr>\n",
       "      <th>LGBMRegressor</th>\n",
       "      <td>1769.93</td>\n",
       "      <td>1837.76</td>\n",
       "      <td>1</td>\n",
       "      <td>0</td>\n",
       "      <td>0</td>\n",
       "      <td>{'boosting_type': 'gbdt', 'class_weight': None...</td>\n",
       "    </tr>\n",
       "    <tr>\n",
       "      <th>CatBoostRegressor()</th>\n",
       "      <td>1536.38</td>\n",
       "      <td>1733.30</td>\n",
       "      <td>4</td>\n",
       "      <td>0</td>\n",
       "      <td>0</td>\n",
       "      <td>{'loss_function': 'RMSE', 'silent': True, 'ran...</td>\n",
       "    </tr>\n",
       "    <tr>\n",
       "      <th>XGBRegressor()</th>\n",
       "      <td>1453.04</td>\n",
       "      <td>1728.63</td>\n",
       "      <td>1</td>\n",
       "      <td>0</td>\n",
       "      <td>0</td>\n",
       "      <td>{'objective': 'reg:squarederror', 'base_score'...</td>\n",
       "    </tr>\n",
       "    <tr>\n",
       "      <th>LGBMRegressor()</th>\n",
       "      <td>1344.44</td>\n",
       "      <td>1696.69</td>\n",
       "      <td>1</td>\n",
       "      <td>0</td>\n",
       "      <td>0</td>\n",
       "      <td>{'boosting_type': 'gbdt', 'class_weight': None...</td>\n",
       "    </tr>\n",
       "  </tbody>\n",
       "</table>\n",
       "</div>"
      ],
      "text/plain": [
       "                               train RMSE  valid RMSE  fit time  \\\n",
       "DummyRegressor                    4558.55     4584.49         0   \n",
       "LinearRegression                  2821.36     2854.87         0   \n",
       "Ridge                             2821.36     2854.86         0   \n",
       "ElasticNet                        2923.26     2954.37         0   \n",
       "Lasso                             2821.92     2854.85         0   \n",
       "DecisionTreeRegressor              818.43     2194.40         1   \n",
       "RandomForestRegressor              973.78     1779.77        49   \n",
       "GradientBoostingRegressor         1970.40     2011.42        11   \n",
       "XGBRegressor                      1624.20     1775.69         0   \n",
       "HistGradientBoostingRegressor     1789.45     1856.07         1   \n",
       "CatBoostRegressor                 1641.56     1763.00         5   \n",
       "LGBMRegressor                     1769.93     1837.76         1   \n",
       "CatBoostRegressor()               1536.38     1733.30         4   \n",
       "XGBRegressor()                    1453.04     1728.63         1   \n",
       "LGBMRegressor()                   1344.44     1696.69         1   \n",
       "\n",
       "                               predict train time  predict valid time  \\\n",
       "DummyRegressor                                  0                   0   \n",
       "LinearRegression                                0                   0   \n",
       "Ridge                                           0                   0   \n",
       "ElasticNet                                      0                   0   \n",
       "Lasso                                           0                   0   \n",
       "DecisionTreeRegressor                           0                   0   \n",
       "RandomForestRegressor                           5                   1   \n",
       "GradientBoostingRegressor                       0                   0   \n",
       "XGBRegressor                                    0                   0   \n",
       "HistGradientBoostingRegressor                   0                   0   \n",
       "CatBoostRegressor                               0                   0   \n",
       "LGBMRegressor                                   0                   0   \n",
       "CatBoostRegressor()                             0                   0   \n",
       "XGBRegressor()                                  0                   0   \n",
       "LGBMRegressor()                                 0                   0   \n",
       "\n",
       "                                                                      parameters  \n",
       "DummyRegressor                 {'constant': None, 'quantile': None, 'strategy...  \n",
       "LinearRegression               {'copy_X': True, 'fit_intercept': True, 'n_job...  \n",
       "Ridge                          {'alpha': 1.0, 'copy_X': True, 'fit_intercept'...  \n",
       "ElasticNet                     {'alpha': 1.0, 'copy_X': True, 'fit_intercept'...  \n",
       "Lasso                          {'alpha': 1.0, 'copy_X': True, 'fit_intercept'...  \n",
       "DecisionTreeRegressor          {'ccp_alpha': 0.0, 'criterion': 'squared_error...  \n",
       "RandomForestRegressor          {'bootstrap': True, 'ccp_alpha': 0.0, 'criteri...  \n",
       "GradientBoostingRegressor      {'alpha': 0.9, 'ccp_alpha': 0.0, 'criterion': ...  \n",
       "XGBRegressor                   {'objective': 'reg:squarederror', 'base_score'...  \n",
       "HistGradientBoostingRegressor  {'categorical_features': None, 'early_stopping...  \n",
       "CatBoostRegressor              {'loss_function': 'RMSE', 'silent': True, 'ran...  \n",
       "LGBMRegressor                  {'boosting_type': 'gbdt', 'class_weight': None...  \n",
       "CatBoostRegressor()            {'loss_function': 'RMSE', 'silent': True, 'ran...  \n",
       "XGBRegressor()                 {'objective': 'reg:squarederror', 'base_score'...  \n",
       "LGBMRegressor()                {'boosting_type': 'gbdt', 'class_weight': None...  "
      ]
     },
     "execution_count": 32,
     "metadata": {},
     "output_type": "execute_result"
    }
   ],
   "source": [
    "df_res"
   ]
  },
  {
   "cell_type": "code",
   "execution_count": 33,
   "metadata": {},
   "outputs": [
    {
     "name": "stdout",
     "output_type": "stream",
     "text": [
      "LGBMRegressor(test):[default]       RMSE (train/valid): 1344.44/1665.9, time (fit/train/valid, s): 1/0/0\n",
      "CPU times: total: 7.81 s\n",
      "Wall time: 1.13 s\n"
     ]
    }
   ],
   "source": [
    "%%time\n",
    "\n",
    "model_name = 'LGBMRegressor(test)'\n",
    "df_res.loc[model_name] = fit_predict_mark_time(model_name, model, X_train, y_train, X_test, y_test);"
   ]
  },
  {
   "cell_type": "code",
   "execution_count": 34,
   "metadata": {},
   "outputs": [
    {
     "name": "stdout",
     "output_type": "stream",
     "text": [
      "LGBMRegressor(train+valid -> test):[default] RMSE (train/valid): 1370.9/1647.42, time (fit/train/valid, s): 1/0/0\n",
      "CPU times: total: 8.27 s\n",
      "Wall time: 1.19 s\n"
     ]
    }
   ],
   "source": [
    "%%time\n",
    "# Немного улучшит результат дообучение модели на валидационной выборке, т.к. добавится больше дополнительных данных о категориях\n",
    "\n",
    "model_name = 'LGBMRegressor(train+valid -> test)'\n",
    "df_res.loc[model_name] = fit_predict_mark_time(model_name, model,\n",
    "                       pd.concat([X_train, X_valid]), \n",
    "                       pd.concat([y_train,y_valid]), X_test, y_test)"
   ]
  },
  {
   "cell_type": "code",
   "execution_count": 35,
   "metadata": {},
   "outputs": [
    {
     "name": "stdout",
     "output_type": "stream",
     "text": [
      "DummyRegressor(test):[default]      RMSE (train/valid): 4558.55/4601.58, time (fit/train/valid, s): 0/0/0\n",
      "CPU times: total: 15.6 ms\n",
      "Wall time: 3 ms\n"
     ]
    },
    {
     "data": {
      "text/html": [
       "<div>\n",
       "<style scoped>\n",
       "    .dataframe tbody tr th:only-of-type {\n",
       "        vertical-align: middle;\n",
       "    }\n",
       "\n",
       "    .dataframe tbody tr th {\n",
       "        vertical-align: top;\n",
       "    }\n",
       "\n",
       "    .dataframe thead th {\n",
       "        text-align: right;\n",
       "    }\n",
       "</style>\n",
       "<table border=\"1\" class=\"dataframe\">\n",
       "  <thead>\n",
       "    <tr style=\"text-align: right;\">\n",
       "      <th></th>\n",
       "      <th>train RMSE</th>\n",
       "      <th>valid RMSE</th>\n",
       "      <th>fit time</th>\n",
       "      <th>predict train time</th>\n",
       "      <th>predict valid time</th>\n",
       "      <th>parameters</th>\n",
       "    </tr>\n",
       "  </thead>\n",
       "  <tbody>\n",
       "    <tr>\n",
       "      <th>LGBMRegressor(test)</th>\n",
       "      <td>1344.44</td>\n",
       "      <td>1665.90</td>\n",
       "      <td>1</td>\n",
       "      <td>0</td>\n",
       "      <td>0</td>\n",
       "      <td>{'boosting_type': 'gbdt', 'class_weight': None...</td>\n",
       "    </tr>\n",
       "    <tr>\n",
       "      <th>LGBMRegressor(train+valid -&gt; test)</th>\n",
       "      <td>1370.90</td>\n",
       "      <td>1647.42</td>\n",
       "      <td>1</td>\n",
       "      <td>0</td>\n",
       "      <td>0</td>\n",
       "      <td>{'boosting_type': 'gbdt', 'class_weight': None...</td>\n",
       "    </tr>\n",
       "    <tr>\n",
       "      <th>DummyRegressor(test)</th>\n",
       "      <td>4558.55</td>\n",
       "      <td>4601.58</td>\n",
       "      <td>0</td>\n",
       "      <td>0</td>\n",
       "      <td>0</td>\n",
       "      <td>{'constant': None, 'quantile': None, 'strategy...</td>\n",
       "    </tr>\n",
       "  </tbody>\n",
       "</table>\n",
       "</div>"
      ],
      "text/plain": [
       "                                    train RMSE  valid RMSE  fit time  \\\n",
       "LGBMRegressor(test)                    1344.44     1665.90         1   \n",
       "LGBMRegressor(train+valid -> test)     1370.90     1647.42         1   \n",
       "DummyRegressor(test)                   4558.55     4601.58         0   \n",
       "\n",
       "                                    predict train time  predict valid time  \\\n",
       "LGBMRegressor(test)                                  0                   0   \n",
       "LGBMRegressor(train+valid -> test)                   0                   0   \n",
       "DummyRegressor(test)                                 0                   0   \n",
       "\n",
       "                                                                           parameters  \n",
       "LGBMRegressor(test)                 {'boosting_type': 'gbdt', 'class_weight': None...  \n",
       "LGBMRegressor(train+valid -> test)  {'boosting_type': 'gbdt', 'class_weight': None...  \n",
       "DummyRegressor(test)                {'constant': None, 'quantile': None, 'strategy...  "
      ]
     },
     "execution_count": 35,
     "metadata": {},
     "output_type": "execute_result"
    }
   ],
   "source": [
    "%%time\n",
    "# Сравнение с константной моделью\n",
    "\n",
    "model_name = 'DummyRegressor(test)'\n",
    "df_res.loc[model_name] = fit_predict_mark_time(model_name, DummyRegressor(), X_train, y_train, X_test, y_test)\n",
    "df_res.tail(3)"
   ]
  },
  {
   "cell_type": "markdown",
   "metadata": {},
   "source": [
    "**Выводы по п 3**\n",
    "- проведен анализ времени работы и метрик результатов работы трех моделей\n",
    "- по результатам этого анализа был выбрана модель LGBMRegressor\n",
    "- выбранная модель LGBMRegressor была оценена на тестовой выборке\n",
    "- была достигнуты целевые параметры модели RMSE = 1647.42 (< 2500), время настройки ~ 1 s, время предсказания ~ 0 s"
   ]
  },
  {
   "cell_type": "markdown",
   "metadata": {},
   "source": [
    "**Общий вывод**\n",
    "\n",
    "- импорт библиотек и загрузка данных прошла успешно, проведена подготовка данных и EDA\n",
    "- категориальные переменные закодированы, масштабирование переменных не проводилось\n",
    "- датасет большой, у категорий марок машин высокая кардинальность, таргет сильно зависит от этих категорий, поэтому лучшие результаты показывают модели, основанные на деревьях решений\n",
    "- предварительно были выбраны три модели, после чего к ним были подобраны гиперпараметры\n",
    "- проведен анализ времени работы и метрик результатов работы трех моделей\n",
    "- по результатам этого анализа был выбрана модель LGBMRegressor\n",
    "- была достигнута целевая метрика RMSE\n",
    "- в проекте критическим оказался размер датасета, который сильно влияет на время вычислений, и, следовательно, на подбор модели и параметров. Для последующей оптимизации стоит протестировать случайный поиск, методы с байесовской оптимизацией, с ускорением поиска по сетке, фреймворк Optuna и т.д. \n",
    "- размер датасета предполагает сложную и медленную модель, отражающую всю таблицу значений категорий (у нас 336 основных категорий), поэтому, возможно, более высокие значения параметров деревьев приведут к повышению точности моделей, но существенно понизять скорость настройки и предсказаний\n",
    "- в частности, для выбранной модели и особенностей датасета качество предсказания могли бы улучшить более высокие параметры n_estimators (> 500) и max_bin (>500)\n",
    "- классическая модель RandomForestRegressor также не была протестирована полностью, более точный подбор параметров глубины и узлов деревьев улучшит результат\n",
    "- имеющийся в свободном доступе широкий набор готовых методов позволяет построить модель предсказаний с требуемыми параметрами\n",
    "- в нашем случае удалось построить модель для предсказания цены автомобилей с оптимальными параметрами"
   ]
  }
 ],
 "metadata": {
  "ExecuteTimeLog": [
   {
    "duration": 3203,
    "start_time": "2023-12-23T15:44:14.415Z"
   },
   {
    "duration": 1580,
    "start_time": "2023-12-23T15:44:19.350Z"
   },
   {
    "duration": 11,
    "start_time": "2023-12-23T17:26:30.169Z"
   },
   {
    "duration": 1057,
    "start_time": "2023-12-23T17:27:39.467Z"
   },
   {
    "duration": 969,
    "start_time": "2023-12-23T17:27:58.838Z"
   },
   {
    "duration": 11,
    "start_time": "2023-12-23T17:28:24.896Z"
   },
   {
    "duration": 914,
    "start_time": "2023-12-23T17:28:25.922Z"
   },
   {
    "duration": 142,
    "start_time": "2023-12-23T17:28:41.342Z"
   },
   {
    "duration": 16,
    "start_time": "2023-12-23T17:29:27.999Z"
   },
   {
    "duration": 5,
    "start_time": "2023-12-23T17:31:02.041Z"
   },
   {
    "duration": 462,
    "start_time": "2023-12-23T17:31:48.897Z"
   },
   {
    "duration": 5,
    "start_time": "2023-12-23T17:58:06.608Z"
   },
   {
    "duration": 77,
    "start_time": "2023-12-23T18:03:13.921Z"
   },
   {
    "duration": 75,
    "start_time": "2023-12-23T18:03:45.006Z"
   },
   {
    "duration": 4,
    "start_time": "2023-12-23T18:03:57.784Z"
   },
   {
    "duration": 4,
    "start_time": "2023-12-23T18:05:09.856Z"
   },
   {
    "duration": 4,
    "start_time": "2023-12-23T18:05:11.322Z"
   },
   {
    "duration": 10,
    "start_time": "2023-12-23T18:05:31.029Z"
   },
   {
    "duration": 4,
    "start_time": "2023-12-23T18:05:35.215Z"
   },
   {
    "duration": 3,
    "start_time": "2023-12-23T18:05:36.281Z"
   },
   {
    "duration": 3,
    "start_time": "2023-12-23T18:05:37.651Z"
   },
   {
    "duration": 4,
    "start_time": "2023-12-23T18:05:38.169Z"
   },
   {
    "duration": 11,
    "start_time": "2023-12-23T18:06:15.976Z"
   },
   {
    "duration": 12,
    "start_time": "2023-12-23T18:06:33.681Z"
   },
   {
    "duration": 21,
    "start_time": "2023-12-23T18:07:21.882Z"
   },
   {
    "duration": 6,
    "start_time": "2023-12-23T18:07:51.258Z"
   },
   {
    "duration": 4,
    "start_time": "2023-12-23T18:08:36.910Z"
   },
   {
    "duration": 6,
    "start_time": "2023-12-23T18:08:50.974Z"
   },
   {
    "duration": 6,
    "start_time": "2023-12-23T18:09:04.022Z"
   },
   {
    "duration": 7,
    "start_time": "2023-12-23T18:09:12.292Z"
   },
   {
    "duration": 9,
    "start_time": "2023-12-23T18:09:26.629Z"
   },
   {
    "duration": 7,
    "start_time": "2023-12-23T18:09:43.665Z"
   },
   {
    "duration": 7,
    "start_time": "2023-12-23T18:09:51.368Z"
   },
   {
    "duration": 8,
    "start_time": "2023-12-23T18:10:02.382Z"
   },
   {
    "duration": 8,
    "start_time": "2023-12-23T18:10:06.798Z"
   },
   {
    "duration": 7,
    "start_time": "2023-12-23T18:10:15.702Z"
   },
   {
    "duration": 20,
    "start_time": "2023-12-23T18:10:50.441Z"
   },
   {
    "duration": 157,
    "start_time": "2023-12-23T18:11:06.905Z"
   },
   {
    "duration": 4,
    "start_time": "2023-12-23T18:11:18.451Z"
   },
   {
    "duration": 26,
    "start_time": "2023-12-23T18:12:27.943Z"
   },
   {
    "duration": 28,
    "start_time": "2023-12-23T18:12:32.374Z"
   },
   {
    "duration": 34,
    "start_time": "2023-12-23T18:12:49.586Z"
   },
   {
    "duration": 30,
    "start_time": "2023-12-23T18:12:55.318Z"
   },
   {
    "duration": 30,
    "start_time": "2023-12-23T18:13:05.216Z"
   },
   {
    "duration": 26,
    "start_time": "2023-12-23T18:13:31.271Z"
   },
   {
    "duration": 23,
    "start_time": "2023-12-23T18:13:51.831Z"
   },
   {
    "duration": 19,
    "start_time": "2023-12-23T18:13:57.171Z"
   },
   {
    "duration": 25,
    "start_time": "2023-12-23T18:14:24.459Z"
   },
   {
    "duration": 1411,
    "start_time": "2023-12-23T18:15:08.222Z"
   },
   {
    "duration": 13,
    "start_time": "2023-12-23T18:15:11.999Z"
   },
   {
    "duration": 1357,
    "start_time": "2023-12-23T18:15:15.873Z"
   },
   {
    "duration": 457,
    "start_time": "2023-12-23T18:15:48.450Z"
   },
   {
    "duration": 5,
    "start_time": "2023-12-23T18:16:13.566Z"
   },
   {
    "duration": 23,
    "start_time": "2023-12-23T18:16:31.486Z"
   },
   {
    "duration": 193,
    "start_time": "2023-12-23T18:17:08.745Z"
   },
   {
    "duration": 182,
    "start_time": "2023-12-23T18:17:23.093Z"
   },
   {
    "duration": 1477,
    "start_time": "2023-12-23T18:17:29.400Z"
   },
   {
    "duration": 42,
    "start_time": "2023-12-23T18:17:36.973Z"
   },
   {
    "duration": 49,
    "start_time": "2023-12-23T18:17:44.590Z"
   },
   {
    "duration": 69,
    "start_time": "2023-12-23T18:18:15.074Z"
   },
   {
    "duration": 48,
    "start_time": "2023-12-23T18:18:41.658Z"
   },
   {
    "duration": 30,
    "start_time": "2023-12-23T18:18:57.600Z"
   },
   {
    "duration": 26,
    "start_time": "2023-12-23T18:19:32.136Z"
   },
   {
    "duration": 391,
    "start_time": "2023-12-23T18:19:42.940Z"
   },
   {
    "duration": 613,
    "start_time": "2023-12-23T18:19:52.989Z"
   },
   {
    "duration": 28,
    "start_time": "2023-12-23T18:26:40.026Z"
   },
   {
    "duration": 36,
    "start_time": "2023-12-23T18:27:16.441Z"
   },
   {
    "duration": 567,
    "start_time": "2023-12-23T18:27:30.874Z"
   },
   {
    "duration": 9,
    "start_time": "2023-12-23T18:29:36.638Z"
   },
   {
    "duration": 210,
    "start_time": "2023-12-23T18:29:43.933Z"
   },
   {
    "duration": 139,
    "start_time": "2023-12-23T18:29:55.728Z"
   },
   {
    "duration": 136,
    "start_time": "2023-12-23T18:30:25.053Z"
   },
   {
    "duration": 61,
    "start_time": "2023-12-23T18:31:09.604Z"
   },
   {
    "duration": 153,
    "start_time": "2023-12-23T18:32:04.128Z"
   },
   {
    "duration": 152,
    "start_time": "2023-12-23T18:32:09.179Z"
   },
   {
    "duration": 8,
    "start_time": "2023-12-23T18:33:23.339Z"
   },
   {
    "duration": 566,
    "start_time": "2023-12-23T18:33:35.813Z"
   },
   {
    "duration": 7,
    "start_time": "2023-12-23T18:33:46.276Z"
   },
   {
    "duration": 815,
    "start_time": "2023-12-23T18:33:47.323Z"
   },
   {
    "duration": 1824,
    "start_time": "2023-12-23T18:36:15.991Z"
   },
   {
    "duration": 10,
    "start_time": "2023-12-23T18:36:59.794Z"
   },
   {
    "duration": 1574,
    "start_time": "2023-12-23T18:37:01.141Z"
   },
   {
    "duration": 9,
    "start_time": "2023-12-23T18:40:57.934Z"
   },
   {
    "duration": 225,
    "start_time": "2023-12-23T18:41:16.015Z"
   },
   {
    "duration": 71,
    "start_time": "2023-12-23T18:41:32.656Z"
   },
   {
    "duration": 212,
    "start_time": "2023-12-23T18:41:46.206Z"
   },
   {
    "duration": 81,
    "start_time": "2023-12-23T18:42:24.795Z"
   },
   {
    "duration": 21,
    "start_time": "2023-12-23T18:44:50.008Z"
   },
   {
    "duration": 12,
    "start_time": "2023-12-23T18:58:58.628Z"
   },
   {
    "duration": 109,
    "start_time": "2023-12-23T18:59:23.628Z"
   },
   {
    "duration": 117,
    "start_time": "2023-12-23T19:00:03.703Z"
   },
   {
    "duration": 113,
    "start_time": "2023-12-23T19:00:55.379Z"
   },
   {
    "duration": 120,
    "start_time": "2023-12-23T19:01:23.083Z"
   },
   {
    "duration": 109,
    "start_time": "2023-12-23T19:01:29.493Z"
   },
   {
    "duration": 117,
    "start_time": "2023-12-23T19:01:57.993Z"
   },
   {
    "duration": 99,
    "start_time": "2023-12-23T19:02:13.370Z"
   },
   {
    "duration": 115,
    "start_time": "2023-12-23T19:02:20.605Z"
   },
   {
    "duration": 125,
    "start_time": "2023-12-23T19:02:32.890Z"
   },
   {
    "duration": 253,
    "start_time": "2023-12-23T19:04:41.903Z"
   },
   {
    "duration": 24,
    "start_time": "2023-12-23T19:07:39.717Z"
   },
   {
    "duration": 23,
    "start_time": "2023-12-23T19:08:04.922Z"
   },
   {
    "duration": 23,
    "start_time": "2023-12-23T19:08:11.694Z"
   },
   {
    "duration": 60,
    "start_time": "2023-12-23T19:08:17.516Z"
   },
   {
    "duration": 510,
    "start_time": "2023-12-23T19:10:04.442Z"
   },
   {
    "duration": 282,
    "start_time": "2023-12-23T19:10:12.391Z"
   },
   {
    "duration": 61,
    "start_time": "2023-12-23T19:10:31.744Z"
   },
   {
    "duration": 62,
    "start_time": "2023-12-23T19:11:01.784Z"
   },
   {
    "duration": 47,
    "start_time": "2023-12-23T19:11:49.067Z"
   },
   {
    "duration": 53,
    "start_time": "2023-12-23T19:11:52.912Z"
   },
   {
    "duration": 56,
    "start_time": "2023-12-23T19:11:58.514Z"
   },
   {
    "duration": 49,
    "start_time": "2023-12-23T19:12:06.169Z"
   },
   {
    "duration": 58,
    "start_time": "2023-12-23T19:12:12.348Z"
   },
   {
    "duration": 61,
    "start_time": "2023-12-23T19:12:22.234Z"
   },
   {
    "duration": 48,
    "start_time": "2023-12-23T19:12:27.207Z"
   },
   {
    "duration": 59,
    "start_time": "2023-12-23T19:12:44.157Z"
   },
   {
    "duration": 73,
    "start_time": "2023-12-23T19:13:33.345Z"
   },
   {
    "duration": 3,
    "start_time": "2023-12-23T19:13:57.833Z"
   },
   {
    "duration": 46,
    "start_time": "2023-12-23T19:14:02.198Z"
   },
   {
    "duration": 55,
    "start_time": "2023-12-23T19:14:13.078Z"
   },
   {
    "duration": 61,
    "start_time": "2023-12-23T19:14:56.245Z"
   },
   {
    "duration": 119,
    "start_time": "2023-12-23T19:15:03.137Z"
   },
   {
    "duration": 61,
    "start_time": "2023-12-23T19:15:16.604Z"
   },
   {
    "duration": 2290,
    "start_time": "2023-12-24T05:35:03.880Z"
   },
   {
    "duration": 1387,
    "start_time": "2023-12-24T05:35:07.750Z"
   },
   {
    "duration": 11,
    "start_time": "2023-12-24T05:35:12.014Z"
   },
   {
    "duration": 845,
    "start_time": "2023-12-24T05:35:18.102Z"
   },
   {
    "duration": 141,
    "start_time": "2023-12-24T05:35:47.005Z"
   },
   {
    "duration": 15,
    "start_time": "2023-12-24T05:35:58.998Z"
   },
   {
    "duration": 108,
    "start_time": "2023-12-24T05:38:31.967Z"
   },
   {
    "duration": 8,
    "start_time": "2023-12-24T05:38:36.720Z"
   },
   {
    "duration": 822,
    "start_time": "2023-12-24T05:42:18.825Z"
   },
   {
    "duration": 4,
    "start_time": "2023-12-24T05:42:20.256Z"
   },
   {
    "duration": 12,
    "start_time": "2023-12-24T05:42:21.721Z"
   },
   {
    "duration": 12,
    "start_time": "2023-12-24T05:42:29.803Z"
   },
   {
    "duration": 16,
    "start_time": "2023-12-24T05:43:01.568Z"
   },
   {
    "duration": 10,
    "start_time": "2023-12-24T05:43:02.601Z"
   },
   {
    "duration": 6,
    "start_time": "2023-12-24T05:43:28.400Z"
   },
   {
    "duration": 11,
    "start_time": "2023-12-24T05:43:49.776Z"
   },
   {
    "duration": 8,
    "start_time": "2023-12-24T05:43:53.440Z"
   },
   {
    "duration": 5050,
    "start_time": "2023-12-24T05:45:07.273Z"
   },
   {
    "duration": 7,
    "start_time": "2023-12-24T05:45:13.577Z"
   },
   {
    "duration": 650,
    "start_time": "2023-12-24T05:46:36.857Z"
   },
   {
    "duration": 579,
    "start_time": "2023-12-24T05:47:02.809Z"
   },
   {
    "duration": 166,
    "start_time": "2023-12-24T05:48:10.617Z"
   },
   {
    "duration": 87,
    "start_time": "2023-12-24T05:48:18.129Z"
   },
   {
    "duration": 84,
    "start_time": "2023-12-24T05:48:24.114Z"
   },
   {
    "duration": 98,
    "start_time": "2023-12-24T05:48:36.122Z"
   },
   {
    "duration": 4,
    "start_time": "2023-12-24T05:49:00.450Z"
   },
   {
    "duration": 17,
    "start_time": "2023-12-24T05:50:30.171Z"
   },
   {
    "duration": 15,
    "start_time": "2023-12-24T05:51:20.187Z"
   },
   {
    "duration": 19,
    "start_time": "2023-12-24T05:51:53.211Z"
   },
   {
    "duration": 21,
    "start_time": "2023-12-24T05:51:59.763Z"
   },
   {
    "duration": 20,
    "start_time": "2023-12-24T05:52:30.363Z"
   },
   {
    "duration": 19,
    "start_time": "2023-12-24T05:52:40.899Z"
   },
   {
    "duration": 16,
    "start_time": "2023-12-24T05:53:07.740Z"
   },
   {
    "duration": 14,
    "start_time": "2023-12-24T05:53:48.539Z"
   },
   {
    "duration": 8,
    "start_time": "2023-12-24T05:53:58.492Z"
   },
   {
    "duration": 630,
    "start_time": "2023-12-24T05:54:31.124Z"
   },
   {
    "duration": 98,
    "start_time": "2023-12-24T05:54:58.676Z"
   },
   {
    "duration": 610,
    "start_time": "2023-12-24T05:55:20.772Z"
   },
   {
    "duration": 15,
    "start_time": "2023-12-24T05:55:45.796Z"
   },
   {
    "duration": 15,
    "start_time": "2023-12-24T05:56:01.669Z"
   },
   {
    "duration": 124,
    "start_time": "2023-12-24T05:56:20.900Z"
   },
   {
    "duration": 10,
    "start_time": "2023-12-24T05:56:39.268Z"
   },
   {
    "duration": 8,
    "start_time": "2023-12-24T05:56:49.628Z"
   },
   {
    "duration": 90,
    "start_time": "2023-12-24T05:56:59.236Z"
   },
   {
    "duration": 8,
    "start_time": "2023-12-24T05:57:39.293Z"
   },
   {
    "duration": 487,
    "start_time": "2023-12-24T05:57:54.277Z"
   },
   {
    "duration": 6,
    "start_time": "2023-12-24T05:58:04.557Z"
   },
   {
    "duration": 487,
    "start_time": "2023-12-24T05:58:06.629Z"
   },
   {
    "duration": 7,
    "start_time": "2023-12-24T05:58:20.686Z"
   },
   {
    "duration": 14,
    "start_time": "2023-12-24T05:58:22.758Z"
   },
   {
    "duration": 507,
    "start_time": "2023-12-24T05:58:27.878Z"
   },
   {
    "duration": 7,
    "start_time": "2023-12-24T05:58:46.869Z"
   },
   {
    "duration": 547,
    "start_time": "2023-12-24T05:58:47.494Z"
   },
   {
    "duration": 79,
    "start_time": "2023-12-24T05:59:38.143Z"
   },
   {
    "duration": 6,
    "start_time": "2023-12-24T05:59:45.122Z"
   },
   {
    "duration": 481,
    "start_time": "2023-12-24T05:59:47.894Z"
   },
   {
    "duration": 8,
    "start_time": "2023-12-24T06:00:05.463Z"
   },
   {
    "duration": 496,
    "start_time": "2023-12-24T06:00:07.335Z"
   },
   {
    "duration": 5,
    "start_time": "2023-12-24T06:00:57.463Z"
   },
   {
    "duration": 29,
    "start_time": "2023-12-24T06:01:02.119Z"
   },
   {
    "duration": 10,
    "start_time": "2023-12-24T06:02:53.784Z"
   },
   {
    "duration": 524,
    "start_time": "2023-12-24T06:02:54.432Z"
   },
   {
    "duration": 8,
    "start_time": "2023-12-24T06:03:08.976Z"
   },
   {
    "duration": 794,
    "start_time": "2023-12-24T06:03:09.296Z"
   },
   {
    "duration": 10,
    "start_time": "2023-12-24T06:03:35.728Z"
   },
   {
    "duration": 846,
    "start_time": "2023-12-24T06:03:36.113Z"
   },
   {
    "duration": 9,
    "start_time": "2023-12-24T06:03:52.552Z"
   },
   {
    "duration": 791,
    "start_time": "2023-12-24T06:03:52.816Z"
   },
   {
    "duration": 10,
    "start_time": "2023-12-24T06:04:38.155Z"
   },
   {
    "duration": 1082,
    "start_time": "2023-12-24T06:04:38.513Z"
   },
   {
    "duration": 9,
    "start_time": "2023-12-24T06:05:05.249Z"
   },
   {
    "duration": 788,
    "start_time": "2023-12-24T06:05:05.937Z"
   },
   {
    "duration": 14,
    "start_time": "2023-12-24T06:05:21.672Z"
   },
   {
    "duration": 2143,
    "start_time": "2023-12-24T06:05:22.313Z"
   },
   {
    "duration": 1212,
    "start_time": "2023-12-24T06:06:23.105Z"
   },
   {
    "duration": 5,
    "start_time": "2023-12-24T06:06:31.889Z"
   },
   {
    "duration": 5,
    "start_time": "2023-12-24T06:06:37.674Z"
   },
   {
    "duration": 9,
    "start_time": "2023-12-24T06:06:52.034Z"
   },
   {
    "duration": 1026,
    "start_time": "2023-12-24T06:06:56.714Z"
   },
   {
    "duration": 8,
    "start_time": "2023-12-24T06:07:40.714Z"
   },
   {
    "duration": 4,
    "start_time": "2023-12-24T06:07:45.010Z"
   },
   {
    "duration": 5,
    "start_time": "2023-12-24T06:07:49.745Z"
   },
   {
    "duration": 10,
    "start_time": "2023-12-24T06:08:00.482Z"
   },
   {
    "duration": 225,
    "start_time": "2023-12-24T06:09:10.051Z"
   },
   {
    "duration": 249,
    "start_time": "2023-12-24T06:09:18.916Z"
   },
   {
    "duration": 232,
    "start_time": "2023-12-24T06:09:45.780Z"
   },
   {
    "duration": 227,
    "start_time": "2023-12-24T06:09:49.468Z"
   },
   {
    "duration": 107,
    "start_time": "2023-12-24T06:15:21.935Z"
   },
   {
    "duration": 216,
    "start_time": "2023-12-24T06:15:22.903Z"
   },
   {
    "duration": 795,
    "start_time": "2023-12-24T06:15:32.767Z"
   },
   {
    "duration": 4,
    "start_time": "2023-12-24T06:16:25.889Z"
   },
   {
    "duration": 129,
    "start_time": "2023-12-24T06:16:52.650Z"
   },
   {
    "duration": 13,
    "start_time": "2023-12-24T06:17:06.755Z"
   },
   {
    "duration": 16,
    "start_time": "2023-12-24T06:17:15.555Z"
   },
   {
    "duration": 13,
    "start_time": "2023-12-24T06:17:32.115Z"
   },
   {
    "duration": 23,
    "start_time": "2023-12-24T06:17:42.091Z"
   },
   {
    "duration": 81,
    "start_time": "2023-12-24T06:18:47.589Z"
   },
   {
    "duration": 8,
    "start_time": "2023-12-24T06:18:51.638Z"
   },
   {
    "duration": 9,
    "start_time": "2023-12-24T06:18:59.503Z"
   },
   {
    "duration": 9,
    "start_time": "2023-12-24T06:27:15.971Z"
   },
   {
    "duration": 3,
    "start_time": "2023-12-24T06:27:34.786Z"
   },
   {
    "duration": 9,
    "start_time": "2023-12-24T06:27:37.570Z"
   },
   {
    "duration": 11,
    "start_time": "2023-12-24T06:27:41.922Z"
   },
   {
    "duration": 10,
    "start_time": "2023-12-24T06:28:10.083Z"
   },
   {
    "duration": 16,
    "start_time": "2023-12-24T06:28:26.883Z"
   },
   {
    "duration": 12,
    "start_time": "2023-12-24T06:28:54.524Z"
   },
   {
    "duration": 42,
    "start_time": "2023-12-24T06:29:08.868Z"
   },
   {
    "duration": 1125,
    "start_time": "2023-12-24T06:33:19.833Z"
   },
   {
    "duration": 7045,
    "start_time": "2023-12-24T06:39:21.599Z"
   },
   {
    "duration": 7060,
    "start_time": "2023-12-24T06:40:28.288Z"
   },
   {
    "duration": 7003,
    "start_time": "2023-12-24T06:40:39.752Z"
   },
   {
    "duration": 6814,
    "start_time": "2023-12-24T06:40:58.287Z"
   },
   {
    "duration": 7136,
    "start_time": "2023-12-24T06:41:12.312Z"
   },
   {
    "duration": 16,
    "start_time": "2023-12-24T06:43:10.801Z"
   },
   {
    "duration": 12,
    "start_time": "2023-12-24T06:43:15.313Z"
   },
   {
    "duration": 20,
    "start_time": "2023-12-24T06:51:19.823Z"
   },
   {
    "duration": 5,
    "start_time": "2023-12-24T06:54:08.041Z"
   },
   {
    "duration": 35,
    "start_time": "2023-12-24T06:58:14.099Z"
   },
   {
    "duration": 109,
    "start_time": "2023-12-24T06:58:29.316Z"
   },
   {
    "duration": 117,
    "start_time": "2023-12-24T06:58:57.950Z"
   },
   {
    "duration": 151,
    "start_time": "2023-12-24T06:59:38.461Z"
   },
   {
    "duration": 110,
    "start_time": "2023-12-24T06:59:53.876Z"
   },
   {
    "duration": 398,
    "start_time": "2023-12-24T07:00:08.965Z"
   },
   {
    "duration": 615,
    "start_time": "2023-12-24T07:00:15.797Z"
   },
   {
    "duration": 69,
    "start_time": "2023-12-24T07:00:19.104Z"
   },
   {
    "duration": 734,
    "start_time": "2023-12-24T07:00:27.405Z"
   },
   {
    "duration": 457,
    "start_time": "2023-12-24T07:00:40.989Z"
   },
   {
    "duration": 452,
    "start_time": "2023-12-24T07:00:53.925Z"
   },
   {
    "duration": 466,
    "start_time": "2023-12-24T07:01:24.375Z"
   },
   {
    "duration": 465,
    "start_time": "2023-12-24T07:02:04.254Z"
   },
   {
    "duration": 776,
    "start_time": "2023-12-24T07:02:09.247Z"
   },
   {
    "duration": 454,
    "start_time": "2023-12-24T07:02:13.942Z"
   },
   {
    "duration": 482,
    "start_time": "2023-12-24T07:02:20.110Z"
   },
   {
    "duration": 512,
    "start_time": "2023-12-24T07:03:18.407Z"
   },
   {
    "duration": 438,
    "start_time": "2023-12-24T07:03:27.231Z"
   },
   {
    "duration": 404,
    "start_time": "2023-12-24T07:03:59.832Z"
   },
   {
    "duration": 737,
    "start_time": "2023-12-24T07:04:04.303Z"
   },
   {
    "duration": 396,
    "start_time": "2023-12-24T07:04:10.128Z"
   },
   {
    "duration": 4545,
    "start_time": "2023-12-24T07:04:21.078Z"
   },
   {
    "duration": 1369,
    "start_time": "2023-12-24T07:04:26.551Z"
   },
   {
    "duration": 10,
    "start_time": "2023-12-24T07:04:29.448Z"
   },
   {
    "duration": 106,
    "start_time": "2023-12-24T07:04:31.561Z"
   },
   {
    "duration": 829,
    "start_time": "2023-12-24T07:04:57.796Z"
   },
   {
    "duration": 3,
    "start_time": "2023-12-24T07:04:59.356Z"
   },
   {
    "duration": 31,
    "start_time": "2023-12-24T07:05:01.422Z"
   },
   {
    "duration": 14,
    "start_time": "2023-12-24T07:05:03.837Z"
   },
   {
    "duration": 48835,
    "start_time": "2023-12-24T07:05:04.694Z"
   },
   {
    "duration": 0,
    "start_time": "2023-12-24T07:05:53.531Z"
   },
   {
    "duration": 4608,
    "start_time": "2023-12-24T07:06:00.034Z"
   },
   {
    "duration": 4,
    "start_time": "2023-12-24T07:06:05.724Z"
   },
   {
    "duration": 10,
    "start_time": "2023-12-24T07:06:06.952Z"
   },
   {
    "duration": 799,
    "start_time": "2023-12-24T07:06:07.956Z"
   },
   {
    "duration": 5,
    "start_time": "2023-12-24T07:06:08.869Z"
   },
   {
    "duration": 35,
    "start_time": "2023-12-24T07:06:10.008Z"
   },
   {
    "duration": 25,
    "start_time": "2023-12-24T07:06:11.722Z"
   },
   {
    "duration": 12,
    "start_time": "2023-12-24T07:06:13.462Z"
   },
   {
    "duration": 6913,
    "start_time": "2023-12-24T07:06:15.835Z"
   },
   {
    "duration": 12,
    "start_time": "2023-12-24T07:06:28.780Z"
   },
   {
    "duration": 539,
    "start_time": "2023-12-24T07:06:35.906Z"
   },
   {
    "duration": 45229,
    "start_time": "2023-12-24T07:07:23.404Z"
   },
   {
    "duration": 14783,
    "start_time": "2023-12-24T07:08:20.008Z"
   },
   {
    "duration": 366,
    "start_time": "2023-12-24T07:08:47.899Z"
   },
   {
    "duration": 329,
    "start_time": "2023-12-24T07:10:24.689Z"
   },
   {
    "duration": 175,
    "start_time": "2023-12-24T07:10:30.073Z"
   },
   {
    "duration": 208,
    "start_time": "2023-12-24T07:10:52.880Z"
   },
   {
    "duration": 192,
    "start_time": "2023-12-24T07:11:00.486Z"
   },
   {
    "duration": 140,
    "start_time": "2023-12-24T07:11:47.213Z"
   },
   {
    "duration": 209,
    "start_time": "2023-12-24T07:12:23.551Z"
   },
   {
    "duration": 29,
    "start_time": "2023-12-24T07:12:49.352Z"
   },
   {
    "duration": 41,
    "start_time": "2023-12-24T07:13:03.463Z"
   },
   {
    "duration": 183,
    "start_time": "2023-12-24T07:13:25.178Z"
   },
   {
    "duration": 181,
    "start_time": "2023-12-24T07:13:36.661Z"
   },
   {
    "duration": 283,
    "start_time": "2023-12-24T07:13:48.969Z"
   },
   {
    "duration": 196,
    "start_time": "2023-12-24T07:14:50.111Z"
   },
   {
    "duration": 187,
    "start_time": "2023-12-24T07:15:14.253Z"
   },
   {
    "duration": 186,
    "start_time": "2023-12-24T07:15:18.122Z"
   },
   {
    "duration": 181,
    "start_time": "2023-12-24T07:15:24.546Z"
   },
   {
    "duration": 173,
    "start_time": "2023-12-24T07:15:29.355Z"
   },
   {
    "duration": 273,
    "start_time": "2023-12-24T07:16:31.571Z"
   },
   {
    "duration": 239,
    "start_time": "2023-12-24T07:16:40.379Z"
   },
   {
    "duration": 493,
    "start_time": "2023-12-24T07:16:52.034Z"
   },
   {
    "duration": 495,
    "start_time": "2023-12-24T07:16:56.828Z"
   },
   {
    "duration": 215,
    "start_time": "2023-12-24T07:17:16.616Z"
   },
   {
    "duration": 207,
    "start_time": "2023-12-24T07:17:22.017Z"
   },
   {
    "duration": 278,
    "start_time": "2023-12-24T07:17:29.973Z"
   },
   {
    "duration": 198,
    "start_time": "2023-12-24T07:17:44.599Z"
   },
   {
    "duration": 7,
    "start_time": "2023-12-24T07:18:08.895Z"
   },
   {
    "duration": 18,
    "start_time": "2023-12-24T07:18:33.371Z"
   },
   {
    "duration": 1720,
    "start_time": "2023-12-24T07:18:46.044Z"
   },
   {
    "duration": 1719,
    "start_time": "2023-12-24T07:19:01.985Z"
   },
   {
    "duration": 1752,
    "start_time": "2023-12-24T07:19:08.586Z"
   },
   {
    "duration": 294,
    "start_time": "2023-12-24T07:19:34.313Z"
   },
   {
    "duration": 86,
    "start_time": "2023-12-24T07:21:06.972Z"
   },
   {
    "duration": 89,
    "start_time": "2023-12-24T07:21:18.781Z"
   },
   {
    "duration": 18,
    "start_time": "2023-12-24T07:24:29.364Z"
   },
   {
    "duration": 39,
    "start_time": "2023-12-24T07:25:01.626Z"
   },
   {
    "duration": 125,
    "start_time": "2023-12-24T07:27:10.966Z"
   },
   {
    "duration": 11,
    "start_time": "2023-12-24T07:27:19.638Z"
   },
   {
    "duration": 126,
    "start_time": "2023-12-24T07:27:40.858Z"
   },
   {
    "duration": 11,
    "start_time": "2023-12-24T07:27:41.676Z"
   },
   {
    "duration": 12,
    "start_time": "2023-12-24T07:27:53.960Z"
   },
   {
    "duration": 5,
    "start_time": "2023-12-24T07:28:21.922Z"
   },
   {
    "duration": 5,
    "start_time": "2023-12-24T07:28:27.813Z"
   },
   {
    "duration": 4,
    "start_time": "2023-12-24T07:28:36.262Z"
   },
   {
    "duration": 98,
    "start_time": "2023-12-24T07:28:59.493Z"
   },
   {
    "duration": 11,
    "start_time": "2023-12-24T07:29:02.181Z"
   },
   {
    "duration": 3,
    "start_time": "2023-12-24T07:29:48.219Z"
   },
   {
    "duration": 17,
    "start_time": "2023-12-24T07:30:01.948Z"
   },
   {
    "duration": 13,
    "start_time": "2023-12-24T07:30:16.261Z"
   },
   {
    "duration": 3,
    "start_time": "2023-12-24T07:32:09.441Z"
   },
   {
    "duration": 7,
    "start_time": "2023-12-24T07:32:38.961Z"
   },
   {
    "duration": 3,
    "start_time": "2023-12-24T07:33:10.453Z"
   },
   {
    "duration": 4,
    "start_time": "2023-12-24T07:33:15.532Z"
   },
   {
    "duration": 15,
    "start_time": "2023-12-24T07:33:42.048Z"
   },
   {
    "duration": 82,
    "start_time": "2023-12-24T07:34:58.823Z"
   },
   {
    "duration": 53,
    "start_time": "2023-12-24T07:35:07.578Z"
   },
   {
    "duration": 48,
    "start_time": "2023-12-24T07:35:28.098Z"
   },
   {
    "duration": 44,
    "start_time": "2023-12-24T07:36:10.420Z"
   },
   {
    "duration": 48,
    "start_time": "2023-12-24T07:36:17.560Z"
   },
   {
    "duration": 48,
    "start_time": "2023-12-24T07:36:28.179Z"
   },
   {
    "duration": 42,
    "start_time": "2023-12-24T07:36:42.074Z"
   },
   {
    "duration": 48,
    "start_time": "2023-12-24T07:36:49.891Z"
   },
   {
    "duration": 43,
    "start_time": "2023-12-24T07:37:09.622Z"
   },
   {
    "duration": 47,
    "start_time": "2023-12-24T07:37:24.286Z"
   },
   {
    "duration": 8,
    "start_time": "2023-12-24T07:37:52.416Z"
   },
   {
    "duration": 23,
    "start_time": "2023-12-24T07:38:00.148Z"
   },
   {
    "duration": 29,
    "start_time": "2023-12-24T07:38:22.947Z"
   },
   {
    "duration": 29,
    "start_time": "2023-12-24T07:39:01.966Z"
   },
   {
    "duration": 14,
    "start_time": "2023-12-24T07:44:10.151Z"
   },
   {
    "duration": 50,
    "start_time": "2023-12-24T07:45:35.166Z"
   },
   {
    "duration": 48,
    "start_time": "2023-12-24T07:45:59.132Z"
   },
   {
    "duration": 111,
    "start_time": "2023-12-24T07:46:37.820Z"
   },
   {
    "duration": 4,
    "start_time": "2023-12-24T07:46:39.791Z"
   },
   {
    "duration": 7,
    "start_time": "2023-12-24T07:46:41.181Z"
   },
   {
    "duration": 51,
    "start_time": "2023-12-24T07:46:46.513Z"
   },
   {
    "duration": 60,
    "start_time": "2023-12-24T07:47:21.936Z"
   },
   {
    "duration": 52,
    "start_time": "2023-12-24T07:47:39.183Z"
   },
   {
    "duration": 56,
    "start_time": "2023-12-24T07:48:13.541Z"
   },
   {
    "duration": 53,
    "start_time": "2023-12-24T07:48:43.928Z"
   },
   {
    "duration": 52,
    "start_time": "2023-12-24T07:48:58.207Z"
   },
   {
    "duration": 52,
    "start_time": "2023-12-24T07:49:15.128Z"
   },
   {
    "duration": 45,
    "start_time": "2023-12-24T07:49:29.610Z"
   },
   {
    "duration": 11,
    "start_time": "2023-12-24T07:49:34.416Z"
   },
   {
    "duration": 7,
    "start_time": "2023-12-24T07:49:56.821Z"
   },
   {
    "duration": 15,
    "start_time": "2023-12-24T07:50:17.094Z"
   },
   {
    "duration": 21,
    "start_time": "2023-12-24T07:50:52.181Z"
   },
   {
    "duration": 15,
    "start_time": "2023-12-24T07:51:01.314Z"
   },
   {
    "duration": 13,
    "start_time": "2023-12-24T07:52:32.709Z"
   },
   {
    "duration": 21,
    "start_time": "2023-12-24T07:52:46.644Z"
   },
   {
    "duration": 289,
    "start_time": "2023-12-24T07:53:05.531Z"
   },
   {
    "duration": 13,
    "start_time": "2023-12-24T07:53:41.123Z"
   },
   {
    "duration": 10,
    "start_time": "2023-12-24T07:53:48.738Z"
   },
   {
    "duration": 15,
    "start_time": "2023-12-24T07:53:52.123Z"
   },
   {
    "duration": 197,
    "start_time": "2023-12-24T07:58:24.087Z"
   },
   {
    "duration": 210,
    "start_time": "2023-12-24T07:58:35.641Z"
   },
   {
    "duration": 124,
    "start_time": "2023-12-24T07:59:35.564Z"
   },
   {
    "duration": 134,
    "start_time": "2023-12-24T07:59:43.198Z"
   },
   {
    "duration": 117,
    "start_time": "2023-12-24T07:59:50.411Z"
   },
   {
    "duration": 120,
    "start_time": "2023-12-24T08:00:48.284Z"
   },
   {
    "duration": 119,
    "start_time": "2023-12-24T08:00:54.885Z"
   },
   {
    "duration": 10,
    "start_time": "2023-12-24T08:01:31.615Z"
   },
   {
    "duration": 6,
    "start_time": "2023-12-24T08:01:43.265Z"
   },
   {
    "duration": 8,
    "start_time": "2023-12-24T08:02:14.335Z"
   },
   {
    "duration": 8,
    "start_time": "2023-12-24T08:02:25.710Z"
   },
   {
    "duration": 9,
    "start_time": "2023-12-24T08:02:55.029Z"
   },
   {
    "duration": 207,
    "start_time": "2023-12-24T08:03:20.448Z"
   },
   {
    "duration": 7,
    "start_time": "2023-12-24T08:03:48.500Z"
   },
   {
    "duration": 199,
    "start_time": "2023-12-24T08:03:55.715Z"
   },
   {
    "duration": 9,
    "start_time": "2023-12-24T08:04:13.169Z"
   },
   {
    "duration": 35,
    "start_time": "2023-12-24T08:04:22.216Z"
   },
   {
    "duration": 34,
    "start_time": "2023-12-24T08:04:42.321Z"
   },
   {
    "duration": 35,
    "start_time": "2023-12-24T08:04:51.409Z"
   },
   {
    "duration": 34,
    "start_time": "2023-12-24T08:07:17.974Z"
   },
   {
    "duration": 34,
    "start_time": "2023-12-24T08:07:26.549Z"
   },
   {
    "duration": 200,
    "start_time": "2023-12-24T08:07:36.381Z"
   },
   {
    "duration": 35,
    "start_time": "2023-12-24T08:08:00.817Z"
   },
   {
    "duration": 198,
    "start_time": "2023-12-24T08:08:05.889Z"
   },
   {
    "duration": 13,
    "start_time": "2023-12-24T08:13:54.182Z"
   },
   {
    "duration": 11,
    "start_time": "2023-12-24T08:14:04.598Z"
   },
   {
    "duration": 11,
    "start_time": "2023-12-24T08:15:03.708Z"
   },
   {
    "duration": 4,
    "start_time": "2023-12-24T08:18:39.521Z"
   },
   {
    "duration": 20,
    "start_time": "2023-12-24T08:18:53.629Z"
   },
   {
    "duration": 13,
    "start_time": "2023-12-24T08:19:40.987Z"
   },
   {
    "duration": 12,
    "start_time": "2023-12-24T08:20:06.203Z"
   },
   {
    "duration": 12,
    "start_time": "2023-12-24T08:20:18.765Z"
   },
   {
    "duration": 6,
    "start_time": "2023-12-24T08:21:17.175Z"
   },
   {
    "duration": 12,
    "start_time": "2023-12-24T08:22:16.008Z"
   },
   {
    "duration": 14,
    "start_time": "2023-12-24T08:22:26.728Z"
   },
   {
    "duration": 279,
    "start_time": "2023-12-24T08:23:27.181Z"
   },
   {
    "duration": 15,
    "start_time": "2023-12-24T08:23:33.886Z"
   },
   {
    "duration": 157,
    "start_time": "2023-12-24T08:24:20.210Z"
   },
   {
    "duration": 15,
    "start_time": "2023-12-24T08:24:24.764Z"
   },
   {
    "duration": 16,
    "start_time": "2023-12-24T08:24:39.998Z"
   },
   {
    "duration": 12,
    "start_time": "2023-12-24T08:24:58.336Z"
   },
   {
    "duration": 19,
    "start_time": "2023-12-24T08:25:08.468Z"
   },
   {
    "duration": 11,
    "start_time": "2023-12-24T08:25:29.655Z"
   },
   {
    "duration": 13,
    "start_time": "2023-12-24T08:25:37.880Z"
   },
   {
    "duration": 17,
    "start_time": "2023-12-24T08:25:51.965Z"
   },
   {
    "duration": 14,
    "start_time": "2023-12-24T08:25:57.032Z"
   },
   {
    "duration": 8,
    "start_time": "2023-12-24T08:26:26.143Z"
   },
   {
    "duration": 13,
    "start_time": "2023-12-24T08:26:36.451Z"
   },
   {
    "duration": 14,
    "start_time": "2023-12-24T08:26:42.180Z"
   },
   {
    "duration": 15,
    "start_time": "2023-12-24T08:26:49.968Z"
   },
   {
    "duration": 11,
    "start_time": "2023-12-24T08:28:25.127Z"
   },
   {
    "duration": 12,
    "start_time": "2023-12-24T08:28:40.379Z"
   },
   {
    "duration": 5,
    "start_time": "2023-12-24T08:29:03.399Z"
   },
   {
    "duration": 16,
    "start_time": "2023-12-24T08:29:10.564Z"
   },
   {
    "duration": 21,
    "start_time": "2023-12-24T08:35:40.377Z"
   },
   {
    "duration": 18,
    "start_time": "2023-12-24T08:36:13.621Z"
   },
   {
    "duration": 18,
    "start_time": "2023-12-24T08:36:38.656Z"
   },
   {
    "duration": 21,
    "start_time": "2023-12-24T08:36:59.323Z"
   },
   {
    "duration": 17,
    "start_time": "2023-12-24T08:37:05.313Z"
   },
   {
    "duration": 18,
    "start_time": "2023-12-24T08:37:17.794Z"
   },
   {
    "duration": 7,
    "start_time": "2023-12-24T08:39:02.972Z"
   },
   {
    "duration": 7,
    "start_time": "2023-12-24T08:39:14.132Z"
   },
   {
    "duration": 8,
    "start_time": "2023-12-24T08:39:29.022Z"
   },
   {
    "duration": 8,
    "start_time": "2023-12-24T08:39:43.989Z"
   },
   {
    "duration": 16,
    "start_time": "2023-12-24T08:40:31.321Z"
   },
   {
    "duration": 17,
    "start_time": "2023-12-24T08:40:57.761Z"
   },
   {
    "duration": 7,
    "start_time": "2023-12-24T08:42:54.827Z"
   },
   {
    "duration": 5516,
    "start_time": "2023-12-24T08:43:21.797Z"
   },
   {
    "duration": 6,
    "start_time": "2023-12-24T08:43:46.558Z"
   },
   {
    "duration": 5573,
    "start_time": "2023-12-24T08:43:47.315Z"
   },
   {
    "duration": 5849,
    "start_time": "2023-12-24T08:44:48.756Z"
   },
   {
    "duration": 7,
    "start_time": "2023-12-24T08:46:02.599Z"
   },
   {
    "duration": 581,
    "start_time": "2023-12-24T08:46:04.371Z"
   },
   {
    "duration": 681,
    "start_time": "2023-12-24T08:46:08.349Z"
   },
   {
    "duration": 848,
    "start_time": "2023-12-24T08:46:33.279Z"
   },
   {
    "duration": 918,
    "start_time": "2023-12-24T08:47:01.868Z"
   },
   {
    "duration": 701,
    "start_time": "2023-12-24T08:47:37.006Z"
   },
   {
    "duration": 591,
    "start_time": "2023-12-24T08:47:50.627Z"
   },
   {
    "duration": 617,
    "start_time": "2023-12-24T08:48:06.621Z"
   },
   {
    "duration": 806,
    "start_time": "2023-12-24T08:48:41.133Z"
   },
   {
    "duration": 538,
    "start_time": "2023-12-24T08:52:39.633Z"
   },
   {
    "duration": 543,
    "start_time": "2023-12-24T08:53:08.269Z"
   },
   {
    "duration": 3,
    "start_time": "2023-12-24T08:55:02.466Z"
   },
   {
    "duration": 15,
    "start_time": "2023-12-24T08:55:24.302Z"
   },
   {
    "duration": 42,
    "start_time": "2023-12-24T08:55:51.583Z"
   },
   {
    "duration": 38,
    "start_time": "2023-12-24T08:56:40.876Z"
   },
   {
    "duration": 42,
    "start_time": "2023-12-24T08:57:14.189Z"
   },
   {
    "duration": 41,
    "start_time": "2023-12-24T08:57:24.225Z"
   },
   {
    "duration": 49,
    "start_time": "2023-12-24T08:58:00.510Z"
   },
   {
    "duration": 38,
    "start_time": "2023-12-24T08:58:12.331Z"
   },
   {
    "duration": 56,
    "start_time": "2023-12-24T08:59:02.123Z"
   },
   {
    "duration": 3,
    "start_time": "2023-12-24T09:03:37.627Z"
   },
   {
    "duration": 55,
    "start_time": "2023-12-24T09:03:40.397Z"
   },
   {
    "duration": 56,
    "start_time": "2023-12-24T09:03:46.246Z"
   },
   {
    "duration": 55,
    "start_time": "2023-12-24T09:05:36.530Z"
   },
   {
    "duration": 9,
    "start_time": "2023-12-24T09:12:13.093Z"
   },
   {
    "duration": 150,
    "start_time": "2023-12-24T09:12:16.863Z"
   },
   {
    "duration": 10,
    "start_time": "2023-12-24T09:12:32.821Z"
   },
   {
    "duration": 540,
    "start_time": "2023-12-24T09:12:47.573Z"
   },
   {
    "duration": 547,
    "start_time": "2023-12-24T09:13:18.406Z"
   },
   {
    "duration": 12596,
    "start_time": "2023-12-24T09:22:51.780Z"
   },
   {
    "duration": 15,
    "start_time": "2023-12-24T09:24:42.375Z"
   },
   {
    "duration": 25,
    "start_time": "2023-12-24T09:25:03.607Z"
   },
   {
    "duration": 19,
    "start_time": "2023-12-24T09:25:10.743Z"
   },
   {
    "duration": 14,
    "start_time": "2023-12-24T09:25:22.263Z"
   },
   {
    "duration": 21,
    "start_time": "2023-12-24T09:25:35.391Z"
   },
   {
    "duration": 11,
    "start_time": "2023-12-24T09:25:52.391Z"
   },
   {
    "duration": 8,
    "start_time": "2023-12-24T09:26:40.272Z"
   },
   {
    "duration": 8,
    "start_time": "2023-12-24T09:26:46.560Z"
   },
   {
    "duration": 12,
    "start_time": "2023-12-24T09:27:06.769Z"
   },
   {
    "duration": 22,
    "start_time": "2023-12-24T09:27:39.136Z"
   },
   {
    "duration": 34,
    "start_time": "2023-12-24T10:41:43.334Z"
   },
   {
    "duration": 28,
    "start_time": "2023-12-24T10:42:09.833Z"
   },
   {
    "duration": 59,
    "start_time": "2023-12-24T10:44:36.095Z"
   },
   {
    "duration": 58,
    "start_time": "2023-12-24T10:44:54.830Z"
   },
   {
    "duration": 12,
    "start_time": "2023-12-24T10:45:31.951Z"
   },
   {
    "duration": 9,
    "start_time": "2023-12-24T10:46:17.072Z"
   },
   {
    "duration": 3,
    "start_time": "2023-12-24T10:46:22.632Z"
   },
   {
    "duration": 122,
    "start_time": "2023-12-24T10:46:25.456Z"
   },
   {
    "duration": 130,
    "start_time": "2023-12-24T10:46:46.856Z"
   },
   {
    "duration": 123,
    "start_time": "2023-12-24T10:46:56.840Z"
   },
   {
    "duration": 9,
    "start_time": "2023-12-24T10:59:05.885Z"
   },
   {
    "duration": 7484,
    "start_time": "2023-12-24T10:59:32.050Z"
   },
   {
    "duration": 321,
    "start_time": "2023-12-24T10:59:47.283Z"
   },
   {
    "duration": 18,
    "start_time": "2023-12-24T10:59:54.050Z"
   },
   {
    "duration": 6326,
    "start_time": "2023-12-24T11:00:26.162Z"
   },
   {
    "duration": 7737,
    "start_time": "2023-12-24T11:01:21.084Z"
   },
   {
    "duration": 6939,
    "start_time": "2023-12-24T11:01:41.211Z"
   },
   {
    "duration": 58,
    "start_time": "2023-12-24T11:04:12.501Z"
   },
   {
    "duration": 12,
    "start_time": "2023-12-24T11:05:58.462Z"
   },
   {
    "duration": 11,
    "start_time": "2023-12-24T11:06:06.317Z"
   },
   {
    "duration": 21,
    "start_time": "2023-12-24T11:06:23.702Z"
   },
   {
    "duration": 6,
    "start_time": "2023-12-24T11:06:32.063Z"
   },
   {
    "duration": 17,
    "start_time": "2023-12-24T11:07:21.679Z"
   },
   {
    "duration": 8,
    "start_time": "2023-12-24T11:07:25.544Z"
   },
   {
    "duration": 298,
    "start_time": "2023-12-24T11:07:57.008Z"
   },
   {
    "duration": 7,
    "start_time": "2023-12-24T11:08:06.719Z"
   },
   {
    "duration": 8,
    "start_time": "2023-12-24T11:08:08.712Z"
   },
   {
    "duration": 6,
    "start_time": "2023-12-24T11:08:16.895Z"
   },
   {
    "duration": 8,
    "start_time": "2023-12-24T11:08:17.600Z"
   },
   {
    "duration": 132,
    "start_time": "2023-12-24T11:13:56.773Z"
   },
   {
    "duration": 138,
    "start_time": "2023-12-24T11:14:08.101Z"
   },
   {
    "duration": 75,
    "start_time": "2023-12-24T11:14:55.573Z"
   },
   {
    "duration": 40,
    "start_time": "2023-12-24T11:14:58.796Z"
   },
   {
    "duration": 137,
    "start_time": "2023-12-24T11:15:29.099Z"
   },
   {
    "duration": 159,
    "start_time": "2023-12-24T11:15:38.479Z"
   },
   {
    "duration": 132,
    "start_time": "2023-12-24T11:15:43.918Z"
   },
   {
    "duration": 136,
    "start_time": "2023-12-24T11:18:05.353Z"
   },
   {
    "duration": 130,
    "start_time": "2023-12-24T11:18:22.311Z"
   },
   {
    "duration": 132,
    "start_time": "2023-12-24T11:18:26.080Z"
   },
   {
    "duration": 15,
    "start_time": "2023-12-24T11:19:03.641Z"
   },
   {
    "duration": 61,
    "start_time": "2023-12-24T11:19:12.560Z"
   },
   {
    "duration": 68,
    "start_time": "2023-12-24T11:19:20.760Z"
   },
   {
    "duration": 58,
    "start_time": "2023-12-24T11:21:35.866Z"
   },
   {
    "duration": 57,
    "start_time": "2023-12-24T11:22:27.475Z"
   },
   {
    "duration": 133,
    "start_time": "2023-12-24T11:23:47.828Z"
   },
   {
    "duration": 146,
    "start_time": "2023-12-24T11:24:47.958Z"
   },
   {
    "duration": 133,
    "start_time": "2023-12-24T11:25:06.612Z"
   },
   {
    "duration": 131,
    "start_time": "2023-12-24T11:25:59.214Z"
   },
   {
    "duration": 136,
    "start_time": "2023-12-24T11:26:03.302Z"
   },
   {
    "duration": 142,
    "start_time": "2023-12-24T11:26:43.942Z"
   },
   {
    "duration": 3,
    "start_time": "2023-12-24T11:45:19.589Z"
   },
   {
    "duration": 7003,
    "start_time": "2023-12-24T11:45:39.084Z"
   },
   {
    "duration": 7095,
    "start_time": "2023-12-24T11:45:55.156Z"
   },
   {
    "duration": 67,
    "start_time": "2023-12-24T11:48:16.741Z"
   },
   {
    "duration": 5,
    "start_time": "2023-12-24T11:48:59.824Z"
   },
   {
    "duration": 96,
    "start_time": "2023-12-24T11:49:07.639Z"
   },
   {
    "duration": 102,
    "start_time": "2023-12-24T11:49:12.655Z"
   },
   {
    "duration": 90,
    "start_time": "2023-12-24T11:49:58.535Z"
   },
   {
    "duration": 83,
    "start_time": "2023-12-24T11:50:50.088Z"
   },
   {
    "duration": 80,
    "start_time": "2023-12-24T11:51:04.463Z"
   },
   {
    "duration": 683,
    "start_time": "2023-12-24T11:52:04.833Z"
   },
   {
    "duration": 734,
    "start_time": "2023-12-24T11:53:23.515Z"
   },
   {
    "duration": 72,
    "start_time": "2023-12-24T11:54:23.947Z"
   },
   {
    "duration": 548,
    "start_time": "2023-12-24T11:54:49.283Z"
   },
   {
    "duration": 3263,
    "start_time": "2023-12-24T11:55:46.052Z"
   },
   {
    "duration": 596,
    "start_time": "2023-12-24T11:56:07.828Z"
   },
   {
    "duration": 549,
    "start_time": "2023-12-24T11:56:39.044Z"
   },
   {
    "duration": 575,
    "start_time": "2023-12-24T11:56:58.038Z"
   },
   {
    "duration": 12,
    "start_time": "2023-12-24T11:57:39.557Z"
   },
   {
    "duration": 7,
    "start_time": "2023-12-24T11:57:45.365Z"
   },
   {
    "duration": 6,
    "start_time": "2023-12-24T11:57:48.500Z"
   },
   {
    "duration": 10,
    "start_time": "2023-12-24T11:57:55.958Z"
   },
   {
    "duration": 4,
    "start_time": "2023-12-24T11:58:00.270Z"
   },
   {
    "duration": 13,
    "start_time": "2023-12-24T11:58:05.623Z"
   },
   {
    "duration": 6,
    "start_time": "2023-12-24T11:58:16.406Z"
   },
   {
    "duration": 6,
    "start_time": "2023-12-24T11:58:20.086Z"
   },
   {
    "duration": 4,
    "start_time": "2023-12-24T11:59:02.798Z"
   },
   {
    "duration": 123,
    "start_time": "2023-12-24T11:59:10.350Z"
   },
   {
    "duration": 13,
    "start_time": "2023-12-24T11:59:17.423Z"
   },
   {
    "duration": 3,
    "start_time": "2023-12-24T12:00:52.792Z"
   },
   {
    "duration": 737,
    "start_time": "2023-12-24T12:01:30.328Z"
   },
   {
    "duration": 4,
    "start_time": "2023-12-24T12:01:33.209Z"
   },
   {
    "duration": 4,
    "start_time": "2023-12-24T12:01:39.233Z"
   },
   {
    "duration": 31,
    "start_time": "2023-12-24T12:02:18.289Z"
   },
   {
    "duration": 5,
    "start_time": "2023-12-24T12:02:18.913Z"
   },
   {
    "duration": 84,
    "start_time": "2023-12-24T12:02:26.713Z"
   },
   {
    "duration": 10,
    "start_time": "2023-12-24T12:02:38.738Z"
   },
   {
    "duration": 1919,
    "start_time": "2023-12-24T12:02:43.609Z"
   },
   {
    "duration": 89,
    "start_time": "2023-12-24T12:03:38.923Z"
   },
   {
    "duration": 81,
    "start_time": "2023-12-24T12:04:38.059Z"
   },
   {
    "duration": 4,
    "start_time": "2023-12-24T12:04:38.563Z"
   },
   {
    "duration": 16,
    "start_time": "2023-12-24T12:04:44.403Z"
   },
   {
    "duration": 3,
    "start_time": "2023-12-24T12:04:58.403Z"
   },
   {
    "duration": 761,
    "start_time": "2023-12-24T12:05:25.619Z"
   },
   {
    "duration": 607,
    "start_time": "2023-12-24T12:09:36.649Z"
   },
   {
    "duration": 22,
    "start_time": "2023-12-24T12:10:03.081Z"
   },
   {
    "duration": 15,
    "start_time": "2023-12-24T12:10:17.385Z"
   },
   {
    "duration": 15,
    "start_time": "2023-12-24T12:10:54.113Z"
   },
   {
    "duration": 10,
    "start_time": "2023-12-24T12:15:31.229Z"
   },
   {
    "duration": 15,
    "start_time": "2023-12-24T12:15:34.997Z"
   },
   {
    "duration": 15,
    "start_time": "2023-12-24T12:15:58.957Z"
   },
   {
    "duration": 14,
    "start_time": "2023-12-24T12:16:52.766Z"
   },
   {
    "duration": 815,
    "start_time": "2023-12-24T12:30:41.705Z"
   },
   {
    "duration": 786,
    "start_time": "2023-12-24T12:31:02.682Z"
   },
   {
    "duration": 712,
    "start_time": "2023-12-24T12:31:22.761Z"
   },
   {
    "duration": 764,
    "start_time": "2023-12-24T12:32:49.226Z"
   },
   {
    "duration": 630,
    "start_time": "2023-12-24T12:32:56.155Z"
   },
   {
    "duration": 531,
    "start_time": "2023-12-24T12:34:04.347Z"
   },
   {
    "duration": 572,
    "start_time": "2023-12-24T12:34:53.924Z"
   },
   {
    "duration": 565,
    "start_time": "2023-12-24T12:35:27.188Z"
   },
   {
    "duration": 116,
    "start_time": "2023-12-24T12:37:46.822Z"
   },
   {
    "duration": 21,
    "start_time": "2023-12-24T12:37:52.518Z"
   },
   {
    "duration": 644,
    "start_time": "2023-12-24T12:38:15.527Z"
   },
   {
    "duration": 732,
    "start_time": "2023-12-24T12:39:47.321Z"
   },
   {
    "duration": 675,
    "start_time": "2023-12-24T12:39:57.448Z"
   },
   {
    "duration": 683,
    "start_time": "2023-12-24T12:40:03.072Z"
   },
   {
    "duration": 685,
    "start_time": "2023-12-24T12:40:08.848Z"
   },
   {
    "duration": 688,
    "start_time": "2023-12-24T12:40:11.608Z"
   },
   {
    "duration": 619,
    "start_time": "2023-12-24T12:40:54.785Z"
   },
   {
    "duration": 734,
    "start_time": "2023-12-24T12:41:31.522Z"
   },
   {
    "duration": 706,
    "start_time": "2023-12-24T12:41:58.821Z"
   },
   {
    "duration": 681,
    "start_time": "2023-12-24T12:42:06.266Z"
   },
   {
    "duration": 860,
    "start_time": "2023-12-24T12:42:14.771Z"
   },
   {
    "duration": 112,
    "start_time": "2023-12-24T12:42:44.050Z"
   },
   {
    "duration": 9,
    "start_time": "2023-12-24T12:43:01.690Z"
   },
   {
    "duration": 300,
    "start_time": "2023-12-24T12:43:18.026Z"
   },
   {
    "duration": 5918,
    "start_time": "2023-12-24T12:43:42.739Z"
   },
   {
    "duration": 2237,
    "start_time": "2023-12-24T12:44:09.507Z"
   },
   {
    "duration": 813,
    "start_time": "2023-12-24T12:44:54.180Z"
   },
   {
    "duration": 251,
    "start_time": "2023-12-24T12:46:38.853Z"
   },
   {
    "duration": 6194,
    "start_time": "2023-12-24T12:46:44.556Z"
   },
   {
    "duration": 6187,
    "start_time": "2023-12-24T12:47:53.574Z"
   },
   {
    "duration": 10106,
    "start_time": "2023-12-24T12:48:10.168Z"
   },
   {
    "duration": 3900,
    "start_time": "2023-12-24T12:48:30.472Z"
   },
   {
    "duration": 5957,
    "start_time": "2023-12-24T12:49:28.183Z"
   },
   {
    "duration": 2099,
    "start_time": "2023-12-24T12:49:35.720Z"
   },
   {
    "duration": 3842,
    "start_time": "2023-12-24T12:50:15.616Z"
   },
   {
    "duration": 3899,
    "start_time": "2023-12-24T12:50:26.448Z"
   },
   {
    "duration": 3903,
    "start_time": "2023-12-24T12:50:40.849Z"
   },
   {
    "duration": 3807,
    "start_time": "2023-12-24T12:50:50.480Z"
   },
   {
    "duration": 2,
    "start_time": "2023-12-24T12:58:58.591Z"
   },
   {
    "duration": 4,
    "start_time": "2023-12-24T12:58:59.415Z"
   },
   {
    "duration": 9,
    "start_time": "2023-12-24T12:59:00.406Z"
   },
   {
    "duration": 8,
    "start_time": "2023-12-24T12:59:01.127Z"
   },
   {
    "duration": 723,
    "start_time": "2023-12-24T12:59:11.943Z"
   },
   {
    "duration": 32,
    "start_time": "2023-12-24T12:59:15.815Z"
   },
   {
    "duration": 5,
    "start_time": "2023-12-24T12:59:16.375Z"
   },
   {
    "duration": 760,
    "start_time": "2023-12-24T12:59:21.735Z"
   },
   {
    "duration": 864,
    "start_time": "2023-12-24T13:00:22.335Z"
   },
   {
    "duration": 6,
    "start_time": "2023-12-24T13:00:50.224Z"
   },
   {
    "duration": 14,
    "start_time": "2023-12-24T13:01:02.688Z"
   },
   {
    "duration": 4,
    "start_time": "2023-12-24T13:01:11.409Z"
   },
   {
    "duration": 787,
    "start_time": "2023-12-24T13:01:15.521Z"
   },
   {
    "duration": 51,
    "start_time": "2023-12-24T13:31:00.744Z"
   },
   {
    "duration": 37,
    "start_time": "2023-12-24T13:31:45.071Z"
   },
   {
    "duration": 39,
    "start_time": "2023-12-24T13:32:02.415Z"
   },
   {
    "duration": 78,
    "start_time": "2023-12-24T13:33:27.808Z"
   },
   {
    "duration": 125,
    "start_time": "2023-12-24T13:33:41.345Z"
   },
   {
    "duration": 123,
    "start_time": "2023-12-24T13:34:01.393Z"
   },
   {
    "duration": 48,
    "start_time": "2023-12-24T13:34:28.640Z"
   },
   {
    "duration": 1242,
    "start_time": "2023-12-24T13:35:10.810Z"
   },
   {
    "duration": 64,
    "start_time": "2023-12-24T13:35:17.139Z"
   },
   {
    "duration": 18,
    "start_time": "2023-12-24T13:35:24.082Z"
   },
   {
    "duration": 99,
    "start_time": "2023-12-24T13:35:41.026Z"
   },
   {
    "duration": 3827,
    "start_time": "2023-12-24T13:36:40.587Z"
   },
   {
    "duration": 874,
    "start_time": "2023-12-24T13:44:50.433Z"
   },
   {
    "duration": 8154,
    "start_time": "2023-12-24T13:45:43.465Z"
   },
   {
    "duration": 86,
    "start_time": "2023-12-24T13:48:18.860Z"
   },
   {
    "duration": 62,
    "start_time": "2023-12-24T13:48:28.267Z"
   },
   {
    "duration": 12,
    "start_time": "2023-12-24T13:48:43.595Z"
   },
   {
    "duration": 8123,
    "start_time": "2023-12-24T13:49:22.460Z"
   },
   {
    "duration": 75,
    "start_time": "2023-12-24T13:52:27.015Z"
   },
   {
    "duration": 71,
    "start_time": "2023-12-24T14:03:27.200Z"
   },
   {
    "duration": 27,
    "start_time": "2023-12-24T14:07:34.850Z"
   },
   {
    "duration": 3,
    "start_time": "2023-12-24T14:07:39.802Z"
   },
   {
    "duration": 3,
    "start_time": "2023-12-24T14:07:44.075Z"
   },
   {
    "duration": 167,
    "start_time": "2023-12-24T14:08:17.395Z"
   },
   {
    "duration": 137,
    "start_time": "2023-12-24T14:09:20.133Z"
   },
   {
    "duration": 148,
    "start_time": "2023-12-24T14:17:50.780Z"
   },
   {
    "duration": 17,
    "start_time": "2023-12-24T14:21:51.551Z"
   },
   {
    "duration": 1389,
    "start_time": "2023-12-24T14:22:12.521Z"
   },
   {
    "duration": 15,
    "start_time": "2023-12-24T14:22:16.010Z"
   },
   {
    "duration": 1020,
    "start_time": "2023-12-24T14:22:18.136Z"
   },
   {
    "duration": 5,
    "start_time": "2023-12-24T14:22:22.566Z"
   },
   {
    "duration": 22,
    "start_time": "2023-12-24T14:22:24.686Z"
   },
   {
    "duration": 3,
    "start_time": "2023-12-24T14:22:32.824Z"
   },
   {
    "duration": 786,
    "start_time": "2023-12-24T14:22:41.120Z"
   },
   {
    "duration": 124,
    "start_time": "2023-12-24T14:24:40.369Z"
   },
   {
    "duration": 120,
    "start_time": "2023-12-24T14:24:45.328Z"
   },
   {
    "duration": 10,
    "start_time": "2023-12-24T14:33:00.551Z"
   },
   {
    "duration": 1234,
    "start_time": "2023-12-24T14:33:26.720Z"
   },
   {
    "duration": 9,
    "start_time": "2023-12-24T14:33:35.240Z"
   },
   {
    "duration": 9,
    "start_time": "2023-12-24T14:33:37.639Z"
   },
   {
    "duration": 29,
    "start_time": "2023-12-24T14:34:19.496Z"
   },
   {
    "duration": 28,
    "start_time": "2023-12-24T14:34:41.073Z"
   },
   {
    "duration": 22,
    "start_time": "2023-12-24T14:34:45.505Z"
   },
   {
    "duration": 42,
    "start_time": "2023-12-24T14:35:25.081Z"
   },
   {
    "duration": 23,
    "start_time": "2023-12-24T14:35:35.562Z"
   },
   {
    "duration": 203,
    "start_time": "2023-12-24T14:36:31.138Z"
   },
   {
    "duration": 226,
    "start_time": "2023-12-24T14:36:55.634Z"
   },
   {
    "duration": 215,
    "start_time": "2023-12-24T14:37:18.747Z"
   },
   {
    "duration": 205,
    "start_time": "2023-12-24T14:38:39.939Z"
   },
   {
    "duration": 187,
    "start_time": "2023-12-24T14:39:20.228Z"
   },
   {
    "duration": 177,
    "start_time": "2023-12-24T14:39:34.189Z"
   },
   {
    "duration": 209,
    "start_time": "2023-12-24T14:39:38.581Z"
   },
   {
    "duration": 177,
    "start_time": "2023-12-24T14:39:53.605Z"
   },
   {
    "duration": 176,
    "start_time": "2023-12-24T14:39:59.148Z"
   },
   {
    "duration": 184,
    "start_time": "2023-12-24T14:40:49.558Z"
   },
   {
    "duration": 125,
    "start_time": "2023-12-24T14:42:26.271Z"
   },
   {
    "duration": 160,
    "start_time": "2023-12-24T14:42:35.591Z"
   },
   {
    "duration": 126,
    "start_time": "2023-12-24T14:43:33.160Z"
   },
   {
    "duration": 20,
    "start_time": "2023-12-24T14:43:37.936Z"
   },
   {
    "duration": 4,
    "start_time": "2023-12-24T14:46:43.306Z"
   },
   {
    "duration": 96,
    "start_time": "2023-12-24T14:47:15.226Z"
   },
   {
    "duration": 115,
    "start_time": "2023-12-24T14:48:18.555Z"
   },
   {
    "duration": 88,
    "start_time": "2023-12-24T14:48:43.732Z"
   },
   {
    "duration": 11,
    "start_time": "2023-12-24T14:48:49.756Z"
   },
   {
    "duration": 8,
    "start_time": "2023-12-24T14:49:11.892Z"
   },
   {
    "duration": 12,
    "start_time": "2023-12-24T14:49:31.452Z"
   },
   {
    "duration": 3,
    "start_time": "2023-12-24T14:49:55.213Z"
   },
   {
    "duration": 14,
    "start_time": "2023-12-24T14:50:08.685Z"
   },
   {
    "duration": 12,
    "start_time": "2023-12-24T14:50:31.790Z"
   },
   {
    "duration": 57,
    "start_time": "2023-12-24T14:51:14.845Z"
   },
   {
    "duration": 11,
    "start_time": "2023-12-24T14:51:15.509Z"
   },
   {
    "duration": 88,
    "start_time": "2023-12-24T14:51:39.317Z"
   },
   {
    "duration": 27,
    "start_time": "2023-12-24T14:51:40.645Z"
   },
   {
    "duration": 85,
    "start_time": "2023-12-24T14:52:15.814Z"
   },
   {
    "duration": 23,
    "start_time": "2023-12-24T14:52:16.494Z"
   },
   {
    "duration": 2,
    "start_time": "2023-12-24T14:52:55.206Z"
   },
   {
    "duration": 4,
    "start_time": "2023-12-24T14:52:56.694Z"
   },
   {
    "duration": 87,
    "start_time": "2023-12-24T14:53:05.054Z"
   },
   {
    "duration": 14,
    "start_time": "2023-12-24T14:53:05.702Z"
   },
   {
    "duration": 68,
    "start_time": "2023-12-24T14:53:30.646Z"
   },
   {
    "duration": 14,
    "start_time": "2023-12-24T14:53:32.081Z"
   },
   {
    "duration": 93,
    "start_time": "2023-12-24T14:53:50.622Z"
   },
   {
    "duration": 14,
    "start_time": "2023-12-24T14:53:50.983Z"
   },
   {
    "duration": 119,
    "start_time": "2023-12-24T14:56:09.512Z"
   },
   {
    "duration": 50,
    "start_time": "2023-12-24T14:58:45.843Z"
   },
   {
    "duration": 82,
    "start_time": "2023-12-24T14:59:44.483Z"
   },
   {
    "duration": 15,
    "start_time": "2023-12-24T15:01:41.956Z"
   },
   {
    "duration": 107,
    "start_time": "2023-12-24T15:02:51.204Z"
   },
   {
    "duration": 14,
    "start_time": "2023-12-24T15:02:55.877Z"
   },
   {
    "duration": 106,
    "start_time": "2023-12-24T15:03:06.709Z"
   },
   {
    "duration": 15,
    "start_time": "2023-12-24T15:03:12.517Z"
   },
   {
    "duration": 5298,
    "start_time": "2023-12-24T15:03:58.606Z"
   },
   {
    "duration": 3108,
    "start_time": "2023-12-24T15:05:01.095Z"
   },
   {
    "duration": 4714,
    "start_time": "2023-12-24T15:08:07.617Z"
   },
   {
    "duration": 118,
    "start_time": "2023-12-24T15:10:19.963Z"
   },
   {
    "duration": 17,
    "start_time": "2023-12-24T15:10:27.818Z"
   },
   {
    "duration": 45,
    "start_time": "2023-12-24T15:10:53.587Z"
   },
   {
    "duration": 13,
    "start_time": "2023-12-24T15:11:00.107Z"
   },
   {
    "duration": 128,
    "start_time": "2023-12-24T15:11:23.755Z"
   },
   {
    "duration": 3353,
    "start_time": "2023-12-24T15:11:52.059Z"
   },
   {
    "duration": 154,
    "start_time": "2023-12-24T15:13:24.020Z"
   },
   {
    "duration": 8,
    "start_time": "2023-12-24T15:14:10.549Z"
   },
   {
    "duration": 9,
    "start_time": "2023-12-24T15:14:29.605Z"
   },
   {
    "duration": 36,
    "start_time": "2023-12-24T15:14:44.030Z"
   },
   {
    "duration": 45,
    "start_time": "2023-12-24T15:15:01.353Z"
   },
   {
    "duration": 8,
    "start_time": "2023-12-24T15:15:32.590Z"
   },
   {
    "duration": 1474,
    "start_time": "2023-12-24T17:16:06.987Z"
   },
   {
    "duration": 15,
    "start_time": "2023-12-24T17:16:10.170Z"
   },
   {
    "duration": 980,
    "start_time": "2023-12-24T17:16:12.056Z"
   },
   {
    "duration": 5,
    "start_time": "2023-12-24T17:16:16.128Z"
   },
   {
    "duration": 26,
    "start_time": "2023-12-24T17:16:17.919Z"
   },
   {
    "duration": 791,
    "start_time": "2023-12-24T17:16:20.401Z"
   },
   {
    "duration": 185,
    "start_time": "2023-12-24T17:16:30.977Z"
   },
   {
    "duration": 104,
    "start_time": "2023-12-24T17:16:32.664Z"
   },
   {
    "duration": 16,
    "start_time": "2023-12-24T17:16:33.232Z"
   },
   {
    "duration": 30,
    "start_time": "2023-12-24T17:18:11.595Z"
   },
   {
    "duration": 45,
    "start_time": "2023-12-24T17:18:44.572Z"
   },
   {
    "duration": 16,
    "start_time": "2023-12-24T17:19:05.315Z"
   },
   {
    "duration": 32,
    "start_time": "2023-12-24T17:19:11.260Z"
   },
   {
    "duration": 17,
    "start_time": "2023-12-24T17:19:13.700Z"
   },
   {
    "duration": 67,
    "start_time": "2023-12-24T17:19:23.588Z"
   },
   {
    "duration": 65,
    "start_time": "2023-12-24T17:20:16.525Z"
   },
   {
    "duration": 5,
    "start_time": "2023-12-24T17:21:19.991Z"
   },
   {
    "duration": 23,
    "start_time": "2023-12-24T17:21:33.566Z"
   },
   {
    "duration": 60,
    "start_time": "2023-12-24T17:22:13.207Z"
   },
   {
    "duration": 17,
    "start_time": "2023-12-24T17:22:25.240Z"
   },
   {
    "duration": 121,
    "start_time": "2023-12-24T17:23:49.466Z"
   },
   {
    "duration": 46,
    "start_time": "2023-12-24T17:23:55.282Z"
   },
   {
    "duration": 47,
    "start_time": "2023-12-24T17:24:01.090Z"
   },
   {
    "duration": 49,
    "start_time": "2023-12-24T17:24:21.234Z"
   },
   {
    "duration": 619,
    "start_time": "2023-12-24T17:25:01.763Z"
   },
   {
    "duration": 46,
    "start_time": "2023-12-24T17:26:07.228Z"
   },
   {
    "duration": 163,
    "start_time": "2023-12-24T17:37:23.241Z"
   },
   {
    "duration": 117,
    "start_time": "2023-12-24T17:38:56.186Z"
   },
   {
    "duration": 93,
    "start_time": "2023-12-24T17:39:07.970Z"
   },
   {
    "duration": 16,
    "start_time": "2023-12-24T17:39:13.385Z"
   },
   {
    "duration": 39,
    "start_time": "2023-12-24T17:39:48.105Z"
   },
   {
    "duration": 17,
    "start_time": "2023-12-24T17:40:06.138Z"
   },
   {
    "duration": 310,
    "start_time": "2023-12-24T17:41:33.873Z"
   },
   {
    "duration": 135,
    "start_time": "2023-12-24T17:41:50.314Z"
   },
   {
    "duration": 42,
    "start_time": "2023-12-24T17:42:15.843Z"
   },
   {
    "duration": 4,
    "start_time": "2023-12-24T17:43:27.947Z"
   },
   {
    "duration": 11,
    "start_time": "2023-12-24T17:46:35.316Z"
   },
   {
    "duration": 4,
    "start_time": "2023-12-24T17:46:41.037Z"
   },
   {
    "duration": 123,
    "start_time": "2023-12-24T17:48:26.053Z"
   },
   {
    "duration": 113,
    "start_time": "2023-12-24T17:48:26.623Z"
   },
   {
    "duration": 91,
    "start_time": "2023-12-24T17:50:39.633Z"
   },
   {
    "duration": 9,
    "start_time": "2023-12-24T17:50:43.281Z"
   },
   {
    "duration": 9,
    "start_time": "2023-12-24T17:50:57.944Z"
   },
   {
    "duration": 74,
    "start_time": "2023-12-24T17:51:13.384Z"
   },
   {
    "duration": 35,
    "start_time": "2023-12-24T17:51:53.305Z"
   },
   {
    "duration": 42,
    "start_time": "2023-12-24T17:52:06.225Z"
   },
   {
    "duration": 184,
    "start_time": "2023-12-24T17:58:08.998Z"
   },
   {
    "duration": 122,
    "start_time": "2023-12-24T17:58:18.965Z"
   },
   {
    "duration": 53,
    "start_time": "2023-12-24T17:58:26.038Z"
   },
   {
    "duration": 86,
    "start_time": "2023-12-24T17:58:46.167Z"
   },
   {
    "duration": 11,
    "start_time": "2023-12-24T17:59:12.950Z"
   },
   {
    "duration": 16,
    "start_time": "2023-12-24T17:59:16.495Z"
   },
   {
    "duration": 36,
    "start_time": "2023-12-24T17:59:30.896Z"
   },
   {
    "duration": 26,
    "start_time": "2023-12-24T17:59:37.559Z"
   },
   {
    "duration": 11,
    "start_time": "2023-12-24T18:02:16.890Z"
   },
   {
    "duration": 31,
    "start_time": "2023-12-24T18:02:38.513Z"
   },
   {
    "duration": 28,
    "start_time": "2023-12-24T18:02:49.144Z"
   },
   {
    "duration": 28,
    "start_time": "2023-12-24T18:02:58.249Z"
   },
   {
    "duration": 360,
    "start_time": "2023-12-24T18:03:57.241Z"
   },
   {
    "duration": 33,
    "start_time": "2023-12-24T18:05:00.675Z"
   },
   {
    "duration": 25,
    "start_time": "2023-12-24T18:05:07.507Z"
   },
   {
    "duration": 11,
    "start_time": "2023-12-24T18:05:34.995Z"
   },
   {
    "duration": 94,
    "start_time": "2023-12-24T18:06:20.084Z"
   },
   {
    "duration": 29,
    "start_time": "2023-12-24T18:06:24.700Z"
   },
   {
    "duration": 27,
    "start_time": "2023-12-24T18:07:17.445Z"
   },
   {
    "duration": 74,
    "start_time": "2023-12-24T18:07:26.789Z"
   },
   {
    "duration": 28,
    "start_time": "2023-12-24T18:07:33.604Z"
   },
   {
    "duration": 54,
    "start_time": "2023-12-24T18:07:41.997Z"
   },
   {
    "duration": 35,
    "start_time": "2023-12-24T18:09:14.695Z"
   },
   {
    "duration": 39,
    "start_time": "2023-12-24T18:09:43.206Z"
   },
   {
    "duration": 44,
    "start_time": "2023-12-24T18:09:59.543Z"
   },
   {
    "duration": 40,
    "start_time": "2023-12-24T18:10:56.512Z"
   },
   {
    "duration": 34,
    "start_time": "2023-12-24T18:11:26.425Z"
   },
   {
    "duration": 26,
    "start_time": "2023-12-24T18:12:05.369Z"
   },
   {
    "duration": 4,
    "start_time": "2023-12-24T18:12:18.225Z"
   },
   {
    "duration": 46,
    "start_time": "2023-12-24T18:12:32.521Z"
   },
   {
    "duration": 27,
    "start_time": "2023-12-24T18:12:39.881Z"
   },
   {
    "duration": 15,
    "start_time": "2023-12-24T18:12:44.777Z"
   },
   {
    "duration": 8585,
    "start_time": "2023-12-24T18:15:18.899Z"
   },
   {
    "duration": 8871,
    "start_time": "2023-12-24T18:15:40.083Z"
   },
   {
    "duration": 8774,
    "start_time": "2023-12-24T18:15:59.884Z"
   },
   {
    "duration": 73,
    "start_time": "2023-12-24T18:21:35.992Z"
   },
   {
    "duration": 4,
    "start_time": "2023-12-24T18:21:51.967Z"
   },
   {
    "duration": 9,
    "start_time": "2023-12-24T18:22:16.799Z"
   },
   {
    "duration": 4,
    "start_time": "2023-12-24T18:22:23.648Z"
   },
   {
    "duration": 30,
    "start_time": "2023-12-24T18:22:50.248Z"
   },
   {
    "duration": 24,
    "start_time": "2023-12-24T18:25:05.347Z"
   },
   {
    "duration": 29,
    "start_time": "2023-12-24T18:25:46.675Z"
   },
   {
    "duration": 27,
    "start_time": "2023-12-24T18:27:15.219Z"
   },
   {
    "duration": 106,
    "start_time": "2023-12-24T18:28:00.012Z"
   },
   {
    "duration": 119,
    "start_time": "2023-12-24T18:29:16.125Z"
   },
   {
    "duration": 107,
    "start_time": "2023-12-24T18:29:35.829Z"
   },
   {
    "duration": 96,
    "start_time": "2023-12-24T18:29:47.773Z"
   },
   {
    "duration": 113,
    "start_time": "2023-12-24T18:30:16.461Z"
   },
   {
    "duration": 9,
    "start_time": "2023-12-24T18:37:41.037Z"
   },
   {
    "duration": 2341,
    "start_time": "2023-12-24T18:38:45.636Z"
   },
   {
    "duration": 55,
    "start_time": "2023-12-24T18:38:59.822Z"
   },
   {
    "duration": 3,
    "start_time": "2023-12-24T18:39:56.391Z"
   },
   {
    "duration": 21,
    "start_time": "2023-12-24T18:42:04.591Z"
   },
   {
    "duration": 8,
    "start_time": "2023-12-24T18:42:36.832Z"
   },
   {
    "duration": 20,
    "start_time": "2023-12-24T18:43:07.601Z"
   },
   {
    "duration": 761,
    "start_time": "2023-12-24T18:43:19.072Z"
   },
   {
    "duration": 17,
    "start_time": "2023-12-24T18:43:24.064Z"
   },
   {
    "duration": 16,
    "start_time": "2023-12-24T18:47:31.466Z"
   },
   {
    "duration": 4,
    "start_time": "2023-12-24T18:48:10.603Z"
   },
   {
    "duration": 699,
    "start_time": "2023-12-24T18:49:39.268Z"
   },
   {
    "duration": 620,
    "start_time": "2023-12-24T18:49:55.302Z"
   },
   {
    "duration": 124,
    "start_time": "2023-12-24T18:50:12.715Z"
   },
   {
    "duration": 5,
    "start_time": "2023-12-24T18:50:19.524Z"
   },
   {
    "duration": 4,
    "start_time": "2023-12-24T18:50:29.436Z"
   },
   {
    "duration": 4,
    "start_time": "2023-12-24T18:51:43.517Z"
   },
   {
    "duration": 4,
    "start_time": "2023-12-24T18:52:23.365Z"
   },
   {
    "duration": 3,
    "start_time": "2023-12-24T18:52:32.613Z"
   },
   {
    "duration": 35,
    "start_time": "2023-12-24T18:52:43.085Z"
   },
   {
    "duration": 33,
    "start_time": "2023-12-24T18:52:54.431Z"
   },
   {
    "duration": 4,
    "start_time": "2023-12-24T18:53:48.230Z"
   },
   {
    "duration": 20,
    "start_time": "2023-12-24T18:53:52.959Z"
   },
   {
    "duration": 18,
    "start_time": "2023-12-24T18:54:05.398Z"
   },
   {
    "duration": 3,
    "start_time": "2023-12-24T18:54:11.199Z"
   },
   {
    "duration": 28,
    "start_time": "2023-12-24T18:58:21.961Z"
   },
   {
    "duration": 5,
    "start_time": "2023-12-24T19:06:21.935Z"
   },
   {
    "duration": 6469,
    "start_time": "2023-12-24T19:19:27.561Z"
   },
   {
    "duration": 19,
    "start_time": "2023-12-24T19:19:49.529Z"
   },
   {
    "duration": 15,
    "start_time": "2023-12-24T19:20:24.329Z"
   },
   {
    "duration": 93,
    "start_time": "2023-12-24T19:20:30.289Z"
   },
   {
    "duration": 778,
    "start_time": "2023-12-24T19:20:31.123Z"
   },
   {
    "duration": 164,
    "start_time": "2023-12-24T19:20:32.402Z"
   },
   {
    "duration": 24,
    "start_time": "2023-12-24T19:20:34.256Z"
   },
   {
    "duration": 4,
    "start_time": "2023-12-24T19:20:34.801Z"
   },
   {
    "duration": 6098,
    "start_time": "2023-12-24T19:20:36.937Z"
   },
   {
    "duration": 3,
    "start_time": "2023-12-25T11:46:03.053Z"
   },
   {
    "duration": 1430,
    "start_time": "2023-12-25T11:46:03.850Z"
   },
   {
    "duration": 21,
    "start_time": "2023-12-25T11:46:08.090Z"
   },
   {
    "duration": 20,
    "start_time": "2023-12-25T11:46:09.459Z"
   },
   {
    "duration": 1070,
    "start_time": "2023-12-25T11:46:11.698Z"
   },
   {
    "duration": 6,
    "start_time": "2023-12-25T11:46:17.801Z"
   },
   {
    "duration": 27,
    "start_time": "2023-12-25T11:46:20.274Z"
   },
   {
    "duration": 883,
    "start_time": "2023-12-25T11:46:22.594Z"
   },
   {
    "duration": 119,
    "start_time": "2023-12-25T11:47:38.915Z"
   },
   {
    "duration": 12,
    "start_time": "2023-12-25T11:47:47.051Z"
   },
   {
    "duration": 15,
    "start_time": "2023-12-25T11:47:54.163Z"
   },
   {
    "duration": 7,
    "start_time": "2023-12-25T11:48:11.507Z"
   },
   {
    "duration": 9,
    "start_time": "2023-12-25T11:48:37.987Z"
   },
   {
    "duration": 9,
    "start_time": "2023-12-25T11:48:49.083Z"
   },
   {
    "duration": 19,
    "start_time": "2023-12-25T11:48:52.348Z"
   },
   {
    "duration": 14,
    "start_time": "2023-12-25T11:48:59.684Z"
   },
   {
    "duration": 15,
    "start_time": "2023-12-25T11:49:02.909Z"
   },
   {
    "duration": 22,
    "start_time": "2023-12-25T11:49:13.051Z"
   },
   {
    "duration": 14,
    "start_time": "2023-12-25T11:49:36.068Z"
   },
   {
    "duration": 13,
    "start_time": "2023-12-25T11:49:45.475Z"
   },
   {
    "duration": 32,
    "start_time": "2023-12-25T11:55:11.664Z"
   },
   {
    "duration": 31,
    "start_time": "2023-12-25T11:55:48.471Z"
   },
   {
    "duration": 74,
    "start_time": "2023-12-25T12:04:12.135Z"
   },
   {
    "duration": 52,
    "start_time": "2023-12-25T12:04:16.342Z"
   },
   {
    "duration": 50,
    "start_time": "2023-12-25T12:04:22.847Z"
   },
   {
    "duration": 59,
    "start_time": "2023-12-25T12:04:35.868Z"
   },
   {
    "duration": 53,
    "start_time": "2023-12-25T12:04:40.759Z"
   },
   {
    "duration": 63,
    "start_time": "2023-12-25T12:04:55.479Z"
   },
   {
    "duration": 56,
    "start_time": "2023-12-25T12:05:04.726Z"
   },
   {
    "duration": 237,
    "start_time": "2023-12-25T12:06:08.745Z"
   },
   {
    "duration": 231,
    "start_time": "2023-12-25T12:06:44.424Z"
   },
   {
    "duration": 66,
    "start_time": "2023-12-25T12:07:17.333Z"
   },
   {
    "duration": 56,
    "start_time": "2023-12-25T12:08:08.865Z"
   },
   {
    "duration": 60,
    "start_time": "2023-12-25T12:08:13.217Z"
   },
   {
    "duration": 109,
    "start_time": "2023-12-25T12:09:22.666Z"
   },
   {
    "duration": 55,
    "start_time": "2023-12-25T12:09:43.051Z"
   },
   {
    "duration": 69,
    "start_time": "2023-12-25T12:09:50.972Z"
   },
   {
    "duration": 89,
    "start_time": "2023-12-25T12:10:20.539Z"
   },
   {
    "duration": 66,
    "start_time": "2023-12-25T12:10:31.274Z"
   },
   {
    "duration": 54,
    "start_time": "2023-12-25T12:10:39.252Z"
   },
   {
    "duration": 62,
    "start_time": "2023-12-25T12:10:44.707Z"
   },
   {
    "duration": 56,
    "start_time": "2023-12-25T12:10:49.827Z"
   },
   {
    "duration": 54,
    "start_time": "2023-12-25T12:10:53.451Z"
   },
   {
    "duration": 54,
    "start_time": "2023-12-25T12:10:58.027Z"
   },
   {
    "duration": 52,
    "start_time": "2023-12-25T12:11:33.572Z"
   },
   {
    "duration": 58,
    "start_time": "2023-12-25T12:11:50.995Z"
   },
   {
    "duration": 54,
    "start_time": "2023-12-25T12:14:45.175Z"
   },
   {
    "duration": 62,
    "start_time": "2023-12-25T12:16:01.471Z"
   },
   {
    "duration": 64,
    "start_time": "2023-12-25T12:17:59.289Z"
   },
   {
    "duration": 58,
    "start_time": "2023-12-25T12:18:26.617Z"
   },
   {
    "duration": 18,
    "start_time": "2023-12-25T12:55:35.027Z"
   },
   {
    "duration": 15,
    "start_time": "2023-12-25T12:55:46.490Z"
   },
   {
    "duration": 13,
    "start_time": "2023-12-25T12:56:45.132Z"
   },
   {
    "duration": 146,
    "start_time": "2023-12-25T12:57:42.443Z"
   },
   {
    "duration": 9,
    "start_time": "2023-12-25T12:59:32.237Z"
   },
   {
    "duration": 3,
    "start_time": "2023-12-25T13:01:28.551Z"
   },
   {
    "duration": 491,
    "start_time": "2023-12-25T13:03:51.127Z"
   },
   {
    "duration": 9,
    "start_time": "2023-12-25T13:03:59.999Z"
   },
   {
    "duration": 69,
    "start_time": "2023-12-25T13:04:22.456Z"
   },
   {
    "duration": 12,
    "start_time": "2023-12-25T13:06:54.306Z"
   },
   {
    "duration": 4,
    "start_time": "2023-12-25T13:07:25.170Z"
   },
   {
    "duration": 3,
    "start_time": "2023-12-25T13:16:35.954Z"
   },
   {
    "duration": 130,
    "start_time": "2023-12-25T13:16:51.515Z"
   },
   {
    "duration": 10,
    "start_time": "2023-12-25T13:16:57.896Z"
   },
   {
    "duration": 7,
    "start_time": "2023-12-25T13:17:52.624Z"
   },
   {
    "duration": 14,
    "start_time": "2023-12-25T13:18:39.185Z"
   },
   {
    "duration": 11,
    "start_time": "2023-12-25T13:18:46.865Z"
   },
   {
    "duration": 31,
    "start_time": "2023-12-25T13:18:56.689Z"
   },
   {
    "duration": 15,
    "start_time": "2023-12-25T13:19:00.577Z"
   },
   {
    "duration": 656,
    "start_time": "2023-12-25T13:19:06.377Z"
   },
   {
    "duration": 18,
    "start_time": "2023-12-25T13:19:10.025Z"
   },
   {
    "duration": 5,
    "start_time": "2023-12-25T13:19:18.425Z"
   },
   {
    "duration": 9,
    "start_time": "2023-12-25T13:19:56.882Z"
   },
   {
    "duration": 4,
    "start_time": "2023-12-25T13:20:14.802Z"
   },
   {
    "duration": 6,
    "start_time": "2023-12-25T13:20:25.307Z"
   },
   {
    "duration": 5,
    "start_time": "2023-12-25T13:20:32.779Z"
   },
   {
    "duration": 5,
    "start_time": "2023-12-25T13:20:45.186Z"
   },
   {
    "duration": 4,
    "start_time": "2023-12-25T13:20:50.747Z"
   },
   {
    "duration": 243982,
    "start_time": "2023-12-25T13:21:56.339Z"
   },
   {
    "duration": 3271,
    "start_time": "2023-12-25T13:26:16.159Z"
   },
   {
    "duration": 44689,
    "start_time": "2023-12-25T13:26:28.103Z"
   },
   {
    "duration": 16,
    "start_time": "2023-12-25T13:32:43.116Z"
   },
   {
    "duration": 15,
    "start_time": "2023-12-25T13:33:01.706Z"
   },
   {
    "duration": 15,
    "start_time": "2023-12-25T13:33:06.420Z"
   },
   {
    "duration": 11,
    "start_time": "2023-12-25T13:33:08.835Z"
   },
   {
    "duration": 769,
    "start_time": "2023-12-25T13:33:16.082Z"
   },
   {
    "duration": 2,
    "start_time": "2023-12-25T13:33:25.042Z"
   },
   {
    "duration": 27,
    "start_time": "2023-12-25T13:33:27.804Z"
   },
   {
    "duration": 7,
    "start_time": "2023-12-25T13:34:11.548Z"
   },
   {
    "duration": 2250,
    "start_time": "2023-12-25T13:34:21.622Z"
   },
   {
    "duration": 22,
    "start_time": "2023-12-25T13:34:25.502Z"
   },
   {
    "duration": 16,
    "start_time": "2023-12-25T13:34:25.840Z"
   },
   {
    "duration": 1277,
    "start_time": "2023-12-25T13:34:27.636Z"
   },
   {
    "duration": 6,
    "start_time": "2023-12-25T13:34:31.044Z"
   },
   {
    "duration": 28,
    "start_time": "2023-12-25T13:34:31.603Z"
   },
   {
    "duration": 860,
    "start_time": "2023-12-25T13:34:33.820Z"
   },
   {
    "duration": 10,
    "start_time": "2023-12-25T13:34:36.421Z"
   },
   {
    "duration": 128,
    "start_time": "2023-12-25T13:34:37.732Z"
   },
   {
    "duration": 32,
    "start_time": "2023-12-25T13:34:40.427Z"
   },
   {
    "duration": 36,
    "start_time": "2023-12-25T13:34:46.012Z"
   },
   {
    "duration": 2,
    "start_time": "2023-12-25T13:34:49.955Z"
   },
   {
    "duration": 3,
    "start_time": "2023-12-25T13:34:50.499Z"
   },
   {
    "duration": 762,
    "start_time": "2023-12-25T13:34:51.612Z"
   },
   {
    "duration": 29,
    "start_time": "2023-12-25T13:34:56.181Z"
   },
   {
    "duration": 463203,
    "start_time": "2023-12-25T13:35:01.581Z"
   },
   {
    "duration": 20,
    "start_time": "2023-12-25T13:46:59.958Z"
   },
   {
    "duration": 6373,
    "start_time": "2023-12-25T13:47:04.484Z"
   },
   {
    "duration": 19,
    "start_time": "2023-12-25T13:47:20.372Z"
   },
   {
    "duration": 3,
    "start_time": "2023-12-25T13:48:27.949Z"
   },
   {
    "duration": 19,
    "start_time": "2023-12-25T13:48:39.573Z"
   },
   {
    "duration": 22,
    "start_time": "2023-12-25T13:49:06.597Z"
   },
   {
    "duration": 98,
    "start_time": "2023-12-25T13:49:22.477Z"
   },
   {
    "duration": 11144,
    "start_time": "2023-12-25T13:49:30.406Z"
   },
   {
    "duration": 14,
    "start_time": "2023-12-25T13:50:33.824Z"
   },
   {
    "duration": 5,
    "start_time": "2023-12-25T13:50:56.040Z"
   },
   {
    "duration": 1610,
    "start_time": "2023-12-25T13:50:56.345Z"
   },
   {
    "duration": 4,
    "start_time": "2023-12-25T13:51:12.102Z"
   },
   {
    "duration": 26,
    "start_time": "2023-12-25T13:51:14.216Z"
   },
   {
    "duration": 15,
    "start_time": "2023-12-25T13:51:14.943Z"
   },
   {
    "duration": 1074,
    "start_time": "2023-12-25T13:51:16.760Z"
   },
   {
    "duration": 4,
    "start_time": "2023-12-25T13:51:17.836Z"
   },
   {
    "duration": 30,
    "start_time": "2023-12-25T13:51:18.079Z"
   },
   {
    "duration": 856,
    "start_time": "2023-12-25T13:51:18.870Z"
   },
   {
    "duration": 794,
    "start_time": "2023-12-25T14:00:44.598Z"
   },
   {
    "duration": 108,
    "start_time": "2023-12-25T14:00:54.373Z"
   },
   {
    "duration": 3,
    "start_time": "2023-12-25T14:01:01.725Z"
   },
   {
    "duration": 150,
    "start_time": "2023-12-25T14:01:04.924Z"
   },
   {
    "duration": 3,
    "start_time": "2023-12-25T14:01:10.062Z"
   },
   {
    "duration": 15,
    "start_time": "2023-12-25T14:01:17.885Z"
   },
   {
    "duration": 7,
    "start_time": "2023-12-25T14:01:34.445Z"
   },
   {
    "duration": 970,
    "start_time": "2023-12-25T14:02:18.742Z"
   },
   {
    "duration": 5,
    "start_time": "2023-12-25T14:02:21.278Z"
   },
   {
    "duration": 20,
    "start_time": "2023-12-25T14:02:22.950Z"
   },
   {
    "duration": 739,
    "start_time": "2023-12-25T14:02:24.062Z"
   },
   {
    "duration": 104,
    "start_time": "2023-12-25T14:02:45.846Z"
   },
   {
    "duration": 3,
    "start_time": "2023-12-25T14:02:46.390Z"
   },
   {
    "duration": 137,
    "start_time": "2023-12-25T14:02:47.575Z"
   },
   {
    "duration": 7,
    "start_time": "2023-12-25T14:02:48.038Z"
   },
   {
    "duration": 122,
    "start_time": "2023-12-25T14:04:33.743Z"
   },
   {
    "duration": 574,
    "start_time": "2023-12-25T14:04:39.560Z"
   },
   {
    "duration": 105,
    "start_time": "2023-12-25T14:04:44.265Z"
   },
   {
    "duration": 4,
    "start_time": "2023-12-25T14:04:44.607Z"
   },
   {
    "duration": 20,
    "start_time": "2023-12-25T14:04:45.575Z"
   },
   {
    "duration": 924,
    "start_time": "2023-12-25T14:04:58.162Z"
   },
   {
    "duration": 5,
    "start_time": "2023-12-25T14:04:59.087Z"
   },
   {
    "duration": 16,
    "start_time": "2023-12-25T14:04:59.287Z"
   },
   {
    "duration": 746,
    "start_time": "2023-12-25T14:04:59.976Z"
   },
   {
    "duration": 105,
    "start_time": "2023-12-25T14:05:01.648Z"
   },
   {
    "duration": 4,
    "start_time": "2023-12-25T14:05:02.009Z"
   },
   {
    "duration": 122,
    "start_time": "2023-12-25T14:05:02.640Z"
   },
   {
    "duration": 9,
    "start_time": "2023-12-25T14:05:05.840Z"
   },
   {
    "duration": 7,
    "start_time": "2023-12-25T14:05:18.625Z"
   },
   {
    "duration": 15,
    "start_time": "2023-12-25T14:15:02.936Z"
   },
   {
    "duration": 16,
    "start_time": "2023-12-25T14:15:17.800Z"
   },
   {
    "duration": 587,
    "start_time": "2023-12-25T14:15:25.511Z"
   },
   {
    "duration": 75,
    "start_time": "2023-12-25T14:15:59.711Z"
   },
   {
    "duration": 483,
    "start_time": "2023-12-25T14:16:09.480Z"
   },
   {
    "duration": 52,
    "start_time": "2023-12-25T14:16:28.024Z"
   },
   {
    "duration": 3,
    "start_time": "2023-12-25T14:16:45.913Z"
   },
   {
    "duration": 6,
    "start_time": "2023-12-25T14:17:43.793Z"
   },
   {
    "duration": 23,
    "start_time": "2023-12-25T14:17:52.945Z"
   },
   {
    "duration": 8,
    "start_time": "2023-12-25T14:18:03.521Z"
   },
   {
    "duration": 9,
    "start_time": "2023-12-25T14:18:09.769Z"
   },
   {
    "duration": 16,
    "start_time": "2023-12-25T14:18:17.202Z"
   },
   {
    "duration": 16,
    "start_time": "2023-12-25T14:18:23.521Z"
   },
   {
    "duration": 65,
    "start_time": "2023-12-25T14:18:28.298Z"
   },
   {
    "duration": 3,
    "start_time": "2023-12-25T14:18:29.993Z"
   },
   {
    "duration": 17,
    "start_time": "2023-12-25T14:18:33.473Z"
   },
   {
    "duration": 16,
    "start_time": "2023-12-25T14:18:42.841Z"
   },
   {
    "duration": 8,
    "start_time": "2023-12-25T14:18:54.770Z"
   },
   {
    "duration": 76,
    "start_time": "2023-12-25T14:19:00.769Z"
   },
   {
    "duration": 67,
    "start_time": "2023-12-25T14:19:02.826Z"
   },
   {
    "duration": 88,
    "start_time": "2023-12-25T14:19:08.803Z"
   },
   {
    "duration": 26,
    "start_time": "2023-12-25T14:19:21.034Z"
   },
   {
    "duration": 13,
    "start_time": "2023-12-25T14:19:25.627Z"
   },
   {
    "duration": 26,
    "start_time": "2023-12-25T14:19:27.034Z"
   },
   {
    "duration": 19,
    "start_time": "2023-12-25T14:19:32.737Z"
   },
   {
    "duration": 22,
    "start_time": "2023-12-25T14:19:43.252Z"
   },
   {
    "duration": 56,
    "start_time": "2023-12-25T14:20:00.275Z"
   },
   {
    "duration": 598,
    "start_time": "2023-12-25T14:20:05.524Z"
   },
   {
    "duration": 118,
    "start_time": "2023-12-25T14:20:06.234Z"
   },
   {
    "duration": 12,
    "start_time": "2023-12-25T14:20:07.707Z"
   },
   {
    "duration": 3,
    "start_time": "2023-12-25T14:20:08.211Z"
   },
   {
    "duration": 8389,
    "start_time": "2023-12-25T14:20:11.131Z"
   },
   {
    "duration": 880,
    "start_time": "2023-12-25T14:20:43.764Z"
   },
   {
    "duration": 5,
    "start_time": "2023-12-25T14:20:45.475Z"
   },
   {
    "duration": 15,
    "start_time": "2023-12-25T14:20:46.307Z"
   },
   {
    "duration": 38,
    "start_time": "2023-12-25T14:20:46.988Z"
   },
   {
    "duration": 811,
    "start_time": "2023-12-25T14:20:48.061Z"
   },
   {
    "duration": 17,
    "start_time": "2023-12-25T14:21:03.692Z"
   },
   {
    "duration": 86,
    "start_time": "2023-12-25T14:21:10.212Z"
   },
   {
    "duration": 3,
    "start_time": "2023-12-25T14:21:10.819Z"
   },
   {
    "duration": 16,
    "start_time": "2023-12-25T14:21:13.356Z"
   },
   {
    "duration": 29,
    "start_time": "2023-12-25T14:23:30.110Z"
   },
   {
    "duration": 21,
    "start_time": "2023-12-25T14:23:42.861Z"
   },
   {
    "duration": 23,
    "start_time": "2023-12-25T14:23:46.510Z"
   },
   {
    "duration": 44,
    "start_time": "2023-12-25T14:24:09.814Z"
   },
   {
    "duration": 126,
    "start_time": "2023-12-25T14:24:11.501Z"
   },
   {
    "duration": 19,
    "start_time": "2023-12-25T14:24:15.270Z"
   },
   {
    "duration": 1024,
    "start_time": "2023-12-25T14:24:57.566Z"
   },
   {
    "duration": 5,
    "start_time": "2023-12-25T14:24:58.593Z"
   },
   {
    "duration": 18,
    "start_time": "2023-12-25T14:24:59.119Z"
   },
   {
    "duration": 46,
    "start_time": "2023-12-25T14:24:59.982Z"
   },
   {
    "duration": 876,
    "start_time": "2023-12-25T14:25:00.631Z"
   },
   {
    "duration": 17,
    "start_time": "2023-12-25T14:25:01.593Z"
   },
   {
    "duration": 98,
    "start_time": "2023-12-25T14:25:06.990Z"
   },
   {
    "duration": 5,
    "start_time": "2023-12-25T14:25:07.615Z"
   },
   {
    "duration": 25,
    "start_time": "2023-12-25T14:25:08.406Z"
   },
   {
    "duration": 53,
    "start_time": "2023-12-25T14:25:09.311Z"
   },
   {
    "duration": 104,
    "start_time": "2023-12-25T14:25:12.334Z"
   },
   {
    "duration": 16,
    "start_time": "2023-12-25T14:25:15.735Z"
   },
   {
    "duration": 62,
    "start_time": "2023-12-25T14:25:44.423Z"
   },
   {
    "duration": 137,
    "start_time": "2023-12-25T14:27:20.968Z"
   },
   {
    "duration": 52,
    "start_time": "2023-12-25T14:27:27.193Z"
   },
   {
    "duration": 88,
    "start_time": "2023-12-25T14:28:04.018Z"
   },
   {
    "duration": 152,
    "start_time": "2023-12-25T14:28:34.169Z"
   },
   {
    "duration": 49,
    "start_time": "2023-12-25T14:28:41.340Z"
   },
   {
    "duration": 57,
    "start_time": "2023-12-25T14:29:07.066Z"
   },
   {
    "duration": 33,
    "start_time": "2023-12-25T14:29:45.554Z"
   },
   {
    "duration": 15,
    "start_time": "2023-12-25T14:29:50.130Z"
   },
   {
    "duration": 58,
    "start_time": "2023-12-25T14:29:51.417Z"
   },
   {
    "duration": 55,
    "start_time": "2023-12-25T14:29:52.865Z"
   },
   {
    "duration": 2,
    "start_time": "2023-12-25T14:30:26.306Z"
   },
   {
    "duration": 4,
    "start_time": "2023-12-25T14:30:34.945Z"
   },
   {
    "duration": 5,
    "start_time": "2023-12-25T14:30:41.074Z"
   },
   {
    "duration": 90,
    "start_time": "2023-12-25T14:31:01.866Z"
   },
   {
    "duration": 869,
    "start_time": "2023-12-25T14:31:10.586Z"
   },
   {
    "duration": 194,
    "start_time": "2023-12-25T14:31:12.098Z"
   },
   {
    "duration": 28,
    "start_time": "2023-12-25T14:31:13.170Z"
   },
   {
    "duration": 4,
    "start_time": "2023-12-25T14:31:13.755Z"
   },
   {
    "duration": 31659,
    "start_time": "2023-12-25T14:31:15.971Z"
   },
   {
    "duration": 36959,
    "start_time": "2023-12-25T14:31:59.571Z"
   },
   {
    "duration": 4,
    "start_time": "2023-12-25T14:32:47.140Z"
   },
   {
    "duration": 5,
    "start_time": "2023-12-25T14:35:14.757Z"
   },
   {
    "duration": 4,
    "start_time": "2023-12-25T14:41:00.282Z"
   },
   {
    "duration": 926,
    "start_time": "2023-12-25T14:41:04.186Z"
   },
   {
    "duration": 5,
    "start_time": "2023-12-25T14:41:36.730Z"
   },
   {
    "duration": 6,
    "start_time": "2023-12-25T14:41:38.058Z"
   },
   {
    "duration": 4,
    "start_time": "2023-12-25T14:41:47.546Z"
   },
   {
    "duration": 4,
    "start_time": "2023-12-25T14:41:51.356Z"
   },
   {
    "duration": 15,
    "start_time": "2023-12-25T14:42:03.298Z"
   },
   {
    "duration": 923,
    "start_time": "2023-12-25T14:42:31.123Z"
   },
   {
    "duration": 75,
    "start_time": "2023-12-25T14:43:12.780Z"
   },
   {
    "duration": 899,
    "start_time": "2023-12-25T14:45:55.828Z"
   },
   {
    "duration": 79,
    "start_time": "2023-12-25T14:45:58.853Z"
   },
   {
    "duration": 75,
    "start_time": "2023-12-25T14:46:14.821Z"
   },
   {
    "duration": 20,
    "start_time": "2023-12-25T14:46:45.733Z"
   },
   {
    "duration": 791,
    "start_time": "2023-12-25T14:46:46.221Z"
   },
   {
    "duration": 802,
    "start_time": "2023-12-25T14:49:19.448Z"
   },
   {
    "duration": 183,
    "start_time": "2023-12-25T14:51:37.009Z"
   },
   {
    "duration": 384,
    "start_time": "2023-12-25T14:51:44.545Z"
   },
   {
    "duration": 128,
    "start_time": "2023-12-25T14:51:46.552Z"
   },
   {
    "duration": 52,
    "start_time": "2023-12-25T14:51:47.464Z"
   },
   {
    "duration": 4,
    "start_time": "2023-12-25T14:52:34.577Z"
   },
   {
    "duration": 183,
    "start_time": "2023-12-25T14:52:55.265Z"
   },
   {
    "duration": 56,
    "start_time": "2023-12-25T14:52:59.434Z"
   },
   {
    "duration": 53,
    "start_time": "2023-12-25T14:53:09.785Z"
   },
   {
    "duration": 51,
    "start_time": "2023-12-25T14:53:20.641Z"
   },
   {
    "duration": 27,
    "start_time": "2023-12-25T14:53:32.585Z"
   },
   {
    "duration": 46,
    "start_time": "2023-12-25T14:53:41.146Z"
   },
   {
    "duration": 58,
    "start_time": "2023-12-25T14:53:41.490Z"
   },
   {
    "duration": 7,
    "start_time": "2023-12-25T14:54:21.516Z"
   },
   {
    "duration": 120,
    "start_time": "2023-12-25T14:54:26.148Z"
   },
   {
    "duration": 5,
    "start_time": "2023-12-25T14:54:39.499Z"
   },
   {
    "duration": 188,
    "start_time": "2023-12-25T14:54:43.995Z"
   },
   {
    "duration": 112,
    "start_time": "2023-12-25T14:55:32.155Z"
   },
   {
    "duration": 799,
    "start_time": "2023-12-25T14:57:30.053Z"
   },
   {
    "duration": 204,
    "start_time": "2023-12-25T14:57:31.436Z"
   },
   {
    "duration": 29,
    "start_time": "2023-12-25T14:57:32.165Z"
   },
   {
    "duration": 4,
    "start_time": "2023-12-25T14:57:32.748Z"
   },
   {
    "duration": 31394,
    "start_time": "2023-12-25T14:57:50.017Z"
   },
   {
    "duration": 982,
    "start_time": "2023-12-25T15:00:35.911Z"
   },
   {
    "duration": 83,
    "start_time": "2023-12-25T15:00:37.124Z"
   },
   {
    "duration": 817,
    "start_time": "2023-12-25T15:00:37.958Z"
   },
   {
    "duration": 21,
    "start_time": "2023-12-25T15:00:40.158Z"
   },
   {
    "duration": 427,
    "start_time": "2023-12-25T15:00:40.758Z"
   },
   {
    "duration": 154,
    "start_time": "2023-12-25T15:00:41.582Z"
   },
   {
    "duration": 71,
    "start_time": "2023-12-25T15:00:42.007Z"
   },
   {
    "duration": 68,
    "start_time": "2023-12-25T15:00:43.558Z"
   },
   {
    "duration": 49,
    "start_time": "2023-12-25T15:00:44.343Z"
   },
   {
    "duration": 105,
    "start_time": "2023-12-25T15:00:45.694Z"
   },
   {
    "duration": 820,
    "start_time": "2023-12-25T15:00:49.503Z"
   },
   {
    "duration": 37,
    "start_time": "2023-12-25T15:00:54.519Z"
   },
   {
    "duration": 782,
    "start_time": "2023-12-25T15:03:15.921Z"
   },
   {
    "duration": 102,
    "start_time": "2023-12-25T15:03:17.497Z"
   },
   {
    "duration": 828,
    "start_time": "2023-12-25T15:03:18.336Z"
   },
   {
    "duration": 23,
    "start_time": "2023-12-25T15:03:21.020Z"
   },
   {
    "duration": 420,
    "start_time": "2023-12-25T15:03:21.361Z"
   },
   {
    "duration": 118,
    "start_time": "2023-12-25T15:03:21.865Z"
   },
   {
    "duration": 60,
    "start_time": "2023-12-25T15:03:22.384Z"
   },
   {
    "duration": 61,
    "start_time": "2023-12-25T15:03:24.265Z"
   },
   {
    "duration": 61,
    "start_time": "2023-12-25T15:03:25.306Z"
   },
   {
    "duration": 112,
    "start_time": "2023-12-25T15:03:26.114Z"
   },
   {
    "duration": 206,
    "start_time": "2023-12-25T15:03:34.211Z"
   },
   {
    "duration": 36,
    "start_time": "2023-12-25T15:03:35.802Z"
   },
   {
    "duration": 190,
    "start_time": "2023-12-25T15:03:43.801Z"
   },
   {
    "duration": 35,
    "start_time": "2023-12-25T15:03:45.209Z"
   },
   {
    "duration": 5,
    "start_time": "2023-12-25T15:03:45.821Z"
   },
   {
    "duration": 39676,
    "start_time": "2023-12-25T15:03:47.056Z"
   },
   {
    "duration": 2,
    "start_time": "2023-12-25T15:05:19.554Z"
   },
   {
    "duration": 784,
    "start_time": "2023-12-25T15:05:25.338Z"
   },
   {
    "duration": 112,
    "start_time": "2023-12-25T15:05:26.125Z"
   },
   {
    "duration": 810,
    "start_time": "2023-12-25T15:05:26.239Z"
   },
   {
    "duration": 24,
    "start_time": "2023-12-25T15:05:27.050Z"
   },
   {
    "duration": 439,
    "start_time": "2023-12-25T15:05:27.916Z"
   },
   {
    "duration": 123,
    "start_time": "2023-12-25T15:05:28.578Z"
   },
   {
    "duration": 56,
    "start_time": "2023-12-25T15:05:28.826Z"
   },
   {
    "duration": 54,
    "start_time": "2023-12-25T15:05:29.546Z"
   },
   {
    "duration": 77,
    "start_time": "2023-12-25T15:05:30.194Z"
   },
   {
    "duration": 106,
    "start_time": "2023-12-25T15:05:31.202Z"
   },
   {
    "duration": 666,
    "start_time": "2023-12-25T15:06:44.435Z"
   },
   {
    "duration": 37,
    "start_time": "2023-12-25T15:06:50.539Z"
   },
   {
    "duration": 294,
    "start_time": "2023-12-25T15:07:11.851Z"
   },
   {
    "duration": 176,
    "start_time": "2023-12-25T15:07:18.804Z"
   },
   {
    "duration": 15,
    "start_time": "2023-12-25T15:07:21.886Z"
   },
   {
    "duration": 8,
    "start_time": "2023-12-25T15:08:10.596Z"
   },
   {
    "duration": 3,
    "start_time": "2023-12-25T15:08:15.508Z"
   },
   {
    "duration": 4,
    "start_time": "2023-12-25T15:08:22.276Z"
   },
   {
    "duration": 5,
    "start_time": "2023-12-25T15:08:27.052Z"
   },
   {
    "duration": 3,
    "start_time": "2023-12-25T15:08:34.661Z"
   },
   {
    "duration": 4,
    "start_time": "2023-12-25T15:08:50.356Z"
   },
   {
    "duration": 8,
    "start_time": "2023-12-25T15:08:55.652Z"
   },
   {
    "duration": 3,
    "start_time": "2023-12-25T15:09:04.557Z"
   },
   {
    "duration": 749,
    "start_time": "2023-12-25T15:10:38.279Z"
   },
   {
    "duration": 101,
    "start_time": "2023-12-25T15:10:39.030Z"
   },
   {
    "duration": 763,
    "start_time": "2023-12-25T15:10:39.182Z"
   },
   {
    "duration": 24,
    "start_time": "2023-12-25T15:10:39.946Z"
   },
   {
    "duration": 392,
    "start_time": "2023-12-25T15:10:40.149Z"
   },
   {
    "duration": 116,
    "start_time": "2023-12-25T15:10:40.653Z"
   },
   {
    "duration": 51,
    "start_time": "2023-12-25T15:10:40.973Z"
   },
   {
    "duration": 52,
    "start_time": "2023-12-25T15:10:41.437Z"
   },
   {
    "duration": 52,
    "start_time": "2023-12-25T15:10:42.165Z"
   },
   {
    "duration": 100,
    "start_time": "2023-12-25T15:10:42.713Z"
   },
   {
    "duration": 2,
    "start_time": "2023-12-25T15:10:45.526Z"
   },
   {
    "duration": 647,
    "start_time": "2023-12-25T15:10:46.318Z"
   },
   {
    "duration": 36,
    "start_time": "2023-12-25T15:10:47.662Z"
   },
   {
    "duration": 228,
    "start_time": "2023-12-25T15:11:02.406Z"
   },
   {
    "duration": 727,
    "start_time": "2023-12-25T15:11:17.918Z"
   },
   {
    "duration": 100,
    "start_time": "2023-12-25T15:11:18.646Z"
   },
   {
    "duration": 788,
    "start_time": "2023-12-25T15:11:18.747Z"
   },
   {
    "duration": 23,
    "start_time": "2023-12-25T15:11:19.537Z"
   },
   {
    "duration": 407,
    "start_time": "2023-12-25T15:11:19.562Z"
   },
   {
    "duration": 125,
    "start_time": "2023-12-25T15:11:19.970Z"
   },
   {
    "duration": 59,
    "start_time": "2023-12-25T15:11:20.096Z"
   },
   {
    "duration": 57,
    "start_time": "2023-12-25T15:11:20.318Z"
   },
   {
    "duration": 53,
    "start_time": "2023-12-25T15:11:20.958Z"
   },
   {
    "duration": 97,
    "start_time": "2023-12-25T15:11:21.302Z"
   },
   {
    "duration": 3,
    "start_time": "2023-12-25T15:11:22.534Z"
   },
   {
    "duration": 668,
    "start_time": "2023-12-25T15:11:22.991Z"
   },
   {
    "duration": 37,
    "start_time": "2023-12-25T15:11:24.422Z"
   },
   {
    "duration": 221,
    "start_time": "2023-12-25T15:11:30.871Z"
   },
   {
    "duration": 4,
    "start_time": "2023-12-25T15:11:32.397Z"
   },
   {
    "duration": 40,
    "start_time": "2023-12-25T15:11:33.726Z"
   },
   {
    "duration": 4,
    "start_time": "2023-12-25T15:11:48.615Z"
   },
   {
    "duration": 4,
    "start_time": "2023-12-25T15:11:55.022Z"
   },
   {
    "duration": 4,
    "start_time": "2023-12-25T15:12:42.584Z"
   },
   {
    "duration": 767,
    "start_time": "2023-12-25T15:13:05.823Z"
   },
   {
    "duration": 97,
    "start_time": "2023-12-25T15:13:06.592Z"
   },
   {
    "duration": 780,
    "start_time": "2023-12-25T15:13:06.690Z"
   },
   {
    "duration": 30,
    "start_time": "2023-12-25T15:13:07.472Z"
   },
   {
    "duration": 399,
    "start_time": "2023-12-25T15:13:07.504Z"
   },
   {
    "duration": 127,
    "start_time": "2023-12-25T15:13:07.904Z"
   },
   {
    "duration": 55,
    "start_time": "2023-12-25T15:13:08.032Z"
   },
   {
    "duration": 70,
    "start_time": "2023-12-25T15:13:08.090Z"
   },
   {
    "duration": 65,
    "start_time": "2023-12-25T15:13:08.162Z"
   },
   {
    "duration": 105,
    "start_time": "2023-12-25T15:13:09.206Z"
   },
   {
    "duration": 2,
    "start_time": "2023-12-25T15:13:11.087Z"
   },
   {
    "duration": 660,
    "start_time": "2023-12-25T15:13:11.343Z"
   },
   {
    "duration": 36,
    "start_time": "2023-12-25T15:13:13.216Z"
   },
   {
    "duration": 3,
    "start_time": "2023-12-25T15:13:18.415Z"
   },
   {
    "duration": 210,
    "start_time": "2023-12-25T15:13:19.663Z"
   },
   {
    "duration": 4,
    "start_time": "2023-12-25T15:13:21.192Z"
   },
   {
    "duration": 4,
    "start_time": "2023-12-25T15:13:21.682Z"
   },
   {
    "duration": 3,
    "start_time": "2023-12-25T15:13:24.359Z"
   },
   {
    "duration": 39,
    "start_time": "2023-12-25T15:13:25.082Z"
   },
   {
    "duration": 38,
    "start_time": "2023-12-25T15:13:58.401Z"
   },
   {
    "duration": 21,
    "start_time": "2023-12-25T15:14:16.648Z"
   },
   {
    "duration": 8,
    "start_time": "2023-12-25T15:14:22.186Z"
   },
   {
    "duration": 4,
    "start_time": "2023-12-25T15:14:29.656Z"
   },
   {
    "duration": 21,
    "start_time": "2023-12-25T15:15:29.161Z"
   },
   {
    "duration": 15,
    "start_time": "2023-12-25T15:16:32.706Z"
   },
   {
    "duration": 37,
    "start_time": "2023-12-25T15:16:48.114Z"
   },
   {
    "duration": 4,
    "start_time": "2023-12-25T15:16:57.298Z"
   },
   {
    "duration": 3,
    "start_time": "2023-12-25T15:17:03.587Z"
   },
   {
    "duration": 2,
    "start_time": "2023-12-25T15:17:46.179Z"
   },
   {
    "duration": 4,
    "start_time": "2023-12-25T15:17:47.915Z"
   },
   {
    "duration": 14,
    "start_time": "2023-12-25T15:18:16.635Z"
   },
   {
    "duration": 4,
    "start_time": "2023-12-25T15:18:26.693Z"
   },
   {
    "duration": 720,
    "start_time": "2023-12-25T15:19:23.045Z"
   },
   {
    "duration": 102,
    "start_time": "2023-12-25T15:19:23.766Z"
   },
   {
    "duration": 754,
    "start_time": "2023-12-25T15:19:23.925Z"
   },
   {
    "duration": 35,
    "start_time": "2023-12-25T15:19:24.680Z"
   },
   {
    "duration": 394,
    "start_time": "2023-12-25T15:19:24.917Z"
   },
   {
    "duration": 123,
    "start_time": "2023-12-25T15:19:25.523Z"
   },
   {
    "duration": 54,
    "start_time": "2023-12-25T15:19:25.901Z"
   },
   {
    "duration": 55,
    "start_time": "2023-12-25T15:19:26.365Z"
   },
   {
    "duration": 52,
    "start_time": "2023-12-25T15:19:26.989Z"
   },
   {
    "duration": 94,
    "start_time": "2023-12-25T15:19:27.414Z"
   },
   {
    "duration": 3,
    "start_time": "2023-12-25T15:19:29.909Z"
   },
   {
    "duration": 722,
    "start_time": "2023-12-25T15:19:30.252Z"
   },
   {
    "duration": 37,
    "start_time": "2023-12-25T15:19:31.062Z"
   },
   {
    "duration": 224,
    "start_time": "2023-12-25T15:19:35.149Z"
   },
   {
    "duration": 4,
    "start_time": "2023-12-25T15:19:37.668Z"
   },
   {
    "duration": 3,
    "start_time": "2023-12-25T15:19:37.924Z"
   },
   {
    "duration": 4,
    "start_time": "2023-12-25T15:19:40.261Z"
   },
   {
    "duration": 3,
    "start_time": "2023-12-25T15:19:40.966Z"
   },
   {
    "duration": 5,
    "start_time": "2023-12-25T15:19:45.221Z"
   },
   {
    "duration": 4,
    "start_time": "2023-12-25T15:19:46.869Z"
   },
   {
    "duration": 3,
    "start_time": "2023-12-25T15:19:51.965Z"
   },
   {
    "duration": 4,
    "start_time": "2023-12-25T15:19:53.901Z"
   },
   {
    "duration": 7329,
    "start_time": "2023-12-25T15:19:57.485Z"
   },
   {
    "duration": 7,
    "start_time": "2023-12-25T15:22:59.568Z"
   },
   {
    "duration": 728,
    "start_time": "2023-12-25T15:23:47.530Z"
   },
   {
    "duration": 101,
    "start_time": "2023-12-25T15:23:48.260Z"
   },
   {
    "duration": 797,
    "start_time": "2023-12-25T15:23:48.363Z"
   },
   {
    "duration": 23,
    "start_time": "2023-12-25T15:23:49.162Z"
   },
   {
    "duration": 393,
    "start_time": "2023-12-25T15:23:49.187Z"
   },
   {
    "duration": 123,
    "start_time": "2023-12-25T15:23:49.582Z"
   },
   {
    "duration": 54,
    "start_time": "2023-12-25T15:23:49.953Z"
   },
   {
    "duration": 54,
    "start_time": "2023-12-25T15:23:50.473Z"
   },
   {
    "duration": 53,
    "start_time": "2023-12-25T15:23:51.680Z"
   },
   {
    "duration": 95,
    "start_time": "2023-12-25T15:23:52.992Z"
   },
   {
    "duration": 2,
    "start_time": "2023-12-25T15:23:55.425Z"
   },
   {
    "duration": 2,
    "start_time": "2023-12-25T15:23:55.608Z"
   },
   {
    "duration": 796,
    "start_time": "2023-12-25T15:23:56.335Z"
   },
   {
    "duration": 3,
    "start_time": "2023-12-25T15:24:00.808Z"
   },
   {
    "duration": 99,
    "start_time": "2023-12-25T15:24:59.481Z"
   },
   {
    "duration": 3,
    "start_time": "2023-12-25T15:25:01.603Z"
   },
   {
    "duration": 3,
    "start_time": "2023-12-25T15:25:01.802Z"
   },
   {
    "duration": 827,
    "start_time": "2023-12-25T15:25:02.225Z"
   },
   {
    "duration": 76,
    "start_time": "2023-12-25T15:25:22.689Z"
   },
   {
    "duration": 32,
    "start_time": "2023-12-25T15:25:50.227Z"
   },
   {
    "duration": 18,
    "start_time": "2023-12-25T15:26:10.027Z"
   },
   {
    "duration": 14,
    "start_time": "2023-12-25T15:26:50.907Z"
   },
   {
    "duration": 89,
    "start_time": "2023-12-25T15:31:21.119Z"
   },
   {
    "duration": 4,
    "start_time": "2023-12-25T15:31:29.319Z"
   },
   {
    "duration": 8485,
    "start_time": "2023-12-25T15:31:34.758Z"
   },
   {
    "duration": 13,
    "start_time": "2023-12-25T15:33:43.128Z"
   },
   {
    "duration": 17,
    "start_time": "2023-12-25T15:33:59.320Z"
   },
   {
    "duration": 30,
    "start_time": "2023-12-25T15:34:05.065Z"
   },
   {
    "duration": 11,
    "start_time": "2023-12-25T15:34:11.969Z"
   },
   {
    "duration": 32,
    "start_time": "2023-12-25T15:34:19.465Z"
   },
   {
    "duration": 11,
    "start_time": "2023-12-25T15:34:38.601Z"
   },
   {
    "duration": 37,
    "start_time": "2023-12-25T15:35:03.705Z"
   },
   {
    "duration": 35,
    "start_time": "2023-12-25T15:35:11.097Z"
   },
   {
    "duration": 10,
    "start_time": "2023-12-25T15:35:14.362Z"
   },
   {
    "duration": 12,
    "start_time": "2023-12-25T15:35:18.170Z"
   },
   {
    "duration": 31,
    "start_time": "2023-12-25T15:35:28.282Z"
   },
   {
    "duration": 38,
    "start_time": "2023-12-25T15:35:39.881Z"
   },
   {
    "duration": 10,
    "start_time": "2023-12-25T15:35:43.465Z"
   },
   {
    "duration": 4,
    "start_time": "2023-12-25T15:37:00.843Z"
   },
   {
    "duration": 4,
    "start_time": "2023-12-25T15:37:13.795Z"
   },
   {
    "duration": 32,
    "start_time": "2023-12-25T15:37:28.363Z"
   },
   {
    "duration": 51,
    "start_time": "2023-12-25T15:37:47.499Z"
   },
   {
    "duration": 41,
    "start_time": "2023-12-25T15:38:28.015Z"
   },
   {
    "duration": 25,
    "start_time": "2023-12-25T15:38:36.021Z"
   },
   {
    "duration": 42,
    "start_time": "2023-12-25T15:39:33.325Z"
   },
   {
    "duration": 320,
    "start_time": "2023-12-25T15:39:50.390Z"
   },
   {
    "duration": 286,
    "start_time": "2023-12-25T15:40:05.174Z"
   },
   {
    "duration": 3,
    "start_time": "2023-12-25T15:40:39.006Z"
   },
   {
    "duration": 87,
    "start_time": "2023-12-25T15:42:01.079Z"
   },
   {
    "duration": 275,
    "start_time": "2023-12-25T15:42:05.486Z"
   },
   {
    "duration": 88,
    "start_time": "2023-12-25T15:42:27.607Z"
   },
   {
    "duration": 267,
    "start_time": "2023-12-25T15:42:38.848Z"
   },
   {
    "duration": 31,
    "start_time": "2023-12-25T15:44:01.471Z"
   },
   {
    "duration": 23,
    "start_time": "2023-12-25T15:44:29.536Z"
   },
   {
    "duration": 266,
    "start_time": "2023-12-25T15:45:57.346Z"
   },
   {
    "duration": 304,
    "start_time": "2023-12-25T15:46:19.819Z"
   },
   {
    "duration": 269,
    "start_time": "2023-12-25T15:46:23.418Z"
   },
   {
    "duration": 7,
    "start_time": "2023-12-25T15:47:29.194Z"
   },
   {
    "duration": 9,
    "start_time": "2023-12-25T15:48:06.659Z"
   },
   {
    "duration": 4,
    "start_time": "2023-12-25T15:48:21.195Z"
   },
   {
    "duration": 82,
    "start_time": "2023-12-25T15:48:34.051Z"
   },
   {
    "duration": 17,
    "start_time": "2023-12-25T15:48:53.915Z"
   },
   {
    "duration": 13,
    "start_time": "2023-12-25T15:50:37.861Z"
   },
   {
    "duration": 12,
    "start_time": "2023-12-25T15:51:04.736Z"
   },
   {
    "duration": 12,
    "start_time": "2023-12-25T15:52:10.094Z"
   },
   {
    "duration": 12,
    "start_time": "2023-12-25T15:52:20.798Z"
   },
   {
    "duration": 10,
    "start_time": "2023-12-25T15:53:19.496Z"
   },
   {
    "duration": 285,
    "start_time": "2023-12-25T15:53:35.200Z"
   },
   {
    "duration": 247,
    "start_time": "2023-12-25T15:54:05.706Z"
   },
   {
    "duration": 251,
    "start_time": "2023-12-25T15:54:17.001Z"
   },
   {
    "duration": 95,
    "start_time": "2023-12-25T15:54:58.266Z"
   },
   {
    "duration": 95,
    "start_time": "2023-12-25T15:55:58.410Z"
   },
   {
    "duration": 3,
    "start_time": "2023-12-25T15:55:59.497Z"
   },
   {
    "duration": 2,
    "start_time": "2023-12-25T15:55:59.697Z"
   },
   {
    "duration": 6,
    "start_time": "2023-12-25T15:56:09.842Z"
   },
   {
    "duration": 4,
    "start_time": "2023-12-25T15:56:14.050Z"
   },
   {
    "duration": 2,
    "start_time": "2023-12-25T15:56:23.899Z"
   },
   {
    "duration": 780,
    "start_time": "2023-12-25T15:56:29.297Z"
   },
   {
    "duration": 4,
    "start_time": "2023-12-25T15:56:30.714Z"
   },
   {
    "duration": 4,
    "start_time": "2023-12-25T15:56:34.275Z"
   },
   {
    "duration": 38,
    "start_time": "2023-12-25T15:56:34.819Z"
   },
   {
    "duration": 32,
    "start_time": "2023-12-25T15:56:50.163Z"
   },
   {
    "duration": 29,
    "start_time": "2023-12-25T15:57:23.843Z"
   },
   {
    "duration": 39,
    "start_time": "2023-12-25T15:57:27.315Z"
   },
   {
    "duration": 7,
    "start_time": "2023-12-25T15:57:33.315Z"
   },
   {
    "duration": 3,
    "start_time": "2023-12-25T15:57:41.187Z"
   },
   {
    "duration": 92,
    "start_time": "2023-12-25T15:57:54.724Z"
   },
   {
    "duration": 1198,
    "start_time": "2023-12-25T15:58:32.076Z"
   },
   {
    "duration": 98,
    "start_time": "2023-12-25T15:58:40.556Z"
   },
   {
    "duration": 2,
    "start_time": "2023-12-25T15:58:41.540Z"
   },
   {
    "duration": 2,
    "start_time": "2023-12-25T15:58:41.787Z"
   },
   {
    "duration": 4,
    "start_time": "2023-12-25T15:58:42.084Z"
   },
   {
    "duration": 968,
    "start_time": "2023-12-25T15:59:02.532Z"
   },
   {
    "duration": 14,
    "start_time": "2023-12-25T15:59:20.076Z"
   },
   {
    "duration": 18,
    "start_time": "2023-12-25T15:59:39.620Z"
   },
   {
    "duration": 4,
    "start_time": "2023-12-25T15:59:40.461Z"
   },
   {
    "duration": 82,
    "start_time": "2023-12-25T15:59:44.413Z"
   },
   {
    "duration": 22,
    "start_time": "2023-12-25T16:00:09.599Z"
   },
   {
    "duration": 44,
    "start_time": "2023-12-25T16:00:19.909Z"
   },
   {
    "duration": 27,
    "start_time": "2023-12-25T16:00:24.885Z"
   },
   {
    "duration": 29,
    "start_time": "2023-12-25T16:00:40.885Z"
   },
   {
    "duration": 254,
    "start_time": "2023-12-25T16:00:45.710Z"
   },
   {
    "duration": 4,
    "start_time": "2023-12-25T16:01:02.046Z"
   },
   {
    "duration": 4,
    "start_time": "2023-12-25T16:01:09.117Z"
   },
   {
    "duration": 3,
    "start_time": "2023-12-25T16:01:10.262Z"
   },
   {
    "duration": 7679,
    "start_time": "2023-12-25T16:01:14.839Z"
   },
   {
    "duration": 93,
    "start_time": "2023-12-25T16:02:15.487Z"
   },
   {
    "duration": 2,
    "start_time": "2023-12-25T16:02:17.727Z"
   },
   {
    "duration": 2,
    "start_time": "2023-12-25T16:02:17.943Z"
   },
   {
    "duration": 3,
    "start_time": "2023-12-25T16:02:18.231Z"
   },
   {
    "duration": 953,
    "start_time": "2023-12-25T16:02:24.918Z"
   },
   {
    "duration": 4,
    "start_time": "2023-12-25T16:02:26.448Z"
   },
   {
    "duration": 4,
    "start_time": "2023-12-25T16:02:28.198Z"
   },
   {
    "duration": 14,
    "start_time": "2023-12-25T16:02:29.007Z"
   },
   {
    "duration": 95,
    "start_time": "2023-12-25T16:02:31.599Z"
   },
   {
    "duration": 83,
    "start_time": "2023-12-25T16:02:39.216Z"
   },
   {
    "duration": 4,
    "start_time": "2023-12-25T16:02:40.447Z"
   },
   {
    "duration": 108,
    "start_time": "2023-12-25T16:02:48.807Z"
   },
   {
    "duration": 2,
    "start_time": "2023-12-25T16:02:49.551Z"
   },
   {
    "duration": 3,
    "start_time": "2023-12-25T16:02:49.817Z"
   },
   {
    "duration": 3,
    "start_time": "2023-12-25T16:02:50.137Z"
   },
   {
    "duration": 960,
    "start_time": "2023-12-25T16:02:50.535Z"
   },
   {
    "duration": 4,
    "start_time": "2023-12-25T16:02:51.497Z"
   },
   {
    "duration": 4,
    "start_time": "2023-12-25T16:02:53.959Z"
   },
   {
    "duration": 13,
    "start_time": "2023-12-25T16:02:56.479Z"
   },
   {
    "duration": 84,
    "start_time": "2023-12-25T16:02:57.828Z"
   },
   {
    "duration": 4,
    "start_time": "2023-12-25T16:02:58.175Z"
   },
   {
    "duration": 147,
    "start_time": "2023-12-25T16:03:04.072Z"
   },
   {
    "duration": 453,
    "start_time": "2023-12-25T16:03:06.577Z"
   },
   {
    "duration": 3,
    "start_time": "2023-12-25T16:03:09.088Z"
   },
   {
    "duration": 4,
    "start_time": "2023-12-25T16:03:09.959Z"
   },
   {
    "duration": 1560,
    "start_time": "2023-12-25T16:03:27.754Z"
   },
   {
    "duration": 15,
    "start_time": "2023-12-25T16:03:31.464Z"
   },
   {
    "duration": 4,
    "start_time": "2023-12-25T16:03:32.129Z"
   },
   {
    "duration": 1070,
    "start_time": "2023-12-25T16:03:32.728Z"
   },
   {
    "duration": 101,
    "start_time": "2023-12-25T16:03:33.799Z"
   },
   {
    "duration": 746,
    "start_time": "2023-12-25T16:03:33.976Z"
   },
   {
    "duration": 36,
    "start_time": "2023-12-25T16:03:35.472Z"
   },
   {
    "duration": 406,
    "start_time": "2023-12-25T16:03:36.976Z"
   },
   {
    "duration": 116,
    "start_time": "2023-12-25T16:03:37.688Z"
   },
   {
    "duration": 50,
    "start_time": "2023-12-25T16:03:38.088Z"
   },
   {
    "duration": 52,
    "start_time": "2023-12-25T16:03:38.736Z"
   },
   {
    "duration": 60,
    "start_time": "2023-12-25T16:03:39.881Z"
   },
   {
    "duration": 100,
    "start_time": "2023-12-25T16:03:40.489Z"
   },
   {
    "duration": 2,
    "start_time": "2023-12-25T16:03:43.344Z"
   },
   {
    "duration": 2,
    "start_time": "2023-12-25T16:03:43.504Z"
   },
   {
    "duration": 3,
    "start_time": "2023-12-25T16:03:43.848Z"
   },
   {
    "duration": 948,
    "start_time": "2023-12-25T16:03:45.080Z"
   },
   {
    "duration": 3,
    "start_time": "2023-12-25T16:03:46.030Z"
   },
   {
    "duration": 4,
    "start_time": "2023-12-25T16:03:46.064Z"
   },
   {
    "duration": 13,
    "start_time": "2023-12-25T16:03:47.088Z"
   },
   {
    "duration": 89,
    "start_time": "2023-12-25T16:03:49.344Z"
   },
   {
    "duration": 4,
    "start_time": "2023-12-25T16:03:49.671Z"
   },
   {
    "duration": 152,
    "start_time": "2023-12-25T16:03:51.080Z"
   },
   {
    "duration": 438,
    "start_time": "2023-12-25T16:03:53.113Z"
   },
   {
    "duration": 4,
    "start_time": "2023-12-25T16:03:55.111Z"
   },
   {
    "duration": 4,
    "start_time": "2023-12-25T16:03:56.039Z"
   },
   {
    "duration": 10759,
    "start_time": "2023-12-25T16:03:57.665Z"
   },
   {
    "duration": 102,
    "start_time": "2023-12-25T16:04:41.648Z"
   },
   {
    "duration": 2,
    "start_time": "2023-12-25T16:04:42.418Z"
   },
   {
    "duration": 3,
    "start_time": "2023-12-25T16:04:42.672Z"
   },
   {
    "duration": 4,
    "start_time": "2023-12-25T16:04:42.976Z"
   },
   {
    "duration": 985,
    "start_time": "2023-12-25T16:04:52.584Z"
   },
   {
    "duration": 3,
    "start_time": "2023-12-25T16:04:56.033Z"
   },
   {
    "duration": 3,
    "start_time": "2023-12-25T16:04:56.593Z"
   },
   {
    "duration": 14,
    "start_time": "2023-12-25T16:04:57.017Z"
   },
   {
    "duration": 143,
    "start_time": "2023-12-25T16:05:02.234Z"
   },
   {
    "duration": 4,
    "start_time": "2023-12-25T16:05:04.049Z"
   },
   {
    "duration": 216,
    "start_time": "2023-12-25T16:05:04.872Z"
   },
   {
    "duration": 642,
    "start_time": "2023-12-25T16:05:06.161Z"
   },
   {
    "duration": 3,
    "start_time": "2023-12-25T16:05:07.050Z"
   },
   {
    "duration": 4,
    "start_time": "2023-12-25T16:05:07.512Z"
   },
   {
    "duration": 9358,
    "start_time": "2023-12-25T16:05:08.665Z"
   },
   {
    "duration": 101,
    "start_time": "2023-12-25T16:06:33.802Z"
   },
   {
    "duration": 655,
    "start_time": "2023-12-25T16:06:34.810Z"
   },
   {
    "duration": 2,
    "start_time": "2023-12-25T16:06:37.026Z"
   },
   {
    "duration": 3,
    "start_time": "2023-12-25T16:06:37.250Z"
   },
   {
    "duration": 162,
    "start_time": "2023-12-25T16:06:40.555Z"
   },
   {
    "duration": 3,
    "start_time": "2023-12-25T16:06:42.851Z"
   },
   {
    "duration": 4,
    "start_time": "2023-12-25T16:06:43.738Z"
   },
   {
    "duration": 5925,
    "start_time": "2023-12-25T16:06:45.202Z"
   },
   {
    "duration": 106,
    "start_time": "2023-12-25T17:13:55.590Z"
   },
   {
    "duration": 86,
    "start_time": "2023-12-25T17:16:16.496Z"
   },
   {
    "duration": 115,
    "start_time": "2023-12-25T17:17:17.191Z"
   },
   {
    "duration": 112,
    "start_time": "2023-12-25T17:17:38.302Z"
   },
   {
    "duration": 72,
    "start_time": "2023-12-25T17:17:50.222Z"
   },
   {
    "duration": 4,
    "start_time": "2023-12-25T17:18:27.504Z"
   },
   {
    "duration": 12,
    "start_time": "2023-12-25T17:18:30.104Z"
   },
   {
    "duration": 3,
    "start_time": "2023-12-25T17:18:38.295Z"
   },
   {
    "duration": 11,
    "start_time": "2023-12-25T17:18:41.687Z"
   },
   {
    "duration": 4,
    "start_time": "2023-12-25T17:18:46.759Z"
   },
   {
    "duration": 13,
    "start_time": "2023-12-25T17:19:00.112Z"
   },
   {
    "duration": 14,
    "start_time": "2023-12-25T17:19:18.344Z"
   },
   {
    "duration": 8,
    "start_time": "2023-12-25T17:25:08.806Z"
   },
   {
    "duration": 9,
    "start_time": "2023-12-25T17:25:14.828Z"
   },
   {
    "duration": 18,
    "start_time": "2023-12-25T17:25:22.021Z"
   },
   {
    "duration": 940,
    "start_time": "2023-12-25T17:25:30.319Z"
   },
   {
    "duration": 1014,
    "start_time": "2023-12-25T17:25:39.805Z"
   },
   {
    "duration": 1137,
    "start_time": "2023-12-25T17:26:45.006Z"
   },
   {
    "duration": 5,
    "start_time": "2023-12-25T17:27:19.534Z"
   },
   {
    "duration": 3,
    "start_time": "2023-12-25T17:27:30.552Z"
   },
   {
    "duration": 1237,
    "start_time": "2023-12-25T17:27:45.521Z"
   },
   {
    "duration": 997,
    "start_time": "2023-12-25T17:28:39.120Z"
   },
   {
    "duration": 2077,
    "start_time": "2023-12-25T17:29:13.784Z"
   },
   {
    "duration": 464,
    "start_time": "2023-12-25T17:30:54.473Z"
   },
   {
    "duration": 3,
    "start_time": "2023-12-25T17:31:09.985Z"
   },
   {
    "duration": 1576,
    "start_time": "2023-12-25T17:31:38.690Z"
   },
   {
    "duration": 16,
    "start_time": "2023-12-25T17:31:40.268Z"
   },
   {
    "duration": 4,
    "start_time": "2023-12-25T17:31:40.802Z"
   },
   {
    "duration": 1082,
    "start_time": "2023-12-25T17:31:41.849Z"
   },
   {
    "duration": 105,
    "start_time": "2023-12-25T17:31:42.962Z"
   },
   {
    "duration": 749,
    "start_time": "2023-12-25T17:31:43.666Z"
   },
   {
    "duration": 35,
    "start_time": "2023-12-25T17:31:44.416Z"
   },
   {
    "duration": 421,
    "start_time": "2023-12-25T17:31:44.490Z"
   },
   {
    "duration": 125,
    "start_time": "2023-12-25T17:31:44.913Z"
   },
   {
    "duration": 55,
    "start_time": "2023-12-25T17:31:45.057Z"
   },
   {
    "duration": 51,
    "start_time": "2023-12-25T17:31:45.298Z"
   },
   {
    "duration": 50,
    "start_time": "2023-12-25T17:31:46.002Z"
   },
   {
    "duration": 102,
    "start_time": "2023-12-25T17:31:46.322Z"
   },
   {
    "duration": 3089,
    "start_time": "2023-12-25T17:32:01.211Z"
   },
   {
    "duration": 460,
    "start_time": "2023-12-25T17:32:04.962Z"
   },
   {
    "duration": 3442,
    "start_time": "2023-12-25T17:32:09.754Z"
   },
   {
    "duration": 3,
    "start_time": "2023-12-25T17:32:15.499Z"
   },
   {
    "duration": 4,
    "start_time": "2023-12-25T17:32:17.506Z"
   },
   {
    "duration": 19486,
    "start_time": "2023-12-25T17:32:20.226Z"
   },
   {
    "duration": 119,
    "start_time": "2023-12-25T17:34:56.094Z"
   },
   {
    "duration": 3,
    "start_time": "2023-12-25T17:35:11.344Z"
   },
   {
    "duration": 1602,
    "start_time": "2023-12-25T17:35:11.885Z"
   },
   {
    "duration": 16,
    "start_time": "2023-12-25T17:35:13.489Z"
   },
   {
    "duration": 8,
    "start_time": "2023-12-25T17:35:13.506Z"
   },
   {
    "duration": 1030,
    "start_time": "2023-12-25T17:35:13.957Z"
   },
   {
    "duration": 99,
    "start_time": "2023-12-25T17:35:14.989Z"
   },
   {
    "duration": 761,
    "start_time": "2023-12-25T17:35:15.271Z"
   },
   {
    "duration": 40,
    "start_time": "2023-12-25T17:35:16.414Z"
   },
   {
    "duration": 433,
    "start_time": "2023-12-25T17:35:16.702Z"
   },
   {
    "duration": 126,
    "start_time": "2023-12-25T17:35:17.140Z"
   },
   {
    "duration": 50,
    "start_time": "2023-12-25T17:35:17.502Z"
   },
   {
    "duration": 53,
    "start_time": "2023-12-25T17:35:18.190Z"
   },
   {
    "duration": 48,
    "start_time": "2023-12-25T17:35:18.735Z"
   },
   {
    "duration": 111,
    "start_time": "2023-12-25T17:35:19.254Z"
   },
   {
    "duration": 2,
    "start_time": "2023-12-25T17:35:21.934Z"
   },
   {
    "duration": 768,
    "start_time": "2023-12-25T17:35:22.182Z"
   },
   {
    "duration": 3,
    "start_time": "2023-12-25T17:35:25.966Z"
   },
   {
    "duration": 171,
    "start_time": "2023-12-25T17:35:29.909Z"
   },
   {
    "duration": 3,
    "start_time": "2023-12-25T17:35:32.254Z"
   },
   {
    "duration": 4,
    "start_time": "2023-12-25T17:35:33.438Z"
   },
   {
    "duration": 7276,
    "start_time": "2023-12-25T17:35:34.445Z"
   },
   {
    "duration": 93,
    "start_time": "2023-12-25T17:35:49.175Z"
   },
   {
    "duration": 2,
    "start_time": "2023-12-25T17:35:49.838Z"
   },
   {
    "duration": 719,
    "start_time": "2023-12-25T17:35:50.055Z"
   },
   {
    "duration": 2,
    "start_time": "2023-12-25T17:35:51.350Z"
   },
   {
    "duration": 3,
    "start_time": "2023-12-25T17:35:51.974Z"
   },
   {
    "duration": 3,
    "start_time": "2023-12-25T17:35:52.455Z"
   },
   {
    "duration": 170,
    "start_time": "2023-12-25T17:35:53.846Z"
   },
   {
    "duration": 4,
    "start_time": "2023-12-25T17:36:00.574Z"
   },
   {
    "duration": 93,
    "start_time": "2023-12-25T17:36:20.359Z"
   },
   {
    "duration": 2,
    "start_time": "2023-12-25T17:36:21.144Z"
   },
   {
    "duration": 736,
    "start_time": "2023-12-25T17:36:21.425Z"
   },
   {
    "duration": 3,
    "start_time": "2023-12-25T17:36:23.055Z"
   },
   {
    "duration": 2,
    "start_time": "2023-12-25T17:36:23.455Z"
   },
   {
    "duration": 3,
    "start_time": "2023-12-25T17:36:24.207Z"
   },
   {
    "duration": 151,
    "start_time": "2023-12-25T17:36:25.111Z"
   },
   {
    "duration": 3,
    "start_time": "2023-12-25T17:36:27.487Z"
   },
   {
    "duration": 4,
    "start_time": "2023-12-25T17:36:28.295Z"
   },
   {
    "duration": 6638,
    "start_time": "2023-12-25T17:36:29.079Z"
   },
   {
    "duration": 92,
    "start_time": "2023-12-25T17:36:58.815Z"
   },
   {
    "duration": 1348,
    "start_time": "2023-12-25T17:37:27.336Z"
   },
   {
    "duration": 4,
    "start_time": "2023-12-25T17:37:30.376Z"
   },
   {
    "duration": 586,
    "start_time": "2023-12-25T17:37:35.432Z"
   },
   {
    "duration": 3,
    "start_time": "2023-12-25T17:37:37.065Z"
   },
   {
    "duration": 4,
    "start_time": "2023-12-25T17:37:38.920Z"
   },
   {
    "duration": 9229,
    "start_time": "2023-12-25T17:37:40.793Z"
   },
   {
    "duration": 89,
    "start_time": "2023-12-25T17:39:10.137Z"
   },
   {
    "duration": 2,
    "start_time": "2023-12-25T17:39:10.802Z"
   },
   {
    "duration": 634,
    "start_time": "2023-12-25T17:39:11.082Z"
   },
   {
    "duration": 3,
    "start_time": "2023-12-25T17:39:24.842Z"
   },
   {
    "duration": 149,
    "start_time": "2023-12-25T17:39:34.794Z"
   },
   {
    "duration": 2,
    "start_time": "2023-12-25T17:39:36.546Z"
   },
   {
    "duration": 4,
    "start_time": "2023-12-25T17:39:36.770Z"
   },
   {
    "duration": 6416,
    "start_time": "2023-12-25T17:39:37.803Z"
   },
   {
    "duration": 43,
    "start_time": "2023-12-25T17:42:33.261Z"
   },
   {
    "duration": 37,
    "start_time": "2023-12-25T17:43:03.688Z"
   },
   {
    "duration": 6,
    "start_time": "2023-12-25T17:43:19.535Z"
   },
   {
    "duration": 4,
    "start_time": "2023-12-25T17:43:30.758Z"
   },
   {
    "duration": 4,
    "start_time": "2023-12-25T17:43:34.911Z"
   },
   {
    "duration": 105,
    "start_time": "2023-12-25T17:43:43.086Z"
   },
   {
    "duration": 2,
    "start_time": "2023-12-25T17:43:44.638Z"
   },
   {
    "duration": 685,
    "start_time": "2023-12-25T17:43:45.462Z"
   },
   {
    "duration": 8,
    "start_time": "2023-12-25T17:44:08.065Z"
   },
   {
    "duration": 93,
    "start_time": "2023-12-25T17:44:52.799Z"
   },
   {
    "duration": 3,
    "start_time": "2023-12-25T17:44:53.543Z"
   },
   {
    "duration": 96,
    "start_time": "2023-12-25T17:53:18.535Z"
   },
   {
    "duration": 111,
    "start_time": "2023-12-25T17:53:19.983Z"
   },
   {
    "duration": 96,
    "start_time": "2023-12-25T17:53:49.544Z"
   },
   {
    "duration": 11,
    "start_time": "2023-12-25T17:53:50.304Z"
   },
   {
    "duration": 12,
    "start_time": "2023-12-25T17:54:15.616Z"
   },
   {
    "duration": 846,
    "start_time": "2023-12-25T17:54:25.984Z"
   },
   {
    "duration": 104,
    "start_time": "2023-12-25T17:57:22.421Z"
   },
   {
    "duration": 100,
    "start_time": "2023-12-25T17:57:26.899Z"
   },
   {
    "duration": 6702,
    "start_time": "2023-12-25T17:57:27.610Z"
   },
   {
    "duration": 92,
    "start_time": "2023-12-25T17:57:40.378Z"
   },
   {
    "duration": 91,
    "start_time": "2023-12-25T17:57:43.459Z"
   },
   {
    "duration": 7109,
    "start_time": "2023-12-25T17:57:43.803Z"
   },
   {
    "duration": 83,
    "start_time": "2023-12-25T17:57:59.628Z"
   },
   {
    "duration": 101,
    "start_time": "2023-12-25T17:58:01.299Z"
   },
   {
    "duration": 6669,
    "start_time": "2023-12-25T17:58:01.844Z"
   },
   {
    "duration": 76,
    "start_time": "2023-12-25T17:58:13.972Z"
   },
   {
    "duration": 97,
    "start_time": "2023-12-25T17:58:15.540Z"
   },
   {
    "duration": 6725,
    "start_time": "2023-12-25T17:58:16.005Z"
   },
   {
    "duration": 128,
    "start_time": "2023-12-25T17:58:26.339Z"
   },
   {
    "duration": 92,
    "start_time": "2023-12-25T17:58:27.643Z"
   },
   {
    "duration": 8771,
    "start_time": "2023-12-25T17:58:27.948Z"
   },
   {
    "duration": 183,
    "start_time": "2023-12-25T17:58:42.516Z"
   },
   {
    "duration": 101,
    "start_time": "2023-12-25T17:58:43.763Z"
   },
   {
    "duration": 6621,
    "start_time": "2023-12-25T17:58:44.004Z"
   },
   {
    "duration": 98,
    "start_time": "2023-12-25T17:59:00.396Z"
   },
   {
    "duration": 7107,
    "start_time": "2023-12-25T17:59:01.021Z"
   },
   {
    "duration": 85,
    "start_time": "2023-12-25T17:59:48.517Z"
   },
   {
    "duration": 86,
    "start_time": "2023-12-25T17:59:49.852Z"
   },
   {
    "duration": 7053,
    "start_time": "2023-12-25T17:59:50.268Z"
   },
   {
    "duration": 93,
    "start_time": "2023-12-25T18:00:06.990Z"
   },
   {
    "duration": 6939,
    "start_time": "2023-12-25T18:00:07.285Z"
   },
   {
    "duration": 90,
    "start_time": "2023-12-25T18:00:19.957Z"
   },
   {
    "duration": 7397,
    "start_time": "2023-12-25T18:00:20.221Z"
   },
   {
    "duration": 98,
    "start_time": "2023-12-25T18:00:33.157Z"
   },
   {
    "duration": 7374,
    "start_time": "2023-12-25T18:00:33.438Z"
   },
   {
    "duration": 95,
    "start_time": "2023-12-25T18:00:46.189Z"
   },
   {
    "duration": 6997,
    "start_time": "2023-12-25T18:00:46.430Z"
   },
   {
    "duration": 91,
    "start_time": "2023-12-25T18:00:58.958Z"
   },
   {
    "duration": 7321,
    "start_time": "2023-12-25T18:00:59.502Z"
   },
   {
    "duration": 91,
    "start_time": "2023-12-25T18:06:29.907Z"
   },
   {
    "duration": 6706,
    "start_time": "2023-12-25T18:06:31.906Z"
   },
   {
    "duration": 91,
    "start_time": "2023-12-25T18:08:14.204Z"
   },
   {
    "duration": 6593,
    "start_time": "2023-12-25T18:08:15.036Z"
   },
   {
    "duration": 123,
    "start_time": "2023-12-25T18:12:14.704Z"
   },
   {
    "duration": 6,
    "start_time": "2023-12-26T13:24:27.152Z"
   },
   {
    "duration": 2,
    "start_time": "2023-12-26T13:24:28.182Z"
   },
   {
    "duration": 21,
    "start_time": "2023-12-26T13:24:37.630Z"
   },
   {
    "duration": 3,
    "start_time": "2023-12-26T13:25:00.318Z"
   },
   {
    "duration": 3,
    "start_time": "2023-12-26T13:26:14.079Z"
   },
   {
    "duration": 13,
    "start_time": "2023-12-26T13:26:18.959Z"
   },
   {
    "duration": 3,
    "start_time": "2023-12-26T13:26:50.815Z"
   },
   {
    "duration": 5,
    "start_time": "2023-12-26T13:26:52.911Z"
   },
   {
    "duration": 2968,
    "start_time": "2023-12-26T13:26:54.863Z"
   },
   {
    "duration": 30,
    "start_time": "2023-12-26T13:27:24.192Z"
   },
   {
    "duration": 3,
    "start_time": "2023-12-26T13:27:59.033Z"
   },
   {
    "duration": 90,
    "start_time": "2023-12-26T13:28:01.250Z"
   },
   {
    "duration": 27604,
    "start_time": "2023-12-26T13:28:01.752Z"
   },
   {
    "duration": 4,
    "start_time": "2023-12-26T13:31:21.453Z"
   },
   {
    "duration": 3,
    "start_time": "2023-12-26T13:31:24.956Z"
   },
   {
    "duration": 5,
    "start_time": "2023-12-26T13:31:31.044Z"
   },
   {
    "duration": 67376,
    "start_time": "2023-12-26T13:31:31.844Z"
   },
   {
    "duration": 519,
    "start_time": "2023-12-26T13:37:06.193Z"
   },
   {
    "duration": 525,
    "start_time": "2023-12-26T13:37:13.490Z"
   },
   {
    "duration": 544,
    "start_time": "2023-12-26T13:38:08.370Z"
   },
   {
    "duration": 459,
    "start_time": "2023-12-26T13:38:36.354Z"
   },
   {
    "duration": 481,
    "start_time": "2023-12-26T13:38:41.635Z"
   },
   {
    "duration": 434,
    "start_time": "2023-12-26T13:38:44.994Z"
   },
   {
    "duration": 506,
    "start_time": "2023-12-26T13:38:49.107Z"
   },
   {
    "duration": 572,
    "start_time": "2023-12-26T13:39:16.339Z"
   },
   {
    "duration": 489,
    "start_time": "2023-12-26T13:39:21.035Z"
   },
   {
    "duration": 4,
    "start_time": "2023-12-26T13:39:56.988Z"
   },
   {
    "duration": 3,
    "start_time": "2023-12-26T13:40:17.413Z"
   },
   {
    "duration": 5,
    "start_time": "2023-12-26T13:40:23.395Z"
   },
   {
    "duration": 69276,
    "start_time": "2023-12-26T13:40:29.828Z"
   },
   {
    "duration": 71945,
    "start_time": "2023-12-26T13:41:40.670Z"
   },
   {
    "duration": 13,
    "start_time": "2023-12-26T13:46:40.473Z"
   },
   {
    "duration": 13,
    "start_time": "2023-12-26T13:46:44.785Z"
   },
   {
    "duration": 23098,
    "start_time": "2023-12-26T13:47:26.161Z"
   },
   {
    "duration": 4,
    "start_time": "2023-12-26T13:48:14.946Z"
   },
   {
    "duration": 5,
    "start_time": "2023-12-26T13:49:08.955Z"
   },
   {
    "duration": 4,
    "start_time": "2023-12-26T13:49:25.051Z"
   },
   {
    "duration": 3,
    "start_time": "2023-12-26T13:49:28.339Z"
   },
   {
    "duration": 4,
    "start_time": "2023-12-26T13:49:41.355Z"
   },
   {
    "duration": 4,
    "start_time": "2023-12-26T13:50:24.988Z"
   },
   {
    "duration": 23291,
    "start_time": "2023-12-26T13:50:31.436Z"
   },
   {
    "duration": 79051,
    "start_time": "2023-12-26T13:51:02.869Z"
   },
   {
    "duration": 4,
    "start_time": "2023-12-26T13:52:50.582Z"
   },
   {
    "duration": 4,
    "start_time": "2023-12-26T13:52:55.887Z"
   },
   {
    "duration": 4,
    "start_time": "2023-12-26T13:53:11.198Z"
   },
   {
    "duration": 203886,
    "start_time": "2023-12-26T13:53:27.998Z"
   },
   {
    "duration": 0,
    "start_time": "2023-12-26T13:56:51.885Z"
   },
   {
    "duration": 29313,
    "start_time": "2023-12-26T13:56:59.913Z"
   },
   {
    "duration": 5,
    "start_time": "2023-12-26T13:57:30.896Z"
   },
   {
    "duration": 20,
    "start_time": "2023-12-26T13:57:35.305Z"
   },
   {
    "duration": 458706,
    "start_time": "2023-12-26T13:57:42.185Z"
   },
   {
    "duration": 484145,
    "start_time": "2023-12-26T14:05:23.723Z"
   },
   {
    "duration": 1658346,
    "start_time": "2023-12-26T14:14:25.786Z"
   },
   {
    "duration": 15,
    "start_time": "2023-12-26T14:42:31.804Z"
   },
   {
    "duration": 422160,
    "start_time": "2023-12-26T14:43:45.972Z"
   },
   {
    "duration": 1520,
    "start_time": "2023-12-26T14:59:51.316Z"
   },
   {
    "duration": 16,
    "start_time": "2023-12-26T14:59:54.793Z"
   },
   {
    "duration": 4,
    "start_time": "2023-12-26T14:59:56.048Z"
   },
   {
    "duration": 842,
    "start_time": "2023-12-26T14:59:56.982Z"
   },
   {
    "duration": 105,
    "start_time": "2023-12-26T14:59:59.886Z"
   },
   {
    "duration": 795,
    "start_time": "2023-12-26T15:00:00.596Z"
   },
   {
    "duration": 38,
    "start_time": "2023-12-26T15:00:04.152Z"
   },
   {
    "duration": 415,
    "start_time": "2023-12-26T15:00:04.470Z"
   },
   {
    "duration": 121,
    "start_time": "2023-12-26T15:00:04.990Z"
   },
   {
    "duration": 50,
    "start_time": "2023-12-26T15:00:05.370Z"
   },
   {
    "duration": 58,
    "start_time": "2023-12-26T15:00:06.041Z"
   },
   {
    "duration": 49,
    "start_time": "2023-12-26T15:00:07.957Z"
   },
   {
    "duration": 112,
    "start_time": "2023-12-26T15:00:08.299Z"
   },
   {
    "duration": 6809,
    "start_time": "2023-12-26T15:00:18.511Z"
   },
   {
    "duration": 469,
    "start_time": "2023-12-26T15:00:57.351Z"
   },
   {
    "duration": 4,
    "start_time": "2023-12-26T15:01:03.719Z"
   },
   {
    "duration": 86,
    "start_time": "2023-12-26T15:01:09.392Z"
   },
   {
    "duration": 119,
    "start_time": "2023-12-26T15:01:16.515Z"
   },
   {
    "duration": 85,
    "start_time": "2023-12-26T15:01:20.912Z"
   },
   {
    "duration": 300,
    "start_time": "2023-12-26T15:01:43.985Z"
   },
   {
    "duration": 16,
    "start_time": "2023-12-26T15:02:13.295Z"
   },
   {
    "duration": 1435,
    "start_time": "2023-12-26T15:13:33.351Z"
   },
   {
    "duration": 15,
    "start_time": "2023-12-26T15:13:36.791Z"
   },
   {
    "duration": 4,
    "start_time": "2023-12-26T15:13:37.252Z"
   },
   {
    "duration": 843,
    "start_time": "2023-12-26T15:13:37.691Z"
   },
   {
    "duration": 100,
    "start_time": "2023-12-26T15:13:38.637Z"
   },
   {
    "duration": 769,
    "start_time": "2023-12-26T15:13:39.204Z"
   },
   {
    "duration": 44,
    "start_time": "2023-12-26T15:13:41.038Z"
   },
   {
    "duration": 434,
    "start_time": "2023-12-26T15:13:41.980Z"
   },
   {
    "duration": 118,
    "start_time": "2023-12-26T15:13:42.456Z"
   },
   {
    "duration": 52,
    "start_time": "2023-12-26T15:13:42.692Z"
   },
   {
    "duration": 59,
    "start_time": "2023-12-26T15:13:43.068Z"
   },
   {
    "duration": 50,
    "start_time": "2023-12-26T15:13:43.481Z"
   },
   {
    "duration": 100,
    "start_time": "2023-12-26T15:13:43.877Z"
   },
   {
    "duration": 6541,
    "start_time": "2023-12-26T15:13:46.484Z"
   },
   {
    "duration": 133694,
    "start_time": "2023-12-26T15:14:09.092Z"
   },
   {
    "duration": 8,
    "start_time": "2023-12-26T15:16:58.820Z"
   },
   {
    "duration": 25,
    "start_time": "2023-12-26T15:17:01.759Z"
   },
   {
    "duration": 21,
    "start_time": "2023-12-26T15:17:09.824Z"
   },
   {
    "duration": 37,
    "start_time": "2023-12-26T15:17:17.733Z"
   },
   {
    "duration": 20,
    "start_time": "2023-12-26T15:17:45.234Z"
   },
   {
    "duration": 14,
    "start_time": "2023-12-26T15:17:47.908Z"
   },
   {
    "duration": 1518,
    "start_time": "2023-12-26T15:17:50.797Z"
   },
   {
    "duration": 133,
    "start_time": "2023-12-26T15:17:57.379Z"
   },
   {
    "duration": 86759,
    "start_time": "2023-12-26T15:18:11.357Z"
   },
   {
    "duration": 85115,
    "start_time": "2023-12-26T15:20:45.203Z"
   },
   {
    "duration": 94737,
    "start_time": "2023-12-26T15:24:43.986Z"
   },
   {
    "duration": 96317,
    "start_time": "2023-12-26T15:26:53.197Z"
   },
   {
    "duration": 109,
    "start_time": "2023-12-26T15:29:43.110Z"
   },
   {
    "duration": 109,
    "start_time": "2023-12-26T15:29:48.895Z"
   },
   {
    "duration": 77,
    "start_time": "2023-12-26T15:35:20.746Z"
   },
   {
    "duration": 101,
    "start_time": "2023-12-26T15:35:28.138Z"
   },
   {
    "duration": 95388,
    "start_time": "2023-12-26T15:35:44.428Z"
   },
   {
    "duration": 4,
    "start_time": "2023-12-26T15:39:46.418Z"
   },
   {
    "duration": 3,
    "start_time": "2023-12-26T15:39:55.056Z"
   },
   {
    "duration": 4,
    "start_time": "2023-12-26T15:40:02.344Z"
   },
   {
    "duration": 4,
    "start_time": "2023-12-26T15:40:12.114Z"
   },
   {
    "duration": 1575,
    "start_time": "2023-12-26T15:40:17.841Z"
   },
   {
    "duration": 814,
    "start_time": "2023-12-26T15:40:29.875Z"
   },
   {
    "duration": 64,
    "start_time": "2023-12-26T15:40:31.613Z"
   },
   {
    "duration": 739,
    "start_time": "2023-12-26T15:40:32.784Z"
   },
   {
    "duration": 23,
    "start_time": "2023-12-26T15:40:35.454Z"
   },
   {
    "duration": 410,
    "start_time": "2023-12-26T15:40:35.749Z"
   },
   {
    "duration": 118,
    "start_time": "2023-12-26T15:40:36.217Z"
   },
   {
    "duration": 51,
    "start_time": "2023-12-26T15:40:37.375Z"
   },
   {
    "duration": 52,
    "start_time": "2023-12-26T15:40:37.429Z"
   },
   {
    "duration": 48,
    "start_time": "2023-12-26T15:40:38.656Z"
   },
   {
    "duration": 13,
    "start_time": "2023-12-26T15:40:41.121Z"
   },
   {
    "duration": 19,
    "start_time": "2023-12-26T15:40:46.959Z"
   },
   {
    "duration": 17,
    "start_time": "2023-12-26T15:40:47.603Z"
   },
   {
    "duration": 1823,
    "start_time": "2023-12-26T15:40:50.889Z"
   },
   {
    "duration": 4,
    "start_time": "2023-12-26T15:41:02.059Z"
   },
   {
    "duration": 4,
    "start_time": "2023-12-26T15:41:03.999Z"
   },
   {
    "duration": 93120,
    "start_time": "2023-12-26T15:41:10.303Z"
   },
   {
    "duration": 111796,
    "start_time": "2023-12-26T15:43:40.632Z"
   },
   {
    "duration": 10,
    "start_time": "2023-12-26T15:46:50.413Z"
   },
   {
    "duration": 2,
    "start_time": "2023-12-26T15:46:55.480Z"
   },
   {
    "duration": 111,
    "start_time": "2023-12-26T15:46:56.118Z"
   },
   {
    "duration": 6429,
    "start_time": "2023-12-26T15:47:00.083Z"
   },
   {
    "duration": 500,
    "start_time": "2023-12-26T15:47:12.913Z"
   },
   {
    "duration": 4,
    "start_time": "2023-12-26T15:47:19.616Z"
   },
   {
    "duration": 1427,
    "start_time": "2023-12-26T17:14:25.095Z"
   },
   {
    "duration": 15,
    "start_time": "2023-12-26T17:14:28.757Z"
   },
   {
    "duration": 4,
    "start_time": "2023-12-26T17:14:29.774Z"
   },
   {
    "duration": 852,
    "start_time": "2023-12-26T17:14:30.052Z"
   },
   {
    "duration": 103,
    "start_time": "2023-12-26T17:14:32.801Z"
   },
   {
    "duration": 771,
    "start_time": "2023-12-26T17:14:33.341Z"
   },
   {
    "duration": 217,
    "start_time": "2023-12-26T17:14:36.761Z"
   },
   {
    "duration": 273,
    "start_time": "2023-12-26T17:14:38.694Z"
   },
   {
    "duration": 116,
    "start_time": "2023-12-26T17:14:39.812Z"
   },
   {
    "duration": 52,
    "start_time": "2023-12-26T17:14:40.669Z"
   },
   {
    "duration": 54,
    "start_time": "2023-12-26T17:14:41.718Z"
   },
   {
    "duration": 51,
    "start_time": "2023-12-26T17:14:42.382Z"
   },
   {
    "duration": 2,
    "start_time": "2023-12-26T17:14:52.328Z"
   },
   {
    "duration": 3,
    "start_time": "2023-12-26T17:14:53.023Z"
   },
   {
    "duration": 102,
    "start_time": "2023-12-26T17:14:53.383Z"
   },
   {
    "duration": 6507,
    "start_time": "2023-12-26T17:14:56.019Z"
   },
   {
    "duration": 494,
    "start_time": "2023-12-26T17:15:07.621Z"
   },
   {
    "duration": 172,
    "start_time": "2023-12-26T17:15:23.392Z"
   },
   {
    "duration": 199,
    "start_time": "2023-12-26T17:15:27.541Z"
   },
   {
    "duration": 87310,
    "start_time": "2023-12-26T17:15:29.652Z"
   },
   {
    "duration": 2,
    "start_time": "2023-12-26T17:17:23.867Z"
   },
   {
    "duration": 8,
    "start_time": "2023-12-26T17:17:30.928Z"
   },
   {
    "duration": 56867,
    "start_time": "2023-12-26T17:18:01.844Z"
   },
   {
    "duration": 14,
    "start_time": "2023-12-26T17:19:29.684Z"
   },
   {
    "duration": 10,
    "start_time": "2023-12-26T17:19:33.429Z"
   },
   {
    "duration": 8,
    "start_time": "2023-12-26T17:19:52.058Z"
   },
   {
    "duration": 10,
    "start_time": "2023-12-26T17:20:09.813Z"
   },
   {
    "duration": 1569,
    "start_time": "2023-12-26T17:31:45.464Z"
   },
   {
    "duration": 16,
    "start_time": "2023-12-26T17:31:47.880Z"
   },
   {
    "duration": 5,
    "start_time": "2023-12-26T17:31:48.190Z"
   },
   {
    "duration": 840,
    "start_time": "2023-12-26T17:31:48.395Z"
   },
   {
    "duration": 109,
    "start_time": "2023-12-26T17:31:49.237Z"
   },
   {
    "duration": 780,
    "start_time": "2023-12-26T17:31:49.348Z"
   },
   {
    "duration": 231,
    "start_time": "2023-12-26T17:31:50.129Z"
   },
   {
    "duration": 278,
    "start_time": "2023-12-26T17:31:50.361Z"
   },
   {
    "duration": 122,
    "start_time": "2023-12-26T17:31:50.643Z"
   },
   {
    "duration": 54,
    "start_time": "2023-12-26T17:31:50.940Z"
   },
   {
    "duration": 51,
    "start_time": "2023-12-26T17:31:51.518Z"
   },
   {
    "duration": 51,
    "start_time": "2023-12-26T17:31:51.876Z"
   },
   {
    "duration": 8,
    "start_time": "2023-12-26T17:31:54.315Z"
   },
   {
    "duration": 2,
    "start_time": "2023-12-26T17:31:54.853Z"
   },
   {
    "duration": 2,
    "start_time": "2023-12-26T17:31:55.328Z"
   },
   {
    "duration": 105,
    "start_time": "2023-12-26T17:31:56.166Z"
   },
   {
    "duration": 6118,
    "start_time": "2023-12-26T17:31:59.002Z"
   },
   {
    "duration": 438,
    "start_time": "2023-12-26T17:32:10.075Z"
   },
   {
    "duration": 211,
    "start_time": "2023-12-26T17:32:15.775Z"
   },
   {
    "duration": 18232,
    "start_time": "2023-12-26T17:32:22.380Z"
   },
   {
    "duration": 28490,
    "start_time": "2023-12-26T17:33:12.008Z"
   },
   {
    "duration": 184,
    "start_time": "2023-12-26T17:33:52.385Z"
   },
   {
    "duration": 36632,
    "start_time": "2023-12-26T17:34:11.802Z"
   },
   {
    "duration": 198985,
    "start_time": "2023-12-26T17:35:33.632Z"
   },
   {
    "duration": 205987,
    "start_time": "2023-12-26T17:39:47.648Z"
   },
   {
    "duration": 3099,
    "start_time": "2023-12-26T17:44:44.416Z"
   },
   {
    "duration": 83,
    "start_time": "2023-12-26T17:47:48.001Z"
   },
   {
    "duration": 89,
    "start_time": "2023-12-26T17:48:08.362Z"
   },
   {
    "duration": 85,
    "start_time": "2023-12-26T17:48:53.356Z"
   },
   {
    "duration": 5,
    "start_time": "2023-12-26T17:49:20.116Z"
   },
   {
    "duration": 5,
    "start_time": "2023-12-26T17:50:18.415Z"
   },
   {
    "duration": 5,
    "start_time": "2023-12-26T17:50:35.773Z"
   },
   {
    "duration": 7,
    "start_time": "2023-12-26T17:50:41.919Z"
   },
   {
    "duration": 3605,
    "start_time": "2023-12-26T17:51:06.916Z"
   },
   {
    "duration": 200079,
    "start_time": "2023-12-26T17:51:43.433Z"
   },
   {
    "duration": 4,
    "start_time": "2023-12-26T17:55:03.514Z"
   },
   {
    "duration": 93,
    "start_time": "2023-12-26T18:00:09.920Z"
   },
   {
    "duration": 959,
    "start_time": "2023-12-26T18:00:12.184Z"
   },
   {
    "duration": 5899,
    "start_time": "2023-12-26T18:00:57.415Z"
   },
   {
    "duration": 101,
    "start_time": "2023-12-26T18:01:11.199Z"
   },
   {
    "duration": 6986,
    "start_time": "2023-12-26T18:01:12.236Z"
   },
   {
    "duration": 201832,
    "start_time": "2023-12-26T18:01:37.804Z"
   },
   {
    "duration": 3,
    "start_time": "2023-12-26T18:04:59.638Z"
   },
   {
    "duration": 10560,
    "start_time": "2023-12-26T18:08:58.961Z"
   },
   {
    "duration": 11160,
    "start_time": "2023-12-26T18:09:16.261Z"
   },
   {
    "duration": 11077,
    "start_time": "2023-12-26T18:09:43.658Z"
   },
   {
    "duration": 10721,
    "start_time": "2023-12-26T18:09:57.113Z"
   },
   {
    "duration": 11736,
    "start_time": "2023-12-26T18:10:13.496Z"
   },
   {
    "duration": 10771,
    "start_time": "2023-12-26T18:10:33.253Z"
   },
   {
    "duration": 42,
    "start_time": "2023-12-26T18:11:40.906Z"
   },
   {
    "duration": 13794,
    "start_time": "2023-12-26T18:12:54.231Z"
   },
   {
    "duration": 200867,
    "start_time": "2023-12-26T18:13:18.566Z"
   },
   {
    "duration": 4,
    "start_time": "2023-12-26T18:17:21.241Z"
   },
   {
    "duration": 199831,
    "start_time": "2023-12-26T18:17:42.581Z"
   },
   {
    "duration": 4,
    "start_time": "2023-12-26T18:24:56.984Z"
   },
   {
    "duration": 5,
    "start_time": "2023-12-26T18:35:01.581Z"
   },
   {
    "duration": 22294,
    "start_time": "2023-12-26T18:35:03.956Z"
   },
   {
    "duration": 73379,
    "start_time": "2023-12-26T18:36:12.339Z"
   },
   {
    "duration": 34288,
    "start_time": "2023-12-26T18:37:27.447Z"
   },
   {
    "duration": 99806,
    "start_time": "2023-12-26T18:38:14.022Z"
   },
   {
    "duration": 60529,
    "start_time": "2023-12-26T18:40:15.795Z"
   },
   {
    "duration": 32308,
    "start_time": "2023-12-26T18:41:55.107Z"
   },
   {
    "duration": 16811,
    "start_time": "2023-12-26T18:43:40.620Z"
   },
   {
    "duration": 122,
    "start_time": "2023-12-26T18:44:30.138Z"
   },
   {
    "duration": 315,
    "start_time": "2023-12-26T18:45:41.958Z"
   },
   {
    "duration": 282,
    "start_time": "2023-12-26T18:46:04.342Z"
   },
   {
    "duration": 94,
    "start_time": "2023-12-26T18:46:23.254Z"
   },
   {
    "duration": 928,
    "start_time": "2023-12-26T18:46:25.212Z"
   },
   {
    "duration": 5,
    "start_time": "2023-12-26T18:46:33.214Z"
   },
   {
    "duration": 34177,
    "start_time": "2023-12-26T18:46:35.348Z"
   },
   {
    "duration": 32467,
    "start_time": "2023-12-26T18:47:11.757Z"
   },
   {
    "duration": 33960,
    "start_time": "2023-12-26T18:48:11.160Z"
   },
   {
    "duration": 17672,
    "start_time": "2023-12-26T18:49:03.851Z"
   },
   {
    "duration": 21674,
    "start_time": "2023-12-26T18:49:32.843Z"
   },
   {
    "duration": 37470,
    "start_time": "2023-12-26T18:50:20.945Z"
   },
   {
    "duration": 20806,
    "start_time": "2023-12-26T18:51:30.731Z"
   },
   {
    "duration": 0,
    "start_time": "2023-12-26T18:51:51.541Z"
   },
   {
    "duration": 5,
    "start_time": "2023-12-26T18:51:58.672Z"
   },
   {
    "duration": 56801,
    "start_time": "2023-12-26T18:52:01.319Z"
   },
   {
    "duration": 53564,
    "start_time": "2023-12-26T18:53:10.961Z"
   },
   {
    "duration": 6658,
    "start_time": "2023-12-26T18:54:08.164Z"
   },
   {
    "duration": 13390,
    "start_time": "2023-12-26T18:54:46.822Z"
   },
   {
    "duration": 20625,
    "start_time": "2023-12-26T18:55:04.798Z"
   },
   {
    "duration": 21494,
    "start_time": "2023-12-26T18:55:46.924Z"
   },
   {
    "duration": 22476,
    "start_time": "2023-12-26T18:56:14.340Z"
   },
   {
    "duration": 143020,
    "start_time": "2023-12-26T18:56:46.891Z"
   },
   {
    "duration": 35702,
    "start_time": "2023-12-26T18:59:46.413Z"
   },
   {
    "duration": 24553,
    "start_time": "2023-12-26T19:00:31.171Z"
   },
   {
    "duration": 44075,
    "start_time": "2023-12-26T19:01:47.855Z"
   },
   {
    "duration": 74285,
    "start_time": "2023-12-26T19:02:42.435Z"
   },
   {
    "duration": 103,
    "start_time": "2023-12-26T19:04:18.864Z"
   },
   {
    "duration": 231631,
    "start_time": "2023-12-26T19:04:36.792Z"
   },
   {
    "duration": 81319,
    "start_time": "2023-12-26T19:08:33.704Z"
   },
   {
    "duration": 49655,
    "start_time": "2023-12-26T19:10:27.961Z"
   },
   {
    "duration": 50132,
    "start_time": "2023-12-26T19:11:37.089Z"
   },
   {
    "duration": 585381,
    "start_time": "2023-12-26T19:13:02.747Z"
   },
   {
    "duration": 2400387,
    "start_time": "2023-12-26T19:24:34.064Z"
   },
   {
    "duration": 8894925,
    "start_time": "2023-12-26T20:06:41.292Z"
   },
   {
    "duration": 99517,
    "start_time": "2023-12-27T11:45:47.815Z"
   },
   {
    "duration": 3,
    "start_time": "2023-12-27T11:47:33.165Z"
   },
   {
    "duration": 7756,
    "start_time": "2023-12-27T11:47:37.372Z"
   },
   {
    "duration": 101,
    "start_time": "2023-12-27T11:51:22.963Z"
   },
   {
    "duration": 3,
    "start_time": "2023-12-27T11:53:18.387Z"
   },
   {
    "duration": 97,
    "start_time": "2023-12-27T11:53:22.798Z"
   },
   {
    "duration": 3,
    "start_time": "2023-12-27T11:53:25.404Z"
   },
   {
    "duration": 9,
    "start_time": "2023-12-27T11:53:26.625Z"
   },
   {
    "duration": 3,
    "start_time": "2023-12-27T11:53:46.340Z"
   },
   {
    "duration": 771,
    "start_time": "2023-12-27T11:53:48.182Z"
   },
   {
    "duration": 31,
    "start_time": "2023-12-27T11:54:12.662Z"
   },
   {
    "duration": 105,
    "start_time": "2023-12-27T11:54:24.206Z"
   },
   {
    "duration": 69,
    "start_time": "2023-12-27T11:54:26.927Z"
   },
   {
    "duration": 663,
    "start_time": "2023-12-27T11:54:32.136Z"
   },
   {
    "duration": 43,
    "start_time": "2023-12-27T11:54:34.936Z"
   },
   {
    "duration": 92,
    "start_time": "2023-12-27T11:54:42.336Z"
   },
   {
    "duration": 74,
    "start_time": "2023-12-27T11:54:44.270Z"
   },
   {
    "duration": 3,
    "start_time": "2023-12-27T11:55:33.850Z"
   },
   {
    "duration": 93,
    "start_time": "2023-12-27T11:55:35.346Z"
   },
   {
    "duration": 696,
    "start_time": "2023-12-27T11:55:36.995Z"
   },
   {
    "duration": 14,
    "start_time": "2023-12-27T11:57:15.531Z"
   },
   {
    "duration": 4,
    "start_time": "2023-12-27T11:57:53.527Z"
   },
   {
    "duration": 114,
    "start_time": "2023-12-27T11:57:54.958Z"
   },
   {
    "duration": 12,
    "start_time": "2023-12-27T11:57:57.854Z"
   },
   {
    "duration": 3,
    "start_time": "2023-12-27T11:59:32.678Z"
   },
   {
    "duration": 111,
    "start_time": "2023-12-27T11:59:35.692Z"
   },
   {
    "duration": 595,
    "start_time": "2023-12-27T11:59:38.465Z"
   },
   {
    "duration": 33,
    "start_time": "2023-12-27T11:59:49.751Z"
   },
   {
    "duration": 23,
    "start_time": "2023-12-27T12:00:08.221Z"
   },
   {
    "duration": 35,
    "start_time": "2023-12-27T12:05:38.111Z"
   },
   {
    "duration": 5,
    "start_time": "2023-12-27T12:05:47.659Z"
   },
   {
    "duration": 9,
    "start_time": "2023-12-27T12:05:52.926Z"
   },
   {
    "duration": 4,
    "start_time": "2023-12-27T12:06:09.114Z"
   },
   {
    "duration": 4,
    "start_time": "2023-12-27T12:06:19.425Z"
   },
   {
    "duration": 3,
    "start_time": "2023-12-27T12:07:47.767Z"
   },
   {
    "duration": 63,
    "start_time": "2023-12-27T12:08:50.563Z"
   },
   {
    "duration": 2072,
    "start_time": "2023-12-27T12:09:00.281Z"
   },
   {
    "duration": 15,
    "start_time": "2023-12-27T12:09:02.355Z"
   },
   {
    "duration": 4,
    "start_time": "2023-12-27T12:09:02.669Z"
   },
   {
    "duration": 1091,
    "start_time": "2023-12-27T12:09:03.295Z"
   },
   {
    "duration": 170,
    "start_time": "2023-12-27T12:09:05.986Z"
   },
   {
    "duration": 768,
    "start_time": "2023-12-27T12:09:07.507Z"
   },
   {
    "duration": 191,
    "start_time": "2023-12-27T12:09:10.129Z"
   },
   {
    "duration": 275,
    "start_time": "2023-12-27T12:09:11.095Z"
   },
   {
    "duration": 135,
    "start_time": "2023-12-27T12:09:11.371Z"
   },
   {
    "duration": 57,
    "start_time": "2023-12-27T12:09:12.250Z"
   },
   {
    "duration": 55,
    "start_time": "2023-12-27T12:09:13.587Z"
   },
   {
    "duration": 51,
    "start_time": "2023-12-27T12:09:16.560Z"
   },
   {
    "duration": 6,
    "start_time": "2023-12-27T12:09:27.539Z"
   },
   {
    "duration": 84,
    "start_time": "2023-12-27T12:09:30.276Z"
   },
   {
    "duration": 104,
    "start_time": "2023-12-27T12:09:36.699Z"
   },
   {
    "duration": 1008,
    "start_time": "2023-12-27T12:09:39.734Z"
   },
   {
    "duration": 165,
    "start_time": "2023-12-27T12:09:49.307Z"
   },
   {
    "duration": 15,
    "start_time": "2023-12-27T12:10:07.821Z"
   },
   {
    "duration": 172,
    "start_time": "2023-12-27T12:10:17.378Z"
   },
   {
    "duration": 179,
    "start_time": "2023-12-27T12:10:23.324Z"
   },
   {
    "duration": 990,
    "start_time": "2023-12-27T12:10:28.166Z"
   },
   {
    "duration": 721,
    "start_time": "2023-12-27T12:12:55.281Z"
   },
   {
    "duration": 656,
    "start_time": "2023-12-27T12:13:20.719Z"
   },
   {
    "duration": 572,
    "start_time": "2023-12-27T12:13:44.446Z"
   },
   {
    "duration": 646,
    "start_time": "2023-12-27T12:14:07.394Z"
   },
   {
    "duration": 676,
    "start_time": "2023-12-27T12:14:45.488Z"
   },
   {
    "duration": 705,
    "start_time": "2023-12-27T12:14:59.122Z"
   },
   {
    "duration": 723,
    "start_time": "2023-12-27T12:15:25.091Z"
   },
   {
    "duration": 2993,
    "start_time": "2023-12-27T12:16:33.357Z"
   },
   {
    "duration": 15,
    "start_time": "2023-12-27T12:16:54.583Z"
   },
   {
    "duration": 20,
    "start_time": "2023-12-27T12:17:06.838Z"
   },
   {
    "duration": 131,
    "start_time": "2023-12-27T12:17:19.212Z"
   },
   {
    "duration": 45,
    "start_time": "2023-12-27T12:17:33.019Z"
   },
   {
    "duration": 1130,
    "start_time": "2023-12-27T12:17:37.451Z"
   },
   {
    "duration": 67,
    "start_time": "2023-12-27T12:17:39.671Z"
   },
   {
    "duration": 557,
    "start_time": "2023-12-27T12:17:58.435Z"
   },
   {
    "duration": 16,
    "start_time": "2023-12-27T12:18:01.983Z"
   },
   {
    "duration": 5,
    "start_time": "2023-12-27T12:18:03.721Z"
   },
   {
    "duration": 1061,
    "start_time": "2023-12-27T12:18:05.954Z"
   },
   {
    "duration": 103,
    "start_time": "2023-12-27T12:18:07.883Z"
   },
   {
    "duration": 849,
    "start_time": "2023-12-27T12:18:09.207Z"
   },
   {
    "duration": 198,
    "start_time": "2023-12-27T12:18:12.366Z"
   },
   {
    "duration": 278,
    "start_time": "2023-12-27T12:18:12.830Z"
   },
   {
    "duration": 136,
    "start_time": "2023-12-27T12:18:13.287Z"
   },
   {
    "duration": 62,
    "start_time": "2023-12-27T12:18:13.558Z"
   },
   {
    "duration": 56,
    "start_time": "2023-12-27T12:18:14.070Z"
   },
   {
    "duration": 54,
    "start_time": "2023-12-27T12:18:14.576Z"
   },
   {
    "duration": 2,
    "start_time": "2023-12-27T12:18:17.167Z"
   },
   {
    "duration": 31,
    "start_time": "2023-12-27T12:18:23.436Z"
   },
   {
    "duration": 103,
    "start_time": "2023-12-27T12:18:32.827Z"
   },
   {
    "duration": 925,
    "start_time": "2023-12-27T12:18:34.286Z"
   },
   {
    "duration": 115,
    "start_time": "2023-12-27T12:18:52.321Z"
   },
   {
    "duration": 3167,
    "start_time": "2023-12-27T12:18:58.857Z"
   },
   {
    "duration": 120,
    "start_time": "2023-12-27T12:19:10.990Z"
   },
   {
    "duration": 185,
    "start_time": "2023-12-27T12:19:13.109Z"
   },
   {
    "duration": 116,
    "start_time": "2023-12-27T12:19:26.355Z"
   },
   {
    "duration": 3218,
    "start_time": "2023-12-27T12:19:27.276Z"
   },
   {
    "duration": 4,
    "start_time": "2023-12-27T12:31:21.156Z"
   },
   {
    "duration": 4,
    "start_time": "2023-12-27T12:32:08.026Z"
   },
   {
    "duration": 104,
    "start_time": "2023-12-27T12:32:17.949Z"
   },
   {
    "duration": 4,
    "start_time": "2023-12-27T12:32:37.279Z"
   },
   {
    "duration": 102,
    "start_time": "2023-12-27T12:32:38.329Z"
   },
   {
    "duration": 10,
    "start_time": "2023-12-27T12:32:39.418Z"
   },
   {
    "duration": 783,
    "start_time": "2023-12-27T12:32:51.903Z"
   },
   {
    "duration": 21,
    "start_time": "2023-12-27T12:33:05.780Z"
   },
   {
    "duration": 97,
    "start_time": "2023-12-27T12:33:46.571Z"
   },
   {
    "duration": 668,
    "start_time": "2023-12-27T12:33:48.370Z"
   },
   {
    "duration": 109,
    "start_time": "2023-12-27T12:34:13.381Z"
   },
   {
    "duration": 803,
    "start_time": "2023-12-27T12:34:14.336Z"
   },
   {
    "duration": 124,
    "start_time": "2023-12-27T12:34:17.307Z"
   },
   {
    "duration": 710,
    "start_time": "2023-12-27T12:34:18.469Z"
   },
   {
    "duration": 94,
    "start_time": "2023-12-27T12:35:49.846Z"
   },
   {
    "duration": 862,
    "start_time": "2023-12-27T12:35:51.790Z"
   },
   {
    "duration": 121,
    "start_time": "2023-12-27T12:36:24.532Z"
   },
   {
    "duration": 809,
    "start_time": "2023-12-27T12:36:25.908Z"
   },
   {
    "duration": 45,
    "start_time": "2023-12-27T12:36:42.200Z"
   },
   {
    "duration": 4,
    "start_time": "2023-12-27T12:37:47.354Z"
   },
   {
    "duration": 97,
    "start_time": "2023-12-27T12:37:49.137Z"
   },
   {
    "duration": 723,
    "start_time": "2023-12-27T12:37:50.995Z"
   },
   {
    "duration": 36,
    "start_time": "2023-12-27T12:37:54.871Z"
   },
   {
    "duration": 4,
    "start_time": "2023-12-27T12:38:12.922Z"
   },
   {
    "duration": 4,
    "start_time": "2023-12-27T12:38:18.662Z"
   },
   {
    "duration": 104,
    "start_time": "2023-12-27T12:38:19.802Z"
   },
   {
    "duration": 848,
    "start_time": "2023-12-27T12:38:27.704Z"
   },
   {
    "duration": 100,
    "start_time": "2023-12-27T12:39:20.416Z"
   },
   {
    "duration": 802,
    "start_time": "2023-12-27T12:39:21.901Z"
   },
   {
    "duration": 121,
    "start_time": "2023-12-27T12:40:59.579Z"
   },
   {
    "duration": 744,
    "start_time": "2023-12-27T12:41:02.400Z"
   },
   {
    "duration": 97,
    "start_time": "2023-12-27T12:41:10.843Z"
   },
   {
    "duration": 735,
    "start_time": "2023-12-27T12:41:14.132Z"
   },
   {
    "duration": 101,
    "start_time": "2023-12-27T12:41:24.542Z"
   },
   {
    "duration": 110,
    "start_time": "2023-12-27T12:42:31.574Z"
   },
   {
    "duration": 802,
    "start_time": "2023-12-27T12:42:32.913Z"
   },
   {
    "duration": 99,
    "start_time": "2023-12-27T12:42:42.446Z"
   },
   {
    "duration": 762,
    "start_time": "2023-12-27T12:42:43.957Z"
   },
   {
    "duration": 4,
    "start_time": "2023-12-27T12:46:16.707Z"
   },
   {
    "duration": 109,
    "start_time": "2023-12-27T12:46:17.578Z"
   },
   {
    "duration": 724,
    "start_time": "2023-12-27T12:46:19.781Z"
   },
   {
    "duration": 118,
    "start_time": "2023-12-27T12:46:25.729Z"
   },
   {
    "duration": 851,
    "start_time": "2023-12-27T12:46:27.232Z"
   },
   {
    "duration": 109,
    "start_time": "2023-12-27T12:46:29.661Z"
   },
   {
    "duration": 702,
    "start_time": "2023-12-27T12:46:31.018Z"
   },
   {
    "duration": 112,
    "start_time": "2023-12-27T12:48:52.636Z"
   },
   {
    "duration": 11,
    "start_time": "2023-12-27T12:48:55.563Z"
   },
   {
    "duration": 23,
    "start_time": "2023-12-27T12:49:24.480Z"
   },
   {
    "duration": 12,
    "start_time": "2023-12-27T12:50:23.052Z"
   },
   {
    "duration": 981,
    "start_time": "2023-12-27T12:51:07.027Z"
   },
   {
    "duration": 1071,
    "start_time": "2023-12-27T12:51:13.588Z"
   },
   {
    "duration": 921,
    "start_time": "2023-12-27T12:51:24.177Z"
   },
   {
    "duration": 125,
    "start_time": "2023-12-27T12:51:29.564Z"
   },
   {
    "duration": 985,
    "start_time": "2023-12-27T12:51:31.942Z"
   },
   {
    "duration": 1336,
    "start_time": "2023-12-27T12:51:49.212Z"
   },
   {
    "duration": 110,
    "start_time": "2023-12-27T12:52:03.732Z"
   },
   {
    "duration": 1777,
    "start_time": "2023-12-27T12:52:16.414Z"
   },
   {
    "duration": 18,
    "start_time": "2023-12-27T12:52:21.128Z"
   },
   {
    "duration": 5,
    "start_time": "2023-12-27T12:52:21.371Z"
   },
   {
    "duration": 1116,
    "start_time": "2023-12-27T12:52:22.298Z"
   },
   {
    "duration": 178,
    "start_time": "2023-12-27T12:52:24.269Z"
   },
   {
    "duration": 820,
    "start_time": "2023-12-27T12:52:25.011Z"
   },
   {
    "duration": 226,
    "start_time": "2023-12-27T12:52:26.209Z"
   },
   {
    "duration": 327,
    "start_time": "2023-12-27T12:52:26.998Z"
   },
   {
    "duration": 159,
    "start_time": "2023-12-27T12:52:27.893Z"
   },
   {
    "duration": 62,
    "start_time": "2023-12-27T12:52:28.053Z"
   },
   {
    "duration": 64,
    "start_time": "2023-12-27T12:52:28.481Z"
   },
   {
    "duration": 51,
    "start_time": "2023-12-27T12:52:29.674Z"
   },
   {
    "duration": 8,
    "start_time": "2023-12-27T12:52:31.122Z"
   },
   {
    "duration": 5,
    "start_time": "2023-12-27T12:52:33.465Z"
   },
   {
    "duration": 126,
    "start_time": "2023-12-27T12:52:33.916Z"
   },
   {
    "duration": 1148,
    "start_time": "2023-12-27T12:52:58.672Z"
   },
   {
    "duration": 956,
    "start_time": "2023-12-27T12:53:13.872Z"
   },
   {
    "duration": 184,
    "start_time": "2023-12-27T12:53:36.130Z"
   },
   {
    "duration": 926,
    "start_time": "2023-12-27T12:53:42.075Z"
   },
   {
    "duration": 1626,
    "start_time": "2023-12-27T13:02:12.444Z"
   },
   {
    "duration": 15,
    "start_time": "2023-12-27T13:02:14.072Z"
   },
   {
    "duration": 10,
    "start_time": "2023-12-27T13:02:14.088Z"
   },
   {
    "duration": 961,
    "start_time": "2023-12-27T13:02:14.100Z"
   },
   {
    "duration": 113,
    "start_time": "2023-12-27T13:02:15.063Z"
   },
   {
    "duration": 776,
    "start_time": "2023-12-27T13:02:15.177Z"
   },
   {
    "duration": 208,
    "start_time": "2023-12-27T13:02:15.954Z"
   },
   {
    "duration": 294,
    "start_time": "2023-12-27T13:02:16.164Z"
   },
   {
    "duration": 140,
    "start_time": "2023-12-27T13:02:16.460Z"
   },
   {
    "duration": 58,
    "start_time": "2023-12-27T13:02:16.602Z"
   },
   {
    "duration": 64,
    "start_time": "2023-12-27T13:02:16.661Z"
   },
   {
    "duration": 50,
    "start_time": "2023-12-27T13:02:16.729Z"
   },
   {
    "duration": 6,
    "start_time": "2023-12-27T13:02:16.781Z"
   },
   {
    "duration": 24,
    "start_time": "2023-12-27T13:02:16.789Z"
   },
   {
    "duration": 3,
    "start_time": "2023-12-27T13:02:19.051Z"
   },
   {
    "duration": 126,
    "start_time": "2023-12-27T13:02:19.789Z"
   },
   {
    "duration": 123,
    "start_time": "2023-12-27T13:03:32.396Z"
   },
   {
    "duration": 4072,
    "start_time": "2023-12-27T13:03:34.584Z"
   },
   {
    "duration": 133,
    "start_time": "2023-12-27T13:03:58.230Z"
   },
   {
    "duration": 4349,
    "start_time": "2023-12-27T13:04:00.514Z"
   },
   {
    "duration": 117,
    "start_time": "2023-12-27T13:04:41.176Z"
   },
   {
    "duration": 3898,
    "start_time": "2023-12-27T13:04:42.760Z"
   },
   {
    "duration": 137,
    "start_time": "2023-12-27T13:05:22.910Z"
   },
   {
    "duration": 4445,
    "start_time": "2023-12-27T13:05:24.444Z"
   },
   {
    "duration": 5,
    "start_time": "2023-12-27T13:06:28.442Z"
   },
   {
    "duration": 92,
    "start_time": "2023-12-27T13:06:35.825Z"
   },
   {
    "duration": 751,
    "start_time": "2023-12-27T13:06:36.838Z"
   },
   {
    "duration": 22,
    "start_time": "2023-12-27T13:06:40.531Z"
   },
   {
    "duration": 114,
    "start_time": "2023-12-27T13:06:44.107Z"
   },
   {
    "duration": 589,
    "start_time": "2023-12-27T13:06:45.912Z"
   },
   {
    "duration": 86,
    "start_time": "2023-12-27T13:07:21.836Z"
   },
   {
    "duration": 7,
    "start_time": "2023-12-27T13:07:32.043Z"
   },
   {
    "duration": 108,
    "start_time": "2023-12-27T13:07:34.355Z"
   },
   {
    "duration": 733,
    "start_time": "2023-12-27T13:07:35.932Z"
   },
   {
    "duration": 108,
    "start_time": "2023-12-27T13:07:37.846Z"
   },
   {
    "duration": 600,
    "start_time": "2023-12-27T13:07:39.068Z"
   },
   {
    "duration": 102,
    "start_time": "2023-12-27T13:07:41.314Z"
   },
   {
    "duration": 4179,
    "start_time": "2023-12-27T13:07:57.192Z"
   },
   {
    "duration": 52,
    "start_time": "2023-12-27T13:08:07.686Z"
   },
   {
    "duration": 112,
    "start_time": "2023-12-27T13:09:05.645Z"
   },
   {
    "duration": 758,
    "start_time": "2023-12-27T13:09:07.143Z"
   },
   {
    "duration": 34,
    "start_time": "2023-12-27T13:09:15.170Z"
   },
   {
    "duration": 111,
    "start_time": "2023-12-27T13:09:57.186Z"
   },
   {
    "duration": 827,
    "start_time": "2023-12-27T13:10:02.484Z"
   },
   {
    "duration": 42,
    "start_time": "2023-12-27T13:10:08.547Z"
   },
   {
    "duration": 5,
    "start_time": "2023-12-27T13:11:20.187Z"
   },
   {
    "duration": 110,
    "start_time": "2023-12-27T13:11:23.283Z"
   },
   {
    "duration": 791,
    "start_time": "2023-12-27T13:11:24.541Z"
   },
   {
    "duration": 44,
    "start_time": "2023-12-27T13:11:26.100Z"
   },
   {
    "duration": 93,
    "start_time": "2023-12-27T13:11:34.127Z"
   },
   {
    "duration": 126,
    "start_time": "2023-12-27T13:13:04.108Z"
   },
   {
    "duration": 18,
    "start_time": "2023-12-27T13:13:06.898Z"
   },
   {
    "duration": 116,
    "start_time": "2023-12-27T13:13:17.496Z"
   },
   {
    "duration": 681,
    "start_time": "2023-12-27T13:13:21.832Z"
   },
   {
    "duration": 39,
    "start_time": "2023-12-27T13:13:28.515Z"
   },
   {
    "duration": 103,
    "start_time": "2023-12-27T13:14:15.112Z"
   },
   {
    "duration": 762,
    "start_time": "2023-12-27T13:14:16.896Z"
   },
   {
    "duration": 36,
    "start_time": "2023-12-27T13:14:23.748Z"
   },
   {
    "duration": 2,
    "start_time": "2023-12-27T13:15:13.956Z"
   },
   {
    "duration": 114,
    "start_time": "2023-12-27T13:15:16.631Z"
   },
   {
    "duration": 738,
    "start_time": "2023-12-27T13:15:18.955Z"
   },
   {
    "duration": 111,
    "start_time": "2023-12-27T13:16:20.407Z"
   },
   {
    "duration": 101,
    "start_time": "2023-12-27T13:17:07.362Z"
   },
   {
    "duration": 3919,
    "start_time": "2023-12-27T13:17:08.985Z"
   },
   {
    "duration": 54,
    "start_time": "2023-12-27T13:17:27.609Z"
   },
   {
    "duration": 130,
    "start_time": "2023-12-27T13:17:53.739Z"
   },
   {
    "duration": 3977,
    "start_time": "2023-12-27T13:17:55.259Z"
   },
   {
    "duration": 121,
    "start_time": "2023-12-27T13:18:26.535Z"
   },
   {
    "duration": 306,
    "start_time": "2023-12-27T13:18:27.972Z"
   },
   {
    "duration": 112,
    "start_time": "2023-12-27T13:18:54.717Z"
   },
   {
    "duration": 4049,
    "start_time": "2023-12-27T13:18:56.181Z"
   },
   {
    "duration": 28,
    "start_time": "2023-12-27T13:19:25.418Z"
   },
   {
    "duration": 27,
    "start_time": "2023-12-27T13:20:11.212Z"
   },
   {
    "duration": 107,
    "start_time": "2023-12-27T13:20:27.851Z"
   },
   {
    "duration": 1741,
    "start_time": "2023-12-27T13:20:44.668Z"
   },
   {
    "duration": 27,
    "start_time": "2023-12-27T13:20:46.411Z"
   },
   {
    "duration": 7,
    "start_time": "2023-12-27T13:20:46.440Z"
   },
   {
    "duration": 1187,
    "start_time": "2023-12-27T13:20:46.449Z"
   },
   {
    "duration": 109,
    "start_time": "2023-12-27T13:20:47.639Z"
   },
   {
    "duration": 759,
    "start_time": "2023-12-27T13:20:47.749Z"
   },
   {
    "duration": 205,
    "start_time": "2023-12-27T13:20:48.509Z"
   },
   {
    "duration": 288,
    "start_time": "2023-12-27T13:20:48.716Z"
   },
   {
    "duration": 138,
    "start_time": "2023-12-27T13:20:49.005Z"
   },
   {
    "duration": 55,
    "start_time": "2023-12-27T13:20:49.144Z"
   },
   {
    "duration": 62,
    "start_time": "2023-12-27T13:20:49.211Z"
   },
   {
    "duration": 79,
    "start_time": "2023-12-27T13:20:49.274Z"
   },
   {
    "duration": 7,
    "start_time": "2023-12-27T13:20:49.354Z"
   },
   {
    "duration": 21,
    "start_time": "2023-12-27T13:20:49.364Z"
   },
   {
    "duration": 108,
    "start_time": "2023-12-27T13:20:51.676Z"
   },
   {
    "duration": 136,
    "start_time": "2023-12-27T13:20:55.092Z"
   },
   {
    "duration": 5,
    "start_time": "2023-12-27T13:21:10.312Z"
   },
   {
    "duration": 128,
    "start_time": "2023-12-27T13:21:11.543Z"
   },
   {
    "duration": 30,
    "start_time": "2023-12-27T13:21:14.329Z"
   },
   {
    "duration": 19,
    "start_time": "2023-12-27T13:21:46.535Z"
   },
   {
    "duration": 108,
    "start_time": "2023-12-27T13:21:47.423Z"
   },
   {
    "duration": 29,
    "start_time": "2023-12-27T13:21:48.915Z"
   },
   {
    "duration": 124,
    "start_time": "2023-12-27T13:21:59.082Z"
   },
   {
    "duration": 6,
    "start_time": "2023-12-27T13:22:30.637Z"
   },
   {
    "duration": 148,
    "start_time": "2023-12-27T13:22:31.403Z"
   },
   {
    "duration": 33,
    "start_time": "2023-12-27T13:22:34.197Z"
   },
   {
    "duration": 28,
    "start_time": "2023-12-27T13:24:48.235Z"
   },
   {
    "duration": 27,
    "start_time": "2023-12-27T13:25:16.576Z"
   },
   {
    "duration": 107,
    "start_time": "2023-12-27T13:27:43.867Z"
   },
   {
    "duration": 106,
    "start_time": "2023-12-27T13:27:46.264Z"
   },
   {
    "duration": 110,
    "start_time": "2023-12-27T13:27:48.054Z"
   },
   {
    "duration": 20,
    "start_time": "2023-12-27T13:27:49.128Z"
   },
   {
    "duration": 49,
    "start_time": "2023-12-27T13:28:23.627Z"
   },
   {
    "duration": 7,
    "start_time": "2023-12-27T13:29:05.598Z"
   },
   {
    "duration": 107,
    "start_time": "2023-12-27T13:29:11.854Z"
   },
   {
    "duration": 118,
    "start_time": "2023-12-27T13:29:13.329Z"
   },
   {
    "duration": 25,
    "start_time": "2023-12-27T13:29:14.520Z"
   },
   {
    "duration": 113,
    "start_time": "2023-12-27T13:29:27.270Z"
   },
   {
    "duration": 117,
    "start_time": "2023-12-27T13:29:30.283Z"
   },
   {
    "duration": 18,
    "start_time": "2023-12-27T13:29:32.164Z"
   },
   {
    "duration": 119,
    "start_time": "2023-12-27T13:29:55.712Z"
   },
   {
    "duration": 114,
    "start_time": "2023-12-27T13:29:57.355Z"
   },
   {
    "duration": 30,
    "start_time": "2023-12-27T13:29:58.307Z"
   },
   {
    "duration": 128,
    "start_time": "2023-12-27T13:30:51.535Z"
   },
   {
    "duration": 3740,
    "start_time": "2023-12-27T13:30:55.411Z"
   },
   {
    "duration": 67,
    "start_time": "2023-12-27T13:31:03.308Z"
   },
   {
    "duration": 6,
    "start_time": "2023-12-27T13:32:31.021Z"
   },
   {
    "duration": 109,
    "start_time": "2023-12-27T13:32:41.049Z"
   },
   {
    "duration": 2930,
    "start_time": "2023-12-27T13:32:43.964Z"
   },
   {
    "duration": 63,
    "start_time": "2023-12-27T13:32:51.169Z"
   },
   {
    "duration": 108,
    "start_time": "2023-12-27T13:35:14.472Z"
   },
   {
    "duration": 106,
    "start_time": "2023-12-27T13:35:16.948Z"
   },
   {
    "duration": 2942,
    "start_time": "2023-12-27T13:35:17.763Z"
   },
   {
    "duration": 99,
    "start_time": "2023-12-27T13:36:32.566Z"
   },
   {
    "duration": 101,
    "start_time": "2023-12-27T13:36:34.093Z"
   },
   {
    "duration": 2944,
    "start_time": "2023-12-27T13:36:34.859Z"
   },
   {
    "duration": 63,
    "start_time": "2023-12-27T13:36:53.275Z"
   },
   {
    "duration": 109,
    "start_time": "2023-12-27T13:37:37.479Z"
   },
   {
    "duration": 1722,
    "start_time": "2023-12-27T13:37:55.721Z"
   },
   {
    "duration": 15,
    "start_time": "2023-12-27T13:37:57.445Z"
   },
   {
    "duration": 21,
    "start_time": "2023-12-27T13:37:57.461Z"
   },
   {
    "duration": 1243,
    "start_time": "2023-12-27T13:37:57.484Z"
   },
   {
    "duration": 105,
    "start_time": "2023-12-27T13:37:58.730Z"
   },
   {
    "duration": 859,
    "start_time": "2023-12-27T13:37:58.837Z"
   },
   {
    "duration": 238,
    "start_time": "2023-12-27T13:37:59.698Z"
   },
   {
    "duration": 298,
    "start_time": "2023-12-27T13:37:59.937Z"
   },
   {
    "duration": 145,
    "start_time": "2023-12-27T13:38:00.237Z"
   },
   {
    "duration": 62,
    "start_time": "2023-12-27T13:38:00.383Z"
   },
   {
    "duration": 65,
    "start_time": "2023-12-27T13:38:00.447Z"
   },
   {
    "duration": 62,
    "start_time": "2023-12-27T13:38:00.514Z"
   },
   {
    "duration": 10,
    "start_time": "2023-12-27T13:38:00.577Z"
   },
   {
    "duration": 101,
    "start_time": "2023-12-27T13:38:00.589Z"
   },
   {
    "duration": 4,
    "start_time": "2023-12-27T13:38:36.082Z"
   },
   {
    "duration": 129,
    "start_time": "2023-12-27T13:38:38.148Z"
   },
   {
    "duration": 140,
    "start_time": "2023-12-27T13:38:40.596Z"
   },
   {
    "duration": 135,
    "start_time": "2023-12-27T13:38:41.672Z"
   },
   {
    "duration": 6,
    "start_time": "2023-12-27T13:39:33.532Z"
   },
   {
    "duration": 142,
    "start_time": "2023-12-27T13:39:35.593Z"
   },
   {
    "duration": 103,
    "start_time": "2023-12-27T13:39:37.218Z"
   },
   {
    "duration": 20,
    "start_time": "2023-12-27T13:39:37.749Z"
   },
   {
    "duration": 4,
    "start_time": "2023-12-27T13:39:52.647Z"
   },
   {
    "duration": 5,
    "start_time": "2023-12-27T13:40:26.192Z"
   },
   {
    "duration": 127,
    "start_time": "2023-12-27T13:40:28.642Z"
   },
   {
    "duration": 32,
    "start_time": "2023-12-27T13:40:30.195Z"
   },
   {
    "duration": 5,
    "start_time": "2023-12-27T13:41:10.043Z"
   },
   {
    "duration": 142,
    "start_time": "2023-12-27T13:41:12.029Z"
   },
   {
    "duration": 835,
    "start_time": "2023-12-27T13:41:13.956Z"
   },
   {
    "duration": 126,
    "start_time": "2023-12-27T13:41:15.923Z"
   },
   {
    "duration": 668,
    "start_time": "2023-12-27T13:41:16.936Z"
   },
   {
    "duration": 131,
    "start_time": "2023-12-27T13:41:18.916Z"
   },
   {
    "duration": 748,
    "start_time": "2023-12-27T13:41:20.145Z"
   },
   {
    "duration": 124,
    "start_time": "2023-12-27T13:41:22.412Z"
   },
   {
    "duration": 3240,
    "start_time": "2023-12-27T13:41:24.110Z"
   },
   {
    "duration": 62,
    "start_time": "2023-12-27T13:41:30.550Z"
   },
   {
    "duration": 6,
    "start_time": "2023-12-27T13:42:12.054Z"
   },
   {
    "duration": 109,
    "start_time": "2023-12-27T13:42:15.719Z"
   },
   {
    "duration": 4149,
    "start_time": "2023-12-27T13:42:18.433Z"
   },
   {
    "duration": 47,
    "start_time": "2023-12-27T13:42:27.863Z"
   },
   {
    "duration": 96,
    "start_time": "2023-12-27T13:44:37.115Z"
   },
   {
    "duration": 95,
    "start_time": "2023-12-27T13:44:39.057Z"
   },
   {
    "duration": 105,
    "start_time": "2023-12-27T13:44:45.570Z"
   },
   {
    "duration": 1347,
    "start_time": "2023-12-27T13:44:47.111Z"
   },
   {
    "duration": 55,
    "start_time": "2023-12-27T13:44:50.162Z"
   },
   {
    "duration": 95,
    "start_time": "2023-12-27T13:46:22.839Z"
   },
   {
    "duration": 1414,
    "start_time": "2023-12-27T13:46:25.553Z"
   },
   {
    "duration": 51,
    "start_time": "2023-12-27T13:46:30.862Z"
   },
   {
    "duration": 6,
    "start_time": "2023-12-27T13:50:39.789Z"
   },
   {
    "duration": 108,
    "start_time": "2023-12-27T13:50:42.157Z"
   },
   {
    "duration": 26,
    "start_time": "2023-12-27T13:50:49.467Z"
   },
   {
    "duration": 7,
    "start_time": "2023-12-27T13:51:49.407Z"
   },
   {
    "duration": 93,
    "start_time": "2023-12-27T13:51:51.402Z"
   },
   {
    "duration": 85,
    "start_time": "2023-12-27T13:51:53.922Z"
   },
   {
    "duration": 116,
    "start_time": "2023-12-27T13:52:49.734Z"
   },
   {
    "duration": 6,
    "start_time": "2023-12-27T13:52:55.732Z"
   },
   {
    "duration": 123,
    "start_time": "2023-12-27T13:53:00.958Z"
   },
   {
    "duration": 31,
    "start_time": "2023-12-27T13:53:03.457Z"
   },
   {
    "duration": 108,
    "start_time": "2023-12-27T13:53:50.341Z"
   },
   {
    "duration": 15,
    "start_time": "2023-12-27T13:53:52.943Z"
   },
   {
    "duration": 6,
    "start_time": "2023-12-27T13:58:49.080Z"
   },
   {
    "duration": 110,
    "start_time": "2023-12-27T13:58:51.580Z"
   },
   {
    "duration": 27,
    "start_time": "2023-12-27T13:58:55.527Z"
   },
   {
    "duration": 7,
    "start_time": "2023-12-27T13:59:16.297Z"
   },
   {
    "duration": 90,
    "start_time": "2023-12-27T13:59:17.842Z"
   },
   {
    "duration": 8,
    "start_time": "2023-12-27T13:59:21.227Z"
   },
   {
    "duration": 10,
    "start_time": "2023-12-27T13:59:46.638Z"
   },
   {
    "duration": 6,
    "start_time": "2023-12-27T14:00:27.354Z"
   },
   {
    "duration": 120,
    "start_time": "2023-12-27T14:00:30.863Z"
   },
   {
    "duration": 43,
    "start_time": "2023-12-27T14:00:34.428Z"
   },
   {
    "duration": 104,
    "start_time": "2023-12-27T14:00:47.482Z"
   },
   {
    "duration": 41,
    "start_time": "2023-12-27T14:00:54.601Z"
   },
   {
    "duration": 23,
    "start_time": "2023-12-27T14:01:36.518Z"
   },
   {
    "duration": 114,
    "start_time": "2023-12-27T14:01:38.918Z"
   },
   {
    "duration": 14,
    "start_time": "2023-12-27T14:01:41.279Z"
   },
   {
    "duration": 6,
    "start_time": "2023-12-27T14:01:55.877Z"
   },
   {
    "duration": 105,
    "start_time": "2023-12-27T14:02:14.682Z"
   },
   {
    "duration": 1546,
    "start_time": "2023-12-27T14:02:17.647Z"
   },
   {
    "duration": 60,
    "start_time": "2023-12-27T14:02:26.478Z"
   },
   {
    "duration": 103,
    "start_time": "2023-12-27T14:03:02.117Z"
   },
   {
    "duration": 9,
    "start_time": "2023-12-27T14:03:04.884Z"
   },
   {
    "duration": 3,
    "start_time": "2023-12-27T14:03:07.467Z"
   },
   {
    "duration": 195,
    "start_time": "2023-12-27T14:05:12.745Z"
   },
   {
    "duration": 5,
    "start_time": "2023-12-27T14:06:09.599Z"
   },
   {
    "duration": 12,
    "start_time": "2023-12-27T14:09:39.520Z"
   },
   {
    "duration": 5,
    "start_time": "2023-12-27T14:09:40.376Z"
   },
   {
    "duration": 94,
    "start_time": "2023-12-27T14:09:42.493Z"
   },
   {
    "duration": 807,
    "start_time": "2023-12-27T14:09:43.282Z"
   },
   {
    "duration": 100,
    "start_time": "2023-12-27T14:09:46.102Z"
   },
   {
    "duration": 612,
    "start_time": "2023-12-27T14:09:47.612Z"
   },
   {
    "duration": 109,
    "start_time": "2023-12-27T14:09:49.607Z"
   },
   {
    "duration": 797,
    "start_time": "2023-12-27T14:09:50.893Z"
   },
   {
    "duration": 120,
    "start_time": "2023-12-27T14:09:53.482Z"
   },
   {
    "duration": 4141,
    "start_time": "2023-12-27T14:09:54.909Z"
   },
   {
    "duration": 109,
    "start_time": "2023-12-27T14:10:19.173Z"
   },
   {
    "duration": 1726,
    "start_time": "2023-12-27T14:10:20.790Z"
   },
   {
    "duration": 12,
    "start_time": "2023-12-27T14:10:30.999Z"
   },
   {
    "duration": 110,
    "start_time": "2023-12-27T14:10:32.901Z"
   },
   {
    "duration": 1667,
    "start_time": "2023-12-27T14:10:35.632Z"
   },
   {
    "duration": 52,
    "start_time": "2023-12-27T14:10:39.016Z"
   },
   {
    "duration": 649,
    "start_time": "2023-12-27T14:10:57.909Z"
   },
   {
    "duration": 3,
    "start_time": "2023-12-27T14:15:28.165Z"
   },
   {
    "duration": 101,
    "start_time": "2023-12-27T14:18:28.982Z"
   },
   {
    "duration": 1783,
    "start_time": "2023-12-27T14:19:51.283Z"
   },
   {
    "duration": 15,
    "start_time": "2023-12-27T14:19:53.067Z"
   },
   {
    "duration": 15,
    "start_time": "2023-12-27T14:19:53.083Z"
   },
   {
    "duration": 1188,
    "start_time": "2023-12-27T14:19:53.100Z"
   },
   {
    "duration": 97,
    "start_time": "2023-12-27T14:19:54.289Z"
   },
   {
    "duration": 757,
    "start_time": "2023-12-27T14:19:54.388Z"
   },
   {
    "duration": 206,
    "start_time": "2023-12-27T14:19:55.146Z"
   },
   {
    "duration": 275,
    "start_time": "2023-12-27T14:19:55.354Z"
   },
   {
    "duration": 137,
    "start_time": "2023-12-27T14:19:55.631Z"
   },
   {
    "duration": 56,
    "start_time": "2023-12-27T14:19:55.770Z"
   },
   {
    "duration": 53,
    "start_time": "2023-12-27T14:19:55.827Z"
   },
   {
    "duration": 66,
    "start_time": "2023-12-27T14:19:55.882Z"
   },
   {
    "duration": 7,
    "start_time": "2023-12-27T14:19:55.949Z"
   },
   {
    "duration": 23,
    "start_time": "2023-12-27T14:19:55.957Z"
   },
   {
    "duration": 30,
    "start_time": "2023-12-27T14:19:55.981Z"
   },
   {
    "duration": 118,
    "start_time": "2023-12-27T14:19:58.842Z"
   },
   {
    "duration": 948,
    "start_time": "2023-12-27T14:20:02.023Z"
   },
   {
    "duration": 4,
    "start_time": "2023-12-27T14:20:07.161Z"
   },
   {
    "duration": 43303,
    "start_time": "2023-12-27T14:20:09.225Z"
   },
   {
    "duration": 3,
    "start_time": "2023-12-27T14:22:32.065Z"
   },
   {
    "duration": 22430,
    "start_time": "2023-12-27T14:23:58.236Z"
   },
   {
    "duration": 3,
    "start_time": "2023-12-27T14:24:28.728Z"
   },
   {
    "duration": 1704,
    "start_time": "2023-12-27T14:25:14.733Z"
   },
   {
    "duration": 20,
    "start_time": "2023-12-27T14:25:16.439Z"
   },
   {
    "duration": 11,
    "start_time": "2023-12-27T14:25:16.460Z"
   },
   {
    "duration": 1125,
    "start_time": "2023-12-27T14:25:16.472Z"
   },
   {
    "duration": 98,
    "start_time": "2023-12-27T14:25:17.598Z"
   },
   {
    "duration": 745,
    "start_time": "2023-12-27T14:25:17.697Z"
   },
   {
    "duration": 215,
    "start_time": "2023-12-27T14:25:18.444Z"
   },
   {
    "duration": 282,
    "start_time": "2023-12-27T14:25:18.661Z"
   },
   {
    "duration": 145,
    "start_time": "2023-12-27T14:25:18.945Z"
   },
   {
    "duration": 50,
    "start_time": "2023-12-27T14:25:19.092Z"
   },
   {
    "duration": 54,
    "start_time": "2023-12-27T14:25:19.144Z"
   },
   {
    "duration": 50,
    "start_time": "2023-12-27T14:25:19.211Z"
   },
   {
    "duration": 7,
    "start_time": "2023-12-27T14:25:19.262Z"
   },
   {
    "duration": 6,
    "start_time": "2023-12-27T14:25:19.270Z"
   },
   {
    "duration": 11,
    "start_time": "2023-12-27T14:25:19.277Z"
   },
   {
    "duration": 122,
    "start_time": "2023-12-27T14:25:19.290Z"
   },
   {
    "duration": 116,
    "start_time": "2023-12-27T14:25:27.027Z"
   },
   {
    "duration": 4,
    "start_time": "2023-12-27T14:25:29.074Z"
   },
   {
    "duration": 49279,
    "start_time": "2023-12-27T14:25:33.349Z"
   },
   {
    "duration": 3,
    "start_time": "2023-12-27T14:28:01.171Z"
   },
   {
    "duration": 3,
    "start_time": "2023-12-27T14:29:31.227Z"
   },
   {
    "duration": 4,
    "start_time": "2023-12-27T14:29:31.844Z"
   },
   {
    "duration": 390,
    "start_time": "2023-12-27T14:29:32.895Z"
   },
   {
    "duration": 33455,
    "start_time": "2023-12-27T14:30:04.587Z"
   },
   {
    "duration": 1651,
    "start_time": "2023-12-27T14:30:44.318Z"
   },
   {
    "duration": 24,
    "start_time": "2023-12-27T14:30:45.972Z"
   },
   {
    "duration": 13,
    "start_time": "2023-12-27T14:30:45.998Z"
   },
   {
    "duration": 945,
    "start_time": "2023-12-27T14:30:46.013Z"
   },
   {
    "duration": 118,
    "start_time": "2023-12-27T14:30:46.959Z"
   },
   {
    "duration": 819,
    "start_time": "2023-12-27T14:30:47.079Z"
   },
   {
    "duration": 209,
    "start_time": "2023-12-27T14:30:47.899Z"
   },
   {
    "duration": 300,
    "start_time": "2023-12-27T14:30:48.109Z"
   },
   {
    "duration": 163,
    "start_time": "2023-12-27T14:30:48.411Z"
   },
   {
    "duration": 60,
    "start_time": "2023-12-27T14:30:48.577Z"
   },
   {
    "duration": 56,
    "start_time": "2023-12-27T14:30:48.639Z"
   },
   {
    "duration": 50,
    "start_time": "2023-12-27T14:30:48.710Z"
   },
   {
    "duration": 7,
    "start_time": "2023-12-27T14:30:48.761Z"
   },
   {
    "duration": 5,
    "start_time": "2023-12-27T14:30:48.769Z"
   },
   {
    "duration": 10,
    "start_time": "2023-12-27T14:30:48.776Z"
   },
   {
    "duration": 135,
    "start_time": "2023-12-27T14:30:48.788Z"
   },
   {
    "duration": 3,
    "start_time": "2023-12-27T14:30:48.925Z"
   },
   {
    "duration": 3,
    "start_time": "2023-12-27T14:30:52.572Z"
   },
   {
    "duration": 5,
    "start_time": "2023-12-27T14:30:53.241Z"
   },
   {
    "duration": 80495,
    "start_time": "2023-12-27T14:30:54.229Z"
   },
   {
    "duration": 34894,
    "start_time": "2023-12-27T14:32:23.834Z"
   },
   {
    "duration": 1626,
    "start_time": "2023-12-27T14:33:08.248Z"
   },
   {
    "duration": 16,
    "start_time": "2023-12-27T14:33:09.876Z"
   },
   {
    "duration": 9,
    "start_time": "2023-12-27T14:33:09.893Z"
   },
   {
    "duration": 940,
    "start_time": "2023-12-27T14:33:09.903Z"
   },
   {
    "duration": 111,
    "start_time": "2023-12-27T14:33:10.844Z"
   },
   {
    "duration": 773,
    "start_time": "2023-12-27T14:33:10.956Z"
   },
   {
    "duration": 203,
    "start_time": "2023-12-27T14:33:11.731Z"
   },
   {
    "duration": 301,
    "start_time": "2023-12-27T14:33:11.936Z"
   },
   {
    "duration": 138,
    "start_time": "2023-12-27T14:33:12.239Z"
   },
   {
    "duration": 59,
    "start_time": "2023-12-27T14:33:12.379Z"
   },
   {
    "duration": 72,
    "start_time": "2023-12-27T14:33:12.439Z"
   },
   {
    "duration": 53,
    "start_time": "2023-12-27T14:33:12.512Z"
   },
   {
    "duration": 8,
    "start_time": "2023-12-27T14:33:12.566Z"
   },
   {
    "duration": 6,
    "start_time": "2023-12-27T14:33:12.575Z"
   },
   {
    "duration": 29,
    "start_time": "2023-12-27T14:33:12.582Z"
   },
   {
    "duration": 5,
    "start_time": "2023-12-27T14:33:15.690Z"
   },
   {
    "duration": 116,
    "start_time": "2023-12-27T14:33:16.708Z"
   },
   {
    "duration": 3,
    "start_time": "2023-12-27T14:33:19.830Z"
   },
   {
    "duration": 3,
    "start_time": "2023-12-27T14:33:21.758Z"
   },
   {
    "duration": 31663,
    "start_time": "2023-12-27T14:33:27.505Z"
   },
   {
    "duration": 26636,
    "start_time": "2023-12-27T14:34:12.993Z"
   },
   {
    "duration": 5887,
    "start_time": "2023-12-27T14:34:48.149Z"
   },
   {
    "duration": 6341,
    "start_time": "2023-12-27T14:34:58.496Z"
   },
   {
    "duration": 59841,
    "start_time": "2023-12-27T14:35:27.084Z"
   },
   {
    "duration": 25,
    "start_time": "2023-12-27T14:36:45.972Z"
   },
   {
    "duration": 3,
    "start_time": "2023-12-27T14:36:48.328Z"
   },
   {
    "duration": 3,
    "start_time": "2023-12-27T14:36:48.599Z"
   },
   {
    "duration": 36052,
    "start_time": "2023-12-27T14:36:49.073Z"
   },
   {
    "duration": 46775,
    "start_time": "2023-12-27T14:37:28.659Z"
   },
   {
    "duration": 4,
    "start_time": "2023-12-27T14:38:35.044Z"
   },
   {
    "duration": 4,
    "start_time": "2023-12-27T14:38:37.120Z"
   },
   {
    "duration": 22192,
    "start_time": "2023-12-27T14:38:42.525Z"
   },
   {
    "duration": 13,
    "start_time": "2023-12-27T14:39:09.934Z"
   },
   {
    "duration": 3,
    "start_time": "2023-12-27T14:39:52.905Z"
   },
   {
    "duration": 15045,
    "start_time": "2023-12-27T14:39:56.989Z"
   },
   {
    "duration": 1610,
    "start_time": "2023-12-27T14:42:57.164Z"
   },
   {
    "duration": 15,
    "start_time": "2023-12-27T14:42:58.776Z"
   },
   {
    "duration": 20,
    "start_time": "2023-12-27T14:42:58.793Z"
   },
   {
    "duration": 944,
    "start_time": "2023-12-27T14:42:58.814Z"
   },
   {
    "duration": 113,
    "start_time": "2023-12-27T14:42:59.760Z"
   },
   {
    "duration": 766,
    "start_time": "2023-12-27T14:42:59.874Z"
   },
   {
    "duration": 202,
    "start_time": "2023-12-27T14:43:00.642Z"
   },
   {
    "duration": 312,
    "start_time": "2023-12-27T14:43:00.846Z"
   },
   {
    "duration": 149,
    "start_time": "2023-12-27T14:43:01.159Z"
   },
   {
    "duration": 55,
    "start_time": "2023-12-27T14:43:01.310Z"
   },
   {
    "duration": 85,
    "start_time": "2023-12-27T14:43:01.367Z"
   },
   {
    "duration": 65,
    "start_time": "2023-12-27T14:43:01.454Z"
   },
   {
    "duration": 7,
    "start_time": "2023-12-27T14:43:01.521Z"
   },
   {
    "duration": 42,
    "start_time": "2023-12-27T14:43:01.530Z"
   },
   {
    "duration": 29,
    "start_time": "2023-12-27T14:43:01.574Z"
   },
   {
    "duration": 5,
    "start_time": "2023-12-27T14:43:03.480Z"
   },
   {
    "duration": 107,
    "start_time": "2023-12-27T14:43:03.841Z"
   },
   {
    "duration": 4,
    "start_time": "2023-12-27T14:43:08.592Z"
   },
   {
    "duration": 3,
    "start_time": "2023-12-27T14:43:09.256Z"
   },
   {
    "duration": 49802,
    "start_time": "2023-12-27T14:43:09.881Z"
   },
   {
    "duration": 4,
    "start_time": "2023-12-27T14:44:45.946Z"
   },
   {
    "duration": 6,
    "start_time": "2023-12-27T14:44:47.314Z"
   },
   {
    "duration": 9684,
    "start_time": "2023-12-27T14:44:48.166Z"
   },
   {
    "duration": 3,
    "start_time": "2023-12-27T14:45:20.658Z"
   },
   {
    "duration": 3,
    "start_time": "2023-12-27T14:45:21.682Z"
   },
   {
    "duration": 24817,
    "start_time": "2023-12-27T14:45:22.387Z"
   },
   {
    "duration": 102,
    "start_time": "2023-12-27T14:46:36.092Z"
   },
   {
    "duration": 23,
    "start_time": "2023-12-27T14:46:37.076Z"
   },
   {
    "duration": 108,
    "start_time": "2023-12-27T14:46:48.196Z"
   },
   {
    "duration": 803,
    "start_time": "2023-12-27T14:47:01.692Z"
   },
   {
    "duration": 11351,
    "start_time": "2023-12-27T14:47:03.285Z"
   },
   {
    "duration": 114,
    "start_time": "2023-12-27T14:47:43.277Z"
   },
   {
    "duration": 781,
    "start_time": "2023-12-27T14:47:46.796Z"
   },
   {
    "duration": 244370,
    "start_time": "2023-12-27T14:47:48.653Z"
   },
   {
    "duration": 30064,
    "start_time": "2023-12-27T14:51:56.184Z"
   },
   {
    "duration": 30042,
    "start_time": "2023-12-27T14:53:19.849Z"
   },
   {
    "duration": 62319,
    "start_time": "2023-12-27T14:55:04.211Z"
   },
   {
    "duration": 3988,
    "start_time": "2023-12-27T14:56:25.535Z"
   },
   {
    "duration": 15,
    "start_time": "2023-12-27T14:56:32.620Z"
   },
   {
    "duration": 5,
    "start_time": "2023-12-27T14:56:34.012Z"
   },
   {
    "duration": 847,
    "start_time": "2023-12-27T14:56:36.308Z"
   },
   {
    "duration": 178,
    "start_time": "2023-12-27T14:56:38.660Z"
   },
   {
    "duration": 802,
    "start_time": "2023-12-27T14:56:39.388Z"
   },
   {
    "duration": 190,
    "start_time": "2023-12-27T14:56:43.356Z"
   },
   {
    "duration": 279,
    "start_time": "2023-12-27T14:56:43.675Z"
   },
   {
    "duration": 144,
    "start_time": "2023-12-27T14:56:44.100Z"
   },
   {
    "duration": 52,
    "start_time": "2023-12-27T14:56:44.724Z"
   },
   {
    "duration": 57,
    "start_time": "2023-12-27T14:56:46.699Z"
   },
   {
    "duration": 51,
    "start_time": "2023-12-27T14:56:47.428Z"
   },
   {
    "duration": 7,
    "start_time": "2023-12-27T14:56:57.819Z"
   },
   {
    "duration": 6,
    "start_time": "2023-12-27T14:56:59.836Z"
   },
   {
    "duration": 5,
    "start_time": "2023-12-27T14:57:01.852Z"
   },
   {
    "duration": 106,
    "start_time": "2023-12-27T14:57:04.852Z"
   },
   {
    "duration": 805,
    "start_time": "2023-12-27T14:57:15.612Z"
   },
   {
    "duration": 35,
    "start_time": "2023-12-27T14:57:19.939Z"
   },
   {
    "duration": 5645,
    "start_time": "2023-12-27T14:59:42.486Z"
   },
   {
    "duration": 5452,
    "start_time": "2023-12-27T14:59:57.575Z"
   },
   {
    "duration": 4,
    "start_time": "2023-12-27T15:00:08.558Z"
   },
   {
    "duration": 4,
    "start_time": "2023-12-27T15:00:09.302Z"
   },
   {
    "duration": 24551,
    "start_time": "2023-12-27T15:00:16.246Z"
   },
   {
    "duration": 7588,
    "start_time": "2023-12-27T15:00:44.247Z"
   },
   {
    "duration": 8078,
    "start_time": "2023-12-27T15:00:58.247Z"
   },
   {
    "duration": 3,
    "start_time": "2023-12-27T15:01:10.055Z"
   },
   {
    "duration": 3,
    "start_time": "2023-12-27T15:01:19.824Z"
   },
   {
    "duration": 3,
    "start_time": "2023-12-27T15:01:21.440Z"
   },
   {
    "duration": 44055,
    "start_time": "2023-12-27T15:01:21.863Z"
   },
   {
    "duration": 949,
    "start_time": "2023-12-27T15:02:24.336Z"
   },
   {
    "duration": 6870,
    "start_time": "2023-12-27T15:02:43.457Z"
   },
   {
    "duration": 6521,
    "start_time": "2023-12-27T15:02:57.697Z"
   },
   {
    "duration": 4,
    "start_time": "2023-12-27T15:03:31.201Z"
   },
   {
    "duration": 7072,
    "start_time": "2023-12-27T15:03:32.753Z"
   },
   {
    "duration": 69669,
    "start_time": "2023-12-27T15:03:54.353Z"
   },
   {
    "duration": 48293,
    "start_time": "2023-12-27T15:05:21.027Z"
   },
   {
    "duration": 3,
    "start_time": "2023-12-27T15:09:00.279Z"
   },
   {
    "duration": 3,
    "start_time": "2023-12-27T15:09:11.982Z"
   },
   {
    "duration": 4,
    "start_time": "2023-12-27T15:09:17.518Z"
   },
   {
    "duration": 2,
    "start_time": "2023-12-27T15:09:29.406Z"
   },
   {
    "duration": 78,
    "start_time": "2023-12-27T15:09:33.798Z"
   },
   {
    "duration": 4,
    "start_time": "2023-12-27T15:09:37.566Z"
   },
   {
    "duration": 74,
    "start_time": "2023-12-27T15:09:44.055Z"
   },
   {
    "duration": 82,
    "start_time": "2023-12-27T15:09:47.559Z"
   },
   {
    "duration": 80,
    "start_time": "2023-12-27T15:09:52.167Z"
   },
   {
    "duration": 85,
    "start_time": "2023-12-27T15:10:00.855Z"
   },
   {
    "duration": 72,
    "start_time": "2023-12-27T15:10:16.543Z"
   },
   {
    "duration": 4,
    "start_time": "2023-12-27T15:10:56.071Z"
   },
   {
    "duration": 2,
    "start_time": "2023-12-27T15:11:01.792Z"
   },
   {
    "duration": 91,
    "start_time": "2023-12-27T15:11:06.664Z"
   },
   {
    "duration": 68,
    "start_time": "2023-12-27T15:11:15.592Z"
   },
   {
    "duration": 5,
    "start_time": "2023-12-27T15:12:16.442Z"
   },
   {
    "duration": 4,
    "start_time": "2023-12-27T15:13:07.570Z"
   },
   {
    "duration": 3,
    "start_time": "2023-12-27T15:13:33.579Z"
   },
   {
    "duration": 4,
    "start_time": "2023-12-27T15:13:36.554Z"
   },
   {
    "duration": 90,
    "start_time": "2023-12-27T15:14:38.843Z"
   },
   {
    "duration": 3,
    "start_time": "2023-12-27T15:14:46.859Z"
   },
   {
    "duration": 75,
    "start_time": "2023-12-27T15:14:47.459Z"
   },
   {
    "duration": 3,
    "start_time": "2023-12-27T15:14:51.932Z"
   },
   {
    "duration": 3,
    "start_time": "2023-12-27T15:14:52.963Z"
   },
   {
    "duration": 3,
    "start_time": "2023-12-27T15:14:53.427Z"
   },
   {
    "duration": 5,
    "start_time": "2023-12-27T15:14:55.924Z"
   },
   {
    "duration": 4,
    "start_time": "2023-12-27T15:15:02.148Z"
   },
   {
    "duration": 3,
    "start_time": "2023-12-27T15:15:07.684Z"
   },
   {
    "duration": 3,
    "start_time": "2023-12-27T15:15:35.844Z"
   },
   {
    "duration": 5,
    "start_time": "2023-12-27T15:15:50.028Z"
   },
   {
    "duration": 2,
    "start_time": "2023-12-27T15:16:17.261Z"
   },
   {
    "duration": 5,
    "start_time": "2023-12-27T15:16:17.868Z"
   },
   {
    "duration": 79,
    "start_time": "2023-12-27T15:16:44.301Z"
   },
   {
    "duration": 7,
    "start_time": "2023-12-27T15:17:13.015Z"
   },
   {
    "duration": 79,
    "start_time": "2023-12-27T15:17:16.997Z"
   },
   {
    "duration": 4,
    "start_time": "2023-12-27T15:19:03.528Z"
   },
   {
    "duration": 10,
    "start_time": "2023-12-27T15:19:25.967Z"
   },
   {
    "duration": 4,
    "start_time": "2023-12-27T15:19:30.560Z"
   },
   {
    "duration": 2,
    "start_time": "2023-12-27T15:19:51.704Z"
   },
   {
    "duration": 10,
    "start_time": "2023-12-27T15:19:52.128Z"
   },
   {
    "duration": 5,
    "start_time": "2023-12-27T15:20:09.009Z"
   },
   {
    "duration": 5,
    "start_time": "2023-12-27T15:21:11.568Z"
   },
   {
    "duration": 2,
    "start_time": "2023-12-27T15:23:35.571Z"
   },
   {
    "duration": 11,
    "start_time": "2023-12-27T15:23:48.515Z"
   },
   {
    "duration": 5,
    "start_time": "2023-12-27T15:23:59.460Z"
   },
   {
    "duration": 3,
    "start_time": "2023-12-27T15:24:29.172Z"
   },
   {
    "duration": 5,
    "start_time": "2023-12-27T15:24:29.651Z"
   },
   {
    "duration": 3,
    "start_time": "2023-12-27T15:25:02.221Z"
   },
   {
    "duration": 5,
    "start_time": "2023-12-27T15:25:30.204Z"
   },
   {
    "duration": 3,
    "start_time": "2023-12-27T15:25:44.364Z"
   },
   {
    "duration": 5,
    "start_time": "2023-12-27T15:25:46.212Z"
   },
   {
    "duration": 2,
    "start_time": "2023-12-27T15:26:21.469Z"
   },
   {
    "duration": 5,
    "start_time": "2023-12-27T15:26:21.997Z"
   },
   {
    "duration": 88,
    "start_time": "2023-12-27T15:26:42.277Z"
   },
   {
    "duration": 3,
    "start_time": "2023-12-27T15:26:49.309Z"
   },
   {
    "duration": 7,
    "start_time": "2023-12-27T15:26:50.014Z"
   },
   {
    "duration": 3,
    "start_time": "2023-12-27T15:26:56.118Z"
   },
   {
    "duration": 5,
    "start_time": "2023-12-27T15:26:56.581Z"
   },
   {
    "duration": 127,
    "start_time": "2023-12-27T15:28:06.382Z"
   },
   {
    "duration": 2,
    "start_time": "2023-12-27T15:29:16.384Z"
   },
   {
    "duration": 3,
    "start_time": "2023-12-27T15:29:43.392Z"
   },
   {
    "duration": 3,
    "start_time": "2023-12-27T15:30:23.418Z"
   },
   {
    "duration": 3,
    "start_time": "2023-12-27T15:30:24.304Z"
   },
   {
    "duration": 4,
    "start_time": "2023-12-27T15:30:35.504Z"
   },
   {
    "duration": 14,
    "start_time": "2023-12-27T15:31:15.753Z"
   },
   {
    "duration": 3,
    "start_time": "2023-12-27T15:31:37.505Z"
   },
   {
    "duration": 14,
    "start_time": "2023-12-27T15:31:38.858Z"
   },
   {
    "duration": 3,
    "start_time": "2023-12-27T15:31:59.241Z"
   },
   {
    "duration": 5,
    "start_time": "2023-12-27T15:31:59.849Z"
   },
   {
    "duration": 6,
    "start_time": "2023-12-27T15:32:44.530Z"
   },
   {
    "duration": 5,
    "start_time": "2023-12-27T15:33:28.755Z"
   },
   {
    "duration": 3,
    "start_time": "2023-12-27T15:34:15.596Z"
   },
   {
    "duration": 4,
    "start_time": "2023-12-27T15:34:16.300Z"
   },
   {
    "duration": 3,
    "start_time": "2023-12-27T15:34:47.788Z"
   },
   {
    "duration": 5,
    "start_time": "2023-12-27T15:34:48.333Z"
   },
   {
    "duration": 75,
    "start_time": "2023-12-27T15:40:17.168Z"
   },
   {
    "duration": 15,
    "start_time": "2023-12-27T15:43:26.419Z"
   },
   {
    "duration": 14,
    "start_time": "2023-12-27T15:43:45.955Z"
   },
   {
    "duration": 18,
    "start_time": "2023-12-27T15:44:42.931Z"
   },
   {
    "duration": 98,
    "start_time": "2023-12-27T15:45:20.699Z"
   },
   {
    "duration": 77,
    "start_time": "2023-12-27T15:45:28.132Z"
   },
   {
    "duration": 8,
    "start_time": "2023-12-27T15:45:32.588Z"
   },
   {
    "duration": 3,
    "start_time": "2023-12-27T15:45:40.484Z"
   },
   {
    "duration": 109,
    "start_time": "2023-12-27T15:45:56.693Z"
   },
   {
    "duration": 103,
    "start_time": "2023-12-27T15:46:39.637Z"
   },
   {
    "duration": 71,
    "start_time": "2023-12-27T15:50:34.632Z"
   },
   {
    "duration": 5,
    "start_time": "2023-12-27T15:51:35.736Z"
   },
   {
    "duration": 114,
    "start_time": "2023-12-27T15:51:46.025Z"
   },
   {
    "duration": 4,
    "start_time": "2023-12-27T15:52:16.441Z"
   },
   {
    "duration": 103,
    "start_time": "2023-12-27T15:52:20.793Z"
   },
   {
    "duration": 5,
    "start_time": "2023-12-27T15:53:00.498Z"
   },
   {
    "duration": 917,
    "start_time": "2023-12-27T15:53:16.525Z"
   },
   {
    "duration": 37,
    "start_time": "2023-12-27T15:53:20.763Z"
   },
   {
    "duration": 4,
    "start_time": "2023-12-27T15:54:23.763Z"
   },
   {
    "duration": 14,
    "start_time": "2023-12-27T15:54:35.163Z"
   },
   {
    "duration": 134,
    "start_time": "2023-12-27T15:55:41.564Z"
   },
   {
    "duration": 9285,
    "start_time": "2023-12-27T15:55:56.244Z"
   },
   {
    "duration": 10,
    "start_time": "2023-12-27T15:56:40.013Z"
   },
   {
    "duration": 11,
    "start_time": "2023-12-27T15:56:43.725Z"
   },
   {
    "duration": 78876,
    "start_time": "2023-12-27T15:56:51.661Z"
   },
   {
    "duration": 131,
    "start_time": "2023-12-27T15:58:15.423Z"
   },
   {
    "duration": 877,
    "start_time": "2023-12-27T15:58:25.775Z"
   },
   {
    "duration": 49283,
    "start_time": "2023-12-27T15:58:40.958Z"
   },
   {
    "duration": 3,
    "start_time": "2023-12-27T15:59:32.847Z"
   },
   {
    "duration": 1937,
    "start_time": "2023-12-27T15:59:35.624Z"
   },
   {
    "duration": 4466,
    "start_time": "2023-12-27T16:00:06.731Z"
   },
   {
    "duration": 6414,
    "start_time": "2023-12-27T16:00:48.664Z"
   },
   {
    "duration": 21959,
    "start_time": "2023-12-27T16:01:52.448Z"
   },
   {
    "duration": 5,
    "start_time": "2023-12-27T16:02:54.009Z"
   },
   {
    "duration": 22527,
    "start_time": "2023-12-27T16:03:36.554Z"
   },
   {
    "duration": 7,
    "start_time": "2023-12-27T16:04:43.379Z"
   },
   {
    "duration": 24844,
    "start_time": "2023-12-27T16:04:46.867Z"
   },
   {
    "duration": 14,
    "start_time": "2023-12-27T16:07:44.245Z"
   },
   {
    "duration": 1034,
    "start_time": "2023-12-27T16:08:38.206Z"
   },
   {
    "duration": 29,
    "start_time": "2023-12-27T16:08:44.735Z"
   },
   {
    "duration": 2001,
    "start_time": "2023-12-27T16:09:13.728Z"
   },
   {
    "duration": 45587,
    "start_time": "2023-12-27T16:09:39.263Z"
   },
   {
    "duration": 12,
    "start_time": "2023-12-27T16:10:32.744Z"
   },
   {
    "duration": 29,
    "start_time": "2023-12-27T16:10:37.904Z"
   },
   {
    "duration": 12,
    "start_time": "2023-12-27T16:10:40.600Z"
   },
   {
    "duration": 32,
    "start_time": "2023-12-27T16:11:02.656Z"
   },
   {
    "duration": 6,
    "start_time": "2023-12-27T16:11:14.584Z"
   },
   {
    "duration": 5042,
    "start_time": "2023-12-27T16:11:17.280Z"
   },
   {
    "duration": 3,
    "start_time": "2023-12-27T16:11:31.064Z"
   },
   {
    "duration": 43599,
    "start_time": "2023-12-27T16:11:34.320Z"
   },
   {
    "duration": 48014,
    "start_time": "2023-12-27T16:12:19.313Z"
   },
   {
    "duration": 5,
    "start_time": "2023-12-27T17:21:36.567Z"
   },
   {
    "duration": 910,
    "start_time": "2023-12-27T17:23:57.672Z"
   },
   {
    "duration": 73,
    "start_time": "2023-12-27T17:36:58.211Z"
   },
   {
    "duration": 4,
    "start_time": "2023-12-27T17:38:02.372Z"
   },
   {
    "duration": 5,
    "start_time": "2023-12-27T17:38:05.675Z"
   },
   {
    "duration": 5,
    "start_time": "2023-12-27T17:39:24.060Z"
   },
   {
    "duration": 5,
    "start_time": "2023-12-27T17:42:07.774Z"
   },
   {
    "duration": 24,
    "start_time": "2023-12-27T17:43:36.695Z"
   },
   {
    "duration": 1829,
    "start_time": "2023-12-27T17:43:59.175Z"
   },
   {
    "duration": 4,
    "start_time": "2023-12-27T17:44:12.129Z"
   },
   {
    "duration": 1599,
    "start_time": "2023-12-27T17:44:12.874Z"
   },
   {
    "duration": 17,
    "start_time": "2023-12-27T17:44:15.049Z"
   },
   {
    "duration": 13,
    "start_time": "2023-12-27T17:44:15.816Z"
   },
   {
    "duration": 988,
    "start_time": "2023-12-27T17:44:16.784Z"
   },
   {
    "duration": 86,
    "start_time": "2023-12-27T17:44:19.424Z"
   },
   {
    "duration": 763,
    "start_time": "2023-12-27T17:44:20.688Z"
   },
   {
    "duration": 192,
    "start_time": "2023-12-27T17:44:23.952Z"
   },
   {
    "duration": 276,
    "start_time": "2023-12-27T17:44:24.775Z"
   },
   {
    "duration": 134,
    "start_time": "2023-12-27T17:44:25.543Z"
   },
   {
    "duration": 54,
    "start_time": "2023-12-27T17:44:26.208Z"
   },
   {
    "duration": 52,
    "start_time": "2023-12-27T17:44:26.832Z"
   },
   {
    "duration": 49,
    "start_time": "2023-12-27T17:44:29.049Z"
   },
   {
    "duration": 426,
    "start_time": "2023-12-27T17:44:29.672Z"
   },
   {
    "duration": 3,
    "start_time": "2023-12-27T17:45:31.779Z"
   },
   {
    "duration": 1600,
    "start_time": "2023-12-27T17:45:32.339Z"
   },
   {
    "duration": 19,
    "start_time": "2023-12-27T17:45:33.941Z"
   },
   {
    "duration": 8,
    "start_time": "2023-12-27T17:45:33.961Z"
   },
   {
    "duration": 990,
    "start_time": "2023-12-27T17:45:34.633Z"
   },
   {
    "duration": 91,
    "start_time": "2023-12-27T17:45:36.169Z"
   },
   {
    "duration": 796,
    "start_time": "2023-12-27T17:45:36.872Z"
   },
   {
    "duration": 189,
    "start_time": "2023-12-27T17:45:41.040Z"
   },
   {
    "duration": 132,
    "start_time": "2023-12-27T17:45:41.704Z"
   },
   {
    "duration": 146,
    "start_time": "2023-12-27T17:45:42.232Z"
   },
   {
    "duration": 91,
    "start_time": "2023-12-27T17:45:42.816Z"
   },
   {
    "duration": 3,
    "start_time": "2023-12-27T17:46:38.276Z"
   },
   {
    "duration": 1618,
    "start_time": "2023-12-27T17:46:38.497Z"
   },
   {
    "duration": 18,
    "start_time": "2023-12-27T17:46:40.116Z"
   },
   {
    "duration": 9,
    "start_time": "2023-12-27T17:46:40.135Z"
   },
   {
    "duration": 958,
    "start_time": "2023-12-27T17:46:40.146Z"
   },
   {
    "duration": 92,
    "start_time": "2023-12-27T17:46:41.105Z"
   },
   {
    "duration": 792,
    "start_time": "2023-12-27T17:46:41.199Z"
   },
   {
    "duration": 219,
    "start_time": "2023-12-27T17:46:43.514Z"
   },
   {
    "duration": 137,
    "start_time": "2023-12-27T17:46:43.993Z"
   },
   {
    "duration": 272,
    "start_time": "2023-12-27T17:46:44.522Z"
   },
   {
    "duration": 50,
    "start_time": "2023-12-27T17:46:45.425Z"
   },
   {
    "duration": 50,
    "start_time": "2023-12-27T17:46:47.497Z"
   },
   {
    "duration": 50,
    "start_time": "2023-12-27T17:46:50.178Z"
   },
   {
    "duration": 124,
    "start_time": "2023-12-27T17:50:20.900Z"
   },
   {
    "duration": 11907,
    "start_time": "2023-12-27T17:50:26.061Z"
   },
   {
    "duration": 3,
    "start_time": "2023-12-27T17:50:55.776Z"
   },
   {
    "duration": 1653,
    "start_time": "2023-12-27T17:50:55.780Z"
   },
   {
    "duration": 19,
    "start_time": "2023-12-27T17:50:57.435Z"
   },
   {
    "duration": 9,
    "start_time": "2023-12-27T17:50:57.456Z"
   },
   {
    "duration": 1023,
    "start_time": "2023-12-27T17:50:57.467Z"
   },
   {
    "duration": 105,
    "start_time": "2023-12-27T17:50:58.491Z"
   },
   {
    "duration": 768,
    "start_time": "2023-12-27T17:50:58.597Z"
   },
   {
    "duration": 5029,
    "start_time": "2023-12-27T17:51:02.997Z"
   },
   {
    "duration": 5263,
    "start_time": "2023-12-27T17:51:28.421Z"
   },
   {
    "duration": 5043,
    "start_time": "2023-12-27T17:51:39.949Z"
   },
   {
    "duration": 4959,
    "start_time": "2023-12-27T17:51:51.190Z"
   },
   {
    "duration": 5011,
    "start_time": "2023-12-27T17:52:00.718Z"
   },
   {
    "duration": 4947,
    "start_time": "2023-12-27T17:52:16.574Z"
   },
   {
    "duration": 367,
    "start_time": "2023-12-27T17:57:00.794Z"
   },
   {
    "duration": 1309,
    "start_time": "2023-12-27T17:57:46.674Z"
   },
   {
    "duration": 3,
    "start_time": "2023-12-27T17:58:23.154Z"
   },
   {
    "duration": 1540,
    "start_time": "2023-12-27T17:58:23.159Z"
   },
   {
    "duration": 18,
    "start_time": "2023-12-27T17:58:24.700Z"
   },
   {
    "duration": 10,
    "start_time": "2023-12-27T17:58:24.719Z"
   },
   {
    "duration": 989,
    "start_time": "2023-12-27T17:58:24.730Z"
   },
   {
    "duration": 97,
    "start_time": "2023-12-27T17:58:25.721Z"
   },
   {
    "duration": 797,
    "start_time": "2023-12-27T17:58:25.820Z"
   },
   {
    "duration": 5003,
    "start_time": "2023-12-27T17:58:26.619Z"
   },
   {
    "duration": 301,
    "start_time": "2023-12-27T17:58:34.779Z"
   },
   {
    "duration": 147,
    "start_time": "2023-12-27T17:58:36.491Z"
   },
   {
    "duration": 217,
    "start_time": "2023-12-27T17:58:36.978Z"
   },
   {
    "duration": 49,
    "start_time": "2023-12-27T17:58:38.002Z"
   },
   {
    "duration": 47,
    "start_time": "2023-12-27T17:58:43.524Z"
   },
   {
    "duration": 48,
    "start_time": "2023-12-27T17:58:46.162Z"
   },
   {
    "duration": 371,
    "start_time": "2023-12-27T17:58:46.922Z"
   },
   {
    "duration": 97,
    "start_time": "2023-12-27T17:58:55.563Z"
   },
   {
    "duration": 105,
    "start_time": "2023-12-27T17:59:09.203Z"
   },
   {
    "duration": 113,
    "start_time": "2023-12-27T17:59:10.067Z"
   },
   {
    "duration": 92,
    "start_time": "2023-12-27T17:59:15.467Z"
   },
   {
    "duration": 97,
    "start_time": "2023-12-27T17:59:18.027Z"
   },
   {
    "duration": 3,
    "start_time": "2023-12-27T17:59:28.699Z"
   },
   {
    "duration": 3,
    "start_time": "2023-12-27T17:59:30.012Z"
   },
   {
    "duration": 125,
    "start_time": "2023-12-27T17:59:32.811Z"
   },
   {
    "duration": 24,
    "start_time": "2023-12-27T18:01:33.175Z"
   },
   {
    "duration": 1782,
    "start_time": "2023-12-27T18:01:33.200Z"
   },
   {
    "duration": 17,
    "start_time": "2023-12-27T18:01:34.983Z"
   },
   {
    "duration": 16,
    "start_time": "2023-12-27T18:01:35.001Z"
   },
   {
    "duration": 1215,
    "start_time": "2023-12-27T18:01:35.019Z"
   },
   {
    "duration": 106,
    "start_time": "2023-12-27T18:01:36.236Z"
   },
   {
    "duration": 153,
    "start_time": "2023-12-27T18:01:39.181Z"
   },
   {
    "duration": 763,
    "start_time": "2023-12-27T18:01:48.485Z"
   },
   {
    "duration": 3,
    "start_time": "2023-12-27T18:01:55.524Z"
   },
   {
    "duration": 21,
    "start_time": "2023-12-27T18:01:55.529Z"
   },
   {
    "duration": 38,
    "start_time": "2023-12-27T18:01:55.552Z"
   },
   {
    "duration": 32,
    "start_time": "2023-12-27T18:01:55.593Z"
   },
   {
    "duration": 937,
    "start_time": "2023-12-27T18:01:55.627Z"
   },
   {
    "duration": 60,
    "start_time": "2023-12-27T18:01:56.565Z"
   },
   {
    "duration": 3,
    "start_time": "2023-12-27T18:02:08.743Z"
   },
   {
    "duration": 1601,
    "start_time": "2023-12-27T18:02:09.023Z"
   },
   {
    "duration": 17,
    "start_time": "2023-12-27T18:02:10.626Z"
   },
   {
    "duration": 10,
    "start_time": "2023-12-27T18:02:10.644Z"
   },
   {
    "duration": 1028,
    "start_time": "2023-12-27T18:02:10.655Z"
   },
   {
    "duration": 94,
    "start_time": "2023-12-27T18:02:11.684Z"
   },
   {
    "duration": 754,
    "start_time": "2023-12-27T18:02:14.789Z"
   },
   {
    "duration": 4902,
    "start_time": "2023-12-27T18:02:17.021Z"
   },
   {
    "duration": 7,
    "start_time": "2023-12-27T18:11:12.027Z"
   },
   {
    "duration": 15,
    "start_time": "2023-12-27T18:11:22.220Z"
   },
   {
    "duration": 4,
    "start_time": "2023-12-27T18:13:17.213Z"
   },
   {
    "duration": 1769,
    "start_time": "2023-12-27T18:13:17.219Z"
   },
   {
    "duration": 21,
    "start_time": "2023-12-27T18:13:18.990Z"
   },
   {
    "duration": 9,
    "start_time": "2023-12-27T18:13:19.013Z"
   },
   {
    "duration": 978,
    "start_time": "2023-12-27T18:13:19.024Z"
   },
   {
    "duration": 90,
    "start_time": "2023-12-27T18:13:20.003Z"
   },
   {
    "duration": 755,
    "start_time": "2023-12-27T18:13:20.111Z"
   },
   {
    "duration": 4969,
    "start_time": "2023-12-27T18:13:20.868Z"
   },
   {
    "duration": 665,
    "start_time": "2023-12-27T18:19:13.539Z"
   },
   {
    "duration": 525,
    "start_time": "2023-12-27T18:20:06.506Z"
   },
   {
    "duration": 298,
    "start_time": "2023-12-27T18:20:13.051Z"
   },
   {
    "duration": 976,
    "start_time": "2023-12-27T18:20:20.187Z"
   },
   {
    "duration": 768,
    "start_time": "2023-12-27T18:20:49.675Z"
   },
   {
    "duration": 707,
    "start_time": "2023-12-27T18:21:09.524Z"
   },
   {
    "duration": 1048,
    "start_time": "2023-12-27T18:21:21.892Z"
   },
   {
    "duration": 133,
    "start_time": "2023-12-27T20:09:48.518Z"
   },
   {
    "duration": 200,
    "start_time": "2023-12-27T20:09:59.204Z"
   },
   {
    "duration": 132,
    "start_time": "2023-12-27T20:09:59.973Z"
   },
   {
    "duration": 4046,
    "start_time": "2023-12-27T20:10:03.341Z"
   },
   {
    "duration": 3,
    "start_time": "2023-12-27T20:10:41.592Z"
   },
   {
    "duration": 1617,
    "start_time": "2023-12-27T20:10:42.113Z"
   },
   {
    "duration": 16,
    "start_time": "2023-12-27T20:10:43.732Z"
   },
   {
    "duration": 9,
    "start_time": "2023-12-27T20:10:43.750Z"
   },
   {
    "duration": 934,
    "start_time": "2023-12-27T20:10:44.009Z"
   },
   {
    "duration": 81,
    "start_time": "2023-12-27T20:10:47.712Z"
   },
   {
    "duration": 810,
    "start_time": "2023-12-27T20:10:48.416Z"
   },
   {
    "duration": 4934,
    "start_time": "2023-12-27T20:10:52.079Z"
   },
   {
    "duration": 159,
    "start_time": "2023-12-27T20:12:12.118Z"
   },
   {
    "duration": 142,
    "start_time": "2023-12-27T20:12:13.013Z"
   },
   {
    "duration": 347,
    "start_time": "2023-12-27T20:12:14.678Z"
   },
   {
    "duration": 44,
    "start_time": "2023-12-27T20:15:25.452Z"
   },
   {
    "duration": 3,
    "start_time": "2023-12-27T20:15:34.207Z"
   },
   {
    "duration": 1636,
    "start_time": "2023-12-27T20:15:34.468Z"
   },
   {
    "duration": 17,
    "start_time": "2023-12-27T20:15:36.106Z"
   },
   {
    "duration": 7,
    "start_time": "2023-12-27T20:15:36.125Z"
   },
   {
    "duration": 1008,
    "start_time": "2023-12-27T20:15:36.135Z"
   },
   {
    "duration": 84,
    "start_time": "2023-12-27T20:15:37.185Z"
   },
   {
    "duration": 740,
    "start_time": "2023-12-27T20:15:37.929Z"
   },
   {
    "duration": 4891,
    "start_time": "2023-12-27T20:15:39.298Z"
   },
   {
    "duration": 200,
    "start_time": "2023-12-27T20:16:27.115Z"
   },
   {
    "duration": 139,
    "start_time": "2023-12-27T20:16:27.458Z"
   },
   {
    "duration": 301,
    "start_time": "2023-12-27T20:16:28.002Z"
   },
   {
    "duration": 12187,
    "start_time": "2023-12-27T20:16:40.329Z"
   },
   {
    "duration": 16,
    "start_time": "2023-12-27T20:17:46.691Z"
   },
   {
    "duration": 1289,
    "start_time": "2023-12-27T20:17:58.315Z"
   },
   {
    "duration": 1280,
    "start_time": "2023-12-27T20:18:02.748Z"
   },
   {
    "duration": 16,
    "start_time": "2023-12-27T20:18:06.532Z"
   },
   {
    "duration": 14,
    "start_time": "2023-12-27T20:18:14.996Z"
   },
   {
    "duration": 15,
    "start_time": "2023-12-27T20:18:21.819Z"
   },
   {
    "duration": 3,
    "start_time": "2023-12-27T20:21:10.350Z"
   },
   {
    "duration": 51,
    "start_time": "2023-12-27T20:21:15.990Z"
   },
   {
    "duration": 49,
    "start_time": "2023-12-27T20:21:24.526Z"
   },
   {
    "duration": 49,
    "start_time": "2023-12-27T20:21:53.191Z"
   },
   {
    "duration": 51,
    "start_time": "2023-12-27T20:21:57.582Z"
   },
   {
    "duration": 111,
    "start_time": "2023-12-27T20:28:01.516Z"
   },
   {
    "duration": 3,
    "start_time": "2023-12-27T20:28:27.807Z"
   },
   {
    "duration": 1577,
    "start_time": "2023-12-27T20:28:28.045Z"
   },
   {
    "duration": 19,
    "start_time": "2023-12-27T20:28:29.624Z"
   },
   {
    "duration": 9,
    "start_time": "2023-12-27T20:28:29.645Z"
   },
   {
    "duration": 1069,
    "start_time": "2023-12-27T20:28:29.656Z"
   },
   {
    "duration": 95,
    "start_time": "2023-12-27T20:28:30.727Z"
   },
   {
    "duration": 772,
    "start_time": "2023-12-27T20:28:31.444Z"
   },
   {
    "duration": 5112,
    "start_time": "2023-12-27T20:28:32.227Z"
   },
   {
    "duration": 5057,
    "start_time": "2023-12-27T20:28:40.227Z"
   },
   {
    "duration": 199,
    "start_time": "2023-12-27T20:28:47.563Z"
   },
   {
    "duration": 143,
    "start_time": "2023-12-27T20:28:51.284Z"
   },
   {
    "duration": 290,
    "start_time": "2023-12-27T20:28:51.828Z"
   },
   {
    "duration": 18,
    "start_time": "2023-12-27T20:28:52.396Z"
   },
   {
    "duration": 60,
    "start_time": "2023-12-27T20:28:55.396Z"
   },
   {
    "duration": 50,
    "start_time": "2023-12-27T20:28:56.324Z"
   },
   {
    "duration": 49,
    "start_time": "2023-12-27T20:28:57.956Z"
   },
   {
    "duration": 449,
    "start_time": "2023-12-27T20:28:58.380Z"
   },
   {
    "duration": 120,
    "start_time": "2023-12-27T20:29:02.007Z"
   },
   {
    "duration": 20,
    "start_time": "2023-12-27T20:30:35.846Z"
   },
   {
    "duration": 57018,
    "start_time": "2023-12-27T20:30:50.334Z"
   },
   {
    "duration": 4,
    "start_time": "2023-12-27T20:31:56.955Z"
   },
   {
    "duration": 1640,
    "start_time": "2023-12-27T20:31:56.961Z"
   },
   {
    "duration": 22,
    "start_time": "2023-12-27T20:31:58.603Z"
   },
   {
    "duration": 9,
    "start_time": "2023-12-27T20:31:58.627Z"
   },
   {
    "duration": 1050,
    "start_time": "2023-12-27T20:31:58.638Z"
   },
   {
    "duration": 100,
    "start_time": "2023-12-27T20:31:59.689Z"
   },
   {
    "duration": 774,
    "start_time": "2023-12-27T20:31:59.791Z"
   },
   {
    "duration": 5306,
    "start_time": "2023-12-27T20:32:00.566Z"
   },
   {
    "duration": 214,
    "start_time": "2023-12-27T20:32:05.874Z"
   },
   {
    "duration": 171,
    "start_time": "2023-12-27T20:32:06.091Z"
   },
   {
    "duration": 336,
    "start_time": "2023-12-27T20:32:06.264Z"
   },
   {
    "duration": 24,
    "start_time": "2023-12-27T20:32:06.602Z"
   },
   {
    "duration": 57,
    "start_time": "2023-12-27T20:32:06.628Z"
   },
   {
    "duration": 76,
    "start_time": "2023-12-27T20:32:06.687Z"
   },
   {
    "duration": 75,
    "start_time": "2023-12-27T20:32:06.765Z"
   },
   {
    "duration": 479,
    "start_time": "2023-12-27T20:32:06.841Z"
   },
   {
    "duration": 124,
    "start_time": "2023-12-27T20:32:07.322Z"
   },
   {
    "duration": 49882,
    "start_time": "2023-12-27T20:32:07.447Z"
   },
   {
    "duration": 293,
    "start_time": "2023-12-27T20:32:57.331Z"
   },
   {
    "duration": 6,
    "start_time": "2023-12-27T20:32:57.626Z"
   },
   {
    "duration": 6468,
    "start_time": "2023-12-27T20:32:57.634Z"
   },
   {
    "duration": 0,
    "start_time": "2023-12-27T20:33:04.111Z"
   },
   {
    "duration": 0,
    "start_time": "2023-12-27T20:33:04.112Z"
   },
   {
    "duration": 0,
    "start_time": "2023-12-27T20:33:04.113Z"
   },
   {
    "duration": 0,
    "start_time": "2023-12-27T20:33:04.114Z"
   },
   {
    "duration": 20,
    "start_time": "2023-12-27T20:33:11.307Z"
   },
   {
    "duration": 44351,
    "start_time": "2023-12-27T20:33:17.368Z"
   },
   {
    "duration": 32,
    "start_time": "2023-12-27T20:34:25.729Z"
   },
   {
    "duration": 158431,
    "start_time": "2023-12-27T20:34:33.688Z"
   },
   {
    "duration": 5,
    "start_time": "2023-12-27T20:37:20.347Z"
   },
   {
    "duration": 8961,
    "start_time": "2023-12-27T20:37:21.051Z"
   },
   {
    "duration": 112,
    "start_time": "2023-12-27T20:37:30.778Z"
   },
   {
    "duration": 4,
    "start_time": "2023-12-27T20:37:31.666Z"
   },
   {
    "duration": 24738,
    "start_time": "2023-12-27T20:37:32.466Z"
   },
   {
    "duration": 3,
    "start_time": "2023-12-27T20:39:02.622Z"
   },
   {
    "duration": 4,
    "start_time": "2023-12-27T20:39:03.124Z"
   },
   {
    "duration": 20,
    "start_time": "2023-12-27T20:39:03.756Z"
   },
   {
    "duration": 8,
    "start_time": "2023-12-27T20:39:04.343Z"
   },
   {
    "duration": 950,
    "start_time": "2023-12-27T20:39:04.964Z"
   },
   {
    "duration": 81,
    "start_time": "2023-12-27T20:39:07.142Z"
   },
   {
    "duration": 774,
    "start_time": "2023-12-27T20:39:07.925Z"
   },
   {
    "duration": 5254,
    "start_time": "2023-12-27T20:39:10.076Z"
   },
   {
    "duration": 243,
    "start_time": "2023-12-27T20:39:15.333Z"
   },
   {
    "duration": 145,
    "start_time": "2023-12-27T20:39:16.100Z"
   },
   {
    "duration": 266,
    "start_time": "2023-12-27T20:39:17.293Z"
   },
   {
    "duration": 17,
    "start_time": "2023-12-27T20:39:20.475Z"
   },
   {
    "duration": 51,
    "start_time": "2023-12-27T20:39:22.204Z"
   },
   {
    "duration": 66,
    "start_time": "2023-12-27T20:39:24.259Z"
   },
   {
    "duration": 50,
    "start_time": "2023-12-27T20:39:25.708Z"
   },
   {
    "duration": 474,
    "start_time": "2023-12-27T20:39:26.076Z"
   },
   {
    "duration": 105,
    "start_time": "2023-12-27T20:39:31.572Z"
   },
   {
    "duration": 40599,
    "start_time": "2023-12-27T20:39:36.308Z"
   },
   {
    "duration": 74665,
    "start_time": "2023-12-27T20:40:17.974Z"
   },
   {
    "duration": 104,
    "start_time": "2023-12-27T20:42:40.998Z"
   },
   {
    "duration": 3,
    "start_time": "2023-12-27T20:42:55.344Z"
   },
   {
    "duration": 38897,
    "start_time": "2023-12-27T20:42:56.311Z"
   },
   {
    "duration": 4,
    "start_time": "2023-12-27T20:43:46.647Z"
   },
   {
    "duration": 45168,
    "start_time": "2023-12-27T20:43:47.448Z"
   },
   {
    "duration": 54257,
    "start_time": "2023-12-27T20:45:01.745Z"
   },
   {
    "duration": 3,
    "start_time": "2023-12-27T20:46:15.778Z"
   },
   {
    "duration": 3,
    "start_time": "2023-12-27T20:46:23.514Z"
   },
   {
    "duration": 68127,
    "start_time": "2023-12-27T20:46:24.179Z"
   },
   {
    "duration": 4,
    "start_time": "2023-12-27T20:47:32.563Z"
   },
   {
    "duration": 42998,
    "start_time": "2023-12-27T20:47:33.316Z"
   },
   {
    "duration": 3,
    "start_time": "2023-12-27T20:49:07.646Z"
   },
   {
    "duration": 1627,
    "start_time": "2023-12-27T20:49:07.651Z"
   },
   {
    "duration": 20,
    "start_time": "2023-12-27T20:49:09.279Z"
   },
   {
    "duration": 17,
    "start_time": "2023-12-27T20:49:09.302Z"
   },
   {
    "duration": 1002,
    "start_time": "2023-12-27T20:49:09.321Z"
   },
   {
    "duration": 90,
    "start_time": "2023-12-27T20:49:10.324Z"
   },
   {
    "duration": 764,
    "start_time": "2023-12-27T20:49:10.415Z"
   },
   {
    "duration": 5201,
    "start_time": "2023-12-27T20:49:11.181Z"
   },
   {
    "duration": 206,
    "start_time": "2023-12-27T20:49:16.384Z"
   },
   {
    "duration": 144,
    "start_time": "2023-12-27T20:49:16.592Z"
   },
   {
    "duration": 275,
    "start_time": "2023-12-27T20:49:16.737Z"
   },
   {
    "duration": 16,
    "start_time": "2023-12-27T20:49:17.014Z"
   },
   {
    "duration": 49,
    "start_time": "2023-12-27T20:49:17.031Z"
   },
   {
    "duration": 78,
    "start_time": "2023-12-27T20:49:17.083Z"
   },
   {
    "duration": 84,
    "start_time": "2023-12-27T20:49:17.163Z"
   },
   {
    "duration": 464,
    "start_time": "2023-12-27T20:49:17.249Z"
   },
   {
    "duration": 111,
    "start_time": "2023-12-27T20:49:17.715Z"
   },
   {
    "duration": 113,
    "start_time": "2023-12-27T20:49:24.772Z"
   },
   {
    "duration": 130,
    "start_time": "2023-12-27T20:49:26.300Z"
   },
   {
    "duration": 96552,
    "start_time": "2023-12-27T20:49:54.485Z"
   },
   {
    "duration": 75,
    "start_time": "2023-12-27T20:51:31.062Z"
   },
   {
    "duration": 24552,
    "start_time": "2023-12-27T20:51:41.454Z"
   },
   {
    "duration": 3,
    "start_time": "2023-12-27T20:53:16.031Z"
   },
   {
    "duration": 24740,
    "start_time": "2023-12-27T20:53:18.225Z"
   },
   {
    "duration": 871,
    "start_time": "2023-12-27T20:55:03.018Z"
   },
   {
    "duration": 628459,
    "start_time": "2023-12-27T20:55:05.530Z"
   },
   {
    "duration": 3,
    "start_time": "2023-12-27T21:05:45.981Z"
   },
   {
    "duration": 1673,
    "start_time": "2023-12-27T21:05:46.581Z"
   },
   {
    "duration": 19,
    "start_time": "2023-12-27T21:05:48.259Z"
   },
   {
    "duration": 8,
    "start_time": "2023-12-27T21:05:48.315Z"
   },
   {
    "duration": 1011,
    "start_time": "2023-12-27T21:05:49.864Z"
   },
   {
    "duration": 3797,
    "start_time": "2023-12-27T21:07:02.358Z"
   },
   {
    "duration": 2,
    "start_time": "2023-12-27T21:07:12.604Z"
   },
   {
    "duration": 4,
    "start_time": "2023-12-27T21:07:12.891Z"
   },
   {
    "duration": 98,
    "start_time": "2023-12-27T21:07:13.596Z"
   },
   {
    "duration": 9,
    "start_time": "2023-12-27T21:07:14.339Z"
   },
   {
    "duration": 1059,
    "start_time": "2023-12-27T21:07:16.636Z"
   },
   {
    "duration": 3606,
    "start_time": "2023-12-27T21:07:20.708Z"
   },
   {
    "duration": 216,
    "start_time": "2023-12-27T21:14:52.154Z"
   },
   {
    "duration": 2,
    "start_time": "2023-12-27T21:15:02.395Z"
   },
   {
    "duration": 4,
    "start_time": "2023-12-27T21:15:04.745Z"
   },
   {
    "duration": 16,
    "start_time": "2023-12-27T21:15:05.435Z"
   },
   {
    "duration": 8,
    "start_time": "2023-12-27T21:15:05.857Z"
   },
   {
    "duration": 995,
    "start_time": "2023-12-27T21:15:06.337Z"
   },
   {
    "duration": 3637,
    "start_time": "2023-12-27T21:15:07.412Z"
   },
   {
    "duration": 86,
    "start_time": "2023-12-27T21:15:11.050Z"
   },
   {
    "duration": 869,
    "start_time": "2023-12-27T21:15:11.138Z"
   },
   {
    "duration": 5279,
    "start_time": "2023-12-27T21:15:12.010Z"
   },
   {
    "duration": 194,
    "start_time": "2023-12-27T21:15:17.290Z"
   },
   {
    "duration": 162,
    "start_time": "2023-12-27T21:15:19.793Z"
   },
   {
    "duration": 304,
    "start_time": "2023-12-27T21:15:20.418Z"
   },
   {
    "duration": 20,
    "start_time": "2023-12-27T21:15:21.122Z"
   },
   {
    "duration": 64,
    "start_time": "2023-12-27T21:15:23.197Z"
   },
   {
    "duration": 53,
    "start_time": "2023-12-27T21:15:23.929Z"
   },
   {
    "duration": 49,
    "start_time": "2023-12-27T21:15:25.649Z"
   },
   {
    "duration": 445,
    "start_time": "2023-12-27T21:15:26.217Z"
   },
   {
    "duration": 111,
    "start_time": "2023-12-27T21:15:30.945Z"
   },
   {
    "duration": 3,
    "start_time": "2023-12-27T21:15:38.562Z"
   },
   {
    "duration": 1514116,
    "start_time": "2023-12-27T21:15:40.612Z"
   },
   {
    "duration": 903,
    "start_time": "2023-12-27T21:40:54.731Z"
   },
   {
    "duration": 3,
    "start_time": "2023-12-27T21:44:15.551Z"
   },
   {
    "duration": 1617,
    "start_time": "2023-12-27T21:44:15.555Z"
   },
   {
    "duration": 17,
    "start_time": "2023-12-27T21:44:17.174Z"
   },
   {
    "duration": 9,
    "start_time": "2023-12-27T21:44:17.192Z"
   },
   {
    "duration": 1070,
    "start_time": "2023-12-27T21:44:17.211Z"
   },
   {
    "duration": 3548,
    "start_time": "2023-12-27T21:44:18.282Z"
   },
   {
    "duration": 87,
    "start_time": "2023-12-27T21:44:21.833Z"
   },
   {
    "duration": 802,
    "start_time": "2023-12-27T21:44:21.922Z"
   },
   {
    "duration": 5332,
    "start_time": "2023-12-27T21:44:22.725Z"
   },
   {
    "duration": 174,
    "start_time": "2023-12-27T21:44:28.059Z"
   },
   {
    "duration": 144,
    "start_time": "2023-12-27T21:44:28.234Z"
   },
   {
    "duration": 297,
    "start_time": "2023-12-27T21:44:28.379Z"
   },
   {
    "duration": 15,
    "start_time": "2023-12-27T21:44:28.678Z"
   },
   {
    "duration": 79,
    "start_time": "2023-12-27T21:44:28.697Z"
   },
   {
    "duration": 69,
    "start_time": "2023-12-27T21:44:28.778Z"
   },
   {
    "duration": 62,
    "start_time": "2023-12-27T21:44:28.849Z"
   },
   {
    "duration": 490,
    "start_time": "2023-12-27T21:44:28.913Z"
   },
   {
    "duration": 137,
    "start_time": "2023-12-27T21:44:29.404Z"
   },
   {
    "duration": 4,
    "start_time": "2023-12-27T21:44:29.542Z"
   },
   {
    "duration": 3,
    "start_time": "2023-12-27T21:44:35.478Z"
   },
   {
    "duration": 3,
    "start_time": "2023-12-27T21:47:40.908Z"
   },
   {
    "duration": 8,
    "start_time": "2023-12-27T21:47:40.914Z"
   },
   {
    "duration": 19,
    "start_time": "2023-12-27T21:47:40.924Z"
   },
   {
    "duration": 8,
    "start_time": "2023-12-27T21:47:40.944Z"
   },
   {
    "duration": 951,
    "start_time": "2023-12-27T21:47:40.954Z"
   },
   {
    "duration": 4008,
    "start_time": "2023-12-27T21:47:41.910Z"
   },
   {
    "duration": 87,
    "start_time": "2023-12-27T21:47:45.920Z"
   },
   {
    "duration": 792,
    "start_time": "2023-12-27T21:47:46.010Z"
   },
   {
    "duration": 5314,
    "start_time": "2023-12-27T21:47:46.803Z"
   },
   {
    "duration": 191,
    "start_time": "2023-12-27T21:47:52.119Z"
   },
   {
    "duration": 158,
    "start_time": "2023-12-27T21:47:52.313Z"
   },
   {
    "duration": 288,
    "start_time": "2023-12-27T21:47:52.473Z"
   },
   {
    "duration": 15,
    "start_time": "2023-12-27T21:47:52.763Z"
   },
   {
    "duration": 66,
    "start_time": "2023-12-27T21:47:52.780Z"
   },
   {
    "duration": 49,
    "start_time": "2023-12-27T21:47:52.847Z"
   },
   {
    "duration": 58,
    "start_time": "2023-12-27T21:47:52.898Z"
   },
   {
    "duration": 431,
    "start_time": "2023-12-27T21:47:52.957Z"
   },
   {
    "duration": 109,
    "start_time": "2023-12-27T21:47:53.389Z"
   },
   {
    "duration": 3,
    "start_time": "2023-12-27T21:47:53.500Z"
   },
   {
    "duration": 34550,
    "start_time": "2023-12-27T21:47:57.464Z"
   },
   {
    "duration": 3,
    "start_time": "2023-12-27T21:49:28.177Z"
   },
   {
    "duration": 6,
    "start_time": "2023-12-27T21:49:28.181Z"
   },
   {
    "duration": 25,
    "start_time": "2023-12-27T21:49:28.188Z"
   },
   {
    "duration": 10,
    "start_time": "2023-12-27T21:49:28.215Z"
   },
   {
    "duration": 871,
    "start_time": "2023-12-27T21:49:28.227Z"
   },
   {
    "duration": 3565,
    "start_time": "2023-12-27T21:49:29.111Z"
   },
   {
    "duration": 82,
    "start_time": "2023-12-27T21:49:32.677Z"
   },
   {
    "duration": 785,
    "start_time": "2023-12-27T21:49:32.761Z"
   },
   {
    "duration": 4893,
    "start_time": "2023-12-27T21:49:33.547Z"
   },
   {
    "duration": 175,
    "start_time": "2023-12-27T21:49:38.441Z"
   },
   {
    "duration": 140,
    "start_time": "2023-12-27T21:49:38.617Z"
   },
   {
    "duration": 267,
    "start_time": "2023-12-27T21:49:38.759Z"
   },
   {
    "duration": 16,
    "start_time": "2023-12-27T21:49:39.027Z"
   },
   {
    "duration": 70,
    "start_time": "2023-12-27T21:49:39.045Z"
   },
   {
    "duration": 62,
    "start_time": "2023-12-27T21:49:39.117Z"
   },
   {
    "duration": 67,
    "start_time": "2023-12-27T21:49:39.180Z"
   },
   {
    "duration": 458,
    "start_time": "2023-12-27T21:49:39.248Z"
   },
   {
    "duration": 192,
    "start_time": "2023-12-27T21:49:39.707Z"
   },
   {
    "duration": 4,
    "start_time": "2023-12-27T21:49:39.900Z"
   },
   {
    "duration": 78796,
    "start_time": "2023-12-27T21:49:43.946Z"
   },
   {
    "duration": 66373,
    "start_time": "2023-12-27T21:51:16.747Z"
   },
   {
    "duration": 3,
    "start_time": "2023-12-27T21:53:11.005Z"
   },
   {
    "duration": 1641,
    "start_time": "2023-12-27T21:53:11.010Z"
   },
   {
    "duration": 18,
    "start_time": "2023-12-27T21:53:12.653Z"
   },
   {
    "duration": 12,
    "start_time": "2023-12-27T21:53:12.673Z"
   },
   {
    "duration": 1045,
    "start_time": "2023-12-27T21:53:12.687Z"
   },
   {
    "duration": 3309,
    "start_time": "2023-12-27T21:53:13.734Z"
   },
   {
    "duration": 90,
    "start_time": "2023-12-27T21:53:17.045Z"
   },
   {
    "duration": 793,
    "start_time": "2023-12-27T21:53:17.136Z"
   },
   {
    "duration": 5463,
    "start_time": "2023-12-27T21:53:17.930Z"
   },
   {
    "duration": 215,
    "start_time": "2023-12-27T21:53:23.396Z"
   },
   {
    "duration": 159,
    "start_time": "2023-12-27T21:53:23.613Z"
   },
   {
    "duration": 278,
    "start_time": "2023-12-27T21:53:23.773Z"
   },
   {
    "duration": 18,
    "start_time": "2023-12-27T21:53:24.052Z"
   },
   {
    "duration": 66,
    "start_time": "2023-12-27T21:53:24.073Z"
   },
   {
    "duration": 50,
    "start_time": "2023-12-27T21:53:24.140Z"
   },
   {
    "duration": 65,
    "start_time": "2023-12-27T21:53:24.191Z"
   },
   {
    "duration": 466,
    "start_time": "2023-12-27T21:53:24.257Z"
   },
   {
    "duration": 110,
    "start_time": "2023-12-27T21:53:24.724Z"
   },
   {
    "duration": 4,
    "start_time": "2023-12-27T21:53:24.836Z"
   },
   {
    "duration": 158597,
    "start_time": "2023-12-27T21:53:24.842Z"
   },
   {
    "duration": 3,
    "start_time": "2023-12-27T21:56:08.863Z"
   },
   {
    "duration": 175725,
    "start_time": "2023-12-27T21:56:10.270Z"
   },
   {
    "duration": 5,
    "start_time": "2023-12-27T21:59:07.412Z"
   },
   {
    "duration": 69131,
    "start_time": "2023-12-27T21:59:08.392Z"
   },
   {
    "duration": 978,
    "start_time": "2023-12-27T22:00:27.689Z"
   },
   {
    "duration": 242468,
    "start_time": "2023-12-27T22:00:29.961Z"
   },
   {
    "duration": 4,
    "start_time": "2023-12-27T22:04:42.901Z"
   },
   {
    "duration": 64,
    "start_time": "2023-12-27T22:08:04.871Z"
   },
   {
    "duration": 2557512,
    "start_time": "2023-12-27T22:08:17.423Z"
   },
   {
    "duration": 5,
    "start_time": "2023-12-27T22:50:54.937Z"
   },
   {
    "duration": 5,
    "start_time": "2023-12-27T22:50:54.943Z"
   },
   {
    "duration": 79,
    "start_time": "2023-12-27T22:51:33.432Z"
   },
   {
    "duration": 5,
    "start_time": "2023-12-27T22:51:48.097Z"
   },
   {
    "duration": 89,
    "start_time": "2023-12-27T22:52:28.906Z"
   },
   {
    "duration": 2583200,
    "start_time": "2023-12-27T22:52:49.026Z"
   },
   {
    "duration": 17,
    "start_time": "2023-12-27T23:36:49.308Z"
   },
   {
    "duration": 11,
    "start_time": "2023-12-27T23:37:05.156Z"
   },
   {
    "duration": 13,
    "start_time": "2023-12-27T23:37:18.996Z"
   },
   {
    "duration": 8,
    "start_time": "2023-12-27T23:37:25.164Z"
   },
   {
    "duration": 4,
    "start_time": "2023-12-27T23:39:06.181Z"
   },
   {
    "duration": 148757,
    "start_time": "2023-12-27T23:41:10.927Z"
   },
   {
    "duration": 37,
    "start_time": "2023-12-27T23:49:00.277Z"
   },
   {
    "duration": 166872,
    "start_time": "2023-12-27T23:49:36.053Z"
   },
   {
    "duration": 9694,
    "start_time": "2023-12-27T23:56:19.099Z"
   },
   {
    "duration": 3,
    "start_time": "2023-12-28T00:06:36.193Z"
   },
   {
    "duration": 1599,
    "start_time": "2023-12-28T00:06:36.199Z"
   },
   {
    "duration": 17,
    "start_time": "2023-12-28T00:06:37.800Z"
   },
   {
    "duration": 11,
    "start_time": "2023-12-28T00:06:37.819Z"
   },
   {
    "duration": 1504,
    "start_time": "2023-12-28T00:06:37.832Z"
   },
   {
    "duration": 203,
    "start_time": "2023-12-28T00:06:39.337Z"
   },
   {
    "duration": 7,
    "start_time": "2023-12-28T00:06:39.542Z"
   },
   {
    "duration": 62,
    "start_time": "2023-12-28T00:06:39.550Z"
   },
   {
    "duration": 2047,
    "start_time": "2023-12-28T00:06:39.614Z"
   },
   {
    "duration": 10,
    "start_time": "2023-12-28T00:06:41.663Z"
   },
   {
    "duration": 19,
    "start_time": "2023-12-28T00:06:41.674Z"
   },
   {
    "duration": 29,
    "start_time": "2023-12-28T00:06:41.696Z"
   },
   {
    "duration": 9,
    "start_time": "2023-12-28T00:06:41.727Z"
   },
   {
    "duration": 9,
    "start_time": "2023-12-28T00:06:41.739Z"
   },
   {
    "duration": 7,
    "start_time": "2023-12-28T00:06:41.749Z"
   },
   {
    "duration": 13,
    "start_time": "2023-12-28T00:06:41.758Z"
   },
   {
    "duration": 86,
    "start_time": "2023-12-28T00:06:41.772Z"
   },
   {
    "duration": 9,
    "start_time": "2023-12-28T00:06:41.859Z"
   },
   {
    "duration": 3,
    "start_time": "2023-12-28T00:06:41.869Z"
   },
   {
    "duration": 23300,
    "start_time": "2023-12-28T00:06:41.874Z"
   },
   {
    "duration": 30,
    "start_time": "2023-12-28T00:07:05.176Z"
   },
   {
    "duration": 97,
    "start_time": "2023-12-28T00:07:05.207Z"
   },
   {
    "duration": 91,
    "start_time": "2023-12-28T00:07:05.306Z"
   },
   {
    "duration": 0,
    "start_time": "2023-12-28T00:07:05.399Z"
   },
   {
    "duration": 0,
    "start_time": "2023-12-28T00:07:05.400Z"
   },
   {
    "duration": 0,
    "start_time": "2023-12-28T00:07:05.401Z"
   },
   {
    "duration": 19,
    "start_time": "2023-12-28T00:09:04.551Z"
   },
   {
    "duration": 20,
    "start_time": "2023-12-28T00:09:18.110Z"
   },
   {
    "duration": 4,
    "start_time": "2023-12-28T00:10:03.190Z"
   },
   {
    "duration": 1712,
    "start_time": "2023-12-28T00:10:03.195Z"
   },
   {
    "duration": 17,
    "start_time": "2023-12-28T00:10:04.909Z"
   },
   {
    "duration": 7,
    "start_time": "2023-12-28T00:10:04.928Z"
   },
   {
    "duration": 849,
    "start_time": "2023-12-28T00:10:04.937Z"
   },
   {
    "duration": 7,
    "start_time": "2023-12-28T00:10:05.788Z"
   },
   {
    "duration": 75,
    "start_time": "2023-12-28T00:10:05.796Z"
   },
   {
    "duration": 2063,
    "start_time": "2023-12-28T00:10:05.872Z"
   },
   {
    "duration": 9,
    "start_time": "2023-12-28T00:10:07.936Z"
   },
   {
    "duration": 11,
    "start_time": "2023-12-28T00:10:07.947Z"
   },
   {
    "duration": 23,
    "start_time": "2023-12-28T00:10:07.959Z"
   },
   {
    "duration": 8,
    "start_time": "2023-12-28T00:10:07.983Z"
   },
   {
    "duration": 25,
    "start_time": "2023-12-28T00:10:07.992Z"
   },
   {
    "duration": 12,
    "start_time": "2023-12-28T00:10:08.018Z"
   },
   {
    "duration": 16,
    "start_time": "2023-12-28T00:10:08.031Z"
   },
   {
    "duration": 64,
    "start_time": "2023-12-28T00:10:08.048Z"
   },
   {
    "duration": 8,
    "start_time": "2023-12-28T00:10:08.114Z"
   },
   {
    "duration": 3,
    "start_time": "2023-12-28T00:10:08.123Z"
   },
   {
    "duration": 23436,
    "start_time": "2023-12-28T00:10:08.127Z"
   },
   {
    "duration": 56,
    "start_time": "2023-12-28T00:10:31.565Z"
   },
   {
    "duration": 108,
    "start_time": "2023-12-28T00:10:31.623Z"
   },
   {
    "duration": 89,
    "start_time": "2023-12-28T00:10:31.733Z"
   },
   {
    "duration": 0,
    "start_time": "2023-12-28T00:10:31.823Z"
   },
   {
    "duration": 0,
    "start_time": "2023-12-28T00:10:31.824Z"
   },
   {
    "duration": 0,
    "start_time": "2023-12-28T00:10:31.826Z"
   },
   {
    "duration": 130,
    "start_time": "2023-12-28T00:10:58.438Z"
   },
   {
    "duration": 18,
    "start_time": "2023-12-28T00:13:05.262Z"
   },
   {
    "duration": 30702,
    "start_time": "2023-12-28T00:14:37.512Z"
   },
   {
    "duration": 4,
    "start_time": "2023-12-28T00:15:16.574Z"
   },
   {
    "duration": 1614,
    "start_time": "2023-12-28T00:15:16.580Z"
   },
   {
    "duration": 20,
    "start_time": "2023-12-28T00:15:18.196Z"
   },
   {
    "duration": 8,
    "start_time": "2023-12-28T00:15:18.217Z"
   },
   {
    "duration": 893,
    "start_time": "2023-12-28T00:15:18.227Z"
   },
   {
    "duration": 6,
    "start_time": "2023-12-28T00:15:19.124Z"
   },
   {
    "duration": 50,
    "start_time": "2023-12-28T00:15:19.131Z"
   },
   {
    "duration": 1939,
    "start_time": "2023-12-28T00:15:19.182Z"
   },
   {
    "duration": 10,
    "start_time": "2023-12-28T00:15:21.122Z"
   },
   {
    "duration": 11,
    "start_time": "2023-12-28T00:15:21.133Z"
   },
   {
    "duration": 20,
    "start_time": "2023-12-28T00:15:21.145Z"
   },
   {
    "duration": 8,
    "start_time": "2023-12-28T00:15:21.167Z"
   },
   {
    "duration": 39,
    "start_time": "2023-12-28T00:15:21.179Z"
   },
   {
    "duration": 7,
    "start_time": "2023-12-28T00:15:21.219Z"
   },
   {
    "duration": 5,
    "start_time": "2023-12-28T00:15:21.227Z"
   },
   {
    "duration": 57,
    "start_time": "2023-12-28T00:15:21.233Z"
   },
   {
    "duration": 25,
    "start_time": "2023-12-28T00:15:21.291Z"
   },
   {
    "duration": 3,
    "start_time": "2023-12-28T00:15:21.318Z"
   },
   {
    "duration": 20,
    "start_time": "2023-12-28T00:15:21.322Z"
   },
   {
    "duration": 30592,
    "start_time": "2023-12-28T00:15:21.344Z"
   },
   {
    "duration": 88,
    "start_time": "2023-12-28T00:15:51.938Z"
   },
   {
    "duration": 191,
    "start_time": "2023-12-28T00:15:52.028Z"
   },
   {
    "duration": 104,
    "start_time": "2023-12-28T00:15:52.221Z"
   },
   {
    "duration": 0,
    "start_time": "2023-12-28T00:15:52.327Z"
   },
   {
    "duration": 0,
    "start_time": "2023-12-28T00:15:52.328Z"
   },
   {
    "duration": 0,
    "start_time": "2023-12-28T00:15:52.329Z"
   },
   {
    "duration": 3,
    "start_time": "2023-12-28T00:17:11.157Z"
   },
   {
    "duration": 1542,
    "start_time": "2023-12-28T00:17:11.162Z"
   },
   {
    "duration": 18,
    "start_time": "2023-12-28T00:17:12.705Z"
   },
   {
    "duration": 12,
    "start_time": "2023-12-28T00:17:12.724Z"
   },
   {
    "duration": 1086,
    "start_time": "2023-12-28T00:17:12.737Z"
   },
   {
    "duration": 136,
    "start_time": "2023-12-28T00:17:13.824Z"
   },
   {
    "duration": 1139,
    "start_time": "2023-12-28T00:17:14.011Z"
   },
   {
    "duration": 4760,
    "start_time": "2023-12-28T00:17:15.151Z"
   },
   {
    "duration": 197,
    "start_time": "2023-12-28T00:17:19.912Z"
   },
   {
    "duration": 162,
    "start_time": "2023-12-28T00:17:20.112Z"
   },
   {
    "duration": 280,
    "start_time": "2023-12-28T00:17:20.276Z"
   },
   {
    "duration": 17,
    "start_time": "2023-12-28T00:17:20.558Z"
   },
   {
    "duration": 65,
    "start_time": "2023-12-28T00:17:20.577Z"
   },
   {
    "duration": 50,
    "start_time": "2023-12-28T00:17:20.643Z"
   },
   {
    "duration": 64,
    "start_time": "2023-12-28T00:17:20.694Z"
   },
   {
    "duration": 434,
    "start_time": "2023-12-28T00:17:20.760Z"
   },
   {
    "duration": 105,
    "start_time": "2023-12-28T00:17:21.196Z"
   },
   {
    "duration": 3,
    "start_time": "2023-12-28T00:17:21.311Z"
   },
   {
    "duration": 49908,
    "start_time": "2023-12-28T00:17:21.316Z"
   },
   {
    "duration": 834,
    "start_time": "2023-12-28T00:18:11.225Z"
   },
   {
    "duration": 236,
    "start_time": "2023-12-28T00:18:12.060Z"
   },
   {
    "duration": 113,
    "start_time": "2023-12-28T00:18:12.298Z"
   },
   {
    "duration": 0,
    "start_time": "2023-12-28T00:18:12.413Z"
   },
   {
    "duration": 0,
    "start_time": "2023-12-28T00:18:12.414Z"
   },
   {
    "duration": 0,
    "start_time": "2023-12-28T00:18:12.415Z"
   },
   {
    "duration": 197648,
    "start_time": "2023-12-28T00:19:46.491Z"
   },
   {
    "duration": 344,
    "start_time": "2023-12-28T00:23:10.749Z"
   },
   {
    "duration": 112,
    "start_time": "2023-12-28T00:23:25.669Z"
   },
   {
    "duration": 101,
    "start_time": "2023-12-28T00:23:46.134Z"
   },
   {
    "duration": 70,
    "start_time": "2023-12-28T00:23:57.853Z"
   },
   {
    "duration": 78,
    "start_time": "2023-12-28T00:24:01.982Z"
   },
   {
    "duration": 6,
    "start_time": "2023-12-28T00:24:06.069Z"
   },
   {
    "duration": 38834,
    "start_time": "2023-12-28T00:24:11.957Z"
   },
   {
    "duration": 4,
    "start_time": "2023-12-28T00:25:03.968Z"
   },
   {
    "duration": 1551,
    "start_time": "2023-12-28T00:25:03.974Z"
   },
   {
    "duration": 19,
    "start_time": "2023-12-28T00:25:05.526Z"
   },
   {
    "duration": 9,
    "start_time": "2023-12-28T00:25:05.547Z"
   },
   {
    "duration": 859,
    "start_time": "2023-12-28T00:25:05.558Z"
   },
   {
    "duration": 7,
    "start_time": "2023-12-28T00:25:06.418Z"
   },
   {
    "duration": 54,
    "start_time": "2023-12-28T00:25:06.426Z"
   },
   {
    "duration": 2542,
    "start_time": "2023-12-28T00:25:06.482Z"
   },
   {
    "duration": 8,
    "start_time": "2023-12-28T00:25:09.026Z"
   },
   {
    "duration": 9,
    "start_time": "2023-12-28T00:25:09.036Z"
   },
   {
    "duration": 71,
    "start_time": "2023-12-28T00:25:09.046Z"
   },
   {
    "duration": 8,
    "start_time": "2023-12-28T00:25:09.118Z"
   },
   {
    "duration": 8,
    "start_time": "2023-12-28T00:25:09.127Z"
   },
   {
    "duration": 7,
    "start_time": "2023-12-28T00:25:09.136Z"
   },
   {
    "duration": 9,
    "start_time": "2023-12-28T00:25:09.144Z"
   },
   {
    "duration": 162,
    "start_time": "2023-12-28T00:25:09.154Z"
   },
   {
    "duration": 8,
    "start_time": "2023-12-28T00:25:09.318Z"
   },
   {
    "duration": 4,
    "start_time": "2023-12-28T00:25:09.327Z"
   },
   {
    "duration": 23104,
    "start_time": "2023-12-28T00:25:09.333Z"
   },
   {
    "duration": 31,
    "start_time": "2023-12-28T00:25:32.438Z"
   },
   {
    "duration": 2,
    "start_time": "2023-12-28T00:25:50.301Z"
   },
   {
    "duration": 1570,
    "start_time": "2023-12-28T00:25:50.305Z"
   },
   {
    "duration": 17,
    "start_time": "2023-12-28T00:25:51.876Z"
   },
   {
    "duration": 8,
    "start_time": "2023-12-28T00:25:51.894Z"
   },
   {
    "duration": 841,
    "start_time": "2023-12-28T00:25:51.910Z"
   },
   {
    "duration": 7,
    "start_time": "2023-12-28T00:25:52.752Z"
   },
   {
    "duration": 62,
    "start_time": "2023-12-28T00:25:52.760Z"
   },
   {
    "duration": 1923,
    "start_time": "2023-12-28T00:25:52.823Z"
   },
   {
    "duration": 9,
    "start_time": "2023-12-28T00:25:54.747Z"
   },
   {
    "duration": 13,
    "start_time": "2023-12-28T00:25:54.757Z"
   },
   {
    "duration": 22,
    "start_time": "2023-12-28T00:25:54.771Z"
   },
   {
    "duration": 20,
    "start_time": "2023-12-28T00:25:54.795Z"
   },
   {
    "duration": 7,
    "start_time": "2023-12-28T00:25:54.817Z"
   },
   {
    "duration": 6,
    "start_time": "2023-12-28T00:25:54.826Z"
   },
   {
    "duration": 11,
    "start_time": "2023-12-28T00:25:54.833Z"
   },
   {
    "duration": 75,
    "start_time": "2023-12-28T00:25:54.845Z"
   },
   {
    "duration": 8,
    "start_time": "2023-12-28T00:25:54.921Z"
   },
   {
    "duration": 16,
    "start_time": "2023-12-28T00:25:54.930Z"
   },
   {
    "duration": 31475,
    "start_time": "2023-12-28T00:25:54.947Z"
   },
   {
    "duration": 31,
    "start_time": "2023-12-28T00:26:26.424Z"
   },
   {
    "duration": 21473,
    "start_time": "2023-12-28T00:26:26.456Z"
   },
   {
    "duration": 5,
    "start_time": "2023-12-28T00:26:47.930Z"
   },
   {
    "duration": 625001,
    "start_time": "2023-12-28T00:26:47.937Z"
   },
   {
    "duration": 3552,
    "start_time": "2023-12-28T00:37:12.940Z"
   },
   {
    "duration": 9,
    "start_time": "2023-12-28T00:37:16.494Z"
   },
   {
    "duration": 4,
    "start_time": "2023-12-28T00:37:21.987Z"
   },
   {
    "duration": 1724,
    "start_time": "2023-12-28T00:37:21.993Z"
   },
   {
    "duration": 17,
    "start_time": "2023-12-28T00:37:23.718Z"
   },
   {
    "duration": 7,
    "start_time": "2023-12-28T00:37:23.738Z"
   },
   {
    "duration": 1345,
    "start_time": "2023-12-28T00:37:23.747Z"
   },
   {
    "duration": 7,
    "start_time": "2023-12-28T00:37:25.093Z"
   },
   {
    "duration": 64,
    "start_time": "2023-12-28T00:37:25.102Z"
   },
   {
    "duration": 1949,
    "start_time": "2023-12-28T00:37:25.168Z"
   },
   {
    "duration": 10,
    "start_time": "2023-12-28T00:37:27.118Z"
   },
   {
    "duration": 10,
    "start_time": "2023-12-28T00:37:27.130Z"
   },
   {
    "duration": 19,
    "start_time": "2023-12-28T00:37:27.141Z"
   },
   {
    "duration": 8,
    "start_time": "2023-12-28T00:37:27.161Z"
   },
   {
    "duration": 8,
    "start_time": "2023-12-28T00:37:27.170Z"
   },
   {
    "duration": 35,
    "start_time": "2023-12-28T00:37:27.180Z"
   },
   {
    "duration": 8,
    "start_time": "2023-12-28T00:37:27.217Z"
   },
   {
    "duration": 59,
    "start_time": "2023-12-28T00:37:27.227Z"
   },
   {
    "duration": 24,
    "start_time": "2023-12-28T00:37:27.287Z"
   },
   {
    "duration": 3,
    "start_time": "2023-12-28T00:37:27.312Z"
   },
   {
    "duration": 30206,
    "start_time": "2023-12-28T00:37:27.316Z"
   },
   {
    "duration": 31,
    "start_time": "2023-12-28T00:37:57.523Z"
   },
   {
    "duration": 21568,
    "start_time": "2023-12-28T00:37:57.556Z"
   },
   {
    "duration": 6,
    "start_time": "2023-12-28T00:38:19.125Z"
   },
   {
    "duration": 365284,
    "start_time": "2023-12-28T00:38:19.132Z"
   },
   {
    "duration": 4,
    "start_time": "2023-12-28T00:44:24.417Z"
   },
   {
    "duration": 0,
    "start_time": "2023-12-28T00:44:24.422Z"
   },
   {
    "duration": 3,
    "start_time": "2023-12-28T00:44:33.147Z"
   },
   {
    "duration": 10588,
    "start_time": "2023-12-28T00:44:37.315Z"
   },
   {
    "duration": 10,
    "start_time": "2023-12-28T00:44:56.403Z"
   },
   {
    "duration": 7,
    "start_time": "2023-12-28T00:45:17.723Z"
   },
   {
    "duration": 8968,
    "start_time": "2023-12-28T00:45:36.331Z"
   },
   {
    "duration": 103153,
    "start_time": "2023-12-28T00:45:52.475Z"
   },
   {
    "duration": 2,
    "start_time": "2023-12-28T00:54:27.836Z"
   },
   {
    "duration": 1579,
    "start_time": "2023-12-28T00:54:27.840Z"
   },
   {
    "duration": 19,
    "start_time": "2023-12-28T00:54:29.421Z"
   },
   {
    "duration": 9,
    "start_time": "2023-12-28T00:54:29.441Z"
   },
   {
    "duration": 1273,
    "start_time": "2023-12-28T00:54:29.452Z"
   },
   {
    "duration": 7,
    "start_time": "2023-12-28T00:54:30.726Z"
   },
   {
    "duration": 178,
    "start_time": "2023-12-28T00:54:30.734Z"
   },
   {
    "duration": 2213,
    "start_time": "2023-12-28T00:54:30.913Z"
   },
   {
    "duration": 9,
    "start_time": "2023-12-28T00:54:33.128Z"
   },
   {
    "duration": 16,
    "start_time": "2023-12-28T00:54:33.138Z"
   },
   {
    "duration": 20,
    "start_time": "2023-12-28T00:54:33.155Z"
   },
   {
    "duration": 8,
    "start_time": "2023-12-28T00:54:33.176Z"
   },
   {
    "duration": 28,
    "start_time": "2023-12-28T00:54:33.185Z"
   },
   {
    "duration": 7,
    "start_time": "2023-12-28T00:54:33.215Z"
   },
   {
    "duration": 6,
    "start_time": "2023-12-28T00:54:33.223Z"
   },
   {
    "duration": 60,
    "start_time": "2023-12-28T00:54:33.231Z"
   },
   {
    "duration": 24,
    "start_time": "2023-12-28T00:54:33.292Z"
   },
   {
    "duration": 3,
    "start_time": "2023-12-28T00:54:33.318Z"
   },
   {
    "duration": 30595,
    "start_time": "2023-12-28T00:54:33.322Z"
   },
   {
    "duration": 32,
    "start_time": "2023-12-28T00:55:03.919Z"
   },
   {
    "duration": 21780,
    "start_time": "2023-12-28T00:55:03.953Z"
   },
   {
    "duration": 76,
    "start_time": "2023-12-28T00:55:25.735Z"
   },
   {
    "duration": 234799,
    "start_time": "2023-12-28T00:55:25.813Z"
   },
   {
    "duration": 10,
    "start_time": "2023-12-28T00:59:20.614Z"
   },
   {
    "duration": 8,
    "start_time": "2023-12-28T00:59:20.625Z"
   },
   {
    "duration": 0,
    "start_time": "2023-12-28T00:59:20.634Z"
   },
   {
    "duration": 2,
    "start_time": "2023-12-28T00:59:25.768Z"
   },
   {
    "duration": 1598,
    "start_time": "2023-12-28T00:59:25.772Z"
   },
   {
    "duration": 17,
    "start_time": "2023-12-28T00:59:27.372Z"
   },
   {
    "duration": 8,
    "start_time": "2023-12-28T00:59:27.391Z"
   },
   {
    "duration": 1009,
    "start_time": "2023-12-28T00:59:27.401Z"
   },
   {
    "duration": 7,
    "start_time": "2023-12-28T00:59:28.411Z"
   },
   {
    "duration": 53,
    "start_time": "2023-12-28T00:59:28.419Z"
   },
   {
    "duration": 2029,
    "start_time": "2023-12-28T00:59:28.474Z"
   },
   {
    "duration": 13,
    "start_time": "2023-12-28T00:59:30.505Z"
   },
   {
    "duration": 37,
    "start_time": "2023-12-28T00:59:30.519Z"
   },
   {
    "duration": 49,
    "start_time": "2023-12-28T00:59:30.557Z"
   },
   {
    "duration": 37,
    "start_time": "2023-12-28T00:59:30.607Z"
   },
   {
    "duration": 32,
    "start_time": "2023-12-28T00:59:30.646Z"
   },
   {
    "duration": 36,
    "start_time": "2023-12-28T00:59:30.681Z"
   },
   {
    "duration": 32,
    "start_time": "2023-12-28T00:59:30.718Z"
   },
   {
    "duration": 121,
    "start_time": "2023-12-28T00:59:30.751Z"
   },
   {
    "duration": 9,
    "start_time": "2023-12-28T00:59:30.873Z"
   },
   {
    "duration": 31,
    "start_time": "2023-12-28T00:59:30.884Z"
   },
   {
    "duration": 30499,
    "start_time": "2023-12-28T00:59:30.917Z"
   },
   {
    "duration": 93,
    "start_time": "2023-12-28T01:00:01.418Z"
   },
   {
    "duration": 23217,
    "start_time": "2023-12-28T01:00:01.513Z"
   },
   {
    "duration": 6,
    "start_time": "2023-12-28T01:00:24.732Z"
   },
   {
    "duration": 734373,
    "start_time": "2023-12-28T01:00:24.739Z"
   },
   {
    "duration": 9,
    "start_time": "2023-12-28T01:12:39.114Z"
   },
   {
    "duration": 3,
    "start_time": "2023-12-28T01:12:39.125Z"
   },
   {
    "duration": 0,
    "start_time": "2023-12-28T01:12:39.130Z"
   },
   {
    "duration": 3,
    "start_time": "2023-12-28T01:14:01.074Z"
   },
   {
    "duration": 9,
    "start_time": "2023-12-28T01:14:58.298Z"
   },
   {
    "duration": 9,
    "start_time": "2023-12-28T01:15:41.794Z"
   },
   {
    "duration": 23117,
    "start_time": "2023-12-28T01:16:10.899Z"
   },
   {
    "duration": 2,
    "start_time": "2023-12-28T01:19:31.799Z"
   },
   {
    "duration": 3,
    "start_time": "2023-12-28T01:19:38.447Z"
   },
   {
    "duration": 1590,
    "start_time": "2023-12-28T01:19:39.189Z"
   },
   {
    "duration": 30,
    "start_time": "2023-12-28T01:19:40.781Z"
   },
   {
    "duration": 7,
    "start_time": "2023-12-28T01:19:41.101Z"
   },
   {
    "duration": 3900,
    "start_time": "2023-12-28T01:19:42.053Z"
   },
   {
    "duration": 3,
    "start_time": "2023-12-28T01:20:25.287Z"
   },
   {
    "duration": 1588,
    "start_time": "2023-12-28T01:20:25.293Z"
   },
   {
    "duration": 18,
    "start_time": "2023-12-28T01:20:26.882Z"
   },
   {
    "duration": 10,
    "start_time": "2023-12-28T01:20:26.902Z"
   },
   {
    "duration": 4339,
    "start_time": "2023-12-28T01:20:26.914Z"
   },
   {
    "duration": 97,
    "start_time": "2023-12-28T01:20:31.255Z"
   },
   {
    "duration": 781,
    "start_time": "2023-12-28T01:20:31.354Z"
   },
   {
    "duration": 4785,
    "start_time": "2023-12-28T01:20:32.136Z"
   },
   {
    "duration": 189,
    "start_time": "2023-12-28T01:20:36.922Z"
   },
   {
    "duration": 139,
    "start_time": "2023-12-28T01:20:37.114Z"
   },
   {
    "duration": 261,
    "start_time": "2023-12-28T01:20:37.254Z"
   },
   {
    "duration": 16,
    "start_time": "2023-12-28T01:20:37.517Z"
   },
   {
    "duration": 52,
    "start_time": "2023-12-28T01:20:37.535Z"
   },
   {
    "duration": 68,
    "start_time": "2023-12-28T01:20:37.588Z"
   },
   {
    "duration": 59,
    "start_time": "2023-12-28T01:20:37.658Z"
   },
   {
    "duration": 426,
    "start_time": "2023-12-28T01:20:37.718Z"
   },
   {
    "duration": 106,
    "start_time": "2023-12-28T01:20:38.145Z"
   },
   {
    "duration": 3,
    "start_time": "2023-12-28T01:20:38.252Z"
   },
   {
    "duration": 54166,
    "start_time": "2023-12-28T01:20:38.256Z"
   },
   {
    "duration": 770,
    "start_time": "2023-12-28T01:21:32.424Z"
   },
   {
    "duration": 199140,
    "start_time": "2023-12-28T01:21:33.196Z"
   },
   {
    "duration": 73,
    "start_time": "2023-12-28T01:24:52.338Z"
   },
   {
    "duration": 2531022,
    "start_time": "2023-12-28T01:24:52.413Z"
   },
   {
    "duration": 9,
    "start_time": "2023-12-28T02:07:03.436Z"
   },
   {
    "duration": 10,
    "start_time": "2023-12-28T02:07:03.510Z"
   },
   {
    "duration": 5,
    "start_time": "2023-12-28T02:07:03.521Z"
   },
   {
    "duration": 101689,
    "start_time": "2023-12-28T02:07:03.528Z"
   },
   {
    "duration": 4,
    "start_time": "2023-12-28T09:32:43.452Z"
   },
   {
    "duration": 39,
    "start_time": "2023-12-28T09:32:48.851Z"
   },
   {
    "duration": 671,
    "start_time": "2023-12-28T09:33:33.939Z"
   },
   {
    "duration": 604,
    "start_time": "2023-12-28T09:33:49.676Z"
   },
   {
    "duration": 560,
    "start_time": "2023-12-28T09:33:54.004Z"
   },
   {
    "duration": 576,
    "start_time": "2023-12-28T09:33:59.165Z"
   },
   {
    "duration": 3,
    "start_time": "2023-12-28T09:34:34.454Z"
   },
   {
    "duration": 2912,
    "start_time": "2023-12-28T09:34:35.142Z"
   },
   {
    "duration": 19,
    "start_time": "2023-12-28T09:34:38.056Z"
   },
   {
    "duration": 8,
    "start_time": "2023-12-28T09:34:38.077Z"
   },
   {
    "duration": 4431,
    "start_time": "2023-12-28T09:34:38.087Z"
   },
   {
    "duration": 91,
    "start_time": "2023-12-28T09:34:42.520Z"
   },
   {
    "duration": 781,
    "start_time": "2023-12-28T09:34:42.612Z"
   },
   {
    "duration": 5070,
    "start_time": "2023-12-28T09:34:43.886Z"
   },
   {
    "duration": 163,
    "start_time": "2023-12-28T09:34:52.091Z"
   },
   {
    "duration": 532,
    "start_time": "2023-12-28T09:34:55.838Z"
   },
   {
    "duration": 151,
    "start_time": "2023-12-28T09:34:59.481Z"
   },
   {
    "duration": 650,
    "start_time": "2023-12-28T09:35:00.556Z"
   },
   {
    "duration": 279,
    "start_time": "2023-12-28T09:35:10.635Z"
   },
   {
    "duration": 16,
    "start_time": "2023-12-28T09:35:11.555Z"
   },
   {
    "duration": 3,
    "start_time": "2023-12-28T09:35:30.522Z"
   },
   {
    "duration": 1643,
    "start_time": "2023-12-28T09:35:30.688Z"
   },
   {
    "duration": 18,
    "start_time": "2023-12-28T09:35:32.333Z"
   },
   {
    "duration": 9,
    "start_time": "2023-12-28T09:35:32.352Z"
   },
   {
    "duration": 4321,
    "start_time": "2023-12-28T09:35:32.362Z"
   },
   {
    "duration": 97,
    "start_time": "2023-12-28T09:35:36.685Z"
   },
   {
    "duration": 758,
    "start_time": "2023-12-28T09:35:36.784Z"
   },
   {
    "duration": 5146,
    "start_time": "2023-12-28T09:35:37.544Z"
   },
   {
    "duration": 172,
    "start_time": "2023-12-28T09:35:42.691Z"
   },
   {
    "duration": 576,
    "start_time": "2023-12-28T09:35:42.865Z"
   },
   {
    "duration": 142,
    "start_time": "2023-12-28T09:35:45.639Z"
   },
   {
    "duration": 574,
    "start_time": "2023-12-28T09:35:46.874Z"
   },
   {
    "duration": 15,
    "start_time": "2023-12-28T09:35:50.523Z"
   },
   {
    "duration": 299,
    "start_time": "2023-12-28T09:35:53.854Z"
   },
   {
    "duration": 52,
    "start_time": "2023-12-28T09:36:04.586Z"
   },
   {
    "duration": 57,
    "start_time": "2023-12-28T09:36:05.796Z"
   },
   {
    "duration": 52,
    "start_time": "2023-12-28T09:36:07.737Z"
   },
   {
    "duration": 451,
    "start_time": "2023-12-28T09:36:08.336Z"
   },
   {
    "duration": 103,
    "start_time": "2023-12-28T09:36:16.488Z"
   },
   {
    "duration": 4,
    "start_time": "2023-12-28T09:36:18.587Z"
   },
   {
    "duration": 58306,
    "start_time": "2023-12-28T09:36:20.927Z"
   },
   {
    "duration": 885,
    "start_time": "2023-12-28T09:37:19.312Z"
   },
   {
    "duration": 3,
    "start_time": "2023-12-28T09:37:20.198Z"
   },
   {
    "duration": 220929,
    "start_time": "2023-12-28T09:37:20.203Z"
   },
   {
    "duration": 7,
    "start_time": "2023-12-28T09:41:01.133Z"
   },
   {
    "duration": 110765,
    "start_time": "2023-12-28T09:41:01.141Z"
   },
   {
    "duration": 10,
    "start_time": "2023-12-28T09:42:51.908Z"
   },
   {
    "duration": 59,
    "start_time": "2023-12-28T09:42:51.920Z"
   },
   {
    "duration": 0,
    "start_time": "2023-12-28T09:42:51.981Z"
   },
   {
    "duration": 0,
    "start_time": "2023-12-28T09:42:51.982Z"
   },
   {
    "duration": 4,
    "start_time": "2023-12-28T09:43:04.362Z"
   },
   {
    "duration": 1581,
    "start_time": "2023-12-28T09:43:04.367Z"
   },
   {
    "duration": 17,
    "start_time": "2023-12-28T09:43:05.949Z"
   },
   {
    "duration": 19,
    "start_time": "2023-12-28T09:43:05.969Z"
   },
   {
    "duration": 5269,
    "start_time": "2023-12-28T09:43:05.989Z"
   },
   {
    "duration": 104,
    "start_time": "2023-12-28T09:43:11.260Z"
   },
   {
    "duration": 788,
    "start_time": "2023-12-28T09:43:11.366Z"
   },
   {
    "duration": 4979,
    "start_time": "2023-12-28T09:43:12.156Z"
   },
   {
    "duration": 208,
    "start_time": "2023-12-28T09:43:17.138Z"
   },
   {
    "duration": 547,
    "start_time": "2023-12-28T09:43:17.349Z"
   },
   {
    "duration": 149,
    "start_time": "2023-12-28T09:43:17.897Z"
   },
   {
    "duration": 599,
    "start_time": "2023-12-28T09:43:18.047Z"
   },
   {
    "duration": 16,
    "start_time": "2023-12-28T09:43:18.648Z"
   },
   {
    "duration": 324,
    "start_time": "2023-12-28T09:43:18.665Z"
   },
   {
    "duration": 58,
    "start_time": "2023-12-28T09:43:18.991Z"
   },
   {
    "duration": 61,
    "start_time": "2023-12-28T09:43:19.050Z"
   },
   {
    "duration": 53,
    "start_time": "2023-12-28T09:43:19.112Z"
   },
   {
    "duration": 542,
    "start_time": "2023-12-28T09:43:19.166Z"
   },
   {
    "duration": 108,
    "start_time": "2023-12-28T09:43:19.711Z"
   },
   {
    "duration": 3,
    "start_time": "2023-12-28T09:43:19.821Z"
   },
   {
    "duration": 74801,
    "start_time": "2023-12-28T09:43:19.826Z"
   },
   {
    "duration": 1013,
    "start_time": "2023-12-28T09:44:34.628Z"
   },
   {
    "duration": 2,
    "start_time": "2023-12-28T09:44:35.643Z"
   },
   {
    "duration": 221686,
    "start_time": "2023-12-28T09:44:35.647Z"
   },
   {
    "duration": 6,
    "start_time": "2023-12-28T09:48:17.335Z"
   },
   {
    "duration": 1399908,
    "start_time": "2023-12-28T09:48:17.343Z"
   },
   {
    "duration": 10,
    "start_time": "2023-12-28T10:11:37.253Z"
   },
   {
    "duration": 46,
    "start_time": "2023-12-28T10:11:37.266Z"
   },
   {
    "duration": 0,
    "start_time": "2023-12-28T10:11:37.313Z"
   },
   {
    "duration": 0,
    "start_time": "2023-12-28T10:11:37.315Z"
   },
   {
    "duration": 3,
    "start_time": "2023-12-28T10:11:43.991Z"
   },
   {
    "duration": 1646,
    "start_time": "2023-12-28T10:11:43.996Z"
   },
   {
    "duration": 21,
    "start_time": "2023-12-28T10:11:45.644Z"
   },
   {
    "duration": 20,
    "start_time": "2023-12-28T10:11:45.667Z"
   },
   {
    "duration": 4345,
    "start_time": "2023-12-28T10:11:45.688Z"
   },
   {
    "duration": 105,
    "start_time": "2023-12-28T10:11:50.034Z"
   },
   {
    "duration": 792,
    "start_time": "2023-12-28T10:11:50.141Z"
   },
   {
    "duration": 5330,
    "start_time": "2023-12-28T10:11:50.935Z"
   },
   {
    "duration": 219,
    "start_time": "2023-12-28T10:11:56.268Z"
   },
   {
    "duration": 584,
    "start_time": "2023-12-28T10:11:56.488Z"
   },
   {
    "duration": 164,
    "start_time": "2023-12-28T10:11:57.074Z"
   },
   {
    "duration": 639,
    "start_time": "2023-12-28T10:11:57.239Z"
   },
   {
    "duration": 17,
    "start_time": "2023-12-28T10:11:57.879Z"
   },
   {
    "duration": 327,
    "start_time": "2023-12-28T10:11:57.897Z"
   },
   {
    "duration": 58,
    "start_time": "2023-12-28T10:11:58.226Z"
   },
   {
    "duration": 75,
    "start_time": "2023-12-28T10:11:58.285Z"
   },
   {
    "duration": 66,
    "start_time": "2023-12-28T10:11:58.363Z"
   },
   {
    "duration": 578,
    "start_time": "2023-12-28T10:11:58.430Z"
   },
   {
    "duration": 125,
    "start_time": "2023-12-28T10:11:59.010Z"
   },
   {
    "duration": 4,
    "start_time": "2023-12-28T10:11:59.137Z"
   },
   {
    "duration": 71177,
    "start_time": "2023-12-28T10:11:59.142Z"
   },
   {
    "duration": 882,
    "start_time": "2023-12-28T10:13:10.320Z"
   },
   {
    "duration": 3,
    "start_time": "2023-12-28T10:13:11.203Z"
   },
   {
    "duration": 216435,
    "start_time": "2023-12-28T10:13:11.210Z"
   },
   {
    "duration": 7,
    "start_time": "2023-12-28T10:16:47.647Z"
   },
   {
    "duration": 2677557,
    "start_time": "2023-12-28T10:16:47.655Z"
   },
   {
    "duration": 10,
    "start_time": "2023-12-28T11:01:25.213Z"
   },
   {
    "duration": 11,
    "start_time": "2023-12-28T11:01:25.224Z"
   },
   {
    "duration": 8,
    "start_time": "2023-12-28T11:01:25.237Z"
   },
   {
    "duration": 103480,
    "start_time": "2023-12-28T11:01:25.246Z"
   },
   {
    "duration": 13,
    "start_time": "2023-12-28T14:57:39.477Z"
   },
   {
    "duration": 3,
    "start_time": "2023-12-28T14:58:04.294Z"
   },
   {
    "duration": 1634,
    "start_time": "2023-12-28T14:58:04.613Z"
   },
   {
    "duration": 17,
    "start_time": "2023-12-28T14:58:06.249Z"
   },
   {
    "duration": 8,
    "start_time": "2023-12-28T14:58:06.268Z"
   },
   {
    "duration": 3973,
    "start_time": "2023-12-28T14:58:06.278Z"
   },
   {
    "duration": 93,
    "start_time": "2023-12-28T14:58:10.253Z"
   },
   {
    "duration": 742,
    "start_time": "2023-12-28T14:58:10.348Z"
   },
   {
    "duration": 4895,
    "start_time": "2023-12-28T14:58:13.846Z"
   },
   {
    "duration": 170,
    "start_time": "2023-12-28T14:58:25.552Z"
   },
   {
    "duration": 561,
    "start_time": "2023-12-28T14:58:25.841Z"
   },
   {
    "duration": 137,
    "start_time": "2023-12-28T14:58:29.589Z"
   },
   {
    "duration": 618,
    "start_time": "2023-12-28T14:58:38.620Z"
   },
   {
    "duration": 16,
    "start_time": "2023-12-28T14:58:58.948Z"
   },
   {
    "duration": 289,
    "start_time": "2023-12-28T14:59:01.695Z"
   },
   {
    "duration": 59,
    "start_time": "2023-12-28T14:59:01.986Z"
   },
   {
    "duration": 24,
    "start_time": "2023-12-28T14:59:03.908Z"
   },
   {
    "duration": 2,
    "start_time": "2023-12-28T15:00:16.312Z"
   },
   {
    "duration": 25,
    "start_time": "2023-12-28T15:00:16.315Z"
   },
   {
    "duration": 16,
    "start_time": "2023-12-28T15:00:16.829Z"
   },
   {
    "duration": 7,
    "start_time": "2023-12-28T15:00:16.898Z"
   },
   {
    "duration": 3849,
    "start_time": "2023-12-28T15:00:16.907Z"
   },
   {
    "duration": 58,
    "start_time": "2023-12-28T15:00:20.758Z"
   },
   {
    "duration": 751,
    "start_time": "2023-12-28T15:00:20.818Z"
   },
   {
    "duration": 734,
    "start_time": "2023-12-28T15:00:24.323Z"
   },
   {
    "duration": 4951,
    "start_time": "2023-12-28T15:00:25.058Z"
   },
   {
    "duration": 154,
    "start_time": "2023-12-28T15:00:30.011Z"
   },
   {
    "duration": 537,
    "start_time": "2023-12-28T15:00:30.167Z"
   },
   {
    "duration": 133,
    "start_time": "2023-12-28T15:00:31.810Z"
   },
   {
    "duration": 575,
    "start_time": "2023-12-28T15:00:33.268Z"
   },
   {
    "duration": 15,
    "start_time": "2023-12-28T15:00:36.739Z"
   },
   {
    "duration": 3,
    "start_time": "2023-12-28T15:00:53.621Z"
   },
   {
    "duration": 1582,
    "start_time": "2023-12-28T15:00:53.626Z"
   },
   {
    "duration": 17,
    "start_time": "2023-12-28T15:00:55.210Z"
   },
   {
    "duration": 11,
    "start_time": "2023-12-28T15:00:55.228Z"
   },
   {
    "duration": 3864,
    "start_time": "2023-12-28T15:00:55.241Z"
   },
   {
    "duration": 90,
    "start_time": "2023-12-28T15:00:59.106Z"
   },
   {
    "duration": 804,
    "start_time": "2023-12-28T15:00:59.197Z"
   },
   {
    "duration": 5141,
    "start_time": "2023-12-28T15:01:00.002Z"
   },
   {
    "duration": 206,
    "start_time": "2023-12-28T15:01:05.144Z"
   },
   {
    "duration": 353,
    "start_time": "2023-12-28T15:01:48.767Z"
   },
   {
    "duration": 411,
    "start_time": "2023-12-28T15:01:53.162Z"
   },
   {
    "duration": 349,
    "start_time": "2023-12-28T15:02:26.725Z"
   },
   {
    "duration": 333,
    "start_time": "2023-12-28T15:02:31.572Z"
   },
   {
    "duration": 324,
    "start_time": "2023-12-28T15:03:20.330Z"
   },
   {
    "duration": 584,
    "start_time": "2023-12-28T15:03:28.594Z"
   },
   {
    "duration": 318,
    "start_time": "2023-12-28T15:04:51.048Z"
   },
   {
    "duration": 326,
    "start_time": "2023-12-28T15:04:59.736Z"
   },
   {
    "duration": 419,
    "start_time": "2023-12-28T15:05:07.948Z"
   },
   {
    "duration": 361,
    "start_time": "2023-12-28T15:05:15.574Z"
   },
   {
    "duration": 359,
    "start_time": "2023-12-28T15:05:20.873Z"
   },
   {
    "duration": 10,
    "start_time": "2023-12-28T15:05:39.904Z"
   },
   {
    "duration": 335,
    "start_time": "2023-12-28T15:05:47.182Z"
   },
   {
    "duration": 374,
    "start_time": "2023-12-28T15:07:00.430Z"
   },
   {
    "duration": 359,
    "start_time": "2023-12-28T15:07:16.024Z"
   },
   {
    "duration": 364,
    "start_time": "2023-12-28T15:07:43.520Z"
   },
   {
    "duration": 10,
    "start_time": "2023-12-28T15:08:24.972Z"
   },
   {
    "duration": 9,
    "start_time": "2023-12-28T15:08:30.057Z"
   },
   {
    "duration": 7,
    "start_time": "2023-12-28T15:08:39.647Z"
   },
   {
    "duration": 11,
    "start_time": "2023-12-28T15:08:49.759Z"
   },
   {
    "duration": 10,
    "start_time": "2023-12-28T15:09:10.924Z"
   },
   {
    "duration": 10,
    "start_time": "2023-12-28T15:09:29.677Z"
   },
   {
    "duration": 350,
    "start_time": "2023-12-28T15:11:29.228Z"
   },
   {
    "duration": 74,
    "start_time": "2023-12-28T15:12:07.780Z"
   },
   {
    "duration": 741,
    "start_time": "2023-12-28T15:13:23.549Z"
   },
   {
    "duration": 155,
    "start_time": "2023-12-28T15:15:53.213Z"
   },
   {
    "duration": 363,
    "start_time": "2023-12-28T15:16:02.464Z"
   },
   {
    "duration": 245,
    "start_time": "2023-12-28T15:16:26.308Z"
   },
   {
    "duration": 1255,
    "start_time": "2023-12-28T15:20:06.785Z"
   },
   {
    "duration": 3,
    "start_time": "2023-12-28T15:20:22.051Z"
   },
   {
    "duration": 1676,
    "start_time": "2023-12-28T15:20:22.056Z"
   },
   {
    "duration": 19,
    "start_time": "2023-12-28T15:20:23.734Z"
   },
   {
    "duration": 14,
    "start_time": "2023-12-28T15:20:23.755Z"
   },
   {
    "duration": 4763,
    "start_time": "2023-12-28T15:20:23.771Z"
   },
   {
    "duration": 101,
    "start_time": "2023-12-28T15:20:28.536Z"
   },
   {
    "duration": 779,
    "start_time": "2023-12-28T15:20:28.639Z"
   },
   {
    "duration": 5194,
    "start_time": "2023-12-28T15:20:29.419Z"
   },
   {
    "duration": 379,
    "start_time": "2023-12-28T15:20:34.615Z"
   },
   {
    "duration": 18,
    "start_time": "2023-12-28T15:20:34.995Z"
   },
   {
    "duration": 1000,
    "start_time": "2023-12-28T15:20:38.352Z"
   },
   {
    "duration": 47,
    "start_time": "2023-12-28T15:20:43.065Z"
   },
   {
    "duration": 775,
    "start_time": "2023-12-28T15:21:17.469Z"
   },
   {
    "duration": 5454,
    "start_time": "2023-12-28T15:21:26.531Z"
   },
   {
    "duration": 370,
    "start_time": "2023-12-28T15:21:41.416Z"
   },
   {
    "duration": 11,
    "start_time": "2023-12-28T15:21:43.935Z"
   },
   {
    "duration": 168,
    "start_time": "2023-12-28T15:21:44.639Z"
   },
   {
    "duration": 559,
    "start_time": "2023-12-28T15:21:46.809Z"
   },
   {
    "duration": 145,
    "start_time": "2023-12-28T15:21:58.020Z"
   },
   {
    "duration": 751,
    "start_time": "2023-12-28T15:21:59.204Z"
   },
   {
    "duration": 27,
    "start_time": "2023-12-28T15:22:07.310Z"
   },
   {
    "duration": 3,
    "start_time": "2023-12-28T15:45:54.938Z"
   },
   {
    "duration": 1581,
    "start_time": "2023-12-28T15:45:54.943Z"
   },
   {
    "duration": 18,
    "start_time": "2023-12-28T15:45:56.525Z"
   },
   {
    "duration": 8,
    "start_time": "2023-12-28T15:45:56.544Z"
   },
   {
    "duration": 987,
    "start_time": "2023-12-28T15:45:56.554Z"
   },
   {
    "duration": 94,
    "start_time": "2023-12-28T15:45:57.542Z"
   },
   {
    "duration": 765,
    "start_time": "2023-12-28T15:45:57.638Z"
   },
   {
    "duration": 5075,
    "start_time": "2023-12-28T15:45:58.404Z"
   },
   {
    "duration": 373,
    "start_time": "2023-12-28T15:46:03.481Z"
   },
   {
    "duration": 10,
    "start_time": "2023-12-28T15:46:03.855Z"
   },
   {
    "duration": 23,
    "start_time": "2023-12-28T15:46:03.868Z"
   },
   {
    "duration": 234,
    "start_time": "2023-12-28T15:46:03.893Z"
   },
   {
    "duration": 564,
    "start_time": "2023-12-28T15:46:04.129Z"
   },
   {
    "duration": 122,
    "start_time": "2023-12-28T15:46:04.695Z"
   },
   {
    "duration": 700,
    "start_time": "2023-12-28T15:46:04.819Z"
   },
   {
    "duration": 1348,
    "start_time": "2023-12-28T15:46:14.903Z"
   },
   {
    "duration": 16,
    "start_time": "2023-12-28T15:46:21.353Z"
   },
   {
    "duration": 12,
    "start_time": "2023-12-28T15:46:29.009Z"
   },
   {
    "duration": 12,
    "start_time": "2023-12-28T15:46:38.491Z"
   },
   {
    "duration": 17,
    "start_time": "2023-12-28T15:46:43.933Z"
   },
   {
    "duration": 14,
    "start_time": "2023-12-28T15:47:13.239Z"
   },
   {
    "duration": 14,
    "start_time": "2023-12-28T15:47:20.974Z"
   },
   {
    "duration": 3,
    "start_time": "2023-12-28T15:54:31.098Z"
   },
   {
    "duration": 1639,
    "start_time": "2023-12-28T15:54:31.102Z"
   },
   {
    "duration": 18,
    "start_time": "2023-12-28T15:54:32.743Z"
   },
   {
    "duration": 8,
    "start_time": "2023-12-28T15:54:32.762Z"
   },
   {
    "duration": 1008,
    "start_time": "2023-12-28T15:54:32.772Z"
   },
   {
    "duration": 96,
    "start_time": "2023-12-28T15:54:33.781Z"
   },
   {
    "duration": 738,
    "start_time": "2023-12-28T15:54:33.879Z"
   },
   {
    "duration": 4951,
    "start_time": "2023-12-28T15:54:34.619Z"
   },
   {
    "duration": 392,
    "start_time": "2023-12-28T15:54:39.572Z"
   },
   {
    "duration": 11,
    "start_time": "2023-12-28T15:54:39.966Z"
   },
   {
    "duration": 3,
    "start_time": "2023-12-28T15:54:39.980Z"
   },
   {
    "duration": 217,
    "start_time": "2023-12-28T15:54:39.984Z"
   },
   {
    "duration": 522,
    "start_time": "2023-12-28T15:54:40.202Z"
   },
   {
    "duration": 149,
    "start_time": "2023-12-28T15:54:40.725Z"
   },
   {
    "duration": 624,
    "start_time": "2023-12-28T15:54:40.875Z"
   },
   {
    "duration": 20,
    "start_time": "2023-12-28T15:54:41.501Z"
   },
   {
    "duration": 288,
    "start_time": "2023-12-28T15:54:41.523Z"
   },
   {
    "duration": 56,
    "start_time": "2023-12-28T15:54:41.812Z"
   },
   {
    "duration": 68,
    "start_time": "2023-12-28T15:54:41.870Z"
   },
   {
    "duration": 71,
    "start_time": "2023-12-28T15:54:41.940Z"
   },
   {
    "duration": 460,
    "start_time": "2023-12-28T15:54:42.013Z"
   },
   {
    "duration": 116,
    "start_time": "2023-12-28T15:54:42.474Z"
   },
   {
    "duration": 4,
    "start_time": "2023-12-28T15:54:42.591Z"
   },
   {
    "duration": 3,
    "start_time": "2023-12-28T15:55:02.433Z"
   },
   {
    "duration": 39437,
    "start_time": "2023-12-28T15:55:03.696Z"
   },
   {
    "duration": 8,
    "start_time": "2023-12-28T15:57:37.468Z"
   },
   {
    "duration": 3392,
    "start_time": "2023-12-28T15:57:49.898Z"
   },
   {
    "duration": 9,
    "start_time": "2023-12-28T16:05:46.539Z"
   },
   {
    "duration": 38873,
    "start_time": "2023-12-28T16:05:54.069Z"
   },
   {
    "duration": 8,
    "start_time": "2023-12-28T16:06:58.940Z"
   },
   {
    "duration": 74913,
    "start_time": "2023-12-28T16:07:03.517Z"
   },
   {
    "duration": 3,
    "start_time": "2023-12-28T16:10:21.967Z"
   },
   {
    "duration": 1561,
    "start_time": "2023-12-28T16:10:21.972Z"
   },
   {
    "duration": 18,
    "start_time": "2023-12-28T16:10:23.535Z"
   },
   {
    "duration": 8,
    "start_time": "2023-12-28T16:10:23.554Z"
   },
   {
    "duration": 968,
    "start_time": "2023-12-28T16:10:23.564Z"
   },
   {
    "duration": 87,
    "start_time": "2023-12-28T16:10:24.533Z"
   },
   {
    "duration": 734,
    "start_time": "2023-12-28T16:10:24.621Z"
   },
   {
    "duration": 15,
    "start_time": "2023-12-28T16:10:33.831Z"
   },
   {
    "duration": 176,
    "start_time": "2023-12-28T16:12:18.139Z"
   },
   {
    "duration": 3,
    "start_time": "2023-12-28T16:14:29.765Z"
   },
   {
    "duration": 1545,
    "start_time": "2023-12-28T16:14:29.771Z"
   },
   {
    "duration": 19,
    "start_time": "2023-12-28T16:14:31.318Z"
   },
   {
    "duration": 28,
    "start_time": "2023-12-28T16:14:31.339Z"
   },
   {
    "duration": 1047,
    "start_time": "2023-12-28T16:14:31.369Z"
   },
   {
    "duration": 93,
    "start_time": "2023-12-28T16:14:32.418Z"
   },
   {
    "duration": 188,
    "start_time": "2023-12-28T16:14:32.513Z"
   },
   {
    "duration": 750,
    "start_time": "2023-12-28T16:14:32.703Z"
   },
   {
    "duration": 4882,
    "start_time": "2023-12-28T16:14:33.454Z"
   },
   {
    "duration": 377,
    "start_time": "2023-12-28T16:14:38.338Z"
   },
   {
    "duration": 10,
    "start_time": "2023-12-28T16:14:38.718Z"
   },
   {
    "duration": 36,
    "start_time": "2023-12-28T16:14:44.300Z"
   },
   {
    "duration": 68,
    "start_time": "2023-12-28T16:14:45.921Z"
   },
   {
    "duration": 464,
    "start_time": "2023-12-28T16:14:58.704Z"
   },
   {
    "duration": 118,
    "start_time": "2023-12-28T16:15:06.828Z"
   },
   {
    "duration": 574,
    "start_time": "2023-12-28T16:15:56.628Z"
   },
   {
    "duration": 455,
    "start_time": "2023-12-28T16:16:02.908Z"
   },
   {
    "duration": 561,
    "start_time": "2023-12-28T16:16:18.804Z"
   },
   {
    "duration": 148,
    "start_time": "2023-12-28T16:16:20.855Z"
   },
   {
    "duration": 663,
    "start_time": "2023-12-28T16:16:21.687Z"
   },
   {
    "duration": 17,
    "start_time": "2023-12-28T16:16:25.035Z"
   },
   {
    "duration": 89,
    "start_time": "2023-12-28T16:17:00.224Z"
   },
   {
    "duration": 51,
    "start_time": "2023-12-28T16:17:01.661Z"
   },
   {
    "duration": 46,
    "start_time": "2023-12-28T16:17:14.296Z"
   },
   {
    "duration": 57,
    "start_time": "2023-12-28T16:17:18.915Z"
   },
   {
    "duration": 344,
    "start_time": "2023-12-28T16:17:19.969Z"
   },
   {
    "duration": 88,
    "start_time": "2023-12-28T16:17:31.059Z"
   },
   {
    "duration": 4,
    "start_time": "2023-12-28T16:17:35.322Z"
   },
   {
    "duration": 3,
    "start_time": "2023-12-28T16:18:37.407Z"
   },
   {
    "duration": 1701,
    "start_time": "2023-12-28T16:18:37.412Z"
   },
   {
    "duration": 18,
    "start_time": "2023-12-28T16:18:39.115Z"
   },
   {
    "duration": 8,
    "start_time": "2023-12-28T16:18:39.135Z"
   },
   {
    "duration": 1212,
    "start_time": "2023-12-28T16:18:39.145Z"
   },
   {
    "duration": 91,
    "start_time": "2023-12-28T16:18:40.358Z"
   },
   {
    "duration": 193,
    "start_time": "2023-12-28T16:18:40.451Z"
   },
   {
    "duration": 758,
    "start_time": "2023-12-28T16:18:40.646Z"
   },
   {
    "duration": 4959,
    "start_time": "2023-12-28T16:18:41.405Z"
   },
   {
    "duration": 361,
    "start_time": "2023-12-28T16:18:46.365Z"
   },
   {
    "duration": 10,
    "start_time": "2023-12-28T16:18:46.727Z"
   },
   {
    "duration": 36,
    "start_time": "2023-12-28T16:18:46.739Z"
   },
   {
    "duration": 580,
    "start_time": "2023-12-28T16:18:46.776Z"
   },
   {
    "duration": 539,
    "start_time": "2023-12-28T16:18:47.358Z"
   },
   {
    "duration": 154,
    "start_time": "2023-12-28T16:18:47.899Z"
   },
   {
    "duration": 674,
    "start_time": "2023-12-28T16:18:48.055Z"
   },
   {
    "duration": 14,
    "start_time": "2023-12-28T16:18:48.731Z"
   },
   {
    "duration": 94,
    "start_time": "2023-12-28T16:18:48.746Z"
   },
   {
    "duration": 51,
    "start_time": "2023-12-28T16:18:48.841Z"
   },
   {
    "duration": 59,
    "start_time": "2023-12-28T16:18:48.893Z"
   },
   {
    "duration": 57,
    "start_time": "2023-12-28T16:18:48.954Z"
   },
   {
    "duration": 360,
    "start_time": "2023-12-28T16:18:49.012Z"
   },
   {
    "duration": 91,
    "start_time": "2023-12-28T16:18:49.373Z"
   },
   {
    "duration": 4,
    "start_time": "2023-12-28T16:18:49.465Z"
   },
   {
    "duration": 3,
    "start_time": "2023-12-28T16:20:14.100Z"
   },
   {
    "duration": 1720,
    "start_time": "2023-12-28T16:20:14.106Z"
   },
   {
    "duration": 18,
    "start_time": "2023-12-28T16:20:15.828Z"
   },
   {
    "duration": 48,
    "start_time": "2023-12-28T16:20:15.848Z"
   },
   {
    "duration": 1238,
    "start_time": "2023-12-28T16:20:15.897Z"
   },
   {
    "duration": 93,
    "start_time": "2023-12-28T16:20:17.137Z"
   },
   {
    "duration": 199,
    "start_time": "2023-12-28T16:20:17.231Z"
   },
   {
    "duration": 758,
    "start_time": "2023-12-28T16:20:17.431Z"
   },
   {
    "duration": 5040,
    "start_time": "2023-12-28T16:20:18.191Z"
   },
   {
    "duration": 364,
    "start_time": "2023-12-28T16:20:23.233Z"
   },
   {
    "duration": 27,
    "start_time": "2023-12-28T16:20:23.598Z"
   },
   {
    "duration": 35,
    "start_time": "2023-12-28T16:20:23.626Z"
   },
   {
    "duration": 582,
    "start_time": "2023-12-28T16:20:23.662Z"
   },
   {
    "duration": 595,
    "start_time": "2023-12-28T16:20:24.245Z"
   },
   {
    "duration": 176,
    "start_time": "2023-12-28T16:20:24.842Z"
   },
   {
    "duration": 712,
    "start_time": "2023-12-28T16:20:25.020Z"
   },
   {
    "duration": 14,
    "start_time": "2023-12-28T16:20:25.734Z"
   },
   {
    "duration": 96,
    "start_time": "2023-12-28T16:20:25.749Z"
   },
   {
    "duration": 48,
    "start_time": "2023-12-28T16:20:25.847Z"
   },
   {
    "duration": 50,
    "start_time": "2023-12-28T16:20:25.896Z"
   },
   {
    "duration": 42,
    "start_time": "2023-12-28T16:20:25.947Z"
   },
   {
    "duration": 359,
    "start_time": "2023-12-28T16:20:25.991Z"
   },
   {
    "duration": 109,
    "start_time": "2023-12-28T16:20:26.352Z"
   },
   {
    "duration": 3,
    "start_time": "2023-12-28T16:20:26.463Z"
   },
   {
    "duration": 51550,
    "start_time": "2023-12-28T16:20:26.468Z"
   },
   {
    "duration": 947,
    "start_time": "2023-12-28T16:21:27.732Z"
   },
   {
    "duration": 2,
    "start_time": "2023-12-28T16:21:30.456Z"
   },
   {
    "duration": 164227,
    "start_time": "2023-12-28T16:21:35.210Z"
   },
   {
    "duration": 3,
    "start_time": "2023-12-28T16:25:33.065Z"
   },
   {
    "duration": 1599,
    "start_time": "2023-12-28T16:25:33.070Z"
   },
   {
    "duration": 17,
    "start_time": "2023-12-28T16:25:34.671Z"
   },
   {
    "duration": 9,
    "start_time": "2023-12-28T16:25:34.690Z"
   },
   {
    "duration": 1008,
    "start_time": "2023-12-28T16:25:34.710Z"
   },
   {
    "duration": 98,
    "start_time": "2023-12-28T16:25:35.720Z"
   },
   {
    "duration": 214,
    "start_time": "2023-12-28T16:25:35.821Z"
   },
   {
    "duration": 827,
    "start_time": "2023-12-28T16:25:36.037Z"
   },
   {
    "duration": 5059,
    "start_time": "2023-12-28T16:25:36.865Z"
   },
   {
    "duration": 387,
    "start_time": "2023-12-28T16:25:41.926Z"
   },
   {
    "duration": 10,
    "start_time": "2023-12-28T16:25:42.315Z"
   },
   {
    "duration": 21,
    "start_time": "2023-12-28T16:25:42.326Z"
   },
   {
    "duration": 256,
    "start_time": "2023-12-28T16:25:42.349Z"
   },
   {
    "duration": 539,
    "start_time": "2023-12-28T16:25:42.608Z"
   },
   {
    "duration": 124,
    "start_time": "2023-12-28T16:25:43.149Z"
   },
   {
    "duration": 688,
    "start_time": "2023-12-28T16:25:43.274Z"
   },
   {
    "duration": 15,
    "start_time": "2023-12-28T16:25:43.963Z"
   },
   {
    "duration": 268,
    "start_time": "2023-12-28T16:25:43.979Z"
   },
   {
    "duration": 51,
    "start_time": "2023-12-28T16:25:44.249Z"
   },
   {
    "duration": 50,
    "start_time": "2023-12-28T16:25:44.311Z"
   },
   {
    "duration": 60,
    "start_time": "2023-12-28T16:25:44.362Z"
   },
   {
    "duration": 450,
    "start_time": "2023-12-28T16:25:44.424Z"
   },
   {
    "duration": 92,
    "start_time": "2023-12-28T16:26:03.848Z"
   },
   {
    "duration": 3,
    "start_time": "2023-12-28T16:26:04.626Z"
   },
   {
    "duration": 5670,
    "start_time": "2023-12-28T16:26:05.238Z"
   },
   {
    "duration": 71537,
    "start_time": "2023-12-28T16:26:13.292Z"
   },
   {
    "duration": 3,
    "start_time": "2023-12-28T16:29:10.117Z"
   },
   {
    "duration": 1598,
    "start_time": "2023-12-28T16:29:10.121Z"
   },
   {
    "duration": 18,
    "start_time": "2023-12-28T16:29:11.721Z"
   },
   {
    "duration": 8,
    "start_time": "2023-12-28T16:29:11.741Z"
   },
   {
    "duration": 1009,
    "start_time": "2023-12-28T16:29:11.751Z"
   },
   {
    "duration": 97,
    "start_time": "2023-12-28T16:29:12.762Z"
   },
   {
    "duration": 188,
    "start_time": "2023-12-28T16:29:12.860Z"
   },
   {
    "duration": 782,
    "start_time": "2023-12-28T16:29:13.049Z"
   },
   {
    "duration": 4927,
    "start_time": "2023-12-28T16:29:13.833Z"
   },
   {
    "duration": 371,
    "start_time": "2023-12-28T16:29:18.762Z"
   },
   {
    "duration": 10,
    "start_time": "2023-12-28T16:29:19.135Z"
   },
   {
    "duration": 36,
    "start_time": "2023-12-28T16:29:19.147Z"
   },
   {
    "duration": 247,
    "start_time": "2023-12-28T16:29:19.184Z"
   },
   {
    "duration": 544,
    "start_time": "2023-12-28T16:29:19.432Z"
   },
   {
    "duration": 127,
    "start_time": "2023-12-28T16:29:19.977Z"
   },
   {
    "duration": 664,
    "start_time": "2023-12-28T16:29:20.106Z"
   },
   {
    "duration": 14,
    "start_time": "2023-12-28T16:29:20.771Z"
   },
   {
    "duration": 276,
    "start_time": "2023-12-28T16:29:20.787Z"
   },
   {
    "duration": 55,
    "start_time": "2023-12-28T16:29:21.065Z"
   },
   {
    "duration": 50,
    "start_time": "2023-12-28T16:29:21.122Z"
   },
   {
    "duration": 62,
    "start_time": "2023-12-28T16:29:21.174Z"
   },
   {
    "duration": 448,
    "start_time": "2023-12-28T16:29:21.237Z"
   },
   {
    "duration": 113,
    "start_time": "2023-12-28T16:29:21.686Z"
   },
   {
    "duration": 4,
    "start_time": "2023-12-28T16:29:21.801Z"
   },
   {
    "duration": 3,
    "start_time": "2023-12-28T16:29:25.429Z"
   },
   {
    "duration": 12675,
    "start_time": "2023-12-28T16:29:27.245Z"
   },
   {
    "duration": 937,
    "start_time": "2023-12-28T16:35:01.961Z"
   },
   {
    "duration": 964,
    "start_time": "2023-12-28T16:35:04.583Z"
   },
   {
    "duration": 3,
    "start_time": "2023-12-28T16:35:18.213Z"
   },
   {
    "duration": 1643,
    "start_time": "2023-12-28T16:35:18.218Z"
   },
   {
    "duration": 18,
    "start_time": "2023-12-28T16:35:19.863Z"
   },
   {
    "duration": 37,
    "start_time": "2023-12-28T16:35:19.883Z"
   },
   {
    "duration": 1000,
    "start_time": "2023-12-28T16:35:19.922Z"
   },
   {
    "duration": 98,
    "start_time": "2023-12-28T16:35:20.924Z"
   },
   {
    "duration": 207,
    "start_time": "2023-12-28T16:35:21.024Z"
   },
   {
    "duration": 780,
    "start_time": "2023-12-28T16:35:21.233Z"
   },
   {
    "duration": 5013,
    "start_time": "2023-12-28T16:35:22.015Z"
   },
   {
    "duration": 388,
    "start_time": "2023-12-28T16:35:27.029Z"
   },
   {
    "duration": 10,
    "start_time": "2023-12-28T16:35:27.419Z"
   },
   {
    "duration": 34,
    "start_time": "2023-12-28T16:35:27.430Z"
   },
   {
    "duration": 227,
    "start_time": "2023-12-28T16:35:27.466Z"
   },
   {
    "duration": 548,
    "start_time": "2023-12-28T16:35:27.695Z"
   },
   {
    "duration": 121,
    "start_time": "2023-12-28T16:35:28.245Z"
   },
   {
    "duration": 730,
    "start_time": "2023-12-28T16:35:28.368Z"
   },
   {
    "duration": 20,
    "start_time": "2023-12-28T16:35:29.100Z"
   },
   {
    "duration": 271,
    "start_time": "2023-12-28T16:35:29.122Z"
   },
   {
    "duration": 59,
    "start_time": "2023-12-28T16:35:29.395Z"
   },
   {
    "duration": 57,
    "start_time": "2023-12-28T16:35:29.456Z"
   },
   {
    "duration": 51,
    "start_time": "2023-12-28T16:35:29.515Z"
   },
   {
    "duration": 461,
    "start_time": "2023-12-28T16:35:29.567Z"
   },
   {
    "duration": 112,
    "start_time": "2023-12-28T16:35:30.029Z"
   },
   {
    "duration": 3,
    "start_time": "2023-12-28T16:35:30.143Z"
   },
   {
    "duration": 74480,
    "start_time": "2023-12-28T16:35:30.147Z"
   },
   {
    "duration": 843,
    "start_time": "2023-12-28T16:36:44.629Z"
   },
   {
    "duration": 910,
    "start_time": "2023-12-28T16:36:47.877Z"
   },
   {
    "duration": 13458,
    "start_time": "2023-12-28T16:38:12.010Z"
   },
   {
    "duration": 36653,
    "start_time": "2023-12-28T16:38:31.870Z"
   },
   {
    "duration": 77663,
    "start_time": "2023-12-28T16:41:00.056Z"
   },
   {
    "duration": 65,
    "start_time": "2023-12-28T16:44:34.443Z"
   },
   {
    "duration": 39346,
    "start_time": "2023-12-28T16:44:44.612Z"
   },
   {
    "duration": 29,
    "start_time": "2023-12-28T16:46:16.233Z"
   },
   {
    "duration": 76355,
    "start_time": "2023-12-28T16:46:23.557Z"
   },
   {
    "duration": 5,
    "start_time": "2023-12-28T16:47:39.915Z"
   },
   {
    "duration": 19,
    "start_time": "2023-12-28T16:48:28.491Z"
   },
   {
    "duration": 81483,
    "start_time": "2023-12-28T16:48:37.046Z"
   },
   {
    "duration": 17163,
    "start_time": "2023-12-28T16:51:00.979Z"
   },
   {
    "duration": 74542,
    "start_time": "2023-12-28T16:52:03.280Z"
   },
   {
    "duration": 11,
    "start_time": "2023-12-28T16:56:12.049Z"
   },
   {
    "duration": 3,
    "start_time": "2023-12-28T16:57:00.661Z"
   },
   {
    "duration": 2197,
    "start_time": "2023-12-28T16:57:00.746Z"
   },
   {
    "duration": 18,
    "start_time": "2023-12-28T16:57:02.945Z"
   },
   {
    "duration": 16,
    "start_time": "2023-12-28T16:57:02.965Z"
   },
   {
    "duration": 990,
    "start_time": "2023-12-28T16:57:02.982Z"
   },
   {
    "duration": 91,
    "start_time": "2023-12-28T16:57:03.974Z"
   },
   {
    "duration": 182,
    "start_time": "2023-12-28T16:57:04.066Z"
   },
   {
    "duration": 762,
    "start_time": "2023-12-28T16:57:04.249Z"
   },
   {
    "duration": 5036,
    "start_time": "2023-12-28T16:57:05.012Z"
   },
   {
    "duration": 361,
    "start_time": "2023-12-28T16:57:10.050Z"
   },
   {
    "duration": 10,
    "start_time": "2023-12-28T16:57:10.412Z"
   },
   {
    "duration": 21,
    "start_time": "2023-12-28T16:57:10.424Z"
   },
   {
    "duration": 220,
    "start_time": "2023-12-28T16:57:10.446Z"
   },
   {
    "duration": 562,
    "start_time": "2023-12-28T16:57:10.668Z"
   },
   {
    "duration": 125,
    "start_time": "2023-12-28T16:57:11.232Z"
   },
   {
    "duration": 719,
    "start_time": "2023-12-28T16:57:11.359Z"
   },
   {
    "duration": 15,
    "start_time": "2023-12-28T16:57:12.080Z"
   },
   {
    "duration": 271,
    "start_time": "2023-12-28T16:57:12.096Z"
   },
   {
    "duration": 55,
    "start_time": "2023-12-28T16:57:12.369Z"
   },
   {
    "duration": 53,
    "start_time": "2023-12-28T16:57:12.426Z"
   },
   {
    "duration": 66,
    "start_time": "2023-12-28T16:57:12.481Z"
   },
   {
    "duration": 426,
    "start_time": "2023-12-28T16:57:12.549Z"
   },
   {
    "duration": 106,
    "start_time": "2023-12-28T16:57:12.976Z"
   },
   {
    "duration": 4,
    "start_time": "2023-12-28T16:57:13.084Z"
   },
   {
    "duration": 70031,
    "start_time": "2023-12-28T16:57:13.090Z"
   },
   {
    "duration": 73605,
    "start_time": "2023-12-28T16:58:23.123Z"
   },
   {
    "duration": 945,
    "start_time": "2023-12-28T16:59:36.729Z"
   },
   {
    "duration": 223350,
    "start_time": "2023-12-28T16:59:37.677Z"
   },
   {
    "duration": 7,
    "start_time": "2023-12-28T17:03:21.028Z"
   },
   {
    "duration": 2645603,
    "start_time": "2023-12-28T17:03:21.036Z"
   },
   {
    "duration": 11,
    "start_time": "2023-12-28T17:47:26.641Z"
   },
   {
    "duration": 66,
    "start_time": "2023-12-28T17:47:26.653Z"
   },
   {
    "duration": 7,
    "start_time": "2023-12-28T17:47:26.720Z"
   },
   {
    "duration": 102497,
    "start_time": "2023-12-28T17:47:26.728Z"
   },
   {
    "duration": 283875,
    "start_time": "2023-12-28T17:51:07.153Z"
   },
   {
    "duration": 120618,
    "start_time": "2023-12-28T17:56:01.610Z"
   },
   {
    "duration": 72,
    "start_time": "2023-12-28T18:03:55.701Z"
   },
   {
    "duration": 2,
    "start_time": "2023-12-28T18:38:46.718Z"
   },
   {
    "duration": 6,
    "start_time": "2023-12-28T18:38:47.024Z"
   },
   {
    "duration": 20,
    "start_time": "2023-12-28T18:38:48.356Z"
   },
   {
    "duration": 9,
    "start_time": "2023-12-28T18:38:50.529Z"
   },
   {
    "duration": 873,
    "start_time": "2023-12-28T18:38:52.102Z"
   },
   {
    "duration": 917,
    "start_time": "2023-12-28T18:39:00.159Z"
   },
   {
    "duration": 4,
    "start_time": "2023-12-28T18:39:13.077Z"
   },
   {
    "duration": 1556,
    "start_time": "2023-12-28T18:39:13.940Z"
   },
   {
    "duration": 19,
    "start_time": "2023-12-28T18:39:15.497Z"
   },
   {
    "duration": 9,
    "start_time": "2023-12-28T18:39:15.707Z"
   },
   {
    "duration": 999,
    "start_time": "2023-12-28T18:39:17.007Z"
   },
   {
    "duration": 87,
    "start_time": "2023-12-28T18:39:24.657Z"
   },
   {
    "duration": 212,
    "start_time": "2023-12-28T18:39:53.326Z"
   },
   {
    "duration": 3,
    "start_time": "2023-12-28T18:42:46.322Z"
   },
   {
    "duration": 1580,
    "start_time": "2023-12-28T18:42:46.327Z"
   },
   {
    "duration": 17,
    "start_time": "2023-12-28T18:42:47.909Z"
   },
   {
    "duration": 9,
    "start_time": "2023-12-28T18:42:47.927Z"
   },
   {
    "duration": 985,
    "start_time": "2023-12-28T18:42:47.937Z"
   },
   {
    "duration": 102,
    "start_time": "2023-12-28T18:42:48.924Z"
   },
   {
    "duration": 203,
    "start_time": "2023-12-28T18:42:49.028Z"
   },
   {
    "duration": 719,
    "start_time": "2023-12-28T18:42:49.233Z"
   },
   {
    "duration": 4915,
    "start_time": "2023-12-28T18:42:49.953Z"
   },
   {
    "duration": 369,
    "start_time": "2023-12-28T18:42:54.869Z"
   },
   {
    "duration": 9,
    "start_time": "2023-12-28T18:42:55.241Z"
   },
   {
    "duration": 36,
    "start_time": "2023-12-28T18:42:55.252Z"
   },
   {
    "duration": 227,
    "start_time": "2023-12-28T18:42:55.290Z"
   },
   {
    "duration": 536,
    "start_time": "2023-12-28T18:42:55.518Z"
   },
   {
    "duration": 117,
    "start_time": "2023-12-28T18:42:56.055Z"
   },
   {
    "duration": 667,
    "start_time": "2023-12-28T18:42:56.174Z"
   },
   {
    "duration": 15,
    "start_time": "2023-12-28T18:42:56.843Z"
   },
   {
    "duration": 272,
    "start_time": "2023-12-28T18:42:56.859Z"
   },
   {
    "duration": 52,
    "start_time": "2023-12-28T18:42:57.132Z"
   },
   {
    "duration": 71,
    "start_time": "2023-12-28T18:42:57.185Z"
   },
   {
    "duration": 57,
    "start_time": "2023-12-28T18:42:57.258Z"
   },
   {
    "duration": 121,
    "start_time": "2023-12-28T18:43:32.961Z"
   },
   {
    "duration": 163,
    "start_time": "2023-12-28T18:45:17.016Z"
   },
   {
    "duration": 370,
    "start_time": "2023-12-28T18:45:20.000Z"
   },
   {
    "duration": 173,
    "start_time": "2023-12-28T18:45:32.632Z"
   },
   {
    "duration": 363,
    "start_time": "2023-12-28T18:45:34.648Z"
   },
   {
    "duration": 388,
    "start_time": "2023-12-28T18:46:15.471Z"
   },
   {
    "duration": 313,
    "start_time": "2023-12-28T18:46:27.258Z"
   },
   {
    "duration": 353,
    "start_time": "2023-12-28T18:46:35.194Z"
   },
   {
    "duration": 96,
    "start_time": "2023-12-28T18:46:39.528Z"
   },
   {
    "duration": 3,
    "start_time": "2023-12-28T18:46:41.844Z"
   },
   {
    "duration": 67065,
    "start_time": "2023-12-28T18:46:44.055Z"
   },
   {
    "duration": 68145,
    "start_time": "2023-12-28T18:48:11.973Z"
   },
   {
    "duration": 662,
    "start_time": "2023-12-28T18:49:31.649Z"
   },
   {
    "duration": 3,
    "start_time": "2023-12-28T18:49:33.615Z"
   },
   {
    "duration": 174381,
    "start_time": "2023-12-28T18:49:34.053Z"
   },
   {
    "duration": 6,
    "start_time": "2023-12-28T18:52:36.786Z"
   },
   {
    "duration": 2447216,
    "start_time": "2023-12-28T18:52:38.110Z"
   },
   {
    "duration": 11,
    "start_time": "2023-12-28T19:33:25.328Z"
   },
   {
    "duration": 9,
    "start_time": "2023-12-28T19:33:25.340Z"
   },
   {
    "duration": 4,
    "start_time": "2023-12-28T19:33:25.351Z"
   },
   {
    "duration": 111265,
    "start_time": "2023-12-28T19:33:25.357Z"
   },
   {
    "duration": 114095,
    "start_time": "2023-12-28T19:35:16.623Z"
   },
   {
    "duration": 122,
    "start_time": "2023-12-28T19:50:08.311Z"
   },
   {
    "duration": 8980,
    "start_time": "2023-12-28T19:50:18.034Z"
   },
   {
    "duration": 3,
    "start_time": "2023-12-28T19:50:39.479Z"
   },
   {
    "duration": 42086,
    "start_time": "2023-12-28T19:50:40.145Z"
   },
   {
    "duration": 6,
    "start_time": "2023-12-28T19:51:42.464Z"
   },
   {
    "duration": 4,
    "start_time": "2023-12-28T19:52:56.724Z"
   },
   {
    "duration": 4,
    "start_time": "2023-12-28T19:53:03.944Z"
   },
   {
    "duration": 3,
    "start_time": "2023-12-28T19:55:59.428Z"
   },
   {
    "duration": 1576,
    "start_time": "2023-12-28T19:55:59.432Z"
   },
   {
    "duration": 19,
    "start_time": "2023-12-28T19:56:01.010Z"
   },
   {
    "duration": 67,
    "start_time": "2023-12-28T19:56:01.030Z"
   },
   {
    "duration": 1332,
    "start_time": "2023-12-28T19:56:01.099Z"
   },
   {
    "duration": 185,
    "start_time": "2023-12-28T19:56:02.433Z"
   },
   {
    "duration": 325,
    "start_time": "2023-12-28T19:56:02.620Z"
   },
   {
    "duration": 945,
    "start_time": "2023-12-28T19:56:02.947Z"
   },
   {
    "duration": 5019,
    "start_time": "2023-12-28T19:56:03.894Z"
   },
   {
    "duration": 353,
    "start_time": "2023-12-28T19:56:08.914Z"
   },
   {
    "duration": 10,
    "start_time": "2023-12-28T19:56:09.269Z"
   },
   {
    "duration": 35,
    "start_time": "2023-12-28T19:56:09.280Z"
   },
   {
    "duration": 215,
    "start_time": "2023-12-28T19:56:09.316Z"
   },
   {
    "duration": 555,
    "start_time": "2023-12-28T19:56:09.532Z"
   },
   {
    "duration": 112,
    "start_time": "2023-12-28T19:56:10.088Z"
   },
   {
    "duration": 654,
    "start_time": "2023-12-28T19:56:10.201Z"
   },
   {
    "duration": 14,
    "start_time": "2023-12-28T19:56:10.856Z"
   },
   {
    "duration": 288,
    "start_time": "2023-12-28T19:56:10.871Z"
   },
   {
    "duration": 57,
    "start_time": "2023-12-28T19:56:11.161Z"
   },
   {
    "duration": 50,
    "start_time": "2023-12-28T19:56:11.220Z"
   },
   {
    "duration": 351,
    "start_time": "2023-12-28T19:56:11.271Z"
   },
   {
    "duration": 366,
    "start_time": "2023-12-28T19:56:11.624Z"
   },
   {
    "duration": 113,
    "start_time": "2023-12-28T19:56:11.992Z"
   },
   {
    "duration": 3,
    "start_time": "2023-12-28T19:56:12.111Z"
   },
   {
    "duration": 64102,
    "start_time": "2023-12-28T19:56:12.115Z"
   },
   {
    "duration": 68999,
    "start_time": "2023-12-28T19:57:16.218Z"
   },
   {
    "duration": 698,
    "start_time": "2023-12-28T19:58:25.219Z"
   },
   {
    "duration": 205808,
    "start_time": "2023-12-28T19:58:25.919Z"
   },
   {
    "duration": 6,
    "start_time": "2023-12-28T20:01:51.730Z"
   },
   {
    "duration": 2542995,
    "start_time": "2023-12-28T20:01:51.737Z"
   },
   {
    "duration": 11,
    "start_time": "2023-12-28T20:44:14.734Z"
   },
   {
    "duration": 11,
    "start_time": "2023-12-28T20:44:14.746Z"
   },
   {
    "duration": 5,
    "start_time": "2023-12-28T20:44:14.758Z"
   },
   {
    "duration": 101923,
    "start_time": "2023-12-28T20:44:14.811Z"
   },
   {
    "duration": 103317,
    "start_time": "2023-12-28T20:45:56.812Z"
   },
   {
    "duration": 971,
    "start_time": "2023-12-29T08:38:25.944Z"
   },
   {
    "duration": 6034,
    "start_time": "2023-12-29T08:39:35.051Z"
   },
   {
    "duration": 2827,
    "start_time": "2023-12-29T08:39:48.456Z"
   },
   {
    "duration": 3,
    "start_time": "2023-12-29T08:42:47.639Z"
   },
   {
    "duration": 691,
    "start_time": "2023-12-29T08:42:49.008Z"
   },
   {
    "duration": 2966,
    "start_time": "2023-12-29T08:42:56.413Z"
   },
   {
    "duration": 34,
    "start_time": "2023-12-29T08:43:01.139Z"
   },
   {
    "duration": 5103,
    "start_time": "2023-12-29T08:45:05.985Z"
   },
   {
    "duration": 20,
    "start_time": "2023-12-29T08:45:14.746Z"
   },
   {
    "duration": 4659,
    "start_time": "2023-12-29T08:47:45.856Z"
   },
   {
    "duration": 1638,
    "start_time": "2023-12-29T08:47:51.508Z"
   },
   {
    "duration": 2,
    "start_time": "2023-12-29T08:48:05.804Z"
   },
   {
    "duration": 5,
    "start_time": "2023-12-29T08:48:33.408Z"
   },
   {
    "duration": 3,
    "start_time": "2023-12-29T08:48:42.557Z"
   },
   {
    "duration": 1605,
    "start_time": "2023-12-29T08:48:43.308Z"
   },
   {
    "duration": 160,
    "start_time": "2023-12-29T08:56:07.826Z"
   },
   {
    "duration": 16,
    "start_time": "2023-12-29T08:56:20.893Z"
   },
   {
    "duration": 145,
    "start_time": "2023-12-29T08:56:35.399Z"
   },
   {
    "duration": 34,
    "start_time": "2023-12-29T08:56:45.709Z"
   },
   {
    "duration": 72,
    "start_time": "2023-12-29T08:56:53.153Z"
   },
   {
    "duration": 1113,
    "start_time": "2023-12-29T08:57:01.060Z"
   },
   {
    "duration": 830,
    "start_time": "2023-12-29T08:57:11.119Z"
   },
   {
    "duration": 17,
    "start_time": "2023-12-29T08:57:48.149Z"
   },
   {
    "duration": 1003,
    "start_time": "2023-12-29T08:57:54.448Z"
   },
   {
    "duration": 21,
    "start_time": "2023-12-29T09:13:34.458Z"
   },
   {
    "duration": 1420,
    "start_time": "2023-12-29T09:14:32.922Z"
   },
   {
    "duration": 672,
    "start_time": "2023-12-29T09:14:40.058Z"
   },
   {
    "duration": 670,
    "start_time": "2023-12-29T09:15:30.041Z"
   },
   {
    "duration": 778,
    "start_time": "2023-12-29T09:15:41.074Z"
   },
   {
    "duration": 831,
    "start_time": "2023-12-29T09:16:01.708Z"
   },
   {
    "duration": 58,
    "start_time": "2023-12-29T09:16:24.614Z"
   },
   {
    "duration": 76,
    "start_time": "2023-12-29T09:16:33.653Z"
   },
   {
    "duration": 48,
    "start_time": "2023-12-29T09:16:54.074Z"
   },
   {
    "duration": 147,
    "start_time": "2023-12-29T09:17:07.133Z"
   },
   {
    "duration": 697,
    "start_time": "2023-12-29T09:17:34.510Z"
   },
   {
    "duration": 730,
    "start_time": "2023-12-29T09:18:15.614Z"
   },
   {
    "duration": 212,
    "start_time": "2023-12-29T09:18:49.252Z"
   },
   {
    "duration": 215,
    "start_time": "2023-12-29T09:18:58.970Z"
   },
   {
    "duration": 209,
    "start_time": "2023-12-29T09:19:03.056Z"
   },
   {
    "duration": 224,
    "start_time": "2023-12-29T09:19:25.517Z"
   },
   {
    "duration": 220,
    "start_time": "2023-12-29T09:19:38.189Z"
   },
   {
    "duration": 230,
    "start_time": "2023-12-29T09:19:51.963Z"
   },
   {
    "duration": 91,
    "start_time": "2023-12-29T09:20:07.240Z"
   },
   {
    "duration": 371,
    "start_time": "2023-12-29T09:20:10.999Z"
   },
   {
    "duration": 159,
    "start_time": "2023-12-29T09:20:25.722Z"
   },
   {
    "duration": 48400,
    "start_time": "2023-12-29T09:20:58.303Z"
   },
   {
    "duration": 18505,
    "start_time": "2023-12-29T09:23:37.700Z"
   },
   {
    "duration": 1497,
    "start_time": "2023-12-29T09:26:16.527Z"
   },
   {
    "duration": 22,
    "start_time": "2023-12-29T09:26:28.082Z"
   },
   {
    "duration": 82,
    "start_time": "2023-12-29T09:26:44.847Z"
   },
   {
    "duration": 1259,
    "start_time": "2023-12-29T09:26:53.366Z"
   },
   {
    "duration": 11,
    "start_time": "2023-12-29T09:27:03.341Z"
   },
   {
    "duration": 1062,
    "start_time": "2023-12-29T09:27:18.226Z"
   },
   {
    "duration": 1057,
    "start_time": "2023-12-29T09:29:27.427Z"
   },
   {
    "duration": 1054,
    "start_time": "2023-12-29T09:29:32.576Z"
   },
   {
    "duration": 1088,
    "start_time": "2023-12-29T09:29:38.296Z"
   },
   {
    "duration": 39010,
    "start_time": "2023-12-29T09:29:49.782Z"
   },
   {
    "duration": 4668,
    "start_time": "2023-12-29T09:30:36.675Z"
   },
   {
    "duration": 3838,
    "start_time": "2023-12-29T09:31:23.747Z"
   },
   {
    "duration": 2978,
    "start_time": "2023-12-29T09:31:40.348Z"
   },
   {
    "duration": 21841,
    "start_time": "2023-12-29T09:32:07.662Z"
   },
   {
    "duration": 379,
    "start_time": "2023-12-29T09:33:18.710Z"
   },
   {
    "duration": 8373,
    "start_time": "2023-12-29T09:33:37.608Z"
   },
   {
    "duration": 20,
    "start_time": "2023-12-29T09:34:22.599Z"
   },
   {
    "duration": 4,
    "start_time": "2023-12-29T09:35:04.311Z"
   },
   {
    "duration": 21,
    "start_time": "2023-12-29T09:35:08.948Z"
   },
   {
    "duration": 4381,
    "start_time": "2023-12-29T09:35:30.133Z"
   },
   {
    "duration": 3,
    "start_time": "2023-12-29T09:37:13.644Z"
   },
   {
    "duration": 11,
    "start_time": "2023-12-29T09:37:24.404Z"
   },
   {
    "duration": 148,
    "start_time": "2023-12-29T09:37:38.583Z"
   },
   {
    "duration": 190,
    "start_time": "2023-12-29T09:38:23.264Z"
   },
   {
    "duration": 188,
    "start_time": "2023-12-29T09:39:00.552Z"
   },
   {
    "duration": 188,
    "start_time": "2023-12-29T09:39:04.323Z"
   },
   {
    "duration": 11,
    "start_time": "2023-12-29T09:39:38.921Z"
   },
   {
    "duration": 179,
    "start_time": "2023-12-29T09:39:53.449Z"
   },
   {
    "duration": 10,
    "start_time": "2023-12-29T09:39:53.995Z"
   },
   {
    "duration": 14,
    "start_time": "2023-12-29T09:41:07.894Z"
   },
   {
    "duration": 175,
    "start_time": "2023-12-29T09:41:59.650Z"
   },
   {
    "duration": 181,
    "start_time": "2023-12-29T09:42:11.647Z"
   },
   {
    "duration": 186,
    "start_time": "2023-12-29T09:42:22.141Z"
   },
   {
    "duration": 11,
    "start_time": "2023-12-29T09:42:51.017Z"
   },
   {
    "duration": 39,
    "start_time": "2023-12-29T09:44:20.457Z"
   },
   {
    "duration": 1690,
    "start_time": "2023-12-29T09:45:27.860Z"
   },
   {
    "duration": 649,
    "start_time": "2023-12-29T09:46:42.605Z"
   },
   {
    "duration": 612,
    "start_time": "2023-12-29T09:47:17.643Z"
   },
   {
    "duration": 22,
    "start_time": "2023-12-29T09:48:18.493Z"
   },
   {
    "duration": 22,
    "start_time": "2023-12-29T09:48:45.078Z"
   },
   {
    "duration": 28,
    "start_time": "2023-12-29T09:51:25.027Z"
   },
   {
    "duration": 31,
    "start_time": "2023-12-29T09:53:25.713Z"
   },
   {
    "duration": 27,
    "start_time": "2023-12-29T09:53:58.501Z"
   },
   {
    "duration": 34,
    "start_time": "2023-12-29T11:05:00.067Z"
   },
   {
    "duration": 21,
    "start_time": "2023-12-29T11:05:11.709Z"
   },
   {
    "duration": 11,
    "start_time": "2023-12-29T11:05:34.415Z"
   },
   {
    "duration": 184,
    "start_time": "2023-12-29T11:05:40.879Z"
   },
   {
    "duration": 12,
    "start_time": "2023-12-29T11:05:58.867Z"
   },
   {
    "duration": 1170,
    "start_time": "2023-12-29T11:06:22.210Z"
   },
   {
    "duration": 14,
    "start_time": "2023-12-29T11:06:28.901Z"
   },
   {
    "duration": 282,
    "start_time": "2023-12-29T11:06:34.706Z"
   },
   {
    "duration": 207,
    "start_time": "2023-12-29T11:07:15.691Z"
   },
   {
    "duration": 265,
    "start_time": "2023-12-29T11:08:23.533Z"
   },
   {
    "duration": 195,
    "start_time": "2023-12-29T11:08:36.037Z"
   },
   {
    "duration": 187,
    "start_time": "2023-12-29T11:10:20.334Z"
   },
   {
    "duration": 159,
    "start_time": "2023-12-29T11:10:37.604Z"
   },
   {
    "duration": 177,
    "start_time": "2023-12-29T11:10:50.967Z"
   },
   {
    "duration": 159,
    "start_time": "2023-12-29T11:10:57.302Z"
   },
   {
    "duration": 164,
    "start_time": "2023-12-29T11:11:05.999Z"
   },
   {
    "duration": 28,
    "start_time": "2023-12-29T11:11:43.704Z"
   },
   {
    "duration": 35,
    "start_time": "2023-12-29T11:11:55.352Z"
   },
   {
    "duration": 888,
    "start_time": "2023-12-29T11:13:18.811Z"
   },
   {
    "duration": 203,
    "start_time": "2023-12-29T11:13:27.832Z"
   },
   {
    "duration": 170,
    "start_time": "2023-12-29T11:13:44.289Z"
   },
   {
    "duration": 216,
    "start_time": "2023-12-29T11:13:56.463Z"
   },
   {
    "duration": 173,
    "start_time": "2023-12-29T11:15:30.219Z"
   },
   {
    "duration": 215,
    "start_time": "2023-12-29T11:16:03.465Z"
   },
   {
    "duration": 128,
    "start_time": "2023-12-29T11:16:26.094Z"
   },
   {
    "duration": 28,
    "start_time": "2023-12-29T11:17:19.297Z"
   },
   {
    "duration": 21,
    "start_time": "2023-12-29T11:17:33.704Z"
   },
   {
    "duration": 8,
    "start_time": "2023-12-29T11:17:44.369Z"
   },
   {
    "duration": 23,
    "start_time": "2023-12-29T11:17:54.664Z"
   },
   {
    "duration": 20,
    "start_time": "2023-12-29T11:18:00.339Z"
   },
   {
    "duration": 143,
    "start_time": "2023-12-29T11:18:15.665Z"
   },
   {
    "duration": 195,
    "start_time": "2023-12-29T11:18:26.673Z"
   },
   {
    "duration": 183,
    "start_time": "2023-12-29T11:18:59.799Z"
   },
   {
    "duration": 196,
    "start_time": "2023-12-29T11:19:07.671Z"
   },
   {
    "duration": 205,
    "start_time": "2023-12-29T11:19:40.226Z"
   },
   {
    "duration": 26,
    "start_time": "2023-12-29T11:20:25.834Z"
   },
   {
    "duration": 40,
    "start_time": "2023-12-29T11:20:31.070Z"
   },
   {
    "duration": 546,
    "start_time": "2023-12-29T11:24:03.051Z"
   },
   {
    "duration": 179,
    "start_time": "2023-12-29T11:25:08.161Z"
   },
   {
    "duration": 10,
    "start_time": "2023-12-29T11:26:04.845Z"
   },
   {
    "duration": 22,
    "start_time": "2023-12-29T11:26:59.250Z"
   },
   {
    "duration": 23,
    "start_time": "2023-12-29T11:27:30.883Z"
   },
   {
    "duration": 9,
    "start_time": "2023-12-29T11:27:43.451Z"
   },
   {
    "duration": 1254,
    "start_time": "2023-12-29T11:27:59.893Z"
   },
   {
    "duration": 8,
    "start_time": "2023-12-29T11:28:08.653Z"
   },
   {
    "duration": 8,
    "start_time": "2023-12-29T11:28:17.837Z"
   },
   {
    "duration": 7,
    "start_time": "2023-12-29T11:28:23.279Z"
   },
   {
    "duration": 8,
    "start_time": "2023-12-29T11:29:23.572Z"
   },
   {
    "duration": 154265,
    "start_time": "2023-12-29T11:48:31.562Z"
   },
   {
    "duration": 0,
    "start_time": "2023-12-29T11:51:05.828Z"
   },
   {
    "duration": 118,
    "start_time": "2023-12-29T11:51:15.621Z"
   },
   {
    "duration": 6,
    "start_time": "2023-12-29T11:51:37.080Z"
   },
   {
    "duration": 5,
    "start_time": "2023-12-29T11:51:42.173Z"
   },
   {
    "duration": 6,
    "start_time": "2023-12-29T11:51:47.635Z"
   },
   {
    "duration": 150,
    "start_time": "2023-12-29T11:54:06.106Z"
   },
   {
    "duration": 184,
    "start_time": "2023-12-29T11:54:13.924Z"
   },
   {
    "duration": 20,
    "start_time": "2023-12-29T12:01:56.526Z"
   },
   {
    "duration": 51,
    "start_time": "2023-12-29T12:06:11.104Z"
   },
   {
    "duration": 50,
    "start_time": "2023-12-29T12:06:43.404Z"
   },
   {
    "duration": 55,
    "start_time": "2023-12-29T12:09:33.759Z"
   },
   {
    "duration": 58,
    "start_time": "2023-12-29T12:10:02.625Z"
   },
   {
    "duration": 57,
    "start_time": "2023-12-29T12:10:13.839Z"
   },
   {
    "duration": 54,
    "start_time": "2023-12-29T12:12:26.122Z"
   },
   {
    "duration": 53,
    "start_time": "2023-12-29T12:13:48.187Z"
   },
   {
    "duration": 53,
    "start_time": "2023-12-29T12:13:57.855Z"
   },
   {
    "duration": 1054,
    "start_time": "2023-12-29T12:16:57.658Z"
   },
   {
    "duration": 49,
    "start_time": "2023-12-29T12:17:23.500Z"
   },
   {
    "duration": 48,
    "start_time": "2023-12-29T12:17:37.059Z"
   },
   {
    "duration": 51,
    "start_time": "2023-12-29T12:17:47.876Z"
   },
   {
    "duration": 29,
    "start_time": "2023-12-29T12:19:11.633Z"
   },
   {
    "duration": 18,
    "start_time": "2023-12-29T12:19:32.253Z"
   },
   {
    "duration": 4,
    "start_time": "2023-12-29T12:20:44.517Z"
   },
   {
    "duration": 4,
    "start_time": "2023-12-29T12:21:14.126Z"
   },
   {
    "duration": 47,
    "start_time": "2023-12-29T12:21:34.352Z"
   },
   {
    "duration": 4,
    "start_time": "2023-12-29T12:21:45.351Z"
   },
   {
    "duration": 47,
    "start_time": "2023-12-29T12:22:03.901Z"
   },
   {
    "duration": 50,
    "start_time": "2023-12-29T12:22:14.293Z"
   },
   {
    "duration": 56,
    "start_time": "2023-12-29T12:22:20.606Z"
   },
   {
    "duration": 801,
    "start_time": "2023-12-29T12:25:34.634Z"
   },
   {
    "duration": 4,
    "start_time": "2023-12-29T12:26:24.674Z"
   },
   {
    "duration": 4,
    "start_time": "2023-12-29T12:29:33.978Z"
   },
   {
    "duration": 63,
    "start_time": "2023-12-29T12:29:36.760Z"
   },
   {
    "duration": 54,
    "start_time": "2023-12-29T12:29:50.275Z"
   },
   {
    "duration": 54,
    "start_time": "2023-12-29T12:30:11.356Z"
   },
   {
    "duration": 23,
    "start_time": "2023-12-29T12:37:02.793Z"
   },
   {
    "duration": 670,
    "start_time": "2023-12-29T12:38:07.147Z"
   },
   {
    "duration": 26,
    "start_time": "2023-12-29T12:39:17.369Z"
   },
   {
    "duration": 36,
    "start_time": "2023-12-29T12:39:28.523Z"
   },
   {
    "duration": 24,
    "start_time": "2023-12-29T12:39:40.389Z"
   },
   {
    "duration": 29,
    "start_time": "2023-12-29T12:42:11.478Z"
   },
   {
    "duration": 16,
    "start_time": "2023-12-29T12:42:15.869Z"
   },
   {
    "duration": 4,
    "start_time": "2023-12-29T12:42:22.867Z"
   },
   {
    "duration": 15,
    "start_time": "2023-12-29T12:42:47.643Z"
   },
   {
    "duration": 4,
    "start_time": "2023-12-29T12:42:48.383Z"
   },
   {
    "duration": 4,
    "start_time": "2023-12-29T12:42:59.585Z"
   },
   {
    "duration": 210,
    "start_time": "2023-12-29T12:44:40.575Z"
   },
   {
    "duration": 192,
    "start_time": "2023-12-29T12:44:46.938Z"
   },
   {
    "duration": 177,
    "start_time": "2023-12-29T12:45:11.249Z"
   },
   {
    "duration": 11,
    "start_time": "2023-12-29T12:53:37.457Z"
   },
   {
    "duration": 60,
    "start_time": "2023-12-29T12:54:16.676Z"
   },
   {
    "duration": 18,
    "start_time": "2023-12-29T12:54:22.966Z"
   },
   {
    "duration": 18,
    "start_time": "2023-12-29T12:54:42.262Z"
   },
   {
    "duration": 20,
    "start_time": "2023-12-29T12:54:48.342Z"
   },
   {
    "duration": 17,
    "start_time": "2023-12-29T12:55:03.059Z"
   },
   {
    "duration": 643,
    "start_time": "2023-12-29T12:55:46.392Z"
   },
   {
    "duration": 21,
    "start_time": "2023-12-29T12:56:36.345Z"
   },
   {
    "duration": 22,
    "start_time": "2023-12-29T12:58:11.066Z"
   },
   {
    "duration": 20,
    "start_time": "2023-12-29T12:58:28.530Z"
   },
   {
    "duration": 23,
    "start_time": "2023-12-29T12:58:56.176Z"
   },
   {
    "duration": 23,
    "start_time": "2023-12-29T13:02:27.485Z"
   },
   {
    "duration": 33,
    "start_time": "2023-12-29T13:03:12.079Z"
   },
   {
    "duration": 29,
    "start_time": "2023-12-29T13:03:19.364Z"
   },
   {
    "duration": 61,
    "start_time": "2023-12-29T13:04:29.946Z"
   },
   {
    "duration": 24,
    "start_time": "2023-12-29T13:04:42.767Z"
   },
   {
    "duration": 25,
    "start_time": "2023-12-29T13:05:10.412Z"
   },
   {
    "duration": 25,
    "start_time": "2023-12-29T13:05:33.783Z"
   },
   {
    "duration": 26,
    "start_time": "2023-12-29T13:05:40.246Z"
   },
   {
    "duration": 24,
    "start_time": "2023-12-29T13:05:49.368Z"
   },
   {
    "duration": 20,
    "start_time": "2023-12-29T13:06:33.185Z"
   },
   {
    "duration": 196,
    "start_time": "2023-12-29T13:06:43.957Z"
   },
   {
    "duration": 182,
    "start_time": "2023-12-29T13:07:20.792Z"
   },
   {
    "duration": 189,
    "start_time": "2023-12-29T13:07:27.813Z"
   },
   {
    "duration": 198,
    "start_time": "2023-12-29T13:08:14.546Z"
   },
   {
    "duration": 210,
    "start_time": "2023-12-29T13:10:18.634Z"
   },
   {
    "duration": 6,
    "start_time": "2023-12-29T13:11:39.433Z"
   },
   {
    "duration": 222,
    "start_time": "2023-12-29T13:11:50.627Z"
   },
   {
    "duration": 210,
    "start_time": "2023-12-29T13:12:00.315Z"
   },
   {
    "duration": 640,
    "start_time": "2023-12-29T13:12:23.427Z"
   },
   {
    "duration": 659,
    "start_time": "2023-12-29T13:12:31.474Z"
   },
   {
    "duration": 215,
    "start_time": "2023-12-29T13:12:39.926Z"
   },
   {
    "duration": 221,
    "start_time": "2023-12-29T13:13:34.266Z"
   },
   {
    "duration": 212,
    "start_time": "2023-12-29T13:13:41.004Z"
   },
   {
    "duration": 215,
    "start_time": "2023-12-29T13:14:03.421Z"
   },
   {
    "duration": 217,
    "start_time": "2023-12-29T13:14:18.110Z"
   },
   {
    "duration": 7,
    "start_time": "2023-12-29T13:14:41.715Z"
   },
   {
    "duration": 4,
    "start_time": "2023-12-29T13:14:56.087Z"
   },
   {
    "duration": 215,
    "start_time": "2023-12-29T13:18:12.043Z"
   },
   {
    "duration": 222,
    "start_time": "2023-12-29T13:18:41.035Z"
   },
   {
    "duration": 231,
    "start_time": "2023-12-29T13:18:45.642Z"
   },
   {
    "duration": 5,
    "start_time": "2023-12-29T13:27:32.829Z"
   },
   {
    "duration": 22317,
    "start_time": "2023-12-29T13:28:37.315Z"
   },
   {
    "duration": 73,
    "start_time": "2023-12-29T13:29:50.411Z"
   },
   {
    "duration": 12691,
    "start_time": "2023-12-29T13:30:02.928Z"
   },
   {
    "duration": 589,
    "start_time": "2023-12-29T13:41:07.664Z"
   },
   {
    "duration": 632,
    "start_time": "2023-12-29T13:41:30.922Z"
   },
   {
    "duration": 819,
    "start_time": "2023-12-29T13:44:47.093Z"
   },
   {
    "duration": 955,
    "start_time": "2023-12-29T13:44:53.792Z"
   },
   {
    "duration": 859,
    "start_time": "2023-12-29T13:45:48.670Z"
   },
   {
    "duration": 1210,
    "start_time": "2023-12-29T13:46:27.775Z"
   },
   {
    "duration": 657,
    "start_time": "2023-12-29T13:47:13.940Z"
   },
   {
    "duration": 671,
    "start_time": "2023-12-29T13:47:21.551Z"
   },
   {
    "duration": 44,
    "start_time": "2023-12-29T13:48:27.335Z"
   },
   {
    "duration": 3,
    "start_time": "2023-12-29T13:48:57.958Z"
   },
   {
    "duration": 1659,
    "start_time": "2023-12-29T13:48:57.963Z"
   },
   {
    "duration": 84,
    "start_time": "2023-12-29T13:48:59.623Z"
   },
   {
    "duration": 49,
    "start_time": "2023-12-29T13:48:59.709Z"
   },
   {
    "duration": 28,
    "start_time": "2023-12-29T13:48:59.760Z"
   },
   {
    "duration": 60,
    "start_time": "2023-12-29T13:48:59.789Z"
   },
   {
    "duration": 1290,
    "start_time": "2023-12-29T13:49:39.886Z"
   },
   {
    "duration": 1182,
    "start_time": "2023-12-29T13:51:23.632Z"
   },
   {
    "duration": 82,
    "start_time": "2023-12-29T13:51:25.687Z"
   },
   {
    "duration": 845,
    "start_time": "2023-12-29T13:51:30.358Z"
   },
   {
    "duration": 1420,
    "start_time": "2023-12-29T13:53:52.520Z"
   },
   {
    "duration": 721,
    "start_time": "2023-12-29T13:54:04.065Z"
   },
   {
    "duration": 18,
    "start_time": "2023-12-29T13:54:18.545Z"
   },
   {
    "duration": 189,
    "start_time": "2023-12-29T13:54:50.593Z"
   },
   {
    "duration": 198,
    "start_time": "2023-12-29T13:55:00.625Z"
   },
   {
    "duration": 838,
    "start_time": "2023-12-29T13:55:25.058Z"
   },
   {
    "duration": 6744,
    "start_time": "2023-12-29T13:55:52.107Z"
   },
   {
    "duration": 6365,
    "start_time": "2023-12-29T13:56:39.034Z"
   },
   {
    "duration": 6353,
    "start_time": "2023-12-29T13:59:55.750Z"
   },
   {
    "duration": 6467,
    "start_time": "2023-12-29T14:00:14.102Z"
   },
   {
    "duration": 6480,
    "start_time": "2023-12-29T14:00:27.029Z"
   },
   {
    "duration": 79,
    "start_time": "2023-12-29T14:01:13.328Z"
   },
   {
    "duration": 6327,
    "start_time": "2023-12-29T14:01:18.847Z"
   },
   {
    "duration": 6600,
    "start_time": "2023-12-29T14:01:27.182Z"
   },
   {
    "duration": 6639,
    "start_time": "2023-12-29T14:01:38.423Z"
   },
   {
    "duration": 5498,
    "start_time": "2023-12-29T14:01:52.646Z"
   },
   {
    "duration": 6820,
    "start_time": "2023-12-29T14:03:01.200Z"
   },
   {
    "duration": 6634,
    "start_time": "2023-12-29T14:03:13.183Z"
   },
   {
    "duration": 6292,
    "start_time": "2023-12-29T14:04:11.576Z"
   },
   {
    "duration": 456,
    "start_time": "2023-12-29T14:08:26.540Z"
   },
   {
    "duration": 377,
    "start_time": "2023-12-29T14:09:39.372Z"
   },
   {
    "duration": 386,
    "start_time": "2023-12-29T14:10:23.117Z"
   },
   {
    "duration": 366,
    "start_time": "2023-12-29T14:10:53.213Z"
   },
   {
    "duration": 6,
    "start_time": "2023-12-29T14:14:16.159Z"
   },
   {
    "duration": 22,
    "start_time": "2023-12-29T14:14:25.361Z"
   },
   {
    "duration": 17,
    "start_time": "2023-12-29T14:14:46.992Z"
   },
   {
    "duration": 17,
    "start_time": "2023-12-29T14:14:51.568Z"
   },
   {
    "duration": 18,
    "start_time": "2023-12-29T14:15:03.993Z"
   },
   {
    "duration": 17,
    "start_time": "2023-12-29T14:15:18.283Z"
   },
   {
    "duration": 8,
    "start_time": "2023-12-29T14:19:21.679Z"
   },
   {
    "duration": 6,
    "start_time": "2023-12-29T14:19:32.595Z"
   },
   {
    "duration": 12,
    "start_time": "2023-12-29T14:20:01.195Z"
   },
   {
    "duration": 178,
    "start_time": "2023-12-29T14:20:38.564Z"
   },
   {
    "duration": 637,
    "start_time": "2023-12-29T14:20:41.363Z"
   },
   {
    "duration": 111,
    "start_time": "2023-12-29T14:22:41.061Z"
   },
   {
    "duration": 588,
    "start_time": "2023-12-29T14:24:08.439Z"
   },
   {
    "duration": 14,
    "start_time": "2023-12-29T14:24:20.526Z"
   },
   {
    "duration": 35,
    "start_time": "2023-12-29T14:32:32.086Z"
   },
   {
    "duration": 21,
    "start_time": "2023-12-29T14:32:38.221Z"
   },
   {
    "duration": 63,
    "start_time": "2023-12-29T14:33:35.310Z"
   },
   {
    "duration": 52,
    "start_time": "2023-12-29T14:34:03.390Z"
   },
   {
    "duration": 78,
    "start_time": "2023-12-29T14:34:07.135Z"
   },
   {
    "duration": 65,
    "start_time": "2023-12-29T14:34:13.102Z"
   },
   {
    "duration": 77,
    "start_time": "2023-12-29T14:35:54.848Z"
   },
   {
    "duration": 64,
    "start_time": "2023-12-29T14:36:02.216Z"
   },
   {
    "duration": 40,
    "start_time": "2023-12-29T14:36:35.153Z"
   },
   {
    "duration": 13,
    "start_time": "2023-12-29T14:38:00.481Z"
   },
   {
    "duration": 16,
    "start_time": "2023-12-29T14:40:08.211Z"
   },
   {
    "duration": 3,
    "start_time": "2023-12-29T14:40:44.379Z"
   },
   {
    "duration": 4,
    "start_time": "2023-12-29T14:40:52.343Z"
   },
   {
    "duration": 16,
    "start_time": "2023-12-29T14:40:58.324Z"
   },
   {
    "duration": 89,
    "start_time": "2023-12-29T14:41:08.372Z"
   },
   {
    "duration": 93,
    "start_time": "2023-12-29T14:41:18.084Z"
   },
   {
    "duration": 98,
    "start_time": "2023-12-29T14:43:18.046Z"
   },
   {
    "duration": 100,
    "start_time": "2023-12-29T14:43:27.638Z"
   },
   {
    "duration": 96,
    "start_time": "2023-12-29T14:43:38.349Z"
   },
   {
    "duration": 96,
    "start_time": "2023-12-29T14:46:17.624Z"
   },
   {
    "duration": 94,
    "start_time": "2023-12-29T14:46:32.951Z"
   },
   {
    "duration": 120,
    "start_time": "2023-12-29T14:49:28.467Z"
   },
   {
    "duration": 86,
    "start_time": "2023-12-29T15:01:53.700Z"
   },
   {
    "duration": 4,
    "start_time": "2023-12-29T15:02:31.069Z"
   },
   {
    "duration": 96,
    "start_time": "2023-12-29T15:03:53.758Z"
   },
   {
    "duration": 89,
    "start_time": "2023-12-29T15:04:13.959Z"
   },
   {
    "duration": 112,
    "start_time": "2023-12-29T15:04:24.815Z"
   },
   {
    "duration": 16,
    "start_time": "2023-12-29T15:06:47.960Z"
   },
   {
    "duration": 93,
    "start_time": "2023-12-29T15:08:11.313Z"
   },
   {
    "duration": 162,
    "start_time": "2023-12-29T15:09:26.673Z"
   },
   {
    "duration": 74,
    "start_time": "2023-12-29T15:10:43.179Z"
   },
   {
    "duration": 148,
    "start_time": "2023-12-29T15:10:52.930Z"
   },
   {
    "duration": 181,
    "start_time": "2023-12-29T15:11:25.844Z"
   },
   {
    "duration": 133,
    "start_time": "2023-12-29T15:11:40.547Z"
   },
   {
    "duration": 18,
    "start_time": "2023-12-29T15:19:45.041Z"
   },
   {
    "duration": 24,
    "start_time": "2023-12-29T15:20:07.136Z"
   },
   {
    "duration": 164,
    "start_time": "2023-12-29T15:20:58.547Z"
   },
   {
    "duration": 132,
    "start_time": "2023-12-29T15:21:26.195Z"
   },
   {
    "duration": 171,
    "start_time": "2023-12-29T15:21:30.611Z"
   },
   {
    "duration": 3,
    "start_time": "2023-12-29T15:22:24.116Z"
   },
   {
    "duration": 1736,
    "start_time": "2023-12-29T15:22:24.122Z"
   },
   {
    "duration": 101,
    "start_time": "2023-12-29T15:22:25.860Z"
   },
   {
    "duration": 55,
    "start_time": "2023-12-29T15:22:25.965Z"
   },
   {
    "duration": 38,
    "start_time": "2023-12-29T15:22:26.022Z"
   },
   {
    "duration": 35,
    "start_time": "2023-12-29T15:22:26.061Z"
   },
   {
    "duration": 1359,
    "start_time": "2023-12-29T15:22:26.098Z"
   },
   {
    "duration": 86,
    "start_time": "2023-12-29T15:22:27.466Z"
   },
   {
    "duration": 820,
    "start_time": "2023-12-29T15:22:27.554Z"
   },
   {
    "duration": 741,
    "start_time": "2023-12-29T15:22:28.376Z"
   },
   {
    "duration": 18,
    "start_time": "2023-12-29T15:22:29.119Z"
   },
   {
    "duration": 196,
    "start_time": "2023-12-29T15:22:29.139Z"
   },
   {
    "duration": 182,
    "start_time": "2023-12-29T15:22:29.336Z"
   },
   {
    "duration": 814,
    "start_time": "2023-12-29T15:22:29.519Z"
   },
   {
    "duration": 6553,
    "start_time": "2023-12-29T15:22:30.334Z"
   },
   {
    "duration": 391,
    "start_time": "2023-12-29T15:22:36.888Z"
   },
   {
    "duration": 10,
    "start_time": "2023-12-29T15:22:37.280Z"
   },
   {
    "duration": 54,
    "start_time": "2023-12-29T15:22:37.291Z"
   },
   {
    "duration": 31,
    "start_time": "2023-12-29T15:22:37.346Z"
   },
   {
    "duration": 6,
    "start_time": "2023-12-29T15:22:37.378Z"
   },
   {
    "duration": 220,
    "start_time": "2023-12-29T15:22:37.385Z"
   },
   {
    "duration": 547,
    "start_time": "2023-12-29T15:22:37.606Z"
   },
   {
    "duration": 87,
    "start_time": "2023-12-29T15:22:38.155Z"
   },
   {
    "duration": 637,
    "start_time": "2023-12-29T15:22:38.243Z"
   },
   {
    "duration": 15,
    "start_time": "2023-12-29T15:22:38.882Z"
   },
   {
    "duration": 36,
    "start_time": "2023-12-29T15:22:38.898Z"
   },
   {
    "duration": 35,
    "start_time": "2023-12-29T15:22:51.587Z"
   },
   {
    "duration": 145,
    "start_time": "2023-12-29T15:22:53.445Z"
   },
   {
    "duration": 117,
    "start_time": "2023-12-29T15:23:09.436Z"
   },
   {
    "duration": 144,
    "start_time": "2023-12-29T15:23:26.236Z"
   },
   {
    "duration": 4,
    "start_time": "2023-12-29T15:23:28.372Z"
   },
   {
    "duration": 5,
    "start_time": "2023-12-29T15:23:39.053Z"
   },
   {
    "duration": 4,
    "start_time": "2023-12-29T15:26:18.003Z"
   },
   {
    "duration": 1602,
    "start_time": "2023-12-29T15:26:18.009Z"
   },
   {
    "duration": 82,
    "start_time": "2023-12-29T15:26:19.612Z"
   },
   {
    "duration": 8,
    "start_time": "2023-12-29T15:26:19.696Z"
   },
   {
    "duration": 10,
    "start_time": "2023-12-29T15:26:19.705Z"
   },
   {
    "duration": 7,
    "start_time": "2023-12-29T15:26:19.716Z"
   },
   {
    "duration": 1314,
    "start_time": "2023-12-29T15:26:19.724Z"
   },
   {
    "duration": 93,
    "start_time": "2023-12-29T15:26:21.039Z"
   },
   {
    "duration": 841,
    "start_time": "2023-12-29T15:26:21.133Z"
   },
   {
    "duration": 754,
    "start_time": "2023-12-29T15:26:21.977Z"
   },
   {
    "duration": 18,
    "start_time": "2023-12-29T15:26:22.732Z"
   },
   {
    "duration": 209,
    "start_time": "2023-12-29T15:26:22.751Z"
   },
   {
    "duration": 178,
    "start_time": "2023-12-29T15:26:22.961Z"
   },
   {
    "duration": 809,
    "start_time": "2023-12-29T15:26:23.140Z"
   },
   {
    "duration": 6476,
    "start_time": "2023-12-29T15:26:23.951Z"
   },
   {
    "duration": 392,
    "start_time": "2023-12-29T15:26:30.429Z"
   },
   {
    "duration": 11,
    "start_time": "2023-12-29T15:26:30.822Z"
   },
   {
    "duration": 93,
    "start_time": "2023-12-29T15:26:30.834Z"
   },
   {
    "duration": 14,
    "start_time": "2023-12-29T15:26:30.928Z"
   },
   {
    "duration": 44,
    "start_time": "2023-12-29T15:26:30.943Z"
   },
   {
    "duration": 238,
    "start_time": "2023-12-29T15:26:30.989Z"
   },
   {
    "duration": 545,
    "start_time": "2023-12-29T15:26:31.229Z"
   },
   {
    "duration": 78,
    "start_time": "2023-12-29T15:26:31.775Z"
   },
   {
    "duration": 649,
    "start_time": "2023-12-29T15:26:31.865Z"
   },
   {
    "duration": 15,
    "start_time": "2023-12-29T15:26:32.516Z"
   },
   {
    "duration": 48,
    "start_time": "2023-12-29T15:26:32.534Z"
   },
   {
    "duration": 146,
    "start_time": "2023-12-29T15:26:40.414Z"
   },
   {
    "duration": 2,
    "start_time": "2023-12-29T15:27:58.854Z"
   },
   {
    "duration": 1652,
    "start_time": "2023-12-29T15:27:58.858Z"
   },
   {
    "duration": 91,
    "start_time": "2023-12-29T15:28:00.512Z"
   },
   {
    "duration": 58,
    "start_time": "2023-12-29T15:28:00.605Z"
   },
   {
    "duration": 43,
    "start_time": "2023-12-29T15:28:00.665Z"
   },
   {
    "duration": 46,
    "start_time": "2023-12-29T15:28:00.710Z"
   },
   {
    "duration": 1345,
    "start_time": "2023-12-29T15:28:00.757Z"
   },
   {
    "duration": 93,
    "start_time": "2023-12-29T15:28:02.104Z"
   },
   {
    "duration": 841,
    "start_time": "2023-12-29T15:28:02.198Z"
   },
   {
    "duration": 715,
    "start_time": "2023-12-29T15:28:03.041Z"
   },
   {
    "duration": 27,
    "start_time": "2023-12-29T15:28:03.757Z"
   },
   {
    "duration": 210,
    "start_time": "2023-12-29T15:28:03.786Z"
   },
   {
    "duration": 180,
    "start_time": "2023-12-29T15:28:03.998Z"
   },
   {
    "duration": 815,
    "start_time": "2023-12-29T15:28:04.180Z"
   },
   {
    "duration": 6506,
    "start_time": "2023-12-29T15:28:04.997Z"
   },
   {
    "duration": 368,
    "start_time": "2023-12-29T15:28:11.504Z"
   },
   {
    "duration": 10,
    "start_time": "2023-12-29T15:28:11.873Z"
   },
   {
    "duration": 53,
    "start_time": "2023-12-29T15:28:11.885Z"
   },
   {
    "duration": 33,
    "start_time": "2023-12-29T15:28:11.939Z"
   },
   {
    "duration": 6,
    "start_time": "2023-12-29T15:28:11.973Z"
   },
   {
    "duration": 211,
    "start_time": "2023-12-29T15:28:11.980Z"
   },
   {
    "duration": 527,
    "start_time": "2023-12-29T15:28:12.192Z"
   },
   {
    "duration": 84,
    "start_time": "2023-12-29T15:28:12.720Z"
   },
   {
    "duration": 624,
    "start_time": "2023-12-29T15:28:12.806Z"
   },
   {
    "duration": 19,
    "start_time": "2023-12-29T15:28:13.432Z"
   },
   {
    "duration": 42,
    "start_time": "2023-12-29T15:28:13.454Z"
   },
   {
    "duration": 246,
    "start_time": "2023-12-29T15:28:17.376Z"
   },
   {
    "duration": 5,
    "start_time": "2023-12-29T15:28:22.848Z"
   },
   {
    "duration": 3,
    "start_time": "2023-12-29T15:48:17.390Z"
   },
   {
    "duration": 1585,
    "start_time": "2023-12-29T15:48:17.395Z"
   },
   {
    "duration": 79,
    "start_time": "2023-12-29T15:48:18.982Z"
   },
   {
    "duration": 23,
    "start_time": "2023-12-29T15:48:19.065Z"
   },
   {
    "duration": 21,
    "start_time": "2023-12-29T15:48:19.089Z"
   },
   {
    "duration": 20,
    "start_time": "2023-12-29T15:48:19.112Z"
   },
   {
    "duration": 1324,
    "start_time": "2023-12-29T15:48:19.133Z"
   },
   {
    "duration": 86,
    "start_time": "2023-12-29T15:48:20.465Z"
   },
   {
    "duration": 828,
    "start_time": "2023-12-29T15:48:20.553Z"
   },
   {
    "duration": 696,
    "start_time": "2023-12-29T15:48:21.383Z"
   },
   {
    "duration": 19,
    "start_time": "2023-12-29T15:48:22.080Z"
   },
   {
    "duration": 200,
    "start_time": "2023-12-29T15:48:22.101Z"
   },
   {
    "duration": 182,
    "start_time": "2023-12-29T15:48:22.303Z"
   },
   {
    "duration": 822,
    "start_time": "2023-12-29T15:48:22.486Z"
   },
   {
    "duration": 6465,
    "start_time": "2023-12-29T15:48:23.310Z"
   },
   {
    "duration": 378,
    "start_time": "2023-12-29T15:48:29.777Z"
   },
   {
    "duration": 15,
    "start_time": "2023-12-29T15:48:30.157Z"
   },
   {
    "duration": 86,
    "start_time": "2023-12-29T15:48:30.174Z"
   },
   {
    "duration": 13,
    "start_time": "2023-12-29T15:48:30.262Z"
   },
   {
    "duration": 53,
    "start_time": "2023-12-29T15:48:30.277Z"
   },
   {
    "duration": 228,
    "start_time": "2023-12-29T15:48:30.332Z"
   },
   {
    "duration": 554,
    "start_time": "2023-12-29T15:48:30.561Z"
   },
   {
    "duration": 85,
    "start_time": "2023-12-29T15:48:31.116Z"
   },
   {
    "duration": 623,
    "start_time": "2023-12-29T15:48:31.203Z"
   },
   {
    "duration": 15,
    "start_time": "2023-12-29T15:48:31.827Z"
   },
   {
    "duration": 49,
    "start_time": "2023-12-29T15:48:31.844Z"
   },
   {
    "duration": 213,
    "start_time": "2023-12-29T15:49:17.137Z"
   },
   {
    "duration": 224,
    "start_time": "2023-12-29T15:49:34.242Z"
   },
   {
    "duration": 147,
    "start_time": "2023-12-29T15:49:38.794Z"
   },
   {
    "duration": 39,
    "start_time": "2023-12-29T15:49:49.053Z"
   },
   {
    "duration": 157,
    "start_time": "2023-12-29T15:49:53.883Z"
   },
   {
    "duration": 79,
    "start_time": "2023-12-29T17:16:42.466Z"
   },
   {
    "duration": 21,
    "start_time": "2023-12-29T17:16:49.735Z"
   },
   {
    "duration": 165,
    "start_time": "2023-12-29T17:17:07.871Z"
   },
   {
    "duration": 162,
    "start_time": "2023-12-29T17:17:26.090Z"
   },
   {
    "duration": 33,
    "start_time": "2023-12-29T17:18:06.345Z"
   },
   {
    "duration": 409,
    "start_time": "2023-12-29T17:18:17.584Z"
   },
   {
    "duration": 4,
    "start_time": "2023-12-29T17:19:36.686Z"
   },
   {
    "duration": 1611,
    "start_time": "2023-12-29T17:19:36.692Z"
   },
   {
    "duration": 86,
    "start_time": "2023-12-29T17:19:38.305Z"
   },
   {
    "duration": 16,
    "start_time": "2023-12-29T17:19:38.393Z"
   },
   {
    "duration": 7,
    "start_time": "2023-12-29T17:19:38.411Z"
   },
   {
    "duration": 5,
    "start_time": "2023-12-29T17:19:38.420Z"
   },
   {
    "duration": 1345,
    "start_time": "2023-12-29T17:19:38.426Z"
   },
   {
    "duration": 95,
    "start_time": "2023-12-29T17:19:39.773Z"
   },
   {
    "duration": 839,
    "start_time": "2023-12-29T17:19:39.869Z"
   },
   {
    "duration": 748,
    "start_time": "2023-12-29T17:19:40.710Z"
   },
   {
    "duration": 18,
    "start_time": "2023-12-29T17:19:41.465Z"
   },
   {
    "duration": 193,
    "start_time": "2023-12-29T17:19:41.484Z"
   },
   {
    "duration": 189,
    "start_time": "2023-12-29T17:19:41.678Z"
   },
   {
    "duration": 811,
    "start_time": "2023-12-29T17:19:41.870Z"
   },
   {
    "duration": 6620,
    "start_time": "2023-12-29T17:19:42.683Z"
   },
   {
    "duration": 379,
    "start_time": "2023-12-29T17:19:49.305Z"
   },
   {
    "duration": 10,
    "start_time": "2023-12-29T17:19:49.686Z"
   },
   {
    "duration": 71,
    "start_time": "2023-12-29T17:19:49.697Z"
   },
   {
    "duration": 14,
    "start_time": "2023-12-29T17:19:49.769Z"
   },
   {
    "duration": 7,
    "start_time": "2023-12-29T17:19:49.784Z"
   },
   {
    "duration": 218,
    "start_time": "2023-12-29T17:19:49.792Z"
   },
   {
    "duration": 599,
    "start_time": "2023-12-29T17:19:50.012Z"
   },
   {
    "duration": 89,
    "start_time": "2023-12-29T17:19:50.612Z"
   },
   {
    "duration": 657,
    "start_time": "2023-12-29T17:19:50.703Z"
   },
   {
    "duration": 15,
    "start_time": "2023-12-29T17:19:51.366Z"
   },
   {
    "duration": 39,
    "start_time": "2023-12-29T17:19:51.383Z"
   },
   {
    "duration": 197,
    "start_time": "2023-12-29T17:19:59.369Z"
   },
   {
    "duration": 9,
    "start_time": "2023-12-29T17:42:30.259Z"
   },
   {
    "duration": 9,
    "start_time": "2023-12-29T17:42:39.323Z"
   },
   {
    "duration": 8,
    "start_time": "2023-12-29T17:43:10.492Z"
   },
   {
    "duration": 8,
    "start_time": "2023-12-29T17:43:20.766Z"
   },
   {
    "duration": 7,
    "start_time": "2023-12-29T17:43:28.442Z"
   },
   {
    "duration": 7,
    "start_time": "2023-12-29T17:43:33.156Z"
   },
   {
    "duration": 7,
    "start_time": "2023-12-29T17:44:17.476Z"
   },
   {
    "duration": 17,
    "start_time": "2023-12-29T17:44:21.645Z"
   },
   {
    "duration": 8,
    "start_time": "2023-12-29T17:44:42.780Z"
   },
   {
    "duration": 24,
    "start_time": "2023-12-29T17:44:46.020Z"
   },
   {
    "duration": 7,
    "start_time": "2023-12-29T17:45:27.980Z"
   },
   {
    "duration": 2,
    "start_time": "2023-12-29T17:45:48.176Z"
   },
   {
    "duration": 1623,
    "start_time": "2023-12-29T17:45:48.180Z"
   },
   {
    "duration": 87,
    "start_time": "2023-12-29T17:45:49.805Z"
   },
   {
    "duration": 12,
    "start_time": "2023-12-29T17:45:49.895Z"
   },
   {
    "duration": 6,
    "start_time": "2023-12-29T17:45:49.908Z"
   },
   {
    "duration": 5,
    "start_time": "2023-12-29T17:45:49.916Z"
   },
   {
    "duration": 1287,
    "start_time": "2023-12-29T17:45:49.922Z"
   },
   {
    "duration": 89,
    "start_time": "2023-12-29T17:45:51.211Z"
   },
   {
    "duration": 798,
    "start_time": "2023-12-29T17:45:51.301Z"
   },
   {
    "duration": 716,
    "start_time": "2023-12-29T17:45:52.102Z"
   },
   {
    "duration": 17,
    "start_time": "2023-12-29T17:45:52.820Z"
   },
   {
    "duration": 202,
    "start_time": "2023-12-29T17:45:52.839Z"
   },
   {
    "duration": 171,
    "start_time": "2023-12-29T17:45:53.043Z"
   },
   {
    "duration": 814,
    "start_time": "2023-12-29T17:45:53.215Z"
   },
   {
    "duration": 6428,
    "start_time": "2023-12-29T17:45:54.031Z"
   },
   {
    "duration": 382,
    "start_time": "2023-12-29T17:46:00.460Z"
   },
   {
    "duration": 10,
    "start_time": "2023-12-29T17:46:04.877Z"
   },
   {
    "duration": 21,
    "start_time": "2023-12-29T17:47:58.173Z"
   },
   {
    "duration": 120,
    "start_time": "2023-12-29T17:48:11.223Z"
   },
   {
    "duration": 92,
    "start_time": "2023-12-29T17:48:15.046Z"
   },
   {
    "duration": 3,
    "start_time": "2023-12-29T17:49:10.026Z"
   },
   {
    "duration": 1710,
    "start_time": "2023-12-29T17:49:10.031Z"
   },
   {
    "duration": 91,
    "start_time": "2023-12-29T17:49:11.743Z"
   },
   {
    "duration": 5,
    "start_time": "2023-12-29T17:49:11.836Z"
   },
   {
    "duration": 5,
    "start_time": "2023-12-29T17:49:11.843Z"
   },
   {
    "duration": 15,
    "start_time": "2023-12-29T17:49:11.850Z"
   },
   {
    "duration": 1242,
    "start_time": "2023-12-29T17:49:11.867Z"
   },
   {
    "duration": 96,
    "start_time": "2023-12-29T17:49:13.111Z"
   },
   {
    "duration": 863,
    "start_time": "2023-12-29T17:49:13.209Z"
   },
   {
    "duration": 779,
    "start_time": "2023-12-29T17:49:14.074Z"
   },
   {
    "duration": 28,
    "start_time": "2023-12-29T17:49:14.855Z"
   },
   {
    "duration": 221,
    "start_time": "2023-12-29T17:49:14.884Z"
   },
   {
    "duration": 187,
    "start_time": "2023-12-29T17:49:15.106Z"
   },
   {
    "duration": 873,
    "start_time": "2023-12-29T17:49:15.295Z"
   },
   {
    "duration": 6546,
    "start_time": "2023-12-29T17:49:16.169Z"
   },
   {
    "duration": 379,
    "start_time": "2023-12-29T17:49:22.716Z"
   },
   {
    "duration": 11,
    "start_time": "2023-12-29T17:49:23.096Z"
   },
   {
    "duration": 23,
    "start_time": "2023-12-29T17:49:26.207Z"
   },
   {
    "duration": 18,
    "start_time": "2023-12-29T17:49:59.408Z"
   },
   {
    "duration": 46,
    "start_time": "2023-12-31T12:19:19.579Z"
   },
   {
    "duration": 2,
    "start_time": "2023-12-31T12:19:30.527Z"
   },
   {
    "duration": 1620,
    "start_time": "2023-12-31T12:19:31.599Z"
   },
   {
    "duration": 85,
    "start_time": "2023-12-31T12:19:33.221Z"
   },
   {
    "duration": 5,
    "start_time": "2023-12-31T12:19:34.335Z"
   },
   {
    "duration": 6,
    "start_time": "2023-12-31T12:19:35.183Z"
   },
   {
    "duration": 5,
    "start_time": "2023-12-31T12:19:37.335Z"
   },
   {
    "duration": 1358,
    "start_time": "2023-12-31T12:19:38.240Z"
   },
   {
    "duration": 84,
    "start_time": "2023-12-31T12:19:42.511Z"
   },
   {
    "duration": 824,
    "start_time": "2023-12-31T12:19:45.977Z"
   },
   {
    "duration": 18,
    "start_time": "2023-12-31T12:19:50.119Z"
   },
   {
    "duration": 187,
    "start_time": "2023-12-31T12:19:54.367Z"
   },
   {
    "duration": 179,
    "start_time": "2023-12-31T12:20:00.736Z"
   },
   {
    "duration": 174,
    "start_time": "2023-12-31T12:20:08.967Z"
   },
   {
    "duration": 170,
    "start_time": "2023-12-31T12:20:26.912Z"
   },
   {
    "duration": 175,
    "start_time": "2023-12-31T12:20:48.456Z"
   },
   {
    "duration": 19,
    "start_time": "2023-12-31T12:22:03.721Z"
   },
   {
    "duration": 174,
    "start_time": "2023-12-31T12:22:05.313Z"
   },
   {
    "duration": 739,
    "start_time": "2023-12-31T12:22:08.154Z"
   },
   {
    "duration": 1167,
    "start_time": "2023-12-31T12:33:38.650Z"
   },
   {
    "duration": 48,
    "start_time": "2023-12-31T12:33:59.809Z"
   },
   {
    "duration": 41,
    "start_time": "2023-12-31T12:34:24.978Z"
   },
   {
    "duration": 821,
    "start_time": "2023-12-31T12:34:25.602Z"
   },
   {
    "duration": 18,
    "start_time": "2023-12-31T12:34:26.634Z"
   },
   {
    "duration": 170,
    "start_time": "2023-12-31T12:34:27.434Z"
   },
   {
    "duration": 698,
    "start_time": "2023-12-31T12:34:27.802Z"
   },
   {
    "duration": 7,
    "start_time": "2023-12-31T12:36:29.203Z"
   },
   {
    "duration": 3,
    "start_time": "2023-12-31T12:37:58.397Z"
   },
   {
    "duration": 4,
    "start_time": "2023-12-31T12:38:13.305Z"
   },
   {
    "duration": 3,
    "start_time": "2023-12-31T12:38:44.974Z"
   },
   {
    "duration": 3,
    "start_time": "2023-12-31T12:41:16.208Z"
   },
   {
    "duration": 4,
    "start_time": "2023-12-31T12:41:50.240Z"
   },
   {
    "duration": 6,
    "start_time": "2023-12-31T12:56:37.238Z"
   },
   {
    "duration": 5,
    "start_time": "2023-12-31T12:56:44.124Z"
   },
   {
    "duration": 4,
    "start_time": "2023-12-31T12:57:16.845Z"
   },
   {
    "duration": 4,
    "start_time": "2023-12-31T12:57:26.630Z"
   },
   {
    "duration": 4,
    "start_time": "2023-12-31T12:57:30.901Z"
   },
   {
    "duration": 11,
    "start_time": "2023-12-31T12:58:32.119Z"
   },
   {
    "duration": 17,
    "start_time": "2023-12-31T12:58:39.367Z"
   },
   {
    "duration": 15,
    "start_time": "2023-12-31T12:59:24.512Z"
   },
   {
    "duration": 9,
    "start_time": "2023-12-31T13:00:03.800Z"
   },
   {
    "duration": 19,
    "start_time": "2023-12-31T13:00:05.897Z"
   },
   {
    "duration": 1012,
    "start_time": "2023-12-31T13:00:47.816Z"
   },
   {
    "duration": 539,
    "start_time": "2023-12-31T13:00:56.376Z"
   },
   {
    "duration": 22,
    "start_time": "2023-12-31T13:03:01.786Z"
   },
   {
    "duration": 761,
    "start_time": "2023-12-31T13:03:06.867Z"
   },
   {
    "duration": 205,
    "start_time": "2023-12-31T13:05:55.381Z"
   },
   {
    "duration": 4,
    "start_time": "2023-12-31T13:06:17.803Z"
   },
   {
    "duration": 1654,
    "start_time": "2023-12-31T13:06:18.067Z"
   },
   {
    "duration": 91,
    "start_time": "2023-12-31T13:06:19.723Z"
   },
   {
    "duration": 4,
    "start_time": "2023-12-31T13:06:19.899Z"
   },
   {
    "duration": 5,
    "start_time": "2023-12-31T13:06:22.434Z"
   },
   {
    "duration": 5,
    "start_time": "2023-12-31T13:06:24.627Z"
   },
   {
    "duration": 1374,
    "start_time": "2023-12-31T13:06:25.210Z"
   },
   {
    "duration": 87,
    "start_time": "2023-12-31T13:06:28.380Z"
   },
   {
    "duration": 853,
    "start_time": "2023-12-31T13:06:30.124Z"
   },
   {
    "duration": 29,
    "start_time": "2023-12-31T13:08:00.720Z"
   },
   {
    "duration": 198,
    "start_time": "2023-12-31T13:08:01.644Z"
   },
   {
    "duration": 766,
    "start_time": "2023-12-31T13:08:02.451Z"
   },
   {
    "duration": 25,
    "start_time": "2023-12-31T13:08:04.971Z"
   },
   {
    "duration": 197,
    "start_time": "2023-12-31T13:08:06.274Z"
   },
   {
    "duration": 826,
    "start_time": "2023-12-31T13:08:07.590Z"
   },
   {
    "duration": 197,
    "start_time": "2023-12-31T13:09:18.043Z"
   },
   {
    "duration": 826,
    "start_time": "2023-12-31T13:09:18.941Z"
   },
   {
    "duration": 18260,
    "start_time": "2023-12-31T13:09:24.231Z"
   },
   {
    "duration": 5703,
    "start_time": "2023-12-31T13:10:03.556Z"
   },
   {
    "duration": 865,
    "start_time": "2023-12-31T13:18:21.657Z"
   },
   {
    "duration": 539,
    "start_time": "2023-12-31T13:18:30.693Z"
   },
   {
    "duration": 776,
    "start_time": "2023-12-31T13:18:43.220Z"
   },
   {
    "duration": 872,
    "start_time": "2023-12-31T13:19:17.852Z"
   },
   {
    "duration": 186,
    "start_time": "2023-12-31T13:19:20.067Z"
   },
   {
    "duration": 769,
    "start_time": "2023-12-31T13:19:20.932Z"
   },
   {
    "duration": 13,
    "start_time": "2023-12-31T13:22:14.225Z"
   },
   {
    "duration": 90,
    "start_time": "2023-12-31T13:22:15.127Z"
   },
   {
    "duration": 11,
    "start_time": "2023-12-31T13:23:03.704Z"
   },
   {
    "duration": 7,
    "start_time": "2023-12-31T13:23:05.494Z"
   },
   {
    "duration": 3,
    "start_time": "2023-12-31T13:35:48.317Z"
   },
   {
    "duration": 1673,
    "start_time": "2023-12-31T13:35:48.844Z"
   },
   {
    "duration": 83,
    "start_time": "2023-12-31T13:35:50.519Z"
   },
   {
    "duration": 3,
    "start_time": "2023-12-31T13:35:50.671Z"
   },
   {
    "duration": 8,
    "start_time": "2023-12-31T13:35:51.032Z"
   },
   {
    "duration": 5,
    "start_time": "2023-12-31T13:35:53.747Z"
   },
   {
    "duration": 1385,
    "start_time": "2023-12-31T13:35:54.712Z"
   },
   {
    "duration": 87,
    "start_time": "2023-12-31T13:35:57.155Z"
   },
   {
    "duration": 811,
    "start_time": "2023-12-31T13:35:59.039Z"
   },
   {
    "duration": 19,
    "start_time": "2023-12-31T13:36:02.545Z"
   },
   {
    "duration": 205,
    "start_time": "2023-12-31T13:36:04.216Z"
   },
   {
    "duration": 707,
    "start_time": "2023-12-31T13:36:04.785Z"
   },
   {
    "duration": 26,
    "start_time": "2023-12-31T13:36:06.960Z"
   },
   {
    "duration": 222,
    "start_time": "2023-12-31T13:36:09.116Z"
   },
   {
    "duration": 5869,
    "start_time": "2023-12-31T13:36:12.118Z"
   },
   {
    "duration": 378,
    "start_time": "2023-12-31T13:36:37.306Z"
   },
   {
    "duration": 10,
    "start_time": "2023-12-31T13:36:45.690Z"
   },
   {
    "duration": 16,
    "start_time": "2023-12-31T13:37:05.047Z"
   },
   {
    "duration": 87,
    "start_time": "2023-12-31T13:37:05.472Z"
   },
   {
    "duration": 208,
    "start_time": "2023-12-31T13:37:23.631Z"
   },
   {
    "duration": 80,
    "start_time": "2023-12-31T13:37:31.574Z"
   },
   {
    "duration": 19,
    "start_time": "2023-12-31T13:37:44.593Z"
   },
   {
    "duration": 79,
    "start_time": "2023-12-31T13:38:33.826Z"
   },
   {
    "duration": 74,
    "start_time": "2023-12-31T13:38:39.426Z"
   },
   {
    "duration": 115,
    "start_time": "2023-12-31T13:38:45.507Z"
   },
   {
    "duration": 77,
    "start_time": "2023-12-31T13:38:53.764Z"
   },
   {
    "duration": 79,
    "start_time": "2023-12-31T13:39:07.555Z"
   },
   {
    "duration": 75,
    "start_time": "2023-12-31T13:39:13.421Z"
   },
   {
    "duration": 79,
    "start_time": "2023-12-31T13:39:30.811Z"
   },
   {
    "duration": 18,
    "start_time": "2023-12-31T13:39:52.166Z"
   },
   {
    "duration": 84,
    "start_time": "2023-12-31T13:40:08.508Z"
   },
   {
    "duration": 83,
    "start_time": "2023-12-31T13:40:15.056Z"
   },
   {
    "duration": 121,
    "start_time": "2023-12-31T13:40:47.239Z"
   },
   {
    "duration": 78,
    "start_time": "2023-12-31T13:40:52.852Z"
   },
   {
    "duration": 81,
    "start_time": "2023-12-31T13:41:05.703Z"
   },
   {
    "duration": 77,
    "start_time": "2023-12-31T13:41:10.527Z"
   },
   {
    "duration": 85,
    "start_time": "2023-12-31T13:41:16.309Z"
   },
   {
    "duration": 11,
    "start_time": "2023-12-31T13:42:44.912Z"
   },
   {
    "duration": 4,
    "start_time": "2023-12-31T13:42:49.401Z"
   },
   {
    "duration": 1225,
    "start_time": "2023-12-31T13:43:42.472Z"
   },
   {
    "duration": 94,
    "start_time": "2023-12-31T13:44:27.280Z"
   },
   {
    "duration": 75,
    "start_time": "2023-12-31T13:45:59.994Z"
   },
   {
    "duration": 75,
    "start_time": "2023-12-31T13:46:08.350Z"
   },
   {
    "duration": 92,
    "start_time": "2023-12-31T13:46:23.277Z"
   },
   {
    "duration": 4750,
    "start_time": "2023-12-31T13:47:45.085Z"
   },
   {
    "duration": 74,
    "start_time": "2023-12-31T13:51:05.579Z"
   },
   {
    "duration": 49,
    "start_time": "2023-12-31T13:53:25.472Z"
   },
   {
    "duration": 126,
    "start_time": "2023-12-31T13:53:40.472Z"
   },
   {
    "duration": 119,
    "start_time": "2023-12-31T13:54:39.554Z"
   },
   {
    "duration": 101,
    "start_time": "2023-12-31T13:55:02.408Z"
   },
   {
    "duration": 110,
    "start_time": "2023-12-31T13:55:09.790Z"
   },
   {
    "duration": 43,
    "start_time": "2023-12-31T13:55:19.782Z"
   },
   {
    "duration": 98,
    "start_time": "2023-12-31T13:55:34.298Z"
   },
   {
    "duration": 132,
    "start_time": "2023-12-31T13:56:23.912Z"
   },
   {
    "duration": 108,
    "start_time": "2023-12-31T13:57:08.769Z"
   },
   {
    "duration": 82,
    "start_time": "2023-12-31T14:03:18.886Z"
   },
   {
    "duration": 92,
    "start_time": "2023-12-31T14:03:23.636Z"
   },
   {
    "duration": 82,
    "start_time": "2023-12-31T14:03:32.013Z"
   },
   {
    "duration": 84,
    "start_time": "2023-12-31T14:03:48.975Z"
   },
   {
    "duration": 16,
    "start_time": "2023-12-31T14:16:19.371Z"
   },
   {
    "duration": 5,
    "start_time": "2023-12-31T14:16:43.775Z"
   },
   {
    "duration": 34,
    "start_time": "2023-12-31T14:16:52.008Z"
   },
   {
    "duration": 67,
    "start_time": "2023-12-31T14:17:07.369Z"
   },
   {
    "duration": 66,
    "start_time": "2023-12-31T14:17:21.569Z"
   },
   {
    "duration": 72,
    "start_time": "2023-12-31T14:17:24.542Z"
   },
   {
    "duration": 63,
    "start_time": "2023-12-31T14:17:30.148Z"
   },
   {
    "duration": 62,
    "start_time": "2023-12-31T14:17:33.753Z"
   },
   {
    "duration": 69,
    "start_time": "2023-12-31T14:18:54.304Z"
   },
   {
    "duration": 50,
    "start_time": "2023-12-31T14:20:06.576Z"
   },
   {
    "duration": 61,
    "start_time": "2023-12-31T14:20:32.224Z"
   },
   {
    "duration": 65,
    "start_time": "2023-12-31T14:20:36.612Z"
   },
   {
    "duration": 60,
    "start_time": "2023-12-31T14:20:45.532Z"
   },
   {
    "duration": 72,
    "start_time": "2023-12-31T14:20:50.629Z"
   },
   {
    "duration": 47,
    "start_time": "2023-12-31T14:21:31.891Z"
   },
   {
    "duration": 56,
    "start_time": "2023-12-31T14:21:55.151Z"
   },
   {
    "duration": 56,
    "start_time": "2023-12-31T14:22:40.037Z"
   },
   {
    "duration": 29,
    "start_time": "2023-12-31T14:22:57.636Z"
   },
   {
    "duration": 66,
    "start_time": "2023-12-31T14:23:21.238Z"
   },
   {
    "duration": 57,
    "start_time": "2023-12-31T14:23:46.210Z"
   },
   {
    "duration": 45,
    "start_time": "2023-12-31T14:24:12.931Z"
   },
   {
    "duration": 66,
    "start_time": "2023-12-31T14:24:20.600Z"
   },
   {
    "duration": 42,
    "start_time": "2023-12-31T14:24:27.671Z"
   },
   {
    "duration": 40,
    "start_time": "2023-12-31T14:24:33.930Z"
   },
   {
    "duration": 41,
    "start_time": "2023-12-31T14:24:38.848Z"
   },
   {
    "duration": 42,
    "start_time": "2023-12-31T14:24:43.374Z"
   },
   {
    "duration": 44,
    "start_time": "2023-12-31T14:26:45.448Z"
   },
   {
    "duration": 62,
    "start_time": "2023-12-31T14:51:52.162Z"
   },
   {
    "duration": 12,
    "start_time": "2023-12-31T14:52:04.380Z"
   },
   {
    "duration": 66,
    "start_time": "2023-12-31T14:52:16.299Z"
   },
   {
    "duration": 18,
    "start_time": "2023-12-31T14:53:18.146Z"
   },
   {
    "duration": 73,
    "start_time": "2023-12-31T14:53:38.730Z"
   },
   {
    "duration": 92,
    "start_time": "2023-12-31T14:53:43.861Z"
   },
   {
    "duration": 93,
    "start_time": "2023-12-31T14:53:53.424Z"
   },
   {
    "duration": 93,
    "start_time": "2023-12-31T14:53:58.702Z"
   },
   {
    "duration": 104,
    "start_time": "2023-12-31T14:54:06.653Z"
   },
   {
    "duration": 86,
    "start_time": "2023-12-31T14:54:34.493Z"
   },
   {
    "duration": 90,
    "start_time": "2023-12-31T14:54:43.261Z"
   },
   {
    "duration": 4,
    "start_time": "2023-12-31T14:54:47.940Z"
   },
   {
    "duration": 15,
    "start_time": "2023-12-31T14:54:55.693Z"
   },
   {
    "duration": 17,
    "start_time": "2023-12-31T14:56:25.463Z"
   },
   {
    "duration": 12,
    "start_time": "2023-12-31T14:56:37.702Z"
   },
   {
    "duration": 3,
    "start_time": "2023-12-31T14:56:45.359Z"
   },
   {
    "duration": 19,
    "start_time": "2023-12-31T14:56:50.633Z"
   },
   {
    "duration": 22,
    "start_time": "2023-12-31T14:57:07.929Z"
   },
   {
    "duration": 9,
    "start_time": "2023-12-31T14:58:07.993Z"
   },
   {
    "duration": 13,
    "start_time": "2023-12-31T14:58:35.817Z"
   },
   {
    "duration": 1186,
    "start_time": "2023-12-31T14:58:47.642Z"
   },
   {
    "duration": 12,
    "start_time": "2023-12-31T14:58:53.866Z"
   },
   {
    "duration": 4,
    "start_time": "2023-12-31T14:59:34.548Z"
   },
   {
    "duration": 15,
    "start_time": "2023-12-31T14:59:42.818Z"
   },
   {
    "duration": 14,
    "start_time": "2023-12-31T14:59:56.434Z"
   },
   {
    "duration": 16,
    "start_time": "2023-12-31T15:00:11.252Z"
   },
   {
    "duration": 17,
    "start_time": "2023-12-31T15:00:16.350Z"
   },
   {
    "duration": 12,
    "start_time": "2023-12-31T15:00:28.874Z"
   },
   {
    "duration": 17,
    "start_time": "2023-12-31T15:00:59.036Z"
   },
   {
    "duration": 13,
    "start_time": "2023-12-31T15:01:33.106Z"
   },
   {
    "duration": 23,
    "start_time": "2023-12-31T15:02:48.152Z"
   },
   {
    "duration": 21,
    "start_time": "2023-12-31T15:03:08.844Z"
   },
   {
    "duration": 10,
    "start_time": "2023-12-31T15:04:11.149Z"
   },
   {
    "duration": 4,
    "start_time": "2023-12-31T15:04:20.813Z"
   },
   {
    "duration": 75,
    "start_time": "2023-12-31T15:04:47.926Z"
   },
   {
    "duration": 17,
    "start_time": "2023-12-31T15:04:55.824Z"
   },
   {
    "duration": 20,
    "start_time": "2023-12-31T15:05:05.073Z"
   },
   {
    "duration": 31,
    "start_time": "2023-12-31T15:06:34.838Z"
   },
   {
    "duration": 23,
    "start_time": "2023-12-31T15:06:49.718Z"
   },
   {
    "duration": 3,
    "start_time": "2023-12-31T15:06:57.553Z"
   },
   {
    "duration": 4,
    "start_time": "2023-12-31T15:07:06.876Z"
   },
   {
    "duration": 4,
    "start_time": "2023-12-31T15:07:11.873Z"
   },
   {
    "duration": 11,
    "start_time": "2023-12-31T15:07:25.244Z"
   },
   {
    "duration": 34,
    "start_time": "2023-12-31T15:07:29.552Z"
   },
   {
    "duration": 8,
    "start_time": "2023-12-31T15:07:40.504Z"
   },
   {
    "duration": 24,
    "start_time": "2023-12-31T15:12:28.516Z"
   },
   {
    "duration": 16,
    "start_time": "2023-12-31T15:12:34.838Z"
   },
   {
    "duration": 19,
    "start_time": "2023-12-31T15:12:43.435Z"
   },
   {
    "duration": 21,
    "start_time": "2023-12-31T15:12:47.763Z"
   },
   {
    "duration": 12,
    "start_time": "2023-12-31T15:13:05.885Z"
   },
   {
    "duration": 4,
    "start_time": "2023-12-31T15:13:27.638Z"
   },
   {
    "duration": 12,
    "start_time": "2023-12-31T15:13:33.635Z"
   },
   {
    "duration": 2403,
    "start_time": "2023-12-31T15:14:13.988Z"
   },
   {
    "duration": 7,
    "start_time": "2023-12-31T15:14:21.180Z"
   },
   {
    "duration": 18,
    "start_time": "2023-12-31T15:14:31.324Z"
   },
   {
    "duration": 6,
    "start_time": "2023-12-31T15:15:26.789Z"
   },
   {
    "duration": 17,
    "start_time": "2023-12-31T15:15:27.833Z"
   },
   {
    "duration": 35890,
    "start_time": "2023-12-31T15:15:30.739Z"
   },
   {
    "duration": 3,
    "start_time": "2023-12-31T15:16:49.613Z"
   },
   {
    "duration": 2318,
    "start_time": "2023-12-31T15:16:49.839Z"
   },
   {
    "duration": 92,
    "start_time": "2023-12-31T15:16:52.159Z"
   },
   {
    "duration": 4,
    "start_time": "2023-12-31T15:16:52.357Z"
   },
   {
    "duration": 6,
    "start_time": "2023-12-31T15:16:52.570Z"
   },
   {
    "duration": 5,
    "start_time": "2023-12-31T15:16:54.137Z"
   },
   {
    "duration": 1345,
    "start_time": "2023-12-31T15:16:55.007Z"
   },
   {
    "duration": 87,
    "start_time": "2023-12-31T15:16:56.695Z"
   },
   {
    "duration": 813,
    "start_time": "2023-12-31T15:16:58.066Z"
   },
   {
    "duration": 18,
    "start_time": "2023-12-31T15:17:00.231Z"
   },
   {
    "duration": 199,
    "start_time": "2023-12-31T15:17:00.704Z"
   },
   {
    "duration": 726,
    "start_time": "2023-12-31T15:17:01.223Z"
   },
   {
    "duration": 25,
    "start_time": "2023-12-31T15:17:02.521Z"
   },
   {
    "duration": 216,
    "start_time": "2023-12-31T15:17:03.320Z"
   },
   {
    "duration": 5825,
    "start_time": "2023-12-31T15:17:04.046Z"
   },
   {
    "duration": 384,
    "start_time": "2023-12-31T15:17:09.873Z"
   },
   {
    "duration": 11,
    "start_time": "2023-12-31T15:17:10.265Z"
   },
   {
    "duration": 17,
    "start_time": "2023-12-31T15:17:12.084Z"
   },
   {
    "duration": 90,
    "start_time": "2023-12-31T15:17:12.887Z"
   },
   {
    "duration": 116,
    "start_time": "2023-12-31T15:17:13.551Z"
   },
   {
    "duration": 114,
    "start_time": "2023-12-31T15:17:13.976Z"
   },
   {
    "duration": 9,
    "start_time": "2023-12-31T15:17:22.155Z"
   },
   {
    "duration": 17,
    "start_time": "2023-12-31T15:17:23.161Z"
   },
   {
    "duration": 354842,
    "start_time": "2023-12-31T15:17:25.590Z"
   },
   {
    "duration": 3,
    "start_time": "2023-12-31T15:23:44.649Z"
   },
   {
    "duration": 2241,
    "start_time": "2023-12-31T15:23:44.654Z"
   },
   {
    "duration": 82,
    "start_time": "2023-12-31T15:23:46.897Z"
   },
   {
    "duration": 27,
    "start_time": "2023-12-31T15:23:46.980Z"
   },
   {
    "duration": 43,
    "start_time": "2023-12-31T15:23:47.009Z"
   },
   {
    "duration": 25,
    "start_time": "2023-12-31T15:23:47.054Z"
   },
   {
    "duration": 1187,
    "start_time": "2023-12-31T15:23:47.081Z"
   },
   {
    "duration": 95,
    "start_time": "2023-12-31T15:23:48.270Z"
   },
   {
    "duration": 825,
    "start_time": "2023-12-31T15:23:48.367Z"
   },
   {
    "duration": 16,
    "start_time": "2023-12-31T15:23:49.194Z"
   },
   {
    "duration": 202,
    "start_time": "2023-12-31T15:23:49.212Z"
   },
   {
    "duration": 687,
    "start_time": "2023-12-31T15:23:49.415Z"
   },
   {
    "duration": 25,
    "start_time": "2023-12-31T15:23:50.103Z"
   },
   {
    "duration": 216,
    "start_time": "2023-12-31T15:23:50.130Z"
   },
   {
    "duration": 5799,
    "start_time": "2023-12-31T15:23:50.348Z"
   },
   {
    "duration": 396,
    "start_time": "2023-12-31T15:23:56.149Z"
   },
   {
    "duration": 18,
    "start_time": "2023-12-31T15:23:56.547Z"
   },
   {
    "duration": 16,
    "start_time": "2023-12-31T15:23:56.567Z"
   },
   {
    "duration": 95,
    "start_time": "2023-12-31T15:23:56.585Z"
   },
   {
    "duration": 113,
    "start_time": "2023-12-31T15:23:56.682Z"
   },
   {
    "duration": 8,
    "start_time": "2023-12-31T15:23:56.797Z"
   },
   {
    "duration": 20,
    "start_time": "2023-12-31T15:23:56.806Z"
   },
   {
    "duration": 18,
    "start_time": "2023-12-31T15:24:02.771Z"
   },
   {
    "duration": 873949,
    "start_time": "2023-12-31T15:24:03.948Z"
   },
   {
    "duration": 5969,
    "start_time": "2023-12-31T15:53:09.316Z"
   },
   {
    "duration": 19,
    "start_time": "2023-12-31T15:53:31.813Z"
   },
   {
    "duration": 8,
    "start_time": "2023-12-31T15:54:06.134Z"
   },
   {
    "duration": 3,
    "start_time": "2023-12-31T15:54:09.222Z"
   },
   {
    "duration": 4729,
    "start_time": "2023-12-31T15:54:56.463Z"
   },
   {
    "duration": 3,
    "start_time": "2023-12-31T15:55:06.714Z"
   },
   {
    "duration": 2,
    "start_time": "2023-12-31T15:55:14.268Z"
   },
   {
    "duration": 3,
    "start_time": "2024-01-03T11:41:59.462Z"
   },
   {
    "duration": 1300,
    "start_time": "2024-01-03T11:42:00.868Z"
   },
   {
    "duration": 5828,
    "start_time": "2024-01-03T11:42:08.699Z"
   },
   {
    "duration": 3,
    "start_time": "2024-01-03T11:42:19.580Z"
   },
   {
    "duration": 385,
    "start_time": "2024-01-03T11:42:20.547Z"
   },
   {
    "duration": 148,
    "start_time": "2024-01-03T11:42:37.612Z"
   },
   {
    "duration": 5,
    "start_time": "2024-01-03T11:42:43.299Z"
   },
   {
    "duration": 16,
    "start_time": "2024-01-03T11:42:48.028Z"
   },
   {
    "duration": 6,
    "start_time": "2024-01-03T13:18:50.773Z"
   },
   {
    "duration": 3,
    "start_time": "2024-01-03T13:21:22.374Z"
   },
   {
    "duration": 4,
    "start_time": "2024-01-03T13:21:33.902Z"
   },
   {
    "duration": 5,
    "start_time": "2024-01-03T13:21:42.174Z"
   },
   {
    "duration": 81,
    "start_time": "2024-01-03T13:21:42.354Z"
   },
   {
    "duration": 5,
    "start_time": "2024-01-03T13:21:55.502Z"
   },
   {
    "duration": 5,
    "start_time": "2024-01-03T13:31:22.221Z"
   },
   {
    "duration": 3,
    "start_time": "2024-01-03T15:07:00.979Z"
   },
   {
    "duration": 1515,
    "start_time": "2024-01-03T15:07:02.082Z"
   },
   {
    "duration": 17,
    "start_time": "2024-01-03T15:07:04.210Z"
   },
   {
    "duration": 3,
    "start_time": "2024-01-03T15:07:06.090Z"
   },
   {
    "duration": 5,
    "start_time": "2024-01-03T15:07:06.683Z"
   },
   {
    "duration": 4,
    "start_time": "2024-01-03T15:07:09.255Z"
   },
   {
    "duration": 1202,
    "start_time": "2024-01-03T15:07:11.202Z"
   },
   {
    "duration": 80,
    "start_time": "2024-01-03T15:07:18.781Z"
   },
   {
    "duration": 1089,
    "start_time": "2024-01-03T15:13:26.200Z"
   },
   {
    "duration": 73,
    "start_time": "2024-01-03T15:14:41.778Z"
   },
   {
    "duration": 135,
    "start_time": "2024-01-03T15:15:17.571Z"
   },
   {
    "duration": 33,
    "start_time": "2024-01-03T15:15:20.979Z"
   },
   {
    "duration": 33,
    "start_time": "2024-01-03T15:15:23.859Z"
   },
   {
    "duration": 34,
    "start_time": "2024-01-03T15:15:32.403Z"
   },
   {
    "duration": 33,
    "start_time": "2024-01-03T15:16:10.125Z"
   },
   {
    "duration": 36,
    "start_time": "2024-01-03T15:16:47.915Z"
   },
   {
    "duration": 35,
    "start_time": "2024-01-03T15:18:24.073Z"
   },
   {
    "duration": 36,
    "start_time": "2024-01-03T15:18:30.308Z"
   },
   {
    "duration": 35,
    "start_time": "2024-01-03T15:18:40.058Z"
   },
   {
    "duration": 37,
    "start_time": "2024-01-03T15:18:45.544Z"
   },
   {
    "duration": 36,
    "start_time": "2024-01-03T15:19:21.118Z"
   },
   {
    "duration": 48,
    "start_time": "2024-01-03T15:19:58.202Z"
   },
   {
    "duration": 35,
    "start_time": "2024-01-03T15:20:02.355Z"
   },
   {
    "duration": 36,
    "start_time": "2024-01-03T15:20:08.878Z"
   },
   {
    "duration": 36,
    "start_time": "2024-01-03T15:20:14.063Z"
   },
   {
    "duration": 35,
    "start_time": "2024-01-03T15:20:57.791Z"
   },
   {
    "duration": 36,
    "start_time": "2024-01-03T15:21:37.649Z"
   },
   {
    "duration": 35,
    "start_time": "2024-01-03T15:21:48.152Z"
   },
   {
    "duration": 30,
    "start_time": "2024-01-03T15:22:09.395Z"
   },
   {
    "duration": 34,
    "start_time": "2024-01-03T15:22:19.374Z"
   },
   {
    "duration": 30,
    "start_time": "2024-01-03T15:22:26.103Z"
   },
   {
    "duration": 34,
    "start_time": "2024-01-03T15:23:00.555Z"
   },
   {
    "duration": 28,
    "start_time": "2024-01-03T15:23:04.766Z"
   },
   {
    "duration": 54,
    "start_time": "2024-01-03T15:23:18.015Z"
   },
   {
    "duration": 54,
    "start_time": "2024-01-03T15:23:22.063Z"
   },
   {
    "duration": 9,
    "start_time": "2024-01-03T15:25:35.044Z"
   },
   {
    "duration": 73,
    "start_time": "2024-01-03T15:26:15.963Z"
   },
   {
    "duration": 1362,
    "start_time": "2024-01-03T15:26:24.761Z"
   },
   {
    "duration": 8,
    "start_time": "2024-01-03T15:27:22.477Z"
   },
   {
    "duration": 11,
    "start_time": "2024-01-03T15:27:27.606Z"
   },
   {
    "duration": 9,
    "start_time": "2024-01-03T15:27:45.170Z"
   },
   {
    "duration": 5,
    "start_time": "2024-01-03T15:27:57.036Z"
   },
   {
    "duration": 11,
    "start_time": "2024-01-03T15:28:14.960Z"
   },
   {
    "duration": 11,
    "start_time": "2024-01-03T15:28:57.337Z"
   },
   {
    "duration": 7,
    "start_time": "2024-01-03T15:29:08.164Z"
   },
   {
    "duration": 8,
    "start_time": "2024-01-03T15:29:14.812Z"
   },
   {
    "duration": 11,
    "start_time": "2024-01-03T15:29:28.973Z"
   },
   {
    "duration": 7,
    "start_time": "2024-01-03T15:29:38.157Z"
   },
   {
    "duration": 1127,
    "start_time": "2024-01-03T15:29:56.953Z"
   },
   {
    "duration": 12,
    "start_time": "2024-01-03T15:30:04.844Z"
   },
   {
    "duration": 10,
    "start_time": "2024-01-03T15:30:10.251Z"
   },
   {
    "duration": 9,
    "start_time": "2024-01-03T15:30:20.521Z"
   },
   {
    "duration": 10,
    "start_time": "2024-01-03T15:30:25.629Z"
   },
   {
    "duration": 13,
    "start_time": "2024-01-03T15:31:10.026Z"
   },
   {
    "duration": 14,
    "start_time": "2024-01-03T15:31:23.504Z"
   },
   {
    "duration": 15,
    "start_time": "2024-01-03T15:32:19.113Z"
   },
   {
    "duration": 37,
    "start_time": "2024-01-03T15:32:20.008Z"
   },
   {
    "duration": 4,
    "start_time": "2024-01-03T15:34:52.203Z"
   },
   {
    "duration": 23,
    "start_time": "2024-01-03T15:35:44.122Z"
   },
   {
    "duration": 4,
    "start_time": "2024-01-03T15:35:44.900Z"
   },
   {
    "duration": 17,
    "start_time": "2024-01-03T15:35:49.980Z"
   },
   {
    "duration": 77,
    "start_time": "2024-01-03T15:36:49.759Z"
   },
   {
    "duration": 3,
    "start_time": "2024-01-03T15:36:53.320Z"
   },
   {
    "duration": 4,
    "start_time": "2024-01-03T15:36:59.826Z"
   },
   {
    "duration": 4,
    "start_time": "2024-01-03T15:37:02.881Z"
   },
   {
    "duration": 4,
    "start_time": "2024-01-03T15:38:33.772Z"
   },
   {
    "duration": 5,
    "start_time": "2024-01-03T15:49:23.213Z"
   },
   {
    "duration": 15,
    "start_time": "2024-01-03T15:49:36.027Z"
   },
   {
    "duration": 1238,
    "start_time": "2024-01-03T15:49:43.357Z"
   },
   {
    "duration": 14,
    "start_time": "2024-01-03T15:49:50.689Z"
   },
   {
    "duration": 39,
    "start_time": "2024-01-03T15:49:54.204Z"
   },
   {
    "duration": 4,
    "start_time": "2024-01-03T15:49:55.141Z"
   },
   {
    "duration": 2,
    "start_time": "2024-01-03T15:49:58.649Z"
   },
   {
    "duration": 17,
    "start_time": "2024-01-03T15:49:59.221Z"
   },
   {
    "duration": 6,
    "start_time": "2024-01-03T15:50:11.467Z"
   },
   {
    "duration": 15,
    "start_time": "2024-01-03T15:52:16.792Z"
   },
   {
    "duration": 10,
    "start_time": "2024-01-03T15:52:27.033Z"
   },
   {
    "duration": 169,
    "start_time": "2024-01-03T15:52:31.487Z"
   },
   {
    "duration": 15,
    "start_time": "2024-01-03T15:52:38.429Z"
   },
   {
    "duration": 143,
    "start_time": "2024-01-03T15:52:54.099Z"
   },
   {
    "duration": 21,
    "start_time": "2024-01-03T15:52:57.093Z"
   },
   {
    "duration": 140,
    "start_time": "2024-01-03T15:53:47.436Z"
   },
   {
    "duration": 4,
    "start_time": "2024-01-03T15:53:50.283Z"
   },
   {
    "duration": 11,
    "start_time": "2024-01-03T15:55:15.866Z"
   },
   {
    "duration": 3,
    "start_time": "2024-01-03T15:56:12.134Z"
   },
   {
    "duration": 11,
    "start_time": "2024-01-03T15:56:17.975Z"
   },
   {
    "duration": 146,
    "start_time": "2024-01-03T15:56:22.639Z"
   },
   {
    "duration": 13,
    "start_time": "2024-01-03T15:56:32.684Z"
   },
   {
    "duration": 151,
    "start_time": "2024-01-03T15:56:33.652Z"
   },
   {
    "duration": 15,
    "start_time": "2024-01-03T15:56:37.302Z"
   },
   {
    "duration": 11,
    "start_time": "2024-01-03T15:56:58.123Z"
   },
   {
    "duration": 147,
    "start_time": "2024-01-03T15:56:58.756Z"
   },
   {
    "duration": 15,
    "start_time": "2024-01-03T15:56:59.893Z"
   },
   {
    "duration": 3,
    "start_time": "2024-01-03T15:57:04.332Z"
   },
   {
    "duration": 4,
    "start_time": "2024-01-03T15:57:13.498Z"
   },
   {
    "duration": 3,
    "start_time": "2024-01-03T15:57:20.741Z"
   },
   {
    "duration": 80,
    "start_time": "2024-01-03T15:58:02.636Z"
   },
   {
    "duration": 10,
    "start_time": "2024-01-03T15:58:02.829Z"
   },
   {
    "duration": 102,
    "start_time": "2024-01-03T15:58:25.431Z"
   },
   {
    "duration": 75,
    "start_time": "2024-01-03T15:58:38.917Z"
   },
   {
    "duration": 5,
    "start_time": "2024-01-03T15:59:09.901Z"
   },
   {
    "duration": 13,
    "start_time": "2024-01-03T15:59:21.460Z"
   },
   {
    "duration": 150,
    "start_time": "2024-01-03T15:59:22.149Z"
   },
   {
    "duration": 3,
    "start_time": "2024-01-03T15:59:23.564Z"
   },
   {
    "duration": 3,
    "start_time": "2024-01-03T16:00:02.284Z"
   },
   {
    "duration": 13,
    "start_time": "2024-01-03T16:00:03.548Z"
   },
   {
    "duration": 10,
    "start_time": "2024-01-03T16:00:04.249Z"
   },
   {
    "duration": 92,
    "start_time": "2024-01-03T16:00:43.204Z"
   },
   {
    "duration": 3,
    "start_time": "2024-01-03T16:01:18.956Z"
   },
   {
    "duration": 11,
    "start_time": "2024-01-03T16:01:20.527Z"
   },
   {
    "duration": 138,
    "start_time": "2024-01-03T16:01:20.972Z"
   },
   {
    "duration": 4,
    "start_time": "2024-01-03T16:01:22.679Z"
   },
   {
    "duration": 34,
    "start_time": "2024-01-03T16:02:26.093Z"
   },
   {
    "duration": 15,
    "start_time": "2024-01-03T16:02:31.993Z"
   },
   {
    "duration": 11,
    "start_time": "2024-01-03T16:02:35.286Z"
   },
   {
    "duration": 17,
    "start_time": "2024-01-03T16:02:35.896Z"
   },
   {
    "duration": 6,
    "start_time": "2024-01-03T16:03:26.219Z"
   },
   {
    "duration": 3,
    "start_time": "2024-01-03T16:04:26.418Z"
   },
   {
    "duration": 6,
    "start_time": "2024-01-03T16:04:28.863Z"
   },
   {
    "duration": 3,
    "start_time": "2024-01-03T16:04:47.378Z"
   },
   {
    "duration": 8,
    "start_time": "2024-01-03T16:04:48.780Z"
   },
   {
    "duration": 12,
    "start_time": "2024-01-03T16:06:58.572Z"
   },
   {
    "duration": 19,
    "start_time": "2024-01-03T16:07:13.453Z"
   },
   {
    "duration": 13,
    "start_time": "2024-01-03T16:07:27.365Z"
   },
   {
    "duration": 1314,
    "start_time": "2024-01-03T16:07:36.113Z"
   },
   {
    "duration": 18,
    "start_time": "2024-01-03T16:07:39.454Z"
   },
   {
    "duration": 40,
    "start_time": "2024-01-03T16:07:40.617Z"
   },
   {
    "duration": 3,
    "start_time": "2024-01-03T16:07:42.178Z"
   },
   {
    "duration": 4,
    "start_time": "2024-01-03T16:11:55.825Z"
   },
   {
    "duration": 149,
    "start_time": "2024-01-03T16:12:06.252Z"
   },
   {
    "duration": 3,
    "start_time": "2024-01-03T16:12:54.907Z"
   },
   {
    "duration": 10,
    "start_time": "2024-01-03T16:12:55.409Z"
   },
   {
    "duration": 12,
    "start_time": "2024-01-03T16:13:09.729Z"
   },
   {
    "duration": 25,
    "start_time": "2024-01-03T16:15:16.229Z"
   },
   {
    "duration": 1122,
    "start_time": "2024-01-03T16:15:25.622Z"
   },
   {
    "duration": 16,
    "start_time": "2024-01-03T16:15:41.133Z"
   },
   {
    "duration": 15,
    "start_time": "2024-01-03T16:15:46.499Z"
   },
   {
    "duration": 17,
    "start_time": "2024-01-03T16:16:11.761Z"
   },
   {
    "duration": 15,
    "start_time": "2024-01-03T16:16:17.804Z"
   },
   {
    "duration": 4,
    "start_time": "2024-01-03T16:16:49.292Z"
   },
   {
    "duration": 7,
    "start_time": "2024-01-03T16:16:51.384Z"
   },
   {
    "duration": 55,
    "start_time": "2024-01-03T16:16:52.817Z"
   },
   {
    "duration": 26,
    "start_time": "2024-01-03T16:16:58.300Z"
   },
   {
    "duration": 21,
    "start_time": "2024-01-03T16:17:59.626Z"
   },
   {
    "duration": 48,
    "start_time": "2024-01-03T16:18:03.665Z"
   },
   {
    "duration": 34,
    "start_time": "2024-01-03T16:18:05.074Z"
   },
   {
    "duration": 3,
    "start_time": "2024-01-03T16:18:06.528Z"
   },
   {
    "duration": 9,
    "start_time": "2024-01-03T16:18:36.196Z"
   },
   {
    "duration": 16,
    "start_time": "2024-01-03T16:18:45.092Z"
   },
   {
    "duration": 4,
    "start_time": "2024-01-03T16:20:49.270Z"
   },
   {
    "duration": 4,
    "start_time": "2024-01-03T16:20:56.508Z"
   },
   {
    "duration": 3,
    "start_time": "2024-01-03T16:21:08.293Z"
   },
   {
    "duration": 5,
    "start_time": "2024-01-03T16:21:09.458Z"
   },
   {
    "duration": 31,
    "start_time": "2024-01-03T16:21:16.648Z"
   },
   {
    "duration": 4,
    "start_time": "2024-01-03T16:21:29.720Z"
   },
   {
    "duration": 3,
    "start_time": "2024-01-03T16:22:04.397Z"
   },
   {
    "duration": 6,
    "start_time": "2024-01-03T16:22:05.839Z"
   },
   {
    "duration": 13,
    "start_time": "2024-01-03T16:22:06.708Z"
   },
   {
    "duration": 155,
    "start_time": "2024-01-03T16:22:08.819Z"
   },
   {
    "duration": 151,
    "start_time": "2024-01-03T16:22:27.417Z"
   },
   {
    "duration": 4,
    "start_time": "2024-01-03T16:25:04.010Z"
   },
   {
    "duration": 5,
    "start_time": "2024-01-03T16:25:05.727Z"
   },
   {
    "duration": 15,
    "start_time": "2024-01-03T16:25:19.844Z"
   },
   {
    "duration": 3,
    "start_time": "2024-01-03T16:26:24.961Z"
   },
   {
    "duration": 5,
    "start_time": "2024-01-03T16:26:26.348Z"
   },
   {
    "duration": 18,
    "start_time": "2024-01-03T16:26:27.641Z"
   },
   {
    "duration": 4,
    "start_time": "2024-01-03T16:26:59.275Z"
   },
   {
    "duration": 3,
    "start_time": "2024-01-03T16:27:00.435Z"
   },
   {
    "duration": 5,
    "start_time": "2024-01-03T16:27:03.169Z"
   },
   {
    "duration": 18,
    "start_time": "2024-01-03T16:27:05.275Z"
   },
   {
    "duration": 3,
    "start_time": "2024-01-03T16:28:07.111Z"
   },
   {
    "duration": 5,
    "start_time": "2024-01-03T16:28:09.069Z"
   },
   {
    "duration": 185,
    "start_time": "2024-01-03T16:28:09.652Z"
   },
   {
    "duration": 3,
    "start_time": "2024-01-03T20:48:16.475Z"
   },
   {
    "duration": 195,
    "start_time": "2024-01-03T20:49:22.401Z"
   },
   {
    "duration": 9,
    "start_time": "2024-01-03T20:49:52.046Z"
   },
   {
    "duration": 4,
    "start_time": "2024-01-03T20:50:17.719Z"
   },
   {
    "duration": 4,
    "start_time": "2024-01-03T20:50:24.146Z"
   },
   {
    "duration": 3,
    "start_time": "2024-01-03T20:50:46.723Z"
   },
   {
    "duration": 56,
    "start_time": "2024-01-03T20:51:04.536Z"
   },
   {
    "duration": 16,
    "start_time": "2024-01-03T20:51:45.239Z"
   },
   {
    "duration": 12,
    "start_time": "2024-01-03T20:51:54.116Z"
   },
   {
    "duration": 15,
    "start_time": "2024-01-03T20:52:04.676Z"
   },
   {
    "duration": 31,
    "start_time": "2024-01-03T20:52:10.608Z"
   },
   {
    "duration": 15,
    "start_time": "2024-01-03T20:52:27.894Z"
   },
   {
    "duration": 11,
    "start_time": "2024-01-03T20:52:55.705Z"
   },
   {
    "duration": 15,
    "start_time": "2024-01-03T20:52:56.089Z"
   },
   {
    "duration": 3,
    "start_time": "2024-01-03T20:53:34.091Z"
   },
   {
    "duration": 11,
    "start_time": "2024-01-03T20:53:35.515Z"
   },
   {
    "duration": 15,
    "start_time": "2024-01-03T20:53:36.034Z"
   },
   {
    "duration": 181,
    "start_time": "2024-01-03T20:53:40.263Z"
   },
   {
    "duration": 16,
    "start_time": "2024-01-03T20:53:58.128Z"
   },
   {
    "duration": 11,
    "start_time": "2024-01-03T20:54:01.520Z"
   },
   {
    "duration": 15,
    "start_time": "2024-01-03T20:54:02.412Z"
   },
   {
    "duration": 23,
    "start_time": "2024-01-03T20:54:08.510Z"
   },
   {
    "duration": 1161,
    "start_time": "2024-01-03T20:54:24.259Z"
   },
   {
    "duration": 16,
    "start_time": "2024-01-03T20:54:32.548Z"
   },
   {
    "duration": 11,
    "start_time": "2024-01-03T20:54:35.628Z"
   },
   {
    "duration": 15,
    "start_time": "2024-01-03T20:54:36.236Z"
   },
   {
    "duration": 31,
    "start_time": "2024-01-03T20:54:40.145Z"
   },
   {
    "duration": 16,
    "start_time": "2024-01-03T20:54:45.239Z"
   },
   {
    "duration": 11,
    "start_time": "2024-01-03T20:55:06.811Z"
   },
   {
    "duration": 16,
    "start_time": "2024-01-03T20:55:07.310Z"
   },
   {
    "duration": 33,
    "start_time": "2024-01-03T20:55:16.501Z"
   },
   {
    "duration": 1156,
    "start_time": "2024-01-03T20:55:49.116Z"
   },
   {
    "duration": 11,
    "start_time": "2024-01-03T20:58:08.611Z"
   },
   {
    "duration": 15,
    "start_time": "2024-01-03T20:58:09.341Z"
   },
   {
    "duration": 29,
    "start_time": "2024-01-03T20:58:19.341Z"
   },
   {
    "duration": 4,
    "start_time": "2024-01-03T20:58:25.772Z"
   },
   {
    "duration": 95,
    "start_time": "2024-01-03T20:59:13.935Z"
   },
   {
    "duration": 12,
    "start_time": "2024-01-03T20:59:19.327Z"
   },
   {
    "duration": 12,
    "start_time": "2024-01-03T20:59:23.635Z"
   },
   {
    "duration": 9,
    "start_time": "2024-01-03T21:00:38.774Z"
   },
   {
    "duration": 4,
    "start_time": "2024-01-03T21:00:42.060Z"
   },
   {
    "duration": 5,
    "start_time": "2024-01-03T21:00:42.210Z"
   },
   {
    "duration": 4,
    "start_time": "2024-01-03T21:01:54.945Z"
   },
   {
    "duration": 8,
    "start_time": "2024-01-03T21:02:09.783Z"
   },
   {
    "duration": 5,
    "start_time": "2024-01-03T21:02:18.922Z"
   },
   {
    "duration": 6,
    "start_time": "2024-01-03T21:02:27.259Z"
   },
   {
    "duration": 4,
    "start_time": "2024-01-03T21:02:39.198Z"
   },
   {
    "duration": 8,
    "start_time": "2024-01-03T21:02:46.929Z"
   },
   {
    "duration": 5,
    "start_time": "2024-01-03T21:02:53.036Z"
   },
   {
    "duration": 5,
    "start_time": "2024-01-03T21:02:57.390Z"
   },
   {
    "duration": 12,
    "start_time": "2024-01-03T21:03:20.360Z"
   },
   {
    "duration": 19,
    "start_time": "2024-01-03T21:03:21.017Z"
   },
   {
    "duration": 194,
    "start_time": "2024-01-03T21:03:23.203Z"
   },
   {
    "duration": 7,
    "start_time": "2024-01-03T21:03:24.833Z"
   },
   {
    "duration": 3,
    "start_time": "2024-01-03T21:03:37.289Z"
   },
   {
    "duration": 1175,
    "start_time": "2024-01-03T21:03:50.762Z"
   },
   {
    "duration": 29,
    "start_time": "2024-01-03T21:03:54.324Z"
   },
   {
    "duration": 15,
    "start_time": "2024-01-03T21:03:54.592Z"
   },
   {
    "duration": 202,
    "start_time": "2024-01-03T21:03:55.090Z"
   },
   {
    "duration": 3,
    "start_time": "2024-01-03T21:05:42.704Z"
   },
   {
    "duration": 35,
    "start_time": "2024-01-03T21:05:43.909Z"
   },
   {
    "duration": 17,
    "start_time": "2024-01-03T21:05:44.387Z"
   },
   {
    "duration": 207,
    "start_time": "2024-01-03T21:05:47.824Z"
   },
   {
    "duration": 9,
    "start_time": "2024-01-03T21:06:02.330Z"
   },
   {
    "duration": 30,
    "start_time": "2024-01-03T21:06:13.881Z"
   },
   {
    "duration": 10,
    "start_time": "2024-01-03T21:06:14.208Z"
   },
   {
    "duration": 230,
    "start_time": "2024-01-03T21:06:14.849Z"
   },
   {
    "duration": 4,
    "start_time": "2024-01-03T21:06:20.865Z"
   },
   {
    "duration": 14,
    "start_time": "2024-01-03T21:12:22.992Z"
   },
   {
    "duration": 5,
    "start_time": "2024-01-03T21:13:35.216Z"
   },
   {
    "duration": 15,
    "start_time": "2024-01-03T21:22:35.750Z"
   },
   {
    "duration": 82,
    "start_time": "2024-01-03T21:28:06.219Z"
   },
   {
    "duration": 3,
    "start_time": "2024-01-03T21:28:10.152Z"
   },
   {
    "duration": 39,
    "start_time": "2024-01-03T21:28:33.307Z"
   },
   {
    "duration": 9,
    "start_time": "2024-01-03T21:28:33.841Z"
   },
   {
    "duration": 11,
    "start_time": "2024-01-03T21:28:43.216Z"
   },
   {
    "duration": 3,
    "start_time": "2024-01-03T21:29:11.683Z"
   },
   {
    "duration": 11,
    "start_time": "2024-01-03T21:30:01.869Z"
   },
   {
    "duration": 30,
    "start_time": "2024-01-03T21:30:06.553Z"
   },
   {
    "duration": 3,
    "start_time": "2024-01-03T21:31:00.645Z"
   },
   {
    "duration": 35,
    "start_time": "2024-01-03T21:31:03.005Z"
   },
   {
    "duration": 64,
    "start_time": "2024-01-03T21:31:04.787Z"
   },
   {
    "duration": 3,
    "start_time": "2024-01-03T21:31:10.098Z"
   },
   {
    "duration": 31,
    "start_time": "2024-01-03T21:31:12.351Z"
   },
   {
    "duration": 39,
    "start_time": "2024-01-03T21:31:12.958Z"
   },
   {
    "duration": 32,
    "start_time": "2024-01-03T21:32:05.244Z"
   },
   {
    "duration": 17,
    "start_time": "2024-01-03T21:32:12.510Z"
   },
   {
    "duration": 5,
    "start_time": "2024-01-03T21:32:22.791Z"
   },
   {
    "duration": 13,
    "start_time": "2024-01-03T21:33:03.767Z"
   },
   {
    "duration": 13,
    "start_time": "2024-01-03T21:33:18.844Z"
   },
   {
    "duration": 15,
    "start_time": "2024-01-03T21:33:30.493Z"
   },
   {
    "duration": 570,
    "start_time": "2024-01-03T21:34:36.228Z"
   },
   {
    "duration": 5,
    "start_time": "2024-01-03T21:34:44.901Z"
   },
   {
    "duration": 11,
    "start_time": "2024-01-03T21:35:04.590Z"
   },
   {
    "duration": 5,
    "start_time": "2024-01-03T21:35:12.044Z"
   },
   {
    "duration": 3,
    "start_time": "2024-01-03T21:36:45.190Z"
   },
   {
    "duration": 84,
    "start_time": "2024-01-03T21:37:00.384Z"
   },
   {
    "duration": 39,
    "start_time": "2024-01-03T21:46:04.527Z"
   },
   {
    "duration": 154,
    "start_time": "2024-01-03T21:46:07.931Z"
   },
   {
    "duration": 9,
    "start_time": "2024-01-03T21:46:22.110Z"
   },
   {
    "duration": 125,
    "start_time": "2024-01-03T21:46:48.053Z"
   },
   {
    "duration": 6,
    "start_time": "2024-01-03T21:47:27.511Z"
   },
   {
    "duration": 9,
    "start_time": "2024-01-03T21:47:31.678Z"
   },
   {
    "duration": 8,
    "start_time": "2024-01-03T21:47:40.310Z"
   },
   {
    "duration": 22,
    "start_time": "2024-01-03T21:52:28.007Z"
   },
   {
    "duration": 3,
    "start_time": "2024-01-03T21:53:56.084Z"
   },
   {
    "duration": 38,
    "start_time": "2024-01-03T21:53:56.207Z"
   },
   {
    "duration": 3,
    "start_time": "2024-01-03T21:54:11.883Z"
   },
   {
    "duration": 14,
    "start_time": "2024-01-03T21:54:21.452Z"
   },
   {
    "duration": 3,
    "start_time": "2024-01-03T21:54:33.192Z"
   },
   {
    "duration": 40,
    "start_time": "2024-01-03T21:54:36.175Z"
   },
   {
    "duration": 28,
    "start_time": "2024-01-03T21:54:39.796Z"
   },
   {
    "duration": 3,
    "start_time": "2024-01-03T21:55:46.326Z"
   },
   {
    "duration": 4,
    "start_time": "2024-01-03T21:57:39.677Z"
   },
   {
    "duration": 40,
    "start_time": "2024-01-03T21:57:43.370Z"
   },
   {
    "duration": 5,
    "start_time": "2024-01-03T21:57:59.103Z"
   },
   {
    "duration": 3,
    "start_time": "2024-01-03T21:58:08.173Z"
   },
   {
    "duration": 4,
    "start_time": "2024-01-03T21:58:11.029Z"
   },
   {
    "duration": 4,
    "start_time": "2024-01-03T21:59:28.062Z"
   },
   {
    "duration": 16,
    "start_time": "2024-01-03T21:59:32.104Z"
   },
   {
    "duration": 3,
    "start_time": "2024-01-03T21:59:53.576Z"
   },
   {
    "duration": 4,
    "start_time": "2024-01-03T22:00:09.089Z"
   },
   {
    "duration": 4,
    "start_time": "2024-01-03T22:00:19.294Z"
   },
   {
    "duration": 16,
    "start_time": "2024-01-03T22:00:27.326Z"
   },
   {
    "duration": 3,
    "start_time": "2024-01-03T22:01:25.360Z"
   },
   {
    "duration": 3,
    "start_time": "2024-01-03T22:01:29.081Z"
   },
   {
    "duration": 5,
    "start_time": "2024-01-03T22:01:33.009Z"
   },
   {
    "duration": 18,
    "start_time": "2024-01-03T22:06:36.813Z"
   },
   {
    "duration": 4,
    "start_time": "2024-01-03T22:07:39.397Z"
   },
   {
    "duration": 15,
    "start_time": "2024-01-03T22:07:50.386Z"
   },
   {
    "duration": 13,
    "start_time": "2024-01-03T22:08:20.349Z"
   },
   {
    "duration": 14,
    "start_time": "2024-01-03T22:08:50.614Z"
   },
   {
    "duration": 4,
    "start_time": "2024-01-03T22:09:18.326Z"
   },
   {
    "duration": 19,
    "start_time": "2024-01-03T22:09:18.965Z"
   },
   {
    "duration": 47,
    "start_time": "2024-01-03T22:09:54.584Z"
   },
   {
    "duration": 18,
    "start_time": "2024-01-03T22:10:08.944Z"
   },
   {
    "duration": 15,
    "start_time": "2024-01-03T22:10:25.722Z"
   },
   {
    "duration": 4,
    "start_time": "2024-01-03T22:10:49.706Z"
   },
   {
    "duration": 4,
    "start_time": "2024-01-03T22:10:50.952Z"
   },
   {
    "duration": 4,
    "start_time": "2024-01-03T22:11:11.762Z"
   },
   {
    "duration": 4,
    "start_time": "2024-01-03T22:11:19.146Z"
   },
   {
    "duration": 11,
    "start_time": "2024-01-03T22:12:47.160Z"
   },
   {
    "duration": 3,
    "start_time": "2024-01-03T22:13:21.252Z"
   },
   {
    "duration": 8,
    "start_time": "2024-01-03T22:13:21.857Z"
   },
   {
    "duration": 4,
    "start_time": "2024-01-03T22:13:31.817Z"
   },
   {
    "duration": 3,
    "start_time": "2024-01-03T22:14:24.740Z"
   },
   {
    "duration": 88,
    "start_time": "2024-01-03T22:14:26.490Z"
   },
   {
    "duration": 3,
    "start_time": "2024-01-03T22:18:54.863Z"
   },
   {
    "duration": 16,
    "start_time": "2024-01-03T22:18:55.998Z"
   },
   {
    "duration": 28,
    "start_time": "2024-01-03T22:19:05.422Z"
   },
   {
    "duration": 16,
    "start_time": "2024-01-03T22:19:36.816Z"
   },
   {
    "duration": 21,
    "start_time": "2024-01-03T22:21:17.633Z"
   },
   {
    "duration": 14,
    "start_time": "2024-01-03T22:21:32.849Z"
   },
   {
    "duration": 44,
    "start_time": "2024-01-03T22:21:40.312Z"
   },
   {
    "duration": 27,
    "start_time": "2024-01-03T22:21:59.698Z"
   },
   {
    "duration": 14,
    "start_time": "2024-01-03T22:22:04.122Z"
   },
   {
    "duration": 3,
    "start_time": "2024-01-03T22:27:10.710Z"
   },
   {
    "duration": 12,
    "start_time": "2024-01-03T22:27:14.458Z"
   },
   {
    "duration": 10,
    "start_time": "2024-01-03T22:27:26.604Z"
   },
   {
    "duration": 10,
    "start_time": "2024-01-03T22:28:00.172Z"
   },
   {
    "duration": 10,
    "start_time": "2024-01-03T22:28:13.838Z"
   },
   {
    "duration": 10,
    "start_time": "2024-01-03T22:28:51.997Z"
   },
   {
    "duration": 3,
    "start_time": "2024-01-03T22:30:02.570Z"
   },
   {
    "duration": 13,
    "start_time": "2024-01-03T22:30:23.023Z"
   },
   {
    "duration": 14,
    "start_time": "2024-01-03T22:31:30.711Z"
   },
   {
    "duration": 3,
    "start_time": "2024-01-03T22:31:51.122Z"
   },
   {
    "duration": 10,
    "start_time": "2024-01-03T22:31:53.685Z"
   },
   {
    "duration": 4,
    "start_time": "2024-01-03T22:33:07.593Z"
   },
   {
    "duration": 8,
    "start_time": "2024-01-03T22:33:23.433Z"
   },
   {
    "duration": 5,
    "start_time": "2024-01-03T22:33:46.027Z"
   },
   {
    "duration": 8,
    "start_time": "2024-01-03T22:33:47.154Z"
   },
   {
    "duration": 4,
    "start_time": "2024-01-03T22:34:47.028Z"
   },
   {
    "duration": 7,
    "start_time": "2024-01-03T22:34:47.931Z"
   },
   {
    "duration": 45,
    "start_time": "2024-01-03T22:35:01.834Z"
   },
   {
    "duration": 247,
    "start_time": "2024-01-03T22:35:10.190Z"
   },
   {
    "duration": 2,
    "start_time": "2024-01-03T22:35:51.021Z"
   },
   {
    "duration": 4,
    "start_time": "2024-01-03T22:35:54.906Z"
   },
   {
    "duration": 7,
    "start_time": "2024-01-03T22:35:55.493Z"
   },
   {
    "duration": 47,
    "start_time": "2024-01-03T22:36:00.117Z"
   },
   {
    "duration": 251,
    "start_time": "2024-01-03T22:36:06.077Z"
   },
   {
    "duration": 2,
    "start_time": "2024-01-03T22:37:08.654Z"
   },
   {
    "duration": 8,
    "start_time": "2024-01-03T22:37:12.633Z"
   },
   {
    "duration": 44,
    "start_time": "2024-01-03T22:37:16.349Z"
   },
   {
    "duration": 247,
    "start_time": "2024-01-03T22:37:29.165Z"
   },
   {
    "duration": 45,
    "start_time": "2024-01-03T22:38:08.164Z"
   },
   {
    "duration": 10,
    "start_time": "2024-01-03T22:38:09.719Z"
   },
   {
    "duration": 259,
    "start_time": "2024-01-03T22:38:19.453Z"
   },
   {
    "duration": 3,
    "start_time": "2024-01-03T22:39:02.421Z"
   },
   {
    "duration": 46,
    "start_time": "2024-01-04T09:45:08.689Z"
   },
   {
    "duration": 2,
    "start_time": "2024-01-04T09:47:02.620Z"
   },
   {
    "duration": 124,
    "start_time": "2024-01-04T09:50:47.888Z"
   },
   {
    "duration": 19,
    "start_time": "2024-01-04T09:51:45.402Z"
   },
   {
    "duration": 12,
    "start_time": "2024-01-04T09:51:56.972Z"
   },
   {
    "duration": 3,
    "start_time": "2024-01-04T09:53:28.519Z"
   },
   {
    "duration": 5,
    "start_time": "2024-01-04T09:53:33.406Z"
   },
   {
    "duration": 1126,
    "start_time": "2024-01-04T09:54:06.067Z"
   },
   {
    "duration": 39,
    "start_time": "2024-01-04T09:54:19.838Z"
   },
   {
    "duration": 1289,
    "start_time": "2024-01-04T09:54:45.260Z"
   },
   {
    "duration": 15,
    "start_time": "2024-01-04T09:54:49.947Z"
   },
   {
    "duration": 40,
    "start_time": "2024-01-04T09:54:52.734Z"
   },
   {
    "duration": 16,
    "start_time": "2024-01-04T09:54:56.099Z"
   },
   {
    "duration": 5,
    "start_time": "2024-01-04T09:54:58.895Z"
   },
   {
    "duration": 3,
    "start_time": "2024-01-04T09:55:01.708Z"
   },
   {
    "duration": 17,
    "start_time": "2024-01-04T09:55:01.978Z"
   },
   {
    "duration": 3,
    "start_time": "2024-01-04T09:55:05.973Z"
   },
   {
    "duration": 139,
    "start_time": "2024-01-04T09:55:12.775Z"
   },
   {
    "duration": 1220,
    "start_time": "2024-01-04T10:01:14.108Z"
   },
   {
    "duration": 35,
    "start_time": "2024-01-04T10:01:22.567Z"
   },
   {
    "duration": 3,
    "start_time": "2024-01-04T10:01:29.628Z"
   },
   {
    "duration": 212,
    "start_time": "2024-01-04T10:01:30.308Z"
   },
   {
    "duration": 4,
    "start_time": "2024-01-04T10:09:18.952Z"
   },
   {
    "duration": 27,
    "start_time": "2024-01-04T10:09:28.346Z"
   },
   {
    "duration": 144,
    "start_time": "2024-01-04T10:09:37.923Z"
   },
   {
    "duration": 4,
    "start_time": "2024-01-04T10:09:45.936Z"
   },
   {
    "duration": 4,
    "start_time": "2024-01-04T10:10:01.623Z"
   },
   {
    "duration": 10,
    "start_time": "2024-01-04T10:10:09.524Z"
   },
   {
    "duration": 5,
    "start_time": "2024-01-04T10:10:13.351Z"
   },
   {
    "duration": 4,
    "start_time": "2024-01-04T10:10:19.556Z"
   },
   {
    "duration": 9,
    "start_time": "2024-01-04T10:11:11.701Z"
   },
   {
    "duration": 9,
    "start_time": "2024-01-04T10:11:17.070Z"
   },
   {
    "duration": 5,
    "start_time": "2024-01-04T10:13:02.032Z"
   },
   {
    "duration": 3,
    "start_time": "2024-01-04T10:13:10.950Z"
   },
   {
    "duration": 4,
    "start_time": "2024-01-04T10:13:26.161Z"
   },
   {
    "duration": 4,
    "start_time": "2024-01-04T10:13:29.665Z"
   },
   {
    "duration": 3,
    "start_time": "2024-01-04T10:13:33.936Z"
   },
   {
    "duration": 4,
    "start_time": "2024-01-04T10:14:01.264Z"
   },
   {
    "duration": 4,
    "start_time": "2024-01-04T10:14:06.229Z"
   },
   {
    "duration": 3,
    "start_time": "2024-01-04T10:14:43.052Z"
   },
   {
    "duration": 8,
    "start_time": "2024-01-04T10:14:47.359Z"
   },
   {
    "duration": 5,
    "start_time": "2024-01-04T10:14:56.054Z"
   },
   {
    "duration": 4,
    "start_time": "2024-01-04T10:15:04.351Z"
   },
   {
    "duration": 2,
    "start_time": "2024-01-04T10:16:23.624Z"
   },
   {
    "duration": 29,
    "start_time": "2024-01-04T10:22:11.253Z"
   },
   {
    "duration": 3,
    "start_time": "2024-01-04T10:24:20.943Z"
   },
   {
    "duration": 3,
    "start_time": "2024-01-04T10:27:29.532Z"
   },
   {
    "duration": 3,
    "start_time": "2024-01-04T10:29:12.318Z"
   },
   {
    "duration": 6,
    "start_time": "2024-01-04T10:29:25.884Z"
   },
   {
    "duration": 19,
    "start_time": "2024-01-04T10:29:36.934Z"
   },
   {
    "duration": 20,
    "start_time": "2024-01-04T10:29:49.242Z"
   },
   {
    "duration": 15,
    "start_time": "2024-01-04T10:30:06.706Z"
   },
   {
    "duration": 6,
    "start_time": "2024-01-04T10:30:23.390Z"
   },
   {
    "duration": 4,
    "start_time": "2024-01-04T10:30:28.196Z"
   },
   {
    "duration": 6,
    "start_time": "2024-01-04T10:30:38.622Z"
   },
   {
    "duration": 9,
    "start_time": "2024-01-04T10:31:14.116Z"
   },
   {
    "duration": 5,
    "start_time": "2024-01-04T10:31:20.040Z"
   },
   {
    "duration": 4,
    "start_time": "2024-01-04T10:32:06.244Z"
   },
   {
    "duration": 4,
    "start_time": "2024-01-04T10:32:16.039Z"
   },
   {
    "duration": 8,
    "start_time": "2024-01-04T10:32:53.186Z"
   },
   {
    "duration": 3,
    "start_time": "2024-01-04T10:33:07.005Z"
   },
   {
    "duration": 4,
    "start_time": "2024-01-04T10:33:36.279Z"
   },
   {
    "duration": 4,
    "start_time": "2024-01-04T10:33:48.726Z"
   },
   {
    "duration": 4,
    "start_time": "2024-01-04T10:34:17.829Z"
   },
   {
    "duration": 40,
    "start_time": "2024-01-04T10:35:30.644Z"
   },
   {
    "duration": 17,
    "start_time": "2024-01-04T10:35:41.681Z"
   },
   {
    "duration": 4,
    "start_time": "2024-01-04T10:37:01.965Z"
   },
   {
    "duration": 39,
    "start_time": "2024-01-04T10:37:05.782Z"
   },
   {
    "duration": 4,
    "start_time": "2024-01-04T10:37:09.981Z"
   },
   {
    "duration": 32,
    "start_time": "2024-01-04T10:37:11.276Z"
   },
   {
    "duration": 22,
    "start_time": "2024-01-04T10:38:09.897Z"
   },
   {
    "duration": 30,
    "start_time": "2024-01-04T10:38:21.902Z"
   },
   {
    "duration": 4,
    "start_time": "2024-01-04T10:39:26.957Z"
   },
   {
    "duration": 280,
    "start_time": "2024-01-04T10:39:27.506Z"
   },
   {
    "duration": 4,
    "start_time": "2024-01-04T10:49:11.868Z"
   },
   {
    "duration": 238,
    "start_time": "2024-01-04T10:49:12.530Z"
   },
   {
    "duration": 4,
    "start_time": "2024-01-04T10:50:58.805Z"
   },
   {
    "duration": 4,
    "start_time": "2024-01-04T10:51:03.599Z"
   },
   {
    "duration": 228,
    "start_time": "2024-01-04T10:51:04.690Z"
   },
   {
    "duration": 2,
    "start_time": "2024-01-04T10:51:23.107Z"
   },
   {
    "duration": 4,
    "start_time": "2024-01-04T10:51:40.858Z"
   },
   {
    "duration": 157,
    "start_time": "2024-01-04T10:51:41.873Z"
   },
   {
    "duration": 2,
    "start_time": "2024-01-04T10:51:57.246Z"
   },
   {
    "duration": 4,
    "start_time": "2024-01-04T10:52:00.418Z"
   },
   {
    "duration": 239,
    "start_time": "2024-01-04T10:52:01.869Z"
   },
   {
    "duration": 47,
    "start_time": "2024-01-04T12:00:14.821Z"
   },
   {
    "duration": 85,
    "start_time": "2024-01-04T12:00:34.293Z"
   },
   {
    "duration": 12,
    "start_time": "2024-01-04T12:00:52.462Z"
   },
   {
    "duration": 4,
    "start_time": "2024-01-04T12:00:58.524Z"
   },
   {
    "duration": 280,
    "start_time": "2024-01-04T12:02:14.420Z"
   },
   {
    "duration": 665,
    "start_time": "2024-01-04T12:03:32.081Z"
   },
   {
    "duration": 237,
    "start_time": "2024-01-04T12:04:46.446Z"
   },
   {
    "duration": 5,
    "start_time": "2024-01-04T12:06:31.529Z"
   },
   {
    "duration": 185,
    "start_time": "2024-01-04T12:06:37.343Z"
   },
   {
    "duration": 4,
    "start_time": "2024-01-04T12:08:47.584Z"
   },
   {
    "duration": 505,
    "start_time": "2024-01-04T12:08:49.225Z"
   },
   {
    "duration": 4,
    "start_time": "2024-01-04T12:09:37.166Z"
   },
   {
    "duration": 5,
    "start_time": "2024-01-04T12:10:03.157Z"
   },
   {
    "duration": 1675,
    "start_time": "2024-01-04T12:10:03.698Z"
   },
   {
    "duration": 16,
    "start_time": "2024-01-04T12:10:05.375Z"
   },
   {
    "duration": 3,
    "start_time": "2024-01-04T12:10:05.629Z"
   },
   {
    "duration": 5,
    "start_time": "2024-01-04T12:10:06.112Z"
   },
   {
    "duration": 5,
    "start_time": "2024-01-04T12:10:07.711Z"
   },
   {
    "duration": 1371,
    "start_time": "2024-01-04T12:10:08.564Z"
   },
   {
    "duration": 16,
    "start_time": "2024-01-04T12:10:13.090Z"
   },
   {
    "duration": 61,
    "start_time": "2024-01-04T12:10:13.715Z"
   },
   {
    "duration": 17,
    "start_time": "2024-01-04T12:10:14.538Z"
   },
   {
    "duration": 4,
    "start_time": "2024-01-04T12:10:16.874Z"
   },
   {
    "duration": 2,
    "start_time": "2024-01-04T12:10:19.890Z"
   },
   {
    "duration": 3,
    "start_time": "2024-01-04T12:10:21.166Z"
   },
   {
    "duration": 37,
    "start_time": "2024-01-04T12:10:22.956Z"
   },
   {
    "duration": 3,
    "start_time": "2024-01-04T12:10:25.742Z"
   },
   {
    "duration": 4,
    "start_time": "2024-01-04T12:10:26.557Z"
   },
   {
    "duration": 1107,
    "start_time": "2024-01-04T12:10:28.590Z"
   },
   {
    "duration": 4,
    "start_time": "2024-01-04T12:12:31.870Z"
   },
   {
    "duration": 515,
    "start_time": "2024-01-04T12:12:33.262Z"
   },
   {
    "duration": 9,
    "start_time": "2024-01-04T12:14:19.825Z"
   },
   {
    "duration": 3,
    "start_time": "2024-01-04T12:14:26.649Z"
   },
   {
    "duration": 16,
    "start_time": "2024-01-04T12:14:36.526Z"
   },
   {
    "duration": 10,
    "start_time": "2024-01-04T12:15:01.849Z"
   },
   {
    "duration": 3,
    "start_time": "2024-01-04T12:24:54.527Z"
   },
   {
    "duration": 11,
    "start_time": "2024-01-04T12:24:55.142Z"
   },
   {
    "duration": 4,
    "start_time": "2024-01-04T12:26:36.617Z"
   },
   {
    "duration": 20,
    "start_time": "2024-01-04T12:26:42.585Z"
   },
   {
    "duration": 2,
    "start_time": "2024-01-04T12:32:31.067Z"
   },
   {
    "duration": 20,
    "start_time": "2024-01-04T12:32:32.729Z"
   },
   {
    "duration": 15,
    "start_time": "2024-01-04T12:32:34.154Z"
   },
   {
    "duration": 99,
    "start_time": "2024-01-04T12:32:46.846Z"
   },
   {
    "duration": 12013,
    "start_time": "2024-01-04T12:33:11.976Z"
   },
   {
    "duration": 2,
    "start_time": "2024-01-04T12:34:46.167Z"
   },
   {
    "duration": 22,
    "start_time": "2024-01-04T12:34:47.172Z"
   },
   {
    "duration": 143,
    "start_time": "2024-01-04T12:34:47.882Z"
   },
   {
    "duration": 3,
    "start_time": "2024-01-04T12:41:06.086Z"
   },
   {
    "duration": 3201,
    "start_time": "2024-01-04T12:42:29.435Z"
   },
   {
    "duration": 3,
    "start_time": "2024-01-04T12:43:09.062Z"
   },
   {
    "duration": 5685,
    "start_time": "2024-01-04T12:43:38.261Z"
   },
   {
    "duration": 4,
    "start_time": "2024-01-04T12:44:09.637Z"
   },
   {
    "duration": 7,
    "start_time": "2024-01-04T12:44:37.289Z"
   },
   {
    "duration": 4,
    "start_time": "2024-01-04T12:45:47.909Z"
   },
   {
    "duration": 4,
    "start_time": "2024-01-04T12:45:55.833Z"
   },
   {
    "duration": 2571,
    "start_time": "2024-01-04T12:48:41.632Z"
   },
   {
    "duration": 2616,
    "start_time": "2024-01-04T12:49:05.725Z"
   },
   {
    "duration": 3,
    "start_time": "2024-01-04T12:49:38.336Z"
   },
   {
    "duration": 25,
    "start_time": "2024-01-04T12:49:41.258Z"
   },
   {
    "duration": 22,
    "start_time": "2024-01-04T12:49:41.887Z"
   },
   {
    "duration": 5143,
    "start_time": "2024-01-04T12:50:37.459Z"
   },
   {
    "duration": 6,
    "start_time": "2024-01-04T12:51:11.434Z"
   },
   {
    "duration": 2568,
    "start_time": "2024-01-04T12:51:54.278Z"
   },
   {
    "duration": 2,
    "start_time": "2024-01-04T12:58:16.614Z"
   },
   {
    "duration": 4,
    "start_time": "2024-01-04T12:58:29.665Z"
   },
   {
    "duration": 659,
    "start_time": "2024-01-04T13:01:44.827Z"
   },
   {
    "duration": 2,
    "start_time": "2024-01-04T13:05:37.746Z"
   },
   {
    "duration": 1036,
    "start_time": "2024-01-04T13:05:38.833Z"
   },
   {
    "duration": 7,
    "start_time": "2024-01-04T13:05:52.880Z"
   },
   {
    "duration": 17,
    "start_time": "2024-01-04T13:05:58.589Z"
   },
   {
    "duration": 3,
    "start_time": "2024-01-04T13:06:01.712Z"
   },
   {
    "duration": 5,
    "start_time": "2024-01-04T13:06:02.505Z"
   },
   {
    "duration": 5,
    "start_time": "2024-01-04T13:06:04.697Z"
   },
   {
    "duration": 1342,
    "start_time": "2024-01-04T13:06:05.825Z"
   },
   {
    "duration": 19,
    "start_time": "2024-01-04T13:06:09.713Z"
   },
   {
    "duration": 64,
    "start_time": "2024-01-04T13:06:10.171Z"
   },
   {
    "duration": 15,
    "start_time": "2024-01-04T13:06:10.913Z"
   },
   {
    "duration": 4,
    "start_time": "2024-01-04T13:06:12.984Z"
   },
   {
    "duration": 3,
    "start_time": "2024-01-04T13:06:13.593Z"
   },
   {
    "duration": 3,
    "start_time": "2024-01-04T13:06:14.592Z"
   },
   {
    "duration": 37,
    "start_time": "2024-01-04T13:06:15.825Z"
   },
   {
    "duration": 3,
    "start_time": "2024-01-04T13:06:19.888Z"
   },
   {
    "duration": 4,
    "start_time": "2024-01-04T13:06:20.273Z"
   },
   {
    "duration": 3,
    "start_time": "2024-01-04T13:06:47.745Z"
   },
   {
    "duration": 21,
    "start_time": "2024-01-04T13:06:48.889Z"
   },
   {
    "duration": 121,
    "start_time": "2024-01-04T13:06:50.218Z"
   },
   {
    "duration": 4,
    "start_time": "2024-01-04T13:07:02.833Z"
   },
   {
    "duration": 21,
    "start_time": "2024-01-04T13:07:03.521Z"
   },
   {
    "duration": 142,
    "start_time": "2024-01-04T13:07:04.066Z"
   },
   {
    "duration": 3,
    "start_time": "2024-01-04T13:07:14.625Z"
   },
   {
    "duration": 19,
    "start_time": "2024-01-04T13:07:15.370Z"
   },
   {
    "duration": 12203,
    "start_time": "2024-01-04T13:07:16.178Z"
   },
   {
    "duration": 3,
    "start_time": "2024-01-04T13:08:01.442Z"
   },
   {
    "duration": 21,
    "start_time": "2024-01-04T13:08:02.042Z"
   },
   {
    "duration": 140,
    "start_time": "2024-01-04T13:08:02.770Z"
   },
   {
    "duration": 43,
    "start_time": "2024-01-04T13:08:25.892Z"
   },
   {
    "duration": 3,
    "start_time": "2024-01-04T13:08:35.954Z"
   },
   {
    "duration": 20,
    "start_time": "2024-01-04T13:08:36.698Z"
   },
   {
    "duration": 149,
    "start_time": "2024-01-04T13:08:45.491Z"
   },
   {
    "duration": 138,
    "start_time": "2024-01-04T13:15:34.975Z"
   },
   {
    "duration": 5,
    "start_time": "2024-01-04T13:15:55.096Z"
   },
   {
    "duration": 126,
    "start_time": "2024-01-04T13:18:04.402Z"
   },
   {
    "duration": 3,
    "start_time": "2024-01-04T13:18:11.105Z"
   },
   {
    "duration": 21,
    "start_time": "2024-01-04T13:18:12.288Z"
   },
   {
    "duration": 128,
    "start_time": "2024-01-04T13:18:12.953Z"
   },
   {
    "duration": 3,
    "start_time": "2024-01-04T13:20:47.483Z"
   },
   {
    "duration": 133,
    "start_time": "2024-01-04T13:21:00.802Z"
   },
   {
    "duration": 3,
    "start_time": "2024-01-04T13:24:28.974Z"
   },
   {
    "duration": 4,
    "start_time": "2024-01-04T13:24:41.733Z"
   },
   {
    "duration": 240,
    "start_time": "2024-01-04T13:25:12.126Z"
   },
   {
    "duration": 4,
    "start_time": "2024-01-04T13:27:40.840Z"
   },
   {
    "duration": 961,
    "start_time": "2024-01-04T13:27:42.024Z"
   },
   {
    "duration": 3,
    "start_time": "2024-01-04T13:28:37.089Z"
   },
   {
    "duration": 4,
    "start_time": "2024-01-04T13:28:57.658Z"
   },
   {
    "duration": 3,
    "start_time": "2024-01-04T13:29:02.465Z"
   },
   {
    "duration": 5,
    "start_time": "2024-01-04T13:29:09.530Z"
   },
   {
    "duration": 3,
    "start_time": "2024-01-04T13:29:14.905Z"
   },
   {
    "duration": 972,
    "start_time": "2024-01-04T13:29:16.033Z"
   },
   {
    "duration": 2520,
    "start_time": "2024-01-04T13:29:39.233Z"
   },
   {
    "duration": 1283,
    "start_time": "2024-01-04T13:30:04.399Z"
   },
   {
    "duration": 17,
    "start_time": "2024-01-04T13:30:15.178Z"
   },
   {
    "duration": 21,
    "start_time": "2024-01-04T13:30:23.170Z"
   },
   {
    "duration": 22,
    "start_time": "2024-01-04T13:30:32.187Z"
   },
   {
    "duration": 12,
    "start_time": "2024-01-04T13:30:46.738Z"
   },
   {
    "duration": 21,
    "start_time": "2024-01-04T13:31:04.107Z"
   },
   {
    "duration": 34,
    "start_time": "2024-01-04T13:31:09.858Z"
   },
   {
    "duration": 19,
    "start_time": "2024-01-04T13:31:27.131Z"
   },
   {
    "duration": 19,
    "start_time": "2024-01-04T13:31:39.164Z"
   },
   {
    "duration": 20,
    "start_time": "2024-01-04T13:32:41.116Z"
   },
   {
    "duration": 19,
    "start_time": "2024-01-04T13:32:46.268Z"
   },
   {
    "duration": 20,
    "start_time": "2024-01-04T13:32:49.354Z"
   },
   {
    "duration": 9,
    "start_time": "2024-01-04T13:33:31.917Z"
   },
   {
    "duration": 21,
    "start_time": "2024-01-04T13:34:35.525Z"
   },
   {
    "duration": 128,
    "start_time": "2024-01-04T13:35:49.678Z"
   },
   {
    "duration": 136,
    "start_time": "2024-01-04T13:35:59.959Z"
   },
   {
    "duration": 15,
    "start_time": "2024-01-04T13:37:38.359Z"
   },
   {
    "duration": 3,
    "start_time": "2024-01-04T13:39:53.786Z"
   },
   {
    "duration": 2,
    "start_time": "2024-01-04T13:40:02.985Z"
   },
   {
    "duration": 5,
    "start_time": "2024-01-04T13:40:10.369Z"
   },
   {
    "duration": 2,
    "start_time": "2024-01-04T13:41:29.746Z"
   },
   {
    "duration": 4,
    "start_time": "2024-01-04T13:42:24.467Z"
   },
   {
    "duration": 14,
    "start_time": "2024-01-04T13:42:29.739Z"
   },
   {
    "duration": 129,
    "start_time": "2024-01-04T13:42:30.811Z"
   },
   {
    "duration": 2399,
    "start_time": "2024-01-04T13:42:31.491Z"
   },
   {
    "duration": 3,
    "start_time": "2024-01-04T13:43:53.492Z"
   },
   {
    "duration": 5,
    "start_time": "2024-01-04T13:44:39.964Z"
   },
   {
    "duration": 5,
    "start_time": "2024-01-04T13:45:31.454Z"
   },
   {
    "duration": 15,
    "start_time": "2024-01-04T13:45:32.821Z"
   },
   {
    "duration": 28,
    "start_time": "2024-01-04T13:45:41.438Z"
   },
   {
    "duration": 4,
    "start_time": "2024-01-04T13:45:55.565Z"
   },
   {
    "duration": 14,
    "start_time": "2024-01-04T13:45:56.511Z"
   },
   {
    "duration": 128,
    "start_time": "2024-01-04T13:45:57.517Z"
   },
   {
    "duration": 2433,
    "start_time": "2024-01-04T13:45:58.926Z"
   },
   {
    "duration": 4,
    "start_time": "2024-01-04T13:47:53.751Z"
   },
   {
    "duration": 18,
    "start_time": "2024-01-04T13:47:54.919Z"
   },
   {
    "duration": 125,
    "start_time": "2024-01-04T13:47:57.855Z"
   },
   {
    "duration": 11,
    "start_time": "2024-01-04T13:47:58.480Z"
   },
   {
    "duration": 3,
    "start_time": "2024-01-04T13:48:53.194Z"
   },
   {
    "duration": 3,
    "start_time": "2024-01-04T13:49:09.832Z"
   },
   {
    "duration": 15,
    "start_time": "2024-01-04T13:49:10.840Z"
   },
   {
    "duration": 3,
    "start_time": "2024-01-04T13:50:18.545Z"
   },
   {
    "duration": 16,
    "start_time": "2024-01-04T13:50:19.225Z"
   },
   {
    "duration": 14,
    "start_time": "2024-01-04T13:52:20.414Z"
   },
   {
    "duration": 14,
    "start_time": "2024-01-04T13:52:36.331Z"
   },
   {
    "duration": 4,
    "start_time": "2024-01-04T13:52:45.611Z"
   },
   {
    "duration": 3,
    "start_time": "2024-01-04T13:52:48.203Z"
   },
   {
    "duration": 15,
    "start_time": "2024-01-04T13:52:52.634Z"
   },
   {
    "duration": 79,
    "start_time": "2024-01-04T16:50:39.104Z"
   },
   {
    "duration": 16,
    "start_time": "2024-01-04T16:50:40.630Z"
   },
   {
    "duration": 140,
    "start_time": "2024-01-04T16:50:42.526Z"
   },
   {
    "duration": 2429,
    "start_time": "2024-01-04T16:50:44.855Z"
   },
   {
    "duration": 3,
    "start_time": "2024-01-04T16:51:47.111Z"
   },
   {
    "duration": 4,
    "start_time": "2024-01-04T16:51:55.455Z"
   },
   {
    "duration": 4,
    "start_time": "2024-01-04T17:09:15.122Z"
   },
   {
    "duration": 3,
    "start_time": "2024-01-04T17:09:36.787Z"
   },
   {
    "duration": 21,
    "start_time": "2024-01-04T17:09:38.499Z"
   },
   {
    "duration": 132,
    "start_time": "2024-01-04T17:09:43.627Z"
   },
   {
    "duration": 197,
    "start_time": "2024-01-04T17:09:44.315Z"
   },
   {
    "duration": 14,
    "start_time": "2024-01-04T17:10:05.179Z"
   },
   {
    "duration": 1117,
    "start_time": "2024-01-04T17:10:48.388Z"
   },
   {
    "duration": 3,
    "start_time": "2024-01-04T17:13:57.294Z"
   },
   {
    "duration": 3,
    "start_time": "2024-01-04T17:13:59.206Z"
   },
   {
    "duration": 21,
    "start_time": "2024-01-04T17:14:01.686Z"
   },
   {
    "duration": 156,
    "start_time": "2024-01-04T17:14:16.230Z"
   },
   {
    "duration": 17,
    "start_time": "2024-01-04T17:14:17.053Z"
   },
   {
    "duration": 1112,
    "start_time": "2024-01-04T17:14:22.538Z"
   },
   {
    "duration": 148,
    "start_time": "2024-01-04T17:14:44.133Z"
   },
   {
    "duration": 124,
    "start_time": "2024-01-04T17:15:16.607Z"
   },
   {
    "duration": 143,
    "start_time": "2024-01-04T17:15:29.798Z"
   },
   {
    "duration": 1078,
    "start_time": "2024-01-04T17:15:35.839Z"
   },
   {
    "duration": 17,
    "start_time": "2024-01-04T17:16:02.456Z"
   },
   {
    "duration": 14,
    "start_time": "2024-01-04T17:16:27.760Z"
   },
   {
    "duration": 997,
    "start_time": "2024-01-04T17:16:50.112Z"
   },
   {
    "duration": 1075,
    "start_time": "2024-01-04T17:17:05.079Z"
   },
   {
    "duration": 3,
    "start_time": "2024-01-04T17:17:34.776Z"
   },
   {
    "duration": 3,
    "start_time": "2024-01-04T17:17:36.289Z"
   },
   {
    "duration": 22,
    "start_time": "2024-01-04T17:17:37.089Z"
   },
   {
    "duration": 142,
    "start_time": "2024-01-04T17:17:39.872Z"
   },
   {
    "duration": 15,
    "start_time": "2024-01-04T17:17:40.527Z"
   },
   {
    "duration": 1097,
    "start_time": "2024-01-04T17:17:43.025Z"
   },
   {
    "duration": 975,
    "start_time": "2024-01-04T17:17:52.849Z"
   },
   {
    "duration": 1199,
    "start_time": "2024-01-04T17:18:32.880Z"
   },
   {
    "duration": 1200,
    "start_time": "2024-01-04T17:18:39.217Z"
   },
   {
    "duration": 956,
    "start_time": "2024-01-04T17:20:21.386Z"
   },
   {
    "duration": 151,
    "start_time": "2024-01-04T17:20:27.898Z"
   },
   {
    "duration": 280,
    "start_time": "2024-01-04T17:20:36.618Z"
   },
   {
    "duration": 272,
    "start_time": "2024-01-04T17:20:43.578Z"
   },
   {
    "duration": 286,
    "start_time": "2024-01-04T17:21:38.522Z"
   },
   {
    "duration": 290,
    "start_time": "2024-01-04T17:21:53.731Z"
   },
   {
    "duration": 314,
    "start_time": "2024-01-04T17:22:25.563Z"
   },
   {
    "duration": 295,
    "start_time": "2024-01-04T17:23:03.268Z"
   },
   {
    "duration": 294,
    "start_time": "2024-01-04T17:23:10.548Z"
   },
   {
    "duration": 9,
    "start_time": "2024-01-04T17:23:29.579Z"
   },
   {
    "duration": 4,
    "start_time": "2024-01-04T17:23:33.163Z"
   },
   {
    "duration": 335,
    "start_time": "2024-01-04T17:23:38.436Z"
   },
   {
    "duration": 340,
    "start_time": "2024-01-04T17:23:56.805Z"
   },
   {
    "duration": 350,
    "start_time": "2024-01-04T17:24:08.053Z"
   },
   {
    "duration": 3,
    "start_time": "2024-01-04T17:24:35.853Z"
   },
   {
    "duration": 284,
    "start_time": "2024-01-04T17:24:41.268Z"
   },
   {
    "duration": 299,
    "start_time": "2024-01-04T17:24:47.548Z"
   },
   {
    "duration": 283,
    "start_time": "2024-01-04T17:24:55.149Z"
   },
   {
    "duration": 9,
    "start_time": "2024-01-04T17:25:03.261Z"
   },
   {
    "duration": 422,
    "start_time": "2024-01-04T17:25:23.053Z"
   },
   {
    "duration": 149,
    "start_time": "2024-01-04T17:25:30.357Z"
   },
   {
    "duration": 444,
    "start_time": "2024-01-04T17:25:34.141Z"
   },
   {
    "duration": 325,
    "start_time": "2024-01-04T17:25:41.686Z"
   },
   {
    "duration": 425,
    "start_time": "2024-01-04T17:26:08.965Z"
   },
   {
    "duration": 300,
    "start_time": "2024-01-04T17:26:30.558Z"
   },
   {
    "duration": 24,
    "start_time": "2024-01-04T17:26:47.517Z"
   },
   {
    "duration": 158,
    "start_time": "2024-01-04T17:27:04.238Z"
   },
   {
    "duration": 140,
    "start_time": "2024-01-04T17:38:49.983Z"
   },
   {
    "duration": 39,
    "start_time": "2024-01-04T17:39:13.831Z"
   },
   {
    "duration": 17,
    "start_time": "2024-01-04T17:39:29.967Z"
   },
   {
    "duration": 36,
    "start_time": "2024-01-04T17:39:34.599Z"
   },
   {
    "duration": 36,
    "start_time": "2024-01-04T17:40:01.295Z"
   },
   {
    "duration": 19,
    "start_time": "2024-01-04T17:40:05.504Z"
   },
   {
    "duration": 132,
    "start_time": "2024-01-04T17:42:13.553Z"
   },
   {
    "duration": 48,
    "start_time": "2024-01-04T17:42:58.969Z"
   },
   {
    "duration": 3,
    "start_time": "2024-01-04T17:57:53.960Z"
   },
   {
    "duration": 5,
    "start_time": "2024-01-04T18:01:11.458Z"
   },
   {
    "duration": 6,
    "start_time": "2024-01-04T18:01:18.482Z"
   },
   {
    "duration": 3,
    "start_time": "2024-01-04T18:01:40.542Z"
   },
   {
    "duration": 7,
    "start_time": "2024-01-04T18:01:41.323Z"
   },
   {
    "duration": 3,
    "start_time": "2024-01-04T18:02:03.195Z"
   },
   {
    "duration": 7,
    "start_time": "2024-01-04T18:02:05.187Z"
   },
   {
    "duration": 23,
    "start_time": "2024-01-04T18:02:32.011Z"
   },
   {
    "duration": 3,
    "start_time": "2024-01-04T18:03:17.484Z"
   },
   {
    "duration": 2252,
    "start_time": "2024-01-04T18:03:17.988Z"
   },
   {
    "duration": 5,
    "start_time": "2024-01-04T18:03:22.740Z"
   },
   {
    "duration": 4,
    "start_time": "2024-01-04T18:03:24.308Z"
   },
   {
    "duration": 75,
    "start_time": "2024-01-04T18:03:25.968Z"
   },
   {
    "duration": 4,
    "start_time": "2024-01-04T18:03:26.420Z"
   },
   {
    "duration": 5,
    "start_time": "2024-01-04T18:03:26.660Z"
   },
   {
    "duration": 5,
    "start_time": "2024-01-04T18:03:28.188Z"
   },
   {
    "duration": 1281,
    "start_time": "2024-01-04T18:03:29.157Z"
   },
   {
    "duration": 19,
    "start_time": "2024-01-04T18:03:34.028Z"
   },
   {
    "duration": 62,
    "start_time": "2024-01-04T18:03:34.732Z"
   },
   {
    "duration": 15,
    "start_time": "2024-01-04T18:03:35.580Z"
   },
   {
    "duration": 4,
    "start_time": "2024-01-04T18:03:38.373Z"
   },
   {
    "duration": 2,
    "start_time": "2024-01-04T18:03:38.612Z"
   },
   {
    "duration": 3,
    "start_time": "2024-01-04T18:03:38.956Z"
   },
   {
    "duration": 40,
    "start_time": "2024-01-04T18:03:41.189Z"
   },
   {
    "duration": 43,
    "start_time": "2024-01-04T18:03:45.941Z"
   },
   {
    "duration": 3,
    "start_time": "2024-01-04T18:03:48.556Z"
   },
   {
    "duration": 3,
    "start_time": "2024-01-04T18:03:50.364Z"
   },
   {
    "duration": 3,
    "start_time": "2024-01-04T18:03:51.453Z"
   },
   {
    "duration": 24,
    "start_time": "2024-01-04T18:03:53.669Z"
   },
   {
    "duration": 161,
    "start_time": "2024-01-04T18:03:56.484Z"
   },
   {
    "duration": 18,
    "start_time": "2024-01-04T18:03:57.590Z"
   },
   {
    "duration": 1026,
    "start_time": "2024-01-04T18:04:08.092Z"
   },
   {
    "duration": 161,
    "start_time": "2024-01-04T18:04:10.749Z"
   },
   {
    "duration": 316,
    "start_time": "2024-01-04T18:04:13.613Z"
   },
   {
    "duration": 39,
    "start_time": "2024-01-04T18:04:13.948Z"
   },
   {
    "duration": 3,
    "start_time": "2024-01-04T18:04:17.597Z"
   },
   {
    "duration": 6,
    "start_time": "2024-01-04T18:04:18.237Z"
   },
   {
    "duration": 38,
    "start_time": "2024-01-04T18:04:20.894Z"
   },
   {
    "duration": 15,
    "start_time": "2024-01-04T18:04:36.949Z"
   },
   {
    "duration": 24,
    "start_time": "2024-01-04T18:04:42.429Z"
   },
   {
    "duration": 1215,
    "start_time": "2024-01-04T18:04:45.949Z"
   },
   {
    "duration": 1605,
    "start_time": "2024-01-04T18:05:00.861Z"
   },
   {
    "duration": 16,
    "start_time": "2024-01-04T18:05:35.632Z"
   },
   {
    "duration": 18,
    "start_time": "2024-01-04T18:05:51.046Z"
   },
   {
    "duration": 15,
    "start_time": "2024-01-04T18:06:04.046Z"
   },
   {
    "duration": 1005,
    "start_time": "2024-01-04T18:06:08.814Z"
   },
   {
    "duration": 1258,
    "start_time": "2024-01-04T18:06:29.863Z"
   },
   {
    "duration": 17,
    "start_time": "2024-01-04T18:06:40.111Z"
   },
   {
    "duration": 5,
    "start_time": "2024-01-04T18:08:51.448Z"
   },
   {
    "duration": 3,
    "start_time": "2024-01-04T18:08:54.464Z"
   },
   {
    "duration": 24,
    "start_time": "2024-01-04T18:09:08.833Z"
   },
   {
    "duration": 16,
    "start_time": "2024-01-04T18:09:13.969Z"
   },
   {
    "duration": 1128,
    "start_time": "2024-01-04T18:09:21.914Z"
   },
   {
    "duration": 4,
    "start_time": "2024-01-04T18:10:01.801Z"
   },
   {
    "duration": 3,
    "start_time": "2024-01-04T18:10:03.409Z"
   },
   {
    "duration": 17,
    "start_time": "2024-01-04T18:10:07.741Z"
   },
   {
    "duration": 3,
    "start_time": "2024-01-04T18:10:09.652Z"
   },
   {
    "duration": 4,
    "start_time": "2024-01-04T18:10:09.929Z"
   },
   {
    "duration": 3,
    "start_time": "2024-01-04T18:10:11.417Z"
   },
   {
    "duration": 22,
    "start_time": "2024-01-04T18:10:13.274Z"
   },
   {
    "duration": 129,
    "start_time": "2024-01-04T18:10:14.962Z"
   },
   {
    "duration": 15,
    "start_time": "2024-01-04T18:10:15.203Z"
   },
   {
    "duration": 1389,
    "start_time": "2024-01-04T18:10:18.705Z"
   },
   {
    "duration": 162,
    "start_time": "2024-01-04T18:10:20.618Z"
   },
   {
    "duration": 1403,
    "start_time": "2024-01-04T18:10:39.769Z"
   },
   {
    "duration": 174,
    "start_time": "2024-01-04T18:10:41.173Z"
   },
   {
    "duration": 1412,
    "start_time": "2024-01-04T18:10:47.658Z"
   },
   {
    "duration": 168,
    "start_time": "2024-01-04T18:10:50.539Z"
   },
   {
    "duration": 1487,
    "start_time": "2024-01-04T18:10:56.794Z"
   },
   {
    "duration": 170,
    "start_time": "2024-01-04T18:10:58.826Z"
   },
   {
    "duration": 38,
    "start_time": "2024-01-04T18:11:22.618Z"
   },
   {
    "duration": 2,
    "start_time": "2024-01-04T18:11:24.307Z"
   },
   {
    "duration": 3,
    "start_time": "2024-01-04T18:11:25.691Z"
   },
   {
    "duration": 3,
    "start_time": "2024-01-04T18:11:27.971Z"
   },
   {
    "duration": 22,
    "start_time": "2024-01-04T18:11:28.267Z"
   },
   {
    "duration": 142,
    "start_time": "2024-01-04T18:11:30.963Z"
   },
   {
    "duration": 16,
    "start_time": "2024-01-04T18:11:33.563Z"
   },
   {
    "duration": 1418,
    "start_time": "2024-01-04T18:11:38.691Z"
   },
   {
    "duration": 164,
    "start_time": "2024-01-04T18:11:41.027Z"
   },
   {
    "duration": 3,
    "start_time": "2024-01-04T18:13:06.428Z"
   },
   {
    "duration": 7,
    "start_time": "2024-01-04T18:13:07.075Z"
   },
   {
    "duration": 22,
    "start_time": "2024-01-04T18:13:07.837Z"
   },
   {
    "duration": 16,
    "start_time": "2024-01-04T18:13:10.356Z"
   },
   {
    "duration": 2650,
    "start_time": "2024-01-04T18:13:15.244Z"
   },
   {
    "duration": 5,
    "start_time": "2024-01-04T18:16:50.423Z"
   },
   {
    "duration": 18,
    "start_time": "2024-01-04T18:19:42.998Z"
   },
   {
    "duration": 2,
    "start_time": "2024-01-04T18:19:45.409Z"
   },
   {
    "duration": 4,
    "start_time": "2024-01-04T18:19:46.593Z"
   },
   {
    "duration": 4,
    "start_time": "2024-01-04T18:19:47.376Z"
   },
   {
    "duration": 22,
    "start_time": "2024-01-04T18:19:50.074Z"
   },
   {
    "duration": 132,
    "start_time": "2024-01-04T18:19:56.515Z"
   },
   {
    "duration": 15,
    "start_time": "2024-01-04T18:19:59.738Z"
   },
   {
    "duration": 1375,
    "start_time": "2024-01-04T18:20:13.097Z"
   },
   {
    "duration": 166,
    "start_time": "2024-01-04T18:20:14.985Z"
   },
   {
    "duration": 7,
    "start_time": "2024-01-04T18:21:38.034Z"
   },
   {
    "duration": 4,
    "start_time": "2024-01-04T18:24:07.853Z"
   },
   {
    "duration": 3,
    "start_time": "2024-01-04T18:24:08.964Z"
   },
   {
    "duration": 3,
    "start_time": "2024-01-04T18:24:09.707Z"
   },
   {
    "duration": 38,
    "start_time": "2024-01-04T18:24:10.191Z"
   },
   {
    "duration": 2,
    "start_time": "2024-01-04T18:24:14.538Z"
   },
   {
    "duration": 3,
    "start_time": "2024-01-04T18:24:16.124Z"
   },
   {
    "duration": 7,
    "start_time": "2024-01-04T18:24:18.764Z"
   },
   {
    "duration": 3,
    "start_time": "2024-01-04T18:24:22.748Z"
   },
   {
    "duration": 22,
    "start_time": "2024-01-04T18:24:23.269Z"
   },
   {
    "duration": 1085,
    "start_time": "2024-01-04T18:24:41.541Z"
   },
   {
    "duration": 963,
    "start_time": "2024-01-04T18:24:53.814Z"
   },
   {
    "duration": 149,
    "start_time": "2024-01-04T18:24:55.461Z"
   },
   {
    "duration": 947,
    "start_time": "2024-01-04T18:25:11.179Z"
   },
   {
    "duration": 145,
    "start_time": "2024-01-04T18:25:14.253Z"
   },
   {
    "duration": 19,
    "start_time": "2024-01-04T21:16:51.389Z"
   },
   {
    "duration": 4,
    "start_time": "2024-01-04T21:18:57.430Z"
   },
   {
    "duration": 16,
    "start_time": "2024-01-04T21:19:09.422Z"
   },
   {
    "duration": 2,
    "start_time": "2024-01-04T21:19:16.302Z"
   },
   {
    "duration": 16,
    "start_time": "2024-01-04T21:19:28.214Z"
   },
   {
    "duration": 2,
    "start_time": "2024-01-04T21:20:00.823Z"
   },
   {
    "duration": 477,
    "start_time": "2024-01-04T21:20:01.898Z"
   },
   {
    "duration": 1320,
    "start_time": "2024-01-04T21:20:14.726Z"
   },
   {
    "duration": 18,
    "start_time": "2024-01-04T21:20:29.998Z"
   },
   {
    "duration": 19,
    "start_time": "2024-01-04T21:20:38.367Z"
   },
   {
    "duration": 17,
    "start_time": "2024-01-04T21:20:47.480Z"
   },
   {
    "duration": 4,
    "start_time": "2024-01-04T21:20:52.086Z"
   },
   {
    "duration": 14,
    "start_time": "2024-01-04T21:20:54.200Z"
   },
   {
    "duration": 702,
    "start_time": "2024-01-04T21:20:55.383Z"
   },
   {
    "duration": 7,
    "start_time": "2024-01-04T21:22:21.624Z"
   },
   {
    "duration": 18,
    "start_time": "2024-01-04T21:28:36.494Z"
   },
   {
    "duration": 5,
    "start_time": "2024-01-04T21:29:30.278Z"
   },
   {
    "duration": 6,
    "start_time": "2024-01-04T21:32:27.977Z"
   },
   {
    "duration": 2,
    "start_time": "2024-01-04T21:32:46.864Z"
   },
   {
    "duration": 16,
    "start_time": "2024-01-04T21:32:53.080Z"
   },
   {
    "duration": 135,
    "start_time": "2024-01-04T21:33:06.376Z"
   },
   {
    "duration": 133,
    "start_time": "2024-01-04T21:33:11.168Z"
   },
   {
    "duration": 141,
    "start_time": "2024-01-04T21:33:19.154Z"
   },
   {
    "duration": 4,
    "start_time": "2024-01-04T21:35:17.778Z"
   },
   {
    "duration": 5,
    "start_time": "2024-01-04T21:35:28.417Z"
   },
   {
    "duration": 39,
    "start_time": "2024-01-04T21:35:34.554Z"
   },
   {
    "duration": 3,
    "start_time": "2024-01-04T21:35:36.889Z"
   },
   {
    "duration": 168,
    "start_time": "2024-01-04T21:35:38.498Z"
   },
   {
    "duration": 6,
    "start_time": "2024-01-04T21:36:17.730Z"
   },
   {
    "duration": 2,
    "start_time": "2024-01-04T21:36:21.914Z"
   },
   {
    "duration": 268,
    "start_time": "2024-01-04T21:36:22.802Z"
   },
   {
    "duration": 5,
    "start_time": "2024-01-04T21:39:23.796Z"
   },
   {
    "duration": 7,
    "start_time": "2024-01-04T21:39:37.460Z"
   },
   {
    "duration": 3,
    "start_time": "2024-01-04T21:39:42.413Z"
   },
   {
    "duration": 274,
    "start_time": "2024-01-04T21:39:43.093Z"
   },
   {
    "duration": 2,
    "start_time": "2024-01-04T21:40:26.013Z"
   },
   {
    "duration": 261,
    "start_time": "2024-01-04T21:40:26.797Z"
   },
   {
    "duration": 15,
    "start_time": "2024-01-04T21:49:18.379Z"
   },
   {
    "duration": 157,
    "start_time": "2024-01-04T21:49:43.139Z"
   },
   {
    "duration": 103,
    "start_time": "2024-01-04T21:50:02.996Z"
   },
   {
    "duration": 114,
    "start_time": "2024-01-04T21:50:17.883Z"
   },
   {
    "duration": 117,
    "start_time": "2024-01-04T21:50:55.948Z"
   },
   {
    "duration": 7,
    "start_time": "2024-01-04T21:53:03.470Z"
   },
   {
    "duration": 3,
    "start_time": "2024-01-04T21:53:54.198Z"
   },
   {
    "duration": 3,
    "start_time": "2024-01-04T21:54:07.414Z"
   },
   {
    "duration": 284,
    "start_time": "2024-01-04T21:54:15.966Z"
   },
   {
    "duration": 6,
    "start_time": "2024-01-04T21:54:39.606Z"
   },
   {
    "duration": 6,
    "start_time": "2024-01-04T21:55:19.527Z"
   },
   {
    "duration": 4,
    "start_time": "2024-01-04T21:55:24.959Z"
   },
   {
    "duration": 2,
    "start_time": "2024-01-04T21:55:29.608Z"
   },
   {
    "duration": 192,
    "start_time": "2024-01-04T21:55:30.112Z"
   },
   {
    "duration": 4,
    "start_time": "2024-01-04T21:56:18.456Z"
   },
   {
    "duration": 2,
    "start_time": "2024-01-04T21:56:34.416Z"
   },
   {
    "duration": 240,
    "start_time": "2024-01-04T21:56:36.528Z"
   },
   {
    "duration": 184,
    "start_time": "2024-01-04T21:57:40.449Z"
   },
   {
    "duration": 2,
    "start_time": "2024-01-04T21:57:43.313Z"
   },
   {
    "duration": 198,
    "start_time": "2024-01-04T21:57:43.873Z"
   },
   {
    "duration": 12,
    "start_time": "2024-01-04T22:00:17.962Z"
   },
   {
    "duration": 3,
    "start_time": "2024-01-04T22:02:28.877Z"
   },
   {
    "duration": 22,
    "start_time": "2024-01-04T22:02:35.918Z"
   },
   {
    "duration": 5,
    "start_time": "2024-01-04T22:02:46.844Z"
   },
   {
    "duration": 3,
    "start_time": "2024-01-04T22:03:00.605Z"
   },
   {
    "duration": 8,
    "start_time": "2024-01-04T22:03:49.902Z"
   },
   {
    "duration": 55,
    "start_time": "2024-01-04T22:03:54.389Z"
   },
   {
    "duration": 4,
    "start_time": "2024-01-04T22:04:24.670Z"
   },
   {
    "duration": 485,
    "start_time": "2024-01-04T22:05:29.518Z"
   },
   {
    "duration": 497,
    "start_time": "2024-01-04T22:05:36.527Z"
   },
   {
    "duration": 476,
    "start_time": "2024-01-04T22:05:41.270Z"
   },
   {
    "duration": 487,
    "start_time": "2024-01-04T22:05:56.743Z"
   },
   {
    "duration": 3,
    "start_time": "2024-01-04T22:06:43.319Z"
   },
   {
    "duration": 4,
    "start_time": "2024-01-04T22:07:05.181Z"
   },
   {
    "duration": 478,
    "start_time": "2024-01-04T22:07:11.552Z"
   },
   {
    "duration": 15,
    "start_time": "2024-01-04T22:07:15.216Z"
   },
   {
    "duration": 282,
    "start_time": "2024-01-04T22:07:24.008Z"
   },
   {
    "duration": 269,
    "start_time": "2024-01-04T22:07:33.481Z"
   },
   {
    "duration": 16,
    "start_time": "2024-01-04T22:08:47.297Z"
   },
   {
    "duration": 682,
    "start_time": "2024-01-05T08:42:04.410Z"
   },
   {
    "duration": 1069,
    "start_time": "2024-01-05T08:42:05.094Z"
   },
   {
    "duration": 17,
    "start_time": "2024-01-05T08:42:06.165Z"
   },
   {
    "duration": 12,
    "start_time": "2024-01-05T08:42:06.184Z"
   },
   {
    "duration": 11,
    "start_time": "2024-01-05T08:42:06.197Z"
   },
   {
    "duration": 26,
    "start_time": "2024-01-05T08:42:06.209Z"
   },
   {
    "duration": 1464,
    "start_time": "2024-01-05T08:42:11.569Z"
   },
   {
    "duration": 19,
    "start_time": "2024-01-05T08:42:39.777Z"
   },
   {
    "duration": 66,
    "start_time": "2024-01-05T08:42:40.256Z"
   },
   {
    "duration": 16,
    "start_time": "2024-01-05T08:42:41.784Z"
   },
   {
    "duration": 6,
    "start_time": "2024-01-05T08:42:48.344Z"
   },
   {
    "duration": 3,
    "start_time": "2024-01-05T08:42:48.632Z"
   },
   {
    "duration": 3,
    "start_time": "2024-01-05T08:45:40.530Z"
   },
   {
    "duration": 3,
    "start_time": "2024-01-05T08:45:52.442Z"
   },
   {
    "duration": 8,
    "start_time": "2024-01-05T08:45:57.194Z"
   },
   {
    "duration": 42,
    "start_time": "2024-01-05T08:46:29.379Z"
   },
   {
    "duration": 61,
    "start_time": "2024-01-05T08:46:39.100Z"
   },
   {
    "duration": 2,
    "start_time": "2024-01-05T08:47:13.387Z"
   },
   {
    "duration": 8,
    "start_time": "2024-01-05T08:47:13.948Z"
   },
   {
    "duration": 1582,
    "start_time": "2024-01-05T08:47:16.204Z"
   },
   {
    "duration": 42,
    "start_time": "2024-01-05T08:47:28.211Z"
   },
   {
    "duration": 3,
    "start_time": "2024-01-05T08:47:31.675Z"
   },
   {
    "duration": 8,
    "start_time": "2024-01-05T08:47:32.498Z"
   },
   {
    "duration": 260,
    "start_time": "2024-01-05T08:47:33.100Z"
   },
   {
    "duration": 16,
    "start_time": "2024-01-05T08:47:46.301Z"
   },
   {
    "duration": 11,
    "start_time": "2024-01-05T08:51:07.950Z"
   },
   {
    "duration": 5,
    "start_time": "2024-01-05T08:51:19.981Z"
   },
   {
    "duration": 10,
    "start_time": "2024-01-05T08:51:25.030Z"
   },
   {
    "duration": 7,
    "start_time": "2024-01-05T08:51:39.118Z"
   },
   {
    "duration": 3,
    "start_time": "2024-01-05T08:52:25.159Z"
   },
   {
    "duration": 2,
    "start_time": "2024-01-05T08:52:28.416Z"
   },
   {
    "duration": 12,
    "start_time": "2024-01-05T08:52:40.688Z"
   },
   {
    "duration": 18,
    "start_time": "2024-01-05T08:52:59.933Z"
   },
   {
    "duration": 902,
    "start_time": "2024-01-05T08:53:04.273Z"
   },
   {
    "duration": 2641,
    "start_time": "2024-01-05T08:53:15.624Z"
   },
   {
    "duration": 37,
    "start_time": "2024-01-05T08:54:19.224Z"
   },
   {
    "duration": 2,
    "start_time": "2024-01-05T08:54:22.888Z"
   },
   {
    "duration": 3,
    "start_time": "2024-01-05T08:54:23.408Z"
   },
   {
    "duration": 3,
    "start_time": "2024-01-05T08:54:24.152Z"
   },
   {
    "duration": 3,
    "start_time": "2024-01-05T08:54:51.560Z"
   },
   {
    "duration": 2,
    "start_time": "2024-01-05T08:55:24.377Z"
   },
   {
    "duration": 3,
    "start_time": "2024-01-05T08:55:26.665Z"
   },
   {
    "duration": 3,
    "start_time": "2024-01-05T08:55:26.933Z"
   },
   {
    "duration": 17,
    "start_time": "2024-01-05T08:55:33.025Z"
   },
   {
    "duration": 1101,
    "start_time": "2024-01-05T08:55:50.554Z"
   },
   {
    "duration": 1138,
    "start_time": "2024-01-05T08:56:07.778Z"
   },
   {
    "duration": 19,
    "start_time": "2024-01-05T08:56:16.793Z"
   },
   {
    "duration": 3,
    "start_time": "2024-01-05T08:56:19.242Z"
   },
   {
    "duration": 2,
    "start_time": "2024-01-05T08:56:19.506Z"
   },
   {
    "duration": 3,
    "start_time": "2024-01-05T08:56:19.809Z"
   },
   {
    "duration": 2,
    "start_time": "2024-01-05T08:56:20.274Z"
   },
   {
    "duration": 16,
    "start_time": "2024-01-05T08:56:22.306Z"
   },
   {
    "duration": 2673,
    "start_time": "2024-01-05T08:56:25.722Z"
   },
   {
    "duration": 19,
    "start_time": "2024-01-05T08:57:36.131Z"
   },
   {
    "duration": 3,
    "start_time": "2024-01-05T08:57:38.443Z"
   },
   {
    "duration": 2,
    "start_time": "2024-01-05T08:57:38.667Z"
   },
   {
    "duration": 3,
    "start_time": "2024-01-05T08:57:38.963Z"
   },
   {
    "duration": 9,
    "start_time": "2024-01-05T08:57:39.506Z"
   },
   {
    "duration": 2,
    "start_time": "2024-01-05T08:57:48.243Z"
   },
   {
    "duration": 16,
    "start_time": "2024-01-05T08:57:50.371Z"
   },
   {
    "duration": 850,
    "start_time": "2024-01-05T08:57:54.901Z"
   },
   {
    "duration": 18,
    "start_time": "2024-01-05T08:58:34.939Z"
   },
   {
    "duration": 2,
    "start_time": "2024-01-05T08:58:35.947Z"
   },
   {
    "duration": 3,
    "start_time": "2024-01-05T08:58:36.228Z"
   },
   {
    "duration": 3,
    "start_time": "2024-01-05T08:58:36.596Z"
   },
   {
    "duration": 3,
    "start_time": "2024-01-05T08:58:37.091Z"
   },
   {
    "duration": 18,
    "start_time": "2024-01-05T08:58:37.676Z"
   },
   {
    "duration": 10,
    "start_time": "2024-01-05T08:58:43.517Z"
   },
   {
    "duration": 2533,
    "start_time": "2024-01-05T08:58:46.388Z"
   },
   {
    "duration": 3,
    "start_time": "2024-01-05T09:01:11.565Z"
   },
   {
    "duration": 19,
    "start_time": "2024-01-05T09:01:17.077Z"
   },
   {
    "duration": 866,
    "start_time": "2024-01-05T09:01:21.647Z"
   },
   {
    "duration": 7,
    "start_time": "2024-01-05T09:02:55.895Z"
   },
   {
    "duration": 3,
    "start_time": "2024-01-05T09:02:57.911Z"
   },
   {
    "duration": 21,
    "start_time": "2024-01-05T09:02:58.190Z"
   },
   {
    "duration": 3,
    "start_time": "2024-01-05T09:02:59.862Z"
   },
   {
    "duration": 2,
    "start_time": "2024-01-05T09:03:00.102Z"
   },
   {
    "duration": 3,
    "start_time": "2024-01-05T09:03:00.462Z"
   },
   {
    "duration": 2,
    "start_time": "2024-01-05T09:03:02.679Z"
   },
   {
    "duration": 10,
    "start_time": "2024-01-05T09:03:03.606Z"
   },
   {
    "duration": 861,
    "start_time": "2024-01-05T09:03:04.807Z"
   },
   {
    "duration": 6,
    "start_time": "2024-01-05T09:03:23.039Z"
   },
   {
    "duration": 3,
    "start_time": "2024-01-05T09:06:59.553Z"
   },
   {
    "duration": 3,
    "start_time": "2024-01-05T09:06:59.817Z"
   },
   {
    "duration": 10,
    "start_time": "2024-01-05T09:07:00.626Z"
   },
   {
    "duration": 2464,
    "start_time": "2024-01-05T09:07:08.130Z"
   },
   {
    "duration": 30,
    "start_time": "2024-01-05T09:07:35.778Z"
   },
   {
    "duration": 13,
    "start_time": "2024-01-05T09:08:27.675Z"
   },
   {
    "duration": 1202,
    "start_time": "2024-01-05T09:08:46.147Z"
   },
   {
    "duration": 11,
    "start_time": "2024-01-05T09:08:56.411Z"
   },
   {
    "duration": 18,
    "start_time": "2024-01-05T09:09:00.723Z"
   },
   {
    "duration": 3,
    "start_time": "2024-01-05T09:09:01.682Z"
   },
   {
    "duration": 3,
    "start_time": "2024-01-05T09:09:04.803Z"
   },
   {
    "duration": 3,
    "start_time": "2024-01-05T09:09:05.043Z"
   },
   {
    "duration": 89,
    "start_time": "2024-01-05T09:09:05.787Z"
   },
   {
    "duration": 2152,
    "start_time": "2024-01-05T09:09:08.243Z"
   },
   {
    "duration": 386,
    "start_time": "2024-01-05T09:09:14.180Z"
   },
   {
    "duration": 128,
    "start_time": "2024-01-05T09:12:27.094Z"
   },
   {
    "duration": 114,
    "start_time": "2024-01-05T09:12:43.310Z"
   },
   {
    "duration": 120,
    "start_time": "2024-01-05T09:12:50.558Z"
   },
   {
    "duration": 120,
    "start_time": "2024-01-05T09:13:33.095Z"
   },
   {
    "duration": 116,
    "start_time": "2024-01-05T09:14:06.175Z"
   },
   {
    "duration": 123,
    "start_time": "2024-01-05T09:14:13.743Z"
   },
   {
    "duration": 119,
    "start_time": "2024-01-05T09:14:20.258Z"
   },
   {
    "duration": 589,
    "start_time": "2024-01-05T09:14:50.328Z"
   },
   {
    "duration": 381,
    "start_time": "2024-01-05T09:15:05.783Z"
   },
   {
    "duration": 120,
    "start_time": "2024-01-05T09:17:24.770Z"
   },
   {
    "duration": 10,
    "start_time": "2024-01-05T09:17:32.946Z"
   },
   {
    "duration": 7643,
    "start_time": "2024-01-05T09:17:53.002Z"
   },
   {
    "duration": 7899,
    "start_time": "2024-01-05T09:18:17.195Z"
   },
   {
    "duration": 2,
    "start_time": "2024-01-05T09:19:19.755Z"
   },
   {
    "duration": 3,
    "start_time": "2024-01-05T09:19:23.763Z"
   },
   {
    "duration": 1177,
    "start_time": "2024-01-05T09:19:48.013Z"
   },
   {
    "duration": 39,
    "start_time": "2024-01-05T09:20:27.899Z"
   },
   {
    "duration": 363,
    "start_time": "2024-01-05T09:20:31.356Z"
   },
   {
    "duration": 4,
    "start_time": "2024-01-05T09:20:35.684Z"
   },
   {
    "duration": 74,
    "start_time": "2024-01-05T09:20:54.069Z"
   },
   {
    "duration": 8,
    "start_time": "2024-01-05T09:21:04.581Z"
   },
   {
    "duration": 203,
    "start_time": "2024-01-05T09:21:20.836Z"
   },
   {
    "duration": 177,
    "start_time": "2024-01-05T09:26:12.296Z"
   },
   {
    "duration": 4,
    "start_time": "2024-01-05T09:27:18.344Z"
   },
   {
    "duration": 89,
    "start_time": "2024-01-05T09:27:26.659Z"
   },
   {
    "duration": 170,
    "start_time": "2024-01-05T09:27:43.107Z"
   },
   {
    "duration": 48,
    "start_time": "2024-01-05T09:27:52.882Z"
   },
   {
    "duration": 49,
    "start_time": "2024-01-05T09:28:52.594Z"
   },
   {
    "duration": 67,
    "start_time": "2024-01-05T09:29:01.227Z"
   },
   {
    "duration": 81772,
    "start_time": "2024-01-05T09:29:07.627Z"
   },
   {
    "duration": 698,
    "start_time": "2024-01-05T09:30:53.782Z"
   },
   {
    "duration": 1624,
    "start_time": "2024-01-05T09:30:55.412Z"
   },
   {
    "duration": 17,
    "start_time": "2024-01-05T09:30:57.038Z"
   },
   {
    "duration": 85,
    "start_time": "2024-01-05T09:30:57.057Z"
   },
   {
    "duration": 6,
    "start_time": "2024-01-05T09:30:57.204Z"
   },
   {
    "duration": 5,
    "start_time": "2024-01-05T09:30:58.348Z"
   },
   {
    "duration": 1475,
    "start_time": "2024-01-05T09:30:58.916Z"
   },
   {
    "duration": 15,
    "start_time": "2024-01-05T09:31:01.653Z"
   },
   {
    "duration": 61,
    "start_time": "2024-01-05T09:31:02.132Z"
   },
   {
    "duration": 15,
    "start_time": "2024-01-05T09:31:02.965Z"
   },
   {
    "duration": 6,
    "start_time": "2024-01-05T09:31:04.413Z"
   },
   {
    "duration": 4,
    "start_time": "2024-01-05T09:31:04.934Z"
   },
   {
    "duration": 35,
    "start_time": "2024-01-05T09:31:06.565Z"
   },
   {
    "duration": 3,
    "start_time": "2024-01-05T09:31:07.268Z"
   },
   {
    "duration": 2,
    "start_time": "2024-01-05T09:31:08.197Z"
   },
   {
    "duration": 3,
    "start_time": "2024-01-05T09:31:08.492Z"
   },
   {
    "duration": 3,
    "start_time": "2024-01-05T09:31:10.124Z"
   },
   {
    "duration": 2,
    "start_time": "2024-01-05T09:31:10.909Z"
   },
   {
    "duration": 400,
    "start_time": "2024-01-05T09:31:13.892Z"
   },
   {
    "duration": 106,
    "start_time": "2024-01-05T09:31:14.876Z"
   },
   {
    "duration": 103,
    "start_time": "2024-01-05T09:31:23.549Z"
   },
   {
    "duration": 4106,
    "start_time": "2024-01-05T09:31:25.726Z"
   },
   {
    "duration": 4049,
    "start_time": "2024-01-05T09:31:46.046Z"
   },
   {
    "duration": 2,
    "start_time": "2024-01-05T09:32:23.837Z"
   },
   {
    "duration": 1160,
    "start_time": "2024-01-05T09:32:25.333Z"
   },
   {
    "duration": 17,
    "start_time": "2024-01-05T09:32:34.880Z"
   },
   {
    "duration": 3,
    "start_time": "2024-01-05T09:32:36.197Z"
   },
   {
    "duration": 3,
    "start_time": "2024-01-05T09:32:45.093Z"
   },
   {
    "duration": 3,
    "start_time": "2024-01-05T09:32:45.269Z"
   },
   {
    "duration": 3,
    "start_time": "2024-01-05T09:32:45.477Z"
   },
   {
    "duration": 1060,
    "start_time": "2024-01-05T09:32:45.917Z"
   },
   {
    "duration": 24,
    "start_time": "2024-01-05T09:33:06.366Z"
   },
   {
    "duration": 3,
    "start_time": "2024-01-05T09:33:06.605Z"
   },
   {
    "duration": 3,
    "start_time": "2024-01-05T09:33:06.805Z"
   },
   {
    "duration": 3,
    "start_time": "2024-01-05T09:33:06.989Z"
   },
   {
    "duration": 3,
    "start_time": "2024-01-05T09:33:07.309Z"
   },
   {
    "duration": 2592,
    "start_time": "2024-01-05T09:33:07.894Z"
   },
   {
    "duration": 1218,
    "start_time": "2024-01-05T09:33:37.720Z"
   },
   {
    "duration": 18,
    "start_time": "2024-01-05T09:33:44.054Z"
   },
   {
    "duration": 2,
    "start_time": "2024-01-05T09:33:44.342Z"
   },
   {
    "duration": 3,
    "start_time": "2024-01-05T09:33:44.559Z"
   },
   {
    "duration": 3,
    "start_time": "2024-01-05T09:33:44.742Z"
   },
   {
    "duration": 3,
    "start_time": "2024-01-05T09:33:45.022Z"
   },
   {
    "duration": 2142,
    "start_time": "2024-01-05T09:33:45.431Z"
   },
   {
    "duration": 405,
    "start_time": "2024-01-05T09:33:50.414Z"
   },
   {
    "duration": 10,
    "start_time": "2024-01-05T09:34:05.994Z"
   },
   {
    "duration": 11,
    "start_time": "2024-01-05T09:34:16.999Z"
   },
   {
    "duration": 10,
    "start_time": "2024-01-05T09:34:25.758Z"
   },
   {
    "duration": 126,
    "start_time": "2024-01-05T09:34:37.711Z"
   },
   {
    "duration": 67,
    "start_time": "2024-01-05T09:34:55.480Z"
   },
   {
    "duration": 159,
    "start_time": "2024-01-05T09:35:14.695Z"
   },
   {
    "duration": 9,
    "start_time": "2024-01-05T09:35:32.688Z"
   },
   {
    "duration": 8,
    "start_time": "2024-01-05T09:35:44.175Z"
   },
   {
    "duration": 127,
    "start_time": "2024-01-05T09:35:49.288Z"
   },
   {
    "duration": 10,
    "start_time": "2024-01-05T09:36:03.159Z"
   },
   {
    "duration": 39,
    "start_time": "2024-01-05T09:36:10.520Z"
   },
   {
    "duration": 7,
    "start_time": "2024-01-05T09:36:11.105Z"
   },
   {
    "duration": 114,
    "start_time": "2024-01-05T09:36:19.360Z"
   },
   {
    "duration": 7,
    "start_time": "2024-01-05T09:36:52.760Z"
   },
   {
    "duration": 14,
    "start_time": "2024-01-05T09:37:01.193Z"
   },
   {
    "duration": 4,
    "start_time": "2024-01-05T09:37:46.116Z"
   },
   {
    "duration": 660,
    "start_time": "2024-01-05T09:37:54.627Z"
   },
   {
    "duration": 1047,
    "start_time": "2024-01-05T09:37:55.977Z"
   },
   {
    "duration": 20,
    "start_time": "2024-01-05T09:37:57.026Z"
   },
   {
    "duration": 61,
    "start_time": "2024-01-05T09:37:57.048Z"
   },
   {
    "duration": 153,
    "start_time": "2024-01-05T09:37:57.202Z"
   },
   {
    "duration": 5,
    "start_time": "2024-01-05T09:37:58.186Z"
   },
   {
    "duration": 1380,
    "start_time": "2024-01-05T09:37:58.849Z"
   },
   {
    "duration": 21,
    "start_time": "2024-01-05T09:38:00.320Z"
   },
   {
    "duration": 104,
    "start_time": "2024-01-05T09:38:00.666Z"
   },
   {
    "duration": 16,
    "start_time": "2024-01-05T09:38:01.387Z"
   },
   {
    "duration": 8,
    "start_time": "2024-01-05T09:38:02.113Z"
   },
   {
    "duration": 3,
    "start_time": "2024-01-05T09:38:02.737Z"
   },
   {
    "duration": 40,
    "start_time": "2024-01-05T09:38:03.377Z"
   },
   {
    "duration": 3,
    "start_time": "2024-01-05T09:38:04.265Z"
   },
   {
    "duration": 2,
    "start_time": "2024-01-05T09:38:05.154Z"
   },
   {
    "duration": 3,
    "start_time": "2024-01-05T09:38:05.474Z"
   },
   {
    "duration": 2,
    "start_time": "2024-01-05T09:38:05.777Z"
   },
   {
    "duration": 2325,
    "start_time": "2024-01-05T09:38:09.761Z"
   },
   {
    "duration": 600,
    "start_time": "2024-01-05T09:38:14.371Z"
   },
   {
    "duration": 117,
    "start_time": "2024-01-05T09:38:19.922Z"
   },
   {
    "duration": 3,
    "start_time": "2024-01-05T09:38:34.170Z"
   },
   {
    "duration": 6,
    "start_time": "2024-01-05T09:38:41.233Z"
   },
   {
    "duration": 8,
    "start_time": "2024-01-05T09:38:45.138Z"
   },
   {
    "duration": 5,
    "start_time": "2024-01-05T09:38:52.869Z"
   },
   {
    "duration": 3,
    "start_time": "2024-01-05T09:39:11.419Z"
   },
   {
    "duration": 5,
    "start_time": "2024-01-05T09:39:20.051Z"
   },
   {
    "duration": 287,
    "start_time": "2024-01-05T09:39:30.434Z"
   },
   {
    "duration": 3,
    "start_time": "2024-01-05T09:39:47.139Z"
   },
   {
    "duration": 6,
    "start_time": "2024-01-05T09:39:48.026Z"
   },
   {
    "duration": 13,
    "start_time": "2024-01-05T09:39:49.211Z"
   },
   {
    "duration": 6,
    "start_time": "2024-01-05T09:39:57.003Z"
   },
   {
    "duration": 266,
    "start_time": "2024-01-05T09:39:57.883Z"
   },
   {
    "duration": 4,
    "start_time": "2024-01-05T09:40:27.003Z"
   },
   {
    "duration": 327,
    "start_time": "2024-01-05T09:40:28.396Z"
   },
   {
    "duration": 3,
    "start_time": "2024-01-05T09:40:40.571Z"
   },
   {
    "duration": 6,
    "start_time": "2024-01-05T09:40:46.219Z"
   },
   {
    "duration": 328,
    "start_time": "2024-01-05T09:40:47.291Z"
   },
   {
    "duration": 608,
    "start_time": "2024-01-05T09:41:01.900Z"
   },
   {
    "duration": 43,
    "start_time": "2024-01-05T09:41:26.028Z"
   },
   {
    "duration": 107,
    "start_time": "2024-01-05T09:41:36.691Z"
   },
   {
    "duration": 43,
    "start_time": "2024-01-05T09:41:57.492Z"
   },
   {
    "duration": 285,
    "start_time": "2024-01-05T09:42:02.988Z"
   },
   {
    "duration": 48,
    "start_time": "2024-01-05T09:42:15.228Z"
   },
   {
    "duration": 97,
    "start_time": "2024-01-05T09:42:18.878Z"
   },
   {
    "duration": 66,
    "start_time": "2024-01-05T09:42:28.325Z"
   },
   {
    "duration": 507,
    "start_time": "2024-01-05T09:42:32.252Z"
   },
   {
    "duration": 51,
    "start_time": "2024-01-05T09:42:37.686Z"
   },
   {
    "duration": 3553,
    "start_time": "2024-01-05T09:42:38.933Z"
   },
   {
    "duration": 97,
    "start_time": "2024-01-05T09:43:06.316Z"
   },
   {
    "duration": 11368,
    "start_time": "2024-01-05T09:43:07.789Z"
   },
   {
    "duration": 86,
    "start_time": "2024-01-05T09:43:31.613Z"
   },
   {
    "duration": 50704,
    "start_time": "2024-01-05T09:43:34.333Z"
   },
   {
    "duration": 386,
    "start_time": "2024-01-05T09:44:33.477Z"
   },
   {
    "duration": 80,
    "start_time": "2024-01-05T09:44:40.542Z"
   },
   {
    "duration": 563,
    "start_time": "2024-01-05T09:44:41.389Z"
   },
   {
    "duration": 93,
    "start_time": "2024-01-05T09:44:59.718Z"
   },
   {
    "duration": 1035,
    "start_time": "2024-01-05T09:45:01.069Z"
   },
   {
    "duration": 31,
    "start_time": "2024-01-05T09:45:38.887Z"
   },
   {
    "duration": 1204,
    "start_time": "2024-01-05T09:45:42.633Z"
   },
   {
    "duration": 8,
    "start_time": "2024-01-05T09:47:44.729Z"
   },
   {
    "duration": 28,
    "start_time": "2024-01-05T09:48:08.370Z"
   },
   {
    "duration": 8968,
    "start_time": "2024-01-05T09:48:23.184Z"
   },
   {
    "duration": 4,
    "start_time": "2024-01-05T09:48:59.104Z"
   },
   {
    "duration": 1202,
    "start_time": "2024-01-05T09:49:04.081Z"
   },
   {
    "duration": 41,
    "start_time": "2024-01-05T09:49:12.209Z"
   },
   {
    "duration": 224,
    "start_time": "2024-01-05T09:49:15.912Z"
   },
   {
    "duration": 17,
    "start_time": "2024-01-05T09:49:18.505Z"
   },
   {
    "duration": 5878,
    "start_time": "2024-01-05T09:50:29.009Z"
   },
   {
    "duration": 4385,
    "start_time": "2024-01-05T09:51:01.409Z"
   },
   {
    "duration": 2,
    "start_time": "2024-01-05T09:53:59.892Z"
   },
   {
    "duration": 16,
    "start_time": "2024-01-05T09:54:19.795Z"
   },
   {
    "duration": 1136,
    "start_time": "2024-01-05T09:55:24.155Z"
   },
   {
    "duration": 20,
    "start_time": "2024-01-05T09:55:30.388Z"
   },
   {
    "duration": 250,
    "start_time": "2024-01-05T09:55:35.237Z"
   },
   {
    "duration": 15,
    "start_time": "2024-01-05T09:55:38.317Z"
   },
   {
    "duration": 26,
    "start_time": "2024-01-05T09:56:03.461Z"
   },
   {
    "duration": 9,
    "start_time": "2024-01-05T09:56:28.982Z"
   },
   {
    "duration": 4754,
    "start_time": "2024-01-05T09:56:37.349Z"
   },
   {
    "duration": 35,
    "start_time": "2024-01-05T09:56:59.755Z"
   },
   {
    "duration": 16,
    "start_time": "2024-01-05T09:57:27.439Z"
   },
   {
    "duration": 86,
    "start_time": "2024-01-05T09:57:30.175Z"
   },
   {
    "duration": 18,
    "start_time": "2024-01-05T09:57:49.958Z"
   },
   {
    "duration": 7,
    "start_time": "2024-01-05T09:58:46.894Z"
   },
   {
    "duration": 24,
    "start_time": "2024-01-05T09:58:50.055Z"
   },
   {
    "duration": 3,
    "start_time": "2024-01-05T09:58:53.031Z"
   },
   {
    "duration": 3,
    "start_time": "2024-01-05T09:59:01.263Z"
   },
   {
    "duration": 211,
    "start_time": "2024-01-05T09:59:09.975Z"
   },
   {
    "duration": 16,
    "start_time": "2024-01-05T09:59:11.832Z"
   },
   {
    "duration": 3,
    "start_time": "2024-01-05T09:59:17.623Z"
   },
   {
    "duration": 12,
    "start_time": "2024-01-05T09:59:19.415Z"
   },
   {
    "duration": 18,
    "start_time": "2024-01-05T09:59:21.976Z"
   },
   {
    "duration": 6,
    "start_time": "2024-01-05T09:59:55.103Z"
   },
   {
    "duration": 10,
    "start_time": "2024-01-05T10:00:12.355Z"
   },
   {
    "duration": 20,
    "start_time": "2024-01-05T10:00:14.768Z"
   },
   {
    "duration": 6,
    "start_time": "2024-01-05T10:00:29.776Z"
   },
   {
    "duration": 3,
    "start_time": "2024-01-05T10:00:34.927Z"
   },
   {
    "duration": 12,
    "start_time": "2024-01-05T10:00:36.056Z"
   },
   {
    "duration": 11,
    "start_time": "2024-01-05T10:00:36.560Z"
   },
   {
    "duration": 4746,
    "start_time": "2024-01-05T10:00:40.384Z"
   },
   {
    "duration": 20,
    "start_time": "2024-01-05T11:17:23.600Z"
   },
   {
    "duration": 73,
    "start_time": "2024-01-05T11:17:32.952Z"
   },
   {
    "duration": 8,
    "start_time": "2024-01-05T11:19:21.248Z"
   },
   {
    "duration": 3,
    "start_time": "2024-01-05T11:19:53.950Z"
   },
   {
    "duration": 13,
    "start_time": "2024-01-05T11:19:58.857Z"
   },
   {
    "duration": 4552,
    "start_time": "2024-01-05T11:20:00.105Z"
   },
   {
    "duration": 84,
    "start_time": "2024-01-05T11:20:58.802Z"
   },
   {
    "duration": 10,
    "start_time": "2024-01-05T11:34:19.764Z"
   },
   {
    "duration": 9,
    "start_time": "2024-01-05T11:34:38.500Z"
   },
   {
    "duration": 9,
    "start_time": "2024-01-05T11:36:02.597Z"
   },
   {
    "duration": 42,
    "start_time": "2024-01-05T11:36:05.797Z"
   },
   {
    "duration": 3,
    "start_time": "2024-01-05T11:36:08.244Z"
   },
   {
    "duration": 3,
    "start_time": "2024-01-05T11:36:08.573Z"
   },
   {
    "duration": 3,
    "start_time": "2024-01-05T11:37:47.887Z"
   },
   {
    "duration": 10,
    "start_time": "2024-01-05T11:37:51.126Z"
   },
   {
    "duration": 37,
    "start_time": "2024-01-05T11:37:54.343Z"
   },
   {
    "duration": 3,
    "start_time": "2024-01-05T11:37:54.902Z"
   },
   {
    "duration": 3,
    "start_time": "2024-01-05T11:38:02.557Z"
   },
   {
    "duration": 3,
    "start_time": "2024-01-05T11:38:03.094Z"
   },
   {
    "duration": 24,
    "start_time": "2024-01-05T11:38:04.246Z"
   },
   {
    "duration": 37,
    "start_time": "2024-01-05T11:38:44.287Z"
   },
   {
    "duration": 24,
    "start_time": "2024-01-05T11:38:51.295Z"
   },
   {
    "duration": 1440,
    "start_time": "2024-01-05T11:38:55.534Z"
   },
   {
    "duration": 2,
    "start_time": "2024-01-05T11:38:58.535Z"
   },
   {
    "duration": 22,
    "start_time": "2024-01-05T11:38:59.199Z"
   },
   {
    "duration": 8,
    "start_time": "2024-01-05T11:39:03.063Z"
   },
   {
    "duration": 46,
    "start_time": "2024-01-05T11:39:04.775Z"
   },
   {
    "duration": 3,
    "start_time": "2024-01-05T11:39:07.086Z"
   },
   {
    "duration": 3,
    "start_time": "2024-01-05T11:39:07.328Z"
   },
   {
    "duration": 3,
    "start_time": "2024-01-05T11:39:07.671Z"
   },
   {
    "duration": 4,
    "start_time": "2024-01-05T11:39:08.070Z"
   },
   {
    "duration": 263,
    "start_time": "2024-01-05T11:39:09.440Z"
   },
   {
    "duration": 21,
    "start_time": "2024-01-05T11:39:18.191Z"
   },
   {
    "duration": 8,
    "start_time": "2024-01-05T11:40:13.818Z"
   },
   {
    "duration": 9,
    "start_time": "2024-01-05T11:41:22.516Z"
   },
   {
    "duration": 36,
    "start_time": "2024-01-05T11:41:42.329Z"
   },
   {
    "duration": 3,
    "start_time": "2024-01-05T11:41:45.089Z"
   },
   {
    "duration": 3,
    "start_time": "2024-01-05T11:41:45.449Z"
   },
   {
    "duration": 3,
    "start_time": "2024-01-05T11:41:46.073Z"
   },
   {
    "duration": 2,
    "start_time": "2024-01-05T11:41:46.378Z"
   },
   {
    "duration": 205,
    "start_time": "2024-01-05T11:41:47.786Z"
   },
   {
    "duration": 15,
    "start_time": "2024-01-05T11:41:49.138Z"
   },
   {
    "duration": 3,
    "start_time": "2024-01-05T11:42:09.578Z"
   },
   {
    "duration": 3,
    "start_time": "2024-01-05T11:42:10.018Z"
   },
   {
    "duration": 15,
    "start_time": "2024-01-05T11:42:24.530Z"
   },
   {
    "duration": 24,
    "start_time": "2024-01-05T11:42:34.689Z"
   },
   {
    "duration": 3,
    "start_time": "2024-01-05T11:42:41.410Z"
   },
   {
    "duration": 2,
    "start_time": "2024-01-05T11:42:41.714Z"
   },
   {
    "duration": 2,
    "start_time": "2024-01-05T11:42:41.938Z"
   },
   {
    "duration": 4,
    "start_time": "2024-01-05T11:42:42.258Z"
   },
   {
    "duration": 421,
    "start_time": "2024-01-05T11:42:43.001Z"
   },
   {
    "duration": 12,
    "start_time": "2024-01-05T11:42:43.970Z"
   },
   {
    "duration": 31,
    "start_time": "2024-01-05T11:44:24.708Z"
   },
   {
    "duration": 3,
    "start_time": "2024-01-05T11:44:25.474Z"
   },
   {
    "duration": 3,
    "start_time": "2024-01-05T11:44:25.796Z"
   },
   {
    "duration": 3,
    "start_time": "2024-01-05T11:44:26.380Z"
   },
   {
    "duration": 3,
    "start_time": "2024-01-05T11:44:26.779Z"
   },
   {
    "duration": 1407,
    "start_time": "2024-01-05T11:44:27.388Z"
   },
   {
    "duration": 29,
    "start_time": "2024-01-05T11:46:00.085Z"
   },
   {
    "duration": 3,
    "start_time": "2024-01-05T11:46:05.397Z"
   },
   {
    "duration": 3,
    "start_time": "2024-01-05T11:46:05.637Z"
   },
   {
    "duration": 3,
    "start_time": "2024-01-05T11:46:05.957Z"
   },
   {
    "duration": 5,
    "start_time": "2024-01-05T11:46:06.404Z"
   },
   {
    "duration": 1295,
    "start_time": "2024-01-05T11:46:08.373Z"
   },
   {
    "duration": 3,
    "start_time": "2024-01-05T11:46:19.724Z"
   },
   {
    "duration": 41,
    "start_time": "2024-01-05T11:46:24.997Z"
   },
   {
    "duration": 3,
    "start_time": "2024-01-05T11:46:27.349Z"
   },
   {
    "duration": 2,
    "start_time": "2024-01-05T11:46:27.533Z"
   },
   {
    "duration": 4,
    "start_time": "2024-01-05T11:46:27.772Z"
   },
   {
    "duration": 3,
    "start_time": "2024-01-05T11:46:28.077Z"
   },
   {
    "duration": 438,
    "start_time": "2024-01-05T11:46:28.422Z"
   },
   {
    "duration": 34,
    "start_time": "2024-01-05T11:48:24.142Z"
   },
   {
    "duration": 10,
    "start_time": "2024-01-05T11:49:11.807Z"
   },
   {
    "duration": 4,
    "start_time": "2024-01-05T11:50:00.976Z"
   },
   {
    "duration": 8,
    "start_time": "2024-01-05T11:50:28.448Z"
   },
   {
    "duration": 8,
    "start_time": "2024-01-05T11:50:39.799Z"
   },
   {
    "duration": 4,
    "start_time": "2024-01-05T11:50:45.833Z"
   },
   {
    "duration": 3,
    "start_time": "2024-01-05T11:50:48.912Z"
   },
   {
    "duration": 4,
    "start_time": "2024-01-05T11:50:53.056Z"
   },
   {
    "duration": 5,
    "start_time": "2024-01-05T11:50:56.599Z"
   },
   {
    "duration": 8,
    "start_time": "2024-01-05T11:50:59.656Z"
   },
   {
    "duration": 11,
    "start_time": "2024-01-05T11:51:12.657Z"
   },
   {
    "duration": 12,
    "start_time": "2024-01-05T11:51:18.921Z"
   },
   {
    "duration": 4,
    "start_time": "2024-01-05T11:51:24.873Z"
   },
   {
    "duration": 12,
    "start_time": "2024-01-05T11:51:28.360Z"
   },
   {
    "duration": 3,
    "start_time": "2024-01-05T11:51:34.137Z"
   },
   {
    "duration": 13,
    "start_time": "2024-01-05T11:51:52.689Z"
   },
   {
    "duration": 9,
    "start_time": "2024-01-05T11:51:59.450Z"
   },
   {
    "duration": 14,
    "start_time": "2024-01-05T11:52:03.297Z"
   },
   {
    "duration": 8,
    "start_time": "2024-01-05T11:52:27.426Z"
   },
   {
    "duration": 15,
    "start_time": "2024-01-05T11:52:36.177Z"
   },
   {
    "duration": 7,
    "start_time": "2024-01-05T11:52:39.618Z"
   },
   {
    "duration": 9,
    "start_time": "2024-01-05T11:53:24.308Z"
   },
   {
    "duration": 8,
    "start_time": "2024-01-05T11:53:27.218Z"
   },
   {
    "duration": 12,
    "start_time": "2024-01-05T11:54:04.331Z"
   },
   {
    "duration": 5,
    "start_time": "2024-01-05T11:54:16.947Z"
   },
   {
    "duration": 9,
    "start_time": "2024-01-05T11:54:28.314Z"
   },
   {
    "duration": 51,
    "start_time": "2024-01-05T11:54:31.755Z"
   },
   {
    "duration": 3,
    "start_time": "2024-01-05T11:56:23.187Z"
   },
   {
    "duration": 2,
    "start_time": "2024-01-05T11:56:24.662Z"
   },
   {
    "duration": 9,
    "start_time": "2024-01-05T11:56:25.100Z"
   },
   {
    "duration": 3,
    "start_time": "2024-01-05T11:56:30.316Z"
   },
   {
    "duration": 5,
    "start_time": "2024-01-05T11:57:46.789Z"
   },
   {
    "duration": 2,
    "start_time": "2024-01-05T11:57:55.101Z"
   },
   {
    "duration": 3,
    "start_time": "2024-01-05T11:58:13.453Z"
   },
   {
    "duration": 2,
    "start_time": "2024-01-05T11:58:14.061Z"
   },
   {
    "duration": 2,
    "start_time": "2024-01-05T11:58:14.645Z"
   },
   {
    "duration": 26,
    "start_time": "2024-01-05T11:58:15.325Z"
   },
   {
    "duration": 24,
    "start_time": "2024-01-05T11:58:30.261Z"
   },
   {
    "duration": 2,
    "start_time": "2024-01-05T11:58:32.310Z"
   },
   {
    "duration": 3,
    "start_time": "2024-01-05T11:58:32.533Z"
   },
   {
    "duration": 3,
    "start_time": "2024-01-05T11:58:32.876Z"
   },
   {
    "duration": 3,
    "start_time": "2024-01-05T11:58:33.357Z"
   },
   {
    "duration": 446,
    "start_time": "2024-01-05T11:58:33.726Z"
   },
   {
    "duration": 3,
    "start_time": "2024-01-05T12:04:29.321Z"
   },
   {
    "duration": 28,
    "start_time": "2024-01-05T12:04:39.145Z"
   },
   {
    "duration": 3,
    "start_time": "2024-01-05T12:04:39.705Z"
   },
   {
    "duration": 3,
    "start_time": "2024-01-05T12:04:40.033Z"
   },
   {
    "duration": 3,
    "start_time": "2024-01-05T12:04:40.641Z"
   },
   {
    "duration": 3,
    "start_time": "2024-01-05T12:04:41.521Z"
   },
   {
    "duration": 425,
    "start_time": "2024-01-05T12:04:42.827Z"
   },
   {
    "duration": 4,
    "start_time": "2024-01-05T12:04:52.065Z"
   },
   {
    "duration": 28,
    "start_time": "2024-01-05T12:04:56.353Z"
   },
   {
    "duration": 3,
    "start_time": "2024-01-05T12:04:58.649Z"
   },
   {
    "duration": 3,
    "start_time": "2024-01-05T12:05:01.649Z"
   },
   {
    "duration": 4,
    "start_time": "2024-01-05T12:05:02.273Z"
   },
   {
    "duration": 3,
    "start_time": "2024-01-05T12:05:03.073Z"
   },
   {
    "duration": 2565,
    "start_time": "2024-01-05T12:05:03.899Z"
   },
   {
    "duration": 55,
    "start_time": "2024-01-05T12:05:40.915Z"
   },
   {
    "duration": 8,
    "start_time": "2024-01-05T12:08:01.667Z"
   },
   {
    "duration": 28,
    "start_time": "2024-01-05T12:08:03.556Z"
   },
   {
    "duration": 2,
    "start_time": "2024-01-05T12:08:04.043Z"
   },
   {
    "duration": 2,
    "start_time": "2024-01-05T12:08:04.467Z"
   },
   {
    "duration": 4,
    "start_time": "2024-01-05T12:08:05.004Z"
   },
   {
    "duration": 3,
    "start_time": "2024-01-05T12:08:05.571Z"
   },
   {
    "duration": 2646,
    "start_time": "2024-01-05T12:08:06.172Z"
   },
   {
    "duration": 55,
    "start_time": "2024-01-05T12:12:23.991Z"
   },
   {
    "duration": 3,
    "start_time": "2024-01-05T12:12:32.983Z"
   },
   {
    "duration": 3,
    "start_time": "2024-01-05T12:12:33.407Z"
   },
   {
    "duration": 54,
    "start_time": "2024-01-05T12:12:57.551Z"
   },
   {
    "duration": 3,
    "start_time": "2024-01-05T12:12:58.134Z"
   },
   {
    "duration": 4,
    "start_time": "2024-01-05T12:12:58.615Z"
   },
   {
    "duration": 246,
    "start_time": "2024-01-05T12:13:16.869Z"
   },
   {
    "duration": 15,
    "start_time": "2024-01-05T12:13:33.089Z"
   },
   {
    "duration": 44,
    "start_time": "2024-01-05T12:14:42.272Z"
   },
   {
    "duration": 3,
    "start_time": "2024-01-05T12:14:44.095Z"
   },
   {
    "duration": 2,
    "start_time": "2024-01-05T12:14:49.818Z"
   },
   {
    "duration": 3,
    "start_time": "2024-01-05T12:14:52.417Z"
   },
   {
    "duration": 2,
    "start_time": "2024-01-05T12:14:52.752Z"
   },
   {
    "duration": 10,
    "start_time": "2024-01-05T12:14:53.080Z"
   },
   {
    "duration": 10,
    "start_time": "2024-01-05T12:15:37.225Z"
   },
   {
    "duration": 52,
    "start_time": "2024-01-05T12:16:29.435Z"
   },
   {
    "duration": 4,
    "start_time": "2024-01-05T12:16:30.193Z"
   },
   {
    "duration": 3,
    "start_time": "2024-01-05T12:16:30.657Z"
   },
   {
    "duration": 2,
    "start_time": "2024-01-05T12:16:31.361Z"
   },
   {
    "duration": 12,
    "start_time": "2024-01-05T12:16:31.664Z"
   },
   {
    "duration": 4,
    "start_time": "2024-01-05T12:16:58.466Z"
   },
   {
    "duration": 3,
    "start_time": "2024-01-05T12:17:01.465Z"
   },
   {
    "duration": 737,
    "start_time": "2024-01-05T12:17:03.922Z"
   },
   {
    "duration": 36,
    "start_time": "2024-01-05T12:17:19.442Z"
   },
   {
    "duration": 29,
    "start_time": "2024-01-05T12:17:28.858Z"
   },
   {
    "duration": 3,
    "start_time": "2024-01-05T12:17:29.681Z"
   },
   {
    "duration": 3,
    "start_time": "2024-01-05T12:17:30.225Z"
   },
   {
    "duration": 3,
    "start_time": "2024-01-05T12:17:30.875Z"
   },
   {
    "duration": 9,
    "start_time": "2024-01-05T12:17:31.169Z"
   },
   {
    "duration": 3,
    "start_time": "2024-01-05T12:17:31.578Z"
   },
   {
    "duration": 1187,
    "start_time": "2024-01-05T12:17:32.021Z"
   },
   {
    "duration": 52,
    "start_time": "2024-01-05T12:17:42.562Z"
   },
   {
    "duration": 4,
    "start_time": "2024-01-05T12:17:44.147Z"
   },
   {
    "duration": 17,
    "start_time": "2024-01-05T12:17:44.154Z"
   },
   {
    "duration": 31,
    "start_time": "2024-01-05T12:17:44.173Z"
   },
   {
    "duration": 5,
    "start_time": "2024-01-05T12:17:44.514Z"
   },
   {
    "duration": 3,
    "start_time": "2024-01-05T12:17:45.202Z"
   },
   {
    "duration": 1278,
    "start_time": "2024-01-05T12:17:45.682Z"
   },
   {
    "duration": 60,
    "start_time": "2024-01-05T12:18:11.546Z"
   },
   {
    "duration": 1139,
    "start_time": "2024-01-05T12:19:29.827Z"
   },
   {
    "duration": 31,
    "start_time": "2024-01-05T12:19:34.564Z"
   },
   {
    "duration": 4,
    "start_time": "2024-01-05T12:19:35.083Z"
   },
   {
    "duration": 3,
    "start_time": "2024-01-05T12:19:35.323Z"
   },
   {
    "duration": 3,
    "start_time": "2024-01-05T12:19:35.643Z"
   },
   {
    "duration": 3,
    "start_time": "2024-01-05T12:19:35.987Z"
   },
   {
    "duration": 2,
    "start_time": "2024-01-05T12:19:36.795Z"
   },
   {
    "duration": 1148,
    "start_time": "2024-01-05T12:19:37.436Z"
   },
   {
    "duration": 157,
    "start_time": "2024-01-05T12:19:42.868Z"
   },
   {
    "duration": 297,
    "start_time": "2024-01-05T12:21:09.148Z"
   },
   {
    "duration": 291,
    "start_time": "2024-01-05T12:21:13.230Z"
   },
   {
    "duration": 10,
    "start_time": "2024-01-05T12:23:09.069Z"
   },
   {
    "duration": 4,
    "start_time": "2024-01-05T12:23:18.246Z"
   },
   {
    "duration": 31,
    "start_time": "2024-01-05T12:23:23.014Z"
   },
   {
    "duration": 3,
    "start_time": "2024-01-05T12:23:23.614Z"
   },
   {
    "duration": 3,
    "start_time": "2024-01-05T12:23:23.941Z"
   },
   {
    "duration": 3,
    "start_time": "2024-01-05T12:23:24.558Z"
   },
   {
    "duration": 4,
    "start_time": "2024-01-05T12:23:24.846Z"
   },
   {
    "duration": 4,
    "start_time": "2024-01-05T12:23:27.597Z"
   },
   {
    "duration": 1111,
    "start_time": "2024-01-05T12:23:28.367Z"
   },
   {
    "duration": 10,
    "start_time": "2024-01-05T12:24:00.302Z"
   },
   {
    "duration": 3,
    "start_time": "2024-01-05T12:24:08.991Z"
   },
   {
    "duration": 33,
    "start_time": "2024-01-05T12:24:12.615Z"
   },
   {
    "duration": 3,
    "start_time": "2024-01-05T12:24:12.895Z"
   },
   {
    "duration": 3,
    "start_time": "2024-01-05T12:24:13.095Z"
   },
   {
    "duration": 2,
    "start_time": "2024-01-05T12:24:13.318Z"
   },
   {
    "duration": 4,
    "start_time": "2024-01-05T12:24:13.601Z"
   },
   {
    "duration": 2,
    "start_time": "2024-01-05T12:24:14.143Z"
   },
   {
    "duration": 416,
    "start_time": "2024-01-05T12:24:15.088Z"
   },
   {
    "duration": 14,
    "start_time": "2024-01-05T12:25:00.383Z"
   },
   {
    "duration": 3,
    "start_time": "2024-01-05T12:25:05.799Z"
   },
   {
    "duration": 26,
    "start_time": "2024-01-05T12:25:08.136Z"
   },
   {
    "duration": 3,
    "start_time": "2024-01-05T12:25:08.415Z"
   },
   {
    "duration": 3,
    "start_time": "2024-01-05T12:25:08.759Z"
   },
   {
    "duration": 2,
    "start_time": "2024-01-05T12:25:09.383Z"
   },
   {
    "duration": 3,
    "start_time": "2024-01-05T12:25:12.255Z"
   },
   {
    "duration": 3,
    "start_time": "2024-01-05T12:25:12.903Z"
   },
   {
    "duration": 407,
    "start_time": "2024-01-05T12:25:13.527Z"
   },
   {
    "duration": 13,
    "start_time": "2024-01-05T12:26:29.664Z"
   },
   {
    "duration": 3,
    "start_time": "2024-01-05T12:26:49.129Z"
   },
   {
    "duration": 25,
    "start_time": "2024-01-05T12:26:51.665Z"
   },
   {
    "duration": 2,
    "start_time": "2024-01-05T12:26:52.608Z"
   },
   {
    "duration": 3,
    "start_time": "2024-01-05T12:26:52.912Z"
   },
   {
    "duration": 2,
    "start_time": "2024-01-05T12:26:53.472Z"
   },
   {
    "duration": 3,
    "start_time": "2024-01-05T12:26:53.793Z"
   },
   {
    "duration": 2,
    "start_time": "2024-01-05T12:26:54.600Z"
   },
   {
    "duration": 370,
    "start_time": "2024-01-05T12:26:56.475Z"
   },
   {
    "duration": 8,
    "start_time": "2024-01-05T12:27:41.002Z"
   },
   {
    "duration": 29,
    "start_time": "2024-01-05T12:27:41.585Z"
   },
   {
    "duration": 61,
    "start_time": "2024-01-05T12:27:43.702Z"
   },
   {
    "duration": 3,
    "start_time": "2024-01-05T12:27:44.400Z"
   },
   {
    "duration": 3,
    "start_time": "2024-01-05T12:27:44.745Z"
   },
   {
    "duration": 3,
    "start_time": "2024-01-05T12:27:45.145Z"
   },
   {
    "duration": 4,
    "start_time": "2024-01-05T12:27:45.409Z"
   },
   {
    "duration": 3,
    "start_time": "2024-01-05T12:27:45.768Z"
   },
   {
    "duration": 689,
    "start_time": "2024-01-05T12:28:07.676Z"
   },
   {
    "duration": 1494,
    "start_time": "2024-01-05T12:28:08.367Z"
   },
   {
    "duration": 18,
    "start_time": "2024-01-05T12:28:09.862Z"
   },
   {
    "duration": 6,
    "start_time": "2024-01-05T12:28:09.881Z"
   },
   {
    "duration": 5,
    "start_time": "2024-01-05T12:28:09.889Z"
   },
   {
    "duration": 7,
    "start_time": "2024-01-05T12:28:09.895Z"
   },
   {
    "duration": 1456,
    "start_time": "2024-01-05T12:28:09.903Z"
   },
   {
    "duration": 2,
    "start_time": "2024-01-05T12:28:11.360Z"
   },
   {
    "duration": 36,
    "start_time": "2024-01-05T12:28:11.364Z"
   },
   {
    "duration": 8,
    "start_time": "2024-01-05T12:28:11.402Z"
   },
   {
    "duration": 65,
    "start_time": "2024-01-05T12:28:11.412Z"
   },
   {
    "duration": 50,
    "start_time": "2024-01-05T12:28:15.752Z"
   },
   {
    "duration": 3,
    "start_time": "2024-01-05T12:28:16.234Z"
   },
   {
    "duration": 4,
    "start_time": "2024-01-05T12:28:16.697Z"
   },
   {
    "duration": 3,
    "start_time": "2024-01-05T12:28:17.200Z"
   },
   {
    "duration": 6,
    "start_time": "2024-01-05T12:28:17.865Z"
   },
   {
    "duration": 4,
    "start_time": "2024-01-05T12:28:18.329Z"
   },
   {
    "duration": 1059,
    "start_time": "2024-01-05T12:28:18.729Z"
   },
   {
    "duration": 4,
    "start_time": "2024-01-05T12:28:52.274Z"
   },
   {
    "duration": 51,
    "start_time": "2024-01-05T12:28:54.819Z"
   },
   {
    "duration": 2,
    "start_time": "2024-01-05T12:28:55.234Z"
   },
   {
    "duration": 3,
    "start_time": "2024-01-05T12:28:55.498Z"
   },
   {
    "duration": 2,
    "start_time": "2024-01-05T12:28:55.738Z"
   },
   {
    "duration": 4,
    "start_time": "2024-01-05T12:28:56.041Z"
   },
   {
    "duration": 2,
    "start_time": "2024-01-05T12:28:56.602Z"
   },
   {
    "duration": 1111,
    "start_time": "2024-01-05T12:28:57.090Z"
   },
   {
    "duration": 320,
    "start_time": "2024-01-05T12:29:02.482Z"
   },
   {
    "duration": 176,
    "start_time": "2024-01-05T12:29:21.314Z"
   },
   {
    "duration": 8,
    "start_time": "2024-01-05T12:30:13.763Z"
   },
   {
    "duration": 54,
    "start_time": "2024-01-05T12:30:15.934Z"
   },
   {
    "duration": 3,
    "start_time": "2024-01-05T12:30:16.442Z"
   },
   {
    "duration": 2,
    "start_time": "2024-01-05T12:30:20.227Z"
   },
   {
    "duration": 2,
    "start_time": "2024-01-05T12:30:21.476Z"
   },
   {
    "duration": 3,
    "start_time": "2024-01-05T12:30:21.771Z"
   },
   {
    "duration": 4,
    "start_time": "2024-01-05T12:30:24.611Z"
   },
   {
    "duration": 828,
    "start_time": "2024-01-05T12:30:26.203Z"
   },
   {
    "duration": 31,
    "start_time": "2024-01-05T12:31:27.275Z"
   },
   {
    "duration": 3,
    "start_time": "2024-01-05T12:31:27.740Z"
   },
   {
    "duration": 3,
    "start_time": "2024-01-05T12:31:28.003Z"
   },
   {
    "duration": 391,
    "start_time": "2024-01-05T12:31:28.868Z"
   },
   {
    "duration": 31,
    "start_time": "2024-01-05T12:32:31.196Z"
   },
   {
    "duration": 47,
    "start_time": "2024-01-05T12:32:34.861Z"
   },
   {
    "duration": 3,
    "start_time": "2024-01-05T12:32:36.219Z"
   },
   {
    "duration": 3,
    "start_time": "2024-01-05T12:32:36.605Z"
   },
   {
    "duration": 402,
    "start_time": "2024-01-05T12:32:37.013Z"
   },
   {
    "duration": 21,
    "start_time": "2024-01-05T12:32:40.757Z"
   },
   {
    "duration": 135,
    "start_time": "2024-01-05T12:32:48.885Z"
   },
   {
    "duration": 177,
    "start_time": "2024-01-05T12:32:52.989Z"
   },
   {
    "duration": 23,
    "start_time": "2024-01-05T12:34:19.711Z"
   },
   {
    "duration": 3,
    "start_time": "2024-01-05T12:34:22.143Z"
   },
   {
    "duration": 371,
    "start_time": "2024-01-05T12:34:24.239Z"
   },
   {
    "duration": 3,
    "start_time": "2024-01-05T12:34:25.102Z"
   },
   {
    "duration": 4,
    "start_time": "2024-01-05T12:34:26.152Z"
   },
   {
    "duration": 16,
    "start_time": "2024-01-05T12:34:31.463Z"
   },
   {
    "duration": 15,
    "start_time": "2024-01-05T12:35:13.751Z"
   },
   {
    "duration": 968,
    "start_time": "2024-01-05T12:35:14.352Z"
   },
   {
    "duration": 11,
    "start_time": "2024-01-05T12:35:44.423Z"
   },
   {
    "duration": 9,
    "start_time": "2024-01-05T12:37:24.042Z"
   },
   {
    "duration": 5,
    "start_time": "2024-01-05T12:37:26.938Z"
   },
   {
    "duration": 4,
    "start_time": "2024-01-05T12:37:34.386Z"
   },
   {
    "duration": 5,
    "start_time": "2024-01-05T12:37:41.833Z"
   },
   {
    "duration": 8,
    "start_time": "2024-01-05T12:38:09.218Z"
   },
   {
    "duration": 5,
    "start_time": "2024-01-05T12:38:14.114Z"
   },
   {
    "duration": 11,
    "start_time": "2024-01-05T12:38:29.442Z"
   },
   {
    "duration": 6,
    "start_time": "2024-01-05T12:38:37.594Z"
   },
   {
    "duration": 4,
    "start_time": "2024-01-05T12:38:51.843Z"
   },
   {
    "duration": 4,
    "start_time": "2024-01-05T12:38:58.882Z"
   },
   {
    "duration": 9,
    "start_time": "2024-01-05T12:39:04.883Z"
   },
   {
    "duration": 10,
    "start_time": "2024-01-05T12:39:07.611Z"
   },
   {
    "duration": 4,
    "start_time": "2024-01-05T12:39:12.043Z"
   },
   {
    "duration": 4,
    "start_time": "2024-01-05T12:39:18.803Z"
   },
   {
    "duration": 4,
    "start_time": "2024-01-05T12:39:31.987Z"
   },
   {
    "duration": 4,
    "start_time": "2024-01-05T12:39:40.236Z"
   },
   {
    "duration": 4,
    "start_time": "2024-01-05T12:40:08.493Z"
   },
   {
    "duration": 6,
    "start_time": "2024-01-05T12:40:23.524Z"
   },
   {
    "duration": 4,
    "start_time": "2024-01-05T12:40:42.988Z"
   },
   {
    "duration": 4,
    "start_time": "2024-01-05T12:42:05.214Z"
   },
   {
    "duration": 8,
    "start_time": "2024-01-05T12:42:15.741Z"
   },
   {
    "duration": 20,
    "start_time": "2024-01-05T12:42:28.198Z"
   },
   {
    "duration": 17,
    "start_time": "2024-01-05T12:42:58.366Z"
   },
   {
    "duration": 921,
    "start_time": "2024-01-05T12:43:20.791Z"
   },
   {
    "duration": 19,
    "start_time": "2024-01-05T12:43:24.954Z"
   },
   {
    "duration": 9,
    "start_time": "2024-01-05T12:43:41.095Z"
   },
   {
    "duration": 8,
    "start_time": "2024-01-05T12:43:55.063Z"
   },
   {
    "duration": 9,
    "start_time": "2024-01-05T12:44:00.974Z"
   },
   {
    "duration": 9,
    "start_time": "2024-01-05T12:44:03.655Z"
   },
   {
    "duration": 15,
    "start_time": "2024-01-05T12:44:06.711Z"
   },
   {
    "duration": 17,
    "start_time": "2024-01-05T12:44:17.139Z"
   },
   {
    "duration": 16,
    "start_time": "2024-01-05T12:44:26.697Z"
   },
   {
    "duration": 7,
    "start_time": "2024-01-05T12:44:46.785Z"
   },
   {
    "duration": 4,
    "start_time": "2024-01-05T12:44:50.200Z"
   },
   {
    "duration": 4,
    "start_time": "2024-01-05T12:44:59.639Z"
   },
   {
    "duration": 5,
    "start_time": "2024-01-05T12:45:08.152Z"
   },
   {
    "duration": 5,
    "start_time": "2024-01-05T12:45:11.616Z"
   },
   {
    "duration": 4,
    "start_time": "2024-01-05T12:45:17.617Z"
   },
   {
    "duration": 4,
    "start_time": "2024-01-05T12:45:31.320Z"
   },
   {
    "duration": 5,
    "start_time": "2024-01-05T12:45:36.527Z"
   },
   {
    "duration": 4,
    "start_time": "2024-01-05T12:45:58.145Z"
   },
   {
    "duration": 13,
    "start_time": "2024-01-05T12:46:24.049Z"
   },
   {
    "duration": 4,
    "start_time": "2024-01-05T12:46:50.593Z"
   },
   {
    "duration": 4,
    "start_time": "2024-01-05T12:46:57.474Z"
   },
   {
    "duration": 5,
    "start_time": "2024-01-05T12:47:03.313Z"
   },
   {
    "duration": 5,
    "start_time": "2024-01-05T12:47:06.449Z"
   },
   {
    "duration": 7,
    "start_time": "2024-01-05T12:48:47.859Z"
   },
   {
    "duration": 11,
    "start_time": "2024-01-05T12:48:54.123Z"
   },
   {
    "duration": 10,
    "start_time": "2024-01-05T12:52:14.238Z"
   },
   {
    "duration": 20,
    "start_time": "2024-01-05T12:53:27.654Z"
   },
   {
    "duration": 857,
    "start_time": "2024-01-05T12:53:29.310Z"
   },
   {
    "duration": 143,
    "start_time": "2024-01-05T12:53:43.174Z"
   },
   {
    "duration": 16,
    "start_time": "2024-01-05T12:54:57.395Z"
   },
   {
    "duration": 925,
    "start_time": "2024-01-05T12:55:05.121Z"
   },
   {
    "duration": 709,
    "start_time": "2024-01-05T12:55:26.248Z"
   },
   {
    "duration": 23,
    "start_time": "2024-01-05T12:55:35.928Z"
   },
   {
    "duration": 133,
    "start_time": "2024-01-05T12:55:44.080Z"
   },
   {
    "duration": 192,
    "start_time": "2024-01-05T12:57:17.849Z"
   },
   {
    "duration": 860,
    "start_time": "2024-01-05T12:57:23.642Z"
   },
   {
    "duration": 553,
    "start_time": "2024-01-05T12:57:31.691Z"
   },
   {
    "duration": 768,
    "start_time": "2024-01-05T12:57:49.746Z"
   },
   {
    "duration": 602,
    "start_time": "2024-01-05T12:57:59.930Z"
   },
   {
    "duration": 11,
    "start_time": "2024-01-05T12:58:28.970Z"
   },
   {
    "duration": 16,
    "start_time": "2024-01-05T12:58:35.266Z"
   },
   {
    "duration": 385,
    "start_time": "2024-01-05T13:00:01.204Z"
   },
   {
    "duration": 124,
    "start_time": "2024-01-05T13:00:13.579Z"
   },
   {
    "duration": 19,
    "start_time": "2024-01-05T13:01:13.653Z"
   },
   {
    "duration": 155,
    "start_time": "2024-01-05T13:01:23.956Z"
   },
   {
    "duration": 58,
    "start_time": "2024-01-05T13:01:34.221Z"
   },
   {
    "duration": 137,
    "start_time": "2024-01-05T13:01:42.693Z"
   },
   {
    "duration": 87,
    "start_time": "2024-01-05T13:01:54.406Z"
   },
   {
    "duration": 669,
    "start_time": "2024-01-05T13:01:57.749Z"
   },
   {
    "duration": 856,
    "start_time": "2024-01-05T13:02:45.422Z"
   },
   {
    "duration": 1060,
    "start_time": "2024-01-05T13:02:50.460Z"
   },
   {
    "duration": 956,
    "start_time": "2024-01-05T13:03:03.189Z"
   },
   {
    "duration": 707,
    "start_time": "2024-01-05T13:03:10.094Z"
   },
   {
    "duration": 43,
    "start_time": "2024-01-05T13:03:21.751Z"
   },
   {
    "duration": 178,
    "start_time": "2024-01-05T13:03:26.279Z"
   },
   {
    "duration": 315,
    "start_time": "2024-01-05T13:03:35.774Z"
   },
   {
    "duration": 274,
    "start_time": "2024-01-05T13:04:53.599Z"
   },
   {
    "duration": 324,
    "start_time": "2024-01-05T13:05:50.136Z"
   },
   {
    "duration": 476,
    "start_time": "2024-01-05T13:06:01.064Z"
   },
   {
    "duration": 355,
    "start_time": "2024-01-05T13:06:25.855Z"
   },
   {
    "duration": 376,
    "start_time": "2024-01-05T13:06:40.792Z"
   },
   {
    "duration": 385,
    "start_time": "2024-01-05T13:07:34.969Z"
   },
   {
    "duration": 422,
    "start_time": "2024-01-05T13:07:47.041Z"
   },
   {
    "duration": 4,
    "start_time": "2024-01-05T13:08:53.489Z"
   },
   {
    "duration": 28,
    "start_time": "2024-01-05T13:09:07.201Z"
   },
   {
    "duration": 4,
    "start_time": "2024-01-05T13:11:13.587Z"
   },
   {
    "duration": 14,
    "start_time": "2024-01-05T13:11:30.147Z"
   },
   {
    "duration": 11,
    "start_time": "2024-01-05T13:11:45.165Z"
   },
   {
    "duration": 45,
    "start_time": "2024-01-05T13:13:11.445Z"
   },
   {
    "duration": 32,
    "start_time": "2024-01-05T13:13:18.477Z"
   },
   {
    "duration": 32,
    "start_time": "2024-01-05T13:13:22.368Z"
   },
   {
    "duration": 42,
    "start_time": "2024-01-05T13:13:34.558Z"
   },
   {
    "duration": 9,
    "start_time": "2024-01-05T13:14:03.517Z"
   },
   {
    "duration": 44,
    "start_time": "2024-01-05T13:14:06.414Z"
   },
   {
    "duration": 32,
    "start_time": "2024-01-05T13:14:32.279Z"
   },
   {
    "duration": 38,
    "start_time": "2024-01-05T13:14:59.126Z"
   },
   {
    "duration": 17,
    "start_time": "2024-01-05T13:16:20.134Z"
   },
   {
    "duration": 932,
    "start_time": "2024-01-05T13:16:59.335Z"
   },
   {
    "duration": 1082,
    "start_time": "2024-01-05T13:17:18.375Z"
   },
   {
    "duration": 889,
    "start_time": "2024-01-05T13:17:32.570Z"
   },
   {
    "duration": 21,
    "start_time": "2024-01-05T13:17:44.383Z"
   },
   {
    "duration": 144,
    "start_time": "2024-01-05T13:18:14.936Z"
   },
   {
    "duration": 5,
    "start_time": "2024-01-05T13:19:50.217Z"
   },
   {
    "duration": 135,
    "start_time": "2024-01-05T13:19:56.818Z"
   },
   {
    "duration": 21,
    "start_time": "2024-01-05T13:20:11.001Z"
   },
   {
    "duration": 120,
    "start_time": "2024-01-05T13:20:18.690Z"
   },
   {
    "duration": 3,
    "start_time": "2024-01-05T13:25:58.615Z"
   },
   {
    "duration": 15,
    "start_time": "2024-01-05T13:26:09.329Z"
   },
   {
    "duration": 4,
    "start_time": "2024-01-05T13:26:13.070Z"
   },
   {
    "duration": 939,
    "start_time": "2024-01-05T13:26:16.326Z"
   },
   {
    "duration": 159,
    "start_time": "2024-01-05T13:26:22.061Z"
   },
   {
    "duration": 4,
    "start_time": "2024-01-05T13:27:29.934Z"
   },
   {
    "duration": 87,
    "start_time": "2024-01-05T13:27:30.895Z"
   },
   {
    "duration": 5,
    "start_time": "2024-01-05T13:27:41.343Z"
   },
   {
    "duration": 915,
    "start_time": "2024-01-05T13:27:42.192Z"
   },
   {
    "duration": 1029,
    "start_time": "2024-01-05T13:27:48.368Z"
   },
   {
    "duration": 4,
    "start_time": "2024-01-05T13:28:39.735Z"
   },
   {
    "duration": 1012,
    "start_time": "2024-01-05T13:28:40.672Z"
   },
   {
    "duration": 5,
    "start_time": "2024-01-05T13:28:46.528Z"
   },
   {
    "duration": 1031,
    "start_time": "2024-01-05T13:28:47.376Z"
   },
   {
    "duration": 5,
    "start_time": "2024-01-05T13:33:42.715Z"
   },
   {
    "duration": 1022,
    "start_time": "2024-01-05T13:35:29.062Z"
   },
   {
    "duration": 3,
    "start_time": "2024-01-05T13:36:34.710Z"
   },
   {
    "duration": 974,
    "start_time": "2024-01-05T13:36:35.598Z"
   },
   {
    "duration": 1040,
    "start_time": "2024-01-05T13:37:07.083Z"
   },
   {
    "duration": 1045,
    "start_time": "2024-01-05T13:37:12.351Z"
   },
   {
    "duration": 1044,
    "start_time": "2024-01-05T13:38:03.087Z"
   },
   {
    "duration": 1057,
    "start_time": "2024-01-05T13:42:05.107Z"
   },
   {
    "duration": 888,
    "start_time": "2024-01-05T13:42:11.971Z"
   },
   {
    "duration": 161,
    "start_time": "2024-01-05T13:42:17.802Z"
   },
   {
    "duration": 23,
    "start_time": "2024-01-05T13:42:28.331Z"
   },
   {
    "duration": 185,
    "start_time": "2024-01-05T13:42:44.033Z"
   },
   {
    "duration": 50,
    "start_time": "2024-01-05T13:42:51.275Z"
   },
   {
    "duration": 131,
    "start_time": "2024-01-05T13:44:51.703Z"
   },
   {
    "duration": 13,
    "start_time": "2024-01-05T13:45:13.372Z"
   },
   {
    "duration": 10,
    "start_time": "2024-01-05T13:45:29.070Z"
   },
   {
    "duration": 428,
    "start_time": "2024-01-05T13:45:41.525Z"
   },
   {
    "duration": 120,
    "start_time": "2024-01-05T13:45:49.293Z"
   },
   {
    "duration": 18,
    "start_time": "2024-01-05T13:46:00.366Z"
   },
   {
    "duration": 140,
    "start_time": "2024-01-05T13:46:18.133Z"
   },
   {
    "duration": 18,
    "start_time": "2024-01-05T13:46:37.215Z"
   },
   {
    "duration": 19,
    "start_time": "2024-01-05T13:47:05.392Z"
   },
   {
    "duration": 36,
    "start_time": "2024-01-05T13:47:11.847Z"
   },
   {
    "duration": 198,
    "start_time": "2024-01-05T13:47:18.934Z"
   },
   {
    "duration": 45,
    "start_time": "2024-01-05T13:47:39.983Z"
   },
   {
    "duration": 23,
    "start_time": "2024-01-05T13:47:45.187Z"
   },
   {
    "duration": 48,
    "start_time": "2024-01-05T13:47:59.409Z"
   },
   {
    "duration": 193,
    "start_time": "2024-01-05T13:48:05.808Z"
   },
   {
    "duration": 37,
    "start_time": "2024-01-05T13:48:14.184Z"
   },
   {
    "duration": 14,
    "start_time": "2024-01-05T13:48:43.464Z"
   },
   {
    "duration": 20,
    "start_time": "2024-01-05T13:48:47.951Z"
   },
   {
    "duration": 111,
    "start_time": "2024-01-05T13:49:32.672Z"
   },
   {
    "duration": 61,
    "start_time": "2024-01-05T13:49:45.517Z"
   },
   {
    "duration": 50,
    "start_time": "2024-01-05T13:49:59.057Z"
   },
   {
    "duration": 44,
    "start_time": "2024-01-05T13:50:03.913Z"
   },
   {
    "duration": 42,
    "start_time": "2024-01-05T13:50:08.577Z"
   },
   {
    "duration": 41,
    "start_time": "2024-01-05T13:50:12.001Z"
   },
   {
    "duration": 44,
    "start_time": "2024-01-05T13:50:16.369Z"
   },
   {
    "duration": 41,
    "start_time": "2024-01-05T13:50:19.850Z"
   },
   {
    "duration": 44,
    "start_time": "2024-01-05T13:50:23.738Z"
   },
   {
    "duration": 45,
    "start_time": "2024-01-05T13:50:27.601Z"
   },
   {
    "duration": 51,
    "start_time": "2024-01-05T13:50:33.537Z"
   },
   {
    "duration": 43,
    "start_time": "2024-01-05T13:50:38.370Z"
   },
   {
    "duration": 41,
    "start_time": "2024-01-05T13:50:41.706Z"
   },
   {
    "duration": 34,
    "start_time": "2024-01-05T13:50:50.522Z"
   },
   {
    "duration": 118,
    "start_time": "2024-01-05T13:51:40.483Z"
   },
   {
    "duration": 354,
    "start_time": "2024-01-05T13:51:49.738Z"
   },
   {
    "duration": 121,
    "start_time": "2024-01-05T13:51:56.907Z"
   },
   {
    "duration": 36,
    "start_time": "2024-01-05T13:52:46.210Z"
   },
   {
    "duration": 20,
    "start_time": "2024-01-05T13:52:50.018Z"
   },
   {
    "duration": 127,
    "start_time": "2024-01-05T13:52:59.635Z"
   },
   {
    "duration": 359,
    "start_time": "2024-01-05T13:53:20.346Z"
   },
   {
    "duration": 151,
    "start_time": "2024-01-05T13:53:35.820Z"
   },
   {
    "duration": 367,
    "start_time": "2024-01-05T13:53:43.532Z"
   },
   {
    "duration": 867,
    "start_time": "2024-01-05T13:53:54.420Z"
   },
   {
    "duration": 3978,
    "start_time": "2024-01-05T13:55:32.325Z"
   },
   {
    "duration": 8196,
    "start_time": "2024-01-05T13:55:47.997Z"
   },
   {
    "duration": 8282,
    "start_time": "2024-01-05T13:56:45.726Z"
   },
   {
    "duration": 326,
    "start_time": "2024-01-05T13:57:25.390Z"
   },
   {
    "duration": 8206,
    "start_time": "2024-01-05T13:57:26.782Z"
   },
   {
    "duration": 8462,
    "start_time": "2024-01-05T13:57:37.063Z"
   },
   {
    "duration": 9,
    "start_time": "2024-01-05T13:59:34.664Z"
   },
   {
    "duration": 565,
    "start_time": "2024-01-05T13:59:40.745Z"
   },
   {
    "duration": 145,
    "start_time": "2024-01-05T13:59:50.400Z"
   },
   {
    "duration": 169,
    "start_time": "2024-01-05T14:00:02.400Z"
   },
   {
    "duration": 8072,
    "start_time": "2024-01-05T14:00:39.088Z"
   },
   {
    "duration": 146,
    "start_time": "2024-01-05T14:00:49.673Z"
   },
   {
    "duration": 169,
    "start_time": "2024-01-05T14:01:02.553Z"
   },
   {
    "duration": 162,
    "start_time": "2024-01-05T14:01:15.089Z"
   },
   {
    "duration": 8387,
    "start_time": "2024-01-05T14:01:22.658Z"
   },
   {
    "duration": 8402,
    "start_time": "2024-01-05T14:01:31.047Z"
   },
   {
    "duration": 8344,
    "start_time": "2024-01-05T14:02:46.227Z"
   },
   {
    "duration": 8338,
    "start_time": "2024-01-05T14:03:04.059Z"
   },
   {
    "duration": 8401,
    "start_time": "2024-01-05T14:03:43.139Z"
   },
   {
    "duration": 439,
    "start_time": "2024-01-05T14:04:04.252Z"
   },
   {
    "duration": 8177,
    "start_time": "2024-01-05T14:04:19.612Z"
   },
   {
    "duration": 8303,
    "start_time": "2024-01-05T14:04:51.172Z"
   },
   {
    "duration": 8349,
    "start_time": "2024-01-05T14:06:24.133Z"
   },
   {
    "duration": 4067,
    "start_time": "2024-01-05T14:06:44.501Z"
   },
   {
    "duration": 8155,
    "start_time": "2024-01-05T14:07:05.981Z"
   },
   {
    "duration": 8239,
    "start_time": "2024-01-05T14:07:25.180Z"
   },
   {
    "duration": 8276,
    "start_time": "2024-01-05T14:10:44.418Z"
   },
   {
    "duration": 8376,
    "start_time": "2024-01-05T14:13:20.538Z"
   },
   {
    "duration": 302,
    "start_time": "2024-01-05T14:14:28.003Z"
   },
   {
    "duration": 8473,
    "start_time": "2024-01-05T14:14:28.827Z"
   },
   {
    "duration": 8395,
    "start_time": "2024-01-05T14:14:37.302Z"
   },
   {
    "duration": 17,
    "start_time": "2024-01-05T14:15:42.812Z"
   },
   {
    "duration": 8718,
    "start_time": "2024-01-05T14:17:14.038Z"
   },
   {
    "duration": 8696,
    "start_time": "2024-01-05T14:17:46.454Z"
   },
   {
    "duration": 8675,
    "start_time": "2024-01-05T14:18:37.534Z"
   },
   {
    "duration": 9215,
    "start_time": "2024-01-05T14:19:08.399Z"
   },
   {
    "duration": 8954,
    "start_time": "2024-01-05T14:19:29.791Z"
   },
   {
    "duration": 8671,
    "start_time": "2024-01-05T14:21:47.896Z"
   },
   {
    "duration": 8708,
    "start_time": "2024-01-05T14:22:06.817Z"
   },
   {
    "duration": 8619,
    "start_time": "2024-01-05T14:22:53.305Z"
   },
   {
    "duration": 30,
    "start_time": "2024-01-05T14:24:07.810Z"
   },
   {
    "duration": 26,
    "start_time": "2024-01-05T14:30:57.319Z"
   },
   {
    "duration": 4,
    "start_time": "2024-01-05T14:30:58.407Z"
   },
   {
    "duration": 399,
    "start_time": "2024-01-05T14:30:59.190Z"
   },
   {
    "duration": 23,
    "start_time": "2024-01-05T14:31:04.247Z"
   },
   {
    "duration": 33,
    "start_time": "2024-01-05T14:31:10.163Z"
   },
   {
    "duration": 3,
    "start_time": "2024-01-05T14:31:10.767Z"
   },
   {
    "duration": 389,
    "start_time": "2024-01-05T14:31:11.207Z"
   },
   {
    "duration": 3,
    "start_time": "2024-01-05T14:31:18.695Z"
   },
   {
    "duration": 3,
    "start_time": "2024-01-05T14:31:20.063Z"
   },
   {
    "duration": 991,
    "start_time": "2024-01-05T14:31:25.655Z"
   },
   {
    "duration": 33,
    "start_time": "2024-01-05T14:31:35.641Z"
   },
   {
    "duration": 130,
    "start_time": "2024-01-05T14:33:43.441Z"
   },
   {
    "duration": 3,
    "start_time": "2024-01-05T14:33:47.050Z"
   },
   {
    "duration": 335,
    "start_time": "2024-01-05T14:34:17.177Z"
   },
   {
    "duration": 305,
    "start_time": "2024-01-05T14:34:33.802Z"
   },
   {
    "duration": 285,
    "start_time": "2024-01-05T14:34:37.227Z"
   },
   {
    "duration": 74,
    "start_time": "2024-01-05T14:36:08.531Z"
   },
   {
    "duration": 2,
    "start_time": "2024-01-05T14:36:13.307Z"
   },
   {
    "duration": 3,
    "start_time": "2024-01-05T14:38:28.892Z"
   },
   {
    "duration": 9,
    "start_time": "2024-01-05T14:40:30.998Z"
   },
   {
    "duration": 2,
    "start_time": "2024-01-05T14:40:35.422Z"
   },
   {
    "duration": 948,
    "start_time": "2024-01-05T14:40:42.231Z"
   },
   {
    "duration": 33,
    "start_time": "2024-01-05T14:40:47.038Z"
   },
   {
    "duration": 3,
    "start_time": "2024-01-05T14:41:13.439Z"
   },
   {
    "duration": 113,
    "start_time": "2024-01-05T14:41:21.481Z"
   },
   {
    "duration": 35,
    "start_time": "2024-01-05T14:41:27.023Z"
   },
   {
    "duration": 585,
    "start_time": "2024-01-05T14:41:31.799Z"
   },
   {
    "duration": 33,
    "start_time": "2024-01-05T14:41:51.255Z"
   },
   {
    "duration": 152,
    "start_time": "2024-01-05T14:42:00.472Z"
   },
   {
    "duration": 30,
    "start_time": "2024-01-05T14:42:08.664Z"
   },
   {
    "duration": 3,
    "start_time": "2024-01-05T14:43:19.553Z"
   },
   {
    "duration": 3,
    "start_time": "2024-01-05T14:43:20.959Z"
   },
   {
    "duration": 942,
    "start_time": "2024-01-05T14:43:25.345Z"
   },
   {
    "duration": 35,
    "start_time": "2024-01-05T14:43:28.184Z"
   },
   {
    "duration": 113,
    "start_time": "2024-01-05T14:43:29.008Z"
   },
   {
    "duration": 4,
    "start_time": "2024-01-05T14:43:31.344Z"
   },
   {
    "duration": 3,
    "start_time": "2024-01-05T14:43:31.625Z"
   },
   {
    "duration": 608,
    "start_time": "2024-01-05T14:43:32.248Z"
   },
   {
    "duration": 30,
    "start_time": "2024-01-05T14:43:35.713Z"
   },
   {
    "duration": 142,
    "start_time": "2024-01-05T14:43:58.953Z"
   },
   {
    "duration": 3,
    "start_time": "2024-01-05T14:47:10.475Z"
   },
   {
    "duration": 82,
    "start_time": "2024-01-05T14:47:15.148Z"
   },
   {
    "duration": 48,
    "start_time": "2024-01-05T14:47:59.029Z"
   },
   {
    "duration": 839,
    "start_time": "2024-01-05T14:48:33.022Z"
   },
   {
    "duration": 1152,
    "start_time": "2024-01-05T14:48:47.697Z"
   },
   {
    "duration": 24,
    "start_time": "2024-01-05T14:48:54.749Z"
   },
   {
    "duration": 34,
    "start_time": "2024-01-05T14:49:06.941Z"
   },
   {
    "duration": 1172,
    "start_time": "2024-01-05T14:49:12.813Z"
   },
   {
    "duration": 59,
    "start_time": "2024-01-05T14:49:34.877Z"
   },
   {
    "duration": 813,
    "start_time": "2024-01-05T14:49:48.927Z"
   },
   {
    "duration": 32,
    "start_time": "2024-01-05T14:50:26.462Z"
   },
   {
    "duration": 374,
    "start_time": "2024-01-05T14:50:33.950Z"
   },
   {
    "duration": 14,
    "start_time": "2024-01-05T14:50:40.998Z"
   },
   {
    "duration": 31,
    "start_time": "2024-01-05T14:51:05.454Z"
   },
   {
    "duration": 43,
    "start_time": "2024-01-05T14:51:13.903Z"
   },
   {
    "duration": 3,
    "start_time": "2024-01-05T14:51:16.262Z"
   },
   {
    "duration": 383,
    "start_time": "2024-01-05T14:51:16.662Z"
   },
   {
    "duration": 14,
    "start_time": "2024-01-05T14:51:17.549Z"
   },
   {
    "duration": 2,
    "start_time": "2024-01-05T14:51:20.950Z"
   },
   {
    "duration": 3,
    "start_time": "2024-01-05T14:51:21.270Z"
   },
   {
    "duration": 3,
    "start_time": "2024-01-05T14:51:32.437Z"
   },
   {
    "duration": 3,
    "start_time": "2024-01-05T14:51:37.614Z"
   },
   {
    "duration": 1415,
    "start_time": "2024-01-05T14:51:39.529Z"
   },
   {
    "duration": 47,
    "start_time": "2024-01-05T14:53:11.049Z"
   },
   {
    "duration": 19,
    "start_time": "2024-01-05T14:53:11.872Z"
   },
   {
    "duration": 3,
    "start_time": "2024-01-05T14:53:19.863Z"
   },
   {
    "duration": 383,
    "start_time": "2024-01-05T14:53:22.376Z"
   },
   {
    "duration": 15,
    "start_time": "2024-01-05T14:53:23.239Z"
   },
   {
    "duration": 28,
    "start_time": "2024-01-05T14:53:28.840Z"
   },
   {
    "duration": 21,
    "start_time": "2024-01-05T14:53:32.784Z"
   },
   {
    "duration": 3,
    "start_time": "2024-01-05T14:53:36.504Z"
   },
   {
    "duration": 3,
    "start_time": "2024-01-05T14:53:44.217Z"
   },
   {
    "duration": 3,
    "start_time": "2024-01-05T14:53:49.472Z"
   },
   {
    "duration": 3,
    "start_time": "2024-01-05T14:53:49.751Z"
   },
   {
    "duration": 3,
    "start_time": "2024-01-05T14:53:57.504Z"
   },
   {
    "duration": 845,
    "start_time": "2024-01-05T14:54:18.633Z"
   },
   {
    "duration": 35,
    "start_time": "2024-01-05T14:55:34.570Z"
   },
   {
    "duration": 23,
    "start_time": "2024-01-05T14:55:35.234Z"
   },
   {
    "duration": 21,
    "start_time": "2024-01-05T14:55:42.842Z"
   },
   {
    "duration": 3,
    "start_time": "2024-01-05T14:55:48.257Z"
   },
   {
    "duration": 3,
    "start_time": "2024-01-05T14:55:59.001Z"
   },
   {
    "duration": 4,
    "start_time": "2024-01-05T14:55:59.305Z"
   },
   {
    "duration": 3,
    "start_time": "2024-01-05T14:56:07.178Z"
   },
   {
    "duration": 2,
    "start_time": "2024-01-05T14:56:12.665Z"
   },
   {
    "duration": 751,
    "start_time": "2024-01-05T14:56:35.292Z"
   },
   {
    "duration": 1427,
    "start_time": "2024-01-05T14:56:36.498Z"
   },
   {
    "duration": 16,
    "start_time": "2024-01-05T14:56:37.927Z"
   },
   {
    "duration": 3,
    "start_time": "2024-01-05T14:56:38.554Z"
   },
   {
    "duration": 5,
    "start_time": "2024-01-05T14:56:38.938Z"
   },
   {
    "duration": 5,
    "start_time": "2024-01-05T14:56:40.322Z"
   },
   {
    "duration": 1444,
    "start_time": "2024-01-05T14:56:41.106Z"
   },
   {
    "duration": 2,
    "start_time": "2024-01-05T14:56:43.282Z"
   },
   {
    "duration": 22,
    "start_time": "2024-01-05T14:56:44.106Z"
   },
   {
    "duration": 7,
    "start_time": "2024-01-05T14:56:45.738Z"
   },
   {
    "duration": 50,
    "start_time": "2024-01-05T14:56:46.626Z"
   },
   {
    "duration": 22,
    "start_time": "2024-01-05T14:56:49.242Z"
   },
   {
    "duration": 3,
    "start_time": "2024-01-05T14:56:54.290Z"
   },
   {
    "duration": 4,
    "start_time": "2024-01-05T14:57:16.586Z"
   },
   {
    "duration": 3,
    "start_time": "2024-01-05T14:57:28.322Z"
   },
   {
    "duration": 3,
    "start_time": "2024-01-05T14:57:29.634Z"
   },
   {
    "duration": 3,
    "start_time": "2024-01-05T14:57:34.986Z"
   },
   {
    "duration": 7838,
    "start_time": "2024-01-05T14:57:36.063Z"
   },
   {
    "duration": 7495,
    "start_time": "2024-01-05T14:58:46.796Z"
   },
   {
    "duration": 111,
    "start_time": "2024-01-05T14:58:56.941Z"
   },
   {
    "duration": 137,
    "start_time": "2024-01-05T14:59:14.997Z"
   },
   {
    "duration": 136,
    "start_time": "2024-01-05T14:59:22.340Z"
   },
   {
    "duration": 133,
    "start_time": "2024-01-05T14:59:27.516Z"
   },
   {
    "duration": 129,
    "start_time": "2024-01-05T14:59:34.740Z"
   },
   {
    "duration": 77,
    "start_time": "2024-01-05T14:59:54.484Z"
   },
   {
    "duration": 111,
    "start_time": "2024-01-05T15:01:39.749Z"
   },
   {
    "duration": 1417,
    "start_time": "2024-01-05T15:02:11.750Z"
   },
   {
    "duration": 214,
    "start_time": "2024-01-05T15:40:49.669Z"
   },
   {
    "duration": 22,
    "start_time": "2024-01-05T15:40:57.420Z"
   },
   {
    "duration": 37,
    "start_time": "2024-01-05T15:41:44.069Z"
   },
   {
    "duration": 6,
    "start_time": "2024-01-05T15:42:02.950Z"
   },
   {
    "duration": 1378,
    "start_time": "2024-01-05T15:42:58.758Z"
   },
   {
    "duration": 22,
    "start_time": "2024-01-05T15:44:04.382Z"
   },
   {
    "duration": 194,
    "start_time": "2024-01-05T15:44:21.751Z"
   },
   {
    "duration": 22,
    "start_time": "2024-01-05T15:44:25.496Z"
   },
   {
    "duration": 23,
    "start_time": "2024-01-05T15:45:20.352Z"
   },
   {
    "duration": 27,
    "start_time": "2024-01-05T15:45:20.936Z"
   },
   {
    "duration": 148,
    "start_time": "2024-01-05T15:45:31.848Z"
   },
   {
    "duration": 20,
    "start_time": "2024-01-05T15:45:33.936Z"
   },
   {
    "duration": 4,
    "start_time": "2024-01-05T15:45:43.601Z"
   },
   {
    "duration": 8,
    "start_time": "2024-01-05T15:57:39.409Z"
   },
   {
    "duration": 1311,
    "start_time": "2024-01-05T15:57:50.178Z"
   },
   {
    "duration": 1246,
    "start_time": "2024-01-05T15:58:07.481Z"
   },
   {
    "duration": 1330,
    "start_time": "2024-01-05T17:05:32.315Z"
   },
   {
    "duration": 3,
    "start_time": "2024-01-05T17:06:38.531Z"
   },
   {
    "duration": 3,
    "start_time": "2024-01-05T17:06:41.451Z"
   },
   {
    "duration": 2,
    "start_time": "2024-01-05T17:06:41.915Z"
   },
   {
    "duration": 7392,
    "start_time": "2024-01-05T17:06:45.515Z"
   },
   {
    "duration": 142,
    "start_time": "2024-01-05T17:06:59.980Z"
   },
   {
    "duration": 163,
    "start_time": "2024-01-05T17:07:02.299Z"
   },
   {
    "duration": 8,
    "start_time": "2024-01-05T17:07:11.891Z"
   },
   {
    "duration": 22,
    "start_time": "2024-01-05T17:07:12.636Z"
   },
   {
    "duration": 1210,
    "start_time": "2024-01-05T17:07:22.356Z"
   },
   {
    "duration": 4,
    "start_time": "2024-01-05T17:08:26.364Z"
   },
   {
    "duration": 3,
    "start_time": "2024-01-05T17:08:28.677Z"
   },
   {
    "duration": 3,
    "start_time": "2024-01-05T17:08:28.980Z"
   },
   {
    "duration": 3,
    "start_time": "2024-01-05T17:08:29.925Z"
   },
   {
    "duration": 7913,
    "start_time": "2024-01-05T17:08:33.205Z"
   },
   {
    "duration": 157,
    "start_time": "2024-01-05T17:08:42.541Z"
   },
   {
    "duration": 190,
    "start_time": "2024-01-05T17:08:42.805Z"
   },
   {
    "duration": 8,
    "start_time": "2024-01-05T17:08:43.446Z"
   },
   {
    "duration": 23,
    "start_time": "2024-01-05T17:08:44.174Z"
   },
   {
    "duration": 519,
    "start_time": "2024-01-05T17:08:46.021Z"
   },
   {
    "duration": 2,
    "start_time": "2024-01-05T17:09:30.734Z"
   },
   {
    "duration": 3,
    "start_time": "2024-01-05T17:09:32.910Z"
   },
   {
    "duration": 8018,
    "start_time": "2024-01-05T17:09:33.973Z"
   },
   {
    "duration": 154,
    "start_time": "2024-01-05T17:09:43.750Z"
   },
   {
    "duration": 183,
    "start_time": "2024-01-05T17:09:43.949Z"
   },
   {
    "duration": 7,
    "start_time": "2024-01-05T17:09:44.518Z"
   },
   {
    "duration": 22,
    "start_time": "2024-01-05T17:09:45.102Z"
   },
   {
    "duration": 6107,
    "start_time": "2024-01-05T17:09:45.846Z"
   },
   {
    "duration": 3,
    "start_time": "2024-01-05T17:28:05.661Z"
   },
   {
    "duration": 3,
    "start_time": "2024-01-05T17:28:34.557Z"
   },
   {
    "duration": 4,
    "start_time": "2024-01-05T17:29:54.077Z"
   },
   {
    "duration": 356,
    "start_time": "2024-01-05T17:30:16.045Z"
   },
   {
    "duration": 25,
    "start_time": "2024-01-05T17:30:38.502Z"
   },
   {
    "duration": 4,
    "start_time": "2024-01-05T17:30:39.030Z"
   },
   {
    "duration": 445,
    "start_time": "2024-01-05T17:30:39.430Z"
   },
   {
    "duration": 121,
    "start_time": "2024-01-05T17:30:53.071Z"
   },
   {
    "duration": 61,
    "start_time": "2024-01-05T17:31:00.918Z"
   },
   {
    "duration": 46,
    "start_time": "2024-01-05T17:33:54.506Z"
   },
   {
    "duration": 5,
    "start_time": "2024-01-05T17:34:09.881Z"
   },
   {
    "duration": 6,
    "start_time": "2024-01-05T17:34:20.665Z"
   },
   {
    "duration": 9,
    "start_time": "2024-01-05T17:35:42.362Z"
   },
   {
    "duration": 48,
    "start_time": "2024-01-05T17:39:03.749Z"
   },
   {
    "duration": 3,
    "start_time": "2024-01-05T17:39:04.957Z"
   },
   {
    "duration": 438,
    "start_time": "2024-01-05T17:39:12.829Z"
   },
   {
    "duration": 7,
    "start_time": "2024-01-05T17:41:46.663Z"
   },
   {
    "duration": 7,
    "start_time": "2024-01-05T17:41:53.486Z"
   },
   {
    "duration": 4,
    "start_time": "2024-01-05T17:42:42.383Z"
   },
   {
    "duration": 1106,
    "start_time": "2024-01-05T17:43:55.752Z"
   },
   {
    "duration": 611,
    "start_time": "2024-01-05T17:44:18.912Z"
   },
   {
    "duration": 20,
    "start_time": "2024-01-05T17:44:45.432Z"
   },
   {
    "duration": 1271,
    "start_time": "2024-01-05T17:45:41.458Z"
   },
   {
    "duration": 1251,
    "start_time": "2024-01-05T17:46:29.225Z"
   },
   {
    "duration": 7,
    "start_time": "2024-01-05T17:46:36.626Z"
   },
   {
    "duration": 3,
    "start_time": "2024-01-05T17:46:37.330Z"
   },
   {
    "duration": 460,
    "start_time": "2024-01-05T17:46:39.185Z"
   },
   {
    "duration": 1029,
    "start_time": "2024-01-05T17:46:52.801Z"
   },
   {
    "duration": 10,
    "start_time": "2024-01-05T17:48:50.075Z"
   },
   {
    "duration": 4,
    "start_time": "2024-01-05T17:48:56.115Z"
   },
   {
    "duration": 12,
    "start_time": "2024-01-05T17:49:24.619Z"
   },
   {
    "duration": 3,
    "start_time": "2024-01-05T17:50:17.277Z"
   },
   {
    "duration": 695,
    "start_time": "2024-01-05T17:50:18.668Z"
   },
   {
    "duration": 1097,
    "start_time": "2024-01-05T17:50:40.301Z"
   },
   {
    "duration": 4,
    "start_time": "2024-01-05T17:50:45.252Z"
   },
   {
    "duration": 691,
    "start_time": "2024-01-05T17:50:46.172Z"
   },
   {
    "duration": 27,
    "start_time": "2024-01-05T17:51:00.117Z"
   },
   {
    "duration": 1050,
    "start_time": "2024-01-05T17:51:46.078Z"
   },
   {
    "duration": 3,
    "start_time": "2024-01-05T17:51:48.030Z"
   },
   {
    "duration": 18,
    "start_time": "2024-01-05T17:51:50.358Z"
   },
   {
    "duration": 1129,
    "start_time": "2024-01-05T17:52:00.686Z"
   },
   {
    "duration": 4,
    "start_time": "2024-01-05T17:52:03.742Z"
   },
   {
    "duration": 16,
    "start_time": "2024-01-05T17:52:04.406Z"
   },
   {
    "duration": 414,
    "start_time": "2024-01-05T17:52:09.638Z"
   },
   {
    "duration": 3,
    "start_time": "2024-01-05T17:52:27.222Z"
   },
   {
    "duration": 1128,
    "start_time": "2024-01-05T17:52:30.207Z"
   },
   {
    "duration": 3,
    "start_time": "2024-01-05T17:52:31.910Z"
   },
   {
    "duration": 16,
    "start_time": "2024-01-05T17:52:32.798Z"
   },
   {
    "duration": 858,
    "start_time": "2024-01-05T17:52:33.583Z"
   },
   {
    "duration": 7,
    "start_time": "2024-01-05T17:53:11.519Z"
   },
   {
    "duration": 3,
    "start_time": "2024-01-05T17:53:12.543Z"
   },
   {
    "duration": 1117,
    "start_time": "2024-01-05T17:53:13.183Z"
   },
   {
    "duration": 3,
    "start_time": "2024-01-05T17:53:15.599Z"
   },
   {
    "duration": 16,
    "start_time": "2024-01-05T17:53:16.486Z"
   },
   {
    "duration": 894,
    "start_time": "2024-01-05T17:53:19.199Z"
   },
   {
    "duration": 4,
    "start_time": "2024-01-05T17:53:29.502Z"
   },
   {
    "duration": 1097,
    "start_time": "2024-01-05T17:53:41.903Z"
   },
   {
    "duration": 3,
    "start_time": "2024-01-05T17:53:43.552Z"
   },
   {
    "duration": 16,
    "start_time": "2024-01-05T17:53:44.479Z"
   },
   {
    "duration": 716,
    "start_time": "2024-01-05T17:53:45.577Z"
   },
   {
    "duration": 7,
    "start_time": "2024-01-05T17:54:05.199Z"
   },
   {
    "duration": 7,
    "start_time": "2024-01-05T17:55:00.017Z"
   },
   {
    "duration": 4,
    "start_time": "2024-01-05T17:55:01.263Z"
   },
   {
    "duration": 1178,
    "start_time": "2024-01-05T17:55:01.648Z"
   },
   {
    "duration": 4,
    "start_time": "2024-01-05T17:55:02.828Z"
   },
   {
    "duration": 17,
    "start_time": "2024-01-05T17:55:03.015Z"
   },
   {
    "duration": 717,
    "start_time": "2024-01-05T17:55:03.881Z"
   },
   {
    "duration": 3,
    "start_time": "2024-01-05T17:55:36.945Z"
   },
   {
    "duration": 16,
    "start_time": "2024-01-05T17:55:38.312Z"
   },
   {
    "duration": 429,
    "start_time": "2024-01-05T17:55:39.217Z"
   },
   {
    "duration": 1082,
    "start_time": "2024-01-05T17:55:43.865Z"
   },
   {
    "duration": 4,
    "start_time": "2024-01-05T17:55:45.681Z"
   },
   {
    "duration": 17,
    "start_time": "2024-01-05T17:55:46.344Z"
   },
   {
    "duration": 435,
    "start_time": "2024-01-05T17:55:46.945Z"
   },
   {
    "duration": 3,
    "start_time": "2024-01-05T18:03:29.863Z"
   },
   {
    "duration": 3,
    "start_time": "2024-01-05T18:04:30.071Z"
   },
   {
    "duration": 2,
    "start_time": "2024-01-05T18:04:31.735Z"
   },
   {
    "duration": 4,
    "start_time": "2024-01-05T18:04:52.063Z"
   },
   {
    "duration": 2,
    "start_time": "2024-01-05T18:04:53.616Z"
   },
   {
    "duration": 1248,
    "start_time": "2024-01-05T18:04:54.192Z"
   },
   {
    "duration": 1141,
    "start_time": "2024-01-05T18:05:23.881Z"
   },
   {
    "duration": 3,
    "start_time": "2024-01-05T18:05:31.929Z"
   },
   {
    "duration": 2,
    "start_time": "2024-01-05T18:05:56.777Z"
   },
   {
    "duration": 1098,
    "start_time": "2024-01-05T18:05:59.569Z"
   },
   {
    "duration": 4,
    "start_time": "2024-01-05T18:06:01.400Z"
   },
   {
    "duration": 2,
    "start_time": "2024-01-05T18:06:01.904Z"
   },
   {
    "duration": 38902,
    "start_time": "2024-01-05T18:06:04.480Z"
   },
   {
    "duration": 1092,
    "start_time": "2024-01-05T18:07:20.609Z"
   },
   {
    "duration": 3,
    "start_time": "2024-01-05T18:07:23.825Z"
   },
   {
    "duration": 2,
    "start_time": "2024-01-05T18:07:24.353Z"
   },
   {
    "duration": 1167,
    "start_time": "2024-01-05T18:07:25.162Z"
   },
   {
    "duration": 1077,
    "start_time": "2024-01-05T18:08:33.819Z"
   },
   {
    "duration": 1164,
    "start_time": "2024-01-05T18:08:35.634Z"
   },
   {
    "duration": 1118,
    "start_time": "2024-01-05T18:09:20.642Z"
   },
   {
    "duration": 85,
    "start_time": "2024-01-05T18:09:23.803Z"
   },
   {
    "duration": 992,
    "start_time": "2024-01-05T18:09:38.955Z"
   },
   {
    "duration": 903,
    "start_time": "2024-01-05T18:10:08.820Z"
   },
   {
    "duration": 1055,
    "start_time": "2024-01-05T18:10:19.971Z"
   },
   {
    "duration": 4,
    "start_time": "2024-01-05T18:10:29.996Z"
   },
   {
    "duration": 1073,
    "start_time": "2024-01-05T18:10:50.724Z"
   },
   {
    "duration": 103,
    "start_time": "2024-01-05T18:10:52.612Z"
   },
   {
    "duration": 4,
    "start_time": "2024-01-05T18:10:53.843Z"
   },
   {
    "duration": 1084,
    "start_time": "2024-01-05T18:10:55.931Z"
   },
   {
    "duration": 61,
    "start_time": "2024-01-05T18:12:28.581Z"
   },
   {
    "duration": 18,
    "start_time": "2024-01-05T18:12:48.845Z"
   },
   {
    "duration": 1102,
    "start_time": "2024-01-05T18:13:15.511Z"
   },
   {
    "duration": 13,
    "start_time": "2024-01-05T18:13:21.686Z"
   },
   {
    "duration": 1139,
    "start_time": "2024-01-05T18:13:50.446Z"
   },
   {
    "duration": 7,
    "start_time": "2024-01-05T18:14:50.191Z"
   },
   {
    "duration": 4,
    "start_time": "2024-01-05T18:14:51.239Z"
   },
   {
    "duration": 1097,
    "start_time": "2024-01-05T18:14:52.303Z"
   },
   {
    "duration": 96,
    "start_time": "2024-01-05T18:14:54.079Z"
   },
   {
    "duration": 4,
    "start_time": "2024-01-05T18:14:55.104Z"
   },
   {
    "duration": 1145,
    "start_time": "2024-01-05T18:14:55.847Z"
   },
   {
    "duration": 10,
    "start_time": "2024-01-05T18:19:05.859Z"
   },
   {
    "duration": 100,
    "start_time": "2024-01-05T18:19:09.370Z"
   },
   {
    "duration": 4,
    "start_time": "2024-01-05T18:19:10.682Z"
   },
   {
    "duration": 1237,
    "start_time": "2024-01-05T18:19:11.531Z"
   },
   {
    "duration": 6,
    "start_time": "2024-01-05T18:19:33.163Z"
   },
   {
    "duration": 4,
    "start_time": "2024-01-05T18:19:35.474Z"
   },
   {
    "duration": 1106,
    "start_time": "2024-01-05T18:19:35.859Z"
   },
   {
    "duration": 100,
    "start_time": "2024-01-05T18:19:39.379Z"
   },
   {
    "duration": 4,
    "start_time": "2024-01-05T18:19:41.395Z"
   },
   {
    "duration": 1229,
    "start_time": "2024-01-05T18:19:42.061Z"
   },
   {
    "duration": 1230,
    "start_time": "2024-01-05T18:19:55.052Z"
   },
   {
    "duration": 1214,
    "start_time": "2024-01-05T18:20:52.525Z"
   },
   {
    "duration": 13,
    "start_time": "2024-01-05T18:21:03.302Z"
   },
   {
    "duration": 7,
    "start_time": "2024-01-05T18:21:08.684Z"
   },
   {
    "duration": 7,
    "start_time": "2024-01-05T18:21:15.748Z"
   },
   {
    "duration": 19,
    "start_time": "2024-01-05T18:22:20.589Z"
   },
   {
    "duration": 927,
    "start_time": "2024-01-06T11:04:39.477Z"
   },
   {
    "duration": 3,
    "start_time": "2024-01-06T11:05:00.908Z"
   },
   {
    "duration": 4,
    "start_time": "2024-01-06T11:05:59.556Z"
   },
   {
    "duration": 3,
    "start_time": "2024-01-06T11:06:13.103Z"
   },
   {
    "duration": 3,
    "start_time": "2024-01-06T11:10:14.711Z"
   },
   {
    "duration": 6274,
    "start_time": "2024-01-06T11:10:41.607Z"
   },
   {
    "duration": 4,
    "start_time": "2024-01-06T11:10:57.408Z"
   },
   {
    "duration": 585,
    "start_time": "2024-01-06T11:11:09.538Z"
   },
   {
    "duration": 750,
    "start_time": "2024-01-06T11:11:18.394Z"
   },
   {
    "duration": 6045,
    "start_time": "2024-01-06T11:11:27.872Z"
   },
   {
    "duration": 4,
    "start_time": "2024-01-06T11:11:38.551Z"
   },
   {
    "duration": 628,
    "start_time": "2024-01-06T11:11:40.807Z"
   },
   {
    "duration": 17,
    "start_time": "2024-01-06T11:11:43.360Z"
   },
   {
    "duration": 3,
    "start_time": "2024-01-06T11:11:57.328Z"
   },
   {
    "duration": 5,
    "start_time": "2024-01-06T11:11:57.768Z"
   },
   {
    "duration": 5,
    "start_time": "2024-01-06T11:12:03.063Z"
   },
   {
    "duration": 1312,
    "start_time": "2024-01-06T11:12:06.480Z"
   },
   {
    "duration": 6,
    "start_time": "2024-01-06T11:12:12.240Z"
   },
   {
    "duration": 3,
    "start_time": "2024-01-06T11:12:14.992Z"
   },
   {
    "duration": 1084,
    "start_time": "2024-01-06T11:12:15.921Z"
   },
   {
    "duration": 95,
    "start_time": "2024-01-06T11:12:37.728Z"
   },
   {
    "duration": 5,
    "start_time": "2024-01-06T11:12:38.840Z"
   },
   {
    "duration": 1412,
    "start_time": "2024-01-06T11:12:40.049Z"
   },
   {
    "duration": 572,
    "start_time": "2024-01-06T11:12:59.561Z"
   },
   {
    "duration": 740,
    "start_time": "2024-01-06T11:13:22.586Z"
   },
   {
    "duration": 119,
    "start_time": "2024-01-06T11:30:00.982Z"
   },
   {
    "duration": 3982,
    "start_time": "2024-01-06T11:30:02.124Z"
   },
   {
    "duration": 1006,
    "start_time": "2024-01-06T11:33:28.575Z"
   },
   {
    "duration": 7,
    "start_time": "2024-01-06T11:35:01.249Z"
   },
   {
    "duration": 7,
    "start_time": "2024-01-06T11:35:11.009Z"
   },
   {
    "duration": 8,
    "start_time": "2024-01-06T11:35:21.610Z"
   },
   {
    "duration": 468,
    "start_time": "2024-01-06T11:35:28.753Z"
   },
   {
    "duration": 16,
    "start_time": "2024-01-06T11:36:32.482Z"
   },
   {
    "duration": 494,
    "start_time": "2024-01-06T11:36:40.531Z"
   },
   {
    "duration": 1784,
    "start_time": "2024-01-06T11:36:54.179Z"
   },
   {
    "duration": 143,
    "start_time": "2024-01-06T11:40:52.710Z"
   },
   {
    "duration": 965,
    "start_time": "2024-01-06T11:41:03.014Z"
   },
   {
    "duration": 19,
    "start_time": "2024-01-06T11:47:23.283Z"
   },
   {
    "duration": 1551,
    "start_time": "2024-01-06T11:47:28.898Z"
   },
   {
    "duration": 1535,
    "start_time": "2024-01-06T11:51:28.374Z"
   },
   {
    "duration": 1500,
    "start_time": "2024-01-06T11:51:42.214Z"
   },
   {
    "duration": 10,
    "start_time": "2024-01-06T11:52:25.342Z"
   },
   {
    "duration": 3,
    "start_time": "2024-01-06T11:52:35.199Z"
   },
   {
    "duration": 1552,
    "start_time": "2024-01-06T11:52:45.543Z"
   },
   {
    "duration": 1581,
    "start_time": "2024-01-06T11:52:57.944Z"
   },
   {
    "duration": 1556,
    "start_time": "2024-01-06T11:53:09.575Z"
   },
   {
    "duration": 4,
    "start_time": "2024-01-06T11:54:07.012Z"
   },
   {
    "duration": 1564,
    "start_time": "2024-01-06T11:54:31.416Z"
   },
   {
    "duration": 1512,
    "start_time": "2024-01-06T11:59:50.286Z"
   },
   {
    "duration": 1533,
    "start_time": "2024-01-06T12:03:12.719Z"
   },
   {
    "duration": 1560,
    "start_time": "2024-01-06T12:03:33.471Z"
   },
   {
    "duration": 1506,
    "start_time": "2024-01-06T12:03:50.231Z"
   },
   {
    "duration": 1520,
    "start_time": "2024-01-06T12:04:01.864Z"
   },
   {
    "duration": 1553,
    "start_time": "2024-01-06T12:04:07.983Z"
   },
   {
    "duration": 1529,
    "start_time": "2024-01-06T12:04:27.064Z"
   },
   {
    "duration": 1534,
    "start_time": "2024-01-06T12:04:49.040Z"
   },
   {
    "duration": 3,
    "start_time": "2024-01-06T12:05:03.352Z"
   },
   {
    "duration": 1522,
    "start_time": "2024-01-06T12:05:06.489Z"
   },
   {
    "duration": 1534,
    "start_time": "2024-01-06T12:05:41.544Z"
   },
   {
    "duration": 1542,
    "start_time": "2024-01-06T12:05:49.193Z"
   },
   {
    "duration": 2,
    "start_time": "2024-01-06T12:05:56.097Z"
   },
   {
    "duration": 2,
    "start_time": "2024-01-06T12:07:22.097Z"
   },
   {
    "duration": 1519,
    "start_time": "2024-01-06T12:07:24.105Z"
   },
   {
    "duration": 1537,
    "start_time": "2024-01-06T12:07:32.194Z"
   },
   {
    "duration": 1517,
    "start_time": "2024-01-06T12:07:38.921Z"
   },
   {
    "duration": 1525,
    "start_time": "2024-01-06T12:07:45.538Z"
   },
   {
    "duration": 18,
    "start_time": "2024-01-06T12:11:04.932Z"
   },
   {
    "duration": 1526,
    "start_time": "2024-01-06T12:11:12.357Z"
   },
   {
    "duration": 110,
    "start_time": "2024-01-06T12:14:05.415Z"
   },
   {
    "duration": 1514,
    "start_time": "2024-01-06T12:14:20.327Z"
   },
   {
    "duration": 2,
    "start_time": "2024-01-06T12:15:04.064Z"
   },
   {
    "duration": 1542,
    "start_time": "2024-01-06T12:15:22.960Z"
   },
   {
    "duration": 5,
    "start_time": "2024-01-06T12:15:45.688Z"
   },
   {
    "duration": 88,
    "start_time": "2024-01-06T12:16:11.048Z"
   },
   {
    "duration": 1540,
    "start_time": "2024-01-06T12:16:18.353Z"
   },
   {
    "duration": 12,
    "start_time": "2024-01-06T12:16:40.409Z"
   },
   {
    "duration": 88,
    "start_time": "2024-01-06T12:17:16.152Z"
   },
   {
    "duration": 9,
    "start_time": "2024-01-06T12:17:37.384Z"
   },
   {
    "duration": 727,
    "start_time": "2024-01-06T12:17:54.491Z"
   },
   {
    "duration": 1048,
    "start_time": "2024-01-06T12:17:55.817Z"
   },
   {
    "duration": 91,
    "start_time": "2024-01-06T12:17:57.063Z"
   },
   {
    "duration": 4,
    "start_time": "2024-01-06T12:17:58.137Z"
   },
   {
    "duration": 8,
    "start_time": "2024-01-06T12:17:58.354Z"
   },
   {
    "duration": 4,
    "start_time": "2024-01-06T12:17:59.722Z"
   },
   {
    "duration": 112,
    "start_time": "2024-01-06T12:18:00.569Z"
   },
   {
    "duration": 675,
    "start_time": "2024-01-06T12:18:16.874Z"
   },
   {
    "duration": 1055,
    "start_time": "2024-01-06T12:18:17.551Z"
   },
   {
    "duration": 93,
    "start_time": "2024-01-06T12:18:18.608Z"
   },
   {
    "duration": 4,
    "start_time": "2024-01-06T12:18:19.345Z"
   },
   {
    "duration": 7,
    "start_time": "2024-01-06T12:18:19.650Z"
   },
   {
    "duration": 4,
    "start_time": "2024-01-06T12:18:21.033Z"
   },
   {
    "duration": 123,
    "start_time": "2024-01-06T12:18:21.963Z"
   },
   {
    "duration": 90,
    "start_time": "2024-01-06T12:18:33.578Z"
   },
   {
    "duration": 19,
    "start_time": "2024-01-06T12:18:53.004Z"
   },
   {
    "duration": 19,
    "start_time": "2024-01-06T12:19:00.906Z"
   },
   {
    "duration": 3,
    "start_time": "2024-01-06T12:19:01.690Z"
   },
   {
    "duration": 5,
    "start_time": "2024-01-06T12:19:02.018Z"
   },
   {
    "duration": 5,
    "start_time": "2024-01-06T12:19:03.441Z"
   },
   {
    "duration": 1369,
    "start_time": "2024-01-06T12:19:04.211Z"
   },
   {
    "duration": 1648,
    "start_time": "2024-01-06T12:19:06.282Z"
   },
   {
    "duration": 1596,
    "start_time": "2024-01-06T12:19:13.850Z"
   },
   {
    "duration": 1571,
    "start_time": "2024-01-06T12:22:06.902Z"
   },
   {
    "duration": 11,
    "start_time": "2024-01-06T12:37:12.465Z"
   },
   {
    "duration": 619,
    "start_time": "2024-01-06T12:37:27.923Z"
   },
   {
    "duration": 1082,
    "start_time": "2024-01-06T12:37:29.289Z"
   },
   {
    "duration": 21,
    "start_time": "2024-01-06T12:37:30.373Z"
   },
   {
    "duration": 4,
    "start_time": "2024-01-06T12:37:31.728Z"
   },
   {
    "duration": 6,
    "start_time": "2024-01-06T12:37:32.225Z"
   },
   {
    "duration": 5,
    "start_time": "2024-01-06T12:37:33.760Z"
   },
   {
    "duration": 1309,
    "start_time": "2024-01-06T12:37:34.520Z"
   },
   {
    "duration": 1641,
    "start_time": "2024-01-06T12:37:36.457Z"
   },
   {
    "duration": 7,
    "start_time": "2024-01-06T12:37:38.464Z"
   },
   {
    "duration": 3,
    "start_time": "2024-01-06T12:37:39.377Z"
   },
   {
    "duration": 1049,
    "start_time": "2024-01-06T12:37:42.169Z"
   },
   {
    "duration": 3958,
    "start_time": "2024-01-06T12:37:43.440Z"
   },
   {
    "duration": 4,
    "start_time": "2024-01-06T12:50:25.434Z"
   },
   {
    "duration": 459,
    "start_time": "2024-01-06T12:50:31.849Z"
   },
   {
    "duration": 22,
    "start_time": "2024-01-06T12:50:55.962Z"
   },
   {
    "duration": 376,
    "start_time": "2024-01-06T12:51:05.139Z"
   },
   {
    "duration": 203,
    "start_time": "2024-01-06T12:56:18.519Z"
   },
   {
    "duration": 125,
    "start_time": "2024-01-06T12:56:47.215Z"
   },
   {
    "duration": 588,
    "start_time": "2024-01-06T13:01:06.268Z"
   },
   {
    "duration": 8,
    "start_time": "2024-01-06T13:21:31.379Z"
   },
   {
    "duration": 17,
    "start_time": "2024-01-06T13:22:27.893Z"
   },
   {
    "duration": 91,
    "start_time": "2024-01-06T13:22:34.734Z"
   },
   {
    "duration": 3,
    "start_time": "2024-01-06T13:22:35.979Z"
   },
   {
    "duration": 35798,
    "start_time": "2024-01-06T13:22:38.115Z"
   },
   {
    "duration": 37581,
    "start_time": "2024-01-06T13:23:38.917Z"
   },
   {
    "duration": 5,
    "start_time": "2024-01-06T13:25:28.631Z"
   },
   {
    "duration": 37100,
    "start_time": "2024-01-06T13:25:37.694Z"
   },
   {
    "duration": 6,
    "start_time": "2024-01-06T13:26:56.942Z"
   },
   {
    "duration": 39314,
    "start_time": "2024-01-06T13:27:07.392Z"
   },
   {
    "duration": 78,
    "start_time": "2024-01-06T13:28:36.817Z"
   },
   {
    "duration": 3244,
    "start_time": "2024-01-06T13:28:41.528Z"
   },
   {
    "duration": 831,
    "start_time": "2024-01-06T13:29:17.587Z"
   },
   {
    "duration": 1595,
    "start_time": "2024-01-06T13:29:18.420Z"
   },
   {
    "duration": 20,
    "start_time": "2024-01-06T13:29:20.017Z"
   },
   {
    "duration": 33,
    "start_time": "2024-01-06T13:29:20.039Z"
   },
   {
    "duration": 21,
    "start_time": "2024-01-06T13:29:20.073Z"
   },
   {
    "duration": 58,
    "start_time": "2024-01-06T13:29:20.095Z"
   },
   {
    "duration": 1451,
    "start_time": "2024-01-06T13:29:20.155Z"
   },
   {
    "duration": 1646,
    "start_time": "2024-01-06T13:29:21.608Z"
   },
   {
    "duration": 7,
    "start_time": "2024-01-06T13:29:23.255Z"
   },
   {
    "duration": 14,
    "start_time": "2024-01-06T13:29:23.264Z"
   },
   {
    "duration": 385,
    "start_time": "2024-01-06T13:29:23.279Z"
   },
   {
    "duration": 1083,
    "start_time": "2024-01-06T13:29:23.665Z"
   },
   {
    "duration": 131,
    "start_time": "2024-01-06T13:29:24.750Z"
   },
   {
    "duration": 4014,
    "start_time": "2024-01-06T13:29:24.882Z"
   },
   {
    "duration": 3,
    "start_time": "2024-01-06T13:29:28.897Z"
   },
   {
    "duration": 20,
    "start_time": "2024-01-06T13:29:28.901Z"
   },
   {
    "duration": 22,
    "start_time": "2024-01-06T13:29:42.195Z"
   },
   {
    "duration": 95,
    "start_time": "2024-01-06T13:29:43.656Z"
   },
   {
    "duration": 4,
    "start_time": "2024-01-06T13:29:45.713Z"
   },
   {
    "duration": 108,
    "start_time": "2024-01-06T13:29:47.945Z"
   },
   {
    "duration": 766,
    "start_time": "2024-01-06T13:30:24.904Z"
   },
   {
    "duration": 1657,
    "start_time": "2024-01-06T13:30:25.672Z"
   },
   {
    "duration": 21,
    "start_time": "2024-01-06T13:30:27.330Z"
   },
   {
    "duration": 7,
    "start_time": "2024-01-06T13:30:27.354Z"
   },
   {
    "duration": 12,
    "start_time": "2024-01-06T13:30:27.362Z"
   },
   {
    "duration": 8,
    "start_time": "2024-01-06T13:30:27.375Z"
   },
   {
    "duration": 1377,
    "start_time": "2024-01-06T13:30:27.384Z"
   },
   {
    "duration": 1646,
    "start_time": "2024-01-06T13:30:28.763Z"
   },
   {
    "duration": 6,
    "start_time": "2024-01-06T13:30:30.411Z"
   },
   {
    "duration": 99,
    "start_time": "2024-01-06T13:30:30.419Z"
   },
   {
    "duration": 441,
    "start_time": "2024-01-06T13:30:30.520Z"
   },
   {
    "duration": 1053,
    "start_time": "2024-01-06T13:30:30.963Z"
   },
   {
    "duration": 140,
    "start_time": "2024-01-06T13:30:32.017Z"
   },
   {
    "duration": 4023,
    "start_time": "2024-01-06T13:30:32.158Z"
   },
   {
    "duration": 9,
    "start_time": "2024-01-06T13:30:36.183Z"
   },
   {
    "duration": 17,
    "start_time": "2024-01-06T13:30:36.193Z"
   },
   {
    "duration": 118,
    "start_time": "2024-01-06T13:30:36.212Z"
   },
   {
    "duration": 3,
    "start_time": "2024-01-06T13:30:36.331Z"
   },
   {
    "duration": 3,
    "start_time": "2024-01-06T13:30:40.593Z"
   },
   {
    "duration": 7,
    "start_time": "2024-01-06T13:31:24.674Z"
   },
   {
    "duration": 697,
    "start_time": "2024-01-06T13:32:27.931Z"
   },
   {
    "duration": 2372,
    "start_time": "2024-01-06T13:32:29.299Z"
   },
   {
    "duration": 20,
    "start_time": "2024-01-06T13:32:31.673Z"
   },
   {
    "duration": 44,
    "start_time": "2024-01-06T13:32:31.695Z"
   },
   {
    "duration": 11,
    "start_time": "2024-01-06T13:32:31.741Z"
   },
   {
    "duration": 5,
    "start_time": "2024-01-06T13:32:33.867Z"
   },
   {
    "duration": 1221,
    "start_time": "2024-01-06T13:32:34.796Z"
   },
   {
    "duration": 1621,
    "start_time": "2024-01-06T13:32:36.283Z"
   },
   {
    "duration": 7,
    "start_time": "2024-01-06T13:32:39.138Z"
   },
   {
    "duration": 4,
    "start_time": "2024-01-06T13:32:39.522Z"
   },
   {
    "duration": 367,
    "start_time": "2024-01-06T13:32:40.915Z"
   },
   {
    "duration": 1030,
    "start_time": "2024-01-06T13:32:43.004Z"
   },
   {
    "duration": 118,
    "start_time": "2024-01-06T13:32:46.587Z"
   },
   {
    "duration": 4036,
    "start_time": "2024-01-06T13:32:47.451Z"
   },
   {
    "duration": 3,
    "start_time": "2024-01-06T13:32:52.827Z"
   },
   {
    "duration": 17,
    "start_time": "2024-01-06T13:32:55.363Z"
   },
   {
    "duration": 94,
    "start_time": "2024-01-06T13:32:59.043Z"
   },
   {
    "duration": 3,
    "start_time": "2024-01-06T13:32:59.813Z"
   },
   {
    "duration": 6,
    "start_time": "2024-01-06T13:33:28.427Z"
   },
   {
    "duration": 2,
    "start_time": "2024-01-06T13:34:01.021Z"
   },
   {
    "duration": 6,
    "start_time": "2024-01-06T13:34:07.182Z"
   },
   {
    "duration": 3,
    "start_time": "2024-01-06T13:34:17.765Z"
   },
   {
    "duration": 733,
    "start_time": "2024-01-06T13:34:27.205Z"
   },
   {
    "duration": 212,
    "start_time": "2024-01-06T13:34:38.612Z"
   },
   {
    "duration": 1632,
    "start_time": "2024-01-06T13:34:57.677Z"
   },
   {
    "duration": 121,
    "start_time": "2024-01-06T13:35:07.742Z"
   },
   {
    "duration": 3,
    "start_time": "2024-01-06T13:35:26.997Z"
   },
   {
    "duration": 115,
    "start_time": "2024-01-06T13:35:32.758Z"
   },
   {
    "duration": 100,
    "start_time": "2024-01-06T13:35:42.078Z"
   },
   {
    "duration": 4,
    "start_time": "2024-01-06T13:35:43.165Z"
   },
   {
    "duration": 3,
    "start_time": "2024-01-06T13:35:44.214Z"
   },
   {
    "duration": 3173,
    "start_time": "2024-01-06T13:35:45.598Z"
   },
   {
    "duration": 714,
    "start_time": "2024-01-06T13:36:32.840Z"
   },
   {
    "duration": 125,
    "start_time": "2024-01-06T13:36:52.334Z"
   },
   {
    "duration": 18,
    "start_time": "2024-01-06T13:41:12.586Z"
   },
   {
    "duration": 126,
    "start_time": "2024-01-06T13:41:17.130Z"
   },
   {
    "duration": 10,
    "start_time": "2024-01-06T13:41:26.066Z"
   },
   {
    "duration": 121,
    "start_time": "2024-01-06T13:41:36.130Z"
   },
   {
    "duration": 6,
    "start_time": "2024-01-06T13:41:44.683Z"
   },
   {
    "duration": 5,
    "start_time": "2024-01-06T13:41:55.051Z"
   },
   {
    "duration": 5,
    "start_time": "2024-01-06T13:42:02.250Z"
   },
   {
    "duration": 64,
    "start_time": "2024-01-06T13:42:17.800Z"
   },
   {
    "duration": 719,
    "start_time": "2024-01-06T13:42:56.900Z"
   },
   {
    "duration": 205,
    "start_time": "2024-01-06T13:44:18.989Z"
   },
   {
    "duration": 9,
    "start_time": "2024-01-06T13:44:27.404Z"
   },
   {
    "duration": 112,
    "start_time": "2024-01-06T13:44:32.820Z"
   },
   {
    "duration": 10,
    "start_time": "2024-01-06T13:44:36.220Z"
   },
   {
    "duration": 9,
    "start_time": "2024-01-06T13:44:51.054Z"
   },
   {
    "duration": 111,
    "start_time": "2024-01-06T13:45:29.230Z"
   },
   {
    "duration": 3,
    "start_time": "2024-01-06T13:45:29.852Z"
   },
   {
    "duration": 3,
    "start_time": "2024-01-06T13:45:31.527Z"
   },
   {
    "duration": 5,
    "start_time": "2024-01-06T13:45:39.636Z"
   },
   {
    "duration": 779,
    "start_time": "2024-01-06T13:46:00.445Z"
   },
   {
    "duration": 235,
    "start_time": "2024-01-06T13:46:06.143Z"
   },
   {
    "duration": 741,
    "start_time": "2024-01-06T13:46:45.553Z"
   },
   {
    "duration": 1584,
    "start_time": "2024-01-06T13:46:46.296Z"
   },
   {
    "duration": 28,
    "start_time": "2024-01-06T13:46:47.882Z"
   },
   {
    "duration": 26,
    "start_time": "2024-01-06T13:46:47.912Z"
   },
   {
    "duration": 6,
    "start_time": "2024-01-06T13:46:47.940Z"
   },
   {
    "duration": 14,
    "start_time": "2024-01-06T13:46:47.948Z"
   },
   {
    "duration": 1432,
    "start_time": "2024-01-06T13:46:47.963Z"
   },
   {
    "duration": 1629,
    "start_time": "2024-01-06T13:46:49.397Z"
   },
   {
    "duration": 7,
    "start_time": "2024-01-06T13:46:51.028Z"
   },
   {
    "duration": 24,
    "start_time": "2024-01-06T13:46:51.036Z"
   },
   {
    "duration": 369,
    "start_time": "2024-01-06T13:46:51.062Z"
   },
   {
    "duration": 1079,
    "start_time": "2024-01-06T13:46:51.433Z"
   },
   {
    "duration": 130,
    "start_time": "2024-01-06T13:46:52.513Z"
   },
   {
    "duration": 3940,
    "start_time": "2024-01-06T13:46:52.645Z"
   },
   {
    "duration": 5,
    "start_time": "2024-01-06T13:46:56.586Z"
   },
   {
    "duration": 17,
    "start_time": "2024-01-06T13:46:56.593Z"
   },
   {
    "duration": 112,
    "start_time": "2024-01-06T13:46:56.612Z"
   },
   {
    "duration": 3,
    "start_time": "2024-01-06T13:46:56.726Z"
   },
   {
    "duration": 3,
    "start_time": "2024-01-06T13:46:59.846Z"
   },
   {
    "duration": 3,
    "start_time": "2024-01-06T13:47:00.870Z"
   },
   {
    "duration": 745,
    "start_time": "2024-01-06T13:47:10.126Z"
   },
   {
    "duration": 249,
    "start_time": "2024-01-06T13:47:19.790Z"
   },
   {
    "duration": 739,
    "start_time": "2024-01-06T13:47:36.334Z"
   },
   {
    "duration": 14,
    "start_time": "2024-01-06T13:47:55.535Z"
   },
   {
    "duration": 1999,
    "start_time": "2024-01-06T13:48:06.606Z"
   },
   {
    "duration": 135,
    "start_time": "2024-01-06T13:49:20.712Z"
   },
   {
    "duration": 18,
    "start_time": "2024-01-06T13:49:25.784Z"
   },
   {
    "duration": 17,
    "start_time": "2024-01-06T13:49:46.072Z"
   },
   {
    "duration": 97,
    "start_time": "2024-01-06T13:52:10.539Z"
   },
   {
    "duration": 3,
    "start_time": "2024-01-06T13:52:11.928Z"
   },
   {
    "duration": 17,
    "start_time": "2024-01-06T13:52:12.746Z"
   },
   {
    "duration": 2361,
    "start_time": "2024-01-06T13:52:13.867Z"
   },
   {
    "duration": 85,
    "start_time": "2024-01-06T13:52:24.666Z"
   },
   {
    "duration": 94,
    "start_time": "2024-01-06T13:54:08.316Z"
   },
   {
    "duration": 3,
    "start_time": "2024-01-06T13:54:14.595Z"
   },
   {
    "duration": 16,
    "start_time": "2024-01-06T13:54:15.275Z"
   },
   {
    "duration": 2567,
    "start_time": "2024-01-06T13:54:16.123Z"
   },
   {
    "duration": 791,
    "start_time": "2024-01-06T13:54:19.908Z"
   },
   {
    "duration": 727,
    "start_time": "2024-01-06T13:55:02.104Z"
   },
   {
    "duration": 1700,
    "start_time": "2024-01-06T13:55:02.833Z"
   },
   {
    "duration": 22,
    "start_time": "2024-01-06T13:55:04.534Z"
   },
   {
    "duration": 10,
    "start_time": "2024-01-06T13:55:04.558Z"
   },
   {
    "duration": 8,
    "start_time": "2024-01-06T13:55:04.569Z"
   },
   {
    "duration": 14,
    "start_time": "2024-01-06T13:55:04.578Z"
   },
   {
    "duration": 1321,
    "start_time": "2024-01-06T13:55:04.593Z"
   },
   {
    "duration": 1646,
    "start_time": "2024-01-06T13:55:05.915Z"
   },
   {
    "duration": 7,
    "start_time": "2024-01-06T13:55:07.563Z"
   },
   {
    "duration": 12,
    "start_time": "2024-01-06T13:55:07.572Z"
   },
   {
    "duration": 374,
    "start_time": "2024-01-06T13:55:07.586Z"
   },
   {
    "duration": 1084,
    "start_time": "2024-01-06T13:55:07.962Z"
   },
   {
    "duration": 129,
    "start_time": "2024-01-06T13:55:09.047Z"
   },
   {
    "duration": 4010,
    "start_time": "2024-01-06T13:55:09.178Z"
   },
   {
    "duration": 2,
    "start_time": "2024-01-06T13:55:13.192Z"
   },
   {
    "duration": 29,
    "start_time": "2024-01-06T13:55:13.195Z"
   },
   {
    "duration": 120,
    "start_time": "2024-01-06T13:55:13.225Z"
   },
   {
    "duration": 3,
    "start_time": "2024-01-06T13:55:13.347Z"
   },
   {
    "duration": 21,
    "start_time": "2024-01-06T13:55:13.351Z"
   },
   {
    "duration": 120,
    "start_time": "2024-01-06T13:55:15.964Z"
   },
   {
    "duration": 93,
    "start_time": "2024-01-06T13:55:41.726Z"
   },
   {
    "duration": 106,
    "start_time": "2024-01-06T13:55:53.796Z"
   },
   {
    "duration": 16,
    "start_time": "2024-01-06T13:55:55.309Z"
   },
   {
    "duration": 21,
    "start_time": "2024-01-06T13:56:01.400Z"
   },
   {
    "duration": 2413,
    "start_time": "2024-01-06T13:56:08.654Z"
   },
   {
    "duration": 889,
    "start_time": "2024-01-06T13:56:19.198Z"
   },
   {
    "duration": 7996,
    "start_time": "2024-01-06T13:56:23.909Z"
   },
   {
    "duration": 7835,
    "start_time": "2024-01-06T13:57:04.966Z"
   },
   {
    "duration": 8,
    "start_time": "2024-01-06T13:59:50.312Z"
   },
   {
    "duration": 3,
    "start_time": "2024-01-06T14:00:25.514Z"
   },
   {
    "duration": 102,
    "start_time": "2024-01-06T14:00:57.696Z"
   },
   {
    "duration": 4,
    "start_time": "2024-01-06T14:01:00.168Z"
   },
   {
    "duration": 32702,
    "start_time": "2024-01-06T14:01:03.449Z"
   },
   {
    "duration": 7,
    "start_time": "2024-01-06T14:02:01.698Z"
   },
   {
    "duration": 33402,
    "start_time": "2024-01-06T14:02:10.418Z"
   },
   {
    "duration": 120,
    "start_time": "2024-01-06T14:04:42.035Z"
   },
   {
    "duration": 2,
    "start_time": "2024-01-06T14:05:21.725Z"
   },
   {
    "duration": 20,
    "start_time": "2024-01-06T14:05:29.293Z"
   },
   {
    "duration": 5,
    "start_time": "2024-01-06T14:05:40.829Z"
   },
   {
    "duration": 13,
    "start_time": "2024-01-06T14:06:03.813Z"
   },
   {
    "duration": 19,
    "start_time": "2024-01-06T14:06:14.278Z"
   },
   {
    "duration": 11,
    "start_time": "2024-01-06T14:06:21.526Z"
   },
   {
    "duration": 6,
    "start_time": "2024-01-06T14:06:33.678Z"
   },
   {
    "duration": 11,
    "start_time": "2024-01-06T14:21:26.008Z"
   },
   {
    "duration": 4,
    "start_time": "2024-01-06T14:21:34.184Z"
   },
   {
    "duration": 4,
    "start_time": "2024-01-06T14:21:50.449Z"
   },
   {
    "duration": 12,
    "start_time": "2024-01-06T14:22:32.273Z"
   },
   {
    "duration": 266,
    "start_time": "2024-01-06T14:22:54.313Z"
   },
   {
    "duration": 270,
    "start_time": "2024-01-06T14:23:02.825Z"
   },
   {
    "duration": 6906,
    "start_time": "2024-01-06T14:23:19.705Z"
   },
   {
    "duration": 10,
    "start_time": "2024-01-06T14:28:48.038Z"
   },
   {
    "duration": 3,
    "start_time": "2024-01-06T14:28:57.334Z"
   },
   {
    "duration": 97,
    "start_time": "2024-01-06T14:29:26.398Z"
   },
   {
    "duration": 102,
    "start_time": "2024-01-06T14:29:33.038Z"
   },
   {
    "duration": 97,
    "start_time": "2024-01-06T14:29:38.814Z"
   },
   {
    "duration": 356,
    "start_time": "2024-01-06T14:29:47.206Z"
   },
   {
    "duration": 4,
    "start_time": "2024-01-06T14:29:51.693Z"
   },
   {
    "duration": 112,
    "start_time": "2024-01-06T14:31:01.543Z"
   },
   {
    "duration": 3,
    "start_time": "2024-01-06T14:31:04.554Z"
   },
   {
    "duration": 3,
    "start_time": "2024-01-06T14:31:07.360Z"
   },
   {
    "duration": 373,
    "start_time": "2024-01-06T14:31:10.480Z"
   },
   {
    "duration": 19,
    "start_time": "2024-01-06T14:31:13.375Z"
   },
   {
    "duration": 985,
    "start_time": "2024-01-06T14:31:21.384Z"
   },
   {
    "duration": 107,
    "start_time": "2024-01-06T14:31:28.831Z"
   },
   {
    "duration": 3,
    "start_time": "2024-01-06T14:31:31.625Z"
   },
   {
    "duration": 1,
    "start_time": "2024-01-06T14:31:31.968Z"
   },
   {
    "duration": 3,
    "start_time": "2024-01-06T14:31:32.272Z"
   },
   {
    "duration": 279,
    "start_time": "2024-01-06T14:31:32.816Z"
   },
   {
    "duration": 284,
    "start_time": "2024-01-06T14:31:38.608Z"
   },
   {
    "duration": 246,
    "start_time": "2024-01-06T14:31:41.367Z"
   },
   {
    "duration": 123,
    "start_time": "2024-01-06T14:32:42.384Z"
   },
   {
    "duration": 111,
    "start_time": "2024-01-06T14:33:20.906Z"
   },
   {
    "duration": 110,
    "start_time": "2024-01-06T14:33:27.769Z"
   },
   {
    "duration": 6,
    "start_time": "2024-01-06T14:37:00.565Z"
   },
   {
    "duration": 98,
    "start_time": "2024-01-06T14:37:19.484Z"
   },
   {
    "duration": 3,
    "start_time": "2024-01-06T14:37:20.147Z"
   },
   {
    "duration": 2,
    "start_time": "2024-01-06T14:37:21.380Z"
   },
   {
    "duration": 6426,
    "start_time": "2024-01-06T14:37:21.780Z"
   },
   {
    "duration": 94,
    "start_time": "2024-01-06T14:37:43.804Z"
   },
   {
    "duration": 3,
    "start_time": "2024-01-06T14:37:45.790Z"
   },
   {
    "duration": 676,
    "start_time": "2024-01-06T14:38:37.037Z"
   },
   {
    "duration": 1577,
    "start_time": "2024-01-06T14:38:37.715Z"
   },
   {
    "duration": 22,
    "start_time": "2024-01-06T14:38:39.294Z"
   },
   {
    "duration": 10,
    "start_time": "2024-01-06T14:38:39.318Z"
   },
   {
    "duration": 10,
    "start_time": "2024-01-06T14:38:39.329Z"
   },
   {
    "duration": 14,
    "start_time": "2024-01-06T14:38:39.340Z"
   },
   {
    "duration": 1399,
    "start_time": "2024-01-06T14:38:39.356Z"
   },
   {
    "duration": 1660,
    "start_time": "2024-01-06T14:38:40.756Z"
   },
   {
    "duration": 7,
    "start_time": "2024-01-06T14:38:42.417Z"
   },
   {
    "duration": 10,
    "start_time": "2024-01-06T14:38:42.426Z"
   },
   {
    "duration": 401,
    "start_time": "2024-01-06T14:38:42.437Z"
   },
   {
    "duration": 1072,
    "start_time": "2024-01-06T14:38:42.839Z"
   },
   {
    "duration": 129,
    "start_time": "2024-01-06T14:38:43.912Z"
   },
   {
    "duration": 4042,
    "start_time": "2024-01-06T14:38:44.043Z"
   },
   {
    "duration": 4,
    "start_time": "2024-01-06T14:38:48.087Z"
   },
   {
    "duration": 21,
    "start_time": "2024-01-06T14:38:48.093Z"
   },
   {
    "duration": 100,
    "start_time": "2024-01-06T14:38:48.116Z"
   },
   {
    "duration": 3,
    "start_time": "2024-01-06T14:38:48.218Z"
   },
   {
    "duration": 3,
    "start_time": "2024-01-06T14:38:57.014Z"
   },
   {
    "duration": 37907,
    "start_time": "2024-01-06T14:38:57.986Z"
   },
   {
    "duration": 31872,
    "start_time": "2024-01-06T14:39:50.738Z"
   },
   {
    "duration": 20,
    "start_time": "2024-01-06T14:41:01.020Z"
   },
   {
    "duration": 9,
    "start_time": "2024-01-06T14:41:09.643Z"
   },
   {
    "duration": 20,
    "start_time": "2024-01-06T14:41:18.328Z"
   },
   {
    "duration": 3,
    "start_time": "2024-01-06T14:41:26.858Z"
   },
   {
    "duration": 20,
    "start_time": "2024-01-06T14:41:34.010Z"
   },
   {
    "duration": 13,
    "start_time": "2024-01-06T14:41:44.189Z"
   },
   {
    "duration": 14,
    "start_time": "2024-01-06T14:42:12.234Z"
   },
   {
    "duration": 14,
    "start_time": "2024-01-06T14:42:40.429Z"
   },
   {
    "duration": 15,
    "start_time": "2024-01-06T14:43:22.681Z"
   },
   {
    "duration": 17,
    "start_time": "2024-01-06T14:43:37.008Z"
   },
   {
    "duration": 1495,
    "start_time": "2024-01-06T14:44:17.677Z"
   },
   {
    "duration": 11488,
    "start_time": "2024-01-06T14:44:41.131Z"
   },
   {
    "duration": 7,
    "start_time": "2024-01-06T14:45:34.249Z"
   },
   {
    "duration": 6,
    "start_time": "2024-01-06T14:45:44.024Z"
   },
   {
    "duration": 34183,
    "start_time": "2024-01-06T14:46:50.315Z"
   },
   {
    "duration": 31320,
    "start_time": "2024-01-06T14:49:09.686Z"
   },
   {
    "duration": 86,
    "start_time": "2024-01-06T14:51:49.255Z"
   },
   {
    "duration": 3,
    "start_time": "2024-01-06T14:51:50.746Z"
   },
   {
    "duration": 14,
    "start_time": "2024-01-06T14:53:41.924Z"
   },
   {
    "duration": 951,
    "start_time": "2024-01-06T14:53:52.569Z"
   },
   {
    "duration": 103,
    "start_time": "2024-01-06T14:54:08.512Z"
   },
   {
    "duration": 107,
    "start_time": "2024-01-06T14:54:37.326Z"
   },
   {
    "duration": 107,
    "start_time": "2024-01-06T14:54:56.282Z"
   },
   {
    "duration": 4,
    "start_time": "2024-01-06T14:55:02.049Z"
   },
   {
    "duration": 64,
    "start_time": "2024-01-06T14:57:53.106Z"
   },
   {
    "duration": 110,
    "start_time": "2024-01-06T14:59:06.525Z"
   },
   {
    "duration": 63,
    "start_time": "2024-01-06T15:00:50.218Z"
   },
   {
    "duration": 67,
    "start_time": "2024-01-06T15:02:36.420Z"
   },
   {
    "duration": 3,
    "start_time": "2024-01-06T15:02:48.300Z"
   },
   {
    "duration": 1286,
    "start_time": "2024-01-06T15:02:50.940Z"
   },
   {
    "duration": 5,
    "start_time": "2024-01-06T15:03:08.193Z"
   },
   {
    "duration": 5,
    "start_time": "2024-01-06T15:03:36.374Z"
   },
   {
    "duration": 152,
    "start_time": "2024-01-06T15:03:52.167Z"
   },
   {
    "duration": 16,
    "start_time": "2024-01-06T15:04:26.748Z"
   },
   {
    "duration": 45,
    "start_time": "2024-01-06T15:04:31.481Z"
   },
   {
    "duration": 5,
    "start_time": "2024-01-06T15:04:46.398Z"
   },
   {
    "duration": 43,
    "start_time": "2024-01-06T15:04:53.501Z"
   },
   {
    "duration": 1378,
    "start_time": "2024-01-06T15:05:04.618Z"
   },
   {
    "duration": 5,
    "start_time": "2024-01-06T15:05:09.448Z"
   },
   {
    "duration": 623,
    "start_time": "2024-01-06T15:08:25.706Z"
   },
   {
    "duration": 1110,
    "start_time": "2024-01-06T15:08:26.331Z"
   },
   {
    "duration": 21,
    "start_time": "2024-01-06T15:08:27.443Z"
   },
   {
    "duration": 7,
    "start_time": "2024-01-06T15:08:27.467Z"
   },
   {
    "duration": 16,
    "start_time": "2024-01-06T15:08:27.476Z"
   },
   {
    "duration": 12,
    "start_time": "2024-01-06T15:08:27.493Z"
   },
   {
    "duration": 1387,
    "start_time": "2024-01-06T15:08:27.507Z"
   },
   {
    "duration": 2219,
    "start_time": "2024-01-06T15:08:28.895Z"
   },
   {
    "duration": 7,
    "start_time": "2024-01-06T15:08:31.115Z"
   },
   {
    "duration": 68,
    "start_time": "2024-01-06T15:08:31.124Z"
   },
   {
    "duration": 457,
    "start_time": "2024-01-06T15:08:31.193Z"
   },
   {
    "duration": 1101,
    "start_time": "2024-01-06T15:08:31.651Z"
   },
   {
    "duration": 130,
    "start_time": "2024-01-06T15:08:32.753Z"
   },
   {
    "duration": 3910,
    "start_time": "2024-01-06T15:08:32.884Z"
   },
   {
    "duration": 2,
    "start_time": "2024-01-06T15:08:36.796Z"
   },
   {
    "duration": 31,
    "start_time": "2024-01-06T15:08:36.799Z"
   },
   {
    "duration": 96,
    "start_time": "2024-01-06T15:08:36.832Z"
   },
   {
    "duration": 3,
    "start_time": "2024-01-06T15:08:36.930Z"
   },
   {
    "duration": 39779,
    "start_time": "2024-01-06T15:08:36.934Z"
   },
   {
    "duration": 30591,
    "start_time": "2024-01-06T15:09:16.714Z"
   },
   {
    "duration": 2,
    "start_time": "2024-01-06T15:09:47.307Z"
   },
   {
    "duration": 176,
    "start_time": "2024-01-06T15:09:47.310Z"
   },
   {
    "duration": 110,
    "start_time": "2024-01-06T15:09:47.488Z"
   },
   {
    "duration": 59,
    "start_time": "2024-01-06T15:09:47.600Z"
   },
   {
    "duration": 3,
    "start_time": "2024-01-06T15:09:47.660Z"
   },
   {
    "duration": 1437,
    "start_time": "2024-01-06T15:09:47.665Z"
   },
   {
    "duration": 5,
    "start_time": "2024-01-06T15:09:49.103Z"
   },
   {
    "duration": 181590,
    "start_time": "2024-01-06T15:09:57.702Z"
   },
   {
    "duration": 16,
    "start_time": "2024-01-06T15:15:08.320Z"
   },
   {
    "duration": 7262,
    "start_time": "2024-01-06T15:15:09.984Z"
   },
   {
    "duration": 4,
    "start_time": "2024-01-06T15:15:21.400Z"
   },
   {
    "duration": 40234,
    "start_time": "2024-01-06T15:15:25.665Z"
   },
   {
    "duration": 4,
    "start_time": "2024-01-06T15:16:59.762Z"
   },
   {
    "duration": 33552,
    "start_time": "2024-01-06T15:17:02.259Z"
   },
   {
    "duration": 5,
    "start_time": "2024-01-06T15:18:06.458Z"
   },
   {
    "duration": 209950,
    "start_time": "2024-01-06T15:18:09.643Z"
   },
   {
    "duration": 18881,
    "start_time": "2024-01-06T15:42:19.839Z"
   },
   {
    "duration": 21343,
    "start_time": "2024-01-06T15:42:47.575Z"
   },
   {
    "duration": 51866,
    "start_time": "2024-01-06T15:43:36.320Z"
   },
   {
    "duration": 73,
    "start_time": "2024-01-06T15:57:37.491Z"
   },
   {
    "duration": 4,
    "start_time": "2024-01-06T15:57:42.178Z"
   },
   {
    "duration": 333506,
    "start_time": "2024-01-06T15:59:06.589Z"
   },
   {
    "duration": 6,
    "start_time": "2024-01-06T17:06:07.414Z"
   },
   {
    "duration": 5,
    "start_time": "2024-01-06T17:06:41.286Z"
   },
   {
    "duration": 15,
    "start_time": "2024-01-06T17:06:44.926Z"
   },
   {
    "duration": 11,
    "start_time": "2024-01-06T17:06:59.335Z"
   },
   {
    "duration": 19,
    "start_time": "2024-01-06T17:07:10.688Z"
   },
   {
    "duration": 838,
    "start_time": "2024-01-06T17:09:59.203Z"
   },
   {
    "duration": 2495,
    "start_time": "2024-01-06T17:10:00.042Z"
   },
   {
    "duration": 20,
    "start_time": "2024-01-06T17:10:02.539Z"
   },
   {
    "duration": 64,
    "start_time": "2024-01-06T17:10:02.561Z"
   },
   {
    "duration": 112,
    "start_time": "2024-01-06T17:10:02.627Z"
   },
   {
    "duration": 92,
    "start_time": "2024-01-06T17:10:02.741Z"
   },
   {
    "duration": 1495,
    "start_time": "2024-01-06T17:10:02.834Z"
   },
   {
    "duration": 1979,
    "start_time": "2024-01-06T17:10:04.330Z"
   },
   {
    "duration": 6,
    "start_time": "2024-01-06T17:10:06.311Z"
   },
   {
    "duration": 11,
    "start_time": "2024-01-06T17:10:06.318Z"
   },
   {
    "duration": 400,
    "start_time": "2024-01-06T17:10:06.330Z"
   },
   {
    "duration": 1146,
    "start_time": "2024-01-06T17:10:06.731Z"
   },
   {
    "duration": 139,
    "start_time": "2024-01-06T17:10:07.878Z"
   },
   {
    "duration": 4300,
    "start_time": "2024-01-06T17:10:08.020Z"
   },
   {
    "duration": 2,
    "start_time": "2024-01-06T17:10:12.322Z"
   },
   {
    "duration": 20,
    "start_time": "2024-01-06T17:10:12.326Z"
   },
   {
    "duration": 106,
    "start_time": "2024-01-06T17:10:12.348Z"
   },
   {
    "duration": 3,
    "start_time": "2024-01-06T17:10:12.455Z"
   },
   {
    "duration": 166578,
    "start_time": "2024-01-06T17:10:12.459Z"
   },
   {
    "duration": 8506,
    "start_time": "2024-01-06T17:12:59.039Z"
   },
   {
    "duration": 2,
    "start_time": "2024-01-06T17:13:07.547Z"
   },
   {
    "duration": 121,
    "start_time": "2024-01-06T17:13:07.550Z"
   },
   {
    "duration": 121,
    "start_time": "2024-01-06T17:13:07.673Z"
   },
   {
    "duration": 64,
    "start_time": "2024-01-06T17:13:07.796Z"
   },
   {
    "duration": 4,
    "start_time": "2024-01-06T17:13:07.861Z"
   },
   {
    "duration": 1498,
    "start_time": "2024-01-06T17:13:07.866Z"
   },
   {
    "duration": 5,
    "start_time": "2024-01-06T17:13:09.365Z"
   },
   {
    "duration": 77,
    "start_time": "2024-01-06T17:13:09.371Z"
   },
   {
    "duration": 0,
    "start_time": "2024-01-06T17:13:09.450Z"
   },
   {
    "duration": 0,
    "start_time": "2024-01-06T17:13:09.451Z"
   },
   {
    "duration": 0,
    "start_time": "2024-01-06T17:13:09.452Z"
   },
   {
    "duration": 0,
    "start_time": "2024-01-06T17:13:09.453Z"
   },
   {
    "duration": 0,
    "start_time": "2024-01-06T17:13:09.454Z"
   },
   {
    "duration": 0,
    "start_time": "2024-01-06T17:13:09.454Z"
   },
   {
    "duration": 658,
    "start_time": "2024-01-06T17:13:32.504Z"
   },
   {
    "duration": 1079,
    "start_time": "2024-01-06T17:13:33.164Z"
   },
   {
    "duration": 21,
    "start_time": "2024-01-06T17:13:34.245Z"
   },
   {
    "duration": 10,
    "start_time": "2024-01-06T17:13:34.267Z"
   },
   {
    "duration": 9,
    "start_time": "2024-01-06T17:13:34.278Z"
   },
   {
    "duration": 8,
    "start_time": "2024-01-06T17:13:34.288Z"
   },
   {
    "duration": 2111,
    "start_time": "2024-01-06T17:13:34.298Z"
   },
   {
    "duration": 1743,
    "start_time": "2024-01-06T17:13:36.410Z"
   },
   {
    "duration": 7,
    "start_time": "2024-01-06T17:13:38.155Z"
   },
   {
    "duration": 18,
    "start_time": "2024-01-06T17:13:38.164Z"
   },
   {
    "duration": 389,
    "start_time": "2024-01-06T17:13:38.183Z"
   },
   {
    "duration": 1159,
    "start_time": "2024-01-06T17:13:38.574Z"
   },
   {
    "duration": 139,
    "start_time": "2024-01-06T17:13:39.735Z"
   },
   {
    "duration": 4251,
    "start_time": "2024-01-06T17:13:39.876Z"
   },
   {
    "duration": 3,
    "start_time": "2024-01-06T17:13:44.129Z"
   },
   {
    "duration": 21,
    "start_time": "2024-01-06T17:13:44.133Z"
   },
   {
    "duration": 108,
    "start_time": "2024-01-06T17:13:44.155Z"
   },
   {
    "duration": 4,
    "start_time": "2024-01-06T17:13:44.265Z"
   },
   {
    "duration": 206812,
    "start_time": "2024-01-06T17:13:44.270Z"
   },
   {
    "duration": 2125,
    "start_time": "2024-01-06T17:17:11.084Z"
   },
   {
    "duration": 3,
    "start_time": "2024-01-06T17:17:13.211Z"
   },
   {
    "duration": 118,
    "start_time": "2024-01-06T17:17:13.215Z"
   },
   {
    "duration": 123,
    "start_time": "2024-01-06T17:17:13.335Z"
   },
   {
    "duration": 74,
    "start_time": "2024-01-06T17:17:13.460Z"
   },
   {
    "duration": 3,
    "start_time": "2024-01-06T17:17:13.536Z"
   },
   {
    "duration": 1460,
    "start_time": "2024-01-06T17:17:13.540Z"
   },
   {
    "duration": 7,
    "start_time": "2024-01-06T17:17:15.002Z"
   },
   {
    "duration": 45,
    "start_time": "2024-01-06T17:17:15.012Z"
   },
   {
    "duration": 8,
    "start_time": "2024-01-06T17:17:15.058Z"
   },
   {
    "duration": 624,
    "start_time": "2024-01-06T17:17:23.808Z"
   },
   {
    "duration": 1105,
    "start_time": "2024-01-06T17:17:24.434Z"
   },
   {
    "duration": 20,
    "start_time": "2024-01-06T17:17:25.541Z"
   },
   {
    "duration": 10,
    "start_time": "2024-01-06T17:17:25.562Z"
   },
   {
    "duration": 17,
    "start_time": "2024-01-06T17:17:25.575Z"
   },
   {
    "duration": 22,
    "start_time": "2024-01-06T17:17:25.595Z"
   },
   {
    "duration": 1462,
    "start_time": "2024-01-06T17:17:25.618Z"
   },
   {
    "duration": 1734,
    "start_time": "2024-01-06T17:17:27.082Z"
   },
   {
    "duration": 6,
    "start_time": "2024-01-06T17:17:28.818Z"
   },
   {
    "duration": 10,
    "start_time": "2024-01-06T17:17:28.825Z"
   },
   {
    "duration": 403,
    "start_time": "2024-01-06T17:17:28.836Z"
   },
   {
    "duration": 1119,
    "start_time": "2024-01-06T17:17:29.241Z"
   },
   {
    "duration": 151,
    "start_time": "2024-01-06T17:17:30.362Z"
   },
   {
    "duration": 4430,
    "start_time": "2024-01-06T17:17:30.515Z"
   },
   {
    "duration": 2,
    "start_time": "2024-01-06T17:17:34.947Z"
   },
   {
    "duration": 18,
    "start_time": "2024-01-06T17:17:34.951Z"
   },
   {
    "duration": 99,
    "start_time": "2024-01-06T17:17:34.971Z"
   },
   {
    "duration": 4,
    "start_time": "2024-01-06T17:17:35.072Z"
   },
   {
    "duration": 3,
    "start_time": "2024-01-06T17:17:38.814Z"
   },
   {
    "duration": 82419,
    "start_time": "2024-01-06T17:17:39.743Z"
   },
   {
    "duration": 3,
    "start_time": "2024-01-06T17:19:07.432Z"
   },
   {
    "duration": 12761,
    "start_time": "2024-01-06T17:19:09.608Z"
   },
   {
    "duration": 11779,
    "start_time": "2024-01-06T17:19:55.241Z"
   },
   {
    "duration": 4532,
    "start_time": "2024-01-06T17:20:14.257Z"
   },
   {
    "duration": 2,
    "start_time": "2024-01-06T17:20:26.433Z"
   },
   {
    "duration": 90,
    "start_time": "2024-01-06T17:20:26.793Z"
   },
   {
    "duration": 113,
    "start_time": "2024-01-06T17:20:29.288Z"
   },
   {
    "duration": 59,
    "start_time": "2024-01-06T17:20:29.953Z"
   },
   {
    "duration": 3,
    "start_time": "2024-01-06T17:20:32.610Z"
   },
   {
    "duration": 1310,
    "start_time": "2024-01-06T17:20:32.890Z"
   },
   {
    "duration": 5,
    "start_time": "2024-01-06T17:20:35.649Z"
   },
   {
    "duration": 3,
    "start_time": "2024-01-06T17:20:40.961Z"
   },
   {
    "duration": 5,
    "start_time": "2024-01-06T17:20:49.209Z"
   },
   {
    "duration": 333086,
    "start_time": "2024-01-06T17:20:50.618Z"
   },
   {
    "duration": 5,
    "start_time": "2024-01-06T17:26:29.878Z"
   },
   {
    "duration": 5,
    "start_time": "2024-01-06T17:26:36.701Z"
   },
   {
    "duration": 5,
    "start_time": "2024-01-06T17:26:41.525Z"
   },
   {
    "duration": 36600,
    "start_time": "2024-01-06T17:26:44.126Z"
   },
   {
    "duration": 35875,
    "start_time": "2024-01-06T17:27:36.343Z"
   },
   {
    "duration": 37971,
    "start_time": "2024-01-06T17:28:25.448Z"
   },
   {
    "duration": 9,
    "start_time": "2024-01-06T17:29:49.584Z"
   },
   {
    "duration": 6,
    "start_time": "2024-01-06T17:30:28.665Z"
   },
   {
    "duration": 3,
    "start_time": "2024-01-06T17:30:48.649Z"
   },
   {
    "duration": 9,
    "start_time": "2024-01-06T17:30:56.752Z"
   },
   {
    "duration": 3,
    "start_time": "2024-01-06T17:31:01.425Z"
   },
   {
    "duration": 11,
    "start_time": "2024-01-06T17:31:08.672Z"
   },
   {
    "duration": 9,
    "start_time": "2024-01-06T17:31:33.057Z"
   },
   {
    "duration": 8,
    "start_time": "2024-01-06T17:32:21.722Z"
   },
   {
    "duration": 5,
    "start_time": "2024-01-06T17:32:26.089Z"
   },
   {
    "duration": 3,
    "start_time": "2024-01-06T17:32:35.770Z"
   },
   {
    "duration": 9,
    "start_time": "2024-01-06T17:32:58.250Z"
   },
   {
    "duration": 4,
    "start_time": "2024-01-06T17:33:07.202Z"
   },
   {
    "duration": 4,
    "start_time": "2024-01-06T17:33:17.004Z"
   },
   {
    "duration": 4,
    "start_time": "2024-01-06T17:34:05.604Z"
   },
   {
    "duration": 4,
    "start_time": "2024-01-06T17:34:14.843Z"
   },
   {
    "duration": 7,
    "start_time": "2024-01-06T17:35:12.688Z"
   },
   {
    "duration": 7,
    "start_time": "2024-01-06T17:36:33.649Z"
   },
   {
    "duration": 5,
    "start_time": "2024-01-06T17:37:38.878Z"
   },
   {
    "duration": 130832,
    "start_time": "2024-01-06T17:37:40.368Z"
   },
   {
    "duration": 10,
    "start_time": "2024-01-06T17:40:24.728Z"
   },
   {
    "duration": 8,
    "start_time": "2024-01-06T17:41:30.301Z"
   },
   {
    "duration": 5,
    "start_time": "2024-01-06T17:41:37.017Z"
   },
   {
    "duration": 8,
    "start_time": "2024-01-06T17:41:52.314Z"
   },
   {
    "duration": 4,
    "start_time": "2024-01-06T17:41:57.042Z"
   },
   {
    "duration": 4,
    "start_time": "2024-01-06T17:43:42.787Z"
   },
   {
    "duration": 88,
    "start_time": "2024-01-06T17:44:09.315Z"
   },
   {
    "duration": 79,
    "start_time": "2024-01-06T17:44:17.180Z"
   },
   {
    "duration": 9,
    "start_time": "2024-01-06T17:44:25.939Z"
   },
   {
    "duration": 8,
    "start_time": "2024-01-06T17:45:12.748Z"
   },
   {
    "duration": 79,
    "start_time": "2024-01-06T17:45:23.091Z"
   },
   {
    "duration": 3,
    "start_time": "2024-01-06T17:45:26.596Z"
   },
   {
    "duration": 5,
    "start_time": "2024-01-06T17:55:33.707Z"
   },
   {
    "duration": 4,
    "start_time": "2024-01-06T17:58:29.525Z"
   },
   {
    "duration": 101,
    "start_time": "2024-01-06T17:58:54.619Z"
   },
   {
    "duration": 114,
    "start_time": "2024-01-06T17:58:56.973Z"
   },
   {
    "duration": 66,
    "start_time": "2024-01-06T17:58:57.598Z"
   },
   {
    "duration": 3,
    "start_time": "2024-01-06T17:59:00.041Z"
   },
   {
    "duration": 1464,
    "start_time": "2024-01-06T17:59:00.734Z"
   },
   {
    "duration": 8,
    "start_time": "2024-01-06T17:59:04.438Z"
   },
   {
    "duration": 7,
    "start_time": "2024-01-06T17:59:07.197Z"
   },
   {
    "duration": 344857,
    "start_time": "2024-01-06T17:59:07.558Z"
   },
   {
    "duration": 5,
    "start_time": "2024-01-06T18:04:52.417Z"
   },
   {
    "duration": 23,
    "start_time": "2024-01-06T18:04:52.423Z"
   },
   {
    "duration": 6,
    "start_time": "2024-01-06T18:08:25.844Z"
   },
   {
    "duration": 5,
    "start_time": "2024-01-06T18:09:01.869Z"
   },
   {
    "duration": 5,
    "start_time": "2024-01-06T18:09:36.429Z"
   },
   {
    "duration": 4,
    "start_time": "2024-01-06T18:13:22.929Z"
   },
   {
    "duration": 6,
    "start_time": "2024-01-06T18:13:23.592Z"
   },
   {
    "duration": 5,
    "start_time": "2024-01-06T18:13:25.408Z"
   },
   {
    "duration": 8,
    "start_time": "2024-01-06T18:17:19.844Z"
   },
   {
    "duration": 12,
    "start_time": "2024-01-06T18:18:39.701Z"
   },
   {
    "duration": 10,
    "start_time": "2024-01-06T18:19:16.677Z"
   },
   {
    "duration": 3,
    "start_time": "2024-01-06T18:20:27.022Z"
   },
   {
    "duration": 10,
    "start_time": "2024-01-06T18:20:27.726Z"
   },
   {
    "duration": 4,
    "start_time": "2024-01-06T18:20:40.365Z"
   },
   {
    "duration": 10,
    "start_time": "2024-01-06T18:20:41.246Z"
   },
   {
    "duration": 4,
    "start_time": "2024-01-06T18:20:56.990Z"
   },
   {
    "duration": 5,
    "start_time": "2024-01-06T18:21:05.054Z"
   },
   {
    "duration": 71,
    "start_time": "2024-01-06T18:21:21.518Z"
   },
   {
    "duration": 12,
    "start_time": "2024-01-06T18:21:27.094Z"
   },
   {
    "duration": 6,
    "start_time": "2024-01-06T18:21:56.647Z"
   },
   {
    "duration": 4,
    "start_time": "2024-01-06T18:23:05.663Z"
   },
   {
    "duration": 12,
    "start_time": "2024-01-06T18:23:47.968Z"
   },
   {
    "duration": 8,
    "start_time": "2024-01-06T18:25:02.962Z"
   },
   {
    "duration": 4,
    "start_time": "2024-01-06T18:25:46.140Z"
   },
   {
    "duration": 6,
    "start_time": "2024-01-06T18:26:02.804Z"
   },
   {
    "duration": 6,
    "start_time": "2024-01-06T18:26:10.995Z"
   },
   {
    "duration": 7,
    "start_time": "2024-01-06T18:26:47.154Z"
   },
   {
    "duration": 9,
    "start_time": "2024-01-06T18:28:09.636Z"
   },
   {
    "duration": 5,
    "start_time": "2024-01-06T18:28:37.093Z"
   },
   {
    "duration": 100644,
    "start_time": "2024-01-06T18:28:38.261Z"
   },
   {
    "duration": 88,
    "start_time": "2024-01-06T18:47:57.244Z"
   },
   {
    "duration": 5,
    "start_time": "2024-01-06T18:48:02.131Z"
   },
   {
    "duration": 11662,
    "start_time": "2024-01-06T18:48:04.852Z"
   },
   {
    "duration": 4,
    "start_time": "2024-01-06T18:48:49.276Z"
   },
   {
    "duration": 14,
    "start_time": "2024-01-06T18:48:52.012Z"
   },
   {
    "duration": 5,
    "start_time": "2024-01-06T18:49:24.644Z"
   },
   {
    "duration": 111708,
    "start_time": "2024-01-06T18:49:27.102Z"
   },
   {
    "duration": 5,
    "start_time": "2024-01-06T18:57:09.458Z"
   },
   {
    "duration": 6,
    "start_time": "2024-01-06T18:57:16.405Z"
   },
   {
    "duration": 10,
    "start_time": "2024-01-06T18:58:03.843Z"
   },
   {
    "duration": 13,
    "start_time": "2024-01-06T18:58:12.900Z"
   },
   {
    "duration": 9,
    "start_time": "2024-01-06T18:59:11.799Z"
   },
   {
    "duration": 9,
    "start_time": "2024-01-06T19:00:13.141Z"
   },
   {
    "duration": 7,
    "start_time": "2024-01-06T19:00:20.149Z"
   },
   {
    "duration": 5,
    "start_time": "2024-01-06T19:00:59.029Z"
   },
   {
    "duration": 3399,
    "start_time": "2024-01-06T19:01:06.077Z"
   },
   {
    "duration": 12,
    "start_time": "2024-01-06T19:03:05.329Z"
   },
   {
    "duration": 5,
    "start_time": "2024-01-06T19:03:12.904Z"
   },
   {
    "duration": 3445,
    "start_time": "2024-01-06T19:03:13.918Z"
   },
   {
    "duration": 19,
    "start_time": "2024-01-06T19:07:58.763Z"
   },
   {
    "duration": 4,
    "start_time": "2024-01-06T19:08:02.458Z"
   },
   {
    "duration": 3442,
    "start_time": "2024-01-06T19:08:03.186Z"
   },
   {
    "duration": 4,
    "start_time": "2024-01-06T19:08:19.251Z"
   },
   {
    "duration": 9,
    "start_time": "2024-01-06T19:08:25.890Z"
   },
   {
    "duration": 3,
    "start_time": "2024-01-06T19:08:40.728Z"
   },
   {
    "duration": 8,
    "start_time": "2024-01-06T19:08:44.042Z"
   },
   {
    "duration": 4,
    "start_time": "2024-01-06T19:11:35.356Z"
   },
   {
    "duration": 4,
    "start_time": "2024-01-06T19:11:40.173Z"
   },
   {
    "duration": 4,
    "start_time": "2024-01-06T19:11:43.125Z"
   },
   {
    "duration": 3,
    "start_time": "2024-01-06T19:12:29.662Z"
   },
   {
    "duration": 3,
    "start_time": "2024-01-06T19:12:33.285Z"
   },
   {
    "duration": 6,
    "start_time": "2024-01-06T19:13:36.422Z"
   },
   {
    "duration": 13,
    "start_time": "2024-01-06T19:13:50.503Z"
   },
   {
    "duration": 3,
    "start_time": "2024-01-06T19:18:46.346Z"
   },
   {
    "duration": 4,
    "start_time": "2024-01-06T19:18:52.945Z"
   },
   {
    "duration": 11,
    "start_time": "2024-01-06T19:19:27.588Z"
   },
   {
    "duration": 4,
    "start_time": "2024-01-06T19:22:06.229Z"
   },
   {
    "duration": 5,
    "start_time": "2024-01-06T19:22:17.606Z"
   },
   {
    "duration": 4,
    "start_time": "2024-01-06T19:22:51.742Z"
   },
   {
    "duration": 4,
    "start_time": "2024-01-06T19:23:01.238Z"
   },
   {
    "duration": 4,
    "start_time": "2024-01-06T19:23:30.166Z"
   },
   {
    "duration": 5,
    "start_time": "2024-01-06T19:24:53.417Z"
   },
   {
    "duration": 9,
    "start_time": "2024-01-06T19:26:58.074Z"
   },
   {
    "duration": 33136,
    "start_time": "2024-01-06T19:27:15.625Z"
   },
   {
    "duration": 3558,
    "start_time": "2024-01-06T19:27:53.017Z"
   },
   {
    "duration": 8,
    "start_time": "2024-01-06T19:27:57.795Z"
   },
   {
    "duration": 204426,
    "start_time": "2024-01-06T19:27:58.395Z"
   },
   {
    "duration": 5,
    "start_time": "2024-01-06T19:33:40.334Z"
   },
   {
    "duration": 6,
    "start_time": "2024-01-06T19:34:56.271Z"
   },
   {
    "duration": 6,
    "start_time": "2024-01-06T19:35:05.327Z"
   },
   {
    "duration": 3485,
    "start_time": "2024-01-06T19:35:06.031Z"
   },
   {
    "duration": 622,
    "start_time": "2024-01-06T19:35:32.548Z"
   },
   {
    "duration": 1289,
    "start_time": "2024-01-06T19:35:33.857Z"
   },
   {
    "duration": 21,
    "start_time": "2024-01-06T19:35:35.147Z"
   },
   {
    "duration": 5,
    "start_time": "2024-01-06T19:35:36.160Z"
   },
   {
    "duration": 4,
    "start_time": "2024-01-06T19:35:36.350Z"
   },
   {
    "duration": 5,
    "start_time": "2024-01-06T19:35:36.737Z"
   },
   {
    "duration": 5,
    "start_time": "2024-01-06T19:35:39.327Z"
   },
   {
    "duration": 1538,
    "start_time": "2024-01-06T19:35:39.775Z"
   },
   {
    "duration": 1864,
    "start_time": "2024-01-06T19:35:41.315Z"
   },
   {
    "duration": 9,
    "start_time": "2024-01-06T19:35:45.629Z"
   },
   {
    "duration": 3,
    "start_time": "2024-01-06T19:35:46.054Z"
   },
   {
    "duration": 411,
    "start_time": "2024-01-06T19:35:47.744Z"
   },
   {
    "duration": 1213,
    "start_time": "2024-01-06T19:35:50.052Z"
   },
   {
    "duration": 138,
    "start_time": "2024-01-06T19:35:53.638Z"
   },
   {
    "duration": 4531,
    "start_time": "2024-01-06T19:35:55.000Z"
   },
   {
    "duration": 2,
    "start_time": "2024-01-06T19:35:59.533Z"
   },
   {
    "duration": 17,
    "start_time": "2024-01-06T19:36:03.020Z"
   },
   {
    "duration": 106,
    "start_time": "2024-01-06T19:36:04.185Z"
   },
   {
    "duration": 3,
    "start_time": "2024-01-06T19:36:04.369Z"
   },
   {
    "duration": 12789,
    "start_time": "2024-01-06T19:36:06.513Z"
   },
   {
    "duration": 4978,
    "start_time": "2024-01-06T19:36:19.303Z"
   },
   {
    "duration": 5,
    "start_time": "2024-01-06T19:36:25.098Z"
   },
   {
    "duration": 109,
    "start_time": "2024-01-06T19:36:28.027Z"
   },
   {
    "duration": 124,
    "start_time": "2024-01-06T19:36:29.024Z"
   },
   {
    "duration": 77,
    "start_time": "2024-01-06T19:36:29.662Z"
   },
   {
    "duration": 4,
    "start_time": "2024-01-06T19:36:31.070Z"
   },
   {
    "duration": 1458,
    "start_time": "2024-01-06T19:36:31.918Z"
   },
   {
    "duration": 5,
    "start_time": "2024-01-06T19:36:35.943Z"
   },
   {
    "duration": 446586,
    "start_time": "2024-01-06T19:36:44.337Z"
   },
   {
    "duration": 5,
    "start_time": "2024-01-06T19:44:10.925Z"
   },
   {
    "duration": 5,
    "start_time": "2024-01-06T19:44:44.819Z"
   },
   {
    "duration": 3,
    "start_time": "2024-01-06T19:44:54.179Z"
   },
   {
    "duration": 4,
    "start_time": "2024-01-06T19:45:00.256Z"
   },
   {
    "duration": 243884,
    "start_time": "2024-01-06T19:45:05.645Z"
   },
   {
    "duration": 5,
    "start_time": "2024-01-06T19:50:36.726Z"
   },
   {
    "duration": 90,
    "start_time": "2024-01-06T19:53:17.892Z"
   },
   {
    "duration": 2,
    "start_time": "2024-01-06T19:53:21.940Z"
   },
   {
    "duration": 5,
    "start_time": "2024-01-06T19:53:30.009Z"
   },
   {
    "duration": 70,
    "start_time": "2024-01-06T19:53:42.181Z"
   },
   {
    "duration": 5,
    "start_time": "2024-01-06T19:53:49.792Z"
   },
   {
    "duration": 4,
    "start_time": "2024-01-06T19:53:55.627Z"
   },
   {
    "duration": 3,
    "start_time": "2024-01-06T19:54:14.319Z"
   },
   {
    "duration": 2,
    "start_time": "2024-01-06T19:54:15.488Z"
   },
   {
    "duration": 3,
    "start_time": "2024-01-06T19:54:15.765Z"
   },
   {
    "duration": 8,
    "start_time": "2024-01-06T19:55:23.410Z"
   },
   {
    "duration": 233,
    "start_time": "2024-01-06T19:56:09.489Z"
   },
   {
    "duration": 116,
    "start_time": "2024-01-06T19:56:26.508Z"
   },
   {
    "duration": 125,
    "start_time": "2024-01-06T19:56:27.723Z"
   },
   {
    "duration": 99,
    "start_time": "2024-01-06T19:56:28.025Z"
   },
   {
    "duration": 6,
    "start_time": "2024-01-06T19:56:29.326Z"
   },
   {
    "duration": 1624,
    "start_time": "2024-01-06T19:56:30.334Z"
   },
   {
    "duration": 9,
    "start_time": "2024-01-06T19:56:32.914Z"
   },
   {
    "duration": 115,
    "start_time": "2024-01-06T19:56:34.719Z"
   },
   {
    "duration": 23708,
    "start_time": "2024-01-06T19:57:26.109Z"
   },
   {
    "duration": 2,
    "start_time": "2024-01-06T19:58:11.075Z"
   },
   {
    "duration": 5,
    "start_time": "2024-01-06T19:58:17.733Z"
   },
   {
    "duration": 3,
    "start_time": "2024-01-06T20:23:38.570Z"
   },
   {
    "duration": 668,
    "start_time": "2024-01-06T20:23:46.189Z"
   },
   {
    "duration": 1164,
    "start_time": "2024-01-06T20:23:47.586Z"
   },
   {
    "duration": 20,
    "start_time": "2024-01-06T20:23:48.822Z"
   },
   {
    "duration": 5,
    "start_time": "2024-01-06T20:23:49.463Z"
   },
   {
    "duration": 10,
    "start_time": "2024-01-06T20:23:49.470Z"
   },
   {
    "duration": 9,
    "start_time": "2024-01-06T20:23:49.600Z"
   },
   {
    "duration": 8,
    "start_time": "2024-01-06T20:23:51.199Z"
   },
   {
    "duration": 1563,
    "start_time": "2024-01-06T20:23:51.715Z"
   },
   {
    "duration": 1857,
    "start_time": "2024-01-06T20:23:53.279Z"
   },
   {
    "duration": 16,
    "start_time": "2024-01-06T20:23:55.137Z"
   },
   {
    "duration": 13,
    "start_time": "2024-01-06T20:23:55.155Z"
   },
   {
    "duration": 457,
    "start_time": "2024-01-06T20:23:55.170Z"
   },
   {
    "duration": 1232,
    "start_time": "2024-01-06T20:23:55.629Z"
   },
   {
    "duration": 155,
    "start_time": "2024-01-06T20:23:56.863Z"
   },
   {
    "duration": 4703,
    "start_time": "2024-01-06T20:23:57.351Z"
   },
   {
    "duration": 2,
    "start_time": "2024-01-06T20:24:07.047Z"
   },
   {
    "duration": 27,
    "start_time": "2024-01-06T20:24:10.290Z"
   },
   {
    "duration": 97,
    "start_time": "2024-01-06T20:24:11.090Z"
   },
   {
    "duration": 4,
    "start_time": "2024-01-06T20:24:11.414Z"
   },
   {
    "duration": 13671,
    "start_time": "2024-01-06T20:24:14.139Z"
   },
   {
    "duration": 5203,
    "start_time": "2024-01-06T20:24:32.028Z"
   },
   {
    "duration": 2,
    "start_time": "2024-01-06T20:24:38.831Z"
   },
   {
    "duration": 121,
    "start_time": "2024-01-06T20:24:39.140Z"
   },
   {
    "duration": 125,
    "start_time": "2024-01-06T20:24:41.627Z"
   },
   {
    "duration": 68,
    "start_time": "2024-01-06T20:24:42.209Z"
   },
   {
    "duration": 5,
    "start_time": "2024-01-06T20:24:43.302Z"
   },
   {
    "duration": 1505,
    "start_time": "2024-01-06T20:24:45.413Z"
   },
   {
    "duration": 5,
    "start_time": "2024-01-06T20:24:47.943Z"
   },
   {
    "duration": 456940,
    "start_time": "2024-01-06T20:24:52.980Z"
   },
   {
    "duration": 6,
    "start_time": "2024-01-06T20:32:29.922Z"
   },
   {
    "duration": 4,
    "start_time": "2024-01-06T20:32:29.929Z"
   },
   {
    "duration": 12,
    "start_time": "2024-01-06T20:32:29.935Z"
   },
   {
    "duration": 8,
    "start_time": "2024-01-06T20:32:54.251Z"
   },
   {
    "duration": 3,
    "start_time": "2024-01-06T20:32:56.755Z"
   },
   {
    "duration": 4,
    "start_time": "2024-01-06T20:32:57.418Z"
   },
   {
    "duration": 214452,
    "start_time": "2024-01-06T20:33:03.375Z"
   },
   {
    "duration": 1038,
    "start_time": "2024-01-06T20:36:56.873Z"
   },
   {
    "duration": 13,
    "start_time": "2024-01-06T20:37:23.097Z"
   },
   {
    "duration": 4,
    "start_time": "2024-01-06T20:37:40.770Z"
   },
   {
    "duration": 16,
    "start_time": "2024-01-06T20:38:01.906Z"
   },
   {
    "duration": 18,
    "start_time": "2024-01-06T20:38:07.084Z"
   },
   {
    "duration": 6,
    "start_time": "2024-01-06T20:38:18.675Z"
   },
   {
    "duration": 7,
    "start_time": "2024-01-06T20:38:23.915Z"
   },
   {
    "duration": 6,
    "start_time": "2024-01-06T20:38:30.839Z"
   },
   {
    "duration": 5,
    "start_time": "2024-01-06T20:38:50.088Z"
   },
   {
    "duration": 4,
    "start_time": "2024-01-06T20:39:00.968Z"
   },
   {
    "duration": 11,
    "start_time": "2024-01-06T20:39:12.827Z"
   },
   {
    "duration": 5,
    "start_time": "2024-01-06T20:39:16.488Z"
   },
   {
    "duration": 4,
    "start_time": "2024-01-06T20:39:19.740Z"
   },
   {
    "duration": 221213,
    "start_time": "2024-01-06T20:40:12.282Z"
   },
   {
    "duration": 5,
    "start_time": "2024-01-06T20:44:08.683Z"
   },
   {
    "duration": 7,
    "start_time": "2024-01-06T20:44:28.408Z"
   },
   {
    "duration": 13,
    "start_time": "2024-01-06T20:44:37.299Z"
   },
   {
    "duration": 6,
    "start_time": "2024-01-06T20:44:43.912Z"
   },
   {
    "duration": 15,
    "start_time": "2024-01-06T20:45:07.768Z"
   },
   {
    "duration": 13,
    "start_time": "2024-01-06T20:45:24.859Z"
   },
   {
    "duration": 5,
    "start_time": "2024-01-06T20:47:02.233Z"
   },
   {
    "duration": 4,
    "start_time": "2024-01-06T20:48:05.160Z"
   },
   {
    "duration": 3,
    "start_time": "2024-01-06T20:48:31.764Z"
   },
   {
    "duration": 4,
    "start_time": "2024-01-06T20:48:37.421Z"
   },
   {
    "duration": 3,
    "start_time": "2024-01-06T20:48:46.142Z"
   },
   {
    "duration": 16403,
    "start_time": "2024-01-06T20:49:09.349Z"
   },
   {
    "duration": 3,
    "start_time": "2024-01-06T20:49:45.146Z"
   },
   {
    "duration": 16305,
    "start_time": "2024-01-06T20:49:58.264Z"
   },
   {
    "duration": 16224,
    "start_time": "2024-01-06T20:50:21.869Z"
   },
   {
    "duration": 16792,
    "start_time": "2024-01-06T20:53:00.592Z"
   },
   {
    "duration": 7,
    "start_time": "2024-01-06T20:53:36.244Z"
   },
   {
    "duration": 16587,
    "start_time": "2024-01-06T20:53:55.001Z"
   },
   {
    "duration": 15,
    "start_time": "2024-01-06T20:54:11.592Z"
   },
   {
    "duration": 25,
    "start_time": "2024-01-06T20:56:07.194Z"
   },
   {
    "duration": 74,
    "start_time": "2024-01-06T20:56:18.056Z"
   },
   {
    "duration": 6,
    "start_time": "2024-01-06T20:57:02.435Z"
   },
   {
    "duration": 4,
    "start_time": "2024-01-06T20:58:53.224Z"
   },
   {
    "duration": 3,
    "start_time": "2024-01-06T20:59:15.974Z"
   },
   {
    "duration": 4,
    "start_time": "2024-01-06T20:59:16.746Z"
   },
   {
    "duration": 16890,
    "start_time": "2024-01-06T20:59:20.287Z"
   },
   {
    "duration": 75,
    "start_time": "2024-01-06T20:59:40.999Z"
   },
   {
    "duration": 8838,
    "start_time": "2024-01-06T21:00:07.727Z"
   },
   {
    "duration": 19535,
    "start_time": "2024-01-06T21:00:24.677Z"
   },
   {
    "duration": 19783,
    "start_time": "2024-01-06T21:00:51.103Z"
   },
   {
    "duration": 8,
    "start_time": "2024-01-06T21:01:11.272Z"
   },
   {
    "duration": 659,
    "start_time": "2024-01-06T21:05:03.893Z"
   },
   {
    "duration": 1104,
    "start_time": "2024-01-06T21:05:05.321Z"
   },
   {
    "duration": 28,
    "start_time": "2024-01-06T21:05:06.502Z"
   },
   {
    "duration": 5,
    "start_time": "2024-01-06T21:05:07.605Z"
   },
   {
    "duration": 4,
    "start_time": "2024-01-06T21:05:08.157Z"
   },
   {
    "duration": 9,
    "start_time": "2024-01-06T21:05:08.589Z"
   },
   {
    "duration": 5,
    "start_time": "2024-01-06T21:05:11.475Z"
   },
   {
    "duration": 1535,
    "start_time": "2024-01-06T21:05:12.324Z"
   },
   {
    "duration": 1834,
    "start_time": "2024-01-06T21:05:13.861Z"
   },
   {
    "duration": 7,
    "start_time": "2024-01-06T21:05:20.038Z"
   },
   {
    "duration": 4,
    "start_time": "2024-01-06T21:05:20.781Z"
   },
   {
    "duration": 440,
    "start_time": "2024-01-06T21:05:22.210Z"
   },
   {
    "duration": 1192,
    "start_time": "2024-01-06T21:05:42.799Z"
   },
   {
    "duration": 138,
    "start_time": "2024-01-06T21:05:55.018Z"
   },
   {
    "duration": 4504,
    "start_time": "2024-01-06T21:05:57.296Z"
   },
   {
    "duration": 3,
    "start_time": "2024-01-06T21:06:05.539Z"
   },
   {
    "duration": 24,
    "start_time": "2024-01-06T21:06:11.181Z"
   },
   {
    "duration": 103,
    "start_time": "2024-01-06T21:06:23.277Z"
   },
   {
    "duration": 3,
    "start_time": "2024-01-06T21:06:24.726Z"
   },
   {
    "duration": 32082,
    "start_time": "2024-01-06T21:06:27.790Z"
   },
   {
    "duration": 584285,
    "start_time": "2024-01-06T21:07:03.530Z"
   },
   {
    "duration": 807,
    "start_time": "2024-01-06T21:18:38.056Z"
   },
   {
    "duration": 1168,
    "start_time": "2024-01-06T21:18:39.437Z"
   },
   {
    "duration": 21,
    "start_time": "2024-01-06T21:18:40.609Z"
   },
   {
    "duration": 5,
    "start_time": "2024-01-06T21:18:41.959Z"
   },
   {
    "duration": 5,
    "start_time": "2024-01-06T21:18:42.541Z"
   },
   {
    "duration": 8,
    "start_time": "2024-01-06T21:18:42.798Z"
   },
   {
    "duration": 9,
    "start_time": "2024-01-06T21:18:44.694Z"
   },
   {
    "duration": 1569,
    "start_time": "2024-01-06T21:18:45.253Z"
   },
   {
    "duration": 1729,
    "start_time": "2024-01-06T21:18:46.824Z"
   },
   {
    "duration": 7,
    "start_time": "2024-01-06T21:18:48.555Z"
   },
   {
    "duration": 26,
    "start_time": "2024-01-06T21:18:48.563Z"
   },
   {
    "duration": 423,
    "start_time": "2024-01-06T21:18:48.821Z"
   },
   {
    "duration": 1195,
    "start_time": "2024-01-06T21:18:51.158Z"
   },
   {
    "duration": 132,
    "start_time": "2024-01-06T21:18:53.709Z"
   },
   {
    "duration": 4170,
    "start_time": "2024-01-06T21:18:54.613Z"
   },
   {
    "duration": 8,
    "start_time": "2024-01-06T21:18:58.785Z"
   },
   {
    "duration": 16,
    "start_time": "2024-01-06T21:18:59.710Z"
   },
   {
    "duration": 114,
    "start_time": "2024-01-06T21:19:00.454Z"
   },
   {
    "duration": 4,
    "start_time": "2024-01-06T21:19:00.837Z"
   },
   {
    "duration": 490561,
    "start_time": "2024-01-06T21:19:01.478Z"
   },
   {
    "duration": 684,
    "start_time": "2024-01-06T21:28:41.052Z"
   },
   {
    "duration": 1220,
    "start_time": "2024-01-06T21:28:41.738Z"
   },
   {
    "duration": 20,
    "start_time": "2024-01-06T21:28:42.960Z"
   },
   {
    "duration": 19,
    "start_time": "2024-01-06T21:28:42.982Z"
   },
   {
    "duration": 5,
    "start_time": "2024-01-06T21:28:43.012Z"
   },
   {
    "duration": 5,
    "start_time": "2024-01-06T21:28:43.019Z"
   },
   {
    "duration": 11,
    "start_time": "2024-01-06T21:28:43.025Z"
   },
   {
    "duration": 2334,
    "start_time": "2024-01-06T21:28:43.037Z"
   },
   {
    "duration": 1784,
    "start_time": "2024-01-06T21:28:45.373Z"
   },
   {
    "duration": 6,
    "start_time": "2024-01-06T21:28:47.159Z"
   },
   {
    "duration": 7,
    "start_time": "2024-01-06T21:28:47.166Z"
   },
   {
    "duration": 434,
    "start_time": "2024-01-06T21:28:47.174Z"
   },
   {
    "duration": 1190,
    "start_time": "2024-01-06T21:28:47.610Z"
   },
   {
    "duration": 159,
    "start_time": "2024-01-06T21:28:48.803Z"
   },
   {
    "duration": 4587,
    "start_time": "2024-01-06T21:28:48.963Z"
   },
   {
    "duration": 3,
    "start_time": "2024-01-06T21:28:53.552Z"
   },
   {
    "duration": 20,
    "start_time": "2024-01-06T21:28:53.556Z"
   },
   {
    "duration": 123,
    "start_time": "2024-01-06T21:28:53.577Z"
   },
   {
    "duration": 5,
    "start_time": "2024-01-06T21:28:53.702Z"
   },
   {
    "duration": 690498,
    "start_time": "2024-01-06T21:28:53.708Z"
   },
   {
    "duration": 658991,
    "start_time": "2024-01-06T21:40:24.208Z"
   },
   {
    "duration": 3,
    "start_time": "2024-01-06T21:51:23.201Z"
   },
   {
    "duration": 117,
    "start_time": "2024-01-06T21:51:23.205Z"
   },
   {
    "duration": 143,
    "start_time": "2024-01-06T21:51:23.323Z"
   },
   {
    "duration": 81,
    "start_time": "2024-01-06T21:51:23.467Z"
   },
   {
    "duration": 3,
    "start_time": "2024-01-06T21:51:23.550Z"
   },
   {
    "duration": 1586,
    "start_time": "2024-01-06T21:51:23.555Z"
   },
   {
    "duration": 5,
    "start_time": "2024-01-06T21:51:25.142Z"
   },
   {
    "duration": 412576,
    "start_time": "2024-01-06T21:51:25.148Z"
   },
   {
    "duration": 6,
    "start_time": "2024-01-06T21:58:17.725Z"
   },
   {
    "duration": 9,
    "start_time": "2024-01-06T21:58:17.732Z"
   },
   {
    "duration": 4,
    "start_time": "2024-01-06T21:58:17.742Z"
   },
   {
    "duration": 3981579,
    "start_time": "2024-01-06T21:58:17.747Z"
   },
   {
    "duration": 5,
    "start_time": "2024-01-06T23:04:39.327Z"
   },
   {
    "duration": 18,
    "start_time": "2024-01-06T23:04:39.333Z"
   },
   {
    "duration": 52,
    "start_time": "2024-01-06T23:04:39.353Z"
   },
   {
    "duration": 5,
    "start_time": "2024-01-06T23:04:39.407Z"
   },
   {
    "duration": 10,
    "start_time": "2024-01-06T23:04:39.413Z"
   },
   {
    "duration": 15278,
    "start_time": "2024-01-06T23:04:39.429Z"
   },
   {
    "duration": 17906,
    "start_time": "2024-01-06T23:04:54.709Z"
   },
   {
    "duration": 7,
    "start_time": "2024-01-06T23:05:12.619Z"
   },
   {
    "duration": 5,
    "start_time": "2024-01-06T23:05:12.628Z"
   },
   {
    "duration": 5,
    "start_time": "2024-01-06T23:06:20.843Z"
   },
   {
    "duration": 17,
    "start_time": "2024-01-06T23:06:26.018Z"
   },
   {
    "duration": 13,
    "start_time": "2024-01-06T23:06:30.747Z"
   },
   {
    "duration": 3,
    "start_time": "2024-01-06T23:06:38.018Z"
   },
   {
    "duration": 6,
    "start_time": "2024-01-06T23:06:39.586Z"
   },
   {
    "duration": 215992,
    "start_time": "2024-01-06T23:06:42.722Z"
   },
   {
    "duration": 347621,
    "start_time": "2024-01-06T23:10:18.715Z"
   },
   {
    "duration": 55,
    "start_time": "2024-01-06T23:16:06.338Z"
   },
   {
    "duration": 621,
    "start_time": "2024-01-06T23:17:44.434Z"
   },
   {
    "duration": 1132,
    "start_time": "2024-01-06T23:17:45.057Z"
   },
   {
    "duration": 23,
    "start_time": "2024-01-06T23:17:46.191Z"
   },
   {
    "duration": 18,
    "start_time": "2024-01-06T23:17:46.215Z"
   },
   {
    "duration": 6,
    "start_time": "2024-01-06T23:17:46.235Z"
   },
   {
    "duration": 9,
    "start_time": "2024-01-06T23:17:46.242Z"
   },
   {
    "duration": 11,
    "start_time": "2024-01-06T23:17:46.252Z"
   },
   {
    "duration": 1439,
    "start_time": "2024-01-06T23:17:46.265Z"
   },
   {
    "duration": 1654,
    "start_time": "2024-01-06T23:17:47.706Z"
   },
   {
    "duration": 6,
    "start_time": "2024-01-06T23:17:49.362Z"
   },
   {
    "duration": 20,
    "start_time": "2024-01-06T23:17:49.369Z"
   },
   {
    "duration": 382,
    "start_time": "2024-01-06T23:17:49.390Z"
   },
   {
    "duration": 1054,
    "start_time": "2024-01-06T23:17:49.773Z"
   },
   {
    "duration": 129,
    "start_time": "2024-01-06T23:17:50.829Z"
   },
   {
    "duration": 3974,
    "start_time": "2024-01-06T23:17:50.960Z"
   },
   {
    "duration": 3,
    "start_time": "2024-01-06T23:17:54.936Z"
   },
   {
    "duration": 39,
    "start_time": "2024-01-06T23:17:54.941Z"
   },
   {
    "duration": 99,
    "start_time": "2024-01-06T23:17:54.982Z"
   },
   {
    "duration": 9,
    "start_time": "2024-01-06T23:17:55.083Z"
   },
   {
    "duration": 285701,
    "start_time": "2024-01-06T23:17:55.093Z"
   },
   {
    "duration": 228096,
    "start_time": "2024-01-06T23:22:40.797Z"
   },
   {
    "duration": 3,
    "start_time": "2024-01-06T23:26:28.895Z"
   },
   {
    "duration": 118,
    "start_time": "2024-01-06T23:26:28.899Z"
   },
   {
    "duration": 120,
    "start_time": "2024-01-06T23:26:29.018Z"
   },
   {
    "duration": 76,
    "start_time": "2024-01-06T23:26:29.140Z"
   },
   {
    "duration": 4,
    "start_time": "2024-01-06T23:26:29.217Z"
   },
   {
    "duration": 1221,
    "start_time": "2024-01-06T23:26:29.223Z"
   },
   {
    "duration": 4,
    "start_time": "2024-01-06T23:26:30.446Z"
   },
   {
    "duration": 402679,
    "start_time": "2024-01-06T23:26:30.451Z"
   },
   {
    "duration": 10,
    "start_time": "2024-01-06T23:33:13.191Z"
   },
   {
    "duration": 14,
    "start_time": "2024-01-06T23:33:13.203Z"
   },
   {
    "duration": 5,
    "start_time": "2024-01-06T23:33:13.218Z"
   },
   {
    "duration": 2336704,
    "start_time": "2024-01-06T23:33:13.224Z"
   },
   {
    "duration": 71,
    "start_time": "2024-01-07T00:12:09.929Z"
   },
   {
    "duration": 22,
    "start_time": "2024-01-07T00:12:10.004Z"
   },
   {
    "duration": 14,
    "start_time": "2024-01-07T00:12:10.027Z"
   },
   {
    "duration": 11,
    "start_time": "2024-01-07T00:12:10.042Z"
   },
   {
    "duration": 12,
    "start_time": "2024-01-07T00:12:10.055Z"
   },
   {
    "duration": 153443,
    "start_time": "2024-01-07T00:12:10.069Z"
   },
   {
    "duration": 200502,
    "start_time": "2024-01-07T00:14:43.513Z"
   },
   {
    "duration": 7,
    "start_time": "2024-01-07T00:18:04.019Z"
   },
   {
    "duration": 4,
    "start_time": "2024-01-07T11:17:14.023Z"
   },
   {
    "duration": 5,
    "start_time": "2024-01-07T11:17:15.264Z"
   },
   {
    "duration": 15,
    "start_time": "2024-01-07T11:17:31.816Z"
   },
   {
    "duration": 25467,
    "start_time": "2024-01-07T11:20:47.851Z"
   },
   {
    "duration": 27311,
    "start_time": "2024-01-07T11:24:27.494Z"
   },
   {
    "duration": 25604,
    "start_time": "2024-01-07T11:24:54.807Z"
   },
   {
    "duration": 17,
    "start_time": "2024-01-07T11:25:20.412Z"
   },
   {
    "duration": 5,
    "start_time": "2024-01-07T11:32:10.249Z"
   },
   {
    "duration": 5,
    "start_time": "2024-01-07T11:32:37.553Z"
   },
   {
    "duration": 3,
    "start_time": "2024-01-07T11:33:02.386Z"
   },
   {
    "duration": 5,
    "start_time": "2024-01-07T11:35:50.276Z"
   },
   {
    "duration": 3,
    "start_time": "2024-01-07T11:37:36.445Z"
   },
   {
    "duration": 95,
    "start_time": "2024-01-07T11:37:39.404Z"
   },
   {
    "duration": 3,
    "start_time": "2024-01-07T11:37:40.364Z"
   },
   {
    "duration": 746,
    "start_time": "2024-01-07T11:38:32.101Z"
   },
   {
    "duration": 1662,
    "start_time": "2024-01-07T11:38:34.413Z"
   },
   {
    "duration": 20,
    "start_time": "2024-01-07T11:38:36.077Z"
   },
   {
    "duration": 17,
    "start_time": "2024-01-07T11:38:36.099Z"
   },
   {
    "duration": 18,
    "start_time": "2024-01-07T11:38:36.117Z"
   },
   {
    "duration": 5,
    "start_time": "2024-01-07T11:38:36.285Z"
   },
   {
    "duration": 5,
    "start_time": "2024-01-07T11:38:37.733Z"
   },
   {
    "duration": 1445,
    "start_time": "2024-01-07T11:38:38.421Z"
   },
   {
    "duration": 1653,
    "start_time": "2024-01-07T11:38:39.868Z"
   },
   {
    "duration": 6,
    "start_time": "2024-01-07T11:38:41.523Z"
   },
   {
    "duration": 7,
    "start_time": "2024-01-07T11:38:41.531Z"
   },
   {
    "duration": 376,
    "start_time": "2024-01-07T11:38:42.500Z"
   },
   {
    "duration": 1071,
    "start_time": "2024-01-07T11:38:44.397Z"
   },
   {
    "duration": 124,
    "start_time": "2024-01-07T11:38:46.845Z"
   },
   {
    "duration": 4042,
    "start_time": "2024-01-07T11:38:47.757Z"
   },
   {
    "duration": 3,
    "start_time": "2024-01-07T11:38:51.801Z"
   },
   {
    "duration": 17,
    "start_time": "2024-01-07T11:38:53.045Z"
   },
   {
    "duration": 88,
    "start_time": "2024-01-07T11:38:53.812Z"
   },
   {
    "duration": 3,
    "start_time": "2024-01-07T11:38:55.276Z"
   },
   {
    "duration": 48122,
    "start_time": "2024-01-07T11:38:56.388Z"
   },
   {
    "duration": 38260,
    "start_time": "2024-01-07T11:40:38.045Z"
   },
   {
    "duration": 3,
    "start_time": "2024-01-07T11:41:16.308Z"
   },
   {
    "duration": 98,
    "start_time": "2024-01-07T11:41:25.774Z"
   },
   {
    "duration": 126,
    "start_time": "2024-01-07T11:41:28.575Z"
   },
   {
    "duration": 60,
    "start_time": "2024-01-07T11:41:29.079Z"
   },
   {
    "duration": 3,
    "start_time": "2024-01-07T11:41:31.391Z"
   },
   {
    "duration": 1481,
    "start_time": "2024-01-07T11:41:31.774Z"
   },
   {
    "duration": 5,
    "start_time": "2024-01-07T11:41:36.463Z"
   },
   {
    "duration": 207020,
    "start_time": "2024-01-07T11:41:38.998Z"
   },
   {
    "duration": 5,
    "start_time": "2024-01-07T11:45:23.313Z"
   },
   {
    "duration": 3,
    "start_time": "2024-01-07T11:45:26.313Z"
   },
   {
    "duration": 5,
    "start_time": "2024-01-07T11:45:27.056Z"
   },
   {
    "duration": 911415,
    "start_time": "2024-01-07T11:45:29.913Z"
   },
   {
    "duration": 4,
    "start_time": "2024-01-07T12:00:41.329Z"
   },
   {
    "duration": 5,
    "start_time": "2024-01-07T12:03:15.164Z"
   },
   {
    "duration": 88,
    "start_time": "2024-01-07T12:03:46.789Z"
   },
   {
    "duration": 22,
    "start_time": "2024-01-07T12:03:59.485Z"
   },
   {
    "duration": 70,
    "start_time": "2024-01-07T12:05:45.934Z"
   },
   {
    "duration": 63,
    "start_time": "2024-01-07T12:06:12.454Z"
   },
   {
    "duration": 68,
    "start_time": "2024-01-07T12:06:34.367Z"
   },
   {
    "duration": 16,
    "start_time": "2024-01-07T12:07:02.414Z"
   },
   {
    "duration": 633,
    "start_time": "2024-01-07T12:07:20.768Z"
   },
   {
    "duration": 575,
    "start_time": "2024-01-07T12:07:38.759Z"
   },
   {
    "duration": 62,
    "start_time": "2024-01-07T12:07:56.383Z"
   },
   {
    "duration": 529,
    "start_time": "2024-01-07T12:08:22.224Z"
   },
   {
    "duration": 512,
    "start_time": "2024-01-07T12:08:50.896Z"
   },
   {
    "duration": 16,
    "start_time": "2024-01-07T12:08:57.056Z"
   },
   {
    "duration": 69,
    "start_time": "2024-01-07T12:09:05.104Z"
   },
   {
    "duration": 6,
    "start_time": "2024-01-07T12:09:20.480Z"
   },
   {
    "duration": 4,
    "start_time": "2024-01-07T12:09:24.985Z"
   },
   {
    "duration": 87,
    "start_time": "2024-01-07T12:10:29.105Z"
   },
   {
    "duration": 685,
    "start_time": "2024-01-07T12:10:56.569Z"
   },
   {
    "duration": 507,
    "start_time": "2024-01-07T12:11:45.633Z"
   },
   {
    "duration": 71,
    "start_time": "2024-01-07T12:14:11.764Z"
   },
   {
    "duration": 16,
    "start_time": "2024-01-07T12:14:27.580Z"
   },
   {
    "duration": 9,
    "start_time": "2024-01-07T12:14:47.603Z"
   },
   {
    "duration": 14,
    "start_time": "2024-01-07T12:14:57.100Z"
   },
   {
    "duration": 5,
    "start_time": "2024-01-07T12:15:23.140Z"
   },
   {
    "duration": 15,
    "start_time": "2024-01-07T12:15:34.636Z"
   },
   {
    "duration": 12,
    "start_time": "2024-01-07T12:15:42.301Z"
   },
   {
    "duration": 16,
    "start_time": "2024-01-07T12:15:50.893Z"
   },
   {
    "duration": 10,
    "start_time": "2024-01-07T12:15:55.223Z"
   },
   {
    "duration": 91,
    "start_time": "2024-01-07T12:16:03.412Z"
   },
   {
    "duration": 539,
    "start_time": "2024-01-07T12:16:04.253Z"
   },
   {
    "duration": 556,
    "start_time": "2024-01-07T12:16:51.989Z"
   },
   {
    "duration": 521,
    "start_time": "2024-01-07T12:16:57.942Z"
   },
   {
    "duration": 3,
    "start_time": "2024-01-07T12:18:36.391Z"
   },
   {
    "duration": 3,
    "start_time": "2024-01-07T12:18:58.039Z"
   },
   {
    "duration": 17,
    "start_time": "2024-01-07T12:19:29.958Z"
   },
   {
    "duration": 3,
    "start_time": "2024-01-07T12:20:18.656Z"
   },
   {
    "duration": 4,
    "start_time": "2024-01-07T12:20:27.008Z"
   },
   {
    "duration": 26159,
    "start_time": "2024-01-07T12:21:08.848Z"
   },
   {
    "duration": 2518,
    "start_time": "2024-01-07T12:22:32.801Z"
   },
   {
    "duration": 70,
    "start_time": "2024-01-07T12:24:05.995Z"
   },
   {
    "duration": 2574,
    "start_time": "2024-01-07T12:24:20.402Z"
   },
   {
    "duration": 14,
    "start_time": "2024-01-07T12:24:59.282Z"
   },
   {
    "duration": 71,
    "start_time": "2024-01-07T12:25:03.971Z"
   },
   {
    "duration": 14,
    "start_time": "2024-01-07T12:27:04.196Z"
   },
   {
    "duration": 132,
    "start_time": "2024-01-07T12:27:51.309Z"
   },
   {
    "duration": 71,
    "start_time": "2024-01-07T12:28:04.180Z"
   },
   {
    "duration": 107,
    "start_time": "2024-01-07T12:28:23.325Z"
   },
   {
    "duration": 109,
    "start_time": "2024-01-07T12:28:51.557Z"
   },
   {
    "duration": 754,
    "start_time": "2024-01-07T12:28:52.446Z"
   },
   {
    "duration": 75,
    "start_time": "2024-01-07T12:28:55.101Z"
   },
   {
    "duration": 110304,
    "start_time": "2024-01-07T12:28:59.245Z"
   },
   {
    "duration": 109782,
    "start_time": "2024-01-07T12:31:49.071Z"
   },
   {
    "duration": 6,
    "start_time": "2024-01-07T12:37:48.891Z"
   },
   {
    "duration": 12,
    "start_time": "2024-01-07T12:37:54.203Z"
   },
   {
    "duration": 11,
    "start_time": "2024-01-07T12:38:44.412Z"
   },
   {
    "duration": 11,
    "start_time": "2024-01-07T12:38:56.853Z"
   },
   {
    "duration": 3295,
    "start_time": "2024-01-07T12:39:23.821Z"
   },
   {
    "duration": 84,
    "start_time": "2024-01-07T12:41:22.253Z"
   },
   {
    "duration": 659,
    "start_time": "2024-01-07T12:41:23.181Z"
   },
   {
    "duration": 3393,
    "start_time": "2024-01-07T12:41:27.486Z"
   },
   {
    "duration": 14,
    "start_time": "2024-01-07T12:41:44.693Z"
   },
   {
    "duration": 357587,
    "start_time": "2024-01-07T12:42:22.167Z"
   },
   {
    "duration": 119,
    "start_time": "2024-01-07T12:54:22.351Z"
   },
   {
    "duration": 3,
    "start_time": "2024-01-07T12:54:51.480Z"
   },
   {
    "duration": 7123,
    "start_time": "2024-01-07T12:54:51.485Z"
   },
   {
    "duration": 88,
    "start_time": "2024-01-07T12:55:31.295Z"
   },
   {
    "duration": 665,
    "start_time": "2024-01-07T12:55:32.303Z"
   },
   {
    "duration": 110925,
    "start_time": "2024-01-07T12:55:35.039Z"
   },
   {
    "duration": 843894,
    "start_time": "2024-01-07T12:59:59.490Z"
   },
   {
    "duration": 102,
    "start_time": "2024-01-07T13:44:33.277Z"
   },
   {
    "duration": 127,
    "start_time": "2024-01-07T13:44:34.324Z"
   },
   {
    "duration": 109781,
    "start_time": "2024-01-07T13:44:35.652Z"
   },
   {
    "duration": 161272,
    "start_time": "2024-01-07T13:46:50.870Z"
   },
   {
    "duration": 398797,
    "start_time": "2024-01-07T13:50:29.161Z"
   },
   {
    "duration": 110,
    "start_time": "2024-01-07T13:57:40.557Z"
   },
   {
    "duration": 2648,
    "start_time": "2024-01-07T13:57:41.741Z"
   },
   {
    "duration": 89,
    "start_time": "2024-01-07T13:57:55.957Z"
   },
   {
    "duration": 90,
    "start_time": "2024-01-07T13:58:03.581Z"
   },
   {
    "duration": 131,
    "start_time": "2024-01-07T13:58:15.261Z"
   },
   {
    "duration": 9040,
    "start_time": "2024-01-07T13:58:15.941Z"
   },
   {
    "duration": 14809,
    "start_time": "2024-01-07T14:00:26.063Z"
   },
   {
    "duration": 450047,
    "start_time": "2024-01-07T14:00:42.127Z"
   },
   {
    "duration": 6,
    "start_time": "2024-01-07T14:18:53.462Z"
   },
   {
    "duration": 649,
    "start_time": "2024-01-07T14:24:17.302Z"
   },
   {
    "duration": 1191,
    "start_time": "2024-01-07T14:24:17.952Z"
   },
   {
    "duration": 17,
    "start_time": "2024-01-07T14:24:19.144Z"
   },
   {
    "duration": 8,
    "start_time": "2024-01-07T14:24:19.162Z"
   },
   {
    "duration": 9,
    "start_time": "2024-01-07T14:24:19.172Z"
   },
   {
    "duration": 14,
    "start_time": "2024-01-07T14:24:19.182Z"
   },
   {
    "duration": 9,
    "start_time": "2024-01-07T14:24:19.197Z"
   },
   {
    "duration": 2162,
    "start_time": "2024-01-07T14:24:19.207Z"
   },
   {
    "duration": 1659,
    "start_time": "2024-01-07T14:24:21.371Z"
   },
   {
    "duration": 6,
    "start_time": "2024-01-07T14:24:23.032Z"
   },
   {
    "duration": 6,
    "start_time": "2024-01-07T14:24:23.039Z"
   },
   {
    "duration": 374,
    "start_time": "2024-01-07T14:24:23.047Z"
   },
   {
    "duration": 1072,
    "start_time": "2024-01-07T14:24:23.423Z"
   },
   {
    "duration": 130,
    "start_time": "2024-01-07T14:24:24.498Z"
   },
   {
    "duration": 3943,
    "start_time": "2024-01-07T14:24:24.630Z"
   },
   {
    "duration": 2,
    "start_time": "2024-01-07T14:24:28.575Z"
   },
   {
    "duration": 26,
    "start_time": "2024-01-07T14:24:28.578Z"
   },
   {
    "duration": 103,
    "start_time": "2024-01-07T14:24:28.605Z"
   },
   {
    "duration": 3,
    "start_time": "2024-01-07T14:24:28.710Z"
   },
   {
    "duration": 51599,
    "start_time": "2024-01-07T14:24:28.715Z"
   },
   {
    "duration": 39413,
    "start_time": "2024-01-07T14:25:20.393Z"
   },
   {
    "duration": 154,
    "start_time": "2024-01-07T14:25:59.807Z"
   },
   {
    "duration": 120,
    "start_time": "2024-01-07T14:25:59.963Z"
   },
   {
    "duration": 67,
    "start_time": "2024-01-07T14:26:00.085Z"
   },
   {
    "duration": 64,
    "start_time": "2024-01-07T14:26:00.153Z"
   },
   {
    "duration": 1489,
    "start_time": "2024-01-07T14:26:00.218Z"
   },
   {
    "duration": 5,
    "start_time": "2024-01-07T14:26:01.709Z"
   },
   {
    "duration": 89573,
    "start_time": "2024-01-07T14:26:01.715Z"
   },
   {
    "duration": 6,
    "start_time": "2024-01-07T14:27:31.289Z"
   },
   {
    "duration": 32,
    "start_time": "2024-01-07T14:27:31.297Z"
   },
   {
    "duration": 20,
    "start_time": "2024-01-07T14:27:31.331Z"
   },
   {
    "duration": 691,
    "start_time": "2024-01-07T14:27:51.654Z"
   },
   {
    "duration": 1028,
    "start_time": "2024-01-07T14:27:52.347Z"
   },
   {
    "duration": 20,
    "start_time": "2024-01-07T14:27:53.376Z"
   },
   {
    "duration": 11,
    "start_time": "2024-01-07T14:27:53.398Z"
   },
   {
    "duration": 19,
    "start_time": "2024-01-07T14:27:53.411Z"
   },
   {
    "duration": 14,
    "start_time": "2024-01-07T14:27:53.431Z"
   },
   {
    "duration": 7,
    "start_time": "2024-01-07T14:27:53.446Z"
   },
   {
    "duration": 1585,
    "start_time": "2024-01-07T14:27:53.454Z"
   },
   {
    "duration": 1928,
    "start_time": "2024-01-07T14:27:55.092Z"
   },
   {
    "duration": 7,
    "start_time": "2024-01-07T14:27:57.021Z"
   },
   {
    "duration": 17,
    "start_time": "2024-01-07T14:27:57.029Z"
   },
   {
    "duration": 412,
    "start_time": "2024-01-07T14:27:57.047Z"
   },
   {
    "duration": 1058,
    "start_time": "2024-01-07T14:27:57.460Z"
   },
   {
    "duration": 131,
    "start_time": "2024-01-07T14:27:58.521Z"
   },
   {
    "duration": 4041,
    "start_time": "2024-01-07T14:27:58.653Z"
   },
   {
    "duration": 3,
    "start_time": "2024-01-07T14:28:02.695Z"
   },
   {
    "duration": 37,
    "start_time": "2024-01-07T14:28:02.699Z"
   },
   {
    "duration": 111,
    "start_time": "2024-01-07T14:28:02.737Z"
   },
   {
    "duration": 2,
    "start_time": "2024-01-07T14:28:02.850Z"
   },
   {
    "duration": 49951,
    "start_time": "2024-01-07T14:28:02.854Z"
   },
   {
    "duration": 40100,
    "start_time": "2024-01-07T14:28:52.807Z"
   },
   {
    "duration": 168,
    "start_time": "2024-01-07T14:29:32.908Z"
   },
   {
    "duration": 111,
    "start_time": "2024-01-07T14:29:33.077Z"
   },
   {
    "duration": 61,
    "start_time": "2024-01-07T14:29:33.189Z"
   },
   {
    "duration": 3,
    "start_time": "2024-01-07T14:29:33.252Z"
   },
   {
    "duration": 1401,
    "start_time": "2024-01-07T14:29:33.257Z"
   },
   {
    "duration": 6,
    "start_time": "2024-01-07T14:29:34.660Z"
   },
   {
    "duration": 202754,
    "start_time": "2024-01-07T14:29:34.667Z"
   },
   {
    "duration": 74,
    "start_time": "2024-01-07T14:32:57.422Z"
   },
   {
    "duration": 18,
    "start_time": "2024-01-07T14:32:57.498Z"
   },
   {
    "duration": 15,
    "start_time": "2024-01-07T14:32:57.517Z"
   },
   {
    "duration": 935860,
    "start_time": "2024-01-07T14:32:57.533Z"
   },
   {
    "duration": 5,
    "start_time": "2024-01-07T14:48:33.394Z"
   },
   {
    "duration": 443087,
    "start_time": "2024-01-07T14:48:33.400Z"
   },
   {
    "duration": 18,
    "start_time": "2024-01-07T14:55:56.488Z"
   },
   {
    "duration": 28,
    "start_time": "2024-01-07T14:55:56.508Z"
   },
   {
    "duration": 27,
    "start_time": "2024-01-07T14:55:56.538Z"
   },
   {
    "duration": 14,
    "start_time": "2024-01-07T14:55:56.567Z"
   },
   {
    "duration": 105,
    "start_time": "2024-01-07T14:55:56.582Z"
   },
   {
    "duration": 26519,
    "start_time": "2024-01-07T14:55:56.688Z"
   },
   {
    "duration": 28610,
    "start_time": "2024-01-07T14:56:23.210Z"
   },
   {
    "duration": 87,
    "start_time": "2024-01-07T14:56:51.822Z"
   },
   {
    "duration": 2,
    "start_time": "2024-01-07T15:16:40.805Z"
   },
   {
    "duration": 3,
    "start_time": "2024-01-07T15:16:48.369Z"
   },
   {
    "duration": 3,
    "start_time": "2024-01-07T15:16:51.410Z"
   },
   {
    "duration": 2,
    "start_time": "2024-01-07T15:17:02.989Z"
   },
   {
    "duration": 3,
    "start_time": "2024-01-07T15:17:03.482Z"
   },
   {
    "duration": 4,
    "start_time": "2024-01-07T15:17:06.338Z"
   },
   {
    "duration": 3,
    "start_time": "2024-01-07T15:17:11.290Z"
   },
   {
    "duration": 392224,
    "start_time": "2024-01-07T15:20:07.189Z"
   },
   {
    "duration": 392527,
    "start_time": "2024-01-07T15:28:26.076Z"
   },
   {
    "duration": 405880,
    "start_time": "2024-01-07T15:35:38.921Z"
   },
   {
    "duration": 687,
    "start_time": "2024-01-07T15:43:14.669Z"
   },
   {
    "duration": 1345,
    "start_time": "2024-01-07T15:43:15.358Z"
   },
   {
    "duration": 19,
    "start_time": "2024-01-07T15:43:16.705Z"
   },
   {
    "duration": 6,
    "start_time": "2024-01-07T15:43:16.727Z"
   },
   {
    "duration": 57,
    "start_time": "2024-01-07T15:43:16.735Z"
   },
   {
    "duration": 10,
    "start_time": "2024-01-07T15:43:16.794Z"
   },
   {
    "duration": 10,
    "start_time": "2024-01-07T15:43:16.806Z"
   },
   {
    "duration": 1630,
    "start_time": "2024-01-07T15:43:16.817Z"
   },
   {
    "duration": 1795,
    "start_time": "2024-01-07T15:43:18.449Z"
   },
   {
    "duration": 7,
    "start_time": "2024-01-07T15:43:20.247Z"
   },
   {
    "duration": 11,
    "start_time": "2024-01-07T15:43:20.255Z"
   },
   {
    "duration": 449,
    "start_time": "2024-01-07T15:43:20.267Z"
   },
   {
    "duration": 1176,
    "start_time": "2024-01-07T15:43:20.718Z"
   },
   {
    "duration": 136,
    "start_time": "2024-01-07T15:43:21.896Z"
   },
   {
    "duration": 4412,
    "start_time": "2024-01-07T15:43:22.033Z"
   },
   {
    "duration": 2,
    "start_time": "2024-01-07T15:43:26.447Z"
   },
   {
    "duration": 26,
    "start_time": "2024-01-07T15:43:26.450Z"
   },
   {
    "duration": 116,
    "start_time": "2024-01-07T15:43:26.478Z"
   },
   {
    "duration": 4,
    "start_time": "2024-01-07T15:43:26.595Z"
   },
   {
    "duration": 54806,
    "start_time": "2024-01-07T15:43:26.601Z"
   },
   {
    "duration": 43599,
    "start_time": "2024-01-07T15:44:21.409Z"
   },
   {
    "duration": 216,
    "start_time": "2024-01-07T15:45:05.009Z"
   },
   {
    "duration": 142,
    "start_time": "2024-01-07T15:45:05.226Z"
   },
   {
    "duration": 67,
    "start_time": "2024-01-07T15:45:05.370Z"
   },
   {
    "duration": 4,
    "start_time": "2024-01-07T15:45:05.439Z"
   },
   {
    "duration": 1774,
    "start_time": "2024-01-07T15:45:05.444Z"
   },
   {
    "duration": 5,
    "start_time": "2024-01-07T15:45:07.219Z"
   },
   {
    "duration": 236294,
    "start_time": "2024-01-07T15:45:07.228Z"
   },
   {
    "duration": 6,
    "start_time": "2024-01-07T15:49:03.524Z"
   },
   {
    "duration": 45,
    "start_time": "2024-01-07T15:49:03.531Z"
   },
   {
    "duration": 4,
    "start_time": "2024-01-07T15:49:03.592Z"
   },
   {
    "duration": 921229,
    "start_time": "2024-01-07T15:49:03.597Z"
   },
   {
    "duration": 5,
    "start_time": "2024-01-07T16:04:24.828Z"
   },
   {
    "duration": 362951,
    "start_time": "2024-01-07T16:04:24.835Z"
   },
   {
    "duration": 20,
    "start_time": "2024-01-07T16:10:27.787Z"
   },
   {
    "duration": 20,
    "start_time": "2024-01-07T16:10:27.809Z"
   },
   {
    "duration": 21,
    "start_time": "2024-01-07T16:10:27.831Z"
   },
   {
    "duration": 28,
    "start_time": "2024-01-07T16:10:27.853Z"
   },
   {
    "duration": 22,
    "start_time": "2024-01-07T16:10:27.883Z"
   },
   {
    "duration": 41413,
    "start_time": "2024-01-07T16:10:27.906Z"
   },
   {
    "duration": 19084,
    "start_time": "2024-01-07T16:11:09.321Z"
   },
   {
    "duration": 21,
    "start_time": "2024-01-07T16:11:28.406Z"
   },
   {
    "duration": 204,
    "start_time": "2024-01-07T16:11:28.430Z"
   },
   {
    "duration": 0,
    "start_time": "2024-01-07T16:11:28.637Z"
   },
   {
    "duration": 98,
    "start_time": "2024-01-07T16:12:00.701Z"
   },
   {
    "duration": 19,
    "start_time": "2024-01-07T16:12:39.427Z"
   },
   {
    "duration": 731,
    "start_time": "2024-01-07T16:19:20.034Z"
   },
   {
    "duration": 1181,
    "start_time": "2024-01-07T16:19:20.767Z"
   },
   {
    "duration": 18,
    "start_time": "2024-01-07T16:19:21.950Z"
   },
   {
    "duration": 8,
    "start_time": "2024-01-07T16:19:21.969Z"
   },
   {
    "duration": 24,
    "start_time": "2024-01-07T16:19:21.979Z"
   },
   {
    "duration": 8,
    "start_time": "2024-01-07T16:19:22.004Z"
   },
   {
    "duration": 7,
    "start_time": "2024-01-07T16:19:22.013Z"
   },
   {
    "duration": 2405,
    "start_time": "2024-01-07T16:19:22.021Z"
   },
   {
    "duration": 1890,
    "start_time": "2024-01-07T16:19:24.428Z"
   },
   {
    "duration": 7,
    "start_time": "2024-01-07T16:19:26.320Z"
   },
   {
    "duration": 14,
    "start_time": "2024-01-07T16:19:26.328Z"
   },
   {
    "duration": 453,
    "start_time": "2024-01-07T16:19:26.344Z"
   },
   {
    "duration": 1204,
    "start_time": "2024-01-07T16:19:26.799Z"
   },
   {
    "duration": 154,
    "start_time": "2024-01-07T16:19:28.007Z"
   },
   {
    "duration": 4635,
    "start_time": "2024-01-07T16:19:28.163Z"
   },
   {
    "duration": 3,
    "start_time": "2024-01-07T16:19:32.800Z"
   },
   {
    "duration": 93,
    "start_time": "2024-01-07T16:19:32.804Z"
   },
   {
    "duration": 121,
    "start_time": "2024-01-07T16:19:32.899Z"
   },
   {
    "duration": 4,
    "start_time": "2024-01-07T16:19:33.021Z"
   },
   {
    "duration": 64678,
    "start_time": "2024-01-07T16:19:33.026Z"
   },
   {
    "duration": 51807,
    "start_time": "2024-01-07T16:20:37.705Z"
   },
   {
    "duration": 189,
    "start_time": "2024-01-07T16:21:29.514Z"
   },
   {
    "duration": 133,
    "start_time": "2024-01-07T16:21:29.704Z"
   },
   {
    "duration": 76,
    "start_time": "2024-01-07T16:21:29.839Z"
   },
   {
    "duration": 5,
    "start_time": "2024-01-07T16:21:29.916Z"
   },
   {
    "duration": 1672,
    "start_time": "2024-01-07T16:21:29.922Z"
   },
   {
    "duration": 4,
    "start_time": "2024-01-07T16:21:31.596Z"
   },
   {
    "duration": 241812,
    "start_time": "2024-01-07T16:21:31.602Z"
   },
   {
    "duration": 6,
    "start_time": "2024-01-07T16:25:33.415Z"
   },
   {
    "duration": 6,
    "start_time": "2024-01-07T16:25:33.423Z"
   },
   {
    "duration": 5,
    "start_time": "2024-01-07T16:25:33.430Z"
   },
   {
    "duration": 1031658,
    "start_time": "2024-01-07T16:25:33.437Z"
   },
   {
    "duration": 5,
    "start_time": "2024-01-07T16:42:45.096Z"
   },
   {
    "duration": 449696,
    "start_time": "2024-01-07T16:42:45.103Z"
   },
   {
    "duration": 17,
    "start_time": "2024-01-07T16:50:14.801Z"
   },
   {
    "duration": 15,
    "start_time": "2024-01-07T16:50:14.819Z"
   },
   {
    "duration": 4,
    "start_time": "2024-01-07T16:50:14.836Z"
   },
   {
    "duration": 50,
    "start_time": "2024-01-07T16:50:14.842Z"
   },
   {
    "duration": 16,
    "start_time": "2024-01-07T16:50:14.894Z"
   },
   {
    "duration": 30697,
    "start_time": "2024-01-07T16:50:14.911Z"
   },
   {
    "duration": 36507,
    "start_time": "2024-01-07T16:50:45.612Z"
   },
   {
    "duration": 75,
    "start_time": "2024-01-07T16:51:22.121Z"
   },
   {
    "duration": 14,
    "start_time": "2024-01-08T17:36:42.200Z"
   },
   {
    "duration": 3,
    "start_time": "2024-01-08T17:36:48.238Z"
   },
   {
    "duration": 6,
    "start_time": "2024-01-08T18:01:58.199Z"
   },
   {
    "duration": 911,
    "start_time": "2024-01-08T18:02:06.632Z"
   },
   {
    "duration": 12839,
    "start_time": "2024-01-08T18:02:14.519Z"
   },
   {
    "duration": 7396,
    "start_time": "2024-01-08T18:03:47.723Z"
   },
   {
    "duration": 2746,
    "start_time": "2024-01-08T18:04:17.217Z"
   },
   {
    "duration": 2730,
    "start_time": "2024-01-08T18:04:33.080Z"
   },
   {
    "duration": 2741,
    "start_time": "2024-01-08T18:04:39.273Z"
   },
   {
    "duration": 75,
    "start_time": "2024-01-08T18:05:58.426Z"
   },
   {
    "duration": 808,
    "start_time": "2024-01-08T18:06:02.242Z"
   },
   {
    "duration": 5580,
    "start_time": "2024-01-08T18:06:11.058Z"
   },
   {
    "duration": 4384,
    "start_time": "2024-01-08T18:06:33.923Z"
   },
   {
    "duration": 1194,
    "start_time": "2024-01-08T18:07:23.762Z"
   },
   {
    "duration": 2709,
    "start_time": "2024-01-08T18:07:40.179Z"
   },
   {
    "duration": 3869,
    "start_time": "2024-01-08T18:07:45.995Z"
   },
   {
    "duration": 1056,
    "start_time": "2024-01-08T18:09:28.524Z"
   },
   {
    "duration": 1045,
    "start_time": "2024-01-08T18:09:34.141Z"
   },
   {
    "duration": 1033,
    "start_time": "2024-01-08T18:09:39.452Z"
   },
   {
    "duration": 1027,
    "start_time": "2024-01-08T18:09:47.677Z"
   },
   {
    "duration": 2626,
    "start_time": "2024-01-08T18:10:17.445Z"
   },
   {
    "duration": 3,
    "start_time": "2024-01-08T18:20:03.339Z"
   },
   {
    "duration": 599,
    "start_time": "2024-01-08T18:22:11.330Z"
   },
   {
    "duration": 4,
    "start_time": "2024-01-08T18:22:18.233Z"
   },
   {
    "duration": 1236,
    "start_time": "2024-01-08T18:22:20.159Z"
   },
   {
    "duration": 17,
    "start_time": "2024-01-08T18:22:21.397Z"
   },
   {
    "duration": 5,
    "start_time": "2024-01-08T18:22:22.815Z"
   },
   {
    "duration": 3,
    "start_time": "2024-01-08T18:22:23.544Z"
   },
   {
    "duration": 6,
    "start_time": "2024-01-08T18:22:23.903Z"
   },
   {
    "duration": 5,
    "start_time": "2024-01-08T18:22:26.544Z"
   },
   {
    "duration": 1439,
    "start_time": "2024-01-08T18:22:27.368Z"
   },
   {
    "duration": 1647,
    "start_time": "2024-01-08T18:22:28.834Z"
   },
   {
    "duration": 4,
    "start_time": "2024-01-08T18:22:32.255Z"
   },
   {
    "duration": 5,
    "start_time": "2024-01-08T18:22:36.582Z"
   },
   {
    "duration": 4,
    "start_time": "2024-01-08T18:22:37.086Z"
   },
   {
    "duration": 367,
    "start_time": "2024-01-08T18:22:38.895Z"
   },
   {
    "duration": 1070,
    "start_time": "2024-01-08T18:22:41.776Z"
   },
   {
    "duration": 135,
    "start_time": "2024-01-08T18:22:45.999Z"
   },
   {
    "duration": 4113,
    "start_time": "2024-01-08T18:22:46.527Z"
   },
   {
    "duration": 2,
    "start_time": "2024-01-08T18:22:50.642Z"
   },
   {
    "duration": 17,
    "start_time": "2024-01-08T18:23:01.704Z"
   },
   {
    "duration": 89,
    "start_time": "2024-01-08T18:23:08.887Z"
   },
   {
    "duration": 2,
    "start_time": "2024-01-08T18:23:10.192Z"
   },
   {
    "duration": 54143,
    "start_time": "2024-01-08T18:23:10.856Z"
   },
   {
    "duration": 6,
    "start_time": "2024-01-08T18:24:48.162Z"
   },
   {
    "duration": 5,
    "start_time": "2024-01-08T18:24:50.681Z"
   },
   {
    "duration": 1447,
    "start_time": "2024-01-08T18:24:51.017Z"
   },
   {
    "duration": 1562,
    "start_time": "2024-01-08T18:24:52.466Z"
   },
   {
    "duration": 5,
    "start_time": "2024-01-08T18:24:54.029Z"
   },
   {
    "duration": 8,
    "start_time": "2024-01-08T18:24:54.035Z"
   },
   {
    "duration": 5,
    "start_time": "2024-01-08T18:24:54.045Z"
   },
   {
    "duration": 356,
    "start_time": "2024-01-08T18:24:54.585Z"
   },
   {
    "duration": 1013,
    "start_time": "2024-01-08T18:24:56.073Z"
   },
   {
    "duration": 118,
    "start_time": "2024-01-08T18:24:58.081Z"
   },
   {
    "duration": 3991,
    "start_time": "2024-01-08T18:24:58.810Z"
   },
   {
    "duration": 2,
    "start_time": "2024-01-08T18:25:02.803Z"
   },
   {
    "duration": 16,
    "start_time": "2024-01-08T18:25:03.457Z"
   },
   {
    "duration": 109,
    "start_time": "2024-01-08T18:25:03.857Z"
   },
   {
    "duration": 3,
    "start_time": "2024-01-08T18:25:05.049Z"
   },
   {
    "duration": 26050,
    "start_time": "2024-01-08T18:25:05.433Z"
   },
   {
    "duration": 5,
    "start_time": "2024-01-08T18:26:53.443Z"
   },
   {
    "duration": 5,
    "start_time": "2024-01-08T18:27:13.602Z"
   },
   {
    "duration": 1254,
    "start_time": "2024-01-08T18:27:13.908Z"
   },
   {
    "duration": 1576,
    "start_time": "2024-01-08T18:27:15.164Z"
   },
   {
    "duration": 4,
    "start_time": "2024-01-08T18:27:16.742Z"
   },
   {
    "duration": 16,
    "start_time": "2024-01-08T18:27:16.747Z"
   },
   {
    "duration": 24,
    "start_time": "2024-01-08T18:27:16.764Z"
   },
   {
    "duration": 452,
    "start_time": "2024-01-08T18:27:16.789Z"
   },
   {
    "duration": 1013,
    "start_time": "2024-01-08T18:27:17.508Z"
   },
   {
    "duration": 123,
    "start_time": "2024-01-08T18:27:19.458Z"
   },
   {
    "duration": 3971,
    "start_time": "2024-01-08T18:27:20.026Z"
   },
   {
    "duration": 1,
    "start_time": "2024-01-08T18:27:23.999Z"
   },
   {
    "duration": 17,
    "start_time": "2024-01-08T18:27:24.531Z"
   },
   {
    "duration": 109,
    "start_time": "2024-01-08T18:27:24.995Z"
   },
   {
    "duration": 4,
    "start_time": "2024-01-08T18:27:25.738Z"
   },
   {
    "duration": 53582,
    "start_time": "2024-01-08T18:27:26.228Z"
   },
   {
    "duration": 6,
    "start_time": "2024-01-08T18:46:44.673Z"
   },
   {
    "duration": 55426,
    "start_time": "2024-01-08T18:46:56.585Z"
   },
   {
    "duration": 4,
    "start_time": "2024-01-08T18:48:44.601Z"
   },
   {
    "duration": 5,
    "start_time": "2024-01-08T18:48:44.969Z"
   },
   {
    "duration": 7,
    "start_time": "2024-01-08T18:48:46.633Z"
   },
   {
    "duration": 1702,
    "start_time": "2024-01-08T18:48:46.898Z"
   },
   {
    "duration": 1568,
    "start_time": "2024-01-08T18:48:48.602Z"
   },
   {
    "duration": 4,
    "start_time": "2024-01-08T18:48:50.172Z"
   },
   {
    "duration": 15,
    "start_time": "2024-01-08T18:48:50.177Z"
   },
   {
    "duration": 4,
    "start_time": "2024-01-08T18:48:50.193Z"
   },
   {
    "duration": 373,
    "start_time": "2024-01-08T18:48:50.539Z"
   },
   {
    "duration": 1047,
    "start_time": "2024-01-08T18:48:51.586Z"
   },
   {
    "duration": 119,
    "start_time": "2024-01-08T18:48:53.618Z"
   },
   {
    "duration": 4356,
    "start_time": "2024-01-08T18:48:54.321Z"
   },
   {
    "duration": 2,
    "start_time": "2024-01-08T18:48:58.679Z"
   },
   {
    "duration": 17,
    "start_time": "2024-01-08T18:48:59.642Z"
   },
   {
    "duration": 114,
    "start_time": "2024-01-08T18:49:00.121Z"
   },
   {
    "duration": 3,
    "start_time": "2024-01-08T18:49:00.562Z"
   },
   {
    "duration": 32847,
    "start_time": "2024-01-08T18:49:01.346Z"
   },
   {
    "duration": 38515,
    "start_time": "2024-01-08T18:49:38.098Z"
   },
   {
    "duration": 45342,
    "start_time": "2024-01-08T18:50:19.259Z"
   },
   {
    "duration": 7,
    "start_time": "2024-01-08T18:52:27.565Z"
   },
   {
    "duration": 25,
    "start_time": "2024-01-08T19:00:54.746Z"
   },
   {
    "duration": 5,
    "start_time": "2024-01-08T19:01:06.018Z"
   },
   {
    "duration": 4,
    "start_time": "2024-01-08T19:01:12.050Z"
   },
   {
    "duration": 10,
    "start_time": "2024-01-08T19:01:45.802Z"
   },
   {
    "duration": 4,
    "start_time": "2024-01-08T19:01:50.938Z"
   },
   {
    "duration": 7,
    "start_time": "2024-01-08T19:04:50.500Z"
   },
   {
    "duration": 6,
    "start_time": "2024-01-08T19:08:58.024Z"
   },
   {
    "duration": 5,
    "start_time": "2024-01-08T19:11:25.833Z"
   },
   {
    "duration": 63,
    "start_time": "2024-01-08T19:11:44.049Z"
   },
   {
    "duration": 69,
    "start_time": "2024-01-08T19:11:49.945Z"
   },
   {
    "duration": 5,
    "start_time": "2024-01-08T19:12:07.458Z"
   },
   {
    "duration": 4,
    "start_time": "2024-01-08T19:12:53.002Z"
   },
   {
    "duration": 5,
    "start_time": "2024-01-08T19:13:05.947Z"
   },
   {
    "duration": 4,
    "start_time": "2024-01-08T19:13:12.771Z"
   },
   {
    "duration": 4,
    "start_time": "2024-01-08T19:13:29.274Z"
   },
   {
    "duration": 5,
    "start_time": "2024-01-08T19:13:30.059Z"
   },
   {
    "duration": 4,
    "start_time": "2024-01-08T19:13:30.418Z"
   },
   {
    "duration": 401,
    "start_time": "2024-01-08T19:13:34.891Z"
   },
   {
    "duration": 50,
    "start_time": "2024-01-08T19:13:38.875Z"
   },
   {
    "duration": 50,
    "start_time": "2024-01-08T19:14:02.019Z"
   },
   {
    "duration": 1089,
    "start_time": "2024-01-08T19:14:21.684Z"
   },
   {
    "duration": 4,
    "start_time": "2024-01-08T19:14:47.603Z"
   },
   {
    "duration": 53,
    "start_time": "2024-01-08T19:14:54.148Z"
   },
   {
    "duration": 13,
    "start_time": "2024-01-08T19:15:35.271Z"
   },
   {
    "duration": 131,
    "start_time": "2024-01-08T19:16:12.037Z"
   },
   {
    "duration": 14,
    "start_time": "2024-01-08T19:16:16.566Z"
   },
   {
    "duration": 5,
    "start_time": "2024-01-08T19:19:12.231Z"
   },
   {
    "duration": 16,
    "start_time": "2024-01-08T19:19:17.670Z"
   },
   {
    "duration": 4,
    "start_time": "2024-01-08T19:19:49.128Z"
   },
   {
    "duration": 5,
    "start_time": "2024-01-08T19:19:50.895Z"
   },
   {
    "duration": 20,
    "start_time": "2024-01-08T19:19:54.543Z"
   },
   {
    "duration": 5,
    "start_time": "2024-01-08T19:20:22.278Z"
   },
   {
    "duration": 12,
    "start_time": "2024-01-08T19:20:27.954Z"
   },
   {
    "duration": 22,
    "start_time": "2024-01-08T19:21:58.992Z"
   },
   {
    "duration": 40,
    "start_time": "2024-01-08T19:22:21.377Z"
   },
   {
    "duration": 27,
    "start_time": "2024-01-08T19:22:25.217Z"
   },
   {
    "duration": 25,
    "start_time": "2024-01-08T19:22:34.097Z"
   },
   {
    "duration": 4,
    "start_time": "2024-01-08T19:23:34.473Z"
   },
   {
    "duration": 24,
    "start_time": "2024-01-08T19:23:42.003Z"
   },
   {
    "duration": 4,
    "start_time": "2024-01-08T19:24:16.121Z"
   },
   {
    "duration": 5,
    "start_time": "2024-01-08T19:24:17.081Z"
   },
   {
    "duration": 4,
    "start_time": "2024-01-08T19:24:17.993Z"
   },
   {
    "duration": 23,
    "start_time": "2024-01-08T19:24:22.642Z"
   },
   {
    "duration": 4,
    "start_time": "2024-01-08T19:24:38.097Z"
   },
   {
    "duration": 30,
    "start_time": "2024-01-08T19:24:42.225Z"
   },
   {
    "duration": 73,
    "start_time": "2024-01-08T19:34:48.928Z"
   },
   {
    "duration": 82,
    "start_time": "2024-01-08T19:35:06.855Z"
   },
   {
    "duration": 4,
    "start_time": "2024-01-08T19:35:13.320Z"
   },
   {
    "duration": 15,
    "start_time": "2024-01-08T19:35:17.928Z"
   },
   {
    "duration": 23,
    "start_time": "2024-01-08T19:37:32.898Z"
   },
   {
    "duration": 1031,
    "start_time": "2024-01-08T19:38:09.674Z"
   },
   {
    "duration": 14,
    "start_time": "2024-01-08T19:38:17.403Z"
   },
   {
    "duration": 4,
    "start_time": "2024-01-08T19:38:32.250Z"
   },
   {
    "duration": 21,
    "start_time": "2024-01-08T19:38:38.474Z"
   },
   {
    "duration": 9,
    "start_time": "2024-01-08T19:40:03.162Z"
   },
   {
    "duration": 20,
    "start_time": "2024-01-08T19:40:04.651Z"
   },
   {
    "duration": 9,
    "start_time": "2024-01-08T19:40:20.652Z"
   },
   {
    "duration": 10,
    "start_time": "2024-01-08T19:40:41.363Z"
   },
   {
    "duration": 67,
    "start_time": "2024-01-08T19:42:51.229Z"
   },
   {
    "duration": 10,
    "start_time": "2024-01-08T19:43:04.133Z"
   },
   {
    "duration": 12,
    "start_time": "2024-01-08T19:47:22.841Z"
   },
   {
    "duration": 10,
    "start_time": "2024-01-08T19:47:45.984Z"
   },
   {
    "duration": 12,
    "start_time": "2024-01-08T19:49:25.457Z"
   },
   {
    "duration": 24,
    "start_time": "2024-01-08T19:49:27.609Z"
   },
   {
    "duration": 11,
    "start_time": "2024-01-08T19:49:51.769Z"
   },
   {
    "duration": 536,
    "start_time": "2024-01-08T19:52:17.667Z"
   },
   {
    "duration": 23,
    "start_time": "2024-01-08T19:52:23.539Z"
   },
   {
    "duration": 500,
    "start_time": "2024-01-08T19:52:34.467Z"
   },
   {
    "duration": 23,
    "start_time": "2024-01-08T19:52:35.379Z"
   },
   {
    "duration": 2569,
    "start_time": "2024-01-08T19:52:45.102Z"
   },
   {
    "duration": 10,
    "start_time": "2024-01-08T19:55:03.893Z"
   },
   {
    "duration": 10,
    "start_time": "2024-01-08T19:56:19.029Z"
   },
   {
    "duration": 653,
    "start_time": "2024-01-08T19:57:19.166Z"
   },
   {
    "duration": 4,
    "start_time": "2024-01-08T19:57:29.374Z"
   },
   {
    "duration": 22,
    "start_time": "2024-01-08T19:57:33.702Z"
   },
   {
    "duration": 1291,
    "start_time": "2024-01-08T20:00:59.313Z"
   },
   {
    "duration": 1647,
    "start_time": "2024-01-08T20:06:39.189Z"
   },
   {
    "duration": 50,
    "start_time": "2024-01-08T20:09:24.334Z"
   },
   {
    "duration": 33,
    "start_time": "2024-01-08T20:09:54.327Z"
   },
   {
    "duration": 100,
    "start_time": "2024-01-08T20:09:58.751Z"
   },
   {
    "duration": 9,
    "start_time": "2024-01-08T20:11:39.168Z"
   },
   {
    "duration": 93,
    "start_time": "2024-01-08T20:11:43.271Z"
   },
   {
    "duration": 1059,
    "start_time": "2024-01-08T20:12:24.488Z"
   },
   {
    "duration": 16,
    "start_time": "2024-01-08T20:12:41.744Z"
   },
   {
    "duration": 1094,
    "start_time": "2024-01-08T20:12:52.633Z"
   },
   {
    "duration": 3,
    "start_time": "2024-01-08T20:14:53.309Z"
   },
   {
    "duration": 3,
    "start_time": "2024-01-08T20:15:02.618Z"
   },
   {
    "duration": 4,
    "start_time": "2024-01-08T20:15:44.914Z"
   },
   {
    "duration": 35,
    "start_time": "2024-01-08T20:16:24.707Z"
   },
   {
    "duration": 55,
    "start_time": "2024-01-08T20:16:37.219Z"
   },
   {
    "duration": 1174,
    "start_time": "2024-01-08T20:16:59.099Z"
   },
   {
    "duration": 23,
    "start_time": "2024-01-08T20:17:35.627Z"
   },
   {
    "duration": 4,
    "start_time": "2024-01-08T20:17:37.035Z"
   },
   {
    "duration": 377,
    "start_time": "2024-01-08T20:17:39.235Z"
   },
   {
    "duration": 1032,
    "start_time": "2024-01-08T20:17:41.493Z"
   },
   {
    "duration": 3,
    "start_time": "2024-01-08T20:18:15.524Z"
   },
   {
    "duration": 411,
    "start_time": "2024-01-08T20:18:21.404Z"
   },
   {
    "duration": 999,
    "start_time": "2024-01-08T20:18:23.092Z"
   },
   {
    "duration": 4,
    "start_time": "2024-01-08T20:18:43.020Z"
   },
   {
    "duration": 6,
    "start_time": "2024-01-08T20:18:43.524Z"
   },
   {
    "duration": 16,
    "start_time": "2024-01-08T20:18:44.214Z"
   },
   {
    "duration": 5,
    "start_time": "2024-01-08T20:18:46.556Z"
   },
   {
    "duration": 4,
    "start_time": "2024-01-08T20:18:47.244Z"
   },
   {
    "duration": 6,
    "start_time": "2024-01-08T20:18:47.867Z"
   },
   {
    "duration": 7,
    "start_time": "2024-01-08T20:18:51.797Z"
   },
   {
    "duration": 1277,
    "start_time": "2024-01-08T20:18:53.261Z"
   },
   {
    "duration": 1566,
    "start_time": "2024-01-08T20:18:57.292Z"
   },
   {
    "duration": 3,
    "start_time": "2024-01-08T20:19:04.637Z"
   },
   {
    "duration": 7,
    "start_time": "2024-01-08T20:19:06.773Z"
   },
   {
    "duration": 5,
    "start_time": "2024-01-08T20:19:07.733Z"
   },
   {
    "duration": 369,
    "start_time": "2024-01-08T20:19:10.092Z"
   },
   {
    "duration": 976,
    "start_time": "2024-01-08T20:19:14.397Z"
   },
   {
    "duration": 116,
    "start_time": "2024-01-08T20:19:20.396Z"
   },
   {
    "duration": 5535,
    "start_time": "2024-01-08T20:19:21.422Z"
   },
   {
    "duration": 3744,
    "start_time": "2024-01-08T20:19:48.212Z"
   },
   {
    "duration": 5521,
    "start_time": "2024-01-08T20:20:25.189Z"
   },
   {
    "duration": 20,
    "start_time": "2024-01-08T20:20:52.102Z"
   },
   {
    "duration": 94,
    "start_time": "2024-01-08T20:21:00.998Z"
   },
   {
    "duration": 3,
    "start_time": "2024-01-08T20:21:01.741Z"
   },
   {
    "duration": 46672,
    "start_time": "2024-01-08T20:21:04.022Z"
   },
   {
    "duration": 35031,
    "start_time": "2024-01-08T20:21:53.478Z"
   },
   {
    "duration": 97,
    "start_time": "2024-01-08T20:25:22.930Z"
   },
   {
    "duration": 107,
    "start_time": "2024-01-08T20:25:24.281Z"
   },
   {
    "duration": 58,
    "start_time": "2024-01-08T20:25:24.945Z"
   },
   {
    "duration": 4,
    "start_time": "2024-01-08T20:25:26.816Z"
   },
   {
    "duration": 1240,
    "start_time": "2024-01-08T20:25:28.504Z"
   },
   {
    "duration": 4,
    "start_time": "2024-01-08T20:25:31.705Z"
   },
   {
    "duration": 182949,
    "start_time": "2024-01-08T20:25:35.673Z"
   },
   {
    "duration": 4,
    "start_time": "2024-01-08T20:28:57.973Z"
   },
   {
    "duration": 3,
    "start_time": "2024-01-08T20:29:01.836Z"
   },
   {
    "duration": 3,
    "start_time": "2024-01-08T20:29:02.485Z"
   },
   {
    "duration": 758731,
    "start_time": "2024-01-08T20:29:02.788Z"
   },
   {
    "duration": 6,
    "start_time": "2024-01-08T20:42:04.041Z"
   },
   {
    "duration": 362575,
    "start_time": "2024-01-08T20:42:06.656Z"
   },
   {
    "duration": 16,
    "start_time": "2024-01-08T20:48:09.292Z"
   },
   {
    "duration": 25,
    "start_time": "2024-01-08T20:48:09.309Z"
   },
   {
    "duration": 15,
    "start_time": "2024-01-08T20:48:27.893Z"
   },
   {
    "duration": 13,
    "start_time": "2024-01-08T20:48:28.452Z"
   },
   {
    "duration": 3,
    "start_time": "2024-01-08T20:48:30.748Z"
   },
   {
    "duration": 4,
    "start_time": "2024-01-08T20:48:31.133Z"
   },
   {
    "duration": 15,
    "start_time": "2024-01-08T20:48:32.741Z"
   },
   {
    "duration": 26383,
    "start_time": "2024-01-08T20:48:34.213Z"
   },
   {
    "duration": 30200,
    "start_time": "2024-01-08T20:49:00.598Z"
   },
   {
    "duration": 17,
    "start_time": "2024-01-08T20:49:30.799Z"
   },
   {
    "duration": 4,
    "start_time": "2024-01-08T21:01:07.159Z"
   },
   {
    "duration": 82,
    "start_time": "2024-01-08T21:01:18.992Z"
   },
   {
    "duration": 4,
    "start_time": "2024-01-08T21:01:22.055Z"
   },
   {
    "duration": 4,
    "start_time": "2024-01-08T21:18:19.596Z"
   },
   {
    "duration": 4,
    "start_time": "2024-01-08T21:21:14.559Z"
   },
   {
    "duration": 3,
    "start_time": "2024-01-08T21:21:18.223Z"
   },
   {
    "duration": 622,
    "start_time": "2024-01-08T21:42:20.021Z"
   },
   {
    "duration": 1098,
    "start_time": "2024-01-08T21:42:20.645Z"
   },
   {
    "duration": 18,
    "start_time": "2024-01-08T21:42:21.745Z"
   },
   {
    "duration": 19,
    "start_time": "2024-01-08T21:42:21.764Z"
   },
   {
    "duration": 44,
    "start_time": "2024-01-08T21:42:21.785Z"
   },
   {
    "duration": 11,
    "start_time": "2024-01-08T21:42:21.831Z"
   },
   {
    "duration": 15,
    "start_time": "2024-01-08T21:42:21.844Z"
   },
   {
    "duration": 2186,
    "start_time": "2024-01-08T21:42:21.861Z"
   },
   {
    "duration": 1644,
    "start_time": "2024-01-08T21:42:24.048Z"
   },
   {
    "duration": 3,
    "start_time": "2024-01-08T21:42:25.694Z"
   },
   {
    "duration": 5,
    "start_time": "2024-01-08T21:42:25.698Z"
   },
   {
    "duration": 7,
    "start_time": "2024-01-08T21:42:25.704Z"
   },
   {
    "duration": 400,
    "start_time": "2024-01-08T21:42:25.713Z"
   },
   {
    "duration": 1010,
    "start_time": "2024-01-08T21:42:26.116Z"
   },
   {
    "duration": 124,
    "start_time": "2024-01-08T21:42:27.127Z"
   },
   {
    "duration": 5411,
    "start_time": "2024-01-08T21:42:27.252Z"
   },
   {
    "duration": 2,
    "start_time": "2024-01-08T21:42:32.664Z"
   },
   {
    "duration": 36,
    "start_time": "2024-01-08T21:42:32.668Z"
   },
   {
    "duration": 89,
    "start_time": "2024-01-08T21:42:32.705Z"
   },
   {
    "duration": 3,
    "start_time": "2024-01-08T21:42:32.796Z"
   },
   {
    "duration": 45497,
    "start_time": "2024-01-08T21:42:32.800Z"
   },
   {
    "duration": 34802,
    "start_time": "2024-01-08T21:43:18.298Z"
   },
   {
    "duration": 121,
    "start_time": "2024-01-08T21:43:53.102Z"
   },
   {
    "duration": 114,
    "start_time": "2024-01-08T21:43:53.225Z"
   },
   {
    "duration": 60,
    "start_time": "2024-01-08T21:43:53.340Z"
   },
   {
    "duration": 4,
    "start_time": "2024-01-08T21:43:53.401Z"
   },
   {
    "duration": 1233,
    "start_time": "2024-01-08T21:43:53.406Z"
   },
   {
    "duration": 4,
    "start_time": "2024-01-08T21:43:54.641Z"
   },
   {
    "duration": 178253,
    "start_time": "2024-01-08T21:43:54.646Z"
   },
   {
    "duration": 3,
    "start_time": "2024-01-08T21:46:52.900Z"
   },
   {
    "duration": 8,
    "start_time": "2024-01-08T21:46:52.905Z"
   },
   {
    "duration": 4,
    "start_time": "2024-01-08T21:46:52.914Z"
   },
   {
    "duration": 787794,
    "start_time": "2024-01-08T21:46:52.919Z"
   },
   {
    "duration": 4,
    "start_time": "2024-01-08T22:00:00.714Z"
   },
   {
    "duration": 364576,
    "start_time": "2024-01-08T22:00:00.720Z"
   },
   {
    "duration": 15,
    "start_time": "2024-01-08T22:06:05.298Z"
   },
   {
    "duration": 13,
    "start_time": "2024-01-08T22:06:05.314Z"
   },
   {
    "duration": 5,
    "start_time": "2024-01-08T22:06:05.328Z"
   },
   {
    "duration": 6,
    "start_time": "2024-01-08T22:06:05.334Z"
   },
   {
    "duration": 64,
    "start_time": "2024-01-08T22:06:05.341Z"
   },
   {
    "duration": 25098,
    "start_time": "2024-01-08T22:06:05.408Z"
   },
   {
    "duration": 26588,
    "start_time": "2024-01-08T22:06:30.507Z"
   },
   {
    "duration": 17,
    "start_time": "2024-01-08T22:06:57.096Z"
   }
  ],
  "kernelspec": {
   "display_name": "Python 3 (ipykernel)",
   "language": "python",
   "name": "python3"
  },
  "language_info": {
   "codemirror_mode": {
    "name": "ipython",
    "version": 3
   },
   "file_extension": ".py",
   "mimetype": "text/x-python",
   "name": "python",
   "nbconvert_exporter": "python",
   "pygments_lexer": "ipython3",
   "version": "3.11.9"
  },
  "toc": {
   "base_numbering": 1,
   "nav_menu": {},
   "number_sections": true,
   "sideBar": true,
   "skip_h1_title": true,
   "title_cell": "Table of Contents",
   "title_sidebar": "Contents",
   "toc_cell": false,
   "toc_position": {
    "height": "calc(100% - 180px)",
    "left": "10px",
    "top": "150px",
    "width": "165px"
   },
   "toc_section_display": true,
   "toc_window_display": true
  }
 },
 "nbformat": 4,
 "nbformat_minor": 2
}
