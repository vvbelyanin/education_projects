{
 "cells": [
  {
   "cell_type": "markdown",
   "metadata": {},
   "source": [
    "# Проект. Создание рекомендательной системы. Часть 1  \n",
    "\n",
    "##### Описание задачи\n",
    "Создание эффективной системы персональных рекомендаций для популярного стримингового сервиса с большим каталогом — более 70 млн треков.  \n",
    "Для удобства пользователей такая система должна предлагать музыкальные треки для прослушивания на основе их вкусов и предпочтений.  \n",
    "  \n",
    "##### Задача машинного обучения  \n",
    "На основе данных взаимодействий ~1,4 млн пользователей с 1 млн треков необходимо построить пайплайн для расчёта персональных рекомендаций, а также разработать сервис рекомендаций.  \n",
    "  \n",
    "##### Результат работы\n",
    "Набор скриптов в репозитории для расчета персональных рекомендаций и для запуска соответствующего сервиса для их получения."
   ]
  },
  {
   "cell_type": "markdown",
   "metadata": {},
   "source": [
    "##### План работы\n",
    "\n",
    "- Этап 1. Первичная подготовка данных\n",
    "  - Загрузка файлов с данными, получение общей информации, проверка пропущенных значений, дубликатов\n",
    "  - Нужно ли изменить тип идентификаторов?\n",
    "  - Устранение проблем данных треков с неизвестными исполнителями, альбомами, жанрами\n",
    "  - Выводы по этапу 1\n",
    "-  Этап 2. Анализ данных и их подготовка\n",
    "    - Анализ распределения количества прослушанных треков и жанров\n",
    "    - Поиск наболее популярных треков\n",
    "    - Поиск наиболее популярных жанров\n",
    "    - Поиск треков, которые никто не прослушал\n",
    "    - Сохранение данных в виде датасетов items, events и catalog_names на локальном диске и в S3\n",
    "    - Выводы по этапу 2\n",
    "- Этап 3. Офлайн-рекомендации\n",
    "    - Разбиение данных на тренировочную и тестовую выборки\n",
    "    - Получение трех видов рекомендаций:\n",
    "      - top_popular - рекомендация самых популярных треков\n",
    "      - personal_als - персональные рекомендации\n",
    "      - similar - рекомендации на основе похожих треков\n",
    "    - Сохранение рекомендаций в датасетах\n",
    "    - Построение ранжирующей модели, ранжирование рекомендаций\n",
    "    - Получение итоговых рекомендаций и их сохранение в датасете\n",
    "    - Проверка качества рекомендаций с помощью метрик precision@5, recall@5, novelty@5, coverage@5\n",
    "    - Внутреннее тестирование\n",
    "    - Сохранение рекомендаций в S3\n",
    "    - Выводы по этапу 3\n",
    "- Подведение итогов и общие выводы"
   ]
  },
  {
   "cell_type": "code",
   "execution_count": 1,
   "metadata": {},
   "outputs": [],
   "source": [
    "import boto3\n",
    "from botocore.exceptions import ClientError, PartialCredentialsError\n",
    "from catboost import CatBoostClassifier, Pool\n",
    "from datetime import time\n",
    "from dotenv import load_dotenv\n",
    "import gc\n",
    "from humanize import naturalsize\n",
    "from implicit.als import AlternatingLeastSquares\n",
    "from implicit.cpu.als import AlternatingLeastSquares as ALSClass\n",
    "import matplotlib.pyplot as plt\n",
    "import numpy as np\n",
    "import os\n",
    "import pandas as pd\n",
    "import psutil\n",
    "import random\n",
    "from scipy.sparse import csr_matrix\n",
    "from sklearn.preprocessing import LabelEncoder\n",
    "import sys\n",
    "import textwrap\n",
    "from threadpoolctl import threadpool_limits\n",
    "from typing import Optional, List, Tuple\n",
    "\n",
    "threadpool_limits(1, \"blas\")\n",
    "load_dotenv()\n",
    "\n",
    "RANDOM_STATE = 42\n",
    "random.seed(RANDOM_STATE)\n",
    "\n",
    "pd.options.mode.copy_on_write = True"
   ]
  },
  {
   "cell_type": "code",
   "execution_count": 2,
   "metadata": {},
   "outputs": [],
   "source": [
    "# DataFrame utilities and analysis functions\n",
    "# 1. xhead\n",
    "# 2. get_mem_usage\n",
    "# 3. get_top_tracks\n",
    "# 4. global_time_split\n",
    "\n",
    "def xhead(df: pd.DataFrame, title: str = None, top: int = None) -> None:\n",
    "    \"\"\"\n",
    "    Display the top rows of a DataFrame along with some summary information.\n",
    "\n",
    "    Args:\n",
    "        df (pandas.DataFrame): The DataFrame to display.\n",
    "        title (str, optional): An optional title to display before the DataFrame info. Defaults to None.\n",
    "        top (int, optional): The number of top rows to display. Defaults to 3.\n",
    "\n",
    "    Returns:\n",
    "        None\n",
    "    \"\"\"\n",
    "    if top is None:\n",
    "        top = 3\n",
    "    if title is not None:\n",
    "        print(f\"{title} info:\")\n",
    "    display(df.head(top))\n",
    "    print(f\"Shape: {df.shape[0]:,.0f} rows × {df.shape[1]} columns\")\n",
    "    print(\"Unique values: \", end=\"\")\n",
    "    \n",
    "    unique_values = [f\"{col}: {df[col].nunique()}\" for col in df.columns]\n",
    "    print(*unique_values, sep=', ')\n",
    "\n",
    "\n",
    "def get_mem_usage(top_k: Optional[int] = None) -> None:\n",
    "    \"\"\"\n",
    "    Print memory usage statistics.\n",
    "\n",
    "    Args:\n",
    "        top_k (int, optional): Number of top memory-consuming variables to display.\n",
    "\n",
    "    Returns:\n",
    "        None\n",
    "    \"\"\"\n",
    "    if top_k:\n",
    "        print(f\"Топ-{top_k} объемных переменных:\")\n",
    "        for name, size in sorted(((name, sys.getsizeof(value)) for name, value in globals().items()),\n",
    "                                key= lambda x: -x[1])[:top_k]:\n",
    "            print(f\"{name}: {naturalsize(size)}\")\n",
    "        print()\n",
    "\n",
    "    memory = psutil.virtual_memory()\n",
    "    print(f\"Общая память: {naturalsize(memory.total)}\")\n",
    "    print(f\"Доступная память: {naturalsize(memory.available)}\")\n",
    "\n",
    "\n",
    "def get_top_tracks(items: pd.DataFrame, catalog_names: pd.DataFrame, top_k_indices: List[int]) -> pd.DataFrame:\n",
    "    \"\"\"\n",
    "    Get the top tracks from items and catalog names.\n",
    "\n",
    "    Args:\n",
    "        items (pd.DataFrame): The DataFrame containing item information.\n",
    "        catalog_names (pd.DataFrame): The DataFrame containing catalog names with types.\n",
    "        top_k_indices (List[int]): List of top K item indices.\n",
    "\n",
    "    Returns:\n",
    "        pd.DataFrame: DataFrame containing top tracks with artist, album, and genre information.\n",
    "    \"\"\"\n",
    "    return (items\n",
    "            .query('item_id.isin(@top_k_indices)')\n",
    "            \n",
    "            .merge(\n",
    "                catalog_names[catalog_names['type'] == 'track'], left_on='item_id', right_on='id'\n",
    "                ).drop(['item_id', 'id', 'type'], axis=1).rename(columns={'name': 'track'})\n",
    "\n",
    "            .merge(\n",
    "                catalog_names[catalog_names['type'] == 'album'], left_on='albums', right_on='id'\n",
    "                ).drop(['albums', 'id', 'type'], axis=1).rename(columns={'name': 'album'})\n",
    "\n",
    "            .merge(\n",
    "                catalog_names[catalog_names['type'] == 'artist'], left_on='artists', right_on='id'\n",
    "                ).drop(['artists', 'id', 'type'], axis=1).rename(columns={'name': 'artist'})\n",
    "\n",
    "            .merge(\n",
    "                catalog_names[catalog_names['type'] == 'genre'], left_on='genres', right_on='id'\n",
    "                ).drop(['genres', 'id', 'type'], axis=1).rename(columns={'name': 'genre'})\n",
    "\n",
    "            .groupby('track').agg({\n",
    "                'artist': lambda x: \", \".join(list(x.unique())),\n",
    "                'album': lambda x: \", \".join(list(x.unique())), \n",
    "                'genre': lambda x: \", \".join(list(x.unique()))\n",
    "                }).reset_index()\n",
    "            )\n",
    "\n",
    "\n",
    "def global_time_split(events: pd.DataFrame, str_split_date: str) -> Tuple[pd.DataFrame, pd.DataFrame]:\n",
    "    \"\"\"\n",
    "    Split events DataFrame into training and testing sets based on a split date.\n",
    "\n",
    "    Args:\n",
    "        events (pd.DataFrame): The DataFrame containing events.\n",
    "        str_split_date (str): The date string to split the events DataFrame.\n",
    "\n",
    "    Returns:\n",
    "        Tuple[pd.DataFrame, pd.DataFrame]: A tuple containing the training and testing DataFrames.\n",
    "    \"\"\"\n",
    "    global_time_split_idx = events[\"date\"] < pd.to_datetime(str_split_date)\n",
    "\n",
    "    return events[global_time_split_idx], events[~global_time_split_idx]"
   ]
  },
  {
   "cell_type": "code",
   "execution_count": 3,
   "metadata": {},
   "outputs": [],
   "source": [
    "# Parquet file and S3 operations\n",
    "# 1. show_s3_folder\n",
    "# 2. upload_to_s3\n",
    "# 3. load\n",
    "# 4. save\n",
    "\n",
    "def show_s3_folder(path: str) -> None:\n",
    "    \"\"\"\n",
    "    Display the files in a specified S3 folder.\n",
    "\n",
    "    Args:\n",
    "        path (str): The path of the S3 folder to display.\n",
    "\n",
    "    Returns:\n",
    "        None\n",
    "    \"\"\"\n",
    "    s3_client = boto3.client('s3', \n",
    "                             aws_access_key_id=os.getenv('AWS_ACCESS_KEY_ID'), \n",
    "                             aws_secret_access_key=os.getenv('AWS_SECRET_ACCESS_KEY'),\n",
    "                             endpoint_url=os.getenv('S3_ENDPOINT_URL'))\n",
    "\n",
    "    response = s3_client.list_objects_v2(Bucket=os.getenv(\"S3_BUCKET_NAME\"))\n",
    "    \n",
    "    paginator = s3_client.get_paginator('list_objects_v2')\n",
    "    pages = paginator.paginate(Bucket=os.getenv(\"S3_BUCKET_NAME\"), Prefix=path)\n",
    "\n",
    "    print(f\"Files in {path} folder:\")\n",
    "    counter = 0\n",
    "    for page in pages:\n",
    "        if 'Contents' in page:\n",
    "            for obj in page['Contents']:\n",
    "                key = obj['Key']\n",
    "                if not key.endswith('/'):\n",
    "                    relative_path = key[len(path):]\n",
    "                    if '/' not in relative_path:\n",
    "                        print(key)\n",
    "                        counter += 1\n",
    "    if counter == 0:\n",
    "        print(\"No files found.\")\n",
    "    else:\n",
    "        print(f\"{counter} file(s) found.\")\n",
    "\n",
    "\n",
    "def upload_to_s3(file_name: str, object_name: str = None) -> bool:\n",
    "    \"\"\"\n",
    "    Upload a file to an S3 bucket.\n",
    "\n",
    "    Args:\n",
    "        file_name (str): File to upload.\n",
    "        object_name (str, optional): S3 object name. If not specified, file_name is used.\n",
    "\n",
    "    Returns:\n",
    "        bool: True if file was uploaded, False otherwise.\n",
    "    \"\"\"\n",
    "    if object_name is None:\n",
    "        object_name = os.path.basename(file_name)\n",
    "    \n",
    "    s3_client = boto3.client('s3', \n",
    "                             aws_access_key_id=os.getenv('AWS_ACCESS_KEY_ID'), \n",
    "                             aws_secret_access_key=os.getenv('AWS_SECRET_ACCESS_KEY'),\n",
    "                             endpoint_url=os.getenv('S3_ENDPOINT_URL'))\n",
    "    try:\n",
    "        s3_client.upload_file(file_name, os.getenv(\"S3_BUCKET_NAME\"), object_name)\n",
    "        print(f\"File {file_name} uploaded to {object_name}\")\n",
    "        return True\n",
    "    except PartialCredentialsError:\n",
    "        print(\"Incomplete credentials provided.\")\n",
    "    except ClientError as e:\n",
    "        formatted_error = textwrap.fill(str(e), width=70)\n",
    "        print(f\"Upload failed:\\nDetails: {formatted_error}\")\n",
    "    except Exception as e:\n",
    "        formatted_error = textwrap.fill(str(e), width=70)\n",
    "        print(f\"General Error: An unexpected error occurred: {formatted_error}\")\n",
    "    return False\n",
    "\n",
    "\n",
    "def load(file_name: str, filters: Optional[dict] = None) -> pd.DataFrame:\n",
    "    \"\"\"\n",
    "    Load a Parquet file into a DataFrame.\n",
    "\n",
    "    Args:\n",
    "        file_name (str): Name of the file to load (without extension).\n",
    "        filters (dict, optional): Filters to apply when loading the Parquet file.\n",
    "\n",
    "    Returns:\n",
    "        pd.DataFrame: The loaded DataFrame.\n",
    "    \"\"\"\n",
    "    return pd.read_parquet(\"parquet/\" + file_name + \".parquet\", filters=filters)\n",
    "\n",
    "\n",
    "def save(file: pd.DataFrame, file_name: str) -> None:\n",
    "    \"\"\"\n",
    "    Save a DataFrame to a Parquet file.\n",
    "\n",
    "    Args:\n",
    "        file (pd.DataFrame): DataFrame to save.\n",
    "        file_name (str): Name of the file to save (without extension).\n",
    "\n",
    "    Returns:\n",
    "        None\n",
    "    \"\"\"\n",
    "    file.to_parquet(\"parquet/\" + file_name + \".parquet\")"
   ]
  },
  {
   "cell_type": "code",
   "execution_count": 4,
   "metadata": {},
   "outputs": [],
   "source": [
    "# List of functions for calculating metrics\n",
    "# 1. process_events_recs_for_binary_metrics\n",
    "# 2. compute_cls_metrics\n",
    "# 3. compute_bam_metrics\n",
    "# 4. get_metrics_for_rec_type\n",
    "\n",
    "def process_events_recs_for_binary_metrics(\n",
    "    events_train: pd.DataFrame, \n",
    "    events_test: pd.DataFrame, \n",
    "    recs: pd.DataFrame, \n",
    "    top_k: Optional[int] = None\n",
    ") -> pd.DataFrame:\n",
    "    \"\"\"\n",
    "    Annotate <user_id, item_id> pairs for the common set of users with the following features:\n",
    "    - gt (ground truth)\n",
    "    - pr (prediction)\n",
    "    top_k: calculations are performed only for the top k recommendations.\n",
    "\n",
    "    Args:\n",
    "        events_train (pd.DataFrame): Training events DataFrame.\n",
    "        events_test (pd.DataFrame): Testing events DataFrame.\n",
    "        recs (pd.DataFrame): Recommendations DataFrame.\n",
    "        top_k (Optional[int]): Number of top recommendations to consider.\n",
    "\n",
    "    Returns:\n",
    "        pd.DataFrame: DataFrame containing annotated <user_id, item_id> pairs with binary metrics.\n",
    "    \"\"\"\n",
    "    events_test[\"gt\"] = True\n",
    "    common_users = set(events_test[\"user_id\"]) & set(recs[\"user_id\"])\n",
    "    \n",
    "    events_for_common_users = events_test[events_test[\"user_id\"].isin(common_users)].copy()\n",
    "    recs_for_common_users = recs[recs[\"user_id\"].isin(common_users)].copy()\n",
    "    recs_for_common_users = recs_for_common_users.sort_values([\"user_id\", \"score\"], ascending=[True, False])\n",
    "\n",
    "    # Model can recommend only items from events_train\n",
    "    events_for_common_users = events_for_common_users[events_for_common_users[\"item_id\"].isin(events_train[\"item_id\"].unique())]\n",
    "\n",
    "    if top_k is not None:\n",
    "        recs_for_common_users = recs_for_common_users.groupby(\"user_id\").head(top_k)\n",
    "    \n",
    "    events_recs_common = events_for_common_users[[\"user_id\", \"item_id\", \"gt\"]].merge(\n",
    "        recs_for_common_users[[\"user_id\", \"item_id\", \"score\"]], \n",
    "        on=[\"user_id\", \"item_id\"], how=\"outer\"\n",
    "    )    \n",
    "\n",
    "    events_recs_common[\"gt\"] = events_recs_common[\"gt\"].fillna(False)\n",
    "    events_recs_common[\"pr\"] = ~events_recs_common[\"score\"].isnull()\n",
    "    \n",
    "    events_recs_common[\"tp\"] = events_recs_common[\"gt\"] & events_recs_common[\"pr\"]\n",
    "    events_recs_common[\"fp\"] = ~events_recs_common[\"gt\"] & events_recs_common[\"pr\"]\n",
    "    events_recs_common[\"fn\"] = events_recs_common[\"gt\"] & ~events_recs_common[\"pr\"]\n",
    "\n",
    "    return events_recs_common\n",
    "\n",
    "\n",
    "def compute_cls_metrics(events_recs_for_binary_metric: pd.DataFrame) -> Tuple[float, float]:\n",
    "    \"\"\"\n",
    "    Compute \"classification\" precision and recall metrics for annotated recommendations.\n",
    "\n",
    "    Args:\n",
    "        events_recs_for_binary_metric (pd.DataFrame): DataFrame containing event recommendations with \n",
    "                                                      columns 'user_id', 'tp', 'fp', and 'fn'.\n",
    "    \n",
    "    Returns:\n",
    "        Tuple[float, float]: A tuple containing the precision and recall metrics.\n",
    "    \"\"\"\n",
    "    \n",
    "    groupper = events_recs_for_binary_metric.groupby(\"user_id\")\n",
    "\n",
    "    # precision = tp / (tp + fp)\n",
    "    precision = groupper[\"tp\"].sum() / (groupper[\"tp\"].sum() + groupper[\"fp\"].sum())\n",
    "    precision = precision.fillna(0).mean()\n",
    "    \n",
    "    # recall = tp / (tp + fn)\n",
    "    recall = groupper[\"tp\"].sum() / (groupper[\"tp\"].sum() + groupper[\"fn\"].sum())\n",
    "    recall = recall.fillna(0).mean()\n",
    "\n",
    "    return precision, recall\n",
    "\n",
    "\n",
    "def compute_bam_metrics(events_recs_for_binary_metrics: pd.DataFrame) -> Tuple[float, float]:\n",
    "    \"\"\"\n",
    "    Compute \"beyond-accuracy\" novelty and coverage metrics for annotated recommendations.\n",
    "\n",
    "    Args:\n",
    "        events_recs_for_binary_metrics (pd.DataFrame): DataFrame containing event recommendations\n",
    "                                                            with binary metrics and columns 'pr' and 'item_id'.\n",
    "    \n",
    "    Returns:\n",
    "        Tuple[float, float]: A tuple containing the novelty and coverage metrics.\n",
    "    \"\"\"\n",
    "    \n",
    "    # novelty = (1 / N) * sum(1/p1 + 1/p2 + ...), where pi - popularity (number of unique users)\n",
    "    novelty = (events_recs_for_binary_metrics.query('pr == True')\n",
    "               .groupby('item_id')['user_id'].agg(lambda x: 1/len(set(x))).mean())\n",
    "    \n",
    "    # coverage = number_of_predictions / number_of_items\n",
    "    number_of_unique_recs = events_recs_for_binary_metrics.query('pr == True')['item_id'].nunique()\n",
    "    total_number_of_unique_items = events_recs_for_binary_metrics['item_id'].nunique()\n",
    "    coverage = number_of_unique_recs / total_number_of_unique_items\n",
    "    \n",
    "    return novelty, coverage\n",
    "\n",
    "\n",
    "def get_metrics_for_rec_type(\n",
    "    rec_score_name: str, \n",
    "    events_inference: pd.DataFrame, \n",
    "    events_test_2: pd.DataFrame, \n",
    "    recommendations: pd.DataFrame, \n",
    "    top_k: Optional[int] = None\n",
    ") -> List:\n",
    "    \"\"\"\n",
    "    Compute precision, recall, novelty, and coverage metrics for a specific recommendation type.\n",
    "\n",
    "    Args:\n",
    "        rec_score_name (str): The name of the recommendation score column.\n",
    "        events_inference (pd.DataFrame): DataFrame containing inference events.\n",
    "        events_test_2 (pd.DataFrame): DataFrame containing test events.\n",
    "        recommendations (pd.DataFrame): DataFrame containing recommendations.\n",
    "        top_k (Optional[int]): Number of top recommendations to consider.\n",
    "\n",
    "    Returns:\n",
    "        List: A list containing the recommendation score name, precision, recall, novelty, and coverage metrics.\n",
    "    \"\"\"\n",
    "    \n",
    "    events_recs_for_binary_metrics = process_events_recs_for_binary_metrics(\n",
    "        events_inference,\n",
    "        events_test_2,\n",
    "        recommendations.rename(columns={rec_score_name: \"score\"}), \n",
    "        top_k=top_k)\n",
    "    \n",
    "    precision, recall = compute_cls_metrics(events_recs_for_binary_metrics)\n",
    "    novelty, coverage = compute_bam_metrics(events_recs_for_binary_metrics)\n",
    "\n",
    "    return [rec_score_name, precision, recall, novelty, coverage]"
   ]
  },
  {
   "cell_type": "markdown",
   "metadata": {},
   "source": [
    "#### Этап 1. Первичная подготовка данных\n",
    "  "
   ]
  },
  {
   "cell_type": "markdown",
   "metadata": {},
   "source": [
    "##### Загрузка файлов с данными, получение общей информации, проверка пропущенных значений, дубликатов"
   ]
  },
  {
   "cell_type": "code",
   "execution_count": 5,
   "metadata": {},
   "outputs": [
    {
     "name": "stdout",
     "output_type": "stream",
     "text": [
      "Общая память: 33.7 GB\n",
      "Доступная память: 31.4 GB\n"
     ]
    }
   ],
   "source": [
    "get_mem_usage()"
   ]
  },
  {
   "cell_type": "code",
   "execution_count": 7,
   "metadata": {},
   "outputs": [
    {
     "name": "stdout",
     "output_type": "stream",
     "text": [
      "<class 'pandas.core.frame.DataFrame'>\n",
      "RangeIndex: 1000000 entries, 0 to 999999\n",
      "Data columns (total 4 columns):\n",
      " #   Column    Non-Null Count    Dtype \n",
      "---  ------    --------------    ----- \n",
      " 0   track_id  1000000 non-null  int64 \n",
      " 1   albums    1000000 non-null  object\n",
      " 2   artists   1000000 non-null  object\n",
      " 3   genres    1000000 non-null  object\n",
      "dtypes: int64(1), object(3)\n",
      "memory usage: 30.5+ MB\n",
      "\n",
      "Пропусков: 0, дубликатов: 0\n"
     ]
    },
    {
     "data": {
      "text/html": [
       "<div>\n",
       "<style scoped>\n",
       "    .dataframe tbody tr th:only-of-type {\n",
       "        vertical-align: middle;\n",
       "    }\n",
       "\n",
       "    .dataframe tbody tr th {\n",
       "        vertical-align: top;\n",
       "    }\n",
       "\n",
       "    .dataframe thead th {\n",
       "        text-align: right;\n",
       "    }\n",
       "</style>\n",
       "<table border=\"1\" class=\"dataframe\">\n",
       "  <thead>\n",
       "    <tr style=\"text-align: right;\">\n",
       "      <th></th>\n",
       "      <th>track_id</th>\n",
       "      <th>albums</th>\n",
       "      <th>artists</th>\n",
       "      <th>genres</th>\n",
       "    </tr>\n",
       "  </thead>\n",
       "  <tbody>\n",
       "    <tr>\n",
       "      <th>0</th>\n",
       "      <td>26</td>\n",
       "      <td>[3, 2490753]</td>\n",
       "      <td>[16]</td>\n",
       "      <td>[11, 21]</td>\n",
       "    </tr>\n",
       "    <tr>\n",
       "      <th>1</th>\n",
       "      <td>38</td>\n",
       "      <td>[3, 2490753]</td>\n",
       "      <td>[16]</td>\n",
       "      <td>[11, 21]</td>\n",
       "    </tr>\n",
       "    <tr>\n",
       "      <th>2</th>\n",
       "      <td>135</td>\n",
       "      <td>[12, 214, 2490809]</td>\n",
       "      <td>[84]</td>\n",
       "      <td>[11]</td>\n",
       "    </tr>\n",
       "    <tr>\n",
       "      <th>3</th>\n",
       "      <td>136</td>\n",
       "      <td>[12, 214, 2490809]</td>\n",
       "      <td>[84]</td>\n",
       "      <td>[11]</td>\n",
       "    </tr>\n",
       "    <tr>\n",
       "      <th>4</th>\n",
       "      <td>138</td>\n",
       "      <td>[12, 214, 322, 72275, 72292, 91199, 213505, 24...</td>\n",
       "      <td>[84]</td>\n",
       "      <td>[11]</td>\n",
       "    </tr>\n",
       "  </tbody>\n",
       "</table>\n",
       "</div>"
      ],
      "text/plain": [
       "   track_id                                             albums artists  \\\n",
       "0        26                                       [3, 2490753]    [16]   \n",
       "1        38                                       [3, 2490753]    [16]   \n",
       "2       135                                 [12, 214, 2490809]    [84]   \n",
       "3       136                                 [12, 214, 2490809]    [84]   \n",
       "4       138  [12, 214, 322, 72275, 72292, 91199, 213505, 24...    [84]   \n",
       "\n",
       "     genres  \n",
       "0  [11, 21]  \n",
       "1  [11, 21]  \n",
       "2      [11]  \n",
       "3      [11]  \n",
       "4      [11]  "
      ]
     },
     "metadata": {},
     "output_type": "display_data"
    }
   ],
   "source": [
    "tracks = pd.read_parquet(\"parquet/tracks.parquet\")\n",
    "tracks.info()\n",
    "temp_tracks = tracks.copy()\n",
    "\n",
    "# convert to hashable type\n",
    "for col in ['albums', 'artists', 'genres']:\n",
    "    temp_tracks[col] = temp_tracks[col].apply(tuple)\n",
    "\n",
    "print(f\"\\nПропусков: {tracks.isna().sum().sum()}, дубликатов: {temp_tracks[temp_tracks.duplicated(keep=False)].sum().sum()}\")\n",
    "display(tracks.head())\n",
    "\n",
    "del temp_tracks"
   ]
  },
  {
   "cell_type": "markdown",
   "metadata": {},
   "source": [
    "Датасет с музыкальными треками представляет собой датафрейм со значениями в виде списков. Пропусков и дубликатов нет."
   ]
  },
  {
   "cell_type": "code",
   "execution_count": 8,
   "metadata": {},
   "outputs": [
    {
     "name": "stdout",
     "output_type": "stream",
     "text": [
      "<class 'pandas.core.frame.DataFrame'>\n",
      "Index: 1812501 entries, 0 to 1812500\n",
      "Data columns (total 3 columns):\n",
      " #   Column  Dtype \n",
      "---  ------  ----- \n",
      " 0   id      int64 \n",
      " 1   type    object\n",
      " 2   name    object\n",
      "dtypes: int64(1), object(2)\n",
      "memory usage: 55.3+ MB\n",
      "\n",
      "Пропусков: 0, дубликатов: 0\n"
     ]
    },
    {
     "data": {
      "text/html": [
       "<div>\n",
       "<style scoped>\n",
       "    .dataframe tbody tr th:only-of-type {\n",
       "        vertical-align: middle;\n",
       "    }\n",
       "\n",
       "    .dataframe tbody tr th {\n",
       "        vertical-align: top;\n",
       "    }\n",
       "\n",
       "    .dataframe thead th {\n",
       "        text-align: right;\n",
       "    }\n",
       "</style>\n",
       "<table border=\"1\" class=\"dataframe\">\n",
       "  <thead>\n",
       "    <tr style=\"text-align: right;\">\n",
       "      <th></th>\n",
       "      <th>id</th>\n",
       "      <th>type</th>\n",
       "      <th>name</th>\n",
       "    </tr>\n",
       "  </thead>\n",
       "  <tbody>\n",
       "    <tr>\n",
       "      <th>1754387</th>\n",
       "      <td>83304048</td>\n",
       "      <td>track</td>\n",
       "      <td>Для неё</td>\n",
       "    </tr>\n",
       "    <tr>\n",
       "      <th>1758766</th>\n",
       "      <td>84423662</td>\n",
       "      <td>track</td>\n",
       "      <td>Нонсенс</td>\n",
       "    </tr>\n",
       "    <tr>\n",
       "      <th>444263</th>\n",
       "      <td>9062473</td>\n",
       "      <td>album</td>\n",
       "      <td>Best Of</td>\n",
       "    </tr>\n",
       "    <tr>\n",
       "      <th>330070</th>\n",
       "      <td>5574795</td>\n",
       "      <td>album</td>\n",
       "      <td>Koss City</td>\n",
       "    </tr>\n",
       "    <tr>\n",
       "      <th>43476</th>\n",
       "      <td>169316</td>\n",
       "      <td>album</td>\n",
       "      <td>This Is... 1979</td>\n",
       "    </tr>\n",
       "  </tbody>\n",
       "</table>\n",
       "</div>"
      ],
      "text/plain": [
       "               id   type             name\n",
       "1754387  83304048  track          Для неё\n",
       "1758766  84423662  track          Нонсенс\n",
       "444263    9062473  album          Best Of\n",
       "330070    5574795  album        Koss City\n",
       "43476      169316  album  This Is... 1979"
      ]
     },
     "metadata": {},
     "output_type": "display_data"
    }
   ],
   "source": [
    "catalog_names = pd.read_parquet(\"parquet/catalog_names.parquet\")\n",
    "\n",
    "catalog_names.info()\n",
    "print(f\"\\nПропусков: {tracks.isna().sum().sum()}, дубликатов: {catalog_names.duplicated().sum()}\")\n",
    "display(catalog_names.sample(5, random_state=RANDOM_STATE))"
   ]
  },
  {
   "cell_type": "code",
   "execution_count": 9,
   "metadata": {},
   "outputs": [
    {
     "name": "stdout",
     "output_type": "stream",
     "text": [
      "File parquet/catalog_names.parquet uploaded to recsys/data/catalog_names.parquet\n"
     ]
    },
    {
     "data": {
      "text/plain": [
       "True"
      ]
     },
     "execution_count": 9,
     "metadata": {},
     "output_type": "execute_result"
    }
   ],
   "source": [
    "upload_to_s3(\"parquet/catalog_names.parquet\", \"recsys/data/catalog_names.parquet\")"
   ]
  },
  {
   "cell_type": "markdown",
   "metadata": {},
   "source": [
    "Датасет с каталогом хранит названия объектов 4 типов - треков, альбомов, исполнителей, жанров. Пропусков и дубликатов нет."
   ]
  },
  {
   "cell_type": "code",
   "execution_count": 8,
   "metadata": {},
   "outputs": [
    {
     "name": "stdout",
     "output_type": "stream",
     "text": [
      "<class 'pandas.core.frame.DataFrame'>\n",
      "Index: 222629898 entries, 0 to 291\n",
      "Data columns (total 4 columns):\n",
      " #   Column      Dtype         \n",
      "---  ------      -----         \n",
      " 0   user_id     int32         \n",
      " 1   track_id    int32         \n",
      " 2   track_seq   int16         \n",
      " 3   started_at  datetime64[ns]\n",
      "dtypes: datetime64[ns](1), int16(1), int32(2)\n",
      "memory usage: 5.4 GB\n",
      "\n",
      "Пропусков: 0, дубликатов: 0\n"
     ]
    },
    {
     "data": {
      "text/html": [
       "<div>\n",
       "<style scoped>\n",
       "    .dataframe tbody tr th:only-of-type {\n",
       "        vertical-align: middle;\n",
       "    }\n",
       "\n",
       "    .dataframe tbody tr th {\n",
       "        vertical-align: top;\n",
       "    }\n",
       "\n",
       "    .dataframe thead th {\n",
       "        text-align: right;\n",
       "    }\n",
       "</style>\n",
       "<table border=\"1\" class=\"dataframe\">\n",
       "  <thead>\n",
       "    <tr style=\"text-align: right;\">\n",
       "      <th></th>\n",
       "      <th>user_id</th>\n",
       "      <th>track_id</th>\n",
       "      <th>track_seq</th>\n",
       "      <th>started_at</th>\n",
       "    </tr>\n",
       "  </thead>\n",
       "  <tbody>\n",
       "    <tr>\n",
       "      <th>130</th>\n",
       "      <td>844258</td>\n",
       "      <td>3581309</td>\n",
       "      <td>131</td>\n",
       "      <td>2022-06-05</td>\n",
       "    </tr>\n",
       "    <tr>\n",
       "      <th>433</th>\n",
       "      <td>1091434</td>\n",
       "      <td>14937363</td>\n",
       "      <td>434</td>\n",
       "      <td>2022-06-29</td>\n",
       "    </tr>\n",
       "    <tr>\n",
       "      <th>526</th>\n",
       "      <td>73981</td>\n",
       "      <td>48591660</td>\n",
       "      <td>527</td>\n",
       "      <td>2022-09-26</td>\n",
       "    </tr>\n",
       "    <tr>\n",
       "      <th>9</th>\n",
       "      <td>78605</td>\n",
       "      <td>732405</td>\n",
       "      <td>10</td>\n",
       "      <td>2022-09-14</td>\n",
       "    </tr>\n",
       "    <tr>\n",
       "      <th>1202</th>\n",
       "      <td>1273064</td>\n",
       "      <td>40339506</td>\n",
       "      <td>1203</td>\n",
       "      <td>2022-08-24</td>\n",
       "    </tr>\n",
       "  </tbody>\n",
       "</table>\n",
       "</div>"
      ],
      "text/plain": [
       "      user_id  track_id  track_seq started_at\n",
       "130    844258   3581309        131 2022-06-05\n",
       "433   1091434  14937363        434 2022-06-29\n",
       "526     73981  48591660        527 2022-09-26\n",
       "9       78605    732405         10 2022-09-14\n",
       "1202  1273064  40339506       1203 2022-08-24"
      ]
     },
     "metadata": {},
     "output_type": "display_data"
    },
    {
     "name": "stdout",
     "output_type": "stream",
     "text": [
      "Общая память: 33.7 GB\n",
      "Доступная память: 25.2 GB\n"
     ]
    }
   ],
   "source": [
    "# < 2 min\n",
    "interactions = pd.read_parquet(\"parquet/interactions.parquet\")\n",
    "\n",
    "interactions.info()\n",
    "print(f\"\\nПропусков: {interactions.isna().sum().sum()}, дубликатов: {interactions.duplicated().sum()}\")\n",
    "display(interactions.sample(5, random_state=RANDOM_STATE))\n",
    "\n",
    "get_mem_usage()"
   ]
  },
  {
   "cell_type": "markdown",
   "metadata": {},
   "source": [
    "Датасет взаимодействий \"пользователь-трек\" большой, нужно следить за использованием памяти и избегать хранения лишних временных переменных. Пропусков и дубликатов нет. Индексы не уникальны. Столбец даты хранит только год-месяц-число, часы и минуты отсутствуют."
   ]
  },
  {
   "cell_type": "markdown",
   "metadata": {},
   "source": [
    "##### Нужно ли изменить тип идентификаторов?\n",
    "В данных есть идентификаторы двух типов - номера (индексы) элементов и идентификаторы типов элементов в каталоге.  \n",
    "Для хранения номеров элементов в tracks и intercations с диапазонами значений от 0 до ~10^9 достаточно int32. \n",
    "Идентификаторы типов в каталоге являются именно типами, а не признаками, поэтому изменения не требуют.  \n",
    "Для экономии места можно было бы в catalog_names тип id поменять на int32, а тип на uint8, но этот датасет небольшой, много сэкономить не получится, а обозначения типов как int снижает наглядность кода в запросах.  \n",
    "Поэтому изменение типа идентификаторов обоих типов не требуется."
   ]
  },
  {
   "cell_type": "markdown",
   "metadata": {},
   "source": [
    "##### Устранение проблем данных треков с неизвестными исполнителями, альбомами, жанрами\n",
    "Выведем общую информацию о данных, в том числе о неизвестных элементах."
   ]
  },
  {
   "cell_type": "code",
   "execution_count": 9,
   "metadata": {},
   "outputs": [
    {
     "name": "stdout",
     "output_type": "stream",
     "text": [
      "Типы идентификаторов: album, artist, genre, track\n",
      "\n",
      "Уникальных альбомов: 658,724\n",
      "Уникальных исполнителей: 153,581\n",
      "Уникальных жанров: 166\n",
      "Уникальных пользователей: 1,373,221\n",
      "Уникальных взаимодействий: 222,629,898\n",
      "\n",
      "Треков без названий альбомов: 18\n",
      "Треков без названий исполнителей: 15369\n",
      "Треков без названий жанров: 3687\n",
      "\n",
      "Первое событие: 00:00:00, 01 January 2022\n",
      "Последнее событие : 00:00:00, 31 December 2022\n",
      "\n",
      "Пар пользователь-трек с количеством взаимодействий более 1: 0\n",
      "Количество жанров треков, которых нет в каталоге: 30\n"
     ]
    }
   ],
   "source": [
    "print(f\"Типы идентификаторов: {', '.join(catalog_names.type.unique())}\\n\")\n",
    "print(f\"Уникальных альбомов: {catalog_names[catalog_names['type']=='album']['id'].nunique():,.0f}\")\n",
    "print(f\"Уникальных исполнителей: {catalog_names[catalog_names['type']=='artist']['id'].nunique():,.0f}\")\n",
    "print(f\"Уникальных жанров: {catalog_names[catalog_names['type']=='genre']['id'].nunique()}\")\n",
    "print(f\"Уникальных пользователей: {interactions['user_id'].nunique():,.0f}\")\n",
    "print(f\"Уникальных взаимодействий: {len(interactions):,.0f}\\n\")\n",
    "print(f\"Треков без названий альбомов: {len(tracks[tracks.albums.apply(len) == 0])}\")\n",
    "print(f\"Треков без названий исполнителей: {len(tracks[tracks.artists.apply(len) == 0])}\")\n",
    "print(f\"Треков без названий жанров: {len(tracks[tracks.genres.apply(len) == 0])}\\n\")\n",
    "print(f\"Первое событие: {interactions.started_at.min().strftime('%H:%M:%S, %d %B %Y')}\")\n",
    "print(f\"Последнее событие : {interactions.started_at.max().strftime('%H:%M:%S, %d %B %Y')}\\n\")\n",
    "print(f\"Пар пользователь-трек с количеством взаимодействий более 1: {(interactions.groupby(['user_id', 'track_id'])['started_at'].count() > 1).sum()}\")\n",
    "\n",
    "tracks_genres = np.array(sorted([x for x in tracks.explode('genres').genres.unique() if not np.isnan(x)]))\n",
    "catalog_genres = catalog_names[catalog_names.type == 'genre']['id'].unique()\n",
    "\n",
    "print(f\"Количество жанров треков, которых нет в каталоге: {len(set(tracks_genres) - set(catalog_genres))}\")"
   ]
  },
  {
   "cell_type": "markdown",
   "metadata": {},
   "source": [
    "Есть треки без названий, количество их небольшое, эту информацию можно удалить. Названия жанров сами по себе могут быть любыми, поэтому дадим жанрам, которых нет в каталоге, автоматические имена.  \n",
    "Отметим, что все взаимодействия пользователей с треками уникальны, т.е. у нас нет данных не только о том, нравится трек пользователю или нет, но и о том, сколько раз он его прослушал и когда перестал слушать.  \n",
    "Дадим названия для жанров, отсутствующих в каталоге:"
   ]
  },
  {
   "cell_type": "code",
   "execution_count": 10,
   "metadata": {},
   "outputs": [
    {
     "data": {
      "text/html": [
       "<div>\n",
       "<style scoped>\n",
       "    .dataframe tbody tr th:only-of-type {\n",
       "        vertical-align: middle;\n",
       "    }\n",
       "\n",
       "    .dataframe tbody tr th {\n",
       "        vertical-align: top;\n",
       "    }\n",
       "\n",
       "    .dataframe thead th {\n",
       "        text-align: right;\n",
       "    }\n",
       "</style>\n",
       "<table border=\"1\" class=\"dataframe\">\n",
       "  <thead>\n",
       "    <tr style=\"text-align: right;\">\n",
       "      <th></th>\n",
       "      <th>id</th>\n",
       "      <th>type</th>\n",
       "      <th>name</th>\n",
       "    </tr>\n",
       "  </thead>\n",
       "  <tbody>\n",
       "    <tr>\n",
       "      <th>1812496</th>\n",
       "      <td>167</td>\n",
       "      <td>genre</td>\n",
       "      <td>genre_167</td>\n",
       "    </tr>\n",
       "    <tr>\n",
       "      <th>1812497</th>\n",
       "      <td>168</td>\n",
       "      <td>genre</td>\n",
       "      <td>genre_168</td>\n",
       "    </tr>\n",
       "    <tr>\n",
       "      <th>1812498</th>\n",
       "      <td>169</td>\n",
       "      <td>genre</td>\n",
       "      <td>genre_169</td>\n",
       "    </tr>\n",
       "    <tr>\n",
       "      <th>1812499</th>\n",
       "      <td>124</td>\n",
       "      <td>genre</td>\n",
       "      <td>genre_124</td>\n",
       "    </tr>\n",
       "    <tr>\n",
       "      <th>1812500</th>\n",
       "      <td>126</td>\n",
       "      <td>genre</td>\n",
       "      <td>genre_126</td>\n",
       "    </tr>\n",
       "  </tbody>\n",
       "</table>\n",
       "</div>"
      ],
      "text/plain": [
       "          id   type       name\n",
       "1812496  167  genre  genre_167\n",
       "1812497  168  genre  genre_168\n",
       "1812498  169  genre  genre_169\n",
       "1812499  124  genre  genre_124\n",
       "1812500  126  genre  genre_126"
      ]
     },
     "metadata": {},
     "output_type": "display_data"
    },
    {
     "name": "stdout",
     "output_type": "stream",
     "text": [
      "Количество жанров треков, которых нет в каталоге: 0\n"
     ]
    }
   ],
   "source": [
    "for tr in set(tracks_genres) - set(catalog_genres):\n",
    "    catalog_names.loc[len(catalog_names)] = [tr, 'genre', 'genre_' + str(tr)]\n",
    "\n",
    "display(catalog_names.tail())\n",
    "\n",
    "catalog_genres = catalog_names[catalog_names.type == 'genre']['id'].unique()\n",
    "print(f\"Количество жанров треков, которых нет в каталоге: {len(set(tracks_genres) - set(catalog_genres))}\")"
   ]
  },
  {
   "cell_type": "markdown",
   "metadata": {},
   "source": [
    "Таким образом, после удаления строк с отсутствующей информацией, треков с неизвестными названиями у нас не останется.  \n",
    "Датасет с треками требует \"развертывания\", т.е. раскрытия списков по строкам, поэтому удаление данных сделаем позже."
   ]
  },
  {
   "cell_type": "markdown",
   "metadata": {},
   "source": [
    "##### Выводы по этапу 1\n",
    "- Датасеты загружены успешно, пропусков и дубликатов нет\n",
    "- Устранены пробелы в названиях жанров, отмечены треки для удаления\n",
    "- Датасет взаимодействий большой, необходимо использовать решения, разумные с точки зрения памяти и времени вычислений"
   ]
  },
  {
   "cell_type": "markdown",
   "metadata": {},
   "source": [
    "#### Этап 2. Анализ данных и их подготовка\n",
    "##### Анализ распределения количества прослушанных треков и жанров\n",
    "Отметим еще раз наиболее важное обстоятельство - у нас есть данные о начале прослушивания трека пользователем, а не о количестве и не его оценке трека или жанра. Поэтому все последующие выводы о популярности, количестве прослушиваний основаны на том упрощении, что если пользователь начал слушать трек, то он прослушал его ровно один раз, и это является положительной оценкой."
   ]
  },
  {
   "cell_type": "markdown",
   "metadata": {},
   "source": [
    "Получим данные по количеству взаимодействий с треками, выведем топ активных пользователей, затем построим распределение количества треков по пользователям."
   ]
  },
  {
   "cell_type": "code",
   "execution_count": 11,
   "metadata": {},
   "outputs": [
    {
     "name": "stdout",
     "output_type": "stream",
     "text": [
      "Топ-5 пользователей\n"
     ]
    },
    {
     "data": {
      "text/html": [
       "<div>\n",
       "<style scoped>\n",
       "    .dataframe tbody tr th:only-of-type {\n",
       "        vertical-align: middle;\n",
       "    }\n",
       "\n",
       "    .dataframe tbody tr th {\n",
       "        vertical-align: top;\n",
       "    }\n",
       "\n",
       "    .dataframe thead th {\n",
       "        text-align: right;\n",
       "    }\n",
       "</style>\n",
       "<table border=\"1\" class=\"dataframe\">\n",
       "  <thead>\n",
       "    <tr style=\"text-align: right;\">\n",
       "      <th></th>\n",
       "      <th>user_id</th>\n",
       "      <th>num_tracks</th>\n",
       "    </tr>\n",
       "  </thead>\n",
       "  <tbody>\n",
       "    <tr>\n",
       "      <th>0</th>\n",
       "      <td>398979</td>\n",
       "      <td>16637</td>\n",
       "    </tr>\n",
       "    <tr>\n",
       "      <th>1</th>\n",
       "      <td>1200889</td>\n",
       "      <td>15392</td>\n",
       "    </tr>\n",
       "    <tr>\n",
       "      <th>2</th>\n",
       "      <td>590868</td>\n",
       "      <td>15136</td>\n",
       "    </tr>\n",
       "    <tr>\n",
       "      <th>3</th>\n",
       "      <td>731216</td>\n",
       "      <td>13223</td>\n",
       "    </tr>\n",
       "    <tr>\n",
       "      <th>4</th>\n",
       "      <td>339714</td>\n",
       "      <td>12768</td>\n",
       "    </tr>\n",
       "  </tbody>\n",
       "</table>\n",
       "</div>"
      ],
      "text/plain": [
       "   user_id  num_tracks\n",
       "0   398979       16637\n",
       "1  1200889       15392\n",
       "2   590868       15136\n",
       "3   731216       13223\n",
       "4   339714       12768"
      ]
     },
     "execution_count": 11,
     "metadata": {},
     "output_type": "execute_result"
    }
   ],
   "source": [
    "listen_counts = interactions.groupby('user_id')['track_id'].count().reset_index().rename(columns={'track_id': 'num_tracks'})\n",
    "\n",
    "print('Топ-5 пользователей')\n",
    "listen_counts.sort_values(by='num_tracks', ascending=False)[:5].reset_index(drop=True)"
   ]
  },
  {
   "cell_type": "code",
   "execution_count": 12,
   "metadata": {},
   "outputs": [
    {
     "data": {
      "image/png": "[encoded data removed]",
      "text/plain": [
       "<Figure size 2000x800 with 4 Axes>"
      ]
     },
     "metadata": {},
     "output_type": "display_data"
    }
   ],
   "source": [
    "fig, ax = plt.subplots(nrows = 3,ncols= 1, sharex=True, figsize=(20, 8), gridspec_kw={'height_ratios': [1, 3, 3]})\n",
    "plt.suptitle('Распределение количества прослушанных треков')\n",
    "\n",
    "plt.subplot(311)\n",
    "plt.title('Диаграмма размаха количества треков')\n",
    "plt.boxplot(listen_counts['num_tracks'], vert=False,  patch_artist=True, tick_labels=[''], flierprops={'marker': '.', 'markersize': 2})\n",
    "\n",
    "plt.subplot(312)\n",
    "plt.title('Гистограмма количества треков')\n",
    "plt.hist(listen_counts['num_tracks'], bins=100)\n",
    "plt.table(\n",
    "    cellText=[[x, f\"{y:,.0f}\"] for x, y in listen_counts['num_tracks'].describe(percentiles=[.01, .25, .5, .75, .99]).to_dict().items()], \n",
    "    colLabels=[\"Статистика\", \"Значение\"], \n",
    "    colWidths = [0.1,0.1], loc='center right'\n",
    ")\n",
    "\n",
    "plt.subplot(313)\n",
    "plt.title('Гистограмма количества треков в log шкале')\n",
    "plt.hist(listen_counts['num_tracks'], bins=100, log=True, label=f\"median = {int(listen_counts.num_tracks.median())}\")\n",
    "plt.legend()\n",
    "\n",
    "fig.add_subplot(1, 1, 1, frame_on=False)\n",
    "plt.tick_params(labelcolor=\"none\", bottom=False, left=False)\n",
    "plt.xlabel('Количество треков')\n",
    "plt.ylabel('Количество пользователей')\n",
    "plt.tight_layout()\n",
    "plt.show()"
   ]
  },
  {
   "cell_type": "markdown",
   "metadata": {},
   "source": [
    "Распределение сильно скошено вправо, основная масса пользователей начало слушать за год от 1 до нескольких сотен треков (медиана = 55), то есть в среднем пользователи выбирали меньше одного нового трека в день. Можно посчитать, что пользователи с количеством новых треков более ~ 350 являются выбросами.  \n",
    "Чуть более детальное представление дает логарифмическая гистограмма."
   ]
  },
  {
   "cell_type": "code",
   "execution_count": 13,
   "metadata": {},
   "outputs": [
    {
     "data": {
      "image/png": "[encoded data removed]",
      "text/plain": [
       "<Figure size 1000x400 with 1 Axes>"
      ]
     },
     "metadata": {},
     "output_type": "display_data"
    }
   ],
   "source": [
    "plt.figure(figsize=(10, 4))\n",
    "plt.title('Гистограмма количества треков (log x)')\n",
    "plt.xlabel('Количество треков в log шкале')\n",
    "plt.ylabel('Количество пользователей')\n",
    "\n",
    "start, stop = np.log10(min(listen_counts['num_tracks'])), np.log10(max(listen_counts['num_tracks']))\n",
    "bins = 10 ** np.linspace(start, stop, 10)\n",
    "plt.hist(listen_counts['num_tracks'], bins=bins, log=False)\n",
    "\n",
    "plt.xscale('log')\n",
    "plt.show()"
   ]
  },
  {
   "cell_type": "markdown",
   "metadata": {},
   "source": [
    "По меткам даты можно посмотреть взаимодействия в течение года (по неделям)."
   ]
  },
  {
   "cell_type": "code",
   "execution_count": 14,
   "metadata": {},
   "outputs": [
    {
     "data": {
      "image/png": "[encoded data removed]",
      "text/plain": [
       "<Figure size 2000x600 with 1 Axes>"
      ]
     },
     "metadata": {},
     "output_type": "display_data"
    }
   ],
   "source": [
    "# < 2 min\n",
    "interactions_by_weeks = interactions.groupby(pd.Grouper(key='started_at', freq='W')).size().reset_index(name='num_tracks')\n",
    "\n",
    "plt.figure(figsize=(20, 6))\n",
    "week_list = interactions_by_weeks['started_at'].dt.strftime('%W').astype(int)\n",
    "#plt.bar(interactions_by_weeks['started_at'].dt.strftime('%W').astype(int), interactions_by_weeks['num_tracks'])\n",
    "plt.bar(week_list, interactions_by_weeks['num_tracks'])\n",
    "plt.xlabel('Недели 2022')\n",
    "plt.ylabel('Количество треков')\n",
    "plt.title('Распределение количества треков по неделям')\n",
    "plt.xticks(np.arange(len(week_list)))\n",
    "plt.show()"
   ]
  },
  {
   "cell_type": "markdown",
   "metadata": {},
   "source": [
    "Количество взаимодействий в течение года увеличивается, датасет не дает объяснения причины такой тенденции.  \n",
    "Можно предположить, что это связано с развитием сервиса, а именно, появлением новых клиентов и увеличением общей активности.  \n",
    "  \n",
    "Немного сократим датасет interactions, удалив столбец с нумерацией треков для пользователя (при желании, его можно получить с точностью до порядка взаимодействий в одном дне) и изменим имя столбца даты на более лаконичное.  \n",
    "  \n",
    "Заодно и создадим уникальные индексы."
   ]
  },
  {
   "cell_type": "code",
   "execution_count": 15,
   "metadata": {},
   "outputs": [
    {
     "name": "stdout",
     "output_type": "stream",
     "text": [
      "<class 'pandas.core.frame.DataFrame'>\n",
      "RangeIndex: 222629898 entries, 0 to 222629897\n",
      "Data columns (total 3 columns):\n",
      " #   Column    Dtype         \n",
      "---  ------    -----         \n",
      " 0   user_id   int32         \n",
      " 1   track_id  int32         \n",
      " 2   date      datetime64[ns]\n",
      "dtypes: datetime64[ns](1), int32(2)\n",
      "memory usage: 3.3 GB\n"
     ]
    }
   ],
   "source": [
    "interactions.drop('track_seq', axis=1, inplace=True)\n",
    "interactions.rename(columns={'started_at': 'date'}, inplace=True)\n",
    "interactions.reset_index(drop=True, inplace=True)\n",
    "interactions.info()"
   ]
  },
  {
   "cell_type": "markdown",
   "metadata": {},
   "source": [
    "##### Поиск наболее популярных треков\n",
    "Сначала сделаем большое преобразование - раскроем списки в данных о треках в строки датасета."
   ]
  },
  {
   "cell_type": "code",
   "execution_count": 16,
   "metadata": {},
   "outputs": [],
   "source": [
    "tracks_original = tracks.copy()\n",
    "\n",
    "for col in ['albums', 'artists', 'genres']:\n",
    "    tracks = tracks.explode(col)\n",
    "\n",
    "tracks = tracks.reset_index(drop=True)"
   ]
  },
  {
   "cell_type": "markdown",
   "metadata": {},
   "source": [
    "Теперь извлечем данные для каждого трека из каталога."
   ]
  },
  {
   "cell_type": "code",
   "execution_count": 17,
   "metadata": {},
   "outputs": [
    {
     "data": {
      "text/html": [
       "<div>\n",
       "<style scoped>\n",
       "    .dataframe tbody tr th:only-of-type {\n",
       "        vertical-align: middle;\n",
       "    }\n",
       "\n",
       "    .dataframe tbody tr th {\n",
       "        vertical-align: top;\n",
       "    }\n",
       "\n",
       "    .dataframe thead th {\n",
       "        text-align: right;\n",
       "    }\n",
       "</style>\n",
       "<table border=\"1\" class=\"dataframe\">\n",
       "  <thead>\n",
       "    <tr style=\"text-align: right;\">\n",
       "      <th></th>\n",
       "      <th>track_id</th>\n",
       "      <th>name</th>\n",
       "      <th>artist</th>\n",
       "      <th>genre</th>\n",
       "    </tr>\n",
       "  </thead>\n",
       "  <tbody>\n",
       "    <tr>\n",
       "      <th>0</th>\n",
       "      <td>26</td>\n",
       "      <td>Complimentary Me</td>\n",
       "      <td>[Elizabeth &amp; the Catapult]</td>\n",
       "      <td>[pop, folk]</td>\n",
       "    </tr>\n",
       "    <tr>\n",
       "      <th>1</th>\n",
       "      <td>38</td>\n",
       "      <td>Momma's Boy</td>\n",
       "      <td>[Elizabeth &amp; the Catapult]</td>\n",
       "      <td>[pop, folk]</td>\n",
       "    </tr>\n",
       "    <tr>\n",
       "      <th>2</th>\n",
       "      <td>135</td>\n",
       "      <td>Atticus</td>\n",
       "      <td>[Noisettes]</td>\n",
       "      <td>[pop]</td>\n",
       "    </tr>\n",
       "    <tr>\n",
       "      <th>3</th>\n",
       "      <td>136</td>\n",
       "      <td>24 Hours</td>\n",
       "      <td>[Noisettes]</td>\n",
       "      <td>[pop]</td>\n",
       "    </tr>\n",
       "    <tr>\n",
       "      <th>4</th>\n",
       "      <td>138</td>\n",
       "      <td>Don't Upset The Rhythm (Go Baby Go)</td>\n",
       "      <td>[Noisettes]</td>\n",
       "      <td>[pop]</td>\n",
       "    </tr>\n",
       "  </tbody>\n",
       "</table>\n",
       "</div>"
      ],
      "text/plain": [
       "   track_id                                 name                      artist  \\\n",
       "0        26                     Complimentary Me  [Elizabeth & the Catapult]   \n",
       "1        38                          Momma's Boy  [Elizabeth & the Catapult]   \n",
       "2       135                              Atticus                 [Noisettes]   \n",
       "3       136                             24 Hours                 [Noisettes]   \n",
       "4       138  Don't Upset The Rhythm (Go Baby Go)                 [Noisettes]   \n",
       "\n",
       "         genre  \n",
       "0  [pop, folk]  \n",
       "1  [pop, folk]  \n",
       "2        [pop]  \n",
       "3        [pop]  \n",
       "4        [pop]  "
      ]
     },
     "execution_count": 17,
     "metadata": {},
     "output_type": "execute_result"
    }
   ],
   "source": [
    "# < 2 min\n",
    "genres = catalog_names[catalog_names['type'] == 'genre'].drop('type', axis=1).reset_index(drop=True)\n",
    "artists = catalog_names[catalog_names['type'] == 'artist'].drop('type', axis=1).reset_index(drop=True)\n",
    "tracks_names = catalog_names[catalog_names['type'] == 'track'].drop('type', axis=1).reset_index(drop=True)\n",
    "\n",
    "track_data = (tracks\n",
    "    .merge(tracks_names, left_on='track_id', right_on='id')\n",
    "    .merge(artists, left_on='artists', right_on='id')\n",
    "    .merge(genres, left_on='genres', right_on='id')\n",
    "    .drop(['albums', 'artists', 'genres', 'id_x', 'id_y', 'id'], axis=1)\n",
    "    .rename(columns={'name_x': 'name', 'name_y': 'artist', 'name': 'genre'})\n",
    "    .drop_duplicates()\n",
    "    .reset_index(drop=True)\n",
    "    )\n",
    "\n",
    "track_grouped_data = (tracks\n",
    "    .merge(track_data)\n",
    "    .groupby(['track_id', 'name']).agg({'artist': lambda x: list(x.unique()), 'genre': lambda x: list(x.unique())})\n",
    "    .reset_index())\n",
    "\n",
    "track_grouped_data.head()"
   ]
  },
  {
   "cell_type": "code",
   "execution_count": 18,
   "metadata": {},
   "outputs": [
    {
     "name": "stdout",
     "output_type": "stream",
     "text": [
      "Top-10 tracks\n"
     ]
    },
    {
     "data": {
      "text/html": [
       "<div>\n",
       "<style scoped>\n",
       "    .dataframe tbody tr th:only-of-type {\n",
       "        vertical-align: middle;\n",
       "    }\n",
       "\n",
       "    .dataframe tbody tr th {\n",
       "        vertical-align: top;\n",
       "    }\n",
       "\n",
       "    .dataframe thead th {\n",
       "        text-align: right;\n",
       "    }\n",
       "</style>\n",
       "<table border=\"1\" class=\"dataframe\">\n",
       "  <thead>\n",
       "    <tr style=\"text-align: right;\">\n",
       "      <th></th>\n",
       "      <th>track</th>\n",
       "      <th>artist</th>\n",
       "      <th>album</th>\n",
       "      <th>genre</th>\n",
       "    </tr>\n",
       "  </thead>\n",
       "  <tbody>\n",
       "    <tr>\n",
       "      <th>0</th>\n",
       "      <td>Believer</td>\n",
       "      <td>Imagine Dragons</td>\n",
       "      <td>Shape Of Pop, NOW That's What I Call Music, Ev...</td>\n",
       "      <td>rock, allrock</td>\n",
       "    </tr>\n",
       "    <tr>\n",
       "      <th>1</th>\n",
       "      <td>I Got Love</td>\n",
       "      <td>Miyagi &amp; Эндшпиль, Рем Дигга</td>\n",
       "      <td>I Got Love</td>\n",
       "      <td>rusrap, rap</td>\n",
       "    </tr>\n",
       "    <tr>\n",
       "      <th>2</th>\n",
       "      <td>In The End</td>\n",
       "      <td>Tommee Profitt, Fleurie, Mellen Gi</td>\n",
       "      <td>Tik Tock HITS 2021  Viral Italia, In the End, ...</td>\n",
       "      <td>rnb</td>\n",
       "    </tr>\n",
       "    <tr>\n",
       "      <th>3</th>\n",
       "      <td>Life</td>\n",
       "      <td>Zivert</td>\n",
       "      <td>Life, Made in Russia, Fresh Dance, Учителя (Му...</td>\n",
       "      <td>pop, ruspop</td>\n",
       "    </tr>\n",
       "    <tr>\n",
       "      <th>4</th>\n",
       "      <td>Numb</td>\n",
       "      <td>Linkin Park</td>\n",
       "      <td>Meteora, 00s Rock Anthems</td>\n",
       "      <td>numetal, metal</td>\n",
       "    </tr>\n",
       "    <tr>\n",
       "      <th>5</th>\n",
       "      <td>Shape Of My Heart</td>\n",
       "      <td>Sting</td>\n",
       "      <td>Ten Summoner's Tales, 25 Years, The Best Of 25...</td>\n",
       "      <td>rock, allrock, pop</td>\n",
       "    </tr>\n",
       "    <tr>\n",
       "      <th>6</th>\n",
       "      <td>Shape of You</td>\n",
       "      <td>Ed Sheeran</td>\n",
       "      <td>Shape of You, ÷, Summer Vibes, Pop</td>\n",
       "      <td>pop</td>\n",
       "    </tr>\n",
       "    <tr>\n",
       "      <th>7</th>\n",
       "      <td>Smells Like Teen Spirit</td>\n",
       "      <td>Nirvana</td>\n",
       "      <td>Nevermind, Nirvana, Skiing Music, Smells Like ...</td>\n",
       "      <td>alternative, rock, allrock</td>\n",
       "    </tr>\n",
       "    <tr>\n",
       "      <th>8</th>\n",
       "      <td>Way Down We Go</td>\n",
       "      <td>KALEO</td>\n",
       "      <td>Way down We Go, Summer Music 2016, A/B, DFM Da...</td>\n",
       "      <td>indie</td>\n",
       "    </tr>\n",
       "    <tr>\n",
       "      <th>9</th>\n",
       "      <td>Юность</td>\n",
       "      <td>Dabro</td>\n",
       "      <td>Юность</td>\n",
       "      <td>pop, ruspop</td>\n",
       "    </tr>\n",
       "  </tbody>\n",
       "</table>\n",
       "</div>"
      ],
      "text/plain": [
       "                     track                              artist  \\\n",
       "0                 Believer                     Imagine Dragons   \n",
       "1               I Got Love        Miyagi & Эндшпиль, Рем Дигга   \n",
       "2               In The End  Tommee Profitt, Fleurie, Mellen Gi   \n",
       "3                     Life                              Zivert   \n",
       "4                     Numb                         Linkin Park   \n",
       "5        Shape Of My Heart                               Sting   \n",
       "6             Shape of You                          Ed Sheeran   \n",
       "7  Smells Like Teen Spirit                             Nirvana   \n",
       "8           Way Down We Go                               KALEO   \n",
       "9                   Юность                               Dabro   \n",
       "\n",
       "                                               album  \\\n",
       "0  Shape Of Pop, NOW That's What I Call Music, Ev...   \n",
       "1                                         I Got Love   \n",
       "2  Tik Tock HITS 2021  Viral Italia, In the End, ...   \n",
       "3  Life, Made in Russia, Fresh Dance, Учителя (Му...   \n",
       "4                          Meteora, 00s Rock Anthems   \n",
       "5  Ten Summoner's Tales, 25 Years, The Best Of 25...   \n",
       "6                 Shape of You, ÷, Summer Vibes, Pop   \n",
       "7  Nevermind, Nirvana, Skiing Music, Smells Like ...   \n",
       "8  Way down We Go, Summer Music 2016, A/B, DFM Da...   \n",
       "9                                             Юность   \n",
       "\n",
       "                        genre  \n",
       "0               rock, allrock  \n",
       "1                 rusrap, rap  \n",
       "2                         rnb  \n",
       "3                 pop, ruspop  \n",
       "4              numetal, metal  \n",
       "5          rock, allrock, pop  \n",
       "6                         pop  \n",
       "7  alternative, rock, allrock  \n",
       "8                       indie  \n",
       "9                 pop, ruspop  "
      ]
     },
     "metadata": {},
     "output_type": "display_data"
    }
   ],
   "source": [
    "k = 10\n",
    "\n",
    "track_listens = (\n",
    "    interactions\n",
    "    .groupby('track_id')['user_id'].count()\n",
    "    .to_frame()\n",
    "    .rename(columns={'user_id': 'num_listens'}).reset_index()\n",
    ")\n",
    "\n",
    "top_tracks = (\n",
    "    track_listens\n",
    "    .sort_values(by='num_listens', ascending=False)[:k]\n",
    "    .merge(track_grouped_data)\n",
    "    .rename(columns={'user_id': 'total_listens'})\n",
    ")\n",
    "\n",
    "print(f\"Top-{k} tracks\")\n",
    "display(get_top_tracks(tracks.rename(columns={'track_id': 'item_id'}), catalog_names, top_tracks['track_id'].tolist()))"
   ]
  },
  {
   "cell_type": "markdown",
   "metadata": {},
   "source": [
    "##### Поиск наиболее популярных жанров\n",
    "Слияние данных и взаимодействиях занимает много памяти, поэтому используем быструю операцию hstack() для объединения списков и обернем это функцией, чтобы не создавать лишние копии результатов слияния."
   ]
  },
  {
   "cell_type": "code",
   "execution_count": 19,
   "metadata": {},
   "outputs": [],
   "source": [
    "# < 5 min\n",
    "def get_user_genres_count(interactions, tracks):\n",
    "    return (\n",
    "        interactions[['user_id', 'track_id']]\n",
    "        .merge(tracks[['track_id', 'genres']])\n",
    "        .groupby('user_id')['genres']\n",
    "        .apply(lambda x: len(set(np.hstack(x))))\n",
    "        .reset_index()\n",
    "    )\n",
    "\n",
    "user_genres_count = get_user_genres_count(interactions, tracks_original)"
   ]
  },
  {
   "cell_type": "code",
   "execution_count": 20,
   "metadata": {},
   "outputs": [
    {
     "data": {
      "image/png": "[encoded data removed]",
      "text/plain": [
       "<Figure size 2000x600 with 2 Axes>"
      ]
     },
     "metadata": {},
     "output_type": "display_data"
    }
   ],
   "source": [
    "fig, ax = plt.subplots(nrows = 2,ncols= 1, sharex=True, figsize=(20, 6), gridspec_kw={'height_ratios': [1, 3]})\n",
    "\n",
    "plt.suptitle('Распределение количества жанров прослушанных треков')\n",
    "plt.subplot(211)\n",
    "plt.title('Диаграмма размаха количества жанров')\n",
    "plt.boxplot(\n",
    "    user_genres_count['genres'], \n",
    "    vert=False,  \n",
    "    patch_artist=True, \n",
    "    tick_labels=[''], \n",
    "    flierprops={'marker': '.', 'markersize': 2}\n",
    ")\n",
    "\n",
    "plt.subplot(212)\n",
    "plt.title('Гистограмма количества жанров')\n",
    "plt.hist(\n",
    "    user_genres_count['genres'], \n",
    "    bins=40, \n",
    "    label=f\"median = {int(user_genres_count.genres.median())}\"\n",
    ")\n",
    "\n",
    "plt.table(\n",
    "    cellText=[\n",
    "        [x, f\"{y:,.0f}\"] for x, y in user_genres_count['genres']\n",
    "        .describe(percentiles=[.01, .25, .5, .75, .99])\n",
    "        .to_dict().items()\n",
    "    ], \n",
    "    colLabels=[\"Статистика\", \"Значение\"], \n",
    "    colWidths = [0.1,0.1], \n",
    "    loc='center right')\n",
    "\n",
    "plt.xlabel('Количество жанров')\n",
    "plt.ylabel('Количество пользователей')\n",
    "plt.legend()\n",
    "\n",
    "plt.tight_layout()\n",
    "plt.show()"
   ]
  },
  {
   "cell_type": "markdown",
   "metadata": {},
   "source": [
    "Распределение жанров больше похоже на нормальное, пользователи в среднем предпочитают небольшое количество жанров (медиана 16 из 166).  \n",
    "Самыми популярными являются, очевидно, наиболее общие категории."
   ]
  },
  {
   "cell_type": "code",
   "execution_count": 21,
   "metadata": {},
   "outputs": [
    {
     "name": "stdout",
     "output_type": "stream",
     "text": [
      "Топ-10 популярных жанров\n"
     ]
    },
    {
     "data": {
      "text/html": [
       "<style type=\"text/css\">\n",
       "</style>\n",
       "<table id=\"T_2faa2\">\n",
       "  <thead>\n",
       "    <tr>\n",
       "      <th class=\"blank level0\" >&nbsp;</th>\n",
       "      <th id=\"T_2faa2_level0_col0\" class=\"col_heading level0 col0\" >genre</th>\n",
       "      <th id=\"T_2faa2_level0_col1\" class=\"col_heading level0 col1\" >num_listens</th>\n",
       "    </tr>\n",
       "  </thead>\n",
       "  <tbody>\n",
       "    <tr>\n",
       "      <th id=\"T_2faa2_level0_row0\" class=\"row_heading level0 row0\" >0</th>\n",
       "      <td id=\"T_2faa2_row0_col0\" class=\"data row0 col0\" >pop</td>\n",
       "      <td id=\"T_2faa2_row0_col1\" class=\"data row0 col1\" >68,348,053</td>\n",
       "    </tr>\n",
       "    <tr>\n",
       "      <th id=\"T_2faa2_level0_row1\" class=\"row_heading level0 row1\" >1</th>\n",
       "      <td id=\"T_2faa2_row1_col0\" class=\"data row1 col0\" >rap</td>\n",
       "      <td id=\"T_2faa2_row1_col1\" class=\"data row1 col1\" >53,847,977</td>\n",
       "    </tr>\n",
       "    <tr>\n",
       "      <th id=\"T_2faa2_level0_row2\" class=\"row_heading level0 row2\" >2</th>\n",
       "      <td id=\"T_2faa2_row2_col0\" class=\"data row2 col0\" >rusrap</td>\n",
       "      <td id=\"T_2faa2_row2_col1\" class=\"data row2 col1\" >34,133,118</td>\n",
       "    </tr>\n",
       "    <tr>\n",
       "      <th id=\"T_2faa2_level0_row3\" class=\"row_heading level0 row3\" >3</th>\n",
       "      <td id=\"T_2faa2_row3_col0\" class=\"data row3 col0\" >allrock</td>\n",
       "      <td id=\"T_2faa2_row3_col1\" class=\"data row3 col1\" >33,628,489</td>\n",
       "    </tr>\n",
       "    <tr>\n",
       "      <th id=\"T_2faa2_level0_row4\" class=\"row_heading level0 row4\" >4</th>\n",
       "      <td id=\"T_2faa2_row4_col0\" class=\"data row4 col0\" >ruspop</td>\n",
       "      <td id=\"T_2faa2_row4_col1\" class=\"data row4 col1\" >31,831,506</td>\n",
       "    </tr>\n",
       "    <tr>\n",
       "      <th id=\"T_2faa2_level0_row5\" class=\"row_heading level0 row5\" >5</th>\n",
       "      <td id=\"T_2faa2_row5_col0\" class=\"data row5 col0\" >electronics</td>\n",
       "      <td id=\"T_2faa2_row5_col1\" class=\"data row5 col1\" >29,622,279</td>\n",
       "    </tr>\n",
       "    <tr>\n",
       "      <th id=\"T_2faa2_level0_row6\" class=\"row_heading level0 row6\" >6</th>\n",
       "      <td id=\"T_2faa2_row6_col0\" class=\"data row6 col0\" >dance</td>\n",
       "      <td id=\"T_2faa2_row6_col1\" class=\"data row6 col1\" >27,848,368</td>\n",
       "    </tr>\n",
       "    <tr>\n",
       "      <th id=\"T_2faa2_level0_row7\" class=\"row_heading level0 row7\" >7</th>\n",
       "      <td id=\"T_2faa2_row7_col0\" class=\"data row7 col0\" >foreignrap</td>\n",
       "      <td id=\"T_2faa2_row7_col1\" class=\"data row7 col1\" >19,303,267</td>\n",
       "    </tr>\n",
       "    <tr>\n",
       "      <th id=\"T_2faa2_level0_row8\" class=\"row_heading level0 row8\" >8</th>\n",
       "      <td id=\"T_2faa2_row8_col0\" class=\"data row8 col0\" >rock</td>\n",
       "      <td id=\"T_2faa2_row8_col1\" class=\"data row8 col1\" >14,243,655</td>\n",
       "    </tr>\n",
       "    <tr>\n",
       "      <th id=\"T_2faa2_level0_row9\" class=\"row_heading level0 row9\" >9</th>\n",
       "      <td id=\"T_2faa2_row9_col0\" class=\"data row9 col0\" >rusrock</td>\n",
       "      <td id=\"T_2faa2_row9_col1\" class=\"data row9 col1\" >13,973,571</td>\n",
       "    </tr>\n",
       "  </tbody>\n",
       "</table>\n"
      ],
      "text/plain": [
       "<pandas.io.formats.style.Styler at 0x7f48629b2500>"
      ]
     },
     "metadata": {},
     "output_type": "display_data"
    }
   ],
   "source": [
    "k = 10\n",
    "top_genres = (\n",
    "    track_listens\n",
    "    .sort_values(by='num_listens', ascending=False)\n",
    "    .merge(track_data).groupby('genre')['num_listens'].sum().to_frame()\n",
    "    .sort_values(by='num_listens', ascending=False)[:k]\n",
    "    .reset_index()\n",
    ")\n",
    "\n",
    "print(f\"Топ-{k} популярных жанров\")\n",
    "display(top_genres.style.format({'num_listens': '{:,.0f}'}))"
   ]
  },
  {
   "cell_type": "markdown",
   "metadata": {},
   "source": [
    "##### Поиск треков, которые никто не прослушал"
   ]
  },
  {
   "cell_type": "code",
   "execution_count": 22,
   "metadata": {},
   "outputs": [
    {
     "name": "stdout",
     "output_type": "stream",
     "text": [
      "Отличий между уникальными треками (1,000,000) и треками в каталоге (1,000,000): 0\n",
      "Отличий между уникальными треками (1,000,000) и прослушанными треками (1,000,000): 0\n"
     ]
    }
   ],
   "source": [
    "unique_tracks = set(tracks.track_id)\n",
    "listened_tracks = set(interactions.track_id)\n",
    "catalog_tracks = set(catalog_names[catalog_names.type == 'track']['id'])\n",
    "\n",
    "print(\n",
    "    f\"Отличий между уникальными треками ({len(unique_tracks):,.0f}) \"\n",
    "    f\"и треками в каталоге ({len(catalog_tracks):,.0f}): \"\n",
    "    f\"{len(unique_tracks ^ catalog_tracks)}\"\n",
    ")\n",
    "\n",
    "print(\n",
    "    f\"Отличий между уникальными треками ({len(unique_tracks):,.0f}) \"\n",
    "    f\"и прослушанными треками ({len(listened_tracks):,.0f}): \"\n",
    "    f\"{len(unique_tracks ^ listened_tracks)}\"\n",
    ")"
   ]
  },
  {
   "cell_type": "markdown",
   "metadata": {},
   "source": [
    "Как видим, все треки, которые есть во взаимодействиях, присутствуют в датасете треков и каталоге, то есть каждый трек из 1,000,000 был прослушан. Хотя у некоторых треков, как было выяснено, есть пропущенные названия альбомов, жанров, исполнителей.  "
   ]
  },
  {
   "cell_type": "markdown",
   "metadata": {},
   "source": [
    "##### Сохранение данных в виде датасетов items, events и catalog_names на локальном диске и в S3\n",
    "Удалим треки с неполной информацией."
   ]
  },
  {
   "cell_type": "code",
   "execution_count": 23,
   "metadata": {},
   "outputs": [
    {
     "name": "stdout",
     "output_type": "stream",
     "text": [
      "tracks:\n",
      "Записей к удалению: 19023\n",
      "Удалено 1.90 % записей\n"
     ]
    }
   ],
   "source": [
    "tracks_to_drop = tracks[tracks.isna().any(axis=1)]['track_id'].unique()\n",
    "print(\"tracks:\")\n",
    "print(f\"Записей к удалению: {len(tracks_to_drop)}\")\n",
    "\n",
    "tracks = tracks.dropna().reset_index(drop=True)\n",
    "print(f\"Удалено {100 - tracks.track_id.nunique() / 1_000_000 * 100:.2f} % записей\")"
   ]
  },
  {
   "cell_type": "markdown",
   "metadata": {},
   "source": [
    "Чтобы не создавать копии большого датасета, исключим ненужные треки из interactions при сохранении, а пока оценим потери данных."
   ]
  },
  {
   "cell_type": "code",
   "execution_count": 24,
   "metadata": {},
   "outputs": [
    {
     "name": "stdout",
     "output_type": "stream",
     "text": [
      "interactions:\n",
      "Записей к удалению: 445,449\n",
      "Будет удалено 0.20 % записей\n"
     ]
    }
   ],
   "source": [
    "len_interactions = len(interactions)\n",
    "\n",
    "interactions_to_drop = interactions['track_id'].isin(tracks_to_drop)\n",
    "\n",
    "print(\"interactions:\")\n",
    "print(f\"Записей к удалению: {interactions_to_drop.sum():,.0f}\")\n",
    "print(f\"Будет удалено {interactions_to_drop.sum() / len_interactions * 100:.2f} % записей\")"
   ]
  },
  {
   "cell_type": "markdown",
   "metadata": {},
   "source": [
    "Потери минимальны.  \n",
    "Переименуем столбцы 'track_id' в 'item_id' для общности названий.  \n",
    "Сохраним датасеты локально и удаленно."
   ]
  },
  {
   "cell_type": "code",
   "execution_count": 25,
   "metadata": {},
   "outputs": [
    {
     "name": "stdout",
     "output_type": "stream",
     "text": [
      "File parquet/items.parquet uploaded to recsys/data/items.parquet\n",
      "File parquet/events.parquet uploaded to recsys/data/events.parquet\n",
      "\n",
      "Files in recsys/data/ folder:\n",
      "recsys/data/events.parquet\n",
      "recsys/data/items.parquet\n",
      "2 file(s) found.\n"
     ]
    }
   ],
   "source": [
    "tracks.rename(columns={'track_id': 'item_id'}).to_parquet(\"parquet/items.parquet\")\n",
    "interactions[~interactions_to_drop] \\\n",
    "    .rename(columns={'track_id': 'item_id'}) \\\n",
    "    .to_parquet(\"parquet/events.parquet\")\n",
    "catalog_names.to_parquet(\"parquet/catalog_names.parquet\")\n",
    "\n",
    "upload_to_s3(\"parquet/items.parquet\", \"recsys/data/items.parquet\")\n",
    "upload_to_s3(\"parquet/events.parquet\", \"recsys/data/events.parquet\")\n",
    "print()\n",
    "show_s3_folder(\"recsys/data/\")"
   ]
  },
  {
   "cell_type": "code",
   "execution_count": 6,
   "metadata": {},
   "outputs": [
    {
     "name": "stdout",
     "output_type": "stream",
     "text": [
      "File parquet/items.parquet uploaded to recsys/data/items.parquet\n",
      "File parquet/events.parquet uploaded to recsys/data/events.parquet\n",
      "\n",
      "Files in recsys/data/ folder:\n",
      "recsys/data/events.parquet\n",
      "recsys/data/items.parquet\n",
      "2 file(s) found.\n"
     ]
    }
   ],
   "source": [
    "upload_to_s3(\"parquet/items.parquet\", \"recsys/data/items.parquet\")\n",
    "upload_to_s3(\"parquet/events.parquet\", \"recsys/data/events.parquet\")\n",
    "print()\n",
    "show_s3_folder(\"recsys/data/\")"
   ]
  },
  {
   "cell_type": "markdown",
   "metadata": {},
   "source": [
    "Отследим изменения в свободной памяти."
   ]
  },
  {
   "cell_type": "code",
   "execution_count": 26,
   "metadata": {},
   "outputs": [
    {
     "name": "stdout",
     "output_type": "stream",
     "text": [
      "Топ-10 объемных переменных:\n",
      "unique_tracks: 33.6 MB\n",
      "listened_tracks: 33.6 MB\n",
      "catalog_tracks: 33.6 MB\n",
      "listen_counts: 16.5 MB\n",
      "user_genres_count: 16.5 MB\n",
      "artists: 13.2 MB\n",
      "track_listens: 12.0 MB\n",
      "tracks_to_drop: 152.3 kB\n",
      "genres: 14.5 kB\n",
      "_i2: 11.9 kB\n",
      "\n",
      "Общая память: 33.7 GB\n",
      "Доступная память: 26.9 GB\n"
     ]
    }
   ],
   "source": [
    "del interactions, tracks, track_data, tracks_original, catalog_names, track_grouped_data, interactions_to_drop, tracks_names\n",
    "gc.collect()\n",
    "get_mem_usage(10)"
   ]
  },
  {
   "cell_type": "markdown",
   "metadata": {},
   "source": [
    "\"Наших\" объемных переменных нет, но среда выполнения может создавать свои."
   ]
  },
  {
   "cell_type": "markdown",
   "metadata": {},
   "source": [
    "#####  Выводы по этапу 2\n",
    "- Получены распределения количества прослушанных треков и жанров по количеству пользователей\n",
    "- Получены данные о популярных треках и жанрах\n",
    "- Треков, которые никто не прослушал, не обнаружено\n",
    "- Успешно сохранены все данные, локально и удаленно"
   ]
  },
  {
   "cell_type": "markdown",
   "metadata": {},
   "source": [
    "#### Этап 3. Офлайн-рекомендации\n",
    "##### Разбиение данных на тренировочную и тестовую выборки\n",
    "Реализуем концепцию ансамблирования с двухстадийным подходом.  \n",
    "На первой стадии соберем рекомендации от базовых алгоритмов, на второй - будем ранжировать эти рекомендации и генерировать итоговые."
   ]
  },
  {
   "cell_type": "code",
   "execution_count": 27,
   "metadata": {},
   "outputs": [
    {
     "name": "stdout",
     "output_type": "stream",
     "text": [
      "Общая память: 33.7 GB\n",
      "Доступная память: 20.8 GB\n"
     ]
    }
   ],
   "source": [
    "items = load(\"items\")\n",
    "catalog_names = load(\"catalog_names\")\n",
    "events_train, events_test = global_time_split(load(\"events\"), \"2022-12-16\")\n",
    "\n",
    "get_mem_usage()"
   ]
  },
  {
   "cell_type": "markdown",
   "metadata": {},
   "source": [
    "##### Получение трех видов рекомендаций:\n",
    "- top_popular - рекомендация самых популярных треков\n",
    "- personal_als - персональные рекомендации\n",
    "- similar - рекомендации на основе похожих треков"
   ]
  },
  {
   "cell_type": "markdown",
   "metadata": {},
   "source": [
    "Вычислим рекомендации top_popular - самые популярные треки, как треки из датасета взаимодействий с максимальным числом уникальных пользователей."
   ]
  },
  {
   "cell_type": "code",
   "execution_count": 28,
   "metadata": {},
   "outputs": [
    {
     "name": "stdout",
     "output_type": "stream",
     "text": [
      "Топ-5 популярных треков\n"
     ]
    },
    {
     "data": {
      "text/html": [
       "<div>\n",
       "<style scoped>\n",
       "    .dataframe tbody tr th:only-of-type {\n",
       "        vertical-align: middle;\n",
       "    }\n",
       "\n",
       "    .dataframe tbody tr th {\n",
       "        vertical-align: top;\n",
       "    }\n",
       "\n",
       "    .dataframe thead th {\n",
       "        text-align: right;\n",
       "    }\n",
       "</style>\n",
       "<table border=\"1\" class=\"dataframe\">\n",
       "  <thead>\n",
       "    <tr style=\"text-align: right;\">\n",
       "      <th></th>\n",
       "      <th>track</th>\n",
       "      <th>artist</th>\n",
       "      <th>album</th>\n",
       "      <th>genre</th>\n",
       "    </tr>\n",
       "  </thead>\n",
       "  <tbody>\n",
       "    <tr>\n",
       "      <th>0</th>\n",
       "      <td>Believer</td>\n",
       "      <td>Imagine Dragons</td>\n",
       "      <td>Shape Of Pop, NOW That's What I Call Music, Ev...</td>\n",
       "      <td>rock, allrock</td>\n",
       "    </tr>\n",
       "    <tr>\n",
       "      <th>1</th>\n",
       "      <td>I Got Love</td>\n",
       "      <td>Miyagi &amp; Эндшпиль, Рем Дигга</td>\n",
       "      <td>I Got Love</td>\n",
       "      <td>rusrap, rap</td>\n",
       "    </tr>\n",
       "    <tr>\n",
       "      <th>2</th>\n",
       "      <td>Numb</td>\n",
       "      <td>Linkin Park</td>\n",
       "      <td>Meteora, 00s Rock Anthems</td>\n",
       "      <td>numetal, metal</td>\n",
       "    </tr>\n",
       "    <tr>\n",
       "      <th>3</th>\n",
       "      <td>Smells Like Teen Spirit</td>\n",
       "      <td>Nirvana</td>\n",
       "      <td>Nevermind, Nirvana, Skiing Music, Smells Like ...</td>\n",
       "      <td>alternative, rock, allrock</td>\n",
       "    </tr>\n",
       "    <tr>\n",
       "      <th>4</th>\n",
       "      <td>Way Down We Go</td>\n",
       "      <td>KALEO</td>\n",
       "      <td>Way down We Go, Summer Music 2016, A/B, DFM Da...</td>\n",
       "      <td>indie</td>\n",
       "    </tr>\n",
       "  </tbody>\n",
       "</table>\n",
       "</div>"
      ],
      "text/plain": [
       "                     track                        artist  \\\n",
       "0                 Believer               Imagine Dragons   \n",
       "1               I Got Love  Miyagi & Эндшпиль, Рем Дигга   \n",
       "2                     Numb                   Linkin Park   \n",
       "3  Smells Like Teen Spirit                       Nirvana   \n",
       "4           Way Down We Go                         KALEO   \n",
       "\n",
       "                                               album  \\\n",
       "0  Shape Of Pop, NOW That's What I Call Music, Ev...   \n",
       "1                                         I Got Love   \n",
       "2                          Meteora, 00s Rock Anthems   \n",
       "3  Nevermind, Nirvana, Skiing Music, Smells Like ...   \n",
       "4  Way down We Go, Summer Music 2016, A/B, DFM Da...   \n",
       "\n",
       "                        genre  \n",
       "0               rock, allrock  \n",
       "1                 rusrap, rap  \n",
       "2              numetal, metal  \n",
       "3  alternative, rock, allrock  \n",
       "4                       indie  "
      ]
     },
     "metadata": {},
     "output_type": "display_data"
    }
   ],
   "source": [
    "def top_popular_generate():\n",
    "    tracks_popularity = (\n",
    "        events_train\n",
    "        .groupby([\"item_id\"])\n",
    "        .agg(users=(\"user_id\", \"nunique\"))\n",
    "        .sort_values(by='users', ascending=False)\n",
    "        .reset_index()\n",
    "    )\n",
    "\n",
    "    print('Топ-5 популярных треков')\n",
    "    display(\n",
    "        get_top_tracks(\n",
    "            items, catalog_names, \n",
    "            list(tracks_popularity.head().item_id)\n",
    "        )\n",
    "    )\n",
    "\n",
    "    k = 100\n",
    "    save(tracks_popularity[:k], \"top_popular\")\n",
    "\n",
    "\n",
    "top_popular_generate()"
   ]
  },
  {
   "cell_type": "markdown",
   "metadata": {},
   "source": [
    "Персональные рекомендации personal_als получим с помощью алгоритма AlternatingLeastSquares библиотеки implicit.  \n",
    "Для этого нужно последовательно проиндексировать данные и генерировать разреженную матрицу."
   ]
  },
  {
   "cell_type": "code",
   "execution_count": 29,
   "metadata": {},
   "outputs": [
    {
     "data": {
      "application/vnd.jupyter.widget-view+json": {
       "model_id": "90ecf62da2d341108c24f65812d3cf37",
       "version_major": 2,
       "version_minor": 0
      },
      "text/plain": [
       "  0%|          | 0/10 [00:00<?, ?it/s]"
      ]
     },
     "metadata": {},
     "output_type": "display_data"
    }
   ],
   "source": [
    "# < 10 min\n",
    "user_encoder = LabelEncoder()\n",
    "user_encoder.fit(load(\"events\")[\"user_id\"])\n",
    "events_train[\"user_id_enc\"] = user_encoder.transform(events_train[\"user_id\"])\n",
    "events_test[\"user_id_enc\"] = user_encoder.transform(events_test[\"user_id\"])\n",
    "\n",
    "item_encoder = LabelEncoder()\n",
    "item_encoder.fit(items[\"item_id\"])\n",
    "events_train[\"item_id_enc\"] = item_encoder.transform(events_train[\"item_id\"])\n",
    "events_test[\"item_id_enc\"] = item_encoder.transform(events_test[\"item_id\"])\n",
    "\n",
    "user_item_matrix_train = csr_matrix(\n",
    "    (\n",
    "        np.ones(len(events_train), dtype=np.int8),\n",
    "        (events_train['user_id_enc'], events_train['item_id_enc'])\n",
    "    ),\n",
    "    dtype=np.int8\n",
    ")\n",
    "\n",
    "als_model = AlternatingLeastSquares(\n",
    "    factors=20, iterations=10, regularization=0.01, random_state=RANDOM_STATE\n",
    ")\n",
    "\n",
    "als_model.fit(user_item_matrix_train)"
   ]
  },
  {
   "cell_type": "markdown",
   "metadata": {},
   "source": [
    "Данные о взаимодействиях пока не нужны, сохраним их и освободим память."
   ]
  },
  {
   "cell_type": "code",
   "execution_count": 30,
   "metadata": {},
   "outputs": [
    {
     "name": "stdout",
     "output_type": "stream",
     "text": [
      "Общая память: 33.7 GB\n",
      "Доступная память: 28.4 GB\n"
     ]
    }
   ],
   "source": [
    "events_train.drop(['user_id_enc', 'item_id_enc'], axis=1, inplace=True)\n",
    "events_test.drop(['user_id_enc', 'item_id_enc'], axis=1, inplace=True)\n",
    "\n",
    "save(events_train, \"events_train\")\n",
    "save(events_test, \"events_test\")\n",
    "\n",
    "del events_train, events_test\n",
    "\n",
    "get_mem_usage()"
   ]
  },
  {
   "cell_type": "markdown",
   "metadata": {},
   "source": [
    "Сгенерируем по 20 рекомендаций для каждого пользователя с помощью метода recommend(), исключив треки, с которыми было взаимодействие.  \n",
    "Промежуточные результаты сохраним и загрузим методами numpy.  \n",
    "Преобразуем полученные рекомендации в DataFrame и сохраним их в parquet.  \n",
    "Выведем пример рекомендаций для случайного пользователя."
   ]
  },
  {
   "cell_type": "code",
   "execution_count": 31,
   "metadata": {},
   "outputs": [
    {
     "name": "stdout",
     "output_type": "stream",
     "text": [
      "Топ-5 персональных рекомендаций для пользователя 1342756\n"
     ]
    },
    {
     "data": {
      "text/html": [
       "<div>\n",
       "<style scoped>\n",
       "    .dataframe tbody tr th:only-of-type {\n",
       "        vertical-align: middle;\n",
       "    }\n",
       "\n",
       "    .dataframe tbody tr th {\n",
       "        vertical-align: top;\n",
       "    }\n",
       "\n",
       "    .dataframe thead th {\n",
       "        text-align: right;\n",
       "    }\n",
       "</style>\n",
       "<table border=\"1\" class=\"dataframe\">\n",
       "  <thead>\n",
       "    <tr style=\"text-align: right;\">\n",
       "      <th></th>\n",
       "      <th>track</th>\n",
       "      <th>artist</th>\n",
       "      <th>album</th>\n",
       "      <th>genre</th>\n",
       "    </tr>\n",
       "  </thead>\n",
       "  <tbody>\n",
       "    <tr>\n",
       "      <th>0</th>\n",
       "      <td>In The End</td>\n",
       "      <td>Tommee Profitt, Fleurie, Mellen Gi</td>\n",
       "      <td>In the End, Christian TikTok, Trending Now 202...</td>\n",
       "      <td>rnb</td>\n",
       "    </tr>\n",
       "    <tr>\n",
       "      <th>1</th>\n",
       "      <td>Intro</td>\n",
       "      <td>The xx</td>\n",
       "      <td>xx</td>\n",
       "      <td>indie</td>\n",
       "    </tr>\n",
       "    <tr>\n",
       "      <th>2</th>\n",
       "      <td>Opr</td>\n",
       "      <td>Gesaffelstein</td>\n",
       "      <td>Conspiracy Pt.2</td>\n",
       "      <td>electronics, techno</td>\n",
       "    </tr>\n",
       "    <tr>\n",
       "      <th>3</th>\n",
       "      <td>Paris</td>\n",
       "      <td>Else</td>\n",
       "      <td>Paris</td>\n",
       "      <td>electronics</td>\n",
       "    </tr>\n",
       "    <tr>\n",
       "      <th>4</th>\n",
       "      <td>Quick Musical Doodles</td>\n",
       "      <td>Two Feet</td>\n",
       "      <td>First Steps</td>\n",
       "      <td>electronics</td>\n",
       "    </tr>\n",
       "  </tbody>\n",
       "</table>\n",
       "</div>"
      ],
      "text/plain": [
       "                   track                              artist  \\\n",
       "0             In The End  Tommee Profitt, Fleurie, Mellen Gi   \n",
       "1                  Intro                              The xx   \n",
       "2                    Opr                       Gesaffelstein   \n",
       "3                  Paris                                Else   \n",
       "4  Quick Musical Doodles                            Two Feet   \n",
       "\n",
       "                                               album                genre  \n",
       "0  In the End, Christian TikTok, Trending Now 202...                  rnb  \n",
       "1                                                 xx                indie  \n",
       "2                                    Conspiracy Pt.2  electronics, techno  \n",
       "3                                              Paris          electronics  \n",
       "4                                        First Steps          electronics  "
      ]
     },
     "metadata": {},
     "output_type": "display_data"
    },
    {
     "name": "stdout",
     "output_type": "stream",
     "text": [
      "CPU times: user 1h 17min 33s, sys: 17min 59s, total: 1h 35min 33s\n",
      "Wall time: 35min 5s\n"
     ]
    }
   ],
   "source": [
    "%%time\n",
    "# < 35 min\n",
    "\n",
    "user_ids_encoded = range(len(user_encoder.classes_))\n",
    "\n",
    "als_recommendations = als_model.recommend(\n",
    "    user_ids_encoded, \n",
    "    user_item_matrix_train[user_ids_encoded],\n",
    "    filter_already_liked_items=True,\n",
    "    N=20\n",
    ")\n",
    "\n",
    "np.savez(\n",
    "    'als_recommendations.npz', \n",
    "    item_ids_enc=als_recommendations[0], \n",
    "    als_scores=als_recommendations[1]\n",
    ")\n",
    "als_recommendations = np.load('als_recommendations.npz')\n",
    "\n",
    "als_recommendations = pd.DataFrame(\n",
    "    {\n",
    "        \"user_id_enc\": user_ids_encoded,\n",
    "        \"item_id_enc\": als_recommendations['item_ids_enc'].tolist(), \n",
    "        \"score\": als_recommendations['als_scores'].tolist()\n",
    "    }\n",
    ")\n",
    "\n",
    "als_recommendations = als_recommendations.explode([\"item_id_enc\", \"score\"], ignore_index=True)\n",
    "\n",
    "als_recommendations[\"item_id_enc\"] = als_recommendations[\"item_id_enc\"].astype(\"int\")\n",
    "als_recommendations[\"score\"] = als_recommendations[\"score\"].astype(\"float\")\n",
    "\n",
    "als_recommendations[\"user_id\"] = user_encoder.inverse_transform(als_recommendations[\"user_id_enc\"])\n",
    "als_recommendations[\"item_id\"] = item_encoder.inverse_transform(als_recommendations[\"item_id_enc\"])\n",
    "als_recommendations = als_recommendations.drop(columns=[\"user_id_enc\", \"item_id_enc\"])\n",
    "\n",
    "test_user = random.choice(als_recommendations.user_id.unique())\n",
    "k_user = 5\n",
    "\n",
    "print(f\"Топ-{k_user} персональных рекомендаций для пользователя {test_user}\")\n",
    "display(get_top_tracks(items, catalog_names, list(als_recommendations.query('user_id == @test_user').item_id)[:k_user]))\n",
    "\n",
    "save(als_recommendations.rename(columns={'score': 'als_score'})[['user_id', 'item_id', 'als_score']], \"personal_als\")\n",
    "\n",
    "del als_recommendations"
   ]
  },
  {
   "cell_type": "markdown",
   "metadata": {},
   "source": [
    "Аналогичная последовательность и для похожих треков - similar.  \n",
    "Сгенерируем рекомендации (для экономии ресурсов - по 10 для каждого пользователя + 1 - сам трек с похожестью ==1) с помощью метода similar_items().  \n",
    "Промежуточные результаты сохраним и загрузим методами numpy.  \n",
    "Преобразуем полученные рекомендации в DataFrame и сохраним их в parquet.  \n",
    "Выведем пример рекомендаций для случайного трека."
   ]
  },
  {
   "cell_type": "code",
   "execution_count": 32,
   "metadata": {},
   "outputs": [
    {
     "name": "stdout",
     "output_type": "stream",
     "text": [
      "CPU times: user 1h 6min 28s, sys: 28min 37s, total: 1h 35min 5s\n",
      "Wall time: 29min 13s\n"
     ]
    }
   ],
   "source": [
    "%%time\n",
    "# < 31 min\n",
    "item_ids_encoded = range(len(item_encoder.classes_))\n",
    "\n",
    "i2i_recommendations = als_model.similar_items(\n",
    "    item_ids_encoded, N=11\n",
    ")\n",
    "\n",
    "np.savez(\n",
    "    'similar.npz', \n",
    "    i2i_items_ids_enc=i2i_recommendations[0], \n",
    "    i2i_scores=i2i_recommendations[1]\n",
    ")"
   ]
  },
  {
   "cell_type": "code",
   "execution_count": 33,
   "metadata": {},
   "outputs": [
    {
     "name": "stdout",
     "output_type": "stream",
     "text": [
      "Похожие треки для трека 2081954 (первый в списке):\n"
     ]
    },
    {
     "data": {
      "text/html": [
       "<div>\n",
       "<style scoped>\n",
       "    .dataframe tbody tr th:only-of-type {\n",
       "        vertical-align: middle;\n",
       "    }\n",
       "\n",
       "    .dataframe tbody tr th {\n",
       "        vertical-align: top;\n",
       "    }\n",
       "\n",
       "    .dataframe thead th {\n",
       "        text-align: right;\n",
       "    }\n",
       "</style>\n",
       "<table border=\"1\" class=\"dataframe\">\n",
       "  <thead>\n",
       "    <tr style=\"text-align: right;\">\n",
       "      <th></th>\n",
       "      <th>track</th>\n",
       "      <th>artist</th>\n",
       "      <th>album</th>\n",
       "      <th>genre</th>\n",
       "    </tr>\n",
       "  </thead>\n",
       "  <tbody>\n",
       "    <tr>\n",
       "      <th>0</th>\n",
       "      <td>Elfida</td>\n",
       "      <td>Haluk Levent</td>\n",
       "      <td>Akşam Üstü</td>\n",
       "      <td>turkishrock, allrock</td>\n",
       "    </tr>\n",
       "    <tr>\n",
       "      <th>1</th>\n",
       "      <td>Her Şeyim</td>\n",
       "      <td>Pera</td>\n",
       "      <td>Her Şeyim</td>\n",
       "      <td>turkishrock, allrock</td>\n",
       "    </tr>\n",
       "    <tr>\n",
       "      <th>2</th>\n",
       "      <td>Hercai</td>\n",
       "      <td>Çelik</td>\n",
       "      <td>Aşk Şarkılarım 90'lar, Benimle Kal, Best of Çe...</td>\n",
       "      <td>pop, turkishpop</td>\n",
       "    </tr>\n",
       "    <tr>\n",
       "      <th>3</th>\n",
       "      <td>Meni Izlama</td>\n",
       "      <td>Sahar</td>\n",
       "      <td>Meni Izlama</td>\n",
       "      <td>pop, uzbekpop</td>\n",
       "    </tr>\n",
       "    <tr>\n",
       "      <th>4</th>\n",
       "      <td>Rüzgar</td>\n",
       "      <td>Barış Akarsu</td>\n",
       "      <td>Ayrılık Zamansız Gelir</td>\n",
       "      <td>turkishrock, allrock</td>\n",
       "    </tr>\n",
       "    <tr>\n",
       "      <th>5</th>\n",
       "      <td>Sarı Laleler</td>\n",
       "      <td>Mazhar Alanson, MFÖ, Fuat Güner, Özkan Uğur</td>\n",
       "      <td>Agu, 64</td>\n",
       "      <td>turkishrock, allrock</td>\n",
       "    </tr>\n",
       "    <tr>\n",
       "      <th>6</th>\n",
       "      <td>Sevdim Seni Bir Kere</td>\n",
       "      <td>Özdemir Erdoğan</td>\n",
       "      <td>Unutulmayan Besteler Güfteler Dizilerde, Canım...</td>\n",
       "      <td>pop, tvseries, soundtrack</td>\n",
       "    </tr>\n",
       "    <tr>\n",
       "      <th>7</th>\n",
       "      <td>Umid</td>\n",
       "      <td>Botir Zokirov</td>\n",
       "      <td>Избранное</td>\n",
       "      <td>pop, uzbekpop</td>\n",
       "    </tr>\n",
       "    <tr>\n",
       "      <th>8</th>\n",
       "      <td>Unutma meni</td>\n",
       "      <td>Kumush Razzoqova</td>\n",
       "      <td>Избранное</td>\n",
       "      <td>pop, uzbekpop</td>\n",
       "    </tr>\n",
       "    <tr>\n",
       "      <th>9</th>\n",
       "      <td>Yanımda Kal</td>\n",
       "      <td>Harun Kolçak, Gökhan Türkmen</td>\n",
       "      <td>Çeyrek Asır</td>\n",
       "      <td>pop, turkishpop</td>\n",
       "    </tr>\n",
       "    <tr>\n",
       "      <th>10</th>\n",
       "      <td>Zalim (Ellerine Sağlık)</td>\n",
       "      <td>Yalın</td>\n",
       "      <td>Ellerine Sağlık</td>\n",
       "      <td>pop, turkishpop</td>\n",
       "    </tr>\n",
       "  </tbody>\n",
       "</table>\n",
       "</div>"
      ],
      "text/plain": [
       "                      track                                       artist  \\\n",
       "0                    Elfida                                 Haluk Levent   \n",
       "1                 Her Şeyim                                         Pera   \n",
       "2                    Hercai                                        Çelik   \n",
       "3               Meni Izlama                                        Sahar   \n",
       "4                    Rüzgar                                 Barış Akarsu   \n",
       "5              Sarı Laleler  Mazhar Alanson, MFÖ, Fuat Güner, Özkan Uğur   \n",
       "6      Sevdim Seni Bir Kere                              Özdemir Erdoğan   \n",
       "7                      Umid                                Botir Zokirov   \n",
       "8               Unutma meni                             Kumush Razzoqova   \n",
       "9               Yanımda Kal                 Harun Kolçak, Gökhan Türkmen   \n",
       "10  Zalim (Ellerine Sağlık)                                        Yalın   \n",
       "\n",
       "                                                album  \\\n",
       "0                                          Akşam Üstü   \n",
       "1                                           Her Şeyim   \n",
       "2   Aşk Şarkılarım 90'lar, Benimle Kal, Best of Çe...   \n",
       "3                                         Meni Izlama   \n",
       "4                              Ayrılık Zamansız Gelir   \n",
       "5                                             Agu, 64   \n",
       "6   Unutulmayan Besteler Güfteler Dizilerde, Canım...   \n",
       "7                                           Избранное   \n",
       "8                                           Избранное   \n",
       "9                                         Çeyrek Asır   \n",
       "10                                    Ellerine Sağlık   \n",
       "\n",
       "                        genre  \n",
       "0        turkishrock, allrock  \n",
       "1        turkishrock, allrock  \n",
       "2             pop, turkishpop  \n",
       "3               pop, uzbekpop  \n",
       "4        turkishrock, allrock  \n",
       "5        turkishrock, allrock  \n",
       "6   pop, tvseries, soundtrack  \n",
       "7               pop, uzbekpop  \n",
       "8               pop, uzbekpop  \n",
       "9             pop, turkishpop  \n",
       "10            pop, turkishpop  "
      ]
     },
     "metadata": {},
     "output_type": "display_data"
    }
   ],
   "source": [
    "i2i_recommendations = np.load('similar.npz')\n",
    "\n",
    "i2i_recommendations = pd.DataFrame(\n",
    "    {\n",
    "        \"item1_id_enc\": item_ids_encoded,\n",
    "        \"item2_id_enc\": i2i_recommendations['i2i_items_ids_enc'].tolist(), \n",
    "        \"score\": i2i_recommendations['i2i_scores'].tolist()\n",
    "    }\n",
    ")\n",
    "\n",
    "i2i_recommendations = i2i_recommendations.explode([\"item2_id_enc\", \"score\"], ignore_index=True)\n",
    "\n",
    "i2i_recommendations[\"item1_id_enc\"] = i2i_recommendations[\"item1_id_enc\"].astype(\"int\")\n",
    "i2i_recommendations[\"item2_id_enc\"] = i2i_recommendations[\"item2_id_enc\"].astype(\"int\")\n",
    "i2i_recommendations[\"score\"] = i2i_recommendations[\"score\"].astype(\"float\")\n",
    "\n",
    "i2i_recommendations[\"item1_id\"] = item_encoder.inverse_transform(i2i_recommendations[\"item1_id_enc\"])\n",
    "i2i_recommendations[\"item2_id\"] = item_encoder.inverse_transform(i2i_recommendations[\"item2_id_enc\"])\n",
    "i2i_recommendations = i2i_recommendations.drop(columns=[\"item1_id_enc\", \"item2_id_enc\"])\n",
    "\n",
    "random_track = random.choice(items.item_id.unique())\n",
    "\n",
    "print(f\"Похожие треки для трека {random_track} (первый в списке):\")\n",
    "display(\n",
    "    get_top_tracks(\n",
    "        items, \n",
    "        catalog_names, \n",
    "        list(i2i_recommendations.query('item1_id == @random_track').item2_id)\n",
    "    )\n",
    ")\n",
    "\n",
    "i2i_recommendations = i2i_recommendations[\n",
    "    i2i_recommendations.item2_id != i2i_recommendations.item1_id\n",
    "][['item1_id', 'item2_id', 'score']]\n",
    "\n",
    "save(i2i_recommendations, \"similar\")\n",
    "\n",
    "del i2i_recommendations"
   ]
  },
  {
   "cell_type": "markdown",
   "metadata": {},
   "source": [
    "На основе имеющихся данных можно обогатить матрицу user_item_matrix_train.  \n",
    "Можно построить матрицы пользователь-жанр (на основе взаимодействий с треками) и трек-жанр (на основе информации отреках). Перемножение этих матриц даст нам матрицу пользователь-трек, но не с единичными коэфффициентами, а с коэффициентами, отражающими близость пользователей и треков в пространстве жанров как скалярное произведение соответствующих векторов. Также можно построить матрицу, где элементами будут выступать различные бинарные меры сходства.  \n",
    "(Однако для наших данных предварительный расчет такой матрицы имеет высокую сложность (~10^11 - 10^12), хотя она и будет разрежена. Поэтому этот подход стоит применять в офлайн-сервисе, только если добавлять каждый раз новые взаимодействия, а не пересчитывать все заново. Или в онлайн-сервисе, где требуется найти несколько похожих элементов среди 10^6 строк.)"
   ]
  },
  {
   "cell_type": "markdown",
   "metadata": {},
   "source": [
    "##### Сохранение рекомендаций в датасетах\n",
    "Каждый датасет с рекомендациями сохранялся сразу после вычислений командой save() в каталог \"/parquet\":\n",
    "\n",
    "```\n",
    "save(tracks_popularity<...>, \"top_popular\")  \n",
    "save(als_recommendations<...>, \"personal_als\")  \n",
    "save(i2i_recommendations, \"similar\")\n",
    "```"
   ]
  },
  {
   "cell_type": "markdown",
   "metadata": {},
   "source": [
    "##### Построение ранжирующей модели, ранжирование рекомендаций\n",
    "Соберем все полученные рекомендации в один датасет recommendations.  \n",
    "Возьмем за основу последние 25 взаимодействий для каждого пользователя.  \n",
    "Из top_popular также возьмем 25 рекомендаций."
   ]
  },
  {
   "cell_type": "code",
   "execution_count": 34,
   "metadata": {},
   "outputs": [
    {
     "data": {
      "text/html": [
       "<div>\n",
       "<style scoped>\n",
       "    .dataframe tbody tr th:only-of-type {\n",
       "        vertical-align: middle;\n",
       "    }\n",
       "\n",
       "    .dataframe tbody tr th {\n",
       "        vertical-align: top;\n",
       "    }\n",
       "\n",
       "    .dataframe thead th {\n",
       "        text-align: right;\n",
       "    }\n",
       "</style>\n",
       "<table border=\"1\" class=\"dataframe\">\n",
       "  <thead>\n",
       "    <tr style=\"text-align: right;\">\n",
       "      <th></th>\n",
       "      <th>user_id</th>\n",
       "      <th>item_id</th>\n",
       "      <th>als_score</th>\n",
       "      <th>i2i_score</th>\n",
       "      <th>top_score</th>\n",
       "    </tr>\n",
       "  </thead>\n",
       "  <tbody>\n",
       "    <tr>\n",
       "      <th>0</th>\n",
       "      <td>0</td>\n",
       "      <td>33308946</td>\n",
       "      <td>0.007661</td>\n",
       "      <td>NaN</td>\n",
       "      <td>NaN</td>\n",
       "    </tr>\n",
       "    <tr>\n",
       "      <th>1</th>\n",
       "      <td>0</td>\n",
       "      <td>732401</td>\n",
       "      <td>0.006250</td>\n",
       "      <td>NaN</td>\n",
       "      <td>NaN</td>\n",
       "    </tr>\n",
       "    <tr>\n",
       "      <th>2</th>\n",
       "      <td>0</td>\n",
       "      <td>582507</td>\n",
       "      <td>0.006144</td>\n",
       "      <td>NaN</td>\n",
       "      <td>NaN</td>\n",
       "    </tr>\n",
       "  </tbody>\n",
       "</table>\n",
       "</div>"
      ],
      "text/plain": [
       "   user_id   item_id  als_score  i2i_score  top_score\n",
       "0        0  33308946   0.007661        NaN        NaN\n",
       "1        0    732401   0.006250        NaN        NaN\n",
       "2        0    582507   0.006144        NaN        NaN"
      ]
     },
     "metadata": {},
     "output_type": "display_data"
    },
    {
     "name": "stdout",
     "output_type": "stream",
     "text": [
      "Shape: 85,475,589 rows × 5 columns\n",
      "Unique values: user_id: 1372767, item_id: 503062, als_score: 21325627, i2i_score: 556798, top_score: 25\n",
      "\n",
      "Топ-5 объемных переменных:\n",
      "recommendations: 3.1 GB\n",
      "top_recs: 686.4 MB\n",
      "catalog_names: 291.0 MB\n",
      "items: 214.0 MB\n",
      "unique_tracks: 33.6 MB\n",
      "\n",
      "Общая память: 33.7 GB\n",
      "Доступная память: 24.4 GB\n"
     ]
    }
   ],
   "source": [
    "last_events_number = 25\n",
    "k_top_popular = 25\n",
    "\n",
    "als_recommendations = load(\"personal_als\")\n",
    "i2i_recommendations = load(\"similar\")\n",
    "i2i_recommendations = (\n",
    "    i2i_recommendations\n",
    "    .groupby('item1_id').head(1)\n",
    "    .rename(columns={\n",
    "        'score':'i2i_score', \n",
    "        'item1_id':'item_id', \n",
    "        'item2_id':'similar'\n",
    "    })[['item_id', 'similar', 'i2i_score']]\n",
    ")\n",
    "\n",
    "i2i_recommendations = (\n",
    "    load(\"events_train\").drop('date', axis=1)\n",
    "\n",
    "    .groupby('user_id')\n",
    "    .tail(last_events_number)\n",
    "    \n",
    "    .merge(i2i_recommendations, how='left')\n",
    "    .drop(['item_id'], axis=1).rename(columns={'similar': 'item_id'})\n",
    ")\n",
    "\n",
    "recommendations = als_recommendations.merge(\n",
    "    i2i_recommendations, on = ['user_id', 'item_id'], how = 'outer'\n",
    ")\n",
    "\n",
    "del als_recommendations, i2i_recommendations\n",
    "\n",
    "top_popular = load(\"top_popular\")[:k_top_popular]\n",
    "top_popular['top_score'] = top_popular['users']/top_popular['users'].sum()\n",
    "\n",
    "user_ids = recommendations.user_id.unique()\n",
    "top_popular_tracks = top_popular.item_id.tolist()\n",
    "top_popular_score = top_popular.top_score.tolist()\n",
    "\n",
    "top_recs = pd.DataFrame(\n",
    "    {\n",
    "        'user_id': np.repeat(user_ids, k_top_popular),\n",
    "        'item_id': np.tile(top_popular_tracks, len(user_ids)),\n",
    "        'top_score': np.tile(top_popular_score, len(user_ids))\n",
    "    }\n",
    ")\n",
    "\n",
    "recommendations = recommendations.merge(top_recs, on=['user_id', 'item_id'], how = 'outer')\n",
    "\n",
    "save(recommendations, \"recommendations\")\n",
    "recommendations = load(\"recommendations\")\n",
    "\n",
    "xhead(recommendations)\n",
    "print()\n",
    "get_mem_usage(5)"
   ]
  },
  {
   "cell_type": "markdown",
   "metadata": {},
   "source": [
    "Количество пар пользователь-трек, для которых нашлись все типы рекомендаций."
   ]
  },
  {
   "cell_type": "code",
   "execution_count": 35,
   "metadata": {},
   "outputs": [
    {
     "data": {
      "text/html": [
       "<div>\n",
       "<style scoped>\n",
       "    .dataframe tbody tr th:only-of-type {\n",
       "        vertical-align: middle;\n",
       "    }\n",
       "\n",
       "    .dataframe tbody tr th {\n",
       "        vertical-align: top;\n",
       "    }\n",
       "\n",
       "    .dataframe thead th {\n",
       "        text-align: right;\n",
       "    }\n",
       "</style>\n",
       "<table border=\"1\" class=\"dataframe\">\n",
       "  <thead>\n",
       "    <tr style=\"text-align: right;\">\n",
       "      <th></th>\n",
       "      <th>user_id</th>\n",
       "      <th>item_id</th>\n",
       "      <th>als_score</th>\n",
       "      <th>i2i_score</th>\n",
       "      <th>top_score</th>\n",
       "    </tr>\n",
       "  </thead>\n",
       "  <tbody>\n",
       "    <tr>\n",
       "      <th>129</th>\n",
       "      <td>6</td>\n",
       "      <td>53404</td>\n",
       "      <td>0.048597</td>\n",
       "      <td>0.949882</td>\n",
       "      <td>0.055270</td>\n",
       "    </tr>\n",
       "    <tr>\n",
       "      <th>912</th>\n",
       "      <td>45</td>\n",
       "      <td>33311009</td>\n",
       "      <td>0.213154</td>\n",
       "      <td>0.939047</td>\n",
       "      <td>0.050774</td>\n",
       "    </tr>\n",
       "    <tr>\n",
       "      <th>1002</th>\n",
       "      <td>50</td>\n",
       "      <td>45499814</td>\n",
       "      <td>0.188571</td>\n",
       "      <td>0.941094</td>\n",
       "      <td>0.039466</td>\n",
       "    </tr>\n",
       "  </tbody>\n",
       "</table>\n",
       "</div>"
      ],
      "text/plain": [
       "      user_id   item_id  als_score  i2i_score  top_score\n",
       "129         6     53404   0.048597   0.949882   0.055270\n",
       "912        45  33311009   0.213154   0.939047   0.050774\n",
       "1002       50  45499814   0.188571   0.941094   0.039466"
      ]
     },
     "metadata": {},
     "output_type": "display_data"
    },
    {
     "name": "stdout",
     "output_type": "stream",
     "text": [
      "Shape: 115,604 rows × 5 columns\n",
      "Unique values: user_id: 98895, item_id: 16, als_score: 112331, i2i_score: 21, top_score: 16\n"
     ]
    }
   ],
   "source": [
    "xhead(recommendations.dropna())"
   ]
  },
  {
   "cell_type": "markdown",
   "metadata": {},
   "source": [
    "Похожие треки почти не совпадают с рекомендациями, полученными на основе истории пользователя.  \n",
    "Но они позволяют получить новые пары для рекомендаций.  \n",
    "  \n",
    "Три признака для модели ранжирования сгенерированы.  \n",
    "  \n",
    "Качество рекомендаций можно повысить введением дополнительных признаков.  \n",
    "Даже при наших допущениях, когда мы не знаем частоту, с которой пользователь слушает трек и как он его оценивает, тем не менее, дополнительных признаков можно сгенерировать немало.  \n",
    "  \n",
    "Вот некоторые из потенциальных признаков:  \n",
    "- для пользователя:\n",
    "  - статистические: среднее, медиана, стандартное отклонение, min/max и т.д. количества треков, как признак активности пользователя\n",
    "  - то же для жанров, которые выбирает пользователь как признак, отражающий его жанровые предпочтения\n",
    "- для треков - аналогично:\n",
    "  - статистические признаки количества выбравших этот трек пользователей, как признаки популярности трека\n",
    "  - жанровые признаки - количество жанров, принадлежность к самым популярным/непопулярным и т.д.\n",
    "- для взаимодействий, в т.ч. во времени:\n",
    "    - общее время взаимодействия пользователя с сервисом (\"возраст\")  \n",
    "    - динамика изменения вышеуказанных признаков по месяцам, дням\n",
    "    - все вышеуказанные признаки во \"временном окне\", за последние n месяцев или n дней  \n",
    "  \n",
    "Дополнительные признаки также можно вывести и из полученных рекомендаций, например, считать популярные треки не за весь период, а за последний месяц или три, как \"свежие\", или \"набирающие популярность\".  \n",
    "  \n",
    "В общем, генерация этих признаков - тема для отдельной работы, мы просто еще раз подчеркиваем ее важность.  \n",
    "  \n",
    "Вернемся к нашим рекомендациям.  \n",
    "Разделим тестовую выборку на две: первую используем для таргетов обучения ранжирующей модели, вторую - для итоговой валидации."
   ]
  },
  {
   "cell_type": "code",
   "execution_count": 36,
   "metadata": {},
   "outputs": [],
   "source": [
    "events_test = load(\"events_test\")\n",
    "events_test.sort_values(by='date')\n",
    "events_labels, events_test_2 = global_time_split(events_test, \"2022-12-24\")"
   ]
  },
  {
   "cell_type": "markdown",
   "metadata": {},
   "source": [
    "Подготовим данные для ранжирования.  \n",
    "Установим target = 1, если взаимодействие было и 0 в противном случае.  \n",
    "Проведем фильтрацию наблюдений:  \n",
    "- оставим пользователей, у которых есть хотя бы один таргет == 1\n",
    "- уменьшим дисбаланс в таргете: на каждое положительное наблюдение оставим 4 негативных"
   ]
  },
  {
   "cell_type": "code",
   "execution_count": 37,
   "metadata": {},
   "outputs": [
    {
     "name": "stdout",
     "output_type": "stream",
     "text": [
      "Всего записей в обучающем датасете: 1277713\n",
      "Уникальных пользователей: 224867\n",
      "Баланс классов в таргете: 0: 899468, 1: 378245\n"
     ]
    }
   ],
   "source": [
    "# < 5 min\n",
    "negatives_per_user = 4\n",
    "\n",
    "events_labels = events_labels.rename(columns={'track_id': 'item_id'})\n",
    "events_labels[\"target\"] = 1\n",
    "\n",
    "candidates = recommendations.merge(\n",
    "    events_labels[[\"user_id\", \"item_id\", \"target\"]],  \n",
    "    on=[\"user_id\", \"item_id\"], \n",
    "    how='left'\n",
    ")\n",
    "candidates[\"target\"] = candidates[\"target\"].fillna(0).astype(\"int\")\n",
    "\n",
    "candidates = candidates.groupby(\"user_id\").filter(lambda x: x[\"target\"].sum() > 0)\n",
    "\n",
    "candidates = pd.concat([\n",
    "    candidates.query(\"target == 1\"),\n",
    "    candidates.query(\"target == 0\")\n",
    "    .groupby(\"user_id\")\n",
    "    .apply(lambda x: x.sample(negatives_per_user, random_state=RANDOM_STATE))\n",
    "])\n",
    "\n",
    "print(f\"Всего записей в обучающем датасете: {candidates.shape[0]}\")\n",
    "print(f\"Уникальных пользователей: {candidates.user_id.nunique()}\")\n",
    "print(\n",
    "    f\"Баланс классов в таргете: 0: {candidates.target.value_counts()[0]}, \"\n",
    "    f\"1: {candidates.target.value_counts()[1]}\"\n",
    ")"
   ]
  },
  {
   "cell_type": "markdown",
   "metadata": {},
   "source": [
    "Обучим классификатор и получим предсказания модели.  \n",
    "Для каждого пользователя отсортируем предсказания по убыванию score и присвоим ранг."
   ]
  },
  {
   "cell_type": "code",
   "execution_count": 38,
   "metadata": {},
   "outputs": [
    {
     "name": "stdout",
     "output_type": "stream",
     "text": [
      "0:\tlearn: 0.6408808\ttotal: 191ms\tremaining: 3m 11s\n",
      "100:\tlearn: 0.4329523\ttotal: 9.49s\tremaining: 1m 24s\n",
      "200:\tlearn: 0.4302852\ttotal: 18.6s\tremaining: 1m 14s\n",
      "300:\tlearn: 0.4288893\ttotal: 27.7s\tremaining: 1m 4s\n",
      "400:\tlearn: 0.4282195\ttotal: 37.1s\tremaining: 55.4s\n",
      "500:\tlearn: 0.4276598\ttotal: 46.6s\tremaining: 46.5s\n",
      "600:\tlearn: 0.4272451\ttotal: 56s\tremaining: 37.2s\n",
      "700:\tlearn: 0.4269831\ttotal: 1m 5s\tremaining: 27.9s\n",
      "800:\tlearn: 0.4267097\ttotal: 1m 14s\tremaining: 18.6s\n",
      "900:\tlearn: 0.4265355\ttotal: 1m 24s\tremaining: 9.23s\n",
      "999:\tlearn: 0.4263966\ttotal: 1m 33s\tremaining: 0us\n"
     ]
    },
    {
     "data": {
      "text/html": [
       "<div>\n",
       "<style scoped>\n",
       "    .dataframe tbody tr th:only-of-type {\n",
       "        vertical-align: middle;\n",
       "    }\n",
       "\n",
       "    .dataframe tbody tr th {\n",
       "        vertical-align: top;\n",
       "    }\n",
       "\n",
       "    .dataframe thead th {\n",
       "        text-align: right;\n",
       "    }\n",
       "</style>\n",
       "<table border=\"1\" class=\"dataframe\">\n",
       "  <thead>\n",
       "    <tr style=\"text-align: right;\">\n",
       "      <th></th>\n",
       "      <th>user_id</th>\n",
       "      <th>item_id</th>\n",
       "      <th>als_score</th>\n",
       "      <th>i2i_score</th>\n",
       "      <th>top_score</th>\n",
       "      <th>cb_score</th>\n",
       "      <th>rank</th>\n",
       "    </tr>\n",
       "  </thead>\n",
       "  <tbody>\n",
       "    <tr>\n",
       "      <th>56059789</th>\n",
       "      <td>4</td>\n",
       "      <td>57921154</td>\n",
       "      <td>NaN</td>\n",
       "      <td>NaN</td>\n",
       "      <td>0.034213</td>\n",
       "      <td>0.931530</td>\n",
       "      <td>1</td>\n",
       "    </tr>\n",
       "    <tr>\n",
       "      <th>27492419</th>\n",
       "      <td>4</td>\n",
       "      <td>76581161</td>\n",
       "      <td>NaN</td>\n",
       "      <td>0.992716</td>\n",
       "      <td>NaN</td>\n",
       "      <td>0.807002</td>\n",
       "      <td>2</td>\n",
       "    </tr>\n",
       "    <tr>\n",
       "      <th>27492428</th>\n",
       "      <td>4</td>\n",
       "      <td>73008332</td>\n",
       "      <td>NaN</td>\n",
       "      <td>0.992172</td>\n",
       "      <td>NaN</td>\n",
       "      <td>0.799970</td>\n",
       "      <td>3</td>\n",
       "    </tr>\n",
       "  </tbody>\n",
       "</table>\n",
       "</div>"
      ],
      "text/plain": [
       "          user_id   item_id  als_score  i2i_score  top_score  cb_score  rank\n",
       "56059789        4  57921154        NaN        NaN   0.034213  0.931530     1\n",
       "27492419        4  76581161        NaN   0.992716        NaN  0.807002     2\n",
       "27492428        4  73008332        NaN   0.992172        NaN  0.799970     3"
      ]
     },
     "metadata": {},
     "output_type": "display_data"
    },
    {
     "name": "stdout",
     "output_type": "stream",
     "text": [
      "Shape: 34,884,866 rows × 7 columns\n",
      "Unique values: user_id: 570651, item_id: 406421, als_score: 9851767, i2i_score: 443994, top_score: 25, cb_score: 38957, rank: 70\n"
     ]
    }
   ],
   "source": [
    "features = ['als_score', 'i2i_score', 'top_score']\n",
    "target = 'target'\n",
    "\n",
    "train_data = Pool(\n",
    "    data=candidates[features], \n",
    "    label=candidates[target])\n",
    "\n",
    "cb_model = CatBoostClassifier(\n",
    "    iterations=1000,\n",
    "    learning_rate=0.1,\n",
    "    depth=6,\n",
    "    loss_function='Logloss',\n",
    "    verbose=100,\n",
    "    random_seed=RANDOM_STATE\n",
    ")\n",
    "\n",
    "cb_model.fit(train_data)\n",
    "\n",
    "candidates_to_rank = recommendations[\n",
    "    recommendations[\"user_id\"].isin(\n",
    "        events_test_2[\"user_id\"].drop_duplicates()\n",
    "    )\n",
    "]\n",
    "\n",
    "inference_data = Pool(data=candidates_to_rank[features])\n",
    "predictions = cb_model.predict_proba(inference_data)\n",
    "\n",
    "candidates_to_rank[\"cb_score\"] = predictions[:, 1]\n",
    "\n",
    "candidates_to_rank = candidates_to_rank.sort_values([\"user_id\", \"cb_score\"], ascending=[True, False])\n",
    "candidates_to_rank[\"rank\"] = candidates_to_rank.groupby('user_id').cumcount() + 1\n",
    "\n",
    "xhead(candidates_to_rank)"
   ]
  },
  {
   "cell_type": "markdown",
   "metadata": {},
   "source": [
    "##### Получение итоговых рекомендаций и их сохранение в датасете\n",
    "Ранжирование проведено, получены итоговые предсказания.  \n",
    "Ограничим их количество до 100 для каждого пользователя и сохраним."
   ]
  },
  {
   "cell_type": "code",
   "execution_count": 39,
   "metadata": {},
   "outputs": [
    {
     "data": {
      "text/html": [
       "<div>\n",
       "<style scoped>\n",
       "    .dataframe tbody tr th:only-of-type {\n",
       "        vertical-align: middle;\n",
       "    }\n",
       "\n",
       "    .dataframe tbody tr th {\n",
       "        vertical-align: top;\n",
       "    }\n",
       "\n",
       "    .dataframe thead th {\n",
       "        text-align: right;\n",
       "    }\n",
       "</style>\n",
       "<table border=\"1\" class=\"dataframe\">\n",
       "  <thead>\n",
       "    <tr style=\"text-align: right;\">\n",
       "      <th></th>\n",
       "      <th>user_id</th>\n",
       "      <th>item_id</th>\n",
       "      <th>als_score</th>\n",
       "      <th>i2i_score</th>\n",
       "      <th>top_score</th>\n",
       "      <th>cb_score</th>\n",
       "      <th>rank</th>\n",
       "    </tr>\n",
       "  </thead>\n",
       "  <tbody>\n",
       "    <tr>\n",
       "      <th>56059789</th>\n",
       "      <td>4</td>\n",
       "      <td>57921154</td>\n",
       "      <td>NaN</td>\n",
       "      <td>NaN</td>\n",
       "      <td>0.034213</td>\n",
       "      <td>0.931530</td>\n",
       "      <td>1</td>\n",
       "    </tr>\n",
       "    <tr>\n",
       "      <th>27492419</th>\n",
       "      <td>4</td>\n",
       "      <td>76581161</td>\n",
       "      <td>NaN</td>\n",
       "      <td>0.992716</td>\n",
       "      <td>NaN</td>\n",
       "      <td>0.807002</td>\n",
       "      <td>2</td>\n",
       "    </tr>\n",
       "    <tr>\n",
       "      <th>27492428</th>\n",
       "      <td>4</td>\n",
       "      <td>73008332</td>\n",
       "      <td>NaN</td>\n",
       "      <td>0.992172</td>\n",
       "      <td>NaN</td>\n",
       "      <td>0.799970</td>\n",
       "      <td>3</td>\n",
       "    </tr>\n",
       "  </tbody>\n",
       "</table>\n",
       "</div>"
      ],
      "text/plain": [
       "          user_id   item_id  als_score  i2i_score  top_score  cb_score  rank\n",
       "56059789        4  57921154        NaN        NaN   0.034213  0.931530     1\n",
       "27492419        4  76581161        NaN   0.992716        NaN  0.807002     2\n",
       "27492428        4  73008332        NaN   0.992172        NaN  0.799970     3"
      ]
     },
     "metadata": {},
     "output_type": "display_data"
    },
    {
     "name": "stdout",
     "output_type": "stream",
     "text": [
      "Shape: 34,884,866 rows × 7 columns\n",
      "Unique values: user_id: 570651, item_id: 406421, als_score: 9851767, i2i_score: 443994, top_score: 25, cb_score: 38957, rank: 70\n",
      "Общая память: 33.7 GB\n",
      "Доступная память: 20.9 GB\n"
     ]
    }
   ],
   "source": [
    "max_recommendations_per_user = 100\n",
    "recommendations = candidates_to_rank.query(\"rank <= @max_recommendations_per_user\")\n",
    "\n",
    "xhead(recommendations)\n",
    "\n",
    "del candidates_to_rank\n",
    "\n",
    "save(recommendations, \"recommendations\")\n",
    "\n",
    "recommendations = load(\"recommendations\")\n",
    "\n",
    "get_mem_usage()"
   ]
  },
  {
   "cell_type": "markdown",
   "metadata": {},
   "source": [
    "##### Проверка качества рекомендаций с помощью метрик precision@5, recall@5, novelty@5, coverage@5\n",
    "Получим метрики для топ-5 рекомендаций.  \n",
    "(При недостатке памяти ядро может умереть, поэтому в этом случае усечем данные до 4 последних месяцев)"
   ]
  },
  {
   "cell_type": "code",
   "execution_count": 40,
   "metadata": {},
   "outputs": [],
   "source": [
    "critical_vm_size = 16*10**9\n",
    "dates_only_after = pd.Timestamp('2022-09-01')\n",
    "\n",
    "if psutil.virtual_memory().available < critical_vm_size:\n",
    "    events_inference = pd.concat([load(\"events_train\", [('date', '>', dates_only_after)]), events_labels])\n",
    "else:\n",
    "    events_inference = pd.concat([load(\"events_train\"), events_labels])"
   ]
  },
  {
   "cell_type": "markdown",
   "metadata": {},
   "source": [
    "Данные с разметкой получены.  \n",
    "  \n",
    "Традиционные метрики считаются по классическим формулам:\n",
    "$$\n",
    "\\text{Precision (\"Точность\")} = \\frac{\\text{TP}}{\\text{TP} + \\text{FP}}; \\text{Recall (\"Полнота\")} = \\frac{\\text{TP}}{\\text{TP} + \\text{FN}},\n",
    "$$\n",
    "<small>где TP - количество совпадений предсказаний и таргетов, и, соответственно,  \n",
    "FP - неправильные положительные предсказания, FN - неправильные отрицательные предсказания</small>"
   ]
  },
  {
   "cell_type": "markdown",
   "metadata": {},
   "source": [
    "Для \"вторичных\" метрик возьмем самые распространенные формулы:  "
   ]
  },
  {
   "cell_type": "markdown",
   "metadata": {},
   "source": [
    "$$\n",
    "\\small \\text{Novelty (\"Новизна\")} = \\frac{1}{N} \\sum_{i=1}^{N} \\frac{1}{\\text{Популярность}_i},\n",
    "$$\n",
    "<small>где N - общее количество рекомендованных элементов, Популярность - количество уникальных пользователей, которые взаимодействовали с этим элементом.  </small>\n",
    "$$\n",
    "\\small \\text{Item coverage (\"Покрытие элементов\")} = \\frac{\\text{Количество уникальных рекомендаций}}{\\text{Общее количество элементов}}\n",
    "$$  \n",
    "  \n",
    "(Метрика \"покрытие\" может также использоваться в контексте \"покрытие пользователей\")  \n",
    "  \n",
    "Соберем полученные метрики в итоговую таблицу."
   ]
  },
  {
   "cell_type": "code",
   "execution_count": 41,
   "metadata": {},
   "outputs": [
    {
     "data": {
      "text/html": [
       "<div>\n",
       "<style scoped>\n",
       "    .dataframe tbody tr th:only-of-type {\n",
       "        vertical-align: middle;\n",
       "    }\n",
       "\n",
       "    .dataframe tbody tr th {\n",
       "        vertical-align: top;\n",
       "    }\n",
       "\n",
       "    .dataframe thead th {\n",
       "        text-align: right;\n",
       "    }\n",
       "</style>\n",
       "<table border=\"1\" class=\"dataframe\">\n",
       "  <thead>\n",
       "    <tr style=\"text-align: right;\">\n",
       "      <th></th>\n",
       "      <th>score_name</th>\n",
       "      <th>precision</th>\n",
       "      <th>recall</th>\n",
       "      <th>novelty</th>\n",
       "      <th>coverage</th>\n",
       "    </tr>\n",
       "  </thead>\n",
       "  <tbody>\n",
       "    <tr>\n",
       "      <th>0</th>\n",
       "      <td>als_score</td>\n",
       "      <td>0.003204</td>\n",
       "      <td>0.005197</td>\n",
       "      <td>0.193133</td>\n",
       "      <td>0.003572</td>\n",
       "    </tr>\n",
       "    <tr>\n",
       "      <th>1</th>\n",
       "      <td>i2i_score</td>\n",
       "      <td>0.005778</td>\n",
       "      <td>0.009137</td>\n",
       "      <td>0.474677</td>\n",
       "      <td>0.366533</td>\n",
       "    </tr>\n",
       "    <tr>\n",
       "      <th>2</th>\n",
       "      <td>top_score</td>\n",
       "      <td>0.001747</td>\n",
       "      <td>0.001152</td>\n",
       "      <td>0.000002</td>\n",
       "      <td>0.000013</td>\n",
       "    </tr>\n",
       "    <tr>\n",
       "      <th>3</th>\n",
       "      <td>cb_score</td>\n",
       "      <td>0.007614</td>\n",
       "      <td>0.009580</td>\n",
       "      <td>0.492065</td>\n",
       "      <td>0.330412</td>\n",
       "    </tr>\n",
       "  </tbody>\n",
       "</table>\n",
       "</div>"
      ],
      "text/plain": [
       "  score_name  precision    recall   novelty  coverage\n",
       "0  als_score   0.003204  0.005197  0.193133  0.003572\n",
       "1  i2i_score   0.005778  0.009137  0.474677  0.366533\n",
       "2  top_score   0.001747  0.001152  0.000002  0.000013\n",
       "3   cb_score   0.007614  0.009580  0.492065  0.330412"
      ]
     },
     "execution_count": 41,
     "metadata": {},
     "output_type": "execute_result"
    }
   ],
   "source": [
    "res = pd.DataFrame(columns=['score_name', 'precision','recall', 'novelty', 'coverage'])\n",
    "\n",
    "res.loc[len(res)] = get_metrics_for_rec_type(\"als_score\", events_inference, events_test_2, recommendations, top_k=5)\n",
    "res.loc[len(res)] = get_metrics_for_rec_type(\"i2i_score\", events_inference, events_test_2, recommendations, top_k=5)\n",
    "res.loc[len(res)] = get_metrics_for_rec_type(\"top_score\", events_inference, events_test_2, recommendations, top_k=5)\n",
    "res.loc[len(res)] = get_metrics_for_rec_type(\"cb_score\", events_inference, events_test_2, recommendations, top_k=5)\n",
    "\n",
    "res"
   ]
  },
  {
   "cell_type": "markdown",
   "metadata": {},
   "source": [
    "Абсолютные значения небольшие, ведь мы никак не оптимизировали параметры пайплайна подготовки рекомендаций.  \n",
    "Мы не подбирали гиперпараметры моделей, специально не отбирали релевантные данные, не учитывали динамику и статистические показатели.  \n",
    "Но для первых итогов этого достаточно.   \n",
    "В частности, можно оценить относительные значения метрик.  \n",
    "Так, рекомендации i2i на основе похожих треков имеют бОльшие значения метрик, чем als_score, они подходят бОльшему количеству пользователей.  \n",
    "А вот значения метрик популярных треков в разы меньше, новизна и покрытие ожидаемо малы.  \n",
    "  \n",
    "Однако итоговые отранжированные рекомендации показывают лучшие результаты, что свидетельствует о правильности концепции ансамблирования.  "
   ]
  },
  {
   "cell_type": "markdown",
   "metadata": {},
   "source": [
    "##### Внутреннее тестирование\n",
    "Проведем беглое визуальное тестирование персональных рекомендаций для случайного пользователя."
   ]
  },
  {
   "cell_type": "code",
   "execution_count": 42,
   "metadata": {},
   "outputs": [
    {
     "name": "stdout",
     "output_type": "stream",
     "text": [
      "Рекомендации для случайного пользователя 63001\n",
      "ALS (по истории пользователя):\n"
     ]
    },
    {
     "data": {
      "text/html": [
       "<div>\n",
       "<style scoped>\n",
       "    .dataframe tbody tr th:only-of-type {\n",
       "        vertical-align: middle;\n",
       "    }\n",
       "\n",
       "    .dataframe tbody tr th {\n",
       "        vertical-align: top;\n",
       "    }\n",
       "\n",
       "    .dataframe thead th {\n",
       "        text-align: right;\n",
       "    }\n",
       "</style>\n",
       "<table border=\"1\" class=\"dataframe\">\n",
       "  <thead>\n",
       "    <tr style=\"text-align: right;\">\n",
       "      <th></th>\n",
       "      <th>track</th>\n",
       "      <th>artist</th>\n",
       "      <th>album</th>\n",
       "      <th>genre</th>\n",
       "    </tr>\n",
       "  </thead>\n",
       "  <tbody>\n",
       "    <tr>\n",
       "      <th>0</th>\n",
       "      <td>Human</td>\n",
       "      <td>Rag'n'Bone Man</td>\n",
       "      <td>Human, Some Chillout Music, Music Made for Chi...</td>\n",
       "      <td>indie, soundtrack</td>\n",
       "    </tr>\n",
       "    <tr>\n",
       "      <th>1</th>\n",
       "      <td>My Way</td>\n",
       "      <td>Calvin Harris</td>\n",
       "      <td>My Way, I Love Skiing, Летний Хит FM, ADM: Aco...</td>\n",
       "      <td>dance</td>\n",
       "    </tr>\n",
       "    <tr>\n",
       "      <th>2</th>\n",
       "      <td>Shape of You</td>\n",
       "      <td>Ed Sheeran</td>\n",
       "      <td>Shape of You, ÷, Summer Vibes, Pop</td>\n",
       "      <td>pop</td>\n",
       "    </tr>\n",
       "    <tr>\n",
       "      <th>3</th>\n",
       "      <td>Way Down We Go</td>\n",
       "      <td>KALEO</td>\n",
       "      <td>Way down We Go, Summer Music 2016, A/B, DFM Da...</td>\n",
       "      <td>indie</td>\n",
       "    </tr>\n",
       "    <tr>\n",
       "      <th>4</th>\n",
       "      <td>We Don't Talk Anymore</td>\n",
       "      <td>Charlie Puth, Selena Gomez</td>\n",
       "      <td>Nine Track Mind, Autumn Music 2016</td>\n",
       "      <td>pop</td>\n",
       "    </tr>\n",
       "  </tbody>\n",
       "</table>\n",
       "</div>"
      ],
      "text/plain": [
       "                   track                      artist  \\\n",
       "0                  Human              Rag'n'Bone Man   \n",
       "1                 My Way               Calvin Harris   \n",
       "2           Shape of You                  Ed Sheeran   \n",
       "3         Way Down We Go                       KALEO   \n",
       "4  We Don't Talk Anymore  Charlie Puth, Selena Gomez   \n",
       "\n",
       "                                               album              genre  \n",
       "0  Human, Some Chillout Music, Music Made for Chi...  indie, soundtrack  \n",
       "1  My Way, I Love Skiing, Летний Хит FM, ADM: Aco...              dance  \n",
       "2                 Shape of You, ÷, Summer Vibes, Pop                pop  \n",
       "3  Way down We Go, Summer Music 2016, A/B, DFM Da...              indie  \n",
       "4                 Nine Track Mind, Autumn Music 2016                pop  "
      ]
     },
     "metadata": {},
     "output_type": "display_data"
    },
    {
     "name": "stdout",
     "output_type": "stream",
     "text": [
      "i2i (похожие):\n"
     ]
    },
    {
     "data": {
      "text/html": [
       "<div>\n",
       "<style scoped>\n",
       "    .dataframe tbody tr th:only-of-type {\n",
       "        vertical-align: middle;\n",
       "    }\n",
       "\n",
       "    .dataframe tbody tr th {\n",
       "        vertical-align: top;\n",
       "    }\n",
       "\n",
       "    .dataframe thead th {\n",
       "        text-align: right;\n",
       "    }\n",
       "</style>\n",
       "<table border=\"1\" class=\"dataframe\">\n",
       "  <thead>\n",
       "    <tr style=\"text-align: right;\">\n",
       "      <th></th>\n",
       "      <th>track</th>\n",
       "      <th>artist</th>\n",
       "      <th>album</th>\n",
       "      <th>genre</th>\n",
       "    </tr>\n",
       "  </thead>\n",
       "  <tbody>\n",
       "    <tr>\n",
       "      <th>0</th>\n",
       "      <td>#8</td>\n",
       "      <td>Максим Фадеев</td>\n",
       "      <td>Oil Plant</td>\n",
       "      <td>pop, ruspop</td>\n",
       "    </tr>\n",
       "    <tr>\n",
       "      <th>1</th>\n",
       "      <td>Валерия</td>\n",
       "      <td>Валерий Меладзе</td>\n",
       "      <td>Сэра</td>\n",
       "      <td>rusestrada, estrada</td>\n",
       "    </tr>\n",
       "    <tr>\n",
       "      <th>2</th>\n",
       "      <td>Золотистый локон</td>\n",
       "      <td>Валерий Меладзе</td>\n",
       "      <td>Сэра</td>\n",
       "      <td>rusestrada, estrada</td>\n",
       "    </tr>\n",
       "    <tr>\n",
       "      <th>3</th>\n",
       "      <td>Когда заходит солнце</td>\n",
       "      <td>Валерий Меладзе</td>\n",
       "      <td>Самба белого мотылька</td>\n",
       "      <td>rusestrada, estrada</td>\n",
       "    </tr>\n",
       "    <tr>\n",
       "      <th>4</th>\n",
       "      <td>Рассветная</td>\n",
       "      <td>Валерий Меладзе</td>\n",
       "      <td>Всё так и было</td>\n",
       "      <td>rusestrada, estrada</td>\n",
       "    </tr>\n",
       "  </tbody>\n",
       "</table>\n",
       "</div>"
      ],
      "text/plain": [
       "                  track           artist                  album  \\\n",
       "0                    #8    Максим Фадеев              Oil Plant   \n",
       "1               Валерия  Валерий Меладзе                   Сэра   \n",
       "2      Золотистый локон  Валерий Меладзе                   Сэра   \n",
       "3  Когда заходит солнце  Валерий Меладзе  Самба белого мотылька   \n",
       "4            Рассветная  Валерий Меладзе         Всё так и было   \n",
       "\n",
       "                 genre  \n",
       "0          pop, ruspop  \n",
       "1  rusestrada, estrada  \n",
       "2  rusestrada, estrada  \n",
       "3  rusestrada, estrada  \n",
       "4  rusestrada, estrada  "
      ]
     },
     "metadata": {},
     "output_type": "display_data"
    },
    {
     "name": "stdout",
     "output_type": "stream",
     "text": [
      "Итоговые:\n"
     ]
    },
    {
     "data": {
      "text/html": [
       "<div>\n",
       "<style scoped>\n",
       "    .dataframe tbody tr th:only-of-type {\n",
       "        vertical-align: middle;\n",
       "    }\n",
       "\n",
       "    .dataframe tbody tr th {\n",
       "        vertical-align: top;\n",
       "    }\n",
       "\n",
       "    .dataframe thead th {\n",
       "        text-align: right;\n",
       "    }\n",
       "</style>\n",
       "<table border=\"1\" class=\"dataframe\">\n",
       "  <thead>\n",
       "    <tr style=\"text-align: right;\">\n",
       "      <th></th>\n",
       "      <th>track</th>\n",
       "      <th>artist</th>\n",
       "      <th>album</th>\n",
       "      <th>genre</th>\n",
       "    </tr>\n",
       "  </thead>\n",
       "  <tbody>\n",
       "    <tr>\n",
       "      <th>0</th>\n",
       "      <td>Kisses Back</td>\n",
       "      <td>Matthew Koma</td>\n",
       "      <td>Kisses Back, Spring Music 2017, Летний Хит FM,...</td>\n",
       "      <td>pop</td>\n",
       "    </tr>\n",
       "    <tr>\n",
       "      <th>1</th>\n",
       "      <td>One Day Hero</td>\n",
       "      <td>One Day Hero feat. Lions Head</td>\n",
       "      <td>One Day Hero</td>\n",
       "      <td>dance</td>\n",
       "    </tr>\n",
       "    <tr>\n",
       "      <th>2</th>\n",
       "      <td>Sub Pielea Mea</td>\n",
       "      <td>Carla's Dreams</td>\n",
       "      <td>Sub Pielea Mea, Summer Music 2016, Autumn Musi...</td>\n",
       "      <td>dance</td>\n",
       "    </tr>\n",
       "    <tr>\n",
       "      <th>3</th>\n",
       "      <td>Комета</td>\n",
       "      <td>JONY</td>\n",
       "      <td>Комета</td>\n",
       "      <td>pop, ruspop</td>\n",
       "    </tr>\n",
       "    <tr>\n",
       "      <th>4</th>\n",
       "      <td>Только Ты и Я</td>\n",
       "      <td>Дилайс</td>\n",
       "      <td>Только Ты и Я</td>\n",
       "      <td>pop</td>\n",
       "    </tr>\n",
       "  </tbody>\n",
       "</table>\n",
       "</div>"
      ],
      "text/plain": [
       "            track                         artist  \\\n",
       "0     Kisses Back                   Matthew Koma   \n",
       "1    One Day Hero  One Day Hero feat. Lions Head   \n",
       "2  Sub Pielea Mea                 Carla's Dreams   \n",
       "3          Комета                           JONY   \n",
       "4   Только Ты и Я                         Дилайс   \n",
       "\n",
       "                                               album        genre  \n",
       "0  Kisses Back, Spring Music 2017, Летний Хит FM,...          pop  \n",
       "1                                       One Day Hero        dance  \n",
       "2  Sub Pielea Mea, Summer Music 2016, Autumn Musi...        dance  \n",
       "3                                             Комета  pop, ruspop  \n",
       "4                                      Только Ты и Я          pop  "
      ]
     },
     "metadata": {},
     "output_type": "display_data"
    }
   ],
   "source": [
    "user = random.choice(recommendations.user_id.unique())\n",
    "\n",
    "print(f\"Рекомендации для случайного пользователя {user}\")\n",
    "\n",
    "print(f\"ALS (по истории пользователя):\")\n",
    "display(get_top_tracks(load(\"items\"), load(\"catalog_names\"), load(\"personal_als\").query(\"user_id == @user\").item_id.tolist()[:5]))\n",
    "\n",
    "print(f\"i2i (похожие):\")\n",
    "display(get_top_tracks(load(\"items\"), load(\"catalog_names\"), \n",
    "                       events_inference\n",
    "                       .query(\"user_id == @user\")\n",
    "                       .merge(load(\"similar\"), left_on='item_id', right_on='item1_id')['item2_id']\n",
    "                       .tolist()[:5]))\n",
    "\n",
    "print(f\"Итоговые:\")\n",
    "display(get_top_tracks(load(\"items\"), load(\"catalog_names\"), recommendations.query(\"user_id == @user\").item_id.tolist()[:5]))"
   ]
  },
  {
   "cell_type": "markdown",
   "metadata": {},
   "source": [
    "На первый взгляд релевантность присутствует."
   ]
  },
  {
   "cell_type": "markdown",
   "metadata": {},
   "source": [
    "#####  Сохранение рекомендаций в S3"
   ]
  },
  {
   "cell_type": "code",
   "execution_count": 43,
   "metadata": {},
   "outputs": [
    {
     "name": "stdout",
     "output_type": "stream",
     "text": [
      "General Error: An unexpected error occurred: Failed to upload parquet/top_popular.parquet to s3-student-\n",
      "mle-20240325-4062b25c06/recsys/recommendations/top_popular.parquet: An\n",
      "error occurred (BucketMaxSizeExceeded) when calling the PutObject\n",
      "operation: You have attempted to exceed the max size configured for\n",
      "the bucket.\n",
      "General Error: An unexpected error occurred: Failed to upload parquet/similar.parquet to s3-student-\n",
      "mle-20240325-4062b25c06/recsys/recommendations/similar.parquet: An\n",
      "error occurred (BucketMaxSizeExceeded) when calling the UploadPart\n",
      "operation: You have attempted to exceed the max size configured for\n",
      "the bucket.\n",
      "General Error: An unexpected error occurred: Failed to upload parquet/personal_als.parquet to s3-student-\n",
      "mle-20240325-4062b25c06/recsys/recommendations/personal_als.parquet:\n",
      "An error occurred (BucketMaxSizeExceeded) when calling the UploadPart\n",
      "operation: You have attempted to exceed the max size configured for\n",
      "the bucket.\n",
      "General Error: An unexpected error occurred: Failed to upload parquet/recommendations.parquet to s3-student-mle-\n",
      "20240325-4062b25c06/recsys/recommendations/recommendations.parquet: An\n",
      "error occurred (BucketMaxSizeExceeded) when calling the UploadPart\n",
      "operation: You have attempted to exceed the max size configured for\n",
      "the bucket.\n",
      "\n",
      "Files in recsys/recommendations/ folder:\n",
      "recsys/recommendations/personal_als.parquet\n",
      "recsys/recommendations/recommendations.parquet\n",
      "recsys/recommendations/similar.parquet\n",
      "recsys/recommendations/top_popular.parquet\n",
      "4 file(s) found.\n"
     ]
    }
   ],
   "source": [
    "upload_to_s3(\"parquet/top_popular.parquet\", \"recsys/recommendations/top_popular.parquet\")\n",
    "upload_to_s3(\"parquet/similar.parquet\", \"recsys/recommendations/similar.parquet\")\n",
    "upload_to_s3(\"parquet/personal_als.parquet\", \"recsys/recommendations/personal_als.parquet\")\n",
    "upload_to_s3(\"parquet/recommendations.parquet\", \"recsys/recommendations/recommendations.parquet\")\n",
    "print()\n",
    "show_s3_folder(\"recsys/recommendations/\")"
   ]
  },
  {
   "cell_type": "markdown",
   "metadata": {},
   "source": [
    "##### Выводы по этапу 3\n",
    "- Разбиение данных на тренировочную и тестовую выборки проведено успешно, тестовая выборка включает данные за последние 2 недели\n",
    "- Получены рекомендации:\n",
    "    - top_popular - рекомендация самых популярных треков, было подсчитано количество взаимодействий уникальных пользователей с каждым треком,  самые популярные треки были включены в рекомендации\n",
    "    - personal_als - персональные рекомендации, получены с помощью модели для коллаборативной фильтрации ALS на основе исторических данных взаимодействий пользователей с треками; генерация  методом recommend() обученной модели\n",
    "    - similar - рекомендации на основе похожих треков, генерированных этой же моделью методом similar_items()\n",
    "- Датасеты с рекомендациями сохранены в формате parquet\n",
    "- Построена и обучена ранжирующая модель, а именно, бинарный классификатор с градиентным бустингом CatBoost Classifier\n",
    "- Отмечена важность дополнительных признаков, которые можно сгенерировать даже в отсутствии детальных данных взаимодействиях пользователь-трек, их генерация выходит за рамки данной работы  \n",
    "- Результаты инференса модели включены в итоговые рекомендаций, все сохранены в датасете parquet\n",
    "- Проведена проверка качества рекомендаций с помощью метрик precision@5, recall@5, novelty@5, coverage@5. Отмечены небольшие абсолютные значения метрик, дан анализ относительных значений; так, лучшие результаты базовой модели ALS получены на основе рекомендаций похожих треков. Итоговые метрики обосновывают правильность подхода ансамблирования.\n",
    "- Внутреннее тестирование подчеркивает релевантность разных типов рекомендаций\n",
    "- Рекомендации успешно сохранены в S3 для дальнейшего использования"
   ]
  },
  {
   "cell_type": "markdown",
   "metadata": {},
   "source": [
    "#### Подведение итогов и общие выводы\n",
    "- Создан рабочий вариант системы персональных рекомендаций для стримингового сервиса с большим каталогом\n",
    "- Для этого были проведены извлечение данных, исследовательский анализ, использован алгоритм для получения рекомендаций трех типов - топ-популярных, персональных на основе истории взаимодействий и основанных на похожих треках\n",
    "- Был реализована концепция ансамблирования - все базовые рекомендации отранжированы и получены итоговые рекомендации для дальнейшего использования\n",
    "- Качество рекомендаций было оценено с помощью метрик бинарной классификации и вторичных метрик  \n",
    "\n",
    "Пайплайн, изложенный в работе, может быть существенно улучшен по нескольким направлениям:  \n",
    "- получение дополнительной информации о взаимодействиях, их частоте и оценкам, а также для составления улучшенного профиля пользователя\n",
    "- применение других типов рекомендаций из той же библиотеки implicit (например, u2u) для получения дополнительных признаков, генерация матрицы пользователь-трек на основе близости векторов в пространстве жанров\n",
    "- применение похожих библиотек (Surprise, LightFM и др.), использование других алгоритмов нечеткого поиска\n",
    "- использование широкого спектра дополнительных признаков пользователей и треков, а также признаков их взаимодействий  \n",
    "- использование временнОго фактора при генерации признаков и получении рекомендаций\n",
    "- оптимизация параметров генерации рекомендаций (количество рекомендаций для пользователя, фильтрация датасета и т.д.) и гиперпараметров обучения моделей (количество скрытых факторов ALS, параметров бустинга и т.п.)\n",
    "  \n",
    "Таким образом, на основе истории взаимодействий пользователь-трек была построена и оценена система персональных рекомендаций (точнее, пайплайн для их расчета), которая послужит базой для построения онлайн-сервиса рекомендаций и может быть улучшена по ряду направлений."
   ]
  }
 ],
 "metadata": {
  "kernelspec": {
   "display_name": "Python 3 (ipykernel)",
   "language": "python",
   "name": "python3"
  },
  "language_info": {
   "codemirror_mode": {
    "name": "ipython",
    "version": 3
   },
   "file_extension": ".py",
   "mimetype": "text/x-python",
   "name": "python",
   "nbconvert_exporter": "python",
   "pygments_lexer": "ipython3",
   "version": "3.10.12"
  }
 },
 "nbformat": 4,
 "nbformat_minor": 4
}
